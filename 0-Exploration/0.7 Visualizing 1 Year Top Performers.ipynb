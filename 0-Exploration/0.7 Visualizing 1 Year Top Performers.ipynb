{
 "cells": [
  {
   "cell_type": "code",
   "execution_count": null,
   "metadata": {},
   "outputs": [],
   "source": [
    "import pandas as pd\n",
    "import matplotlib.pyplot as plt\n",
    "\n",
    "pd.set_option(\"display.max_rows\", 100)\n",
    "pd.set_option(\"display.max_columns\", 100)"
   ]
  },
  {
   "cell_type": "code",
   "execution_count": null,
   "metadata": {},
   "outputs": [],
   "source": [
    "key_df = pd.read_csv('./data/screens/1yeartopperformers/top100alpha.csv')\n",
    "#key_df.rename({'Unnamed: 0':'SYM'}, axis=1, inplace=True)\n",
    "#key_df.to_csv('./data/screens/volume600k/highmeanreturn_lowstd_top_performers_2_months.csv')\n",
    "key_df.head()"
   ]
  },
  {
   "cell_type": "code",
   "execution_count": null,
   "metadata": {},
   "outputs": [],
   "source": [
    "key_df.head(100)"
   ]
  },
  {
   "cell_type": "code",
   "execution_count": null,
   "metadata": {},
   "outputs": [],
   "source": [
    "data_dir = './data/screens/1yeartopperformers/'\n",
    "tail = '190820.pickle'\n",
    "\n",
    "def load_set(stock, data_dir=data_dir, tail=tail):\n",
    "    df = pd.read_pickle('{}{}{}'.format(data_dir, stock, tail))\n",
    "    return df\n"
   ]
  },
  {
   "cell_type": "code",
   "execution_count": null,
   "metadata": {},
   "outputs": [],
   "source": [
    "top_100 = key_df.sort_values(by='mean', ascending=False)['SYMBOL'].head(100)\n",
    "## Top 100 sorted according to mean return"
   ]
  },
  {
   "cell_type": "code",
   "execution_count": null,
   "metadata": {},
   "outputs": [],
   "source": [
    "top_100 = key_df['SYMBOL'].head(100)"
   ]
  },
  {
   "cell_type": "code",
   "execution_count": null,
   "metadata": {},
   "outputs": [],
   "source": [
    "top_100"
   ]
  },
  {
   "cell_type": "code",
   "execution_count": null,
   "metadata": {
    "scrolled": false
   },
   "outputs": [],
   "source": [
    "fig, axs = plt.subplots(10, 10, figsize=(100,100))\n",
    "\n",
    "for i, sym in enumerate(top_100):\n",
    "    c = divmod(i, 10)\n",
    "    df = load_set(data_dir=data_dir, stock=sym, tail=tail)\n",
    "    axs[c[0], c[1]].plot(df['date'], df['close'], label='Close Price on {}: ${}'.format(df.iloc[0]['date'], df.iloc[0]['close']))\n",
    "    axs[c[0], c[1]].set_title(sym)\n",
    "    axs[c[0], c[1]].set_ylabel('Close Price in $')\n",
    "    axs[c[0], c[1]].set_xlabel('Date')\n",
    "    axs[c[0], c[1]].legend()\n",
    "\n",
    "plt.savefig('./data/images/1yeartop100.png', transparent=False)"
   ]
  },
  {
   "cell_type": "code",
   "execution_count": null,
   "metadata": {},
   "outputs": [],
   "source": []
  },
  {
   "cell_type": "code",
   "execution_count": null,
   "metadata": {},
   "outputs": [],
   "source": [
    "df = load_set('DOCU')"
   ]
  },
  {
   "cell_type": "code",
   "execution_count": null,
   "metadata": {},
   "outputs": [],
   "source": [
    "df.head(1)"
   ]
  },
  {
   "cell_type": "code",
   "execution_count": null,
   "metadata": {},
   "outputs": [],
   "source": [
    "df.iloc[0]"
   ]
  },
  {
   "cell_type": "code",
   "execution_count": null,
   "metadata": {},
   "outputs": [],
   "source": [
    "plt.plot(df['pct_change'])"
   ]
  },
  {
   "cell_type": "code",
   "execution_count": null,
   "metadata": {},
   "outputs": [],
   "source": [
    "df['pct_change'] = df['pct_change'] * 100\n",
    "description = df['pct_change'].describe()"
   ]
  },
  {
   "cell_type": "code",
   "execution_count": null,
   "metadata": {},
   "outputs": [],
   "source": [
    "df['pct_change']"
   ]
  },
  {
   "cell_type": "code",
   "execution_count": null,
   "metadata": {},
   "outputs": [],
   "source": [
    "df['mean'] = description['mean']\n",
    "df['std'] = description['std']\n",
    "df['+1std'] = df['mean'] + df['std'] * 1\n",
    "df['+2std'] = df['mean'] + df['std'] * 2\n",
    "df['-1std'] = df['mean'] - df['std'] * 1\n",
    "df['-2std'] = df['mean'] - df['std'] * 2"
   ]
  },
  {
   "cell_type": "code",
   "execution_count": null,
   "metadata": {},
   "outputs": [],
   "source": [
    "plt.plot(df['date'], df['pct_change'])\n",
    "plt.plot(df['date'], df['mean'], c='r', label='Mean Return {:.2f}%'.format(description['mean']))\n",
    "plt.plot(df['date'], df['+1std'], c='g', linestyle='dashed') \n",
    "plt.plot(df['date'], df['+2std'], c='g', linestyle='dashed') \n",
    "plt.plot(df['date'], df['-1std'], c='g', linestyle='dashed') \n",
    "plt.plot(df['date'], df['-2std'], c='g', linestyle='dashed') \n",
    "plt.legend()"
   ]
  },
  {
   "cell_type": "code",
   "execution_count": null,
   "metadata": {
    "scrolled": false
   },
   "outputs": [],
   "source": [
    "fig, axs = plt.subplots(10, 10, figsize=(100,100))\n",
    "\n",
    "for i, sym in enumerate(top_100):\n",
    "    c = divmod(i, 10)\n",
    "    df = load_set(data_dir=data_dir, stock=sym, tail=tail)\n",
    "    df['pct_change'] = df['pct_change'] * 100\n",
    "    description = df['pct_change'].describe()\n",
    "    df['mean'] = description['mean']\n",
    "    df['std'] = description['std']\n",
    "    df['+1std'] = df['mean'] + df['std'] * 1\n",
    "    df['+2std'] = df['mean'] + df['std'] * 2\n",
    "    df['-1std'] = df['mean'] - df['std'] * 1\n",
    "    df['-2std'] = df['mean'] - df['std'] * 2\n",
    "    \n",
    "    df = df.iloc[-42:]\n",
    "    \n",
    "    axs[c[0], c[1]].plot(df['date'], df['pct_change'])\n",
    "    axs[c[0], c[1]].plot(df['date'], df['mean'], c='r', label='Mean Return {:.2f}%'.format(description['mean']))\n",
    "    axs[c[0], c[1]].plot(df['date'], df['+1std'], c='g', linestyle='dashed', label='Std Dev = {:.2f}%'.format(description['std'])) \n",
    "    axs[c[0], c[1]].plot(df['date'], df['+2std'], c='g', linestyle='dashed') \n",
    "    axs[c[0], c[1]].plot(df['date'], df['-1std'], c='g', linestyle='dashed') \n",
    "    axs[c[0], c[1]].plot(df['date'], df['-2std'], c='g', linestyle='dashed') \n",
    "    \n",
    "    axs[c[0], c[1]].set_title(sym)\n",
    "    axs[c[0], c[1]].set_ylabel('Daily % Change')\n",
    "    axs[c[0], c[1]].set_xlabel('Date')\n",
    "    axs[c[0], c[1]].legend()\n",
    "    \n",
    "#plt.savefig('./data/images/1year_top100_dailyreturns.png', transparent=False)"
   ]
  },
  {
   "cell_type": "markdown",
   "metadata": {},
   "source": [
    "#### Further visualizations\n",
    "\n",
    "Given the above plots, I have two questions in my mind. \n",
    "\n",
    "First, if I subtract the rolling mean from the price in the first chart, what will happen?\n",
    "\n",
    "Second, if I divide the % change by the volume in the second, what will happen? \n",
    "\n",
    "My goal for both of these questions is to discover if there is a clear sinusoidal relationship between time and price. "
   ]
  },
  {
   "cell_type": "markdown",
   "metadata": {},
   "source": [
    "#### Subtract the moving average"
   ]
  },
  {
   "cell_type": "code",
   "execution_count": null,
   "metadata": {},
   "outputs": [],
   "source": [
    "stock = top_100[0]\n",
    "df = load_set(data_dir=data_dir, stock=sym, tail=tail)"
   ]
  },
  {
   "cell_type": "code",
   "execution_count": null,
   "metadata": {},
   "outputs": [],
   "source": [
    "df['rolling30'] = df['close'][::-1].rolling(30).mean()[::-1]\n",
    "df['close-rolling30'] = df['close'] - df['rolling30']\n",
    "\n",
    "plt.plot(df['date'], df['close-rolling30'])"
   ]
  },
  {
   "cell_type": "code",
   "execution_count": null,
   "metadata": {
    "scrolled": true
   },
   "outputs": [],
   "source": [
    "fig, axs = plt.subplots(10, 10, figsize=(100,100))\n",
    "\n",
    "for i, sym in enumerate(top_100):\n",
    "    c = divmod(i, 10)\n",
    "    df = load_set(data_dir=data_dir, stock=sym, tail=tail)\n",
    "    df['rolling30'] = df['close'][::-1].rolling(30).mean()[::-1]\n",
    "    df['close-rolling30'] = df['close'] - df['rolling30']\n",
    "    df['close-rolling30divolume'] = df['close-rolling30'] / df['volume']\n",
    "    axs[c[0], c[1]].plot(df['date'], df['close-rolling30divolume'])\n",
    "    axs[c[0], c[1]].set_title(sym)\n",
    "    axs[c[0], c[1]].set_ylabel('Close Price Minus 30 Day Rolling Average in $')\n",
    "    axs[c[0], c[1]].set_xlabel('Date')\n",
    "    #axs[c[0], c[1]].legend()\n",
    "\n",
    "#plt.savefig('./data/images/1yeartop100.png', transparent=False)"
   ]
  },
  {
   "cell_type": "markdown",
   "metadata": {},
   "source": [
    "#### Divide % Change by volume"
   ]
  },
  {
   "cell_type": "code",
   "execution_count": null,
   "metadata": {},
   "outputs": [],
   "source": [
    "fig, axs = plt.subplots(10, 10, figsize=(100,100))\n",
    "\n",
    "for i, sym in enumerate(top_100):\n",
    "    c = divmod(i, 10)\n",
    "    df = load_set(data_dir=data_dir, stock=sym, tail=tail)\n",
    "    df['pct_change'] = df['pct_change'] * 100\n",
    "    df['pct_change_by_volume'] = df['pct_change'] / df['volume']\n",
    "    description = df['pct_change_by_volume'].describe()\n",
    "    df['mean'] = description['mean']\n",
    "    df['std'] = description['std']\n",
    "    df['+1std'] = df['mean'] + df['std'] * 1\n",
    "    df['+2std'] = df['mean'] + df['std'] * 2\n",
    "    df['-1std'] = df['mean'] - df['std'] * 1\n",
    "    df['-2std'] = df['mean'] - df['std'] * 2\n",
    "    \n",
    "    df = df.iloc[-42:]\n",
    "    axs[c[0], c[1]].plot(df['date'], df['pct_change_by_volume'])\n",
    "    axs[c[0], c[1]].plot(df['date'], df['mean'], c='r', label='Mean Return {:.5f}% Per Volume'.format(description['mean']))\n",
    "    axs[c[0], c[1]].plot(df['date'], df['+1std'], c='g', linestyle='dashed', label='Std Dev = {:.5f}% Per Volume'.format(description['std'])) \n",
    "    axs[c[0], c[1]].plot(df['date'], df['+2std'], c='g', linestyle='dashed') \n",
    "    axs[c[0], c[1]].plot(df['date'], df['-1std'], c='g', linestyle='dashed') \n",
    "    axs[c[0], c[1]].plot(df['date'], df['-2std'], c='g', linestyle='dashed') \n",
    "    \n",
    "    axs[c[0], c[1]].set_title(sym)\n",
    "    axs[c[0], c[1]].set_ylabel('Daily % Change div volume')\n",
    "    axs[c[0], c[1]].set_xlabel('Date')\n",
    "    axs[c[0], c[1]].legend()\n",
    "    \n",
    "#plt.savefig('./data/images/1year_top100_dailyreturns.png', transparent=False)"
   ]
  },
  {
   "cell_type": "code",
   "execution_count": null,
   "metadata": {},
   "outputs": [],
   "source": []
  }
 ],
 "metadata": {
  "kernelspec": {
   "display_name": "Python 3",
   "language": "python",
   "name": "python3"
  },
  "language_info": {
   "codemirror_mode": {
    "name": "ipython",
    "version": 3
   },
   "file_extension": ".py",
   "mimetype": "text/x-python",
   "name": "python",
   "nbconvert_exporter": "python",
   "pygments_lexer": "ipython3",
   "version": "3.7.6"
  }
 },
 "nbformat": 4,
 "nbformat_minor": 4
}
