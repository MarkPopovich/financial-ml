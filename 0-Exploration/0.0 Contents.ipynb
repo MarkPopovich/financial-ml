{
 "cells": [
  {
   "cell_type": "markdown",
   "metadata": {},
   "source": [
    "# Financial ML\n",
    "\n",
    "### <u>Contents</u>\n",
    "\n",
    "#### 0.0  - Exploration\n",
    " \n",
    "[0.1 Exploring Ameritrade API](../0-Exploration/0.1%20Exploring%20Ameritrade%20API.ipynb)  \n",
    "[0.2 Testing API for Instruments](../0-Exploration/0.1%20Exploring%20Ameritrade%20API.ipynb)  \n",
    "[0.3 Tensorflow Sine Waves](../0-Exploration/0.3%20Tensorflow%20Sine%20Waves.ipynb)  \n",
    "[0.4 Exploring 1 Month Top Performers](../0-Exploration/0.4%20Exploring%20Last%20Month's%20Top%20Performers.ipynb)   \n",
    "[0.5 Visualing 1 Month Top Performers](../0-Exploration/0.5%20Visualizing%201%20Month%20Top%20Performers.ipynb)  \n",
    "[0.6 Exploring 1 Year Top Performers](../0-Exploration/0.6%20Exploring%20Last%20Year's%20Top%20Performers.ipynb)   \n",
    "[0.7 Visualizing 1 Year Top Performers](../0-Exploration/0.7%20Visualizing%201%20Year%20Top%20Performers.ipynb)  \n",
    "[0.8 Ameritrade API Streaming Data](../0-Exploration/0.8%20Ameritrade%20API%20Streaming%20Data.ipynb)\n",
    "[0.9 Polygon Historical Data](../0-Exploration/0.9%20Polygon%20Historical%20Data.ipynb)\n",
    "\n",
    "#### 1.0 - Extract, Load, Transform\n",
    "\n",
    "[1.1 Load and Transform](../1-ETL/1.1%20Load%20and%20Transform.ipynb)  \n",
    "[1.2 ETL For Top Performers](../1-ETL/1.2%20ETL%20For%20Top%20Performers.ipynb)    \n",
    "[1.3 ETL for Minute Data 1 Month Top Return](../1-ETL/1.3.1%20ETL%20for%20Minute%20Data%201%20Month%20Top%20Return.ipynb)   \n",
    "[1.4 Download SP500 Minute Data](../1-ETL/1.4%20Download%20SP500%20Minute%20Data.ipynb)  \n",
    "[1.5 Global Volume Dollar Bars](../1-ETL/1.5%20Global%20Volume%20Dollar%20Bars.ipynb)\n",
    " \n",
    "#### 2.0 - Hypothesis Testing\n",
    "\n",
    "[2.1 First Implementation Bayesian Regression](../2-Hypothesis-Testing/2.1%20First%20Implementation%20Bayesian%20Regression.ipynb)  \n",
    "[2.2 Fit Linear Regression and Test for significance of coefficients](../2-Hypothesis-Testing/2.2%20Fit%20Linear%20Regression%20and%20Test%20for%20significance%20of%20coefficients.ipynb)  \n",
    "[2.3 Sine Regression in Macro and Micro Scope](../2-Hypothesis-Testing/2.3%20Sine%20Regression%20in%20Macro%20and%20Micro%20Scope.ipynb)   \n",
    "[2.4 Naive Linear Regression on Top 100](../2-Hypothesis-Testing/2.4%20Naive%20Linear%20Regression%20overlay%20on%20Top%20100%20Performers.ipynb)   \n",
    "[2.5 Hypothesis Testing](../2-Hypothesis-Testing/2.5.2%20Hypothesis%20Testing.ipynb)  \n",
    "[2.6 Augmented Dickey-Fuller Test for Stationarity](../2-Hypothesis-Testing/2.6%20Augmented%20Dickey-Fuller%20Test%20for%20Stationarity.ipynb)  \n",
    "\n",
    "#### 3.0 - Feature Engineering\n",
    "\n",
    "[3.1 Feature Engineering](../3-Feature-Engineering/3.1%20Feature%20Engineering.ipynb)  \n",
    "[3.2 MESA Sine Wave Implementation](../3-Feature-Engineering/3.2%20MESA%20Sine%20Wave%20Implementation.ipynb)    \n",
    "[3.3 Sine Wave Engineering in Multiple Dimensions](../3-Feature-Engineering/3.3.1%20Sine%20Wave%20Feature%20Engineering%20in%20Multiple%20Dimensions.ipynb)  \n",
    "[3.4 Label Target Data](../3-Feature-Engineering/3.4.1%20Label%20Target%20Data.ipynb)   \n",
    "[3.5 Construct X and y Matrices](../3-Feature-Engineering/3.5.1%20Construct%20X%20and%20y%20Matrices.ipynb)   \n",
    "[3.6 Construct TFRecordDataset](../3-Feature-Engineering/3.6%20Construct%20TFRecordDataset.ipynb)\n",
    "\n",
    "#### 4.0 - Modeling\n",
    " \n",
    "[4.1 Build Model](../4-Modeling/4.1%20Build%20Model.ipynb)  \n",
    "[4.2 Densely Connected NN](../4-Modeling/4.2.0%20Densely%20Connected%20NN.ipynb)  \n",
    "[4.3 Desnsely Connected on D2 Labels](../4-Modeling/4.3%20Densely%20Connected%20on%20D2%20labels.ipynb)  \n",
    "[4.4 LSTM on Return Close Target](../4-Modeling/4.4%20LSTM%20on%20Return%20Close%20Target.ipynb)   \n",
    "[4.5 LSTM Model Tuning](../4-Modeling/4.5%20LSTM%20Model%20Tuning%20.ipynb)    \n",
    "[4.6 Validate LSTM Model](../4-Modeling/4.6%20Validate%20LSTM%20Model.ipynb)   \n",
    "[4.7 Design Reinforcement Learning Model](../4-Modeling/4.7%20Design%20Deep%20Reinforcement%20Learning%20Agent.ipynb)   \n",
    "\n",
    "#### 5.0 - Production\n",
    "[5.1 Introduction to Production](../5-Production/5.1%20Introduction%20to%20Production.ipynb)"
   ]
  },
  {
   "cell_type": "code",
   "execution_count": null,
   "metadata": {},
   "outputs": [],
   "source": []
  }
 ],
 "metadata": {
  "kernelspec": {
   "display_name": "Python 3",
   "language": "python",
   "name": "python3"
  },
  "language_info": {
   "codemirror_mode": {
    "name": "ipython",
    "version": 3
   },
   "file_extension": ".py",
   "mimetype": "text/x-python",
   "name": "python",
   "nbconvert_exporter": "python",
   "pygments_lexer": "ipython3",
   "version": "3.8.5"
  }
 },
 "nbformat": 4,
 "nbformat_minor": 4
}
