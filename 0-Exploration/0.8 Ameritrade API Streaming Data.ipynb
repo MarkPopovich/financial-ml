{
 "cells": [
  {
   "cell_type": "markdown",
   "metadata": {},
   "source": [
    "# 0.8 TD Ameritrade API Streaming Data\n",
    "\n",
    "As I progress in my research, I come to the conclusion that to accurately model price movements in the market will require tick level data. I have not explored this kind of market data yet, so I should do so. \n",
    "\n",
    "Of great interest to me is the streaming functionality available. Currently, I am using TDAmeritrade and mostly constrained to the data they provide. \n",
    "\n",
    "Since this is the case, let's explore the streaming API and see what what it can give me. "
   ]
  },
  {
   "cell_type": "code",
   "execution_count": null,
   "metadata": {},
   "outputs": [],
   "source": [
    "import requests\n",
    "import urllib\n",
    "import json\n",
    "import requests\n",
    "import dateutil.parser\n",
    "from datetime import datetime\n",
    "from splinter import Browser \n",
    "import config"
   ]
  },
  {
   "cell_type": "code",
   "execution_count": null,
   "metadata": {},
   "outputs": [],
   "source": [
    "executable_path = {'executable_path':r'/usr/local/bin/chromedriver'}\n",
    "browser = Browser('chrome', **executable_path, headless=False)"
   ]
  },
  {
   "cell_type": "code",
   "execution_count": null,
   "metadata": {},
   "outputs": [],
   "source": [
    "method = 'GET'\n",
    "url = 'https://auth.tdameritrade.com/auth?'\n",
    "client_code = client_id + '@AMER.OAUTHAP'\n",
    "payload = {'response_type':'code', 'redirect_uri':'https://127.0.0.1', 'client_id':client_code}"
   ]
  },
  {
   "cell_type": "code",
   "execution_count": null,
   "metadata": {},
   "outputs": [],
   "source": [
    "p = requests.Request(method, url, params=payload).prepare()\n",
    "myurl = p.url\n",
    "browser.visit(myurl)"
   ]
  },
  {
   "cell_type": "code",
   "execution_count": null,
   "metadata": {},
   "outputs": [],
   "source": [
    "new_url = browser.url\n",
    "new_url"
   ]
  },
  {
   "cell_type": "code",
   "execution_count": null,
   "metadata": {},
   "outputs": [],
   "source": [
    "parse_url = urllib.parse.unquote(new_url.split('code=')[1])\n",
    "parse_url"
   ]
  },
  {
   "cell_type": "code",
   "execution_count": null,
   "metadata": {},
   "outputs": [],
   "source": [
    "browser.quit()"
   ]
  },
  {
   "cell_type": "code",
   "execution_count": null,
   "metadata": {},
   "outputs": [],
   "source": [
    "client_id"
   ]
  },
  {
   "cell_type": "code",
   "execution_count": null,
   "metadata": {},
   "outputs": [],
   "source": [
    "account_number"
   ]
  },
  {
   "cell_type": "code",
   "execution_count": null,
   "metadata": {},
   "outputs": [],
   "source": [
    "url = r\"https://api.tdameritrade.com/v1/oauth2/token\"\n",
    "\n",
    "headers = {\"Content-Type\":\"application/x-www-form-urlencoded\"}\n",
    "\n",
    "# define the payload\n",
    "payload = {'grant_type': 'authorization_code', \n",
    "           'access_type': 'offline', \n",
    "           'code': parse_url, \n",
    "           'client_id':client_id, \n",
    "           'redirect_uri':'https://127.0.0.1'}"
   ]
  },
  {
   "cell_type": "code",
   "execution_count": null,
   "metadata": {},
   "outputs": [],
   "source": [
    "authReply = requests.post(r'https://api.tdameritrade.com/v1/oauth2/token', headers = headers, data=payload)"
   ]
  },
  {
   "cell_type": "code",
   "execution_count": null,
   "metadata": {},
   "outputs": [],
   "source": [
    "authReply"
   ]
  },
  {
   "cell_type": "code",
   "execution_count": null,
   "metadata": {},
   "outputs": [],
   "source": [
    "decoded_content = authReply.json()"
   ]
  },
  {
   "cell_type": "code",
   "execution_count": null,
   "metadata": {},
   "outputs": [],
   "source": [
    "access_token = decoded_content['access_token']\n",
    "headers = {'Authorization': \"Bearer {}\".format(access_token)}\n",
    "\n",
    "headers"
   ]
  },
  {
   "cell_type": "code",
   "execution_count": null,
   "metadata": {},
   "outputs": [],
   "source": [
    "def unix_time_millis(dt):\n",
    "    \n",
    "    # grab the starting point, so time '0'\n",
    "    epoch = datetime.utcfromtimestamp(0)\n",
    "    \n",
    "    return (dt - epoch).total_seconds() * 1000.0"
   ]
  },
  {
   "cell_type": "code",
   "execution_count": null,
   "metadata": {},
   "outputs": [],
   "source": [
    "endpoint = \"https://api.tdameritrade.com/v1/userprincipals\"\n",
    "params = {'fields':'streamerSubscriptionKeys,streamerConnectionInfo'}\n",
    "\n",
    "# make a request\n",
    "content = requests.get(url = endpoint, params = params, headers = headers)\n",
    "userPrincipalsResponse = content.json()"
   ]
  },
  {
   "cell_type": "code",
   "execution_count": null,
   "metadata": {},
   "outputs": [],
   "source": [
    "userPrincipalsResponse"
   ]
  },
  {
   "cell_type": "code",
   "execution_count": null,
   "metadata": {},
   "outputs": [],
   "source": [
    "tokenTimeStamp = userPrincipalsResponse['streamerInfo']['tokenTimestamp']\n",
    "date = dateutil.parser.parse(tokenTimeStamp, ignoretz = True)\n",
    "tokenTimeStampAsMs = unix_time_millis(date)"
   ]
  },
  {
   "cell_type": "code",
   "execution_count": null,
   "metadata": {},
   "outputs": [],
   "source": [
    "userPrincipalsResponse = config.TDAMERITRADE_CREDS\n",
    "credentials = {\"userid\": userPrincipalsResponse['accounts'][0]['accountId'],\n",
    "               \"token\": userPrincipalsResponse['streamerInfo']['token'],\n",
    "               \"company\": userPrincipalsResponse['accounts'][0]['company'],\n",
    "               \"segment\": userPrincipalsResponse['accounts'][0]['segment'],\n",
    "               \"cddomain\": userPrincipalsResponse['accounts'][0]['accountCdDomainId'],\n",
    "               \"usergroup\": userPrincipalsResponse['streamerInfo']['userGroup'],\n",
    "               \"accesslevel\":userPrincipalsResponse['streamerInfo']['accessLevel'],\n",
    "               \"authorized\": \"Y\",\n",
    "               \"timestamp\": int(tokenTimeStampAsMs),\n",
    "               \"appid\": userPrincipalsResponse['streamerInfo']['appId'],\n",
    "               \"acl\": userPrincipalsResponse['streamerInfo']['acl'] }\n",
    "\n",
    "userPrincipalsResponse"
   ]
  },
  {
   "cell_type": "code",
   "execution_count": null,
   "metadata": {},
   "outputs": [],
   "source": [
    "import selenium\n",
    "\n",
    "driver = selenium.webdriver.Chrome()"
   ]
  },
  {
   "cell_type": "code",
   "execution_count": null,
   "metadata": {},
   "outputs": [],
   "source": [
    "tda.auth.client_from_login_flow(driver, \n",
    "                                api_key=config.TDAMERITRADE, \n",
    "                                redirect_url='https://127.0.0.1', \n",
    "                                token_path='./tmp_token/token.pickle')"
   ]
  },
  {
   "cell_type": "code",
   "execution_count": null,
   "metadata": {},
   "outputs": [],
   "source": [
    "from tda.auth import easy_client\n",
    "from tda.client import Client\n",
    "import config\n",
    "\n",
    "c = easy_client(\n",
    "        api_key=config.TDAMERITRADE,\n",
    "        redirect_uri='https://127.0.0.1',\n",
    "        token_path='./tmp_token/token2.pickle')\n",
    "\n",
    "resp = c.get_price_history('AAPL',\n",
    "        period_type=Client.PriceHistory.PeriodType.YEAR,\n",
    "        period=Client.PriceHistory.Period.TWENTY_YEARS,\n",
    "        frequency_type=Client.PriceHistory.FrequencyType.DAILY,\n",
    "        frequency=Client.PriceHistory.Frequency.DAILY)\n",
    "assert resp.ok\n",
    "history = resp.json()\n"
   ]
  },
  {
   "cell_type": "code",
   "execution_count": null,
   "metadata": {},
   "outputs": [],
   "source": [
    "history"
   ]
  },
  {
   "cell_type": "code",
   "execution_count": null,
   "metadata": {},
   "outputs": [],
   "source": []
  }
 ],
 "metadata": {
  "kernelspec": {
   "display_name": "Python 3",
   "language": "python",
   "name": "python3"
  },
  "language_info": {
   "codemirror_mode": {
    "name": "ipython",
    "version": 3
   },
   "file_extension": ".py",
   "mimetype": "text/x-python",
   "name": "python",
   "nbconvert_exporter": "python",
   "pygments_lexer": "ipython3",
   "version": "3.8.5"
  }
 },
 "nbformat": 4,
 "nbformat_minor": 4
}
