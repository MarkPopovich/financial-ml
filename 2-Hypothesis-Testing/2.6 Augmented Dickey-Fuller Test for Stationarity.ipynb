{
 "cells": [
  {
   "cell_type": "markdown",
   "metadata": {},
   "source": [
    "# 2.6 Augmented Dickey-Fuller Test for Stationarity\n",
    "\n",
    "In this notebook we will seek to encode our price columns in such a fashion that they have both memory and stationarity. If the data is not stationary, we will not be able to build a predictive because the basis for learning requires values to repeat in some predictable pattern. If the values are randomly walking around and the relative mean is constantly changing, then our model will have no reference point to make predictions. \n",
    "\n",
    "However, if we remove all memory the model will fail to learning a meaningful pattern. Whatever it does learn will likely not be of predictive value. What we want here is stationary data (previous values and future values have a constant mean) with memory (previous values correlate to future values). \n",
    "\n",
    "In order to do so, we will implement a fractional differnces algorithm and check the ADF-statistic over possible values in [0,1]. We will choose the minimum difference d such that stationarity is achieved. By doing so, we will preserve the maximum amount of memory possible. "
   ]
  },
  {
   "cell_type": "code",
   "execution_count": 1,
   "metadata": {},
   "outputs": [],
   "source": [
    "import pandas as pd\n",
    "import numpy as np\n",
    "from statsmodels.tsa.stattools import adfuller\n",
    "import matplotlib.pyplot as plt\n",
    "from datetime import datetime\n",
    "from pytz import timezone  \n",
    "import time"
   ]
  },
  {
   "cell_type": "code",
   "execution_count": 2,
   "metadata": {},
   "outputs": [
    {
     "data": {
      "text/html": [
       "<div>\n",
       "<style scoped>\n",
       "    .dataframe tbody tr th:only-of-type {\n",
       "        vertical-align: middle;\n",
       "    }\n",
       "\n",
       "    .dataframe tbody tr th {\n",
       "        vertical-align: top;\n",
       "    }\n",
       "\n",
       "    .dataframe thead th {\n",
       "        text-align: right;\n",
       "    }\n",
       "</style>\n",
       "<table border=\"1\" class=\"dataframe\">\n",
       "  <thead>\n",
       "    <tr style=\"text-align: right;\">\n",
       "      <th></th>\n",
       "      <th>cum_value_interval</th>\n",
       "      <th>AAL_close</th>\n",
       "      <th>AAL_high</th>\n",
       "      <th>AAL_low</th>\n",
       "      <th>AAL_open</th>\n",
       "      <th>AAL_value_close</th>\n",
       "      <th>AAL_volume</th>\n",
       "      <th>AAPL_close</th>\n",
       "      <th>AAPL_high</th>\n",
       "      <th>AAPL_low</th>\n",
       "      <th>...</th>\n",
       "      <th>ZION_low</th>\n",
       "      <th>ZION_open</th>\n",
       "      <th>ZION_value_close</th>\n",
       "      <th>ZION_volume</th>\n",
       "      <th>ZTS_close</th>\n",
       "      <th>ZTS_high</th>\n",
       "      <th>ZTS_low</th>\n",
       "      <th>ZTS_open</th>\n",
       "      <th>ZTS_value_close</th>\n",
       "      <th>ZTS_volume</th>\n",
       "    </tr>\n",
       "  </thead>\n",
       "  <tbody>\n",
       "    <tr>\n",
       "      <th>0</th>\n",
       "      <td>(0.0, 100000000.0]</td>\n",
       "      <td>13.29</td>\n",
       "      <td>13.46</td>\n",
       "      <td>13.2700</td>\n",
       "      <td>13.3000</td>\n",
       "      <td>9.861808e+05</td>\n",
       "      <td>73989.0</td>\n",
       "      <td>115.5250</td>\n",
       "      <td>115.6625</td>\n",
       "      <td>115.4500</td>\n",
       "      <td>...</td>\n",
       "      <td>NaN</td>\n",
       "      <td>NaN</td>\n",
       "      <td>0.0</td>\n",
       "      <td>0.0</td>\n",
       "      <td>NaN</td>\n",
       "      <td>NaN</td>\n",
       "      <td>NaN</td>\n",
       "      <td>NaN</td>\n",
       "      <td>0.0</td>\n",
       "      <td>0.0</td>\n",
       "    </tr>\n",
       "    <tr>\n",
       "      <th>1</th>\n",
       "      <td>(100000000.0, 200000000.0]</td>\n",
       "      <td>13.31</td>\n",
       "      <td>13.34</td>\n",
       "      <td>13.2400</td>\n",
       "      <td>13.2900</td>\n",
       "      <td>1.080460e+06</td>\n",
       "      <td>81287.0</td>\n",
       "      <td>115.5975</td>\n",
       "      <td>115.6000</td>\n",
       "      <td>115.1925</td>\n",
       "      <td>...</td>\n",
       "      <td>NaN</td>\n",
       "      <td>NaN</td>\n",
       "      <td>0.0</td>\n",
       "      <td>0.0</td>\n",
       "      <td>NaN</td>\n",
       "      <td>NaN</td>\n",
       "      <td>NaN</td>\n",
       "      <td>NaN</td>\n",
       "      <td>0.0</td>\n",
       "      <td>0.0</td>\n",
       "    </tr>\n",
       "    <tr>\n",
       "      <th>2</th>\n",
       "      <td>(200000000.0, 300000000.0]</td>\n",
       "      <td>13.29</td>\n",
       "      <td>13.35</td>\n",
       "      <td>13.2800</td>\n",
       "      <td>13.3199</td>\n",
       "      <td>1.024083e+06</td>\n",
       "      <td>76922.0</td>\n",
       "      <td>115.7250</td>\n",
       "      <td>115.8250</td>\n",
       "      <td>115.5975</td>\n",
       "      <td>...</td>\n",
       "      <td>NaN</td>\n",
       "      <td>NaN</td>\n",
       "      <td>0.0</td>\n",
       "      <td>0.0</td>\n",
       "      <td>158.75</td>\n",
       "      <td>158.75</td>\n",
       "      <td>158.75</td>\n",
       "      <td>158.75</td>\n",
       "      <td>15875.0</td>\n",
       "      <td>100.0</td>\n",
       "    </tr>\n",
       "    <tr>\n",
       "      <th>3</th>\n",
       "      <td>(300000000.0, 400000000.0]</td>\n",
       "      <td>13.34</td>\n",
       "      <td>13.34</td>\n",
       "      <td>13.2898</td>\n",
       "      <td>13.2900</td>\n",
       "      <td>1.135384e+06</td>\n",
       "      <td>85273.0</td>\n",
       "      <td>115.9275</td>\n",
       "      <td>116.0000</td>\n",
       "      <td>115.7250</td>\n",
       "      <td>...</td>\n",
       "      <td>NaN</td>\n",
       "      <td>NaN</td>\n",
       "      <td>0.0</td>\n",
       "      <td>0.0</td>\n",
       "      <td>158.75</td>\n",
       "      <td>158.75</td>\n",
       "      <td>158.75</td>\n",
       "      <td>158.75</td>\n",
       "      <td>0.0</td>\n",
       "      <td>0.0</td>\n",
       "    </tr>\n",
       "    <tr>\n",
       "      <th>4</th>\n",
       "      <td>(400000000.0, 500000000.0]</td>\n",
       "      <td>13.40</td>\n",
       "      <td>13.40</td>\n",
       "      <td>13.3499</td>\n",
       "      <td>13.3499</td>\n",
       "      <td>4.020905e+05</td>\n",
       "      <td>30018.0</td>\n",
       "      <td>115.9275</td>\n",
       "      <td>115.9425</td>\n",
       "      <td>115.9075</td>\n",
       "      <td>...</td>\n",
       "      <td>NaN</td>\n",
       "      <td>NaN</td>\n",
       "      <td>0.0</td>\n",
       "      <td>0.0</td>\n",
       "      <td>157.05</td>\n",
       "      <td>157.05</td>\n",
       "      <td>157.05</td>\n",
       "      <td>157.05</td>\n",
       "      <td>6187770.0</td>\n",
       "      <td>39400.0</td>\n",
       "    </tr>\n",
       "  </tbody>\n",
       "</table>\n",
       "<p>5 rows × 3031 columns</p>\n",
       "</div>"
      ],
      "text/plain": [
       "           cum_value_interval  AAL_close  AAL_high  AAL_low  AAL_open  \\\n",
       "0          (0.0, 100000000.0]      13.29     13.46  13.2700   13.3000   \n",
       "1  (100000000.0, 200000000.0]      13.31     13.34  13.2400   13.2900   \n",
       "2  (200000000.0, 300000000.0]      13.29     13.35  13.2800   13.3199   \n",
       "3  (300000000.0, 400000000.0]      13.34     13.34  13.2898   13.2900   \n",
       "4  (400000000.0, 500000000.0]      13.40     13.40  13.3499   13.3499   \n",
       "\n",
       "   AAL_value_close  AAL_volume  AAPL_close  AAPL_high  AAPL_low  ...  \\\n",
       "0     9.861808e+05     73989.0    115.5250   115.6625  115.4500  ...   \n",
       "1     1.080460e+06     81287.0    115.5975   115.6000  115.1925  ...   \n",
       "2     1.024083e+06     76922.0    115.7250   115.8250  115.5975  ...   \n",
       "3     1.135384e+06     85273.0    115.9275   116.0000  115.7250  ...   \n",
       "4     4.020905e+05     30018.0    115.9275   115.9425  115.9075  ...   \n",
       "\n",
       "   ZION_low  ZION_open  ZION_value_close  ZION_volume  ZTS_close  ZTS_high  \\\n",
       "0       NaN        NaN               0.0          0.0        NaN       NaN   \n",
       "1       NaN        NaN               0.0          0.0        NaN       NaN   \n",
       "2       NaN        NaN               0.0          0.0     158.75    158.75   \n",
       "3       NaN        NaN               0.0          0.0     158.75    158.75   \n",
       "4       NaN        NaN               0.0          0.0     157.05    157.05   \n",
       "\n",
       "   ZTS_low  ZTS_open  ZTS_value_close  ZTS_volume  \n",
       "0      NaN       NaN              0.0         0.0  \n",
       "1      NaN       NaN              0.0         0.0  \n",
       "2   158.75    158.75          15875.0       100.0  \n",
       "3   158.75    158.75              0.0         0.0  \n",
       "4   157.05    157.05        6187770.0     39400.0  \n",
       "\n",
       "[5 rows x 3031 columns]"
      ]
     },
     "execution_count": 2,
     "metadata": {},
     "output_type": "execute_result"
    }
   ],
   "source": [
    "df = pd.read_csv('../data/sp500/interval_data_100milvol.csv')\n",
    "df.head()"
   ]
  },
  {
   "cell_type": "code",
   "execution_count": 3,
   "metadata": {},
   "outputs": [],
   "source": [
    "df.dropna(inplace=True)"
   ]
  },
  {
   "cell_type": "code",
   "execution_count": 4,
   "metadata": {},
   "outputs": [
    {
     "data": {
      "text/plain": [
       "(33042, 3031)"
      ]
     },
     "execution_count": 4,
     "metadata": {},
     "output_type": "execute_result"
    }
   ],
   "source": [
    "df.shape"
   ]
  },
  {
   "cell_type": "code",
   "execution_count": 29,
   "metadata": {},
   "outputs": [
    {
     "data": {
      "text/plain": [
       "(-3.2939649280828927,\n",
       " 0.015150407099260273,\n",
       " 1,\n",
       " 33040,\n",
       " {'1%': -3.430547936081223,\n",
       "  '5%': -2.861627482693232,\n",
       "  '10%': -2.56681656431653})"
      ]
     },
     "execution_count": 29,
     "metadata": {},
     "output_type": "execute_result"
    }
   ],
   "source": [
    "adf = adfuller(df['AAL_close'], maxlag=1, regression='c', autolag=None)\n",
    "adf"
   ]
  },
  {
   "cell_type": "code",
   "execution_count": 30,
   "metadata": {},
   "outputs": [
    {
     "data": {
      "text/plain": [
       "-3.2939649280828927"
      ]
     },
     "execution_count": 30,
     "metadata": {},
     "output_type": "execute_result"
    }
   ],
   "source": [
    "adf[0]"
   ]
  },
  {
   "cell_type": "code",
   "execution_count": 31,
   "metadata": {},
   "outputs": [
    {
     "data": {
      "text/plain": [
       "[-3.2939649280828927, 0.015150407099260273, 1, 33040, -2.861627482693232]"
      ]
     },
     "execution_count": 31,
     "metadata": {},
     "output_type": "execute_result"
    }
   ],
   "source": [
    "list(adf[:4]) + [adf[4]['5%']]"
   ]
  },
  {
   "cell_type": "code",
   "execution_count": 32,
   "metadata": {},
   "outputs": [
    {
     "data": {
      "text/plain": [
       "[<matplotlib.lines.Line2D at 0x7f3073402d50>]"
      ]
     },
     "execution_count": 32,
     "metadata": {},
     "output_type": "execute_result"
    },
    {
     "data": {
      "image/png": "[encoded data removed]",
      "text/plain": [
       "<Figure size 432x288 with 1 Axes>"
      ]
     },
     "metadata": {
      "needs_background": "light"
     },
     "output_type": "display_data"
    }
   ],
   "source": [
    "plt.plot(df['AAL_close'])"
   ]
  },
  {
   "cell_type": "markdown",
   "metadata": {},
   "source": [
    "Surprisingly, we see that 'AAL_close' is already stationary. Therefore, it does not require *any* differencing. \n",
    "\n",
    "Let's write an algorithm to check the undifferenced ADF and see which, if any, columns require differncing. "
   ]
  },
  {
   "cell_type": "code",
   "execution_count": 5,
   "metadata": {},
   "outputs": [],
   "source": [
    "def fuller_test(series, maxlag=1, regression='c',autolag=None):\n",
    "    adf = adfuller(series.dropna(), maxlag=1, regression='c', autolag=None)\n",
    "    return pd.Series(list(adf[:4]) + [adf[4]['5%']] + [1] + [0], index = ['adfStat',\n",
    "                                                                          'pVal',\n",
    "                                                                          'lags',\n",
    "                                                                          'nObs',\n",
    "                                                                          '95% conf',\n",
    "                                                                          'corr',\n",
    "                                                                          'fracD'])\n"
   ]
  },
  {
   "cell_type": "code",
   "execution_count": null,
   "metadata": {},
   "outputs": [],
   "source": [
    "adf_test = df[df.columns.drop('cum_value_interval')].apply(fuller_test)\n",
    "\n",
    "adf_test"
   ]
  },
  {
   "cell_type": "code",
   "execution_count": 65,
   "metadata": {},
   "outputs": [
    {
     "data": {
      "text/html": [
       "<div>\n",
       "<style scoped>\n",
       "    .dataframe tbody tr th:only-of-type {\n",
       "        vertical-align: middle;\n",
       "    }\n",
       "\n",
       "    .dataframe tbody tr th {\n",
       "        vertical-align: top;\n",
       "    }\n",
       "\n",
       "    .dataframe thead th {\n",
       "        text-align: right;\n",
       "    }\n",
       "</style>\n",
       "<table border=\"1\" class=\"dataframe\">\n",
       "  <thead>\n",
       "    <tr style=\"text-align: right;\">\n",
       "      <th></th>\n",
       "      <th>AAPL_close</th>\n",
       "      <th>AAPL_high</th>\n",
       "      <th>AAPL_low</th>\n",
       "      <th>AAPL_open</th>\n",
       "      <th>ABBV_close</th>\n",
       "      <th>ABBV_high</th>\n",
       "      <th>ABBV_low</th>\n",
       "      <th>ABBV_open</th>\n",
       "      <th>ABC_close</th>\n",
       "      <th>ABC_high</th>\n",
       "      <th>...</th>\n",
       "      <th>YUM_low</th>\n",
       "      <th>YUM_open</th>\n",
       "      <th>ZBRA_close</th>\n",
       "      <th>ZBRA_high</th>\n",
       "      <th>ZBRA_low</th>\n",
       "      <th>ZBRA_open</th>\n",
       "      <th>ZTS_close</th>\n",
       "      <th>ZTS_high</th>\n",
       "      <th>ZTS_low</th>\n",
       "      <th>ZTS_open</th>\n",
       "    </tr>\n",
       "  </thead>\n",
       "  <tbody>\n",
       "    <tr>\n",
       "      <th>adfStat</th>\n",
       "      <td>-1.594879</td>\n",
       "      <td>-1.562697</td>\n",
       "      <td>-1.480212</td>\n",
       "      <td>-1.592159</td>\n",
       "      <td>-1.686896</td>\n",
       "      <td>-1.620541</td>\n",
       "      <td>-1.519671</td>\n",
       "      <td>-1.592567</td>\n",
       "      <td>-2.479268</td>\n",
       "      <td>-2.549520</td>\n",
       "      <td>...</td>\n",
       "      <td>-2.651748</td>\n",
       "      <td>-2.602070</td>\n",
       "      <td>-1.145607</td>\n",
       "      <td>-1.159616</td>\n",
       "      <td>-1.163775</td>\n",
       "      <td>-1.160694</td>\n",
       "      <td>-2.206560</td>\n",
       "      <td>-2.115101</td>\n",
       "      <td>-2.025727</td>\n",
       "      <td>-2.134992</td>\n",
       "    </tr>\n",
       "    <tr>\n",
       "      <th>pVal</th>\n",
       "      <td>0.486165</td>\n",
       "      <td>0.502300</td>\n",
       "      <td>0.543277</td>\n",
       "      <td>0.487531</td>\n",
       "      <td>0.437877</td>\n",
       "      <td>0.472446</td>\n",
       "      <td>0.523759</td>\n",
       "      <td>0.487326</td>\n",
       "      <td>0.120601</td>\n",
       "      <td>0.103886</td>\n",
       "      <td>...</td>\n",
       "      <td>0.082767</td>\n",
       "      <td>0.092570</td>\n",
       "      <td>0.696546</td>\n",
       "      <td>0.690722</td>\n",
       "      <td>0.688982</td>\n",
       "      <td>0.690272</td>\n",
       "      <td>0.203873</td>\n",
       "      <td>0.238486</td>\n",
       "      <td>0.275408</td>\n",
       "      <td>0.230679</td>\n",
       "    </tr>\n",
       "    <tr>\n",
       "      <th>lags</th>\n",
       "      <td>1.000000</td>\n",
       "      <td>1.000000</td>\n",
       "      <td>1.000000</td>\n",
       "      <td>1.000000</td>\n",
       "      <td>1.000000</td>\n",
       "      <td>1.000000</td>\n",
       "      <td>1.000000</td>\n",
       "      <td>1.000000</td>\n",
       "      <td>1.000000</td>\n",
       "      <td>1.000000</td>\n",
       "      <td>...</td>\n",
       "      <td>1.000000</td>\n",
       "      <td>1.000000</td>\n",
       "      <td>1.000000</td>\n",
       "      <td>1.000000</td>\n",
       "      <td>1.000000</td>\n",
       "      <td>1.000000</td>\n",
       "      <td>1.000000</td>\n",
       "      <td>1.000000</td>\n",
       "      <td>1.000000</td>\n",
       "      <td>1.000000</td>\n",
       "    </tr>\n",
       "    <tr>\n",
       "      <th>nObs</th>\n",
       "      <td>33040.000000</td>\n",
       "      <td>33040.000000</td>\n",
       "      <td>33040.000000</td>\n",
       "      <td>33040.000000</td>\n",
       "      <td>33040.000000</td>\n",
       "      <td>33040.000000</td>\n",
       "      <td>33040.000000</td>\n",
       "      <td>33040.000000</td>\n",
       "      <td>33040.000000</td>\n",
       "      <td>33040.000000</td>\n",
       "      <td>...</td>\n",
       "      <td>33040.000000</td>\n",
       "      <td>33040.000000</td>\n",
       "      <td>33040.000000</td>\n",
       "      <td>33040.000000</td>\n",
       "      <td>33040.000000</td>\n",
       "      <td>33040.000000</td>\n",
       "      <td>33040.000000</td>\n",
       "      <td>33040.000000</td>\n",
       "      <td>33040.000000</td>\n",
       "      <td>33040.000000</td>\n",
       "    </tr>\n",
       "    <tr>\n",
       "      <th>95% conf</th>\n",
       "      <td>-2.861627</td>\n",
       "      <td>-2.861627</td>\n",
       "      <td>-2.861627</td>\n",
       "      <td>-2.861627</td>\n",
       "      <td>-2.861627</td>\n",
       "      <td>-2.861627</td>\n",
       "      <td>-2.861627</td>\n",
       "      <td>-2.861627</td>\n",
       "      <td>-2.861627</td>\n",
       "      <td>-2.861627</td>\n",
       "      <td>...</td>\n",
       "      <td>-2.861627</td>\n",
       "      <td>-2.861627</td>\n",
       "      <td>-2.861627</td>\n",
       "      <td>-2.861627</td>\n",
       "      <td>-2.861627</td>\n",
       "      <td>-2.861627</td>\n",
       "      <td>-2.861627</td>\n",
       "      <td>-2.861627</td>\n",
       "      <td>-2.861627</td>\n",
       "      <td>-2.861627</td>\n",
       "    </tr>\n",
       "    <tr>\n",
       "      <th>corr</th>\n",
       "      <td>1.000000</td>\n",
       "      <td>1.000000</td>\n",
       "      <td>1.000000</td>\n",
       "      <td>1.000000</td>\n",
       "      <td>1.000000</td>\n",
       "      <td>1.000000</td>\n",
       "      <td>1.000000</td>\n",
       "      <td>1.000000</td>\n",
       "      <td>1.000000</td>\n",
       "      <td>1.000000</td>\n",
       "      <td>...</td>\n",
       "      <td>1.000000</td>\n",
       "      <td>1.000000</td>\n",
       "      <td>1.000000</td>\n",
       "      <td>1.000000</td>\n",
       "      <td>1.000000</td>\n",
       "      <td>1.000000</td>\n",
       "      <td>1.000000</td>\n",
       "      <td>1.000000</td>\n",
       "      <td>1.000000</td>\n",
       "      <td>1.000000</td>\n",
       "    </tr>\n",
       "    <tr>\n",
       "      <th>fracD</th>\n",
       "      <td>0.000000</td>\n",
       "      <td>0.000000</td>\n",
       "      <td>0.000000</td>\n",
       "      <td>0.000000</td>\n",
       "      <td>0.000000</td>\n",
       "      <td>0.000000</td>\n",
       "      <td>0.000000</td>\n",
       "      <td>0.000000</td>\n",
       "      <td>0.000000</td>\n",
       "      <td>0.000000</td>\n",
       "      <td>...</td>\n",
       "      <td>0.000000</td>\n",
       "      <td>0.000000</td>\n",
       "      <td>0.000000</td>\n",
       "      <td>0.000000</td>\n",
       "      <td>0.000000</td>\n",
       "      <td>0.000000</td>\n",
       "      <td>0.000000</td>\n",
       "      <td>0.000000</td>\n",
       "      <td>0.000000</td>\n",
       "      <td>0.000000</td>\n",
       "    </tr>\n",
       "  </tbody>\n",
       "</table>\n",
       "<p>7 rows × 1592 columns</p>\n",
       "</div>"
      ],
      "text/plain": [
       "            AAPL_close     AAPL_high      AAPL_low     AAPL_open  \\\n",
       "adfStat      -1.594879     -1.562697     -1.480212     -1.592159   \n",
       "pVal          0.486165      0.502300      0.543277      0.487531   \n",
       "lags          1.000000      1.000000      1.000000      1.000000   \n",
       "nObs      33040.000000  33040.000000  33040.000000  33040.000000   \n",
       "95% conf     -2.861627     -2.861627     -2.861627     -2.861627   \n",
       "corr          1.000000      1.000000      1.000000      1.000000   \n",
       "fracD         0.000000      0.000000      0.000000      0.000000   \n",
       "\n",
       "            ABBV_close     ABBV_high      ABBV_low     ABBV_open  \\\n",
       "adfStat      -1.686896     -1.620541     -1.519671     -1.592567   \n",
       "pVal          0.437877      0.472446      0.523759      0.487326   \n",
       "lags          1.000000      1.000000      1.000000      1.000000   \n",
       "nObs      33040.000000  33040.000000  33040.000000  33040.000000   \n",
       "95% conf     -2.861627     -2.861627     -2.861627     -2.861627   \n",
       "corr          1.000000      1.000000      1.000000      1.000000   \n",
       "fracD         0.000000      0.000000      0.000000      0.000000   \n",
       "\n",
       "             ABC_close      ABC_high  ...       YUM_low      YUM_open  \\\n",
       "adfStat      -2.479268     -2.549520  ...     -2.651748     -2.602070   \n",
       "pVal          0.120601      0.103886  ...      0.082767      0.092570   \n",
       "lags          1.000000      1.000000  ...      1.000000      1.000000   \n",
       "nObs      33040.000000  33040.000000  ...  33040.000000  33040.000000   \n",
       "95% conf     -2.861627     -2.861627  ...     -2.861627     -2.861627   \n",
       "corr          1.000000      1.000000  ...      1.000000      1.000000   \n",
       "fracD         0.000000      0.000000  ...      0.000000      0.000000   \n",
       "\n",
       "            ZBRA_close     ZBRA_high      ZBRA_low     ZBRA_open  \\\n",
       "adfStat      -1.145607     -1.159616     -1.163775     -1.160694   \n",
       "pVal          0.696546      0.690722      0.688982      0.690272   \n",
       "lags          1.000000      1.000000      1.000000      1.000000   \n",
       "nObs      33040.000000  33040.000000  33040.000000  33040.000000   \n",
       "95% conf     -2.861627     -2.861627     -2.861627     -2.861627   \n",
       "corr          1.000000      1.000000      1.000000      1.000000   \n",
       "fracD         0.000000      0.000000      0.000000      0.000000   \n",
       "\n",
       "             ZTS_close      ZTS_high       ZTS_low      ZTS_open  \n",
       "adfStat      -2.206560     -2.115101     -2.025727     -2.134992  \n",
       "pVal          0.203873      0.238486      0.275408      0.230679  \n",
       "lags          1.000000      1.000000      1.000000      1.000000  \n",
       "nObs      33040.000000  33040.000000  33040.000000  33040.000000  \n",
       "95% conf     -2.861627     -2.861627     -2.861627     -2.861627  \n",
       "corr          1.000000      1.000000      1.000000      1.000000  \n",
       "fracD         0.000000      0.000000      0.000000      0.000000  \n",
       "\n",
       "[7 rows x 1592 columns]"
      ]
     },
     "execution_count": 65,
     "metadata": {},
     "output_type": "execute_result"
    }
   ],
   "source": [
    "adf_test[adf_test.columns[adf_test.loc['pVal'] > 0.05]]"
   ]
  },
  {
   "cell_type": "code",
   "execution_count": 352,
   "metadata": {},
   "outputs": [
    {
     "data": {
      "text/plain": [
       "False"
      ]
     },
     "execution_count": 352,
     "metadata": {},
     "output_type": "execute_result"
    }
   ],
   "source": [
    "adf_test[adf_test.columns[adf_test.loc['pVal'] > 0.05]].columns.str.contains('value').any()"
   ]
  },
  {
   "cell_type": "code",
   "execution_count": 353,
   "metadata": {},
   "outputs": [
    {
     "data": {
      "text/plain": [
       "False"
      ]
     },
     "execution_count": 353,
     "metadata": {},
     "output_type": "execute_result"
    }
   ],
   "source": [
    "adf_test[adf_test.columns[adf_test.loc['pVal'] > 0.05]].columns.str.contains('volume').any()"
   ]
  },
  {
   "cell_type": "code",
   "execution_count": 354,
   "metadata": {},
   "outputs": [
    {
     "data": {
      "text/plain": [
       "True"
      ]
     },
     "execution_count": 354,
     "metadata": {},
     "output_type": "execute_result"
    }
   ],
   "source": [
    "adf_test[adf_test.columns[adf_test.loc['pVal'] > 0.05]].columns.str.contains('open').any()"
   ]
  },
  {
   "cell_type": "code",
   "execution_count": 355,
   "metadata": {},
   "outputs": [
    {
     "data": {
      "text/plain": [
       "True"
      ]
     },
     "execution_count": 355,
     "metadata": {},
     "output_type": "execute_result"
    }
   ],
   "source": [
    "adf_test[adf_test.columns[adf_test.loc['pVal'] > 0.05]].columns.str.contains('close').any()"
   ]
  },
  {
   "cell_type": "code",
   "execution_count": 356,
   "metadata": {},
   "outputs": [
    {
     "data": {
      "text/plain": [
       "True"
      ]
     },
     "execution_count": 356,
     "metadata": {},
     "output_type": "execute_result"
    }
   ],
   "source": [
    "adf_test[adf_test.columns[adf_test.loc['pVal'] > 0.05]].columns.str.contains('high').any()"
   ]
  },
  {
   "cell_type": "code",
   "execution_count": 357,
   "metadata": {},
   "outputs": [
    {
     "data": {
      "text/plain": [
       "True"
      ]
     },
     "execution_count": 357,
     "metadata": {},
     "output_type": "execute_result"
    }
   ],
   "source": [
    "adf_test[adf_test.columns[adf_test.loc['pVal'] > 0.05]].columns.str.contains('low').any()"
   ]
  },
  {
   "cell_type": "code",
   "execution_count": 47,
   "metadata": {},
   "outputs": [
    {
     "data": {
      "text/plain": [
       "[<matplotlib.lines.Line2D at 0x7f3010a4e610>]"
      ]
     },
     "execution_count": 47,
     "metadata": {},
     "output_type": "execute_result"
    },
    {
     "data": {
      "image/png": "[encoded data removed]",
      "text/plain": [
       "<Figure size 432x288 with 1 Axes>"
      ]
     },
     "metadata": {
      "needs_background": "light"
     },
     "output_type": "display_data"
    }
   ],
   "source": [
    "plt.plot(df['AAPL_close'])"
   ]
  },
  {
   "cell_type": "markdown",
   "metadata": {},
   "source": [
    "With our first ADFuller test, we show that about 1,000 columns in our original dataset are not stationary. Those that are not stationary include all of the volume and value columns, leaving us only with price columns as nonstationary features. \n",
    "\n",
    "Those price columns which are stationary do not need to be differenced. For the rest (those that are not stationary), which should find the optimal differencing level to apply such that the series passes the ADFuller test with a pvalue < 0.05. "
   ]
  },
  {
   "cell_type": "code",
   "execution_count": 6,
   "metadata": {},
   "outputs": [],
   "source": [
    "def getWeights_FFD(d, thres):\n",
    "    w, k=[1.],1\n",
    "    while True:\n",
    "        w_ = -w[-1]/k*(d-k+1)\n",
    "        if abs(w_) < thres: break\n",
    "        w.append(w_);k+=1\n",
    "    return np.array(w[::-1]).reshape(-1,1)\n",
    "\n",
    "\n",
    "def fracDiff_FFD(series, d, thres=1e-5):\n",
    "    '''\n",
    "    Updated to take advantage of rolling window functions. \n",
    "    \n",
    "    Single iteration runtime locally 3.55 s\n",
    "    '''\n",
    "    w = getWeights_FFD(d, thres)\n",
    "    width = len(w)\n",
    "    \n",
    "    def dot_product(window):\n",
    "        return np.dot(w.T, window)\n",
    "    \n",
    "    return series.rolling(width).apply(dot_product)\n"
   ]
  },
  {
   "cell_type": "markdown",
   "metadata": {},
   "source": [
    "Original codebase copied from \"AFML\" (de Prado). \n",
    "\n",
    "Runtime for a single iteration: 31.7 seconds. \n",
    "\n",
    "```\n",
    "def getWeights_FFD(d, thres):\n",
    "    w, k=[1.],1\n",
    "    while True:\n",
    "        w_ = -w[-1]/k*(d-k+1)\n",
    "        if abs(w_) < thres: break\n",
    "        w.append(w_);k+=1\n",
    "    return np.array(w[::-1]).reshape(-1,1)\n",
    "\n",
    "def fracDiff_FFD(series, d, thres=1e-5):\n",
    "    w, dffd = getWeights_FFD(d, thres), {}\n",
    "    width = len(w)-1\n",
    "\n",
    "    for name in series.columns:\n",
    "        seriesF, df_ = series[[name]].fillna(method='ffill').dropna(), pd.Series()\n",
    "        for iloc1 in range(width, seriesF.shape[0]):\n",
    "            loc0, loc1 = seriesF.index[iloc1 - width], seriesF.index[iloc1]\n",
    "            if not np.isfinite(series.loc[loc1, name]): continue\n",
    "            \n",
    "            df_.loc[loc1] = np.dot(w.T, seriesF.loc[loc0:loc1])[0,0]\n",
    "        dffd[name] = df_.copy(deep=True)\n",
    "    \n",
    "    dffd = pd.concat(dffd, axis=1)\n",
    "    return dffd\n",
    "```\n",
    "    \n",
    "The following operation was performed to time the runtime of the algorithm:\n",
    "\n",
    "```\n",
    "%%time\n",
    "aapl_frac = fracDiff_FFD(df[['ZBRA_close']], d=0.15)\n",
    "```\n",
    "\n",
    "And produced the output: \n",
    "\n",
    "```\n",
    "CPU times: user 31.7 s, sys: 17.8 ms, total: 31.7 s\n",
    "Wall time: 31.7 s\n",
    "```\n",
    "\n",
    "After implementing our optimization, output of the same cell is produced below. "
   ]
  },
  {
   "cell_type": "code",
   "execution_count": 262,
   "metadata": {},
   "outputs": [
    {
     "name": "stdout",
     "output_type": "stream",
     "text": [
      "CPU times: user 3.53 s, sys: 61.2 ms, total: 3.59 s\n",
      "Wall time: 3.55 s\n"
     ]
    }
   ],
   "source": [
    "%%time\n",
    "rolling_func_res = fracDiff_FFD(df[['ZBRA_close']], d=0.15)"
   ]
  },
  {
   "cell_type": "code",
   "execution_count": 232,
   "metadata": {},
   "outputs": [
    {
     "data": {
      "text/plain": [
       "0.9825088866208556"
      ]
     },
     "execution_count": 232,
     "metadata": {},
     "output_type": "execute_result"
    }
   ],
   "source": [
    "np.corrcoef(df.loc[aapl_frac.index, 'ZBRA_close'], aapl_frac['ZBRA_close'])[0,1]"
   ]
  },
  {
   "cell_type": "code",
   "execution_count": 318,
   "metadata": {},
   "outputs": [
    {
     "data": {
      "text/plain": [
       "0.9825088866208556"
      ]
     },
     "execution_count": 318,
     "metadata": {},
     "output_type": "execute_result"
    }
   ],
   "source": [
    "col = 'ZBRA_close'\n",
    "np.corrcoef(df.loc[rolling_func_res[col].dropna().index, col], rolling_func_res[col].dropna())[0,1]"
   ]
  },
  {
   "cell_type": "code",
   "execution_count": 233,
   "metadata": {},
   "outputs": [
    {
     "data": {
      "text/plain": [
       "(-3.2757686921318347,\n",
       " 0.015996975338855367,\n",
       " 1,\n",
       " 29140,\n",
       " {'1%': -3.430574429517509,\n",
       "  '5%': -2.8616391916728112,\n",
       "  '10%': -2.566822796719173})"
      ]
     },
     "execution_count": 233,
     "metadata": {},
     "output_type": "execute_result"
    }
   ],
   "source": [
    "adfuller(aapl_frac['ZBRA_close'], maxlag=1, regression='c', autolag=None)"
   ]
  },
  {
   "cell_type": "code",
   "execution_count": 235,
   "metadata": {},
   "outputs": [
    {
     "data": {
      "text/plain": [
       "<matplotlib.legend.Legend at 0x7f3010224b10>"
      ]
     },
     "execution_count": 235,
     "metadata": {},
     "output_type": "execute_result"
    },
    {
     "data": {
      "image/png": "[encoded data removed]",
      "text/plain": [
       "<Figure size 432x288 with 1 Axes>"
      ]
     },
     "metadata": {
      "needs_background": "light"
     },
     "output_type": "display_data"
    }
   ],
   "source": [
    "plt.plot(aapl_frac['ZBRA_close'], label='d = 0.15')\n",
    "plt.plot(df['ZBRA_close'], label='price')\n",
    "plt.legend()"
   ]
  },
  {
   "cell_type": "code",
   "execution_count": 351,
   "metadata": {},
   "outputs": [
    {
     "data": {
      "text/plain": [
       "(7, 3030)"
      ]
     },
     "execution_count": 351,
     "metadata": {},
     "output_type": "execute_result"
    }
   ],
   "source": [
    "df2 = df.copy(deep=True)\n",
    "adf_test.shape"
   ]
  },
  {
   "cell_type": "markdown",
   "metadata": {},
   "source": [
    "Prior to optimizing, we identified that our desired algorithm for searching for the best d-value for each stock would have taken somewhere on the order of 1-10 days. \n",
    "\n",
    "With 1590 stocks, a runtime of 31 seconds each, and an iterative approach to finding the best d-value, one iteration would take roughly 11 hours to complete. Up to 20 iterations max for a worst case runtime of (31 seconds * 1590 stocks * 20 iterations = 985,800 seconds / 3600 minutes / 24 hours = 11.4 days). \n",
    "\n",
    "This was not reasonable, so we optimized the function using pandas rolling apply, and cut the magnitude down by one order. Now, one iteration through all the non-stationary stocks should take about 1.5 hours, with a worst case runtime of 30 hours. \n",
    "\n",
    "Since we expect the majority of stocks to be solved within the first few iterations, this is now acceptable. "
   ]
  },
  {
   "cell_type": "code",
   "execution_count": null,
   "metadata": {},
   "outputs": [
    {
     "name": "stdout",
     "output_type": "stream",
     "text": [
      "Beginning fracDiff\n",
      "Current d value 0.05\n",
      "Time elapsed: 0.005811452865600586\n",
      "Remaining_cols shape[0]: 1592\n",
      "Expected runtime 1.5698888888888887\n",
      "Current time: 4:14:42\n",
      "\n",
      "fracdiff d:0.25 complete, current remaining cols:1016\n",
      "Beginning fracDiff\n",
      "Current d value 0.1\n",
      "Time elapsed: 5918.516360759735\n",
      "Remaining_cols shape[0]: 1016\n",
      "Expected runtime 1.0018888888888888\n",
      "Current time: 5:53:20\n",
      "\n"
     ]
    }
   ],
   "source": [
    "start = time.time()\n",
    "\n",
    "remaining_cols = adf_test[adf_test.columns[adf_test.loc['pVal'] > 0.05]].columns\n",
    "d_value = 0.05\n",
    "\n",
    "while remaining_cols.shape[0] > 0 and d_value <= 1:\n",
    "    # impute the fracDiff for the current d on the remaining cols \n",
    "    print('Beginning fracDiff ---')\n",
    "    print(f'Current d value: {d_value}')\n",
    "    print(f'Time Elapsed: {time.time() - start}')\n",
    "    print(f'Remaining Columns: {remaining_cols.shape[0]}')\n",
    "    print(f'Expected Runtime {remaining_cols.shape[0] * 3.55/3600}')\n",
    "    print('Current Time: {}'.format(datetime.now(timezone(\"US/Pacific\")).strftime('%-I:%M:%S')))\n",
    "    print('/n')\n",
    "    \n",
    "    df2[remaining_cols] = fracDiff_FFD(df[remaining_cols], d=d_value)\n",
    "    # with the new diffed\n",
    "    adf_test[remaining_cols] = df2[remaining_cols].apply(fuller_test)\n",
    "    for col in remaining_cols:\n",
    "        adf_test.loc['corr', col] = np.corrcoef(df.loc[df2[col].dropna().index, col], df2[col].dropna())[0,1]\n",
    "        adf_test.loc['fracD', col] = d_value\n",
    "    \n",
    "    remaining_cols = adf_test[adf_test.columns[adf_test.loc['pVal'] > 0.05]].columns\n",
    "    print(f'COMPLETE: fracDiff d:{d_value}')\n",
    "    print(f'current remaining cols:{remaining_cols.shape[0]}')\n",
    "    print('\\n')\n",
    "    \n",
    "    adf_test.to_csv('../data/adf_testing/adf_testing_d{}.csv'.format(int(d_value*100)))\n",
    "    df2.to_csv('../data/adf_testing/fracdiff_d{}.csv'.format(int(d_value*100)))\n",
    "    d_value+=0.05"
   ]
  },
  {
   "cell_type": "markdown",
   "metadata": {},
   "source": [
    "Unforunately, due to a kernal overload part way through the loop had to be restarted. For posterity, the output of the cells has been recorded and compiled in markdown below. \n",
    "\n",
    "```\n",
    "Beginning fracDiff\n",
    "Current d value 0.05\n",
    "Time elapsed: 0.005811452865600586\n",
    "Remaining_cols shape[0]: 1592\n",
    "Expected runtime 1.5698888888888887\n",
    "Current time: 4:14:42\n",
    "COMPLETE: fracdiff d:0.05 \n",
    "current remaining cols:1016\n",
    "\n",
    "Beginning fracDiff ---\n",
    "Current d value: 0.1\n",
    "Time elapsed: 5918.516360759735\n",
    "Remaining Columns: 1016\n",
    "Expected Runtime 1.0018888888888888\n",
    "Current Time: 6:23:55\n",
    "COMPLETE: fracDiff d:0.1\n",
    "current remaining cols:338\n",
    "\n",
    "Beginning fracDiff ---\n",
    "Current d value: 0.15000000000000002\n",
    "Time Elapsed: 3895.2930240631104\n",
    "Remaining Columns: 338\n",
    "Expected Runtime 0.3333055555555555\n",
    "Current Time: 7:28:51\n",
    "COMPLETE: fracDiff d:0.15000000000000002\n",
    "current remaining cols:30\n",
    "\n",
    "Beginning fracDiff ---\n",
    "Current d value: 0.2\n",
    "Time Elapsed: 5242.763531923294\n",
    "Remaining Columns: 30\n",
    "Expected Runtime 0.029583333333333333\n",
    "Current Time: 7:51:18\n",
    "COMPLETE: fracDiff d:0.2\n",
    "current remaining cols:0\n",
    "```\n",
    "\n",
    "Interestingly, all the series were made stationary with a maximum d of 0.2, much lower than the guidelines in \"AFML\". "
   ]
  }
 ],
 "metadata": {
  "kernelspec": {
   "display_name": "Python 3",
   "language": "python",
   "name": "python3"
  },
  "language_info": {
   "codemirror_mode": {
    "name": "ipython",
    "version": 3
   },
   "file_extension": ".py",
   "mimetype": "text/x-python",
   "name": "python",
   "nbconvert_exporter": "python",
   "pygments_lexer": "ipython3",
   "version": "3.8.5"
  }
 },
 "nbformat": 4,
 "nbformat_minor": 4
}
