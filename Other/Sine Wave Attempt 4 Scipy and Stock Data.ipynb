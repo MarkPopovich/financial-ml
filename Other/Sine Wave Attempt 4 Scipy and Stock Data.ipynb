{
 "cells": [
  {
   "cell_type": "markdown",
   "metadata": {},
   "source": [
    "In this notebook, I will edit attempt 1 to try to solve the sine wave without volume interferring. "
   ]
  },
  {
   "cell_type": "markdown",
   "metadata": {},
   "source": [
    "In this notebook, I will model a Sine wave with variable Volume over time, and then attempt to build a small neural network capable of returning beta coefficients for 4 variables: Magnitude, Phase Shift, Period, and Intercept. "
   ]
  },
  {
   "cell_type": "code",
   "execution_count": 3,
   "metadata": {},
   "outputs": [],
   "source": [
    "import numpy as np\n",
    "import matplotlib.pyplot as plt\n",
    "import tensorflow as tf\n",
    "import pandas as pd "
   ]
  },
  {
   "cell_type": "code",
   "execution_count": 2,
   "metadata": {},
   "outputs": [],
   "source": [
    "import numpy, scipy.optimize\n",
    "\n",
    "def fit_sin(tt, yy):\n",
    "    '''Fit sin to the input time sequence, \n",
    "    and return fitting parameters \"amp\", \"omega\", \"phase\", \"offset\", \"freq\", \"period\" and \"fitfunc\"'''\n",
    "    tt = numpy.array(tt)\n",
    "    yy = numpy.array(yy)\n",
    "    ff = numpy.fft.fftfreq(len(tt), (tt[1]-tt[0]))   # assume uniform spacing\n",
    "    Fyy = abs(numpy.fft.fft(yy))\n",
    "    guess_freq = abs(ff[numpy.argmax(Fyy[1:])+1])   # excluding the zero frequency \"peak\", which is related to offset\n",
    "    guess_amp = numpy.std(yy) * 2.**0.5\n",
    "    guess_offset = numpy.mean(yy)\n",
    "    guess = numpy.array([guess_amp, 2.*numpy.pi*guess_freq, 0., guess_offset])\n",
    "\n",
    "    def sinfunc(t, A, w, p, c):  return A *numpy.sin(w*t + p) + c\n",
    "    popt, pcov = scipy.optimize.curve_fit(sinfunc, tt, yy, p0=guess)\n",
    "    A, w, p, c = popt\n",
    "    f = w/(2.*numpy.pi)\n",
    "    fitfunc = lambda t: A * numpy.sin(w*t + p) + c\n",
    "    return {\"amp\": A, \n",
    "            \"omega\": w, \n",
    "            \"phase\": p, \n",
    "            \"offset\": c, \n",
    "            \"freq\": f, \n",
    "            \"period\": 1./f, \n",
    "            \"fitfunc\": fitfunc, \n",
    "            \"maxcov\": numpy.max(pcov), \n",
    "            \"rawres\": (guess,popt,pcov)}"
   ]
  },
  {
   "cell_type": "code",
   "execution_count": 4,
   "metadata": {},
   "outputs": [
    {
     "data": {
      "text/html": [
       "<div>\n",
       "<style scoped>\n",
       "    .dataframe tbody tr th:only-of-type {\n",
       "        vertical-align: middle;\n",
       "    }\n",
       "\n",
       "    .dataframe tbody tr th {\n",
       "        vertical-align: top;\n",
       "    }\n",
       "\n",
       "    .dataframe thead th {\n",
       "        text-align: right;\n",
       "    }\n",
       "</style>\n",
       "<table border=\"1\" class=\"dataframe\">\n",
       "  <thead>\n",
       "    <tr style=\"text-align: right;\">\n",
       "      <th></th>\n",
       "      <th>volume</th>\n",
       "      <th>log_return</th>\n",
       "      <th>pct_return_0</th>\n",
       "      <th>pct_return_1</th>\n",
       "      <th>pct_return_2</th>\n",
       "      <th>pct_return_3</th>\n",
       "      <th>pct_return_4</th>\n",
       "      <th>pct_return_5</th>\n",
       "      <th>pct_return_6</th>\n",
       "      <th>pct_return_7</th>\n",
       "      <th>...</th>\n",
       "      <th>yearly_(0.19000000000000006, 0.19500000000000006]</th>\n",
       "      <th>yearly_(0.19500000000000006, 0.20000000000000007]</th>\n",
       "      <th>yearly_(0.20000000000000007, 0.20500000000000007]</th>\n",
       "      <th>yearly_(0.20500000000000007, 0.21000000000000008]</th>\n",
       "      <th>yearly_(0.21000000000000008, 0.21500000000000005]</th>\n",
       "      <th>pct_change_SMA_50</th>\n",
       "      <th>pct_change_SMA_120</th>\n",
       "      <th>diff_from_SMA_50</th>\n",
       "      <th>diff_from_SMA_120</th>\n",
       "      <th>target</th>\n",
       "    </tr>\n",
       "  </thead>\n",
       "  <tbody>\n",
       "    <tr>\n",
       "      <th>1</th>\n",
       "      <td>1454365</td>\n",
       "      <td>-0.010603</td>\n",
       "      <td>-0.010547</td>\n",
       "      <td>0.001077</td>\n",
       "      <td>-0.003740</td>\n",
       "      <td>0.017976</td>\n",
       "      <td>0.005898</td>\n",
       "      <td>-0.006430</td>\n",
       "      <td>-0.005739</td>\n",
       "      <td>-0.031663</td>\n",
       "      <td>...</td>\n",
       "      <td>0</td>\n",
       "      <td>0</td>\n",
       "      <td>0</td>\n",
       "      <td>0</td>\n",
       "      <td>0</td>\n",
       "      <td>0.000815</td>\n",
       "      <td>0.000240</td>\n",
       "      <td>0.003826</td>\n",
       "      <td>0.088502</td>\n",
       "      <td>0.017766</td>\n",
       "    </tr>\n",
       "    <tr>\n",
       "      <th>2</th>\n",
       "      <td>1289530</td>\n",
       "      <td>0.001077</td>\n",
       "      <td>0.001077</td>\n",
       "      <td>-0.003740</td>\n",
       "      <td>0.017976</td>\n",
       "      <td>0.005898</td>\n",
       "      <td>-0.006430</td>\n",
       "      <td>-0.005739</td>\n",
       "      <td>-0.031663</td>\n",
       "      <td>0.006196</td>\n",
       "      <td>...</td>\n",
       "      <td>0</td>\n",
       "      <td>0</td>\n",
       "      <td>0</td>\n",
       "      <td>0</td>\n",
       "      <td>0</td>\n",
       "      <td>0.001066</td>\n",
       "      <td>0.000282</td>\n",
       "      <td>0.015195</td>\n",
       "      <td>0.099850</td>\n",
       "      <td>-0.010547</td>\n",
       "    </tr>\n",
       "    <tr>\n",
       "      <th>3</th>\n",
       "      <td>1577826</td>\n",
       "      <td>-0.003747</td>\n",
       "      <td>-0.003740</td>\n",
       "      <td>0.017976</td>\n",
       "      <td>0.005898</td>\n",
       "      <td>-0.006430</td>\n",
       "      <td>-0.005739</td>\n",
       "      <td>-0.031663</td>\n",
       "      <td>0.006196</td>\n",
       "      <td>0.014450</td>\n",
       "      <td>...</td>\n",
       "      <td>0</td>\n",
       "      <td>0</td>\n",
       "      <td>0</td>\n",
       "      <td>0</td>\n",
       "      <td>0</td>\n",
       "      <td>0.001217</td>\n",
       "      <td>0.000311</td>\n",
       "      <td>0.015028</td>\n",
       "      <td>0.098461</td>\n",
       "      <td>0.001077</td>\n",
       "    </tr>\n",
       "    <tr>\n",
       "      <th>4</th>\n",
       "      <td>1995368</td>\n",
       "      <td>0.017817</td>\n",
       "      <td>0.017976</td>\n",
       "      <td>0.005898</td>\n",
       "      <td>-0.006430</td>\n",
       "      <td>-0.005739</td>\n",
       "      <td>-0.031663</td>\n",
       "      <td>0.006196</td>\n",
       "      <td>0.014450</td>\n",
       "      <td>-0.019514</td>\n",
       "      <td>...</td>\n",
       "      <td>0</td>\n",
       "      <td>0</td>\n",
       "      <td>0</td>\n",
       "      <td>0</td>\n",
       "      <td>0</td>\n",
       "      <td>0.001276</td>\n",
       "      <td>0.000336</td>\n",
       "      <td>0.019915</td>\n",
       "      <td>0.102414</td>\n",
       "      <td>-0.003740</td>\n",
       "    </tr>\n",
       "    <tr>\n",
       "      <th>5</th>\n",
       "      <td>1979957</td>\n",
       "      <td>0.005880</td>\n",
       "      <td>0.005898</td>\n",
       "      <td>-0.006430</td>\n",
       "      <td>-0.005739</td>\n",
       "      <td>-0.031663</td>\n",
       "      <td>0.006196</td>\n",
       "      <td>0.014450</td>\n",
       "      <td>-0.019514</td>\n",
       "      <td>0.012124</td>\n",
       "      <td>...</td>\n",
       "      <td>0</td>\n",
       "      <td>0</td>\n",
       "      <td>0</td>\n",
       "      <td>0</td>\n",
       "      <td>0</td>\n",
       "      <td>0.000928</td>\n",
       "      <td>0.000220</td>\n",
       "      <td>0.003026</td>\n",
       "      <td>0.082810</td>\n",
       "      <td>0.017976</td>\n",
       "    </tr>\n",
       "  </tbody>\n",
       "</table>\n",
       "<p>5 rows × 172 columns</p>\n",
       "</div>"
      ],
      "text/plain": [
       "    volume  log_return  pct_return_0  pct_return_1  pct_return_2  \\\n",
       "1  1454365   -0.010603     -0.010547      0.001077     -0.003740   \n",
       "2  1289530    0.001077      0.001077     -0.003740      0.017976   \n",
       "3  1577826   -0.003747     -0.003740      0.017976      0.005898   \n",
       "4  1995368    0.017817      0.017976      0.005898     -0.006430   \n",
       "5  1979957    0.005880      0.005898     -0.006430     -0.005739   \n",
       "\n",
       "   pct_return_3  pct_return_4  pct_return_5  pct_return_6  pct_return_7  ...  \\\n",
       "1      0.017976      0.005898     -0.006430     -0.005739     -0.031663  ...   \n",
       "2      0.005898     -0.006430     -0.005739     -0.031663      0.006196  ...   \n",
       "3     -0.006430     -0.005739     -0.031663      0.006196      0.014450  ...   \n",
       "4     -0.005739     -0.031663      0.006196      0.014450     -0.019514  ...   \n",
       "5     -0.031663      0.006196      0.014450     -0.019514      0.012124  ...   \n",
       "\n",
       "   yearly_(0.19000000000000006, 0.19500000000000006]  \\\n",
       "1                                                  0   \n",
       "2                                                  0   \n",
       "3                                                  0   \n",
       "4                                                  0   \n",
       "5                                                  0   \n",
       "\n",
       "   yearly_(0.19500000000000006, 0.20000000000000007]  \\\n",
       "1                                                  0   \n",
       "2                                                  0   \n",
       "3                                                  0   \n",
       "4                                                  0   \n",
       "5                                                  0   \n",
       "\n",
       "   yearly_(0.20000000000000007, 0.20500000000000007]  \\\n",
       "1                                                  0   \n",
       "2                                                  0   \n",
       "3                                                  0   \n",
       "4                                                  0   \n",
       "5                                                  0   \n",
       "\n",
       "   yearly_(0.20500000000000007, 0.21000000000000008]  \\\n",
       "1                                                  0   \n",
       "2                                                  0   \n",
       "3                                                  0   \n",
       "4                                                  0   \n",
       "5                                                  0   \n",
       "\n",
       "   yearly_(0.21000000000000008, 0.21500000000000005]  pct_change_SMA_50  \\\n",
       "1                                                  0           0.000815   \n",
       "2                                                  0           0.001066   \n",
       "3                                                  0           0.001217   \n",
       "4                                                  0           0.001276   \n",
       "5                                                  0           0.000928   \n",
       "\n",
       "   pct_change_SMA_120  diff_from_SMA_50  diff_from_SMA_120    target  \n",
       "1            0.000240          0.003826           0.088502  0.017766  \n",
       "2            0.000282          0.015195           0.099850 -0.010547  \n",
       "3            0.000311          0.015028           0.098461  0.001077  \n",
       "4            0.000336          0.019915           0.102414 -0.003740  \n",
       "5            0.000220          0.003026           0.082810  0.017976  \n",
       "\n",
       "[5 rows x 172 columns]"
      ]
     },
     "execution_count": 4,
     "metadata": {},
     "output_type": "execute_result"
    }
   ],
   "source": [
    "df = pd.read_pickle('.././data/prepared/goog081420.pickle')\n",
    "\n",
    "df.head()"
   ]
  },
  {
   "cell_type": "code",
   "execution_count": 6,
   "metadata": {},
   "outputs": [],
   "source": [
    "df['target_by_volume'] = df['target'] / df['volume']"
   ]
  },
  {
   "cell_type": "code",
   "execution_count": 34,
   "metadata": {},
   "outputs": [
    {
     "data": {
      "text/plain": [
       "Int64Index([   1,    2,    3,    4,    5,    6,    7,    8,    9,   10,\n",
       "            ...\n",
       "            3894, 3895, 3896, 3897, 3898, 3899, 3900, 3901, 3902, 3903],\n",
       "           dtype='int64', length=3903)"
      ]
     },
     "execution_count": 34,
     "metadata": {},
     "output_type": "execute_result"
    }
   ],
   "source": [
    "df.index"
   ]
  },
  {
   "cell_type": "code",
   "execution_count": 94,
   "metadata": {},
   "outputs": [],
   "source": [
    "x_train = df.index[-40:]\n",
    "y_train = df['target_by_volume'][-40:]\n",
    "\n",
    "x_test = df.index[-40:]\n",
    "y_test = df['target_by_volume'][-40:]"
   ]
  },
  {
   "cell_type": "code",
   "execution_count": 95,
   "metadata": {},
   "outputs": [
    {
     "data": {
      "text/plain": [
       "(Int64Index([3864, 3865, 3866, 3867, 3868, 3869, 3870, 3871, 3872, 3873, 3874,\n",
       "             3875, 3876, 3877, 3878, 3879, 3880, 3881, 3882, 3883, 3884, 3885,\n",
       "             3886, 3887, 3888, 3889, 3890, 3891, 3892, 3893, 3894, 3895, 3896,\n",
       "             3897, 3898, 3899, 3900, 3901, 3902, 3903],\n",
       "            dtype='int64'),\n",
       " 3864   -4.549174e-10\n",
       " 3865    2.282124e-09\n",
       " 3866    1.971114e-10\n",
       " 3867    1.095046e-09\n",
       " 3868    2.356605e-09\n",
       " 3869   -1.921861e-10\n",
       " 3870    2.663369e-11\n",
       " 3871    3.782368e-10\n",
       " 3872   -5.830394e-10\n",
       " 3873    1.632355e-09\n",
       " 3874    1.555576e-10\n",
       " 3875    1.887452e-10\n",
       " 3876   -8.414950e-10\n",
       " 3877    3.287720e-10\n",
       " 3878    2.529994e-10\n",
       " 3879    1.477343e-09\n",
       " 3880   -8.078480e-10\n",
       " 3881    9.272082e-10\n",
       " 3882   -9.835013e-10\n",
       " 3883   -5.521124e-10\n",
       " 3884   -3.322290e-10\n",
       " 3885   -1.290800e-09\n",
       " 3886   -1.102095e-09\n",
       " 3887    1.154487e-09\n",
       " 3888   -3.897436e-10\n",
       " 3889    6.776781e-10\n",
       " 3890   -2.537782e-10\n",
       " 3891   -6.560433e-10\n",
       " 3892    5.713554e-10\n",
       " 3893   -3.094304e-10\n",
       " 3894   -8.362798e-10\n",
       " 3895    4.995308e-10\n",
       " 3896   -1.957033e-09\n",
       " 3897    1.212318e-11\n",
       " 3898   -7.767973e-11\n",
       " 3899    3.156283e-10\n",
       " 3900    1.503748e-10\n",
       " 3901    1.136234e-09\n",
       " 3902   -8.120659e-11\n",
       " 3903   -5.467259e-10\n",
       " Name: target_by_volume, dtype: float64)"
      ]
     },
     "execution_count": 95,
     "metadata": {},
     "output_type": "execute_result"
    }
   ],
   "source": [
    "x_train, y_train"
   ]
  },
  {
   "cell_type": "code",
   "execution_count": 96,
   "metadata": {},
   "outputs": [
    {
     "data": {
      "text/plain": [
       "Float64Index([ -2.565231260382731e-10,   4.463332885898467e-10,\n",
       "              -2.7055462746850556e-10,     4.5919681825473e-10,\n",
       "              -2.8222922778307215e-10,   4.696634686674095e-10,\n",
       "              -2.9147087576466675e-10,   4.776650574932826e-10,\n",
       "              -2.9821936904575836e-10,   4.831494604150969e-10,\n",
       "              -3.0243074628161753e-10,   4.860809506835709e-10,\n",
       "               -3.040775735253258e-10,    4.86440431850224e-10,\n",
       "               -3.031491229392527e-10,   4.842255621664168e-10,\n",
       "               -2.996514426788277e-10,   4.794507698378201e-10,\n",
       "               -2.936073174933685e-10,   4.721471590358345e-10,\n",
       "               -2.850561203006213e-10,   4.623623072772277e-10,\n",
       "              -2.7405355570189223e-10,    4.50159955492511e-10,\n",
       "              -2.6067129710857677e-10,  4.3561959280184465e-10,\n",
       "              -2.4499651984393246e-10,   4.188359387033614e-10,\n",
       "               -2.271313332615866e-10,  3.9991832604706376e-10,\n",
       "              -2.0719211558009742e-10,   3.789899888137539e-10,\n",
       "              -1.8530875576661992e-10,  3.5618725933857804e-10,\n",
       "              -1.6162380740823373e-10,   3.316586802086708e-10,\n",
       "              -1.3629156008340981e-10,   3.055640366202149e-10,\n",
       "              -1.0947703427943879e-10,  2.7807331549838096e-10],\n",
       "             dtype='float64')"
      ]
     },
     "execution_count": 96,
     "metadata": {},
     "output_type": "execute_result"
    }
   ],
   "source": [
    "res['fitfunc'](x_test)"
   ]
  },
  {
   "cell_type": "code",
   "execution_count": 99,
   "metadata": {},
   "outputs": [
    {
     "name": "stdout",
     "output_type": "stream",
     "text": [
      "Amplitude=3.953552419068097e-10, Angular freq.=3.181959054420944, phase=-158.0422318447481, offset=9.12525793197832e-11, Max. Cov.=88257.13080819152\n"
     ]
    },
    {
     "data": {
      "image/png": "[encoded data removed]",
      "text/plain": [
       "<Figure size 432x288 with 1 Axes>"
      ]
     },
     "metadata": {
      "needs_background": "light"
     },
     "output_type": "display_data"
    }
   ],
   "source": [
    "import pylab as plt\n",
    "\n",
    "#N, amp, omega, phase, offset, noise = 500, 1., 2., .5, 4., 3\n",
    "#N, amp, omega, phase, offset, noise = 50, 1., .4, .5, 4., .2\n",
    "#N, amp, omega, phase, offset, noise = 200, 1., 20, .5, 4., 1\n",
    "#tt = numpy.linspace(0, 10, N)\n",
    "#tt2 = numpy.linspace(0, 10, 10*N)\n",
    "#yy = amp*numpy.sin(omega*tt + phase) + offset\n",
    "#yynoise = yy + noise*(numpy.random.random(len(tt))-0.5)\n",
    "\n",
    "res = fit_sin(x_train, y_train)\n",
    "print( \"Amplitude=%(amp)s, Angular freq.=%(omega)s, phase=%(phase)s, offset=%(offset)s, Max. Cov.=%(maxcov)s\" % res )\n",
    "\n",
    "plt.plot(x_test, y_test*df['volume'][-40:], \"-k\", label=\"y\", linewidth=2)\n",
    "#plt.plot(tt, yynoise, \"ok\", label=\"y with noise\")\n",
    "#plt.plot(x_test, res[\"fitfunc\"](x_test)*df['volume'][-40:], \"r-\", label=\"y fit curve\", linewidth=2)\n",
    "plt.legend(loc=\"best\")\n",
    "plt.show()"
   ]
  },
  {
   "cell_type": "code",
   "execution_count": 28,
   "metadata": {},
   "outputs": [
    {
     "data": {
      "text/plain": [
       "[<matplotlib.lines.Line2D at 0x7f93debad690>]"
      ]
     },
     "execution_count": 28,
     "metadata": {},
     "output_type": "execute_result"
    },
    {
     "data": {
      "image/png": "[encoded data removed]",
      "text/plain": [
       "<Figure size 432x288 with 1 Axes>"
      ]
     },
     "metadata": {
      "needs_background": "light"
     },
     "output_type": "display_data"
    }
   ],
   "source": [
    "plt.plot(df['target']*100)"
   ]
  },
  {
   "cell_type": "code",
   "execution_count": 33,
   "metadata": {},
   "outputs": [
    {
     "data": {
      "text/plain": [
       "count    3.903000e+03\n",
       "mean     6.498072e+06\n",
       "std      7.475381e+06\n",
       "min      7.931000e+03\n",
       "25%      1.692668e+06\n",
       "50%      4.042058e+06\n",
       "75%      8.252296e+06\n",
       "max      8.229865e+07\n",
       "Name: volume, dtype: float64"
      ]
     },
     "execution_count": 33,
     "metadata": {},
     "output_type": "execute_result"
    }
   ],
   "source": [
    "df['volume'].describe()"
   ]
  },
  {
   "cell_type": "code",
   "execution_count": 24,
   "metadata": {},
   "outputs": [
    {
     "data": {
      "text/plain": [
       "[<matplotlib.lines.Line2D at 0x7f93dec4c490>]"
      ]
     },
     "execution_count": 24,
     "metadata": {},
     "output_type": "execute_result"
    },
    {
     "data": {
      "image/png": "[encoded data removed]",
      "text/plain": [
       "<Figure size 432x288 with 1 Axes>"
      ]
     },
     "metadata": {
      "needs_background": "light"
     },
     "output_type": "display_data"
    }
   ],
   "source": [
    "plt.plot(x[y*100000000 > 20], y[y*100000000 > 20])"
   ]
  },
  {
   "cell_type": "code",
   "execution_count": 103,
   "metadata": {},
   "outputs": [
    {
     "data": {
      "text/plain": [
       "[<matplotlib.lines.Line2D at 0x7f93de90f890>]"
      ]
     },
     "execution_count": 103,
     "metadata": {},
     "output_type": "execute_result"
    },
    {
     "data": {
      "image/png": "[encoded data removed]",
      "text/plain": [
       "<Figure size 432x288 with 1 Axes>"
      ]
     },
     "metadata": {
      "needs_background": "light"
     },
     "output_type": "display_data"
    }
   ],
   "source": [
    "plt.plot(df['target'][-40:]*100)"
   ]
  },
  {
   "cell_type": "code",
   "execution_count": 107,
   "metadata": {},
   "outputs": [
    {
     "data": {
      "text/plain": [
       "0.01766968990125497"
      ]
     },
     "execution_count": 107,
     "metadata": {},
     "output_type": "execute_result"
    }
   ],
   "source": [
    "tar100 = df['target'][-40:]*100\n",
    "tar100.mean()"
   ]
  },
  {
   "cell_type": "code",
   "execution_count": 112,
   "metadata": {},
   "outputs": [
    {
     "data": {
      "text/plain": [
       "[<matplotlib.lines.Line2D at 0x7f93de571a10>]"
      ]
     },
     "execution_count": 112,
     "metadata": {},
     "output_type": "execute_result"
    },
    {
     "data": {
      "image/png": "[encoded data removed]",
      "text/plain": [
       "<Figure size 432x288 with 1 Axes>"
      ]
     },
     "metadata": {
      "needs_background": "light"
     },
     "output_type": "display_data"
    }
   ],
   "source": [
    "plt.plot(tar100 - tar100.mean())"
   ]
  },
  {
   "cell_type": "code",
   "execution_count": null,
   "metadata": {},
   "outputs": [],
   "source": []
  }
 ],
 "metadata": {
  "kernelspec": {
   "display_name": "Python 3",
   "language": "python",
   "name": "python3"
  },
  "language_info": {
   "codemirror_mode": {
    "name": "ipython",
    "version": 3
   },
   "file_extension": ".py",
   "mimetype": "text/x-python",
   "name": "python",
   "nbconvert_exporter": "python",
   "pygments_lexer": "ipython3",
   "version": "3.7.6"
  }
 },
 "nbformat": 4,
 "nbformat_minor": 4
}
