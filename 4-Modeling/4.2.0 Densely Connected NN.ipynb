{
 "cells": [
  {
   "cell_type": "markdown",
   "metadata": {},
   "source": [
    "# 4.2 Densely Connected NN\n",
    "\n",
    "In the last notebook, we jumped into training on a CNN. However, we quickly realized that history information seemed redundant and present information may be the most valuable. Given that, we decided to try a feed forward network and the results were interesting enough to warrant furtherr investigation. "
   ]
  },
  {
   "cell_type": "code",
   "execution_count": 1,
   "metadata": {},
   "outputs": [],
   "source": [
    "import tensorflow as tf\n",
    "from tensorflow import keras\n",
    "from tensorflow.keras import datasets, layers, models\n",
    "import matplotlib.pyplot as plt\n",
    "import numpy as np"
   ]
  },
  {
   "cell_type": "code",
   "execution_count": 2,
   "metadata": {},
   "outputs": [],
   "source": [
    "X_train = np.load('./data/prepared/august25screenfixed/numpy_matrices/X_train.npy')\n",
    "y_train = np.load('./data/prepared/august25screenfixed/numpy_matrices/y_train.npy')"
   ]
  },
  {
   "cell_type": "code",
   "execution_count": 3,
   "metadata": {},
   "outputs": [],
   "source": [
    "X_test = np.load('./data/prepared/august25screenfixed/numpy_matrices/X_test.npy')\n",
    "y_test = np.load('./data/prepared/august25screenfixed/numpy_matrices/y_test.npy')"
   ]
  },
  {
   "cell_type": "code",
   "execution_count": 6,
   "metadata": {},
   "outputs": [
    {
     "data": {
      "text/plain": [
       "(array([0., 1., 2.]), array([34245, 16007,  9748]))"
      ]
     },
     "execution_count": 6,
     "metadata": {},
     "output_type": "execute_result"
    }
   ],
   "source": [
    "np.unique(y_train, return_counts=True)"
   ]
  },
  {
   "cell_type": "code",
   "execution_count": 7,
   "metadata": {},
   "outputs": [],
   "source": [
    "# Undersample to balance classes for training set\n",
    "h = np.where(y_train == 0)[0]\n",
    "b = np.where(y_train == 1)[0]\n",
    "s = np.where(y_train == 2)[0]\n",
    "\n",
    "hi = np.random.choice(h, size=9000, replace=False)\n",
    "bi = np.random.choice(b, size=9000, replace=False)\n",
    "si = np.random.choice(s, size=9000, replace=False)"
   ]
  },
  {
   "cell_type": "code",
   "execution_count": 8,
   "metadata": {},
   "outputs": [
    {
     "data": {
      "text/plain": [
       "(27000,)"
      ]
     },
     "execution_count": 8,
     "metadata": {},
     "output_type": "execute_result"
    }
   ],
   "source": [
    "ind = np.concatenate([hi,bi,si])\n",
    "ind.shape"
   ]
  },
  {
   "cell_type": "code",
   "execution_count": 9,
   "metadata": {},
   "outputs": [
    {
     "data": {
      "text/plain": [
       "(array([0., 1., 2.]), array([9000, 9000, 9000]))"
      ]
     },
     "execution_count": 9,
     "metadata": {},
     "output_type": "execute_result"
    }
   ],
   "source": [
    "np.unique(y_train[ind], return_counts=True)"
   ]
  },
  {
   "cell_type": "code",
   "execution_count": 10,
   "metadata": {},
   "outputs": [
    {
     "data": {
      "text/plain": [
       "(27000, 1, 116, 60)"
      ]
     },
     "execution_count": 10,
     "metadata": {},
     "output_type": "execute_result"
    }
   ],
   "source": [
    "X_train[ind].shape"
   ]
  },
  {
   "cell_type": "code",
   "execution_count": 11,
   "metadata": {},
   "outputs": [],
   "source": [
    "y_train = y_train[ind]\n",
    "X_train = X_train[ind]"
   ]
  },
  {
   "cell_type": "code",
   "execution_count": 13,
   "metadata": {},
   "outputs": [
    {
     "data": {
      "text/plain": [
       "((27000, 1, 116, 60), (27000, 1))"
      ]
     },
     "execution_count": 13,
     "metadata": {},
     "output_type": "execute_result"
    }
   ],
   "source": [
    "X_train.shape, y_train.shape"
   ]
  },
  {
   "cell_type": "code",
   "execution_count": 14,
   "metadata": {},
   "outputs": [
    {
     "data": {
      "text/plain": [
       "(27000, 116, 60)"
      ]
     },
     "execution_count": 14,
     "metadata": {},
     "output_type": "execute_result"
    }
   ],
   "source": [
    "X_train.shape = (27000, 116, 60)\n",
    "X_train.shape"
   ]
  },
  {
   "cell_type": "code",
   "execution_count": 17,
   "metadata": {},
   "outputs": [
    {
     "data": {
      "text/plain": [
       "(27000, 116, 1)"
      ]
     },
     "execution_count": 17,
     "metadata": {},
     "output_type": "execute_result"
    }
   ],
   "source": [
    "X_train = X_train[:, :, :1]\n",
    "X_train.shape"
   ]
  },
  {
   "cell_type": "code",
   "execution_count": 18,
   "metadata": {},
   "outputs": [],
   "source": [
    "X_train.shape = (27000, 116)"
   ]
  },
  {
   "cell_type": "code",
   "execution_count": 19,
   "metadata": {},
   "outputs": [],
   "source": [
    "# decrease test size for runtime and memory concerns\n",
    "h = np.where(y_test == 0)[0]\n",
    "b = np.where(y_test == 1)[0]\n",
    "s = np.where(y_test == 2)[0]\n",
    "\n",
    "hi = np.random.choice(h, size=4000, replace=False)\n",
    "bi = np.random.choice(b, size=4000, replace=False)\n",
    "si = np.random.choice(s, size=4000, replace=False)"
   ]
  },
  {
   "cell_type": "code",
   "execution_count": 21,
   "metadata": {},
   "outputs": [
    {
     "data": {
      "text/plain": [
       "((12000, 1), (12000, 1, 116, 60))"
      ]
     },
     "execution_count": 21,
     "metadata": {},
     "output_type": "execute_result"
    }
   ],
   "source": [
    "indt = np.concatenate([hi,bi,si])\n",
    "indt.shape\n",
    "\n",
    "y_test = y_test[indt]\n",
    "X_test = X_test[indt]\n",
    "y_test.shape, X_test.shape"
   ]
  },
  {
   "cell_type": "code",
   "execution_count": 22,
   "metadata": {},
   "outputs": [],
   "source": [
    "X_test = X_test.reshape(12000, 116, 60)"
   ]
  },
  {
   "cell_type": "code",
   "execution_count": 24,
   "metadata": {},
   "outputs": [],
   "source": [
    "X_test = X_test[:, :, :1]"
   ]
  },
  {
   "cell_type": "code",
   "execution_count": 26,
   "metadata": {},
   "outputs": [],
   "source": [
    "X_test.shape = (12000, 116)"
   ]
  },
  {
   "cell_type": "code",
   "execution_count": 28,
   "metadata": {},
   "outputs": [
    {
     "data": {
      "text/plain": [
       "array([0.33333333, 0.33333333, 0.33333333])"
      ]
     },
     "execution_count": 28,
     "metadata": {},
     "output_type": "execute_result"
    }
   ],
   "source": [
    "np.unique(y_test, return_counts=True)[1]/y_test.shape[0]"
   ]
  },
  {
   "cell_type": "markdown",
   "metadata": {},
   "source": [
    "Options:  \n",
    "    1) decrease training set size and run more epochs  \n",
    "    2) Change image size to make them shorter  \n",
    "    3) Change filters, kernal, and layers   "
   ]
  },
  {
   "cell_type": "markdown",
   "metadata": {},
   "source": [
    "#### Attempt 3 columns only"
   ]
  },
  {
   "cell_type": "markdown",
   "metadata": {},
   "source": [
    "So far, the super simple feed forward network seems to perform just as well as the cnn. "
   ]
  },
  {
   "cell_type": "code",
   "execution_count": 29,
   "metadata": {},
   "outputs": [
    {
     "name": "stdout",
     "output_type": "stream",
     "text": [
      "Train on 27000 samples, validate on 12000 samples\n",
      "Epoch 1/50\n",
      "27000/27000 [==============================] - 3s 113us/sample - loss: 1.0868 - accuracy: 0.3751 - val_loss: 1.1126 - val_accuracy: 0.3438\n",
      "Epoch 2/50\n",
      "27000/27000 [==============================] - 2s 87us/sample - loss: 1.0699 - accuracy: 0.4041 - val_loss: 1.1216 - val_accuracy: 0.3663\n",
      "Epoch 3/50\n",
      "27000/27000 [==============================] - 3s 109us/sample - loss: 1.0647 - accuracy: 0.4104 - val_loss: 1.1082 - val_accuracy: 0.3560\n",
      "Epoch 4/50\n",
      "27000/27000 [==============================] - 3s 103us/sample - loss: 1.0613 - accuracy: 0.4228 - val_loss: 1.1077 - val_accuracy: 0.3662\n",
      "Epoch 5/50\n",
      "27000/27000 [==============================] - 2s 92us/sample - loss: 1.0572 - accuracy: 0.4264 - val_loss: 1.1130 - val_accuracy: 0.3715\n",
      "Epoch 6/50\n",
      "27000/27000 [==============================] - 3s 105us/sample - loss: 1.0504 - accuracy: 0.4337 - val_loss: 1.1363 - val_accuracy: 0.3674\n",
      "Epoch 7/50\n",
      "27000/27000 [==============================] - 3s 100us/sample - loss: 1.0442 - accuracy: 0.4374 - val_loss: 1.1371 - val_accuracy: 0.3591\n",
      "Epoch 8/50\n",
      "27000/27000 [==============================] - 3s 95us/sample - loss: 1.0369 - accuracy: 0.4451 - val_loss: 1.1292 - val_accuracy: 0.3713\n",
      "Epoch 9/50\n",
      "27000/27000 [==============================] - 3s 94us/sample - loss: 1.0282 - accuracy: 0.4527 - val_loss: 1.1191 - val_accuracy: 0.3593\n",
      "Epoch 10/50\n",
      "27000/27000 [==============================] - 3s 94us/sample - loss: 1.0239 - accuracy: 0.4585 - val_loss: 1.1498 - val_accuracy: 0.3632\n",
      "Epoch 11/50\n",
      "27000/27000 [==============================] - 2s 91us/sample - loss: 1.0133 - accuracy: 0.4659 - val_loss: 1.1345 - val_accuracy: 0.3620\n",
      "Epoch 12/50\n",
      "27000/27000 [==============================] - 2s 91us/sample - loss: 1.0065 - accuracy: 0.4682 - val_loss: 1.1348 - val_accuracy: 0.3643\n",
      "Epoch 13/50\n",
      "27000/27000 [==============================] - 2s 91us/sample - loss: 0.9974 - accuracy: 0.4773 - val_loss: 1.1469 - val_accuracy: 0.3616\n",
      "Epoch 14/50\n",
      "27000/27000 [==============================] - 2s 88us/sample - loss: 0.9877 - accuracy: 0.4881 - val_loss: 1.1699 - val_accuracy: 0.3618\n",
      "Epoch 15/50\n",
      "27000/27000 [==============================] - 3s 100us/sample - loss: 0.9838 - accuracy: 0.4928 - val_loss: 1.2124 - val_accuracy: 0.3627\n",
      "Epoch 16/50\n",
      "27000/27000 [==============================] - 3s 95us/sample - loss: 0.9718 - accuracy: 0.5036 - val_loss: 1.2029 - val_accuracy: 0.3667\n",
      "Epoch 17/50\n",
      "27000/27000 [==============================] - 2s 92us/sample - loss: 0.9617 - accuracy: 0.5126 - val_loss: 1.2225 - val_accuracy: 0.3555\n",
      "Epoch 18/50\n",
      "27000/27000 [==============================] - 3s 96us/sample - loss: 0.9545 - accuracy: 0.5172 - val_loss: 1.2145 - val_accuracy: 0.3560\n",
      "Epoch 19/50\n",
      "27000/27000 [==============================] - 2s 92us/sample - loss: 0.9436 - accuracy: 0.5266 - val_loss: 1.2780 - val_accuracy: 0.3595\n",
      "Epoch 20/50\n",
      "27000/27000 [==============================] - 2s 92us/sample - loss: 0.9323 - accuracy: 0.5394 - val_loss: 1.3255 - val_accuracy: 0.3496\n",
      "Epoch 21/50\n",
      "27000/27000 [==============================] - 2s 91us/sample - loss: 0.9234 - accuracy: 0.5432 - val_loss: 1.4042 - val_accuracy: 0.3534\n",
      "Epoch 22/50\n",
      "27000/27000 [==============================] - 2s 92us/sample - loss: 0.9110 - accuracy: 0.5547 - val_loss: 1.3177 - val_accuracy: 0.3464\n",
      "Epoch 23/50\n",
      "27000/27000 [==============================] - 3s 97us/sample - loss: 0.8996 - accuracy: 0.5631 - val_loss: 1.4542 - val_accuracy: 0.3483\n",
      "Epoch 24/50\n",
      "27000/27000 [==============================] - 2s 91us/sample - loss: 0.8957 - accuracy: 0.5661 - val_loss: 1.5186 - val_accuracy: 0.3547\n",
      "Epoch 25/50\n",
      "27000/27000 [==============================] - 3s 94us/sample - loss: 0.8775 - accuracy: 0.5791 - val_loss: 1.4652 - val_accuracy: 0.3473\n",
      "Epoch 26/50\n",
      "27000/27000 [==============================] - 3s 102us/sample - loss: 0.8683 - accuracy: 0.5846 - val_loss: 1.5355 - val_accuracy: 0.3462\n",
      "Epoch 27/50\n",
      "27000/27000 [==============================] - 3s 101us/sample - loss: 0.8569 - accuracy: 0.5927 - val_loss: 1.5774 - val_accuracy: 0.3423\n",
      "Epoch 28/50\n",
      "27000/27000 [==============================] - 2s 92us/sample - loss: 0.8447 - accuracy: 0.6002 - val_loss: 1.6508 - val_accuracy: 0.3375\n",
      "Epoch 29/50\n",
      "27000/27000 [==============================] - 3s 96us/sample - loss: 0.8349 - accuracy: 0.6063 - val_loss: 1.6435 - val_accuracy: 0.3430\n",
      "Epoch 30/50\n",
      "27000/27000 [==============================] - 3s 96us/sample - loss: 0.8197 - accuracy: 0.6166 - val_loss: 1.6929 - val_accuracy: 0.3414\n",
      "Epoch 31/50\n",
      "27000/27000 [==============================] - 3s 122us/sample - loss: 0.8092 - accuracy: 0.6201 - val_loss: 1.7553 - val_accuracy: 0.3312\n",
      "Epoch 32/50\n",
      "27000/27000 [==============================] - 3s 123us/sample - loss: 0.8001 - accuracy: 0.6254 - val_loss: 1.8925 - val_accuracy: 0.3335\n",
      "Epoch 33/50\n",
      "27000/27000 [==============================] - 3s 104us/sample - loss: 0.7900 - accuracy: 0.6334 - val_loss: 1.8469 - val_accuracy: 0.3323\n",
      "Epoch 34/50\n",
      "27000/27000 [==============================] - 3s 99us/sample - loss: 0.7815 - accuracy: 0.6376 - val_loss: 2.0908 - val_accuracy: 0.3262\n",
      "Epoch 35/50\n",
      "27000/27000 [==============================] - 3s 97us/sample - loss: 0.7716 - accuracy: 0.6431 - val_loss: 2.0095 - val_accuracy: 0.3344\n",
      "Epoch 36/50\n",
      "27000/27000 [==============================] - 3s 102us/sample - loss: 0.7603 - accuracy: 0.6534 - val_loss: 2.0510 - val_accuracy: 0.3354\n",
      "Epoch 37/50\n",
      "27000/27000 [==============================] - 3s 100us/sample - loss: 0.7513 - accuracy: 0.6549 - val_loss: 2.1375 - val_accuracy: 0.3301\n",
      "Epoch 38/50\n",
      "27000/27000 [==============================] - 3s 107us/sample - loss: 0.7392 - accuracy: 0.6637 - val_loss: 2.3062 - val_accuracy: 0.3312\n",
      "Epoch 39/50\n",
      "27000/27000 [==============================] - 3s 111us/sample - loss: 0.7320 - accuracy: 0.6672 - val_loss: 2.2040 - val_accuracy: 0.3391\n",
      "Epoch 40/50\n",
      "27000/27000 [==============================] - 3s 100us/sample - loss: 0.7229 - accuracy: 0.6747 - val_loss: 2.3722 - val_accuracy: 0.3265\n",
      "Epoch 41/50\n",
      "27000/27000 [==============================] - 3s 121us/sample - loss: 0.7155 - accuracy: 0.6770 - val_loss: 2.2539 - val_accuracy: 0.3370\n",
      "Epoch 42/50\n",
      "27000/27000 [==============================] - 3s 106us/sample - loss: 0.6989 - accuracy: 0.6869 - val_loss: 2.4868 - val_accuracy: 0.3297\n",
      "Epoch 43/50\n",
      "27000/27000 [==============================] - 3s 119us/sample - loss: 0.6977 - accuracy: 0.6872 - val_loss: 2.6200 - val_accuracy: 0.3322\n",
      "Epoch 44/50\n",
      "27000/27000 [==============================] - 3s 100us/sample - loss: 0.6863 - accuracy: 0.6947 - val_loss: 2.4511 - val_accuracy: 0.3333\n",
      "Epoch 45/50\n",
      "27000/27000 [==============================] - 2s 87us/sample - loss: 0.6803 - accuracy: 0.6977 - val_loss: 2.5232 - val_accuracy: 0.3233\n",
      "Epoch 46/50\n",
      "27000/27000 [==============================] - 2s 91us/sample - loss: 0.6792 - accuracy: 0.6979 - val_loss: 2.5693 - val_accuracy: 0.3303\n",
      "Epoch 47/50\n",
      "27000/27000 [==============================] - 3s 97us/sample - loss: 0.6635 - accuracy: 0.7019 - val_loss: 2.6113 - val_accuracy: 0.3330\n",
      "Epoch 48/50\n",
      "27000/27000 [==============================] - 3s 107us/sample - loss: 0.6606 - accuracy: 0.7078 - val_loss: 2.5959 - val_accuracy: 0.3345\n",
      "Epoch 49/50\n",
      "27000/27000 [==============================] - 3s 100us/sample - loss: 0.6525 - accuracy: 0.7106 - val_loss: 2.7393 - val_accuracy: 0.3380\n",
      "Epoch 50/50\n",
      "27000/27000 [==============================] - 3s 111us/sample - loss: 0.6458 - accuracy: 0.7126 - val_loss: 2.7741 - val_accuracy: 0.3322\n"
     ]
    },
    {
     "data": {
      "text/plain": [
       "<tensorflow.python.keras.callbacks.History at 0x7f85fc156e90>"
      ]
     },
     "execution_count": 29,
     "metadata": {},
     "output_type": "execute_result"
    }
   ],
   "source": [
    "model = keras.Sequential([\n",
    "    keras.layers.Dense(116, activation='relu'),\n",
    "    keras.layers.Dense(116, activation='relu'),\n",
    "    keras.layers.Dense(116, activation='relu'),\n",
    "    keras.layers.Dense(116, activation='relu'),\n",
    "    keras.layers.Dense(3)\n",
    "])\n",
    "\n",
    "model.compile(optimizer='adam',\n",
    "              loss=tf.keras.losses.SparseCategoricalCrossentropy(from_logits=True),\n",
    "              metrics=['accuracy'])\n",
    "\n",
    "model.fit(X_train, y_train, epochs=50,\n",
    "         validation_data=(X_test, y_test))"
   ]
  },
  {
   "cell_type": "code",
   "execution_count": 56,
   "metadata": {},
   "outputs": [],
   "source": [
    "probability_model = tf.keras.Sequential([model, \n",
    "                                         tf.keras.layers.Softmax()])\n",
    "\n",
    "predictions = probability_model.predict(X_train)"
   ]
  },
  {
   "cell_type": "code",
   "execution_count": 58,
   "metadata": {},
   "outputs": [
    {
     "data": {
      "text/plain": [
       "array([0.7640396 , 0.08323085, 0.15272966], dtype=float32)"
      ]
     },
     "execution_count": 58,
     "metadata": {},
     "output_type": "execute_result"
    }
   ],
   "source": [
    "predictions[0]"
   ]
  },
  {
   "cell_type": "code",
   "execution_count": 59,
   "metadata": {},
   "outputs": [
    {
     "data": {
      "text/plain": [
       "0"
      ]
     },
     "execution_count": 59,
     "metadata": {},
     "output_type": "execute_result"
    }
   ],
   "source": [
    "np.argmax(predictions[0])"
   ]
  },
  {
   "cell_type": "code",
   "execution_count": 60,
   "metadata": {},
   "outputs": [],
   "source": [
    "predictions = probability_model.predict(X_test)"
   ]
  },
  {
   "cell_type": "code",
   "execution_count": 61,
   "metadata": {},
   "outputs": [
    {
     "data": {
      "text/plain": [
       "0"
      ]
     },
     "execution_count": 61,
     "metadata": {},
     "output_type": "execute_result"
    }
   ],
   "source": [
    "np.argmax(predictions[0])"
   ]
  },
  {
   "cell_type": "code",
   "execution_count": 62,
   "metadata": {},
   "outputs": [
    {
     "data": {
      "text/plain": [
       "array([9.8680556e-01, 1.2953308e-02, 2.4112873e-04], dtype=float32)"
      ]
     },
     "execution_count": 62,
     "metadata": {},
     "output_type": "execute_result"
    }
   ],
   "source": [
    "predictions[0]"
   ]
  },
  {
   "cell_type": "code",
   "execution_count": 63,
   "metadata": {},
   "outputs": [
    {
     "data": {
      "text/plain": [
       "0.0"
      ]
     },
     "execution_count": 63,
     "metadata": {},
     "output_type": "execute_result"
    }
   ],
   "source": [
    "y_test[0]"
   ]
  },
  {
   "cell_type": "markdown",
   "metadata": {},
   "source": [
    "The model appears interesting now. It trains very quickly and does well on the training set but not the test set. We can try a couple new approachs. \n",
    "\n",
    "1) Let's increase the training set size.   \n",
    "2) Let's increase and balance the test set   "
   ]
  },
  {
   "cell_type": "code",
   "execution_count": 30,
   "metadata": {},
   "outputs": [
    {
     "name": "stdout",
     "output_type": "stream",
     "text": [
      "Train on 27000 samples, validate on 12000 samples\n",
      "Epoch 1/50\n",
      "27000/27000 [==============================] - 3s 125us/sample - loss: 1.0850 - accuracy: 0.3747 - val_loss: 1.1088 - val_accuracy: 0.3647\n",
      "Epoch 2/50\n",
      "27000/27000 [==============================] - 3s 113us/sample - loss: 1.0721 - accuracy: 0.3980 - val_loss: 1.1115 - val_accuracy: 0.3592\n",
      "Epoch 3/50\n",
      "27000/27000 [==============================] - 4s 132us/sample - loss: 1.0665 - accuracy: 0.4105 - val_loss: 1.1098 - val_accuracy: 0.3720\n",
      "Epoch 4/50\n",
      "27000/27000 [==============================] - 3s 119us/sample - loss: 1.0625 - accuracy: 0.4145 - val_loss: 1.1180 - val_accuracy: 0.3667\n",
      "Epoch 5/50\n",
      "27000/27000 [==============================] - 3s 106us/sample - loss: 1.0576 - accuracy: 0.4214 - val_loss: 1.1237 - val_accuracy: 0.3663\n",
      "Epoch 6/50\n",
      "27000/27000 [==============================] - 3s 102us/sample - loss: 1.0543 - accuracy: 0.4239 - val_loss: 1.1264 - val_accuracy: 0.3676\n",
      "Epoch 7/50\n",
      "27000/27000 [==============================] - 3s 105us/sample - loss: 1.0461 - accuracy: 0.4347 - val_loss: 1.1226 - val_accuracy: 0.3632\n",
      "Epoch 8/50\n",
      "27000/27000 [==============================] - 3s 106us/sample - loss: 1.0384 - accuracy: 0.4400 - val_loss: 1.1240 - val_accuracy: 0.3626\n",
      "Epoch 9/50\n",
      "27000/27000 [==============================] - 3s 116us/sample - loss: 1.0292 - accuracy: 0.4465 - val_loss: 1.1319 - val_accuracy: 0.3645\n",
      "Epoch 10/50\n",
      "27000/27000 [==============================] - 3s 108us/sample - loss: 1.0200 - accuracy: 0.4560 - val_loss: 1.1534 - val_accuracy: 0.3543\n",
      "Epoch 11/50\n",
      "27000/27000 [==============================] - 3s 102us/sample - loss: 1.0139 - accuracy: 0.4651 - val_loss: 1.1765 - val_accuracy: 0.3687\n",
      "Epoch 12/50\n",
      "27000/27000 [==============================] - 3s 114us/sample - loss: 1.0037 - accuracy: 0.4706 - val_loss: 1.3635 - val_accuracy: 0.3512\n",
      "Epoch 13/50\n",
      "27000/27000 [==============================] - 3s 109us/sample - loss: 0.9930 - accuracy: 0.4854 - val_loss: 1.3752 - val_accuracy: 0.3585\n",
      "Epoch 14/50\n",
      "27000/27000 [==============================] - 3s 114us/sample - loss: 0.9829 - accuracy: 0.4877 - val_loss: 1.3348 - val_accuracy: 0.3533\n",
      "Epoch 15/50\n",
      "27000/27000 [==============================] - 4s 131us/sample - loss: 0.9714 - accuracy: 0.5032 - val_loss: 1.3334 - val_accuracy: 0.3557\n",
      "Epoch 16/50\n",
      "27000/27000 [==============================] - 3s 127us/sample - loss: 0.9540 - accuracy: 0.5164 - val_loss: 1.5319 - val_accuracy: 0.3596\n",
      "Epoch 17/50\n",
      "27000/27000 [==============================] - 3s 126us/sample - loss: 0.9441 - accuracy: 0.5252 - val_loss: 1.5801 - val_accuracy: 0.3507\n",
      "Epoch 18/50\n",
      "27000/27000 [==============================] - 3s 124us/sample - loss: 0.9278 - accuracy: 0.5343 - val_loss: 1.5539 - val_accuracy: 0.3558\n",
      "Epoch 19/50\n",
      "27000/27000 [==============================] - 3s 108us/sample - loss: 0.9196 - accuracy: 0.5434 - val_loss: 1.4761 - val_accuracy: 0.3463\n",
      "Epoch 20/50\n",
      "27000/27000 [==============================] - 3s 105us/sample - loss: 0.9053 - accuracy: 0.5528 - val_loss: 1.5835 - val_accuracy: 0.3498\n",
      "Epoch 21/50\n",
      "27000/27000 [==============================] - 3s 107us/sample - loss: 0.8908 - accuracy: 0.5613 - val_loss: 1.7476 - val_accuracy: 0.3496\n",
      "Epoch 22/50\n",
      "27000/27000 [==============================] - 3s 107us/sample - loss: 0.8814 - accuracy: 0.5663 - val_loss: 1.9349 - val_accuracy: 0.3476\n",
      "Epoch 23/50\n",
      "27000/27000 [==============================] - 3s 110us/sample - loss: 0.8707 - accuracy: 0.5771 - val_loss: 1.9610 - val_accuracy: 0.3454\n",
      "Epoch 24/50\n",
      "27000/27000 [==============================] - 3s 106us/sample - loss: 0.8594 - accuracy: 0.5855 - val_loss: 1.9188 - val_accuracy: 0.3519\n",
      "Epoch 25/50\n",
      "27000/27000 [==============================] - 3s 109us/sample - loss: 0.8386 - accuracy: 0.5956 - val_loss: 2.0078 - val_accuracy: 0.3496\n",
      "Epoch 26/50\n",
      "27000/27000 [==============================] - 3s 106us/sample - loss: 0.8330 - accuracy: 0.5997 - val_loss: 2.1587 - val_accuracy: 0.3452\n",
      "Epoch 27/50\n",
      "27000/27000 [==============================] - 3s 115us/sample - loss: 0.8219 - accuracy: 0.6065 - val_loss: 2.3982 - val_accuracy: 0.3496\n",
      "Epoch 28/50\n",
      "27000/27000 [==============================] - 3s 106us/sample - loss: 0.8065 - accuracy: 0.6196 - val_loss: 2.5543 - val_accuracy: 0.3448\n",
      "Epoch 29/50\n",
      "27000/27000 [==============================] - 3s 104us/sample - loss: 0.7956 - accuracy: 0.6250 - val_loss: 2.6323 - val_accuracy: 0.3349\n",
      "Epoch 30/50\n",
      "27000/27000 [==============================] - 3s 108us/sample - loss: 0.7844 - accuracy: 0.6349 - val_loss: 2.5786 - val_accuracy: 0.3397\n",
      "Epoch 31/50\n",
      "27000/27000 [==============================] - 3s 108us/sample - loss: 0.7662 - accuracy: 0.6449 - val_loss: 3.3322 - val_accuracy: 0.3417\n",
      "Epoch 32/50\n",
      "27000/27000 [==============================] - 3s 108us/sample - loss: 0.7589 - accuracy: 0.6485 - val_loss: 2.5345 - val_accuracy: 0.3450\n",
      "Epoch 33/50\n",
      "27000/27000 [==============================] - 3s 109us/sample - loss: 0.7506 - accuracy: 0.6518 - val_loss: 3.4515 - val_accuracy: 0.3391\n",
      "Epoch 34/50\n",
      "27000/27000 [==============================] - 3s 106us/sample - loss: 0.7293 - accuracy: 0.6641 - val_loss: 3.7158 - val_accuracy: 0.3387\n",
      "Epoch 35/50\n",
      "27000/27000 [==============================] - 3s 114us/sample - loss: 0.7249 - accuracy: 0.6668 - val_loss: 3.1586 - val_accuracy: 0.3346\n",
      "Epoch 36/50\n",
      "27000/27000 [==============================] - 3s 108us/sample - loss: 0.7117 - accuracy: 0.6730 - val_loss: 3.6739 - val_accuracy: 0.3403\n",
      "Epoch 37/50\n",
      "27000/27000 [==============================] - 3s 106us/sample - loss: 0.6986 - accuracy: 0.6820 - val_loss: 3.2451 - val_accuracy: 0.3334\n",
      "Epoch 38/50\n",
      "27000/27000 [==============================] - 3s 98us/sample - loss: 0.6880 - accuracy: 0.6869 - val_loss: 3.8926 - val_accuracy: 0.3448\n",
      "Epoch 39/50\n",
      "27000/27000 [==============================] - 3s 100us/sample - loss: 0.6814 - accuracy: 0.6924 - val_loss: 4.0230 - val_accuracy: 0.3311\n",
      "Epoch 40/50\n",
      "27000/27000 [==============================] - 3s 121us/sample - loss: 0.6675 - accuracy: 0.7001 - val_loss: 4.9613 - val_accuracy: 0.3354\n",
      "Epoch 41/50\n",
      "27000/27000 [==============================] - 3s 105us/sample - loss: 0.6594 - accuracy: 0.7044 - val_loss: 4.5842 - val_accuracy: 0.3349\n",
      "Epoch 42/50\n",
      "27000/27000 [==============================] - 3s 116us/sample - loss: 0.6504 - accuracy: 0.7085 - val_loss: 3.9629 - val_accuracy: 0.3427\n",
      "Epoch 43/50\n",
      "27000/27000 [==============================] - 3s 102us/sample - loss: 0.6395 - accuracy: 0.7189 - val_loss: 3.7301 - val_accuracy: 0.3298\n",
      "Epoch 44/50\n",
      "27000/27000 [==============================] - 3s 111us/sample - loss: 0.6459 - accuracy: 0.7099 - val_loss: 5.2974 - val_accuracy: 0.3438\n",
      "Epoch 45/50\n",
      "27000/27000 [==============================] - 3s 109us/sample - loss: 0.6174 - accuracy: 0.7246 - val_loss: 4.6810 - val_accuracy: 0.3385\n",
      "Epoch 46/50\n",
      "27000/27000 [==============================] - 3s 102us/sample - loss: 0.6145 - accuracy: 0.7294 - val_loss: 4.6486 - val_accuracy: 0.3333\n",
      "Epoch 47/50\n",
      "27000/27000 [==============================] - 3s 114us/sample - loss: 0.6072 - accuracy: 0.7305 - val_loss: 4.3204 - val_accuracy: 0.3394\n",
      "Epoch 48/50\n",
      "27000/27000 [==============================] - 3s 104us/sample - loss: 0.6019 - accuracy: 0.7362 - val_loss: 4.4304 - val_accuracy: 0.3277\n",
      "Epoch 49/50\n",
      "27000/27000 [==============================] - 3s 103us/sample - loss: 0.5860 - accuracy: 0.7439 - val_loss: 5.3163 - val_accuracy: 0.3339\n",
      "Epoch 50/50\n",
      "27000/27000 [==============================] - 3s 105us/sample - loss: 0.5880 - accuracy: 0.7422 - val_loss: 5.1999 - val_accuracy: 0.3355\n"
     ]
    },
    {
     "data": {
      "text/plain": [
       "<tensorflow.python.keras.callbacks.History at 0x7f85dc274ed0>"
      ]
     },
     "execution_count": 30,
     "metadata": {},
     "output_type": "execute_result"
    }
   ],
   "source": [
    "model = keras.Sequential([\n",
    "    keras.layers.Dense(116, activation='relu'),\n",
    "    keras.layers.Dense(116, activation='relu'),\n",
    "    keras.layers.Dense(116, activation='relu'),\n",
    "    keras.layers.Dense(116, activation='relu'),\n",
    "    keras.layers.Dense(3)\n",
    "])\n",
    "\n",
    "model.compile(optimizer='adam',\n",
    "              loss=tf.keras.losses.SparseCategoricalCrossentropy(from_logits=True),\n",
    "              metrics=['accuracy'])\n",
    "\n",
    "model.fit(X_train, y_train, epochs=50,\n",
    "         validation_data=(X_test, y_test))"
   ]
  },
  {
   "cell_type": "markdown",
   "metadata": {},
   "source": [
    "Despite learning the training data, the model performs no better at making predictions. \n",
    "\n",
    "What can I do? \n",
    "\n",
    "1) Go back to the decision function and re-label the y data more precisely  \n",
    "2) Use 3 columns of X and flatten it  "
   ]
  },
  {
   "cell_type": "code",
   "execution_count": null,
   "metadata": {},
   "outputs": [],
   "source": []
  }
 ],
 "metadata": {
  "kernelspec": {
   "display_name": "Python 3",
   "language": "python",
   "name": "python3"
  },
  "language_info": {
   "codemirror_mode": {
    "name": "ipython",
    "version": 3
   },
   "file_extension": ".py",
   "mimetype": "text/x-python",
   "name": "python",
   "nbconvert_exporter": "python",
   "pygments_lexer": "ipython3",
   "version": "3.7.6"
  }
 },
 "nbformat": 4,
 "nbformat_minor": 4
}
