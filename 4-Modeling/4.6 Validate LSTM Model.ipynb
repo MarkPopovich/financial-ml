{
 "cells": [
  {
   "cell_type": "markdown",
   "metadata": {},
   "source": [
    "# 4.6 Validate LSTM Model\n",
    "\n",
    "In this notebook we will validate the results of the accurate LSTM model trained in section 4.4. We will also investigate modifying the model components so that they are viable as a life trading model. \n",
    "\n",
    "Currently, the model simply predicts up/down price movement in the next bar. While it does so exceedingly accurrately, constraints include trading on minimally moving bars and bid/ask spreads. Because of the existance of the spread, if a bar moves less than the spread it is possible to both be correct about the direction and lose money on trading it. In order to ensure that the model generates return, we need to be weary of trading when price movement falls below the bid/ask spread. \n",
    "\n",
    "#### Steps\n",
    "\n",
    "I) Confirm the model works in a lossless environment (w/o bid/ask spread)  \n",
    "II) Modify the model to protect against minimal movement environments (w/ bid/ask spread)  "
   ]
  },
  {
   "cell_type": "markdown",
   "metadata": {},
   "source": [
    "### I) Confirm the model works in a lossless environment (w/o bid/ask spread)  \n",
    "\n",
    "In order to confirm the model behaves as expected, we will take the following steps: \n",
    "\n",
    "1) Investigate actual predictions from the model against validation data  \n",
    "2) Using validation data, model returns by backtesting the system  \n",
    "3) Modify the backtesting system to include some penalty for trading (transaction costs)  "
   ]
  },
  {
   "cell_type": "markdown",
   "metadata": {},
   "source": [
    "#### 1) Investigate actual predictions from the model against validation data\n",
    "\n",
    "i) Load a dataset (a single stock)  \n",
    "ii) Split for the most recent data available, validation data that wasn't included in test to begin with  \n",
    "iii) predict on the data, look at accuracy and heatmap of predictions  \n",
    "iv) Plot the data with predictions  \n",
    "v) Backtest the results of trading   "
   ]
  },
  {
   "cell_type": "code",
   "execution_count": 1,
   "metadata": {},
   "outputs": [],
   "source": [
    "import pandas as pd\n",
    "import numpy as np\n",
    "from extract import load_set\n",
    "import tensorflow as tf\n",
    "from tensorflow import keras\n",
    "from tensorflow.keras import datasets, layers, models\n",
    "import matplotlib.pyplot as plt\n",
    "from os import listdir\n",
    "from os.path import isfile, join\n",
    "from sklearn.preprocessing import StandardScaler, MinMaxScaler\n",
    "\n",
    "pd.set_option('display.max_columns', 130)\n",
    "pd.set_option('display.max_rows', 100)"
   ]
  },
  {
   "cell_type": "code",
   "execution_count": 2,
   "metadata": {},
   "outputs": [
    {
     "data": {
      "text/plain": [
       "'RRR'"
      ]
     },
     "execution_count": 2,
     "metadata": {},
     "output_type": "execute_result"
    }
   ],
   "source": [
    "data_dir = './data/prepared/august25screenfixed/'\n",
    "suffix = ''\n",
    "\n",
    "stocks = [f.split('.')[0] for f in listdir(data_dir) if isfile(join(data_dir, f))]\n",
    "stocks[0]"
   ]
  },
  {
   "cell_type": "code",
   "execution_count": 200,
   "metadata": {},
   "outputs": [
    {
     "data": {
      "text/plain": [
       "['RRR',\n",
       " 'RLGY',\n",
       " 'HOME',\n",
       " 'FDX',\n",
       " 'MIK',\n",
       " 'WSM',\n",
       " 'NVDA',\n",
       " 'DE',\n",
       " 'TGT',\n",
       " 'LULU',\n",
       " 'FBHS',\n",
       " 'XRX',\n",
       " 'CX',\n",
       " 'EAT',\n",
       " 'DHI',\n",
       " 'ICE',\n",
       " 'EXPI',\n",
       " 'CLNY',\n",
       " 'IMVT',\n",
       " 'ELAN',\n",
       " 'PACB',\n",
       " 'PENN',\n",
       " 'REAL',\n",
       " 'NKE',\n",
       " 'BBY',\n",
       " 'HTHT',\n",
       " 'GRPN',\n",
       " 'CZR',\n",
       " 'GDDY',\n",
       " 'LOW']"
      ]
     },
     "execution_count": 200,
     "metadata": {},
     "output_type": "execute_result"
    }
   ],
   "source": [
    "stocks"
   ]
  },
  {
   "cell_type": "code",
   "execution_count": 3,
   "metadata": {},
   "outputs": [
    {
     "data": {
      "text/html": [
       "<div>\n",
       "<style scoped>\n",
       "    .dataframe tbody tr th:only-of-type {\n",
       "        vertical-align: middle;\n",
       "    }\n",
       "\n",
       "    .dataframe tbody tr th {\n",
       "        vertical-align: top;\n",
       "    }\n",
       "\n",
       "    .dataframe thead th {\n",
       "        text-align: right;\n",
       "    }\n",
       "</style>\n",
       "<table border=\"1\" class=\"dataframe\">\n",
       "  <thead>\n",
       "    <tr style=\"text-align: right;\">\n",
       "      <th></th>\n",
       "      <th>open</th>\n",
       "      <th>high</th>\n",
       "      <th>low</th>\n",
       "      <th>close</th>\n",
       "      <th>volume</th>\n",
       "      <th>datetime</th>\n",
       "      <th>date</th>\n",
       "      <th>hour</th>\n",
       "      <th>minute</th>\n",
       "      <th>min_num</th>\n",
       "      <th>SYMBOL</th>\n",
       "      <th>prev_close</th>\n",
       "      <th>diff_1</th>\n",
       "      <th>pct_change</th>\n",
       "      <th>log_return</th>\n",
       "      <th>%open</th>\n",
       "      <th>mesa_open</th>\n",
       "      <th>open_amp</th>\n",
       "      <th>open_omega</th>\n",
       "      <th>open_phase</th>\n",
       "      <th>open_offset</th>\n",
       "      <th>open_freq</th>\n",
       "      <th>open_period</th>\n",
       "      <th>open_maxcov</th>\n",
       "      <th>open_sin</th>\n",
       "      <th>time</th>\n",
       "      <th>open_angle</th>\n",
       "      <th>open_rad</th>\n",
       "      <th>open_rad2</th>\n",
       "      <th>open_sin2</th>\n",
       "      <th>open_cos2</th>\n",
       "      <th>open_cos</th>\n",
       "      <th>open_tan</th>\n",
       "      <th>open_tan2</th>\n",
       "      <th>open_xsinx</th>\n",
       "      <th>open_xcosx</th>\n",
       "      <th>open_sinxcosx</th>\n",
       "      <th>open_xsinxcosx</th>\n",
       "      <th>open_xsinx2</th>\n",
       "      <th>open_xcosx2</th>\n",
       "      <th>open_sinxcosx2</th>\n",
       "      <th>open_xsinxcosx2</th>\n",
       "      <th>open_xtanx</th>\n",
       "      <th>open_xtanx2</th>\n",
       "      <th>%high</th>\n",
       "      <th>mesa_high</th>\n",
       "      <th>high_amp</th>\n",
       "      <th>high_omega</th>\n",
       "      <th>high_phase</th>\n",
       "      <th>high_offset</th>\n",
       "      <th>high_freq</th>\n",
       "      <th>high_period</th>\n",
       "      <th>high_maxcov</th>\n",
       "      <th>high_sin</th>\n",
       "      <th>high_angle</th>\n",
       "      <th>high_rad</th>\n",
       "      <th>high_rad2</th>\n",
       "      <th>high_sin2</th>\n",
       "      <th>high_cos2</th>\n",
       "      <th>high_cos</th>\n",
       "      <th>high_tan</th>\n",
       "      <th>high_tan2</th>\n",
       "      <th>high_xsinx</th>\n",
       "      <th>high_xcosx</th>\n",
       "      <th>high_sinxcosx</th>\n",
       "      <th>high_xsinxcosx</th>\n",
       "      <th>high_xsinx2</th>\n",
       "      <th>high_xcosx2</th>\n",
       "      <th>high_sinxcosx2</th>\n",
       "      <th>high_xsinxcosx2</th>\n",
       "      <th>high_xtanx</th>\n",
       "      <th>high_xtanx2</th>\n",
       "      <th>%low</th>\n",
       "      <th>mesa_low</th>\n",
       "      <th>low_amp</th>\n",
       "      <th>low_omega</th>\n",
       "      <th>low_phase</th>\n",
       "      <th>low_offset</th>\n",
       "      <th>low_freq</th>\n",
       "      <th>low_period</th>\n",
       "      <th>low_maxcov</th>\n",
       "      <th>low_sin</th>\n",
       "      <th>low_angle</th>\n",
       "      <th>low_rad</th>\n",
       "      <th>low_rad2</th>\n",
       "      <th>low_sin2</th>\n",
       "      <th>low_cos2</th>\n",
       "      <th>low_cos</th>\n",
       "      <th>low_tan</th>\n",
       "      <th>low_tan2</th>\n",
       "      <th>low_xsinx</th>\n",
       "      <th>low_xcosx</th>\n",
       "      <th>low_sinxcosx</th>\n",
       "      <th>low_xsinxcosx</th>\n",
       "      <th>low_xsinx2</th>\n",
       "      <th>low_xcosx2</th>\n",
       "      <th>low_sinxcosx2</th>\n",
       "      <th>low_xsinxcosx2</th>\n",
       "      <th>low_xtanx</th>\n",
       "      <th>low_xtanx2</th>\n",
       "      <th>%close</th>\n",
       "      <th>mesa_close</th>\n",
       "      <th>close_amp</th>\n",
       "      <th>close_omega</th>\n",
       "      <th>close_phase</th>\n",
       "      <th>close_offset</th>\n",
       "      <th>close_freq</th>\n",
       "      <th>close_period</th>\n",
       "      <th>close_maxcov</th>\n",
       "      <th>close_sin</th>\n",
       "      <th>close_angle</th>\n",
       "      <th>close_rad</th>\n",
       "      <th>close_rad2</th>\n",
       "      <th>close_sin2</th>\n",
       "      <th>close_cos2</th>\n",
       "      <th>close_cos</th>\n",
       "      <th>close_tan</th>\n",
       "      <th>close_tan2</th>\n",
       "      <th>close_xsinx</th>\n",
       "      <th>close_xcosx</th>\n",
       "      <th>close_sinxcosx</th>\n",
       "      <th>close_xsinxcosx</th>\n",
       "      <th>close_xsinx2</th>\n",
       "      <th>close_xcosx2</th>\n",
       "      <th>close_sinxcosx2</th>\n",
       "      <th>close_xsinxcosx2</th>\n",
       "      <th>close_xtanx</th>\n",
       "      <th>close_xtanx2</th>\n",
       "      <th>decision</th>\n",
       "      <th>D2</th>\n",
       "    </tr>\n",
       "  </thead>\n",
       "  <tbody>\n",
       "    <tr>\n",
       "      <th>8845</th>\n",
       "      <td>17.28</td>\n",
       "      <td>17.28</td>\n",
       "      <td>17.28</td>\n",
       "      <td>17.28</td>\n",
       "      <td>100</td>\n",
       "      <td>2020-08-25 22:48:00</td>\n",
       "      <td>2020-08-25</td>\n",
       "      <td>22</td>\n",
       "      <td>48</td>\n",
       "      <td>1368</td>\n",
       "      <td>RRR</td>\n",
       "      <td>17.30</td>\n",
       "      <td>-0.02</td>\n",
       "      <td>-0.001156</td>\n",
       "      <td>-0.001157</td>\n",
       "      <td>-0.001156</td>\n",
       "      <td>0.490588</td>\n",
       "      <td>0.001894</td>\n",
       "      <td>2.999950</td>\n",
       "      <td>141.151213</td>\n",
       "      <td>-0.000400</td>\n",
       "      <td>0.477457</td>\n",
       "      <td>2.094430</td>\n",
       "      <td>2.221737e+05</td>\n",
       "      <td>-0.001211</td>\n",
       "      <td>8845</td>\n",
       "      <td>26675.705720</td>\n",
       "      <td>3.584091</td>\n",
       "      <td>4.061547</td>\n",
       "      <td>-0.001907</td>\n",
       "      <td>-0.605856</td>\n",
       "      <td>-0.903685</td>\n",
       "      <td>0.473836</td>\n",
       "      <td>1.313140</td>\n",
       "      <td>0.000001</td>\n",
       "      <td>0.001045</td>\n",
       "      <td>0.001095</td>\n",
       "      <td>-0.000001</td>\n",
       "      <td>2.204898e-06</td>\n",
       "      <td>0.000700</td>\n",
       "      <td>0.001156</td>\n",
       "      <td>-1.335851e-06</td>\n",
       "      <td>-0.000548</td>\n",
       "      <td>-0.001518</td>\n",
       "      <td>-0.001156</td>\n",
       "      <td>0.490591</td>\n",
       "      <td>-0.001940</td>\n",
       "      <td>2.802241</td>\n",
       "      <td>-332.993391</td>\n",
       "      <td>-0.000401</td>\n",
       "      <td>0.445991</td>\n",
       "      <td>2.242200</td>\n",
       "      <td>2.440428e+05</td>\n",
       "      <td>0.001482</td>\n",
       "      <td>24452.828207</td>\n",
       "      <td>4.954177</td>\n",
       "      <td>5.400168</td>\n",
       "      <td>0.001098</td>\n",
       "      <td>0.634822</td>\n",
       "      <td>0.239439</td>\n",
       "      <td>-4.054941</td>\n",
       "      <td>-1.217125</td>\n",
       "      <td>-0.000002</td>\n",
       "      <td>-0.000277</td>\n",
       "      <td>0.000355</td>\n",
       "      <td>-4.103498e-07</td>\n",
       "      <td>-0.000001</td>\n",
       "      <td>-0.000734</td>\n",
       "      <td>0.000697</td>\n",
       "      <td>-8.057384e-07</td>\n",
       "      <td>0.004688</td>\n",
       "      <td>0.001407</td>\n",
       "      <td>-0.001156</td>\n",
       "      <td>0.490588</td>\n",
       "      <td>0.002575</td>\n",
       "      <td>2.990564</td>\n",
       "      <td>224.104713</td>\n",
       "      <td>-0.000389</td>\n",
       "      <td>0.475963</td>\n",
       "      <td>2.101003</td>\n",
       "      <td>1.440349e+05</td>\n",
       "      <td>-0.001352</td>\n",
       "      <td>26675.646515</td>\n",
       "      <td>3.524886</td>\n",
       "      <td>4.000850</td>\n",
       "      <td>-0.002340</td>\n",
       "      <td>-0.653000</td>\n",
       "      <td>-0.927438</td>\n",
       "      <td>0.403237</td>\n",
       "      <td>1.159812</td>\n",
       "      <td>0.000002</td>\n",
       "      <td>0.001072</td>\n",
       "      <td>0.001254</td>\n",
       "      <td>-0.000001</td>\n",
       "      <td>0.000003</td>\n",
       "      <td>0.000755</td>\n",
       "      <td>0.001528</td>\n",
       "      <td>-0.000002</td>\n",
       "      <td>-0.000466</td>\n",
       "      <td>-0.001341</td>\n",
       "      <td>-0.001156</td>\n",
       "      <td>0.490591</td>\n",
       "      <td>-0.002573</td>\n",
       "      <td>2.833824</td>\n",
       "      <td>-611.936535</td>\n",
       "      <td>-0.000390</td>\n",
       "      <td>0.451017</td>\n",
       "      <td>2.217211</td>\n",
       "      <td>1.726659e+05</td>\n",
       "      <td>0.001653</td>\n",
       "      <td>24453.239631</td>\n",
       "      <td>5.365601</td>\n",
       "      <td>5.816618</td>\n",
       "      <td>0.000767</td>\n",
       "      <td>0.893118</td>\n",
       "      <td>0.607740</td>\n",
       "      <td>-1.306702</td>\n",
       "      <td>-0.503655</td>\n",
       "      <td>-0.000002</td>\n",
       "      <td>-0.000703</td>\n",
       "      <td>0.001004</td>\n",
       "      <td>-0.000001</td>\n",
       "      <td>-8.865898e-07</td>\n",
       "      <td>-0.001033</td>\n",
       "      <td>0.000685</td>\n",
       "      <td>-7.918291e-07</td>\n",
       "      <td>0.001511</td>\n",
       "      <td>0.000582</td>\n",
       "      <td>0.0</td>\n",
       "      <td>0.0</td>\n",
       "    </tr>\n",
       "    <tr>\n",
       "      <th>8844</th>\n",
       "      <td>17.30</td>\n",
       "      <td>17.30</td>\n",
       "      <td>17.30</td>\n",
       "      <td>17.30</td>\n",
       "      <td>200</td>\n",
       "      <td>2020-08-25 22:44:00</td>\n",
       "      <td>2020-08-25</td>\n",
       "      <td>22</td>\n",
       "      <td>44</td>\n",
       "      <td>1364</td>\n",
       "      <td>RRR</td>\n",
       "      <td>17.44</td>\n",
       "      <td>-0.14</td>\n",
       "      <td>-0.008028</td>\n",
       "      <td>-0.008060</td>\n",
       "      <td>-0.002882</td>\n",
       "      <td>0.489934</td>\n",
       "      <td>0.001881</td>\n",
       "      <td>1.287313</td>\n",
       "      <td>-270.196033</td>\n",
       "      <td>-0.000346</td>\n",
       "      <td>0.204882</td>\n",
       "      <td>4.880852</td>\n",
       "      <td>2.322576e+05</td>\n",
       "      <td>-0.000633</td>\n",
       "      <td>8844</td>\n",
       "      <td>11114.801657</td>\n",
       "      <td>6.130034</td>\n",
       "      <td>6.334916</td>\n",
       "      <td>-0.000249</td>\n",
       "      <td>0.998662</td>\n",
       "      <td>0.988295</td>\n",
       "      <td>-0.154360</td>\n",
       "      <td>0.051777</td>\n",
       "      <td>0.000002</td>\n",
       "      <td>-0.002848</td>\n",
       "      <td>-0.000626</td>\n",
       "      <td>0.000002</td>\n",
       "      <td>7.176933e-07</td>\n",
       "      <td>-0.002878</td>\n",
       "      <td>-0.000249</td>\n",
       "      <td>7.167332e-07</td>\n",
       "      <td>0.000445</td>\n",
       "      <td>-0.000149</td>\n",
       "      <td>-0.008028</td>\n",
       "      <td>0.488493</td>\n",
       "      <td>-0.002108</td>\n",
       "      <td>2.808354</td>\n",
       "      <td>-387.061715</td>\n",
       "      <td>-0.000335</td>\n",
       "      <td>0.446963</td>\n",
       "      <td>2.237320</td>\n",
       "      <td>1.819360e+05</td>\n",
       "      <td>-0.002103</td>\n",
       "      <td>24450.020219</td>\n",
       "      <td>2.146189</td>\n",
       "      <td>2.593152</td>\n",
       "      <td>-0.001434</td>\n",
       "      <td>-0.853339</td>\n",
       "      <td>-0.544164</td>\n",
       "      <td>-1.541776</td>\n",
       "      <td>-0.610962</td>\n",
       "      <td>0.000017</td>\n",
       "      <td>0.004368</td>\n",
       "      <td>0.001145</td>\n",
       "      <td>-9.187537e-06</td>\n",
       "      <td>0.000012</td>\n",
       "      <td>0.006850</td>\n",
       "      <td>0.001223</td>\n",
       "      <td>-9.820883e-06</td>\n",
       "      <td>0.012377</td>\n",
       "      <td>0.004905</td>\n",
       "      <td>-0.002882</td>\n",
       "      <td>0.489934</td>\n",
       "      <td>0.002457</td>\n",
       "      <td>3.001820</td>\n",
       "      <td>124.667322</td>\n",
       "      <td>-0.000327</td>\n",
       "      <td>0.477755</td>\n",
       "      <td>2.093125</td>\n",
       "      <td>2.107880e+05</td>\n",
       "      <td>0.001151</td>\n",
       "      <td>26672.767225</td>\n",
       "      <td>0.645596</td>\n",
       "      <td>1.123351</td>\n",
       "      <td>0.001888</td>\n",
       "      <td>0.432664</td>\n",
       "      <td>0.798741</td>\n",
       "      <td>0.753279</td>\n",
       "      <td>2.083731</td>\n",
       "      <td>-0.000003</td>\n",
       "      <td>-0.002302</td>\n",
       "      <td>0.000919</td>\n",
       "      <td>-0.000003</td>\n",
       "      <td>-0.000005</td>\n",
       "      <td>-0.001247</td>\n",
       "      <td>0.000817</td>\n",
       "      <td>-0.000002</td>\n",
       "      <td>-0.002171</td>\n",
       "      <td>-0.006005</td>\n",
       "      <td>-0.008028</td>\n",
       "      <td>0.488493</td>\n",
       "      <td>-0.002719</td>\n",
       "      <td>2.838034</td>\n",
       "      <td>-649.214703</td>\n",
       "      <td>-0.000325</td>\n",
       "      <td>0.451687</td>\n",
       "      <td>2.213922</td>\n",
       "      <td>1.408935e+05</td>\n",
       "      <td>-0.001990</td>\n",
       "      <td>24450.356426</td>\n",
       "      <td>2.482395</td>\n",
       "      <td>2.934083</td>\n",
       "      <td>-0.000885</td>\n",
       "      <td>-0.978547</td>\n",
       "      <td>-0.790484</td>\n",
       "      <td>-0.774819</td>\n",
       "      <td>-0.210541</td>\n",
       "      <td>0.000016</td>\n",
       "      <td>0.006346</td>\n",
       "      <td>0.001573</td>\n",
       "      <td>-0.000013</td>\n",
       "      <td>7.103888e-06</td>\n",
       "      <td>0.007855</td>\n",
       "      <td>0.000866</td>\n",
       "      <td>-6.951488e-06</td>\n",
       "      <td>0.006220</td>\n",
       "      <td>0.001690</td>\n",
       "      <td>0.0</td>\n",
       "      <td>0.0</td>\n",
       "    </tr>\n",
       "    <tr>\n",
       "      <th>8843</th>\n",
       "      <td>17.35</td>\n",
       "      <td>17.44</td>\n",
       "      <td>17.35</td>\n",
       "      <td>17.44</td>\n",
       "      <td>25</td>\n",
       "      <td>2020-08-25 22:36:00</td>\n",
       "      <td>2020-08-25</td>\n",
       "      <td>22</td>\n",
       "      <td>36</td>\n",
       "      <td>1356</td>\n",
       "      <td>RRR</td>\n",
       "      <td>17.35</td>\n",
       "      <td>0.09</td>\n",
       "      <td>0.005187</td>\n",
       "      <td>0.005174</td>\n",
       "      <td>0.000000</td>\n",
       "      <td>0.496402</td>\n",
       "      <td>0.004198</td>\n",
       "      <td>3.106833</td>\n",
       "      <td>-802.280898</td>\n",
       "      <td>-0.000187</td>\n",
       "      <td>0.494468</td>\n",
       "      <td>2.022376</td>\n",
       "      <td>6.295940e+06</td>\n",
       "      <td>-0.002822</td>\n",
       "      <td>8843</td>\n",
       "      <td>26671.442713</td>\n",
       "      <td>5.604270</td>\n",
       "      <td>6.098738</td>\n",
       "      <td>-0.000956</td>\n",
       "      <td>0.983038</td>\n",
       "      <td>0.778254</td>\n",
       "      <td>-0.806869</td>\n",
       "      <td>-0.186568</td>\n",
       "      <td>-0.000000</td>\n",
       "      <td>0.000000</td>\n",
       "      <td>-0.002197</td>\n",
       "      <td>-0.000000</td>\n",
       "      <td>-0.000000e+00</td>\n",
       "      <td>0.000000</td>\n",
       "      <td>-0.000940</td>\n",
       "      <td>-0.000000e+00</td>\n",
       "      <td>-0.000000</td>\n",
       "      <td>-0.000000</td>\n",
       "      <td>0.005187</td>\n",
       "      <td>0.497884</td>\n",
       "      <td>-0.001594</td>\n",
       "      <td>2.843266</td>\n",
       "      <td>-695.427737</td>\n",
       "      <td>-0.000012</td>\n",
       "      <td>0.452520</td>\n",
       "      <td>2.209848</td>\n",
       "      <td>2.229531e+05</td>\n",
       "      <td>0.000461</td>\n",
       "      <td>24447.572453</td>\n",
       "      <td>5.981608</td>\n",
       "      <td>6.434128</td>\n",
       "      <td>-0.000252</td>\n",
       "      <td>0.988630</td>\n",
       "      <td>0.954869</td>\n",
       "      <td>-0.311065</td>\n",
       "      <td>0.152100</td>\n",
       "      <td>0.000002</td>\n",
       "      <td>0.004953</td>\n",
       "      <td>0.000440</td>\n",
       "      <td>2.284356e-06</td>\n",
       "      <td>-0.000001</td>\n",
       "      <td>0.005128</td>\n",
       "      <td>-0.000249</td>\n",
       "      <td>-1.292442e-06</td>\n",
       "      <td>-0.001614</td>\n",
       "      <td>0.000789</td>\n",
       "      <td>0.000000</td>\n",
       "      <td>0.497337</td>\n",
       "      <td>0.003319</td>\n",
       "      <td>3.069251</td>\n",
       "      <td>-470.566094</td>\n",
       "      <td>-0.000190</td>\n",
       "      <td>0.488486</td>\n",
       "      <td>2.047140</td>\n",
       "      <td>1.029450e+06</td>\n",
       "      <td>-0.003389</td>\n",
       "      <td>26670.820335</td>\n",
       "      <td>4.981891</td>\n",
       "      <td>5.470377</td>\n",
       "      <td>-0.002600</td>\n",
       "      <td>0.687462</td>\n",
       "      <td>0.266251</td>\n",
       "      <td>-3.620276</td>\n",
       "      <td>-1.056379</td>\n",
       "      <td>-0.000000</td>\n",
       "      <td>0.000000</td>\n",
       "      <td>-0.000902</td>\n",
       "      <td>-0.000000</td>\n",
       "      <td>-0.000000</td>\n",
       "      <td>0.000000</td>\n",
       "      <td>-0.001788</td>\n",
       "      <td>-0.000000</td>\n",
       "      <td>-0.000000</td>\n",
       "      <td>-0.000000</td>\n",
       "      <td>0.005187</td>\n",
       "      <td>0.499745</td>\n",
       "      <td>0.002211</td>\n",
       "      <td>2.999563</td>\n",
       "      <td>144.588277</td>\n",
       "      <td>-0.000029</td>\n",
       "      <td>0.477395</td>\n",
       "      <td>2.094701</td>\n",
       "      <td>3.415195e+05</td>\n",
       "      <td>-0.001521</td>\n",
       "      <td>26669.720405</td>\n",
       "      <td>3.881962</td>\n",
       "      <td>4.359357</td>\n",
       "      <td>-0.002104</td>\n",
       "      <td>-0.345745</td>\n",
       "      <td>-0.738220</td>\n",
       "      <td>0.913766</td>\n",
       "      <td>2.713937</td>\n",
       "      <td>-0.000008</td>\n",
       "      <td>-0.003829</td>\n",
       "      <td>0.001123</td>\n",
       "      <td>0.000006</td>\n",
       "      <td>-1.091391e-05</td>\n",
       "      <td>-0.001793</td>\n",
       "      <td>0.000727</td>\n",
       "      <td>3.773424e-06</td>\n",
       "      <td>0.004740</td>\n",
       "      <td>0.014078</td>\n",
       "      <td>0.0</td>\n",
       "      <td>0.0</td>\n",
       "    </tr>\n",
       "    <tr>\n",
       "      <th>8842</th>\n",
       "      <td>17.35</td>\n",
       "      <td>17.35</td>\n",
       "      <td>17.35</td>\n",
       "      <td>17.35</td>\n",
       "      <td>4</td>\n",
       "      <td>2020-08-25 22:34:00</td>\n",
       "      <td>2020-08-25</td>\n",
       "      <td>22</td>\n",
       "      <td>34</td>\n",
       "      <td>1354</td>\n",
       "      <td>RRR</td>\n",
       "      <td>17.32</td>\n",
       "      <td>0.03</td>\n",
       "      <td>0.001732</td>\n",
       "      <td>0.001731</td>\n",
       "      <td>0.001732</td>\n",
       "      <td>0.491849</td>\n",
       "      <td>0.210609</td>\n",
       "      <td>3.140843</td>\n",
       "      <td>-1102.364681</td>\n",
       "      <td>-0.000269</td>\n",
       "      <td>0.499881</td>\n",
       "      <td>2.000478</td>\n",
       "      <td>2.372299e+09</td>\n",
       "      <td>0.002702</td>\n",
       "      <td>8842</td>\n",
       "      <td>26668.965927</td>\n",
       "      <td>3.127483</td>\n",
       "      <td>3.627364</td>\n",
       "      <td>-0.098600</td>\n",
       "      <td>-0.884315</td>\n",
       "      <td>-0.999900</td>\n",
       "      <td>-0.014111</td>\n",
       "      <td>0.527968</td>\n",
       "      <td>0.000005</td>\n",
       "      <td>-0.001732</td>\n",
       "      <td>-0.002702</td>\n",
       "      <td>-0.000005</td>\n",
       "      <td>-1.707856e-04</td>\n",
       "      <td>-0.001532</td>\n",
       "      <td>0.087194</td>\n",
       "      <td>1.510283e-04</td>\n",
       "      <td>-0.000024</td>\n",
       "      <td>0.000914</td>\n",
       "      <td>0.001732</td>\n",
       "      <td>0.492480</td>\n",
       "      <td>0.170091</td>\n",
       "      <td>3.140820</td>\n",
       "      <td>-1102.168494</td>\n",
       "      <td>-0.000261</td>\n",
       "      <td>0.499877</td>\n",
       "      <td>2.000492</td>\n",
       "      <td>7.065106e+08</td>\n",
       "      <td>0.002159</td>\n",
       "      <td>26668.965812</td>\n",
       "      <td>3.127368</td>\n",
       "      <td>3.627245</td>\n",
       "      <td>-0.079657</td>\n",
       "      <td>-0.884370</td>\n",
       "      <td>-0.999899</td>\n",
       "      <td>-0.014225</td>\n",
       "      <td>0.527817</td>\n",
       "      <td>0.000004</td>\n",
       "      <td>-0.001732</td>\n",
       "      <td>-0.002158</td>\n",
       "      <td>-3.738379e-06</td>\n",
       "      <td>-0.000138</td>\n",
       "      <td>-0.001532</td>\n",
       "      <td>0.070446</td>\n",
       "      <td>1.220202e-04</td>\n",
       "      <td>-0.000025</td>\n",
       "      <td>0.000914</td>\n",
       "      <td>0.001732</td>\n",
       "      <td>0.491378</td>\n",
       "      <td>0.377616</td>\n",
       "      <td>3.141009</td>\n",
       "      <td>-1103.833467</td>\n",
       "      <td>-0.000275</td>\n",
       "      <td>0.499907</td>\n",
       "      <td>2.000372</td>\n",
       "      <td>1.723141e+08</td>\n",
       "      <td>0.003632</td>\n",
       "      <td>26668.969689</td>\n",
       "      <td>3.131245</td>\n",
       "      <td>3.631152</td>\n",
       "      <td>-0.177844</td>\n",
       "      <td>-0.882540</td>\n",
       "      <td>-0.999946</td>\n",
       "      <td>-0.010348</td>\n",
       "      <td>0.532822</td>\n",
       "      <td>0.000006</td>\n",
       "      <td>-0.001732</td>\n",
       "      <td>-0.003632</td>\n",
       "      <td>-0.000006</td>\n",
       "      <td>-0.000308</td>\n",
       "      <td>-0.001529</td>\n",
       "      <td>0.156955</td>\n",
       "      <td>0.000272</td>\n",
       "      <td>-0.000018</td>\n",
       "      <td>0.000923</td>\n",
       "      <td>0.001732</td>\n",
       "      <td>0.491535</td>\n",
       "      <td>0.271152</td>\n",
       "      <td>3.140784</td>\n",
       "      <td>-1101.846602</td>\n",
       "      <td>-0.000272</td>\n",
       "      <td>0.499871</td>\n",
       "      <td>2.000515</td>\n",
       "      <td>9.297269e+09</td>\n",
       "      <td>0.003530</td>\n",
       "      <td>26668.966016</td>\n",
       "      <td>3.127572</td>\n",
       "      <td>3.627443</td>\n",
       "      <td>-0.126889</td>\n",
       "      <td>-0.884278</td>\n",
       "      <td>-0.999902</td>\n",
       "      <td>-0.014022</td>\n",
       "      <td>0.528070</td>\n",
       "      <td>0.000006</td>\n",
       "      <td>-0.001732</td>\n",
       "      <td>-0.003529</td>\n",
       "      <td>-0.000006</td>\n",
       "      <td>-2.197851e-04</td>\n",
       "      <td>-0.001532</td>\n",
       "      <td>0.112205</td>\n",
       "      <td>1.943511e-04</td>\n",
       "      <td>-0.000024</td>\n",
       "      <td>0.000915</td>\n",
       "      <td>0.0</td>\n",
       "      <td>0.0</td>\n",
       "    </tr>\n",
       "    <tr>\n",
       "      <th>8841</th>\n",
       "      <td>17.32</td>\n",
       "      <td>17.32</td>\n",
       "      <td>17.32</td>\n",
       "      <td>17.32</td>\n",
       "      <td>499</td>\n",
       "      <td>2020-08-25 22:28:00</td>\n",
       "      <td>2020-08-25</td>\n",
       "      <td>22</td>\n",
       "      <td>28</td>\n",
       "      <td>1348</td>\n",
       "      <td>RRR</td>\n",
       "      <td>17.32</td>\n",
       "      <td>0.00</td>\n",
       "      <td>0.000000</td>\n",
       "      <td>0.000000</td>\n",
       "      <td>0.000000</td>\n",
       "      <td>0.490980</td>\n",
       "      <td>0.244868</td>\n",
       "      <td>3.140783</td>\n",
       "      <td>-1101.835132</td>\n",
       "      <td>-0.000101</td>\n",
       "      <td>0.499871</td>\n",
       "      <td>2.000516</td>\n",
       "      <td>1.764981e+10</td>\n",
       "      <td>-0.003312</td>\n",
       "      <td>8841</td>\n",
       "      <td>26665.825332</td>\n",
       "      <td>6.270073</td>\n",
       "      <td>6.769944</td>\n",
       "      <td>0.114439</td>\n",
       "      <td>0.883854</td>\n",
       "      <td>0.999914</td>\n",
       "      <td>-0.013113</td>\n",
       "      <td>0.529232</td>\n",
       "      <td>-0.000000</td>\n",
       "      <td>0.000000</td>\n",
       "      <td>-0.003311</td>\n",
       "      <td>-0.000000</td>\n",
       "      <td>0.000000e+00</td>\n",
       "      <td>0.000000</td>\n",
       "      <td>0.101148</td>\n",
       "      <td>0.000000e+00</td>\n",
       "      <td>-0.000000</td>\n",
       "      <td>0.000000</td>\n",
       "      <td>0.000000</td>\n",
       "      <td>0.490980</td>\n",
       "      <td>0.002768</td>\n",
       "      <td>1.216969</td>\n",
       "      <td>339.262618</td>\n",
       "      <td>-0.001003</td>\n",
       "      <td>0.193687</td>\n",
       "      <td>5.162981</td>\n",
       "      <td>2.439138e+05</td>\n",
       "      <td>0.000914</td>\n",
       "      <td>11098.481518</td>\n",
       "      <td>2.376266</td>\n",
       "      <td>2.569952</td>\n",
       "      <td>0.000494</td>\n",
       "      <td>-0.841015</td>\n",
       "      <td>-0.721156</td>\n",
       "      <td>-0.960642</td>\n",
       "      <td>-0.643285</td>\n",
       "      <td>0.000000</td>\n",
       "      <td>-0.000000</td>\n",
       "      <td>-0.000659</td>\n",
       "      <td>-0.000000e+00</td>\n",
       "      <td>0.000000</td>\n",
       "      <td>-0.000000</td>\n",
       "      <td>-0.000416</td>\n",
       "      <td>-0.000000e+00</td>\n",
       "      <td>-0.000000</td>\n",
       "      <td>-0.000000</td>\n",
       "      <td>0.000000</td>\n",
       "      <td>0.491908</td>\n",
       "      <td>0.488526</td>\n",
       "      <td>3.141052</td>\n",
       "      <td>-1104.208483</td>\n",
       "      <td>-0.000092</td>\n",
       "      <td>0.499914</td>\n",
       "      <td>2.000344</td>\n",
       "      <td>2.182243e+10</td>\n",
       "      <td>-0.004281</td>\n",
       "      <td>26665.829868</td>\n",
       "      <td>6.274610</td>\n",
       "      <td>6.774524</td>\n",
       "      <td>0.230398</td>\n",
       "      <td>0.881702</td>\n",
       "      <td>0.999963</td>\n",
       "      <td>-0.008576</td>\n",
       "      <td>0.535108</td>\n",
       "      <td>-0.000000</td>\n",
       "      <td>0.000000</td>\n",
       "      <td>-0.004281</td>\n",
       "      <td>-0.000000</td>\n",
       "      <td>0.000000</td>\n",
       "      <td>0.000000</td>\n",
       "      <td>0.203142</td>\n",
       "      <td>0.000000</td>\n",
       "      <td>-0.000000</td>\n",
       "      <td>0.000000</td>\n",
       "      <td>0.000000</td>\n",
       "      <td>0.491907</td>\n",
       "      <td>0.003094</td>\n",
       "      <td>1.213933</td>\n",
       "      <td>372.387665</td>\n",
       "      <td>-0.001011</td>\n",
       "      <td>0.193203</td>\n",
       "      <td>5.175891</td>\n",
       "      <td>2.478253e+05</td>\n",
       "      <td>0.001121</td>\n",
       "      <td>11104.769538</td>\n",
       "      <td>2.381100</td>\n",
       "      <td>2.574303</td>\n",
       "      <td>0.000651</td>\n",
       "      <td>-0.843361</td>\n",
       "      <td>-0.724496</td>\n",
       "      <td>-0.951390</td>\n",
       "      <td>-0.637151</td>\n",
       "      <td>0.000000</td>\n",
       "      <td>-0.000000</td>\n",
       "      <td>-0.000812</td>\n",
       "      <td>-0.000000</td>\n",
       "      <td>0.000000e+00</td>\n",
       "      <td>-0.000000</td>\n",
       "      <td>-0.000549</td>\n",
       "      <td>-0.000000e+00</td>\n",
       "      <td>-0.000000</td>\n",
       "      <td>-0.000000</td>\n",
       "      <td>0.0</td>\n",
       "      <td>0.0</td>\n",
       "    </tr>\n",
       "  </tbody>\n",
       "</table>\n",
       "</div>"
      ],
      "text/plain": [
       "       open   high    low  close  volume            datetime        date  \\\n",
       "8845  17.28  17.28  17.28  17.28     100 2020-08-25 22:48:00  2020-08-25   \n",
       "8844  17.30  17.30  17.30  17.30     200 2020-08-25 22:44:00  2020-08-25   \n",
       "8843  17.35  17.44  17.35  17.44      25 2020-08-25 22:36:00  2020-08-25   \n",
       "8842  17.35  17.35  17.35  17.35       4 2020-08-25 22:34:00  2020-08-25   \n",
       "8841  17.32  17.32  17.32  17.32     499 2020-08-25 22:28:00  2020-08-25   \n",
       "\n",
       "      hour  minute  min_num SYMBOL  prev_close  diff_1  pct_change  \\\n",
       "8845    22      48     1368    RRR       17.30   -0.02   -0.001156   \n",
       "8844    22      44     1364    RRR       17.44   -0.14   -0.008028   \n",
       "8843    22      36     1356    RRR       17.35    0.09    0.005187   \n",
       "8842    22      34     1354    RRR       17.32    0.03    0.001732   \n",
       "8841    22      28     1348    RRR       17.32    0.00    0.000000   \n",
       "\n",
       "      log_return     %open  mesa_open  open_amp  open_omega   open_phase  \\\n",
       "8845   -0.001157 -0.001156   0.490588  0.001894    2.999950   141.151213   \n",
       "8844   -0.008060 -0.002882   0.489934  0.001881    1.287313  -270.196033   \n",
       "8843    0.005174  0.000000   0.496402  0.004198    3.106833  -802.280898   \n",
       "8842    0.001731  0.001732   0.491849  0.210609    3.140843 -1102.364681   \n",
       "8841    0.000000  0.000000   0.490980  0.244868    3.140783 -1101.835132   \n",
       "\n",
       "      open_offset  open_freq  open_period   open_maxcov  open_sin  time  \\\n",
       "8845    -0.000400   0.477457     2.094430  2.221737e+05 -0.001211  8845   \n",
       "8844    -0.000346   0.204882     4.880852  2.322576e+05 -0.000633  8844   \n",
       "8843    -0.000187   0.494468     2.022376  6.295940e+06 -0.002822  8843   \n",
       "8842    -0.000269   0.499881     2.000478  2.372299e+09  0.002702  8842   \n",
       "8841    -0.000101   0.499871     2.000516  1.764981e+10 -0.003312  8841   \n",
       "\n",
       "        open_angle  open_rad  open_rad2  open_sin2  open_cos2  open_cos  \\\n",
       "8845  26675.705720  3.584091   4.061547  -0.001907  -0.605856 -0.903685   \n",
       "8844  11114.801657  6.130034   6.334916  -0.000249   0.998662  0.988295   \n",
       "8843  26671.442713  5.604270   6.098738  -0.000956   0.983038  0.778254   \n",
       "8842  26668.965927  3.127483   3.627364  -0.098600  -0.884315 -0.999900   \n",
       "8841  26665.825332  6.270073   6.769944   0.114439   0.883854  0.999914   \n",
       "\n",
       "      open_tan  open_tan2  open_xsinx  open_xcosx  open_sinxcosx  \\\n",
       "8845  0.473836   1.313140    0.000001    0.001045       0.001095   \n",
       "8844 -0.154360   0.051777    0.000002   -0.002848      -0.000626   \n",
       "8843 -0.806869  -0.186568   -0.000000    0.000000      -0.002197   \n",
       "8842 -0.014111   0.527968    0.000005   -0.001732      -0.002702   \n",
       "8841 -0.013113   0.529232   -0.000000    0.000000      -0.003311   \n",
       "\n",
       "      open_xsinxcosx   open_xsinx2  open_xcosx2  open_sinxcosx2  \\\n",
       "8845       -0.000001  2.204898e-06     0.000700        0.001156   \n",
       "8844        0.000002  7.176933e-07    -0.002878       -0.000249   \n",
       "8843       -0.000000 -0.000000e+00     0.000000       -0.000940   \n",
       "8842       -0.000005 -1.707856e-04    -0.001532        0.087194   \n",
       "8841       -0.000000  0.000000e+00     0.000000        0.101148   \n",
       "\n",
       "      open_xsinxcosx2  open_xtanx  open_xtanx2     %high  mesa_high  high_amp  \\\n",
       "8845    -1.335851e-06   -0.000548    -0.001518 -0.001156   0.490591 -0.001940   \n",
       "8844     7.167332e-07    0.000445    -0.000149 -0.008028   0.488493 -0.002108   \n",
       "8843    -0.000000e+00   -0.000000    -0.000000  0.005187   0.497884 -0.001594   \n",
       "8842     1.510283e-04   -0.000024     0.000914  0.001732   0.492480  0.170091   \n",
       "8841     0.000000e+00   -0.000000     0.000000  0.000000   0.490980  0.002768   \n",
       "\n",
       "      high_omega   high_phase  high_offset  high_freq  high_period  \\\n",
       "8845    2.802241  -332.993391    -0.000401   0.445991     2.242200   \n",
       "8844    2.808354  -387.061715    -0.000335   0.446963     2.237320   \n",
       "8843    2.843266  -695.427737    -0.000012   0.452520     2.209848   \n",
       "8842    3.140820 -1102.168494    -0.000261   0.499877     2.000492   \n",
       "8841    1.216969   339.262618    -0.001003   0.193687     5.162981   \n",
       "\n",
       "       high_maxcov  high_sin    high_angle  high_rad  high_rad2  high_sin2  \\\n",
       "8845  2.440428e+05  0.001482  24452.828207  4.954177   5.400168   0.001098   \n",
       "8844  1.819360e+05 -0.002103  24450.020219  2.146189   2.593152  -0.001434   \n",
       "8843  2.229531e+05  0.000461  24447.572453  5.981608   6.434128  -0.000252   \n",
       "8842  7.065106e+08  0.002159  26668.965812  3.127368   3.627245  -0.079657   \n",
       "8841  2.439138e+05  0.000914  11098.481518  2.376266   2.569952   0.000494   \n",
       "\n",
       "      high_cos2  high_cos  high_tan  high_tan2  high_xsinx  high_xcosx  \\\n",
       "8845   0.634822  0.239439 -4.054941  -1.217125   -0.000002   -0.000277   \n",
       "8844  -0.853339 -0.544164 -1.541776  -0.610962    0.000017    0.004368   \n",
       "8843   0.988630  0.954869 -0.311065   0.152100    0.000002    0.004953   \n",
       "8842  -0.884370 -0.999899 -0.014225   0.527817    0.000004   -0.001732   \n",
       "8841  -0.841015 -0.721156 -0.960642  -0.643285    0.000000   -0.000000   \n",
       "\n",
       "      high_sinxcosx  high_xsinxcosx  high_xsinx2  high_xcosx2  high_sinxcosx2  \\\n",
       "8845       0.000355   -4.103498e-07    -0.000001    -0.000734        0.000697   \n",
       "8844       0.001145   -9.187537e-06     0.000012     0.006850        0.001223   \n",
       "8843       0.000440    2.284356e-06    -0.000001     0.005128       -0.000249   \n",
       "8842      -0.002158   -3.738379e-06    -0.000138    -0.001532        0.070446   \n",
       "8841      -0.000659   -0.000000e+00     0.000000    -0.000000       -0.000416   \n",
       "\n",
       "      high_xsinxcosx2  high_xtanx  high_xtanx2      %low  mesa_low   low_amp  \\\n",
       "8845    -8.057384e-07    0.004688     0.001407 -0.001156  0.490588  0.002575   \n",
       "8844    -9.820883e-06    0.012377     0.004905 -0.002882  0.489934  0.002457   \n",
       "8843    -1.292442e-06   -0.001614     0.000789  0.000000  0.497337  0.003319   \n",
       "8842     1.220202e-04   -0.000025     0.000914  0.001732  0.491378  0.377616   \n",
       "8841    -0.000000e+00   -0.000000    -0.000000  0.000000  0.491908  0.488526   \n",
       "\n",
       "      low_omega    low_phase  low_offset  low_freq  low_period    low_maxcov  \\\n",
       "8845   2.990564   224.104713   -0.000389  0.475963    2.101003  1.440349e+05   \n",
       "8844   3.001820   124.667322   -0.000327  0.477755    2.093125  2.107880e+05   \n",
       "8843   3.069251  -470.566094   -0.000190  0.488486    2.047140  1.029450e+06   \n",
       "8842   3.141009 -1103.833467   -0.000275  0.499907    2.000372  1.723141e+08   \n",
       "8841   3.141052 -1104.208483   -0.000092  0.499914    2.000344  2.182243e+10   \n",
       "\n",
       "       low_sin     low_angle   low_rad  low_rad2  low_sin2  low_cos2  \\\n",
       "8845 -0.001352  26675.646515  3.524886  4.000850 -0.002340 -0.653000   \n",
       "8844  0.001151  26672.767225  0.645596  1.123351  0.001888  0.432664   \n",
       "8843 -0.003389  26670.820335  4.981891  5.470377 -0.002600  0.687462   \n",
       "8842  0.003632  26668.969689  3.131245  3.631152 -0.177844 -0.882540   \n",
       "8841 -0.004281  26665.829868  6.274610  6.774524  0.230398  0.881702   \n",
       "\n",
       "       low_cos   low_tan  low_tan2  low_xsinx  low_xcosx  low_sinxcosx  \\\n",
       "8845 -0.927438  0.403237  1.159812   0.000002   0.001072      0.001254   \n",
       "8844  0.798741  0.753279  2.083731  -0.000003  -0.002302      0.000919   \n",
       "8843  0.266251 -3.620276 -1.056379  -0.000000   0.000000     -0.000902   \n",
       "8842 -0.999946 -0.010348  0.532822   0.000006  -0.001732     -0.003632   \n",
       "8841  0.999963 -0.008576  0.535108  -0.000000   0.000000     -0.004281   \n",
       "\n",
       "      low_xsinxcosx  low_xsinx2  low_xcosx2  low_sinxcosx2  low_xsinxcosx2  \\\n",
       "8845      -0.000001    0.000003    0.000755       0.001528       -0.000002   \n",
       "8844      -0.000003   -0.000005   -0.001247       0.000817       -0.000002   \n",
       "8843      -0.000000   -0.000000    0.000000      -0.001788       -0.000000   \n",
       "8842      -0.000006   -0.000308   -0.001529       0.156955        0.000272   \n",
       "8841      -0.000000    0.000000    0.000000       0.203142        0.000000   \n",
       "\n",
       "      low_xtanx  low_xtanx2    %close  mesa_close  close_amp  close_omega  \\\n",
       "8845  -0.000466   -0.001341 -0.001156    0.490591  -0.002573     2.833824   \n",
       "8844  -0.002171   -0.006005 -0.008028    0.488493  -0.002719     2.838034   \n",
       "8843  -0.000000   -0.000000  0.005187    0.499745   0.002211     2.999563   \n",
       "8842  -0.000018    0.000923  0.001732    0.491535   0.271152     3.140784   \n",
       "8841  -0.000000    0.000000  0.000000    0.491907   0.003094     1.213933   \n",
       "\n",
       "      close_phase  close_offset  close_freq  close_period  close_maxcov  \\\n",
       "8845  -611.936535     -0.000390    0.451017      2.217211  1.726659e+05   \n",
       "8844  -649.214703     -0.000325    0.451687      2.213922  1.408935e+05   \n",
       "8843   144.588277     -0.000029    0.477395      2.094701  3.415195e+05   \n",
       "8842 -1101.846602     -0.000272    0.499871      2.000515  9.297269e+09   \n",
       "8841   372.387665     -0.001011    0.193203      5.175891  2.478253e+05   \n",
       "\n",
       "      close_sin   close_angle  close_rad  close_rad2  close_sin2  close_cos2  \\\n",
       "8845   0.001653  24453.239631   5.365601    5.816618    0.000767    0.893118   \n",
       "8844  -0.001990  24450.356426   2.482395    2.934083   -0.000885   -0.978547   \n",
       "8843  -0.001521  26669.720405   3.881962    4.359357   -0.002104   -0.345745   \n",
       "8842   0.003530  26668.966016   3.127572    3.627443   -0.126889   -0.884278   \n",
       "8841   0.001121  11104.769538   2.381100    2.574303    0.000651   -0.843361   \n",
       "\n",
       "      close_cos  close_tan  close_tan2  close_xsinx  close_xcosx  \\\n",
       "8845   0.607740  -1.306702   -0.503655    -0.000002    -0.000703   \n",
       "8844  -0.790484  -0.774819   -0.210541     0.000016     0.006346   \n",
       "8843  -0.738220   0.913766    2.713937    -0.000008    -0.003829   \n",
       "8842  -0.999902  -0.014022    0.528070     0.000006    -0.001732   \n",
       "8841  -0.724496  -0.951390   -0.637151     0.000000    -0.000000   \n",
       "\n",
       "      close_sinxcosx  close_xsinxcosx  close_xsinx2  close_xcosx2  \\\n",
       "8845        0.001004        -0.000001 -8.865898e-07     -0.001033   \n",
       "8844        0.001573        -0.000013  7.103888e-06      0.007855   \n",
       "8843        0.001123         0.000006 -1.091391e-05     -0.001793   \n",
       "8842       -0.003529        -0.000006 -2.197851e-04     -0.001532   \n",
       "8841       -0.000812        -0.000000  0.000000e+00     -0.000000   \n",
       "\n",
       "      close_sinxcosx2  close_xsinxcosx2  close_xtanx  close_xtanx2  decision  \\\n",
       "8845         0.000685     -7.918291e-07     0.001511      0.000582       0.0   \n",
       "8844         0.000866     -6.951488e-06     0.006220      0.001690       0.0   \n",
       "8843         0.000727      3.773424e-06     0.004740      0.014078       0.0   \n",
       "8842         0.112205      1.943511e-04    -0.000024      0.000915       0.0   \n",
       "8841        -0.000549     -0.000000e+00    -0.000000     -0.000000       0.0   \n",
       "\n",
       "       D2  \n",
       "8845  0.0  \n",
       "8844  0.0  \n",
       "8843  0.0  \n",
       "8842  0.0  \n",
       "8841  0.0  "
      ]
     },
     "execution_count": 3,
     "metadata": {},
     "output_type": "execute_result"
    }
   ],
   "source": [
    "df = load_set(stocks[0], data_dir, suffix)\n",
    "df.head()"
   ]
  },
  {
   "cell_type": "code",
   "execution_count": 4,
   "metadata": {},
   "outputs": [],
   "source": [
    "#df.loc[6064:6060]"
   ]
  },
  {
   "cell_type": "code",
   "execution_count": 5,
   "metadata": {},
   "outputs": [],
   "source": [
    "#df[df.isna().sum(axis=1) > 0]"
   ]
  },
  {
   "cell_type": "code",
   "execution_count": 6,
   "metadata": {},
   "outputs": [],
   "source": [
    "df['target'] = df['%close'].shift(1)"
   ]
  },
  {
   "cell_type": "code",
   "execution_count": 7,
   "metadata": {},
   "outputs": [
    {
     "data": {
      "text/html": [
       "<div>\n",
       "<style scoped>\n",
       "    .dataframe tbody tr th:only-of-type {\n",
       "        vertical-align: middle;\n",
       "    }\n",
       "\n",
       "    .dataframe tbody tr th {\n",
       "        vertical-align: top;\n",
       "    }\n",
       "\n",
       "    .dataframe thead th {\n",
       "        text-align: right;\n",
       "    }\n",
       "</style>\n",
       "<table border=\"1\" class=\"dataframe\">\n",
       "  <thead>\n",
       "    <tr style=\"text-align: right;\">\n",
       "      <th></th>\n",
       "      <th>close</th>\n",
       "      <th>%close</th>\n",
       "      <th>target</th>\n",
       "    </tr>\n",
       "  </thead>\n",
       "  <tbody>\n",
       "    <tr>\n",
       "      <th>8845</th>\n",
       "      <td>17.28</td>\n",
       "      <td>-0.001156</td>\n",
       "      <td>NaN</td>\n",
       "    </tr>\n",
       "    <tr>\n",
       "      <th>8844</th>\n",
       "      <td>17.30</td>\n",
       "      <td>-0.008028</td>\n",
       "      <td>-0.001156</td>\n",
       "    </tr>\n",
       "    <tr>\n",
       "      <th>8843</th>\n",
       "      <td>17.44</td>\n",
       "      <td>0.005187</td>\n",
       "      <td>-0.008028</td>\n",
       "    </tr>\n",
       "    <tr>\n",
       "      <th>8842</th>\n",
       "      <td>17.35</td>\n",
       "      <td>0.001732</td>\n",
       "      <td>0.005187</td>\n",
       "    </tr>\n",
       "    <tr>\n",
       "      <th>8841</th>\n",
       "      <td>17.32</td>\n",
       "      <td>0.000000</td>\n",
       "      <td>0.001732</td>\n",
       "    </tr>\n",
       "    <tr>\n",
       "      <th>...</th>\n",
       "      <td>...</td>\n",
       "      <td>...</td>\n",
       "      <td>...</td>\n",
       "    </tr>\n",
       "    <tr>\n",
       "      <th>4</th>\n",
       "      <td>10.72</td>\n",
       "      <td>0.006573</td>\n",
       "      <td>-0.008396</td>\n",
       "    </tr>\n",
       "    <tr>\n",
       "      <th>3</th>\n",
       "      <td>10.65</td>\n",
       "      <td>0.000000</td>\n",
       "      <td>0.006573</td>\n",
       "    </tr>\n",
       "    <tr>\n",
       "      <th>2</th>\n",
       "      <td>10.65</td>\n",
       "      <td>-0.004673</td>\n",
       "      <td>0.000000</td>\n",
       "    </tr>\n",
       "    <tr>\n",
       "      <th>1</th>\n",
       "      <td>10.70</td>\n",
       "      <td>-0.027273</td>\n",
       "      <td>-0.004673</td>\n",
       "    </tr>\n",
       "    <tr>\n",
       "      <th>0</th>\n",
       "      <td>11.00</td>\n",
       "      <td>NaN</td>\n",
       "      <td>-0.027273</td>\n",
       "    </tr>\n",
       "  </tbody>\n",
       "</table>\n",
       "<p>8846 rows × 3 columns</p>\n",
       "</div>"
      ],
      "text/plain": [
       "      close    %close    target\n",
       "8845  17.28 -0.001156       NaN\n",
       "8844  17.30 -0.008028 -0.001156\n",
       "8843  17.44  0.005187 -0.008028\n",
       "8842  17.35  0.001732  0.005187\n",
       "8841  17.32  0.000000  0.001732\n",
       "...     ...       ...       ...\n",
       "4     10.72  0.006573 -0.008396\n",
       "3     10.65  0.000000  0.006573\n",
       "2     10.65 -0.004673  0.000000\n",
       "1     10.70 -0.027273 -0.004673\n",
       "0     11.00       NaN -0.027273\n",
       "\n",
       "[8846 rows x 3 columns]"
      ]
     },
     "execution_count": 7,
     "metadata": {},
     "output_type": "execute_result"
    }
   ],
   "source": [
    "df[['close','%close','target']]"
   ]
  },
  {
   "cell_type": "code",
   "execution_count": 8,
   "metadata": {},
   "outputs": [
    {
     "data": {
      "text/plain": [
       "8845    17.359000\n",
       "8844    17.362333\n",
       "8843    17.364333\n",
       "8842    17.362667\n",
       "8841    17.367000\n",
       "          ...    \n",
       "4             NaN\n",
       "3             NaN\n",
       "2             NaN\n",
       "1             NaN\n",
       "0             NaN\n",
       "Name: open, Length: 8846, dtype: float64"
      ]
     },
     "execution_count": 8,
     "metadata": {},
     "output_type": "execute_result"
    }
   ],
   "source": [
    "df['open'][::-1].rolling(30).mean()[::-1]"
   ]
  },
  {
   "cell_type": "code",
   "execution_count": 9,
   "metadata": {},
   "outputs": [
    {
     "data": {
      "text/plain": [
       "(8846, 4787)"
      ]
     },
     "execution_count": 9,
     "metadata": {},
     "output_type": "execute_result"
    }
   ],
   "source": [
    "e = df.shape[0]\n",
    "l = e - 4000 - 59\n",
    "\n",
    "e, l"
   ]
  },
  {
   "cell_type": "markdown",
   "metadata": {},
   "source": [
    "The train/test data "
   ]
  },
  {
   "cell_type": "code",
   "execution_count": 10,
   "metadata": {},
   "outputs": [
    {
     "data": {
      "text/plain": [
       "8845         NaN\n",
       "8844   -0.001156\n",
       "8843   -0.008028\n",
       "8842    0.005187\n",
       "8841    0.001732\n",
       "          ...   \n",
       "4063    0.002493\n",
       "4062   -0.005666\n",
       "4061    0.002841\n",
       "4060    0.000711\n",
       "4059    0.003566\n",
       "Name: target, Length: 4787, dtype: float64"
      ]
     },
     "execution_count": 10,
     "metadata": {},
     "output_type": "execute_result"
    }
   ],
   "source": [
    "df.iloc[:l]['target']"
   ]
  },
  {
   "cell_type": "code",
   "execution_count": 107,
   "metadata": {},
   "outputs": [],
   "source": [
    "df = load_set(stocks[0], data_dir, suffix)\n",
    "\n",
    "for col in ['open','high','low','close']:\n",
    "        df[col] = df[col] - df[col][::-1].rolling(30).mean()[::-1]\n",
    "\n",
    "df = df.dropna(axis=0)\n",
    "\n",
    "e = df.shape[0]\n",
    "l = e - 4000 - 59\n",
    "\n",
    "df['target'] = df['%close'].shift(1)\n",
    "\n",
    "y_ = df.iloc[1:4001]['target']"
   ]
  },
  {
   "cell_type": "code",
   "execution_count": 497,
   "metadata": {},
   "outputs": [
    {
     "data": {
      "text/plain": [
       "4756"
      ]
     },
     "execution_count": 497,
     "metadata": {},
     "output_type": "execute_result"
    }
   ],
   "source": [
    "X = np.zeros([4000,116,60])\n",
    "\n",
    "df = load_set(stocks[0], data_dir, suffix)\n",
    "\n",
    "\n",
    "for col in ['open','high','low','close']:\n",
    "        df[col] = df[col] - df[col][::-1].rolling(30).mean()[::-1]\n",
    "\n",
    "df = df.dropna(axis=0)\n",
    "        \n",
    "e = df.shape[0]\n",
    "l = e - 4000 - 59\n",
    "\n",
    "\n",
    "df['target'] = df['%close'].shift(1)\n",
    "\n",
    "y_ = df.iloc[l:e-59]['target']\n",
    "#y_ = df.iloc[1:4001]['target']\n",
    "y = y_.to_numpy() \n",
    "\n",
    "drop_cols = ['datetime',\n",
    "            'date',\n",
    "            'min_num',\n",
    "            'SYMBOL',\n",
    "            'prev_close',\n",
    "            'diff_1',\n",
    "            'time',\n",
    "            'decision',\n",
    "            'open_maxcov',\n",
    "            'high_maxcov',\n",
    "            'low_maxcov',\n",
    "            'close_maxcov',\n",
    "            'pct_change',\n",
    "            'D2',\n",
    "            'target']\n",
    "\n",
    "df.drop(drop_cols, axis=1, inplace=True)\n",
    "\n",
    "# mx = MinMaxScaler()\n",
    "# mx = mx.fit(df)\n",
    "# scaled_features = mx.transform(df)\n",
    "# df = pd.DataFrame(scaled_features, index=df.index, columns=df.columns)\n",
    "\n",
    "# dt = df.transpose()\n",
    "\n",
    "for j, i in enumerate(range(1, 4001)):\n",
    "     X[j] = dt.iloc[:, i:i+60].to_numpy()\n",
    "    \n",
    "y.shape, X.shape\n",
    "l"
   ]
  },
  {
   "cell_type": "code",
   "execution_count": 498,
   "metadata": {},
   "outputs": [
    {
     "data": {
      "text/plain": [
       "4760"
      ]
     },
     "execution_count": 498,
     "metadata": {},
     "output_type": "execute_result"
    }
   ],
   "source": [
    "y = np.zeros([1,4000])\n",
    "\n",
    "#for k, stock in enumerate(stocks):\n",
    "df = load_set(stocks[0], data_dir, suffix)\n",
    "\n",
    "df = df.dropna(axis=0)\n",
    "\n",
    "e = df.shape[0]\n",
    "l = e - 4000 - 59\n",
    "\n",
    "df['y'] = df['%close'].shift(1)\n",
    "y_ = df.iloc[1+4:4001+4]['y']\n",
    "y[0] = y_.to_numpy() \n",
    "l"
   ]
  },
  {
   "cell_type": "code",
   "execution_count": 513,
   "metadata": {},
   "outputs": [
    {
     "data": {
      "text/plain": [
       "open                  17.3\n",
       "high                  17.3\n",
       "low                   17.3\n",
       "close                 17.3\n",
       "volume                 200\n",
       "                   ...    \n",
       "close_xtanx     0.00621988\n",
       "close_xtanx2    0.00169012\n",
       "decision                 0\n",
       "D2                       0\n",
       "y              -0.00115607\n",
       "Name: 8844, Length: 131, dtype: object"
      ]
     },
     "execution_count": 513,
     "metadata": {},
     "output_type": "execute_result"
    }
   ],
   "source": [
    "df.iloc[1]"
   ]
  },
  {
   "cell_type": "code",
   "execution_count": 512,
   "metadata": {},
   "outputs": [
    {
     "data": {
      "text/plain": [
       "open                17.32\n",
       "high                17.32\n",
       "low                 17.32\n",
       "close               17.32\n",
       "volume                  1\n",
       "                  ...    \n",
       "close_xtanx     0.0297185\n",
       "close_xtanx2    0.0751944\n",
       "decision                0\n",
       "D2                      0\n",
       "y                       0\n",
       "Name: 8840, Length: 131, dtype: object"
      ]
     },
     "execution_count": 512,
     "metadata": {},
     "output_type": "execute_result"
    }
   ],
   "source": [
    "df.iloc[5]"
   ]
  },
  {
   "cell_type": "code",
   "execution_count": 499,
   "metadata": {},
   "outputs": [
    {
     "data": {
      "text/plain": [
       "array([[ 0.        ],\n",
       "       [ 0.01050175],\n",
       "       [-0.00580046],\n",
       "       ...,\n",
       "       [ 0.00134409],\n",
       "       [ 0.        ],\n",
       "       [ 0.00813008]])"
      ]
     },
     "execution_count": 499,
     "metadata": {},
     "output_type": "execute_result"
    }
   ],
   "source": [
    "#y = y.to_numpy()\n",
    "y = y[0]\n",
    "y.shape = (4000,1)\n",
    "y"
   ]
  },
  {
   "cell_type": "code",
   "execution_count": 500,
   "metadata": {},
   "outputs": [
    {
     "data": {
      "text/plain": [
       "(array([0., 1.]), array([2270, 1730]))"
      ]
     },
     "execution_count": 500,
     "metadata": {},
     "output_type": "execute_result"
    }
   ],
   "source": [
    "y_d = y.copy()\n",
    "y_d[np.where(y_d > 0)] = 1\n",
    "y_d[np.where(y_d < 0)] = 0\n",
    "np.unique(y_d, return_counts=True)"
   ]
  },
  {
   "cell_type": "code",
   "execution_count": 501,
   "metadata": {},
   "outputs": [
    {
     "data": {
      "text/plain": [
       "(4000, 116, 60)"
      ]
     },
     "execution_count": 501,
     "metadata": {},
     "output_type": "execute_result"
    }
   ],
   "source": [
    "X.shape"
   ]
  },
  {
   "cell_type": "code",
   "execution_count": 502,
   "metadata": {},
   "outputs": [
    {
     "data": {
      "text/plain": [
       "(4000, 116, 10)"
      ]
     },
     "execution_count": 502,
     "metadata": {},
     "output_type": "execute_result"
    }
   ],
   "source": [
    "X = X[:,:,:10]\n",
    "X.shape"
   ]
  },
  {
   "cell_type": "code",
   "execution_count": 503,
   "metadata": {},
   "outputs": [
    {
     "data": {
      "text/plain": [
       "(4000, 10, 116)"
      ]
     },
     "execution_count": 503,
     "metadata": {},
     "output_type": "execute_result"
    }
   ],
   "source": [
    "X = np.transpose(X, axes=(0,2,1))\n",
    "X.shape"
   ]
  },
  {
   "cell_type": "code",
   "execution_count": 504,
   "metadata": {},
   "outputs": [],
   "source": [
    "model = keras.models.load_model('./data/Models/1min95acc_030920')"
   ]
  },
  {
   "cell_type": "code",
   "execution_count": 505,
   "metadata": {},
   "outputs": [],
   "source": [
    "preds = model.predict(X)"
   ]
  },
  {
   "cell_type": "code",
   "execution_count": 506,
   "metadata": {},
   "outputs": [
    {
     "data": {
      "text/plain": [
       "array([[9.9999988e-01, 1.6716103e-07],\n",
       "       [1.8119322e-07, 9.9999976e-01],\n",
       "       [9.9998832e-01, 1.1724805e-05],\n",
       "       ...,\n",
       "       [6.0427058e-03, 9.9395728e-01],\n",
       "       [9.9999845e-01, 1.5581271e-06],\n",
       "       [3.6261679e-07, 9.9999964e-01]], dtype=float32)"
      ]
     },
     "execution_count": 506,
     "metadata": {},
     "output_type": "execute_result"
    }
   ],
   "source": [
    "preds"
   ]
  },
  {
   "cell_type": "code",
   "execution_count": 507,
   "metadata": {},
   "outputs": [
    {
     "data": {
      "text/plain": [
       "array([0, 1, 0, ..., 1, 0, 1])"
      ]
     },
     "execution_count": 507,
     "metadata": {},
     "output_type": "execute_result"
    }
   ],
   "source": [
    "np.argmax(preds, axis=1)"
   ]
  },
  {
   "cell_type": "code",
   "execution_count": 508,
   "metadata": {},
   "outputs": [],
   "source": [
    "y_preds = np.argmax(preds, axis=1)"
   ]
  },
  {
   "cell_type": "code",
   "execution_count": 509,
   "metadata": {},
   "outputs": [],
   "source": [
    "y_true = y_d.reshape(4000)"
   ]
  },
  {
   "cell_type": "code",
   "execution_count": 510,
   "metadata": {},
   "outputs": [
    {
     "data": {
      "text/plain": [
       "array([[0.],\n",
       "       [1.],\n",
       "       [0.],\n",
       "       ...,\n",
       "       [1.],\n",
       "       [0.],\n",
       "       [1.]])"
      ]
     },
     "execution_count": 510,
     "metadata": {},
     "output_type": "execute_result"
    }
   ],
   "source": [
    "y_d"
   ]
  },
  {
   "cell_type": "code",
   "execution_count": 511,
   "metadata": {},
   "outputs": [
    {
     "data": {
      "text/plain": [
       "0.945"
      ]
     },
     "execution_count": 511,
     "metadata": {},
     "output_type": "execute_result"
    }
   ],
   "source": [
    "from sklearn.metrics import accuracy_score\n",
    "\n",
    "accuracy_score(y_true, y_preds)"
   ]
  },
  {
   "cell_type": "code",
   "execution_count": 157,
   "metadata": {},
   "outputs": [
    {
     "data": {
      "text/plain": [
       "(30, 4000, 116, 60)"
      ]
     },
     "execution_count": 157,
     "metadata": {},
     "output_type": "execute_result"
    }
   ],
   "source": [
    "X_old = np.load('./data/prepared/august25screenfixed/numpy_matrices/X.npy')\n",
    "X_old.shape"
   ]
  },
  {
   "cell_type": "code",
   "execution_count": 158,
   "metadata": {},
   "outputs": [
    {
     "data": {
      "text/plain": [
       "(4000, 116, 60)"
      ]
     },
     "execution_count": 158,
     "metadata": {},
     "output_type": "execute_result"
    }
   ],
   "source": [
    "X_old[0].shape"
   ]
  },
  {
   "cell_type": "code",
   "execution_count": 159,
   "metadata": {},
   "outputs": [],
   "source": [
    "X_old = X_old[0]"
   ]
  },
  {
   "cell_type": "code",
   "execution_count": 160,
   "metadata": {},
   "outputs": [
    {
     "data": {
      "text/plain": [
       "((4000, 116, 60), (4000, 10, 116))"
      ]
     },
     "execution_count": 160,
     "metadata": {},
     "output_type": "execute_result"
    }
   ],
   "source": [
    "X_old.shape, X.shape"
   ]
  },
  {
   "cell_type": "code",
   "execution_count": 162,
   "metadata": {},
   "outputs": [
    {
     "data": {
      "text/plain": [
       "(4000, 10, 116)"
      ]
     },
     "execution_count": 162,
     "metadata": {},
     "output_type": "execute_result"
    }
   ],
   "source": [
    "#X_old = X_old[:,:,:10]\n",
    "X_old = np.transpose(X_old, axes=(0,2,1))\n",
    "X_old.shape"
   ]
  },
  {
   "cell_type": "code",
   "execution_count": 354,
   "metadata": {},
   "outputs": [
    {
     "data": {
      "text/plain": [
       "array([[[ True,  True,  True, ...,  True,  True,  True],\n",
       "        [ True,  True,  True, ...,  True,  True,  True],\n",
       "        [ True,  True,  True, ...,  True,  True,  True],\n",
       "        ...,\n",
       "        [ True,  True,  True, ...,  True,  True,  True],\n",
       "        [ True,  True,  True, ...,  True,  True,  True],\n",
       "        [ True,  True,  True, ...,  True,  True,  True]],\n",
       "\n",
       "       [[ True,  True,  True, ...,  True,  True,  True],\n",
       "        [ True,  True,  True, ...,  True,  True,  True],\n",
       "        [ True,  True,  True, ...,  True,  True,  True],\n",
       "        ...,\n",
       "        [ True,  True,  True, ...,  True,  True,  True],\n",
       "        [ True,  True,  True, ...,  True,  True,  True],\n",
       "        [ True,  True,  True, ...,  True,  True,  True]],\n",
       "\n",
       "       [[ True,  True,  True, ...,  True,  True,  True],\n",
       "        [ True,  True,  True, ...,  True,  True,  True],\n",
       "        [ True,  True,  True, ...,  True,  True,  True],\n",
       "        ...,\n",
       "        [ True,  True,  True, ...,  True,  True,  True],\n",
       "        [ True,  True,  True, ...,  True,  True,  True],\n",
       "        [ True,  True,  True, ...,  True,  True,  True]],\n",
       "\n",
       "       ...,\n",
       "\n",
       "       [[ True,  True,  True, ...,  True,  True,  True],\n",
       "        [ True,  True,  True, ...,  True,  True,  True],\n",
       "        [ True,  True,  True, ...,  True,  True,  True],\n",
       "        ...,\n",
       "        [ True,  True,  True, ...,  True,  True,  True],\n",
       "        [ True,  True,  True, ...,  True,  True,  True],\n",
       "        [ True,  True,  True, ...,  True,  True,  True]],\n",
       "\n",
       "       [[ True,  True,  True, ...,  True,  True,  True],\n",
       "        [ True,  True,  True, ...,  True,  True,  True],\n",
       "        [ True,  True,  True, ...,  True,  True,  True],\n",
       "        ...,\n",
       "        [ True,  True,  True, ...,  True,  True,  True],\n",
       "        [ True,  True,  True, ...,  True,  True,  True],\n",
       "        [ True,  True,  True, ...,  True,  True,  True]],\n",
       "\n",
       "       [[ True,  True,  True, ...,  True,  True,  True],\n",
       "        [ True,  True,  True, ...,  True,  True,  True],\n",
       "        [ True,  True,  True, ...,  True,  True,  True],\n",
       "        ...,\n",
       "        [ True,  True,  True, ...,  True,  True,  True],\n",
       "        [ True,  True,  True, ...,  True,  True,  True],\n",
       "        [ True,  True,  True, ...,  True,  True,  True]]])"
      ]
     },
     "execution_count": 354,
     "metadata": {},
     "output_type": "execute_result"
    }
   ],
   "source": [
    "X_old == X"
   ]
  },
  {
   "cell_type": "code",
   "execution_count": 165,
   "metadata": {},
   "outputs": [
    {
     "data": {
      "text/plain": [
       "(4000,)"
      ]
     },
     "execution_count": 165,
     "metadata": {},
     "output_type": "execute_result"
    }
   ],
   "source": [
    "y_old = np.load('./data/prepared/august25screenfixed/numpy_matrices/y_br.npy')\n",
    "y_old[0].shape"
   ]
  },
  {
   "cell_type": "code",
   "execution_count": 166,
   "metadata": {},
   "outputs": [],
   "source": [
    "y_old = y_old[0]"
   ]
  },
  {
   "cell_type": "code",
   "execution_count": 187,
   "metadata": {},
   "outputs": [
    {
     "data": {
      "text/plain": [
       "(array([0., 1.]), array([2217, 1783]))"
      ]
     },
     "execution_count": 187,
     "metadata": {},
     "output_type": "execute_result"
    }
   ],
   "source": [
    "y_oldd = y_old.copy()\n",
    "y_oldd[np.where(y_oldd > 0)] = 1\n",
    "y_oldd[np.where(y_oldd < 0)] = 0\n",
    "np.unique(y_oldd, return_counts=True)"
   ]
  },
  {
   "cell_type": "code",
   "execution_count": 188,
   "metadata": {},
   "outputs": [],
   "source": [
    "y_oldtrue = y_oldd.reshape(4000)"
   ]
  },
  {
   "cell_type": "code",
   "execution_count": 189,
   "metadata": {},
   "outputs": [
    {
     "data": {
      "text/plain": [
       "0.9665"
      ]
     },
     "execution_count": 189,
     "metadata": {},
     "output_type": "execute_result"
    }
   ],
   "source": [
    "accuracy_score(y_oldtrue, y_preds)"
   ]
  },
  {
   "cell_type": "code",
   "execution_count": 190,
   "metadata": {},
   "outputs": [
    {
     "data": {
      "text/plain": [
       "array([False, False,  True, ...,  True, False, False])"
      ]
     },
     "execution_count": 190,
     "metadata": {},
     "output_type": "execute_result"
    }
   ],
   "source": [
    "y_oldtrue == y_true"
   ]
  },
  {
   "cell_type": "code",
   "execution_count": 355,
   "metadata": {},
   "outputs": [
    {
     "data": {
      "text/plain": [
       "array([[False, False,  True, ..., False, False, False],\n",
       "       [False, False, False, ..., False, False, False],\n",
       "       [False, False, False, ..., False, False, False],\n",
       "       ...,\n",
       "       [False, False, False, ..., False, False, False],\n",
       "       [False, False, False, ..., False, False, False],\n",
       "       [False, False, False, ..., False, False, False]])"
      ]
     },
     "execution_count": 355,
     "metadata": {},
     "output_type": "execute_result"
    }
   ],
   "source": [
    "y == y_old"
   ]
  },
  {
   "cell_type": "code",
   "execution_count": 356,
   "metadata": {},
   "outputs": [
    {
     "data": {
      "text/plain": [
       "array([[-0.00141743],\n",
       "       [-0.00070822],\n",
       "       [-0.00035398],\n",
       "       [-0.00035386],\n",
       "       [ 0.00070822],\n",
       "       [ 0.00212917],\n",
       "       [-0.00141743],\n",
       "       [-0.00070822],\n",
       "       [ 0.        ],\n",
       "       [-0.00423131]])"
      ]
     },
     "execution_count": 356,
     "metadata": {},
     "output_type": "execute_result"
    }
   ],
   "source": [
    "y[:10]"
   ]
  },
  {
   "cell_type": "code",
   "execution_count": 357,
   "metadata": {},
   "outputs": [
    {
     "data": {
      "text/plain": [
       "array([ 0.00070822,  0.00212917, -0.00141743, -0.00070822,  0.        ,\n",
       "       -0.00423131,  0.00070572,  0.        ,  0.        ,  0.00247612])"
      ]
     },
     "execution_count": 357,
     "metadata": {},
     "output_type": "execute_result"
    }
   ],
   "source": [
    "y_old[:10]"
   ]
  },
  {
   "cell_type": "code",
   "execution_count": 358,
   "metadata": {},
   "outputs": [
    {
     "data": {
      "text/plain": [
       "((4000, 1), (4000,))"
      ]
     },
     "execution_count": 358,
     "metadata": {},
     "output_type": "execute_result"
    }
   ],
   "source": [
    "y.shape, y_old.shape"
   ]
  },
  {
   "cell_type": "code",
   "execution_count": 198,
   "metadata": {},
   "outputs": [],
   "source": [
    "y.shape = (4000)"
   ]
  },
  {
   "cell_type": "code",
   "execution_count": 199,
   "metadata": {},
   "outputs": [
    {
     "data": {
      "text/plain": [
       "array([False, False, False, ..., False, False, False])"
      ]
     },
     "execution_count": 199,
     "metadata": {},
     "output_type": "execute_result"
    }
   ],
   "source": [
    "y == y_old"
   ]
  },
  {
   "cell_type": "code",
   "execution_count": 201,
   "metadata": {},
   "outputs": [],
   "source": [
    "y_old_and_new = np.load('./data/prepared/august25screenfixed/numpy_matrices/y_br2.npy')"
   ]
  },
  {
   "cell_type": "code",
   "execution_count": 204,
   "metadata": {},
   "outputs": [
    {
     "data": {
      "text/plain": [
       "array([ True,  True,  True, ...,  True,  True,  True])"
      ]
     },
     "execution_count": 204,
     "metadata": {},
     "output_type": "execute_result"
    }
   ],
   "source": [
    "y_old_and_new[0] == y_old"
   ]
  },
  {
   "cell_type": "code",
   "execution_count": 224,
   "metadata": {},
   "outputs": [
    {
     "data": {
      "text/plain": [
       "array([ 0.00070822,  0.00212917, -0.00141743, -0.00070822,  0.        ,\n",
       "       -0.00423131,  0.00070572,  0.        ,  0.        ,  0.00247612])"
      ]
     },
     "execution_count": 224,
     "metadata": {},
     "output_type": "execute_result"
    }
   ],
   "source": [
    "y_old_and_new[0][:10]"
   ]
  },
  {
   "cell_type": "code",
   "execution_count": 222,
   "metadata": {},
   "outputs": [],
   "source": [
    "yfl = np.zeros([1,4000])\n",
    "\n",
    "df = load_set(stocks[0], data_dir, suffix)\n",
    "    \n",
    "df = df.dropna(axis=0)\n",
    "\n",
    "e = df.shape[0]\n",
    "l = e - 4000 - 59\n",
    "\n",
    "df['y'] = df['%close'].shift(1)\n",
    "y_fl = df.iloc[l:e-59]['y']\n",
    "yfl[0] = y_fl.to_numpy() "
   ]
  },
  {
   "cell_type": "code",
   "execution_count": 223,
   "metadata": {},
   "outputs": [
    {
     "data": {
      "text/plain": [
       "array([ 0.00070822,  0.00212917, -0.00141743, ..., -0.00142653,\n",
       "        0.00142857, -0.00190114])"
      ]
     },
     "execution_count": 223,
     "metadata": {},
     "output_type": "execute_result"
    }
   ],
   "source": [
    "yfl[0]"
   ]
  },
  {
   "cell_type": "code",
   "execution_count": 245,
   "metadata": {},
   "outputs": [
    {
     "data": {
      "text/plain": [
       "84     -0.001901\n",
       "85      0.001429\n",
       "86     -0.001427\n",
       "87     -0.000476\n",
       "88      0.002382\n",
       "          ...   \n",
       "4080    0.000000\n",
       "4081   -0.000708\n",
       "4082   -0.001417\n",
       "4083    0.002129\n",
       "4084    0.000708\n",
       "Name: y, Length: 4000, dtype: float64"
      ]
     },
     "execution_count": 245,
     "metadata": {},
     "output_type": "execute_result"
    }
   ],
   "source": [
    "y_fl[::-1]"
   ]
  },
  {
   "cell_type": "code",
   "execution_count": 359,
   "metadata": {},
   "outputs": [
    {
     "ename": "TypeError",
     "evalue": "cannot concatenate object of type '<class 'numpy.ndarray'>'; only Series and DataFrame objs are valid",
     "output_type": "error",
     "traceback": [
      "\u001b[0;31m\u001b[0m",
      "\u001b[0;31mTypeError\u001b[0mTraceback (most recent call last)",
      "\u001b[0;32m/opt/conda/lib/python3.7/site-packages/IPython/core/formatters.py\u001b[0m in \u001b[0;36m__call__\u001b[0;34m(self, obj)\u001b[0m\n\u001b[1;32m    700\u001b[0m                 \u001b[0mtype_pprinters\u001b[0m\u001b[0;34m=\u001b[0m\u001b[0mself\u001b[0m\u001b[0;34m.\u001b[0m\u001b[0mtype_printers\u001b[0m\u001b[0;34m,\u001b[0m\u001b[0;34m\u001b[0m\u001b[0;34m\u001b[0m\u001b[0m\n\u001b[1;32m    701\u001b[0m                 deferred_pprinters=self.deferred_printers)\n\u001b[0;32m--> 702\u001b[0;31m             \u001b[0mprinter\u001b[0m\u001b[0;34m.\u001b[0m\u001b[0mpretty\u001b[0m\u001b[0;34m(\u001b[0m\u001b[0mobj\u001b[0m\u001b[0;34m)\u001b[0m\u001b[0;34m\u001b[0m\u001b[0;34m\u001b[0m\u001b[0m\n\u001b[0m\u001b[1;32m    703\u001b[0m             \u001b[0mprinter\u001b[0m\u001b[0;34m.\u001b[0m\u001b[0mflush\u001b[0m\u001b[0;34m(\u001b[0m\u001b[0;34m)\u001b[0m\u001b[0;34m\u001b[0m\u001b[0;34m\u001b[0m\u001b[0m\n\u001b[1;32m    704\u001b[0m             \u001b[0;32mreturn\u001b[0m \u001b[0mstream\u001b[0m\u001b[0;34m.\u001b[0m\u001b[0mgetvalue\u001b[0m\u001b[0;34m(\u001b[0m\u001b[0;34m)\u001b[0m\u001b[0;34m\u001b[0m\u001b[0;34m\u001b[0m\u001b[0m\n",
      "\u001b[0;32m/opt/conda/lib/python3.7/site-packages/IPython/lib/pretty.py\u001b[0m in \u001b[0;36mpretty\u001b[0;34m(self, obj)\u001b[0m\n\u001b[1;32m    392\u001b[0m                         \u001b[0;32mif\u001b[0m \u001b[0mcls\u001b[0m \u001b[0;32mis\u001b[0m \u001b[0;32mnot\u001b[0m \u001b[0mobject\u001b[0m\u001b[0;31m \u001b[0m\u001b[0;31m\\\u001b[0m\u001b[0;34m\u001b[0m\u001b[0;34m\u001b[0m\u001b[0m\n\u001b[1;32m    393\u001b[0m                                 \u001b[0;32mand\u001b[0m \u001b[0mcallable\u001b[0m\u001b[0;34m(\u001b[0m\u001b[0mcls\u001b[0m\u001b[0;34m.\u001b[0m\u001b[0m__dict__\u001b[0m\u001b[0;34m.\u001b[0m\u001b[0mget\u001b[0m\u001b[0;34m(\u001b[0m\u001b[0;34m'__repr__'\u001b[0m\u001b[0;34m)\u001b[0m\u001b[0;34m)\u001b[0m\u001b[0;34m:\u001b[0m\u001b[0;34m\u001b[0m\u001b[0;34m\u001b[0m\u001b[0m\n\u001b[0;32m--> 394\u001b[0;31m                             \u001b[0;32mreturn\u001b[0m \u001b[0m_repr_pprint\u001b[0m\u001b[0;34m(\u001b[0m\u001b[0mobj\u001b[0m\u001b[0;34m,\u001b[0m \u001b[0mself\u001b[0m\u001b[0;34m,\u001b[0m \u001b[0mcycle\u001b[0m\u001b[0;34m)\u001b[0m\u001b[0;34m\u001b[0m\u001b[0;34m\u001b[0m\u001b[0m\n\u001b[0m\u001b[1;32m    395\u001b[0m \u001b[0;34m\u001b[0m\u001b[0m\n\u001b[1;32m    396\u001b[0m             \u001b[0;32mreturn\u001b[0m \u001b[0m_default_pprint\u001b[0m\u001b[0;34m(\u001b[0m\u001b[0mobj\u001b[0m\u001b[0;34m,\u001b[0m \u001b[0mself\u001b[0m\u001b[0;34m,\u001b[0m \u001b[0mcycle\u001b[0m\u001b[0;34m)\u001b[0m\u001b[0;34m\u001b[0m\u001b[0;34m\u001b[0m\u001b[0m\n",
      "\u001b[0;32m/opt/conda/lib/python3.7/site-packages/IPython/lib/pretty.py\u001b[0m in \u001b[0;36m_repr_pprint\u001b[0;34m(obj, p, cycle)\u001b[0m\n\u001b[1;32m    682\u001b[0m     \u001b[0;34m\"\"\"A pprint that just redirects to the normal repr function.\"\"\"\u001b[0m\u001b[0;34m\u001b[0m\u001b[0;34m\u001b[0m\u001b[0m\n\u001b[1;32m    683\u001b[0m     \u001b[0;31m# Find newlines and replace them with p.break_()\u001b[0m\u001b[0;34m\u001b[0m\u001b[0;34m\u001b[0m\u001b[0;34m\u001b[0m\u001b[0m\n\u001b[0;32m--> 684\u001b[0;31m     \u001b[0moutput\u001b[0m \u001b[0;34m=\u001b[0m \u001b[0mrepr\u001b[0m\u001b[0;34m(\u001b[0m\u001b[0mobj\u001b[0m\u001b[0;34m)\u001b[0m\u001b[0;34m\u001b[0m\u001b[0;34m\u001b[0m\u001b[0m\n\u001b[0m\u001b[1;32m    685\u001b[0m     \u001b[0mlines\u001b[0m \u001b[0;34m=\u001b[0m \u001b[0moutput\u001b[0m\u001b[0;34m.\u001b[0m\u001b[0msplitlines\u001b[0m\u001b[0;34m(\u001b[0m\u001b[0;34m)\u001b[0m\u001b[0;34m\u001b[0m\u001b[0;34m\u001b[0m\u001b[0m\n\u001b[1;32m    686\u001b[0m     \u001b[0;32mwith\u001b[0m \u001b[0mp\u001b[0m\u001b[0;34m.\u001b[0m\u001b[0mgroup\u001b[0m\u001b[0;34m(\u001b[0m\u001b[0;34m)\u001b[0m\u001b[0;34m:\u001b[0m\u001b[0;34m\u001b[0m\u001b[0;34m\u001b[0m\u001b[0m\n",
      "\u001b[0;32m/opt/conda/lib/python3.7/site-packages/pandas/core/series.py\u001b[0m in \u001b[0;36m__repr__\u001b[0;34m(self)\u001b[0m\n\u001b[1;32m   1369\u001b[0m             \u001b[0mmin_rows\u001b[0m\u001b[0;34m=\u001b[0m\u001b[0mmin_rows\u001b[0m\u001b[0;34m,\u001b[0m\u001b[0;34m\u001b[0m\u001b[0;34m\u001b[0m\u001b[0m\n\u001b[1;32m   1370\u001b[0m             \u001b[0mmax_rows\u001b[0m\u001b[0;34m=\u001b[0m\u001b[0mmax_rows\u001b[0m\u001b[0;34m,\u001b[0m\u001b[0;34m\u001b[0m\u001b[0;34m\u001b[0m\u001b[0m\n\u001b[0;32m-> 1371\u001b[0;31m             \u001b[0mlength\u001b[0m\u001b[0;34m=\u001b[0m\u001b[0mshow_dimensions\u001b[0m\u001b[0;34m,\u001b[0m\u001b[0;34m\u001b[0m\u001b[0;34m\u001b[0m\u001b[0m\n\u001b[0m\u001b[1;32m   1372\u001b[0m         )\n\u001b[1;32m   1373\u001b[0m         \u001b[0mresult\u001b[0m \u001b[0;34m=\u001b[0m \u001b[0mbuf\u001b[0m\u001b[0;34m.\u001b[0m\u001b[0mgetvalue\u001b[0m\u001b[0;34m(\u001b[0m\u001b[0;34m)\u001b[0m\u001b[0;34m\u001b[0m\u001b[0;34m\u001b[0m\u001b[0m\n",
      "\u001b[0;32m/opt/conda/lib/python3.7/site-packages/pandas/core/series.py\u001b[0m in \u001b[0;36mto_string\u001b[0;34m(self, buf, na_rep, float_format, header, index, length, dtype, name, max_rows, min_rows)\u001b[0m\n\u001b[1;32m   1433\u001b[0m             \u001b[0mfloat_format\u001b[0m\u001b[0;34m=\u001b[0m\u001b[0mfloat_format\u001b[0m\u001b[0;34m,\u001b[0m\u001b[0;34m\u001b[0m\u001b[0;34m\u001b[0m\u001b[0m\n\u001b[1;32m   1434\u001b[0m             \u001b[0mmin_rows\u001b[0m\u001b[0;34m=\u001b[0m\u001b[0mmin_rows\u001b[0m\u001b[0;34m,\u001b[0m\u001b[0;34m\u001b[0m\u001b[0;34m\u001b[0m\u001b[0m\n\u001b[0;32m-> 1435\u001b[0;31m             \u001b[0mmax_rows\u001b[0m\u001b[0;34m=\u001b[0m\u001b[0mmax_rows\u001b[0m\u001b[0;34m,\u001b[0m\u001b[0;34m\u001b[0m\u001b[0;34m\u001b[0m\u001b[0m\n\u001b[0m\u001b[1;32m   1436\u001b[0m         )\n\u001b[1;32m   1437\u001b[0m         \u001b[0mresult\u001b[0m \u001b[0;34m=\u001b[0m \u001b[0mformatter\u001b[0m\u001b[0;34m.\u001b[0m\u001b[0mto_string\u001b[0m\u001b[0;34m(\u001b[0m\u001b[0;34m)\u001b[0m\u001b[0;34m\u001b[0m\u001b[0;34m\u001b[0m\u001b[0m\n",
      "\u001b[0;32m/opt/conda/lib/python3.7/site-packages/pandas/io/formats/format.py\u001b[0m in \u001b[0;36m__init__\u001b[0;34m(self, series, buf, length, header, index, na_rep, name, float_format, dtype, max_rows, min_rows)\u001b[0m\n\u001b[1;32m    258\u001b[0m         \u001b[0mself\u001b[0m\u001b[0;34m.\u001b[0m\u001b[0madj\u001b[0m \u001b[0;34m=\u001b[0m \u001b[0m_get_adjustment\u001b[0m\u001b[0;34m(\u001b[0m\u001b[0;34m)\u001b[0m\u001b[0;34m\u001b[0m\u001b[0;34m\u001b[0m\u001b[0m\n\u001b[1;32m    259\u001b[0m \u001b[0;34m\u001b[0m\u001b[0m\n\u001b[0;32m--> 260\u001b[0;31m         \u001b[0mself\u001b[0m\u001b[0;34m.\u001b[0m\u001b[0m_chk_truncate\u001b[0m\u001b[0;34m(\u001b[0m\u001b[0;34m)\u001b[0m\u001b[0;34m\u001b[0m\u001b[0;34m\u001b[0m\u001b[0m\n\u001b[0m\u001b[1;32m    261\u001b[0m \u001b[0;34m\u001b[0m\u001b[0m\n\u001b[1;32m    262\u001b[0m     \u001b[0;32mdef\u001b[0m \u001b[0m_chk_truncate\u001b[0m\u001b[0;34m(\u001b[0m\u001b[0mself\u001b[0m\u001b[0;34m)\u001b[0m \u001b[0;34m->\u001b[0m \u001b[0;32mNone\u001b[0m\u001b[0;34m:\u001b[0m\u001b[0;34m\u001b[0m\u001b[0;34m\u001b[0m\u001b[0m\n",
      "\u001b[0;32m/opt/conda/lib/python3.7/site-packages/pandas/io/formats/format.py\u001b[0m in \u001b[0;36m_chk_truncate\u001b[0;34m(self)\u001b[0m\n\u001b[1;32m    282\u001b[0m             \u001b[0;32melse\u001b[0m\u001b[0;34m:\u001b[0m\u001b[0;34m\u001b[0m\u001b[0;34m\u001b[0m\u001b[0m\n\u001b[1;32m    283\u001b[0m                 \u001b[0mrow_num\u001b[0m \u001b[0;34m=\u001b[0m \u001b[0mmax_rows\u001b[0m \u001b[0;34m//\u001b[0m \u001b[0;36m2\u001b[0m\u001b[0;34m\u001b[0m\u001b[0;34m\u001b[0m\u001b[0m\n\u001b[0;32m--> 284\u001b[0;31m                 \u001b[0mseries\u001b[0m \u001b[0;34m=\u001b[0m \u001b[0mconcat\u001b[0m\u001b[0;34m(\u001b[0m\u001b[0;34m(\u001b[0m\u001b[0mseries\u001b[0m\u001b[0;34m.\u001b[0m\u001b[0miloc\u001b[0m\u001b[0;34m[\u001b[0m\u001b[0;34m:\u001b[0m\u001b[0mrow_num\u001b[0m\u001b[0;34m]\u001b[0m\u001b[0;34m,\u001b[0m \u001b[0mseries\u001b[0m\u001b[0;34m.\u001b[0m\u001b[0miloc\u001b[0m\u001b[0;34m[\u001b[0m\u001b[0;34m-\u001b[0m\u001b[0mrow_num\u001b[0m\u001b[0;34m:\u001b[0m\u001b[0;34m]\u001b[0m\u001b[0;34m)\u001b[0m\u001b[0;34m)\u001b[0m\u001b[0;34m\u001b[0m\u001b[0;34m\u001b[0m\u001b[0m\n\u001b[0m\u001b[1;32m    285\u001b[0m             \u001b[0mself\u001b[0m\u001b[0;34m.\u001b[0m\u001b[0mtr_row_num\u001b[0m \u001b[0;34m=\u001b[0m \u001b[0mrow_num\u001b[0m\u001b[0;34m\u001b[0m\u001b[0;34m\u001b[0m\u001b[0m\n\u001b[1;32m    286\u001b[0m         \u001b[0;32melse\u001b[0m\u001b[0;34m:\u001b[0m\u001b[0;34m\u001b[0m\u001b[0;34m\u001b[0m\u001b[0m\n",
      "\u001b[0;32m/opt/conda/lib/python3.7/site-packages/pandas/core/reshape/concat.py\u001b[0m in \u001b[0;36mconcat\u001b[0;34m(objs, axis, join, ignore_index, keys, levels, names, verify_integrity, sort, copy)\u001b[0m\n\u001b[1;32m    279\u001b[0m         \u001b[0mverify_integrity\u001b[0m\u001b[0;34m=\u001b[0m\u001b[0mverify_integrity\u001b[0m\u001b[0;34m,\u001b[0m\u001b[0;34m\u001b[0m\u001b[0;34m\u001b[0m\u001b[0m\n\u001b[1;32m    280\u001b[0m         \u001b[0mcopy\u001b[0m\u001b[0;34m=\u001b[0m\u001b[0mcopy\u001b[0m\u001b[0;34m,\u001b[0m\u001b[0;34m\u001b[0m\u001b[0;34m\u001b[0m\u001b[0m\n\u001b[0;32m--> 281\u001b[0;31m         \u001b[0msort\u001b[0m\u001b[0;34m=\u001b[0m\u001b[0msort\u001b[0m\u001b[0;34m,\u001b[0m\u001b[0;34m\u001b[0m\u001b[0;34m\u001b[0m\u001b[0m\n\u001b[0m\u001b[1;32m    282\u001b[0m     )\n\u001b[1;32m    283\u001b[0m \u001b[0;34m\u001b[0m\u001b[0m\n",
      "\u001b[0;32m/opt/conda/lib/python3.7/site-packages/pandas/core/reshape/concat.py\u001b[0m in \u001b[0;36m__init__\u001b[0;34m(self, objs, axis, join, keys, levels, names, ignore_index, verify_integrity, copy, sort)\u001b[0m\n\u001b[1;32m    355\u001b[0m                     \u001b[0;34m\"only Series and DataFrame objs are valid\"\u001b[0m\u001b[0;34m.\u001b[0m\u001b[0mformat\u001b[0m\u001b[0;34m(\u001b[0m\u001b[0mtyp\u001b[0m\u001b[0;34m=\u001b[0m\u001b[0mtype\u001b[0m\u001b[0;34m(\u001b[0m\u001b[0mobj\u001b[0m\u001b[0;34m)\u001b[0m\u001b[0;34m)\u001b[0m\u001b[0;34m\u001b[0m\u001b[0;34m\u001b[0m\u001b[0m\n\u001b[1;32m    356\u001b[0m                 )\n\u001b[0;32m--> 357\u001b[0;31m                 \u001b[0;32mraise\u001b[0m \u001b[0mTypeError\u001b[0m\u001b[0;34m(\u001b[0m\u001b[0mmsg\u001b[0m\u001b[0;34m)\u001b[0m\u001b[0;34m\u001b[0m\u001b[0;34m\u001b[0m\u001b[0m\n\u001b[0m\u001b[1;32m    358\u001b[0m \u001b[0;34m\u001b[0m\u001b[0m\n\u001b[1;32m    359\u001b[0m             \u001b[0;31m# consolidate\u001b[0m\u001b[0;34m\u001b[0m\u001b[0;34m\u001b[0m\u001b[0;34m\u001b[0m\u001b[0m\n",
      "\u001b[0;31mTypeError\u001b[0m: cannot concatenate object of type '<class 'numpy.ndarray'>'; only Series and DataFrame objs are valid"
     ]
    }
   ],
   "source": [
    "y_"
   ]
  },
  {
   "cell_type": "markdown",
   "metadata": {},
   "source": [
    "#### 2) Using validation data, model returns by backtesting the system"
   ]
  },
  {
   "cell_type": "code",
   "execution_count": null,
   "metadata": {},
   "outputs": [],
   "source": []
  },
  {
   "cell_type": "markdown",
   "metadata": {},
   "source": [
    "#### 3) Modify the backtesting system to include some penalty for trading (transaction costs)"
   ]
  },
  {
   "cell_type": "code",
   "execution_count": null,
   "metadata": {},
   "outputs": [],
   "source": []
  },
  {
   "cell_type": "markdown",
   "metadata": {},
   "source": [
    "### II) Modify the model to protect against minimal movement environments (w/ bid/ask spread)"
   ]
  },
  {
   "cell_type": "code",
   "execution_count": null,
   "metadata": {},
   "outputs": [],
   "source": []
  }
 ],
 "metadata": {
  "kernelspec": {
   "display_name": "Python 3",
   "language": "python",
   "name": "python3"
  },
  "language_info": {
   "codemirror_mode": {
    "name": "ipython",
    "version": 3
   },
   "file_extension": ".py",
   "mimetype": "text/x-python",
   "name": "python",
   "nbconvert_exporter": "python",
   "pygments_lexer": "ipython3",
   "version": "3.7.6"
  }
 },
 "nbformat": 4,
 "nbformat_minor": 4
}
