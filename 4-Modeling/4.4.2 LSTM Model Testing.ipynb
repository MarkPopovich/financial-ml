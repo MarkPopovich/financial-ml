{
 "cells": [
  {
   "cell_type": "markdown",
   "metadata": {},
   "source": [
    "# 4.5 LSTM Model Testing\n",
    "Reverse train and test sets to ensure data accuracy. "
   ]
  },
  {
   "cell_type": "code",
   "execution_count": 1,
   "metadata": {},
   "outputs": [],
   "source": [
    "import tensorflow as tf\n",
    "from tensorflow import keras\n",
    "from tensorflow.keras import datasets, layers, models\n",
    "import matplotlib.pyplot as plt\n",
    "import numpy as np"
   ]
  },
  {
   "cell_type": "code",
   "execution_count": 2,
   "metadata": {},
   "outputs": [],
   "source": [
    "y = np.load('./data/prepared/august25screenfixed/numpy_matrices/y_br.npy')"
   ]
  },
  {
   "cell_type": "code",
   "execution_count": 3,
   "metadata": {},
   "outputs": [
    {
     "data": {
      "text/plain": [
       "(30, 4000)"
      ]
     },
     "execution_count": 3,
     "metadata": {},
     "output_type": "execute_result"
    }
   ],
   "source": [
    "y.shape"
   ]
  },
  {
   "cell_type": "code",
   "execution_count": 4,
   "metadata": {},
   "outputs": [
    {
     "data": {
      "text/plain": [
       "((30, 2000), (30, 2000))"
      ]
     },
     "execution_count": 4,
     "metadata": {},
     "output_type": "execute_result"
    }
   ],
   "source": [
    "y_train = y[:, :2000]\n",
    "y_test = y[:, 2000:]\n",
    "\n",
    "y_train.shape, y_test.shape"
   ]
  },
  {
   "cell_type": "code",
   "execution_count": 5,
   "metadata": {},
   "outputs": [
    {
     "data": {
      "text/plain": [
       "((60000, 1), (60000, 1))"
      ]
     },
     "execution_count": 5,
     "metadata": {},
     "output_type": "execute_result"
    }
   ],
   "source": [
    "y_train = y_train.reshape([60000, 1])\n",
    "y_test = y_test.reshape([60000, 1])\n",
    "y_train.shape, y_test.shape"
   ]
  },
  {
   "cell_type": "code",
   "execution_count": 25,
   "metadata": {},
   "outputs": [
    {
     "data": {
      "text/plain": [
       "array([[ 0.00070822],\n",
       "       [ 0.00212917],\n",
       "       [-0.00141743],\n",
       "       ...,\n",
       "       [-0.00033146],\n",
       "       [ 0.00099338],\n",
       "       [-0.00039719]])"
      ]
     },
     "execution_count": 25,
     "metadata": {},
     "output_type": "execute_result"
    }
   ],
   "source": [
    "y_train"
   ]
  },
  {
   "cell_type": "code",
   "execution_count": 6,
   "metadata": {},
   "outputs": [],
   "source": [
    "X_train = np.load('./data/prepared/august25screenfixed/numpy_matrices/X_train.npy')\n",
    "X_test = np.load('./data/prepared/august25screenfixed/numpy_matrices/X_test.npy')"
   ]
  },
  {
   "cell_type": "code",
   "execution_count": 7,
   "metadata": {},
   "outputs": [
    {
     "data": {
      "text/plain": [
       "((60000, 1, 116, 60), (60000, 1, 116, 60))"
      ]
     },
     "execution_count": 7,
     "metadata": {},
     "output_type": "execute_result"
    }
   ],
   "source": [
    "X_train.shape, X_test.shape"
   ]
  },
  {
   "cell_type": "code",
   "execution_count": 8,
   "metadata": {},
   "outputs": [
    {
     "data": {
      "text/plain": [
       "(60000, 1, 116, 10)"
      ]
     },
     "execution_count": 8,
     "metadata": {},
     "output_type": "execute_result"
    }
   ],
   "source": [
    "X_train = X_train[:,:,:,:10]\n",
    "X_train.shape"
   ]
  },
  {
   "cell_type": "code",
   "execution_count": 9,
   "metadata": {},
   "outputs": [
    {
     "data": {
      "text/plain": [
       "(60000, 116, 10)"
      ]
     },
     "execution_count": 9,
     "metadata": {},
     "output_type": "execute_result"
    }
   ],
   "source": [
    "X_train.shape = (60000, 116, 10)\n",
    "X_train.shape"
   ]
  },
  {
   "cell_type": "code",
   "execution_count": 10,
   "metadata": {},
   "outputs": [
    {
     "data": {
      "text/plain": [
       "(60000, 116, 10)"
      ]
     },
     "execution_count": 10,
     "metadata": {},
     "output_type": "execute_result"
    }
   ],
   "source": [
    "X_test = X_test[:,:,:,:10]\n",
    "X_test.shape = (60000, 116, 10)\n",
    "X_test.shape"
   ]
  },
  {
   "cell_type": "code",
   "execution_count": 11,
   "metadata": {},
   "outputs": [
    {
     "data": {
      "text/plain": [
       "(60000, 10, 116)"
      ]
     },
     "execution_count": 11,
     "metadata": {},
     "output_type": "execute_result"
    }
   ],
   "source": [
    "Xr_tp = np.transpose(X_train, axes=(0,2,1))\n",
    "Xr_tp.shape"
   ]
  },
  {
   "cell_type": "code",
   "execution_count": 12,
   "metadata": {},
   "outputs": [
    {
     "data": {
      "text/plain": [
       "(60000, 10, 116)"
      ]
     },
     "execution_count": 12,
     "metadata": {},
     "output_type": "execute_result"
    }
   ],
   "source": [
    "Xe_tp = np.transpose(X_test, axes=(0,2,1))\n",
    "Xe_tp.shape"
   ]
  },
  {
   "cell_type": "code",
   "execution_count": 13,
   "metadata": {},
   "outputs": [
    {
     "data": {
      "text/plain": [
       "(array([0., 1.]), array([32831, 27169]))"
      ]
     },
     "execution_count": 13,
     "metadata": {},
     "output_type": "execute_result"
    }
   ],
   "source": [
    "yr_d = y_train.copy()\n",
    "yr_d[np.where(yr_d > 0)] = 1\n",
    "yr_d[np.where(yr_d < 0)] = 0\n",
    "np.unique(yr_d, return_counts=True)"
   ]
  },
  {
   "cell_type": "code",
   "execution_count": 14,
   "metadata": {},
   "outputs": [
    {
     "data": {
      "text/plain": [
       "(array([0., 1.]), array([33401, 26599]))"
      ]
     },
     "execution_count": 14,
     "metadata": {},
     "output_type": "execute_result"
    }
   ],
   "source": [
    "ye_d = y_test.copy()\n",
    "ye_d[np.where(ye_d > 0)] = 1\n",
    "ye_d[np.where(ye_d < 0)] = 0\n",
    "np.unique(ye_d, return_counts=True)"
   ]
  },
  {
   "cell_type": "code",
   "execution_count": 27,
   "metadata": {},
   "outputs": [],
   "source": [
    "#Xe_tp == Xr_tp"
   ]
  },
  {
   "cell_type": "markdown",
   "metadata": {},
   "source": [
    "#### LSTM Testing"
   ]
  },
  {
   "cell_type": "code",
   "execution_count": 15,
   "metadata": {},
   "outputs": [
    {
     "name": "stdout",
     "output_type": "stream",
     "text": [
      "Train on 60000 samples, validate on 60000 samples\n",
      "Epoch 1/100\n",
      "60000/60000 [==============================] - 26s 429us/sample - loss: 0.6849 - accuracy: 0.5555 - val_loss: 0.6875 - val_accuracy: 0.5472\n",
      "Epoch 2/100\n",
      "60000/60000 [==============================] - 22s 365us/sample - loss: 0.6829 - accuracy: 0.5548 - val_loss: 0.6840 - val_accuracy: 0.5471\n",
      "Epoch 3/100\n",
      "60000/60000 [==============================] - 22s 373us/sample - loss: 0.6816 - accuracy: 0.5555 - val_loss: 0.6861 - val_accuracy: 0.5473\n",
      "Epoch 4/100\n",
      "60000/60000 [==============================] - 21s 354us/sample - loss: 0.6808 - accuracy: 0.5572 - val_loss: 0.6830 - val_accuracy: 0.5490\n",
      "Epoch 5/100\n",
      "60000/60000 [==============================] - 22s 364us/sample - loss: 0.6801 - accuracy: 0.5591 - val_loss: 0.6820 - val_accuracy: 0.5480\n",
      "Epoch 6/100\n",
      "60000/60000 [==============================] - 22s 363us/sample - loss: 0.6780 - accuracy: 0.5676 - val_loss: 0.6808 - val_accuracy: 0.5642\n",
      "Epoch 7/100\n",
      "60000/60000 [==============================] - 22s 372us/sample - loss: 0.6709 - accuracy: 0.5827 - val_loss: 0.6617 - val_accuracy: 0.5976\n",
      "Epoch 8/100\n",
      "60000/60000 [==============================] - 21s 356us/sample - loss: 0.6476 - accuracy: 0.6250 - val_loss: 0.6421 - val_accuracy: 0.6336\n",
      "Epoch 9/100\n",
      "60000/60000 [==============================] - 22s 358us/sample - loss: 0.6354 - accuracy: 0.6431 - val_loss: 0.6312 - val_accuracy: 0.6454\n",
      "Epoch 10/100\n",
      "60000/60000 [==============================] - 21s 351us/sample - loss: 0.6248 - accuracy: 0.6579 - val_loss: 0.6344 - val_accuracy: 0.6372\n",
      "Epoch 11/100\n",
      "60000/60000 [==============================] - 22s 365us/sample - loss: 0.6090 - accuracy: 0.6805 - val_loss: 0.6010 - val_accuracy: 0.6896\n",
      "Epoch 12/100\n",
      "60000/60000 [==============================] - 22s 365us/sample - loss: 0.5833 - accuracy: 0.7108 - val_loss: 0.5724 - val_accuracy: 0.7222\n",
      "Epoch 13/100\n",
      "60000/60000 [==============================] - 22s 375us/sample - loss: 0.5430 - accuracy: 0.7551 - val_loss: 0.5167 - val_accuracy: 0.7876\n",
      "Epoch 14/100\n",
      "60000/60000 [==============================] - 22s 359us/sample - loss: 0.5032 - accuracy: 0.8000 - val_loss: 0.4913 - val_accuracy: 0.8134\n",
      "Epoch 15/100\n",
      "60000/60000 [==============================] - 22s 365us/sample - loss: 0.4795 - accuracy: 0.8233 - val_loss: 0.4823 - val_accuracy: 0.8190\n",
      "Epoch 16/100\n",
      "60000/60000 [==============================] - 22s 370us/sample - loss: 0.4646 - accuracy: 0.8393 - val_loss: 0.4715 - val_accuracy: 0.8296\n",
      "Epoch 17/100\n",
      "60000/60000 [==============================] - 21s 351us/sample - loss: 0.4544 - accuracy: 0.8483 - val_loss: 0.4492 - val_accuracy: 0.8561\n",
      "Epoch 18/100\n",
      "60000/60000 [==============================] - 21s 345us/sample - loss: 0.4461 - accuracy: 0.8594 - val_loss: 0.4465 - val_accuracy: 0.8598\n",
      "Epoch 19/100\n",
      "60000/60000 [==============================] - 22s 364us/sample - loss: 0.4406 - accuracy: 0.8645 - val_loss: 0.4602 - val_accuracy: 0.8419\n",
      "Epoch 20/100\n",
      "60000/60000 [==============================] - 21s 355us/sample - loss: 0.4338 - accuracy: 0.8713 - val_loss: 0.4677 - val_accuracy: 0.8338\n",
      "Epoch 21/100\n",
      "60000/60000 [==============================] - 17s 283us/sample - loss: 0.4308 - accuracy: 0.8754 - val_loss: 0.4275 - val_accuracy: 0.8798\n",
      "Epoch 22/100\n",
      "60000/60000 [==============================] - 17s 279us/sample - loss: 0.4277 - accuracy: 0.8776 - val_loss: 0.4275 - val_accuracy: 0.8778\n",
      "Epoch 23/100\n",
      "60000/60000 [==============================] - 17s 285us/sample - loss: 0.4233 - accuracy: 0.8828 - val_loss: 0.4265 - val_accuracy: 0.8767\n",
      "Epoch 24/100\n",
      "60000/60000 [==============================] - 18s 294us/sample - loss: 0.4210 - accuracy: 0.8854 - val_loss: 0.4242 - val_accuracy: 0.8813\n",
      "Epoch 25/100\n",
      "60000/60000 [==============================] - 16s 273us/sample - loss: 0.4188 - accuracy: 0.8881 - val_loss: 0.4363 - val_accuracy: 0.8669\n",
      "Epoch 26/100\n",
      "60000/60000 [==============================] - 16s 275us/sample - loss: 0.4178 - accuracy: 0.8890 - val_loss: 0.4237 - val_accuracy: 0.8817\n",
      "Epoch 27/100\n",
      "60000/60000 [==============================] - 17s 284us/sample - loss: 0.4148 - accuracy: 0.8919 - val_loss: 0.4549 - val_accuracy: 0.8483\n",
      "Epoch 28/100\n",
      "60000/60000 [==============================] - 21s 355us/sample - loss: 0.4152 - accuracy: 0.8921 - val_loss: 0.4133 - val_accuracy: 0.8932\n",
      "Epoch 29/100\n",
      "60000/60000 [==============================] - 21s 345us/sample - loss: 0.4123 - accuracy: 0.8947 - val_loss: 0.4228 - val_accuracy: 0.8829\n",
      "Epoch 30/100\n",
      "60000/60000 [==============================] - 22s 360us/sample - loss: 0.4076 - accuracy: 0.9009 - val_loss: 0.4145 - val_accuracy: 0.8928\n",
      "Epoch 31/100\n",
      "60000/60000 [==============================] - 22s 359us/sample - loss: 0.4062 - accuracy: 0.9018 - val_loss: 0.4161 - val_accuracy: 0.8909\n",
      "Epoch 32/100\n",
      "60000/60000 [==============================] - 21s 349us/sample - loss: 0.4069 - accuracy: 0.9007 - val_loss: 0.4049 - val_accuracy: 0.9031\n",
      "Epoch 33/100\n",
      "60000/60000 [==============================] - 21s 345us/sample - loss: 0.4042 - accuracy: 0.9029 - val_loss: 0.4267 - val_accuracy: 0.8794\n",
      "Epoch 34/100\n",
      "60000/60000 [==============================] - 23s 390us/sample - loss: 0.4053 - accuracy: 0.9030 - val_loss: 0.4101 - val_accuracy: 0.8971\n",
      "Epoch 35/100\n",
      "60000/60000 [==============================] - 22s 372us/sample - loss: 0.4020 - accuracy: 0.9061 - val_loss: 0.4057 - val_accuracy: 0.9021\n",
      "Epoch 36/100\n",
      "60000/60000 [==============================] - 20s 342us/sample - loss: 0.4018 - accuracy: 0.9068 - val_loss: 0.4446 - val_accuracy: 0.8594\n",
      "Epoch 37/100\n",
      "60000/60000 [==============================] - 22s 360us/sample - loss: 0.4017 - accuracy: 0.9064 - val_loss: 0.4002 - val_accuracy: 0.9076\n",
      "Epoch 38/100\n",
      "60000/60000 [==============================] - 21s 353us/sample - loss: 0.3991 - accuracy: 0.9098 - val_loss: 0.4059 - val_accuracy: 0.9018\n",
      "Epoch 39/100\n",
      "60000/60000 [==============================] - 20s 329us/sample - loss: 0.3999 - accuracy: 0.9084 - val_loss: 0.4046 - val_accuracy: 0.9035\n",
      "Epoch 40/100\n",
      "60000/60000 [==============================] - 17s 278us/sample - loss: 0.3976 - accuracy: 0.9106 - val_loss: 0.4032 - val_accuracy: 0.9051\n",
      "Epoch 41/100\n",
      "60000/60000 [==============================] - 17s 290us/sample - loss: 0.3974 - accuracy: 0.9108 - val_loss: 0.4073 - val_accuracy: 0.8996\n",
      "Epoch 42/100\n",
      "60000/60000 [==============================] - 18s 303us/sample - loss: 0.3955 - accuracy: 0.9130 - val_loss: 0.4093 - val_accuracy: 0.8978\n",
      "Epoch 43/100\n",
      "60000/60000 [==============================] - 21s 346us/sample - loss: 0.3946 - accuracy: 0.9143 - val_loss: 0.4487 - val_accuracy: 0.8553\n",
      "Epoch 44/100\n",
      "60000/60000 [==============================] - 22s 363us/sample - loss: 0.3964 - accuracy: 0.9123 - val_loss: 0.3930 - val_accuracy: 0.9153\n",
      "Epoch 45/100\n",
      "60000/60000 [==============================] - 22s 360us/sample - loss: 0.3988 - accuracy: 0.9097 - val_loss: 0.3985 - val_accuracy: 0.9093\n",
      "Epoch 46/100\n",
      "60000/60000 [==============================] - 22s 363us/sample - loss: 0.3955 - accuracy: 0.9132 - val_loss: 0.4069 - val_accuracy: 0.9006\n",
      "Epoch 47/100\n",
      "60000/60000 [==============================] - 21s 347us/sample - loss: 0.3937 - accuracy: 0.9144 - val_loss: 0.3937 - val_accuracy: 0.9156\n",
      "Epoch 48/100\n",
      "60000/60000 [==============================] - 22s 363us/sample - loss: 0.3944 - accuracy: 0.9144 - val_loss: 0.4113 - val_accuracy: 0.8959\n",
      "Epoch 49/100\n",
      "60000/60000 [==============================] - 23s 380us/sample - loss: 0.3926 - accuracy: 0.9159 - val_loss: 0.4146 - val_accuracy: 0.8922\n",
      "Epoch 50/100\n",
      "60000/60000 [==============================] - 21s 354us/sample - loss: 0.3944 - accuracy: 0.9140 - val_loss: 0.3882 - val_accuracy: 0.9205\n",
      "Epoch 51/100\n",
      "60000/60000 [==============================] - 21s 352us/sample - loss: 0.3941 - accuracy: 0.9144 - val_loss: 0.4078 - val_accuracy: 0.8990\n",
      "Epoch 52/100\n",
      "60000/60000 [==============================] - 22s 363us/sample - loss: 0.3929 - accuracy: 0.9159 - val_loss: 0.4027 - val_accuracy: 0.9060\n",
      "Epoch 53/100\n",
      "60000/60000 [==============================] - 21s 355us/sample - loss: 0.3884 - accuracy: 0.9208 - val_loss: 0.4155 - val_accuracy: 0.8905\n",
      "Epoch 54/100\n"
     ]
    },
    {
     "name": "stdout",
     "output_type": "stream",
     "text": [
      "60000/60000 [==============================] - 20s 326us/sample - loss: 0.3934 - accuracy: 0.9151 - val_loss: 0.3902 - val_accuracy: 0.9189\n",
      "Epoch 55/100\n",
      "60000/60000 [==============================] - 20s 326us/sample - loss: 0.3925 - accuracy: 0.9161 - val_loss: 0.4050 - val_accuracy: 0.9026\n",
      "Epoch 56/100\n",
      "60000/60000 [==============================] - 20s 328us/sample - loss: 0.3917 - accuracy: 0.9165 - val_loss: 0.4202 - val_accuracy: 0.8835\n",
      "Epoch 57/100\n",
      "60000/60000 [==============================] - 20s 333us/sample - loss: 0.3890 - accuracy: 0.9195 - val_loss: 0.4014 - val_accuracy: 0.9058\n",
      "Epoch 58/100\n",
      "60000/60000 [==============================] - 18s 292us/sample - loss: 0.3891 - accuracy: 0.9201 - val_loss: 0.3947 - val_accuracy: 0.9143\n",
      "Epoch 59/100\n",
      "60000/60000 [==============================] - 16s 261us/sample - loss: 0.3883 - accuracy: 0.9210 - val_loss: 0.3936 - val_accuracy: 0.9146\n",
      "Epoch 60/100\n",
      "60000/60000 [==============================] - 17s 289us/sample - loss: 0.3887 - accuracy: 0.9205 - val_loss: 0.3956 - val_accuracy: 0.9123\n",
      "Epoch 61/100\n",
      "60000/60000 [==============================] - 16s 266us/sample - loss: 0.3876 - accuracy: 0.9210 - val_loss: 0.4006 - val_accuracy: 0.9076\n",
      "Epoch 62/100\n",
      "60000/60000 [==============================] - 16s 263us/sample - loss: 0.3888 - accuracy: 0.9202 - val_loss: 0.3880 - val_accuracy: 0.9214\n",
      "Epoch 63/100\n",
      "60000/60000 [==============================] - 18s 302us/sample - loss: 0.3899 - accuracy: 0.9189 - val_loss: 0.3940 - val_accuracy: 0.9147\n",
      "Epoch 64/100\n",
      "60000/60000 [==============================] - 20s 325us/sample - loss: 0.3915 - accuracy: 0.9182 - val_loss: 0.3958 - val_accuracy: 0.9120\n",
      "Epoch 65/100\n",
      "60000/60000 [==============================] - 21s 350us/sample - loss: 0.3863 - accuracy: 0.9233 - val_loss: 0.3872 - val_accuracy: 0.9212\n",
      "Epoch 66/100\n",
      "60000/60000 [==============================] - 19s 312us/sample - loss: 0.3883 - accuracy: 0.9211 - val_loss: 0.4136 - val_accuracy: 0.8935\n",
      "Epoch 67/100\n",
      "60000/60000 [==============================] - 18s 296us/sample - loss: 0.3875 - accuracy: 0.9213 - val_loss: 0.3907 - val_accuracy: 0.9184\n",
      "Epoch 68/100\n",
      "60000/60000 [==============================] - 18s 301us/sample - loss: 0.3872 - accuracy: 0.9229 - val_loss: 0.4051 - val_accuracy: 0.9040\n",
      "Epoch 69/100\n",
      "60000/60000 [==============================] - 19s 321us/sample - loss: 0.3863 - accuracy: 0.9230 - val_loss: 0.4034 - val_accuracy: 0.9042\n",
      "Epoch 70/100\n",
      "60000/60000 [==============================] - 20s 326us/sample - loss: 0.3875 - accuracy: 0.9221 - val_loss: 0.4157 - val_accuracy: 0.8920\n",
      "Epoch 71/100\n",
      "60000/60000 [==============================] - 19s 321us/sample - loss: 0.3890 - accuracy: 0.9209 - val_loss: 0.3870 - val_accuracy: 0.9223\n",
      "Epoch 72/100\n",
      "60000/60000 [==============================] - 20s 325us/sample - loss: 0.3856 - accuracy: 0.9239 - val_loss: 0.3973 - val_accuracy: 0.9112\n",
      "Epoch 73/100\n",
      "60000/60000 [==============================] - 21s 344us/sample - loss: 0.3867 - accuracy: 0.9222 - val_loss: 0.3953 - val_accuracy: 0.9131\n",
      "Epoch 74/100\n",
      "60000/60000 [==============================] - 20s 332us/sample - loss: 0.3834 - accuracy: 0.9264 - val_loss: 0.3925 - val_accuracy: 0.9157\n",
      "Epoch 75/100\n",
      "60000/60000 [==============================] - 20s 330us/sample - loss: 0.3821 - accuracy: 0.9275 - val_loss: 0.3988 - val_accuracy: 0.9091\n",
      "Epoch 76/100\n",
      "60000/60000 [==============================] - 21s 347us/sample - loss: 0.3879 - accuracy: 0.9214 - val_loss: 0.3911 - val_accuracy: 0.9174\n",
      "Epoch 77/100\n",
      "60000/60000 [==============================] - 20s 335us/sample - loss: 0.3860 - accuracy: 0.9241 - val_loss: 0.3923 - val_accuracy: 0.9164\n",
      "Epoch 78/100\n",
      "60000/60000 [==============================] - 19s 323us/sample - loss: 0.3836 - accuracy: 0.9259 - val_loss: 0.4761 - val_accuracy: 0.8293\n",
      "Epoch 79/100\n",
      "60000/60000 [==============================] - 20s 337us/sample - loss: 0.3862 - accuracy: 0.9229 - val_loss: 0.3924 - val_accuracy: 0.9165\n",
      "Epoch 80/100\n",
      "60000/60000 [==============================] - 20s 338us/sample - loss: 0.3834 - accuracy: 0.9262 - val_loss: 0.3848 - val_accuracy: 0.9240\n",
      "Epoch 81/100\n",
      "60000/60000 [==============================] - 20s 334us/sample - loss: 0.3860 - accuracy: 0.9232 - val_loss: 0.3850 - val_accuracy: 0.9237\n",
      "Epoch 82/100\n",
      "60000/60000 [==============================] - 21s 350us/sample - loss: 0.3816 - accuracy: 0.9279 - val_loss: 0.3913 - val_accuracy: 0.9183\n",
      "Epoch 83/100\n",
      "60000/60000 [==============================] - 20s 332us/sample - loss: 0.3823 - accuracy: 0.9268 - val_loss: 0.3911 - val_accuracy: 0.9180\n",
      "Epoch 84/100\n",
      "60000/60000 [==============================] - 21s 350us/sample - loss: 0.3808 - accuracy: 0.9290 - val_loss: 0.3852 - val_accuracy: 0.9238\n",
      "Epoch 85/100\n",
      "60000/60000 [==============================] - 20s 325us/sample - loss: 0.3826 - accuracy: 0.9268 - val_loss: 0.4304 - val_accuracy: 0.8765\n",
      "Epoch 86/100\n",
      "60000/60000 [==============================] - 20s 331us/sample - loss: 0.3822 - accuracy: 0.9268 - val_loss: 0.3924 - val_accuracy: 0.9162\n",
      "Epoch 87/100\n",
      "60000/60000 [==============================] - 20s 332us/sample - loss: 0.3824 - accuracy: 0.9269 - val_loss: 0.3934 - val_accuracy: 0.9151\n",
      "Epoch 88/100\n",
      "60000/60000 [==============================] - 20s 330us/sample - loss: 0.3809 - accuracy: 0.9288 - val_loss: 0.3969 - val_accuracy: 0.9120\n",
      "Epoch 89/100\n",
      "60000/60000 [==============================] - 20s 334us/sample - loss: 0.3837 - accuracy: 0.9259 - val_loss: 0.3918 - val_accuracy: 0.9166\n",
      "Epoch 90/100\n",
      "60000/60000 [==============================] - 20s 333us/sample - loss: 0.3808 - accuracy: 0.9284 - val_loss: 0.3837 - val_accuracy: 0.9253\n",
      "Epoch 91/100\n",
      "60000/60000 [==============================] - 20s 331us/sample - loss: 0.3806 - accuracy: 0.9290 - val_loss: 0.4063 - val_accuracy: 0.9014\n",
      "Epoch 92/100\n",
      "60000/60000 [==============================] - 20s 335us/sample - loss: 0.3804 - accuracy: 0.9294 - val_loss: 0.3830 - val_accuracy: 0.9267\n",
      "Epoch 93/100\n",
      "60000/60000 [==============================] - 20s 332us/sample - loss: 0.3822 - accuracy: 0.9276 - val_loss: 0.3827 - val_accuracy: 0.9266\n",
      "Epoch 94/100\n",
      "60000/60000 [==============================] - 19s 324us/sample - loss: 0.3797 - accuracy: 0.9302 - val_loss: 0.3895 - val_accuracy: 0.9193\n",
      "Epoch 95/100\n",
      "60000/60000 [==============================] - 18s 306us/sample - loss: 0.3813 - accuracy: 0.9282 - val_loss: 0.4064 - val_accuracy: 0.8996\n",
      "Epoch 96/100\n",
      "60000/60000 [==============================] - 16s 267us/sample - loss: 0.3822 - accuracy: 0.9267 - val_loss: 0.4016 - val_accuracy: 0.9067\n",
      "Epoch 97/100\n",
      "60000/60000 [==============================] - 16s 271us/sample - loss: 0.3816 - accuracy: 0.9282 - val_loss: 0.3928 - val_accuracy: 0.9152\n",
      "Epoch 98/100\n",
      "60000/60000 [==============================] - 16s 265us/sample - loss: 0.3786 - accuracy: 0.9310 - val_loss: 0.4031 - val_accuracy: 0.9043\n",
      "Epoch 99/100\n",
      "60000/60000 [==============================] - 16s 263us/sample - loss: 0.3805 - accuracy: 0.9291 - val_loss: 0.4034 - val_accuracy: 0.9042\n",
      "Epoch 100/100\n",
      "60000/60000 [==============================] - 18s 295us/sample - loss: 0.3821 - accuracy: 0.9270 - val_loss: 0.4231 - val_accuracy: 0.8840\n"
     ]
    },
    {
     "data": {
      "text/plain": [
       "<tensorflow.python.keras.callbacks.History at 0x7f905016bbd0>"
      ]
     },
     "execution_count": 15,
     "metadata": {},
     "output_type": "execute_result"
    }
   ],
   "source": [
    "model = keras.Sequential([\n",
    "    keras.layers.LSTM(10),\n",
    "    keras.layers.Dense(2, activation='softmax')\n",
    "    \n",
    "])\n",
    "\n",
    "model.compile(optimizer='adam',\n",
    "              loss=tf.keras.losses.SparseCategoricalCrossentropy(from_logits=True),\n",
    "              metrics=['accuracy'])\n",
    "\n",
    "model.fit(Xe_tp, ye_d, epochs=100,\n",
    "         validation_data=(Xr_tp, yr_d))"
   ]
  },
  {
   "cell_type": "code",
   "execution_count": 16,
   "metadata": {},
   "outputs": [],
   "source": [
    "#model.save_weights('./data/Models/1min91acc_010920')"
   ]
  },
  {
   "cell_type": "code",
   "execution_count": 17,
   "metadata": {},
   "outputs": [],
   "source": [
    "#model.save('./data/Models/1min91acc_010920') "
   ]
  },
  {
   "cell_type": "code",
   "execution_count": 18,
   "metadata": {},
   "outputs": [
    {
     "name": "stdout",
     "output_type": "stream",
     "text": [
      "Train on 60000 samples, validate on 60000 samples\n",
      "Epoch 1/20\n",
      "60000/60000 [==============================] - 26s 426us/sample - loss: 0.3747 - accuracy: 0.9351 - val_loss: 0.3595 - val_accuracy: 0.9529\n",
      "Epoch 2/20\n",
      "60000/60000 [==============================] - 21s 353us/sample - loss: 0.3706 - accuracy: 0.9402 - val_loss: 0.3584 - val_accuracy: 0.9543\n",
      "Epoch 3/20\n",
      "60000/60000 [==============================] - 21s 343us/sample - loss: 0.3691 - accuracy: 0.9418 - val_loss: 0.3600 - val_accuracy: 0.9522\n",
      "Epoch 4/20\n",
      "60000/60000 [==============================] - 24s 399us/sample - loss: 0.3678 - accuracy: 0.9439 - val_loss: 0.3625 - val_accuracy: 0.9488\n",
      "Epoch 5/20\n",
      "60000/60000 [==============================] - 20s 335us/sample - loss: 0.3671 - accuracy: 0.9438 - val_loss: 0.3589 - val_accuracy: 0.9533\n",
      "Epoch 6/20\n",
      "60000/60000 [==============================] - 21s 345us/sample - loss: 0.3666 - accuracy: 0.9447 - val_loss: 0.3592 - val_accuracy: 0.9531\n",
      "Epoch 7/20\n",
      "60000/60000 [==============================] - 21s 343us/sample - loss: 0.3662 - accuracy: 0.9452 - val_loss: 0.3620 - val_accuracy: 0.9495\n",
      "Epoch 8/20\n",
      "60000/60000 [==============================] - 21s 345us/sample - loss: 0.3653 - accuracy: 0.9466 - val_loss: 0.3571 - val_accuracy: 0.9555\n",
      "Epoch 9/20\n",
      "60000/60000 [==============================] - 21s 348us/sample - loss: 0.3650 - accuracy: 0.9469 - val_loss: 0.3590 - val_accuracy: 0.9540\n",
      "Epoch 10/20\n",
      "60000/60000 [==============================] - 21s 348us/sample - loss: 0.3648 - accuracy: 0.9474 - val_loss: 0.3576 - val_accuracy: 0.9553\n",
      "Epoch 11/20\n",
      "60000/60000 [==============================] - 23s 382us/sample - loss: 0.3646 - accuracy: 0.9468 - val_loss: 0.3597 - val_accuracy: 0.9525\n",
      "Epoch 12/20\n",
      "60000/60000 [==============================] - 21s 350us/sample - loss: 0.3640 - accuracy: 0.9481 - val_loss: 0.3569 - val_accuracy: 0.9559\n",
      "Epoch 13/20\n",
      "60000/60000 [==============================] - 20s 329us/sample - loss: 0.3638 - accuracy: 0.9484 - val_loss: 0.3563 - val_accuracy: 0.9563\n",
      "Epoch 14/20\n",
      "60000/60000 [==============================] - 20s 332us/sample - loss: 0.3631 - accuracy: 0.9493 - val_loss: 0.3569 - val_accuracy: 0.9560\n",
      "Epoch 15/20\n",
      "60000/60000 [==============================] - 20s 334us/sample - loss: 0.3632 - accuracy: 0.9488 - val_loss: 0.3574 - val_accuracy: 0.9547\n",
      "Epoch 16/20\n",
      "60000/60000 [==============================] - 20s 339us/sample - loss: 0.3629 - accuracy: 0.9492 - val_loss: 0.3573 - val_accuracy: 0.9551\n",
      "Epoch 17/20\n",
      "60000/60000 [==============================] - 21s 346us/sample - loss: 0.3626 - accuracy: 0.9492 - val_loss: 0.3571 - val_accuracy: 0.9552\n",
      "Epoch 18/20\n",
      "60000/60000 [==============================] - 16s 265us/sample - loss: 0.3622 - accuracy: 0.9500 - val_loss: 0.3569 - val_accuracy: 0.9555\n",
      "Epoch 19/20\n",
      "60000/60000 [==============================] - 16s 271us/sample - loss: 0.3618 - accuracy: 0.9505 - val_loss: 0.3582 - val_accuracy: 0.9543\n",
      "Epoch 20/20\n",
      "60000/60000 [==============================] - 17s 283us/sample - loss: 0.3619 - accuracy: 0.9504 - val_loss: 0.3564 - val_accuracy: 0.9562\n"
     ]
    },
    {
     "data": {
      "text/plain": [
       "<tensorflow.python.keras.callbacks.History at 0x7f9050114e10>"
      ]
     },
     "execution_count": 18,
     "metadata": {},
     "output_type": "execute_result"
    }
   ],
   "source": [
    "model.compile(optimizer=tf.keras.optimizers.Adam(learning_rate=0.0001),\n",
    "              loss=tf.keras.losses.SparseCategoricalCrossentropy(from_logits=True),\n",
    "              metrics=['accuracy'])\n",
    "\n",
    "model.fit(Xr_tp, yr_d, epochs=20,\n",
    "         validation_data=(Xe_tp, ye_d))"
   ]
  },
  {
   "cell_type": "code",
   "execution_count": 19,
   "metadata": {},
   "outputs": [
    {
     "name": "stdout",
     "output_type": "stream",
     "text": [
      "Train on 60000 samples, validate on 60000 samples\n",
      "Epoch 1/20\n",
      "60000/60000 [==============================] - 24s 403us/sample - loss: 0.3593 - accuracy: 0.9536 - val_loss: 0.3561 - val_accuracy: 0.9569\n",
      "Epoch 2/20\n",
      "60000/60000 [==============================] - 22s 360us/sample - loss: 0.3591 - accuracy: 0.9542 - val_loss: 0.3566 - val_accuracy: 0.9562\n",
      "Epoch 3/20\n",
      "60000/60000 [==============================] - 21s 346us/sample - loss: 0.3590 - accuracy: 0.9542 - val_loss: 0.3560 - val_accuracy: 0.9571\n",
      "Epoch 4/20\n",
      "60000/60000 [==============================] - 22s 360us/sample - loss: 0.3590 - accuracy: 0.9542 - val_loss: 0.3561 - val_accuracy: 0.9569\n",
      "Epoch 5/20\n",
      "60000/60000 [==============================] - 21s 350us/sample - loss: 0.3589 - accuracy: 0.9542 - val_loss: 0.3562 - val_accuracy: 0.9567\n",
      "Epoch 6/20\n",
      "60000/60000 [==============================] - 20s 333us/sample - loss: 0.3589 - accuracy: 0.9548 - val_loss: 0.3563 - val_accuracy: 0.9567\n",
      "Epoch 7/20\n",
      "60000/60000 [==============================] - 20s 326us/sample - loss: 0.3589 - accuracy: 0.9546 - val_loss: 0.3561 - val_accuracy: 0.9572\n",
      "Epoch 8/20\n",
      "60000/60000 [==============================] - 22s 363us/sample - loss: 0.3588 - accuracy: 0.9546 - val_loss: 0.3561 - val_accuracy: 0.9566\n",
      "Epoch 9/20\n",
      "60000/60000 [==============================] - 20s 327us/sample - loss: 0.3588 - accuracy: 0.9545 - val_loss: 0.3563 - val_accuracy: 0.9566\n",
      "Epoch 10/20\n",
      "60000/60000 [==============================] - 20s 331us/sample - loss: 0.3588 - accuracy: 0.9545 - val_loss: 0.3566 - val_accuracy: 0.9558\n",
      "Epoch 11/20\n",
      "60000/60000 [==============================] - 20s 338us/sample - loss: 0.3587 - accuracy: 0.9547 - val_loss: 0.3562 - val_accuracy: 0.9567\n",
      "Epoch 12/20\n",
      "60000/60000 [==============================] - 21s 343us/sample - loss: 0.3586 - accuracy: 0.9549 - val_loss: 0.3559 - val_accuracy: 0.9570\n",
      "Epoch 13/20\n",
      "60000/60000 [==============================] - 20s 328us/sample - loss: 0.3586 - accuracy: 0.9546 - val_loss: 0.3563 - val_accuracy: 0.9563\n",
      "Epoch 14/20\n",
      "60000/60000 [==============================] - 20s 326us/sample - loss: 0.3586 - accuracy: 0.9549 - val_loss: 0.3565 - val_accuracy: 0.9560\n",
      "Epoch 15/20\n",
      "60000/60000 [==============================] - 20s 328us/sample - loss: 0.3586 - accuracy: 0.9550 - val_loss: 0.3563 - val_accuracy: 0.9564\n",
      "Epoch 16/20\n",
      "60000/60000 [==============================] - 20s 328us/sample - loss: 0.3586 - accuracy: 0.9548 - val_loss: 0.3564 - val_accuracy: 0.9561\n",
      "Epoch 17/20\n",
      "60000/60000 [==============================] - 20s 338us/sample - loss: 0.3586 - accuracy: 0.9549 - val_loss: 0.3560 - val_accuracy: 0.9569\n",
      "Epoch 18/20\n",
      "60000/60000 [==============================] - 20s 338us/sample - loss: 0.3585 - accuracy: 0.9553 - val_loss: 0.3562 - val_accuracy: 0.9567\n",
      "Epoch 19/20\n",
      "60000/60000 [==============================] - 21s 355us/sample - loss: 0.3585 - accuracy: 0.9551 - val_loss: 0.3560 - val_accuracy: 0.9570\n",
      "Epoch 20/20\n",
      "60000/60000 [==============================] - 20s 340us/sample - loss: 0.3584 - accuracy: 0.9553 - val_loss: 0.3562 - val_accuracy: 0.9566\n"
     ]
    },
    {
     "data": {
      "text/plain": [
       "<tensorflow.python.keras.callbacks.History at 0x7f90407dabd0>"
      ]
     },
     "execution_count": 19,
     "metadata": {},
     "output_type": "execute_result"
    }
   ],
   "source": [
    "model.compile(optimizer=tf.keras.optimizers.Adam(learning_rate=0.00001),\n",
    "              loss=tf.keras.losses.SparseCategoricalCrossentropy(from_logits=True),\n",
    "              metrics=['accuracy'])\n",
    "\n",
    "model.fit(Xr_tp, yr_d, epochs=20,\n",
    "         validation_data=(Xe_tp, ye_d))"
   ]
  },
  {
   "cell_type": "code",
   "execution_count": 20,
   "metadata": {},
   "outputs": [
    {
     "name": "stdout",
     "output_type": "stream",
     "text": [
      "Train on 60000 samples, validate on 60000 samples\n",
      "Epoch 1/20\n",
      "60000/60000 [==============================] - 19s 311us/sample - loss: 0.3581 - accuracy: 0.9556 - val_loss: 0.3560 - val_accuracy: 0.9570\n",
      "Epoch 2/20\n",
      "60000/60000 [==============================] - 17s 282us/sample - loss: 0.3581 - accuracy: 0.9556 - val_loss: 0.3560 - val_accuracy: 0.9567\n",
      "Epoch 3/20\n",
      "60000/60000 [==============================] - 18s 295us/sample - loss: 0.3581 - accuracy: 0.9558 - val_loss: 0.3560 - val_accuracy: 0.9568\n",
      "Epoch 4/20\n",
      "60000/60000 [==============================] - 18s 292us/sample - loss: 0.3581 - accuracy: 0.9557 - val_loss: 0.3561 - val_accuracy: 0.9567\n",
      "Epoch 5/20\n",
      "60000/60000 [==============================] - 20s 341us/sample - loss: 0.3581 - accuracy: 0.9557 - val_loss: 0.3560 - val_accuracy: 0.9568\n",
      "Epoch 6/20\n",
      "60000/60000 [==============================] - 22s 372us/sample - loss: 0.3581 - accuracy: 0.9557 - val_loss: 0.3561 - val_accuracy: 0.9568\n",
      "Epoch 7/20\n",
      "60000/60000 [==============================] - 20s 341us/sample - loss: 0.3581 - accuracy: 0.9558 - val_loss: 0.3560 - val_accuracy: 0.9569\n",
      "Epoch 8/20\n",
      "60000/60000 [==============================] - 19s 324us/sample - loss: 0.3581 - accuracy: 0.9557 - val_loss: 0.3560 - val_accuracy: 0.9569\n",
      "Epoch 9/20\n",
      "60000/60000 [==============================] - 20s 325us/sample - loss: 0.3581 - accuracy: 0.9559 - val_loss: 0.3561 - val_accuracy: 0.9568\n",
      "Epoch 10/20\n",
      "60000/60000 [==============================] - 21s 354us/sample - loss: 0.3581 - accuracy: 0.9558 - val_loss: 0.3561 - val_accuracy: 0.9568\n",
      "Epoch 11/20\n",
      "60000/60000 [==============================] - 21s 349us/sample - loss: 0.3581 - accuracy: 0.9558 - val_loss: 0.3560 - val_accuracy: 0.9569\n",
      "Epoch 12/20\n",
      "60000/60000 [==============================] - 19s 318us/sample - loss: 0.3581 - accuracy: 0.9559 - val_loss: 0.3560 - val_accuracy: 0.9569\n",
      "Epoch 13/20\n",
      "60000/60000 [==============================] - 20s 331us/sample - loss: 0.3581 - accuracy: 0.9558 - val_loss: 0.3560 - val_accuracy: 0.9569\n",
      "Epoch 14/20\n",
      "60000/60000 [==============================] - 22s 366us/sample - loss: 0.3581 - accuracy: 0.9557 - val_loss: 0.3561 - val_accuracy: 0.9568\n",
      "Epoch 15/20\n",
      "60000/60000 [==============================] - 20s 332us/sample - loss: 0.3581 - accuracy: 0.9559 - val_loss: 0.3561 - val_accuracy: 0.9567\n",
      "Epoch 16/20\n",
      "60000/60000 [==============================] - 20s 337us/sample - loss: 0.3581 - accuracy: 0.9558 - val_loss: 0.3560 - val_accuracy: 0.9570\n",
      "Epoch 17/20\n",
      "60000/60000 [==============================] - 20s 340us/sample - loss: 0.3581 - accuracy: 0.9557 - val_loss: 0.3560 - val_accuracy: 0.9569\n",
      "Epoch 18/20\n",
      "60000/60000 [==============================] - 22s 366us/sample - loss: 0.3581 - accuracy: 0.9557 - val_loss: 0.3561 - val_accuracy: 0.9567\n",
      "Epoch 19/20\n",
      "60000/60000 [==============================] - 21s 358us/sample - loss: 0.3581 - accuracy: 0.9559 - val_loss: 0.3561 - val_accuracy: 0.9568\n",
      "Epoch 20/20\n",
      "60000/60000 [==============================] - 20s 332us/sample - loss: 0.3581 - accuracy: 0.9558 - val_loss: 0.3561 - val_accuracy: 0.9568\n"
     ]
    },
    {
     "data": {
      "text/plain": [
       "<tensorflow.python.keras.callbacks.History at 0x7f9018def350>"
      ]
     },
     "execution_count": 20,
     "metadata": {},
     "output_type": "execute_result"
    }
   ],
   "source": [
    "model.compile(optimizer=tf.keras.optimizers.Adam(learning_rate=0.000001),\n",
    "              loss=tf.keras.losses.SparseCategoricalCrossentropy(from_logits=True),\n",
    "              metrics=['accuracy'])\n",
    "\n",
    "model.fit(Xr_tp, yr_d, epochs=20,\n",
    "         validation_data=(Xe_tp, ye_d))"
   ]
  },
  {
   "cell_type": "code",
   "execution_count": 21,
   "metadata": {},
   "outputs": [
    {
     "name": "stdout",
     "output_type": "stream",
     "text": [
      "WARNING:tensorflow:From /opt/conda/lib/python3.7/site-packages/tensorflow_core/python/ops/resource_variable_ops.py:1786: calling BaseResourceVariable.__init__ (from tensorflow.python.ops.resource_variable_ops) with constraint is deprecated and will be removed in a future version.\n",
      "Instructions for updating:\n",
      "If using Keras pass *_constraint arguments to layers.\n",
      "INFO:tensorflow:Assets written to: ./data/Models/1min95acc_030920/assets\n"
     ]
    }
   ],
   "source": [
    "model.save('./data/Models/1min95acc_030920') "
   ]
  },
  {
   "cell_type": "code",
   "execution_count": 36,
   "metadata": {},
   "outputs": [],
   "source": [
    "model.save_weights('./data/Models/1min95acc_030920_weights')"
   ]
  },
  {
   "cell_type": "code",
   "execution_count": 35,
   "metadata": {},
   "outputs": [
    {
     "name": "stdout",
     "output_type": "stream",
     "text": [
      "Model: \"sequential\"\n",
      "_________________________________________________________________\n",
      "Layer (type)                 Output Shape              Param #   \n",
      "=================================================================\n",
      "lstm (LSTM)                  multiple                  5080      \n",
      "_________________________________________________________________\n",
      "dense (Dense)                multiple                  22        \n",
      "=================================================================\n",
      "Total params: 5,102\n",
      "Trainable params: 5,102\n",
      "Non-trainable params: 0\n",
      "_________________________________________________________________\n"
     ]
    }
   ],
   "source": [
    "model.summary()"
   ]
  },
  {
   "cell_type": "code",
   "execution_count": 38,
   "metadata": {},
   "outputs": [],
   "source": [
    "model = keras.models.load_model('./data/Models/1min95acc_030920')"
   ]
  },
  {
   "cell_type": "code",
   "execution_count": 39,
   "metadata": {},
   "outputs": [],
   "source": [
    "preds = model.predict(Xr_tp)\n",
    "y_preds = np.argmax(preds, axis=1)\n",
    "\n",
    "y_true = yr_d.reshape(60000)"
   ]
  },
  {
   "cell_type": "code",
   "execution_count": 40,
   "metadata": {},
   "outputs": [
    {
     "data": {
      "text/plain": [
       "0.95575"
      ]
     },
     "execution_count": 40,
     "metadata": {},
     "output_type": "execute_result"
    }
   ],
   "source": [
    "from sklearn.metrics import accuracy_score\n",
    "\n",
    "accuracy_score(y_true, y_preds)"
   ]
  },
  {
   "cell_type": "code",
   "execution_count": 41,
   "metadata": {},
   "outputs": [
    {
     "data": {
      "text/plain": [
       "0.9567666666666667"
      ]
     },
     "execution_count": 41,
     "metadata": {},
     "output_type": "execute_result"
    }
   ],
   "source": [
    "preds = model.predict(Xe_tp)\n",
    "y_preds = np.argmax(preds, axis=1)\n",
    "\n",
    "y_true = ye_d.reshape(60000)\n",
    "\n",
    "accuracy_score(y_true, y_preds)"
   ]
  },
  {
   "cell_type": "code",
   "execution_count": 42,
   "metadata": {},
   "outputs": [
    {
     "data": {
      "text/plain": [
       "(60000, 10, 116)"
      ]
     },
     "execution_count": 42,
     "metadata": {},
     "output_type": "execute_result"
    }
   ],
   "source": [
    "Xr_tp.shape"
   ]
  },
  {
   "cell_type": "code",
   "execution_count": null,
   "metadata": {},
   "outputs": [],
   "source": []
  }
 ],
 "metadata": {
  "kernelspec": {
   "display_name": "Python 3",
   "language": "python",
   "name": "python3"
  },
  "language_info": {
   "codemirror_mode": {
    "name": "ipython",
    "version": 3
   },
   "file_extension": ".py",
   "mimetype": "text/x-python",
   "name": "python",
   "nbconvert_exporter": "python",
   "pygments_lexer": "ipython3",
   "version": "3.7.6"
  }
 },
 "nbformat": 4,
 "nbformat_minor": 4
}
