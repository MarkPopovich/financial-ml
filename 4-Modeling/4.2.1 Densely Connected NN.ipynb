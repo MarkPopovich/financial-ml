{
 "cells": [
  {
   "cell_type": "markdown",
   "metadata": {},
   "source": [
    "# 4.2.1 Densely Connected NN\n",
    "\n",
    "In the last notebook, we jumped into training on a CNN. However, we quickly realized that history information seemed redundant and present information may be the most valuable. Given that, we decided to try a feed forward network and the results were interesting enough to warrant furtherr investigation. "
   ]
  },
  {
   "cell_type": "code",
   "execution_count": 1,
   "metadata": {},
   "outputs": [],
   "source": [
    "import tensorflow as tf\n",
    "from tensorflow import keras\n",
    "from tensorflow.keras import datasets, layers, models\n",
    "import matplotlib.pyplot as plt\n",
    "import numpy as np"
   ]
  },
  {
   "cell_type": "code",
   "execution_count": 2,
   "metadata": {},
   "outputs": [],
   "source": [
    "X_train = np.load('./data/prepared/august25screenfixed/numpy_matrices/X_train.npy')\n",
    "y_train = np.load('./data/prepared/august25screenfixed/numpy_matrices/y_train.npy')"
   ]
  },
  {
   "cell_type": "code",
   "execution_count": 3,
   "metadata": {},
   "outputs": [],
   "source": [
    "X_test = np.load('./data/prepared/august25screenfixed/numpy_matrices/X_test.npy')\n",
    "y_test = np.load('./data/prepared/august25screenfixed/numpy_matrices/y_test.npy')"
   ]
  },
  {
   "cell_type": "code",
   "execution_count": 4,
   "metadata": {},
   "outputs": [
    {
     "data": {
      "text/plain": [
       "(array([0., 1., 2.]), array([34245, 16007,  9748]))"
      ]
     },
     "execution_count": 4,
     "metadata": {},
     "output_type": "execute_result"
    }
   ],
   "source": [
    "np.unique(y_train, return_counts=True)"
   ]
  },
  {
   "cell_type": "code",
   "execution_count": 5,
   "metadata": {},
   "outputs": [],
   "source": [
    "# Undersample to balance classes for training set\n",
    "h = np.where(y_train == 0)[0]\n",
    "b = np.where(y_train == 1)[0]\n",
    "s = np.where(y_train == 2)[0]\n",
    "\n",
    "hi = np.random.choice(h, size=9000, replace=False)\n",
    "bi = np.random.choice(b, size=9000, replace=False)\n",
    "si = np.random.choice(s, size=9000, replace=False)"
   ]
  },
  {
   "cell_type": "code",
   "execution_count": 6,
   "metadata": {},
   "outputs": [
    {
     "data": {
      "text/plain": [
       "(27000,)"
      ]
     },
     "execution_count": 6,
     "metadata": {},
     "output_type": "execute_result"
    }
   ],
   "source": [
    "ind = np.concatenate([hi,bi,si])\n",
    "ind.shape"
   ]
  },
  {
   "cell_type": "code",
   "execution_count": 7,
   "metadata": {},
   "outputs": [
    {
     "data": {
      "text/plain": [
       "(array([0., 1., 2.]), array([9000, 9000, 9000]))"
      ]
     },
     "execution_count": 7,
     "metadata": {},
     "output_type": "execute_result"
    }
   ],
   "source": [
    "np.unique(y_train[ind], return_counts=True)"
   ]
  },
  {
   "cell_type": "code",
   "execution_count": 8,
   "metadata": {},
   "outputs": [
    {
     "data": {
      "text/plain": [
       "(27000, 1, 116, 60)"
      ]
     },
     "execution_count": 8,
     "metadata": {},
     "output_type": "execute_result"
    }
   ],
   "source": [
    "X_train[ind].shape"
   ]
  },
  {
   "cell_type": "code",
   "execution_count": 9,
   "metadata": {},
   "outputs": [],
   "source": [
    "y_train = y_train[ind]\n",
    "X_train = X_train[ind]"
   ]
  },
  {
   "cell_type": "code",
   "execution_count": 10,
   "metadata": {},
   "outputs": [
    {
     "data": {
      "text/plain": [
       "((27000, 1, 116, 60), (27000, 1))"
      ]
     },
     "execution_count": 10,
     "metadata": {},
     "output_type": "execute_result"
    }
   ],
   "source": [
    "X_train.shape, y_train.shape"
   ]
  },
  {
   "cell_type": "code",
   "execution_count": 11,
   "metadata": {},
   "outputs": [
    {
     "data": {
      "text/plain": [
       "(27000, 116, 60)"
      ]
     },
     "execution_count": 11,
     "metadata": {},
     "output_type": "execute_result"
    }
   ],
   "source": [
    "X_train.shape = (27000, 116, 60)\n",
    "X_train.shape"
   ]
  },
  {
   "cell_type": "code",
   "execution_count": 12,
   "metadata": {},
   "outputs": [
    {
     "data": {
      "text/plain": [
       "(27000, 116, 10)"
      ]
     },
     "execution_count": 12,
     "metadata": {},
     "output_type": "execute_result"
    }
   ],
   "source": [
    "X_train = X_train[:, :, :10]\n",
    "X_train.shape"
   ]
  },
  {
   "cell_type": "code",
   "execution_count": 13,
   "metadata": {},
   "outputs": [],
   "source": [
    "#X_train.shape = (27000, 116)"
   ]
  },
  {
   "cell_type": "code",
   "execution_count": 14,
   "metadata": {},
   "outputs": [],
   "source": [
    "# decrease test size for runtime and memory concerns\n",
    "h = np.where(y_test == 0)[0]\n",
    "b = np.where(y_test == 1)[0]\n",
    "s = np.where(y_test == 2)[0]\n",
    "\n",
    "hi = np.random.choice(h, size=4000, replace=False)\n",
    "bi = np.random.choice(b, size=4000, replace=False)\n",
    "si = np.random.choice(s, size=4000, replace=False)"
   ]
  },
  {
   "cell_type": "code",
   "execution_count": 15,
   "metadata": {},
   "outputs": [
    {
     "data": {
      "text/plain": [
       "((12000, 1), (12000, 1, 116, 60))"
      ]
     },
     "execution_count": 15,
     "metadata": {},
     "output_type": "execute_result"
    }
   ],
   "source": [
    "indt = np.concatenate([hi,bi,si])\n",
    "indt.shape\n",
    "\n",
    "y_test = y_test[indt]\n",
    "X_test = X_test[indt]\n",
    "y_test.shape, X_test.shape"
   ]
  },
  {
   "cell_type": "code",
   "execution_count": 16,
   "metadata": {},
   "outputs": [],
   "source": [
    "X_test = X_test.reshape(12000, 116, 60)"
   ]
  },
  {
   "cell_type": "code",
   "execution_count": 17,
   "metadata": {},
   "outputs": [],
   "source": [
    "X_test = X_test[:, :, :10]"
   ]
  },
  {
   "cell_type": "code",
   "execution_count": 18,
   "metadata": {},
   "outputs": [],
   "source": [
    "#X_test.shape = (12000, 116)"
   ]
  },
  {
   "cell_type": "code",
   "execution_count": 19,
   "metadata": {},
   "outputs": [
    {
     "data": {
      "text/plain": [
       "array([0.33333333, 0.33333333, 0.33333333])"
      ]
     },
     "execution_count": 19,
     "metadata": {},
     "output_type": "execute_result"
    }
   ],
   "source": [
    "np.unique(y_test, return_counts=True)[1]/y_test.shape[0]"
   ]
  },
  {
   "cell_type": "markdown",
   "metadata": {},
   "source": [
    "Options:  \n",
    "    1) decrease training set size and run more epochs  \n",
    "    2) Change image size to make them shorter  \n",
    "    3) Change filters, kernal, and layers   "
   ]
  },
  {
   "cell_type": "markdown",
   "metadata": {},
   "source": [
    "#### Attempt 3 columns only"
   ]
  },
  {
   "cell_type": "markdown",
   "metadata": {},
   "source": [
    "So far, the super simple feed forward network seems to perform just as well as the cnn. "
   ]
  },
  {
   "cell_type": "code",
   "execution_count": 23,
   "metadata": {},
   "outputs": [
    {
     "name": "stdout",
     "output_type": "stream",
     "text": [
      "Train on 27000 samples, validate on 12000 samples\n",
      "Epoch 1/50\n",
      "27000/27000 [==============================] - 4s 166us/sample - loss: 1.0940 - accuracy: 0.3601 - val_loss: 1.0972 - val_accuracy: 0.3555\n",
      "Epoch 2/50\n",
      "27000/27000 [==============================] - 4s 152us/sample - loss: 1.0761 - accuracy: 0.3905 - val_loss: 1.1081 - val_accuracy: 0.3618\n",
      "Epoch 3/50\n",
      "27000/27000 [==============================] - 4s 154us/sample - loss: 1.0730 - accuracy: 0.3997 - val_loss: 1.1049 - val_accuracy: 0.3567\n",
      "Epoch 4/50\n",
      "27000/27000 [==============================] - 4s 160us/sample - loss: 1.0690 - accuracy: 0.4062 - val_loss: 1.1021 - val_accuracy: 0.3580\n",
      "Epoch 5/50\n",
      "27000/27000 [==============================] - 4s 160us/sample - loss: 1.0701 - accuracy: 0.4075 - val_loss: 1.0994 - val_accuracy: 0.3515\n",
      "Epoch 6/50\n",
      "27000/27000 [==============================] - 4s 154us/sample - loss: 1.0823 - accuracy: 0.4028 - val_loss: 1.1035 - val_accuracy: 0.3658\n",
      "Epoch 7/50\n",
      "27000/27000 [==============================] - 4s 153us/sample - loss: 1.0787 - accuracy: 0.4033 - val_loss: 1.1072 - val_accuracy: 0.3611\n",
      "Epoch 8/50\n",
      "27000/27000 [==============================] - 4s 155us/sample - loss: 1.0765 - accuracy: 0.3995 - val_loss: 1.1022 - val_accuracy: 0.3607\n",
      "Epoch 9/50\n",
      "27000/27000 [==============================] - 4s 166us/sample - loss: 1.0740 - accuracy: 0.4017 - val_loss: 1.1080 - val_accuracy: 0.3580\n",
      "Epoch 10/50\n",
      "27000/27000 [==============================] - 5s 187us/sample - loss: 1.0718 - accuracy: 0.4019 - val_loss: 1.1049 - val_accuracy: 0.3573\n",
      "Epoch 11/50\n",
      "27000/27000 [==============================] - 5s 197us/sample - loss: 1.0696 - accuracy: 0.4056 - val_loss: 1.1067 - val_accuracy: 0.3489\n",
      "Epoch 12/50\n",
      "27000/27000 [==============================] - 5s 183us/sample - loss: 1.0678 - accuracy: 0.4100 - val_loss: 1.1061 - val_accuracy: 0.3528\n",
      "Epoch 13/50\n",
      "27000/27000 [==============================] - 5s 191us/sample - loss: 1.0670 - accuracy: 0.4108 - val_loss: 1.1064 - val_accuracy: 0.3539\n",
      "Epoch 14/50\n",
      "27000/27000 [==============================] - 4s 163us/sample - loss: 1.0668 - accuracy: 0.4122 - val_loss: 1.1167 - val_accuracy: 0.3426\n",
      "Epoch 15/50\n",
      "27000/27000 [==============================] - 4s 158us/sample - loss: 1.0656 - accuracy: 0.4116 - val_loss: 1.1141 - val_accuracy: 0.3504\n",
      "Epoch 16/50\n",
      "27000/27000 [==============================] - 6s 209us/sample - loss: 1.0645 - accuracy: 0.4114 - val_loss: 1.1195 - val_accuracy: 0.3458\n",
      "Epoch 17/50\n",
      "27000/27000 [==============================] - 5s 191us/sample - loss: 1.0637 - accuracy: 0.4135 - val_loss: 1.1217 - val_accuracy: 0.3423\n",
      "Epoch 18/50\n",
      "27000/27000 [==============================] - 5s 190us/sample - loss: 1.0618 - accuracy: 0.4151 - val_loss: 1.1132 - val_accuracy: 0.3423\n",
      "Epoch 19/50\n",
      "27000/27000 [==============================] - 5s 176us/sample - loss: 1.0629 - accuracy: 0.4147 - val_loss: 1.1134 - val_accuracy: 0.3437\n",
      "Epoch 20/50\n",
      "27000/27000 [==============================] - 5s 203us/sample - loss: 1.0627 - accuracy: 0.4141 - val_loss: 1.1232 - val_accuracy: 0.3467\n",
      "Epoch 21/50\n",
      "27000/27000 [==============================] - 4s 145us/sample - loss: 1.0612 - accuracy: 0.4151 - val_loss: 1.1088 - val_accuracy: 0.3481\n",
      "Epoch 22/50\n",
      "27000/27000 [==============================] - 5s 187us/sample - loss: 1.0606 - accuracy: 0.4136 - val_loss: 1.1207 - val_accuracy: 0.3447\n",
      "Epoch 23/50\n",
      "27000/27000 [==============================] - 5s 173us/sample - loss: 1.0611 - accuracy: 0.4146 - val_loss: 1.1165 - val_accuracy: 0.3428\n",
      "Epoch 24/50\n",
      "27000/27000 [==============================] - 4s 157us/sample - loss: 1.0606 - accuracy: 0.4146 - val_loss: 1.1184 - val_accuracy: 0.3526\n",
      "Epoch 25/50\n",
      "27000/27000 [==============================] - 5s 177us/sample - loss: 1.0600 - accuracy: 0.4153 - val_loss: 1.1170 - val_accuracy: 0.3439\n",
      "Epoch 26/50\n",
      "27000/27000 [==============================] - 5s 176us/sample - loss: 1.0600 - accuracy: 0.4158 - val_loss: 1.1174 - val_accuracy: 0.3447\n",
      "Epoch 27/50\n",
      "27000/27000 [==============================] - 5s 185us/sample - loss: 1.0599 - accuracy: 0.4144 - val_loss: 1.1218 - val_accuracy: 0.3421\n",
      "Epoch 28/50\n",
      "27000/27000 [==============================] - 5s 181us/sample - loss: 1.0586 - accuracy: 0.4159 - val_loss: 1.1197 - val_accuracy: 0.3418\n",
      "Epoch 29/50\n",
      "27000/27000 [==============================] - 4s 160us/sample - loss: 1.0587 - accuracy: 0.4133 - val_loss: 1.1145 - val_accuracy: 0.3448\n",
      "Epoch 30/50\n",
      "27000/27000 [==============================] - 5s 194us/sample - loss: 1.0585 - accuracy: 0.4141 - val_loss: 1.1155 - val_accuracy: 0.3435\n",
      "Epoch 31/50\n",
      "27000/27000 [==============================] - 5s 174us/sample - loss: 1.0581 - accuracy: 0.4136 - val_loss: 1.1139 - val_accuracy: 0.3437\n",
      "Epoch 32/50\n",
      "27000/27000 [==============================] - 4s 154us/sample - loss: 1.0573 - accuracy: 0.4162 - val_loss: 1.1167 - val_accuracy: 0.3447\n",
      "Epoch 33/50\n",
      "27000/27000 [==============================] - 4s 158us/sample - loss: 1.0588 - accuracy: 0.4142 - val_loss: 1.1081 - val_accuracy: 0.3447\n",
      "Epoch 34/50\n",
      "27000/27000 [==============================] - 4s 143us/sample - loss: 1.0562 - accuracy: 0.4134 - val_loss: 1.1199 - val_accuracy: 0.3439\n",
      "Epoch 35/50\n",
      "27000/27000 [==============================] - 4s 152us/sample - loss: 1.0579 - accuracy: 0.4135 - val_loss: 1.1129 - val_accuracy: 0.3469\n",
      "Epoch 36/50\n",
      "27000/27000 [==============================] - 4s 163us/sample - loss: 1.0569 - accuracy: 0.4166 - val_loss: 1.1137 - val_accuracy: 0.3438\n",
      "Epoch 37/50\n",
      "27000/27000 [==============================] - 5s 177us/sample - loss: 1.0554 - accuracy: 0.4166 - val_loss: 1.1147 - val_accuracy: 0.3437\n",
      "Epoch 38/50\n",
      "27000/27000 [==============================] - 4s 166us/sample - loss: 1.0556 - accuracy: 0.4164 - val_loss: 1.1089 - val_accuracy: 0.3450\n",
      "Epoch 39/50\n",
      "27000/27000 [==============================] - 5s 173us/sample - loss: 1.0567 - accuracy: 0.4176 - val_loss: 1.1180 - val_accuracy: 0.3417\n",
      "Epoch 40/50\n",
      "27000/27000 [==============================] - 4s 164us/sample - loss: 1.0549 - accuracy: 0.4177 - val_loss: 1.1244 - val_accuracy: 0.3438\n",
      "Epoch 41/50\n",
      "27000/27000 [==============================] - 5s 169us/sample - loss: 1.0537 - accuracy: 0.4180 - val_loss: 1.1123 - val_accuracy: 0.3433\n",
      "Epoch 42/50\n",
      "27000/27000 [==============================] - 5s 181us/sample - loss: 1.0545 - accuracy: 0.4167 - val_loss: 1.1112 - val_accuracy: 0.3435\n",
      "Epoch 43/50\n",
      "27000/27000 [==============================] - 5s 173us/sample - loss: 1.0548 - accuracy: 0.4158 - val_loss: 1.1131 - val_accuracy: 0.3429\n",
      "Epoch 44/50\n",
      "27000/27000 [==============================] - 5s 187us/sample - loss: 1.0541 - accuracy: 0.4160 - val_loss: 1.1197 - val_accuracy: 0.3403\n",
      "Epoch 45/50\n",
      "27000/27000 [==============================] - 5s 176us/sample - loss: 1.0530 - accuracy: 0.4182 - val_loss: 1.1199 - val_accuracy: 0.3413\n",
      "Epoch 46/50\n",
      "27000/27000 [==============================] - 5s 179us/sample - loss: 1.0531 - accuracy: 0.4167 - val_loss: 1.1259 - val_accuracy: 0.3420\n",
      "Epoch 47/50\n",
      "27000/27000 [==============================] - 5s 188us/sample - loss: 1.0536 - accuracy: 0.4178 - val_loss: 1.1177 - val_accuracy: 0.3431\n",
      "Epoch 48/50\n",
      "27000/27000 [==============================] - 4s 152us/sample - loss: 1.0525 - accuracy: 0.4190 - val_loss: 1.1173 - val_accuracy: 0.3437\n",
      "Epoch 49/50\n",
      "27000/27000 [==============================] - 5s 185us/sample - loss: 1.0519 - accuracy: 0.4194 - val_loss: 1.1258 - val_accuracy: 0.3419\n",
      "Epoch 50/50\n",
      "27000/27000 [==============================] - 5s 180us/sample - loss: 1.0512 - accuracy: 0.4216 - val_loss: 1.1272 - val_accuracy: 0.3396\n"
     ]
    },
    {
     "data": {
      "text/plain": [
       "<tensorflow.python.keras.callbacks.History at 0x7fc21821fb10>"
      ]
     },
     "execution_count": 23,
     "metadata": {},
     "output_type": "execute_result"
    }
   ],
   "source": [
    "model = keras.Sequential([\n",
    "    keras.layers.Flatten(input_shape=(116, 10)),\n",
    "    keras.layers.Dense(256, activation='relu'),\n",
    "    keras.layers.Dense(128, activation='relu'),\n",
    "    keras.layers.Dense(128, activation='relu'),\n",
    "    keras.layers.Dense(128, activation='relu'),\n",
    "    keras.layers.Dense(3)\n",
    "])\n",
    "\n",
    "model.compile(optimizer='adam',\n",
    "              loss=tf.keras.losses.SparseCategoricalCrossentropy(from_logits=True),\n",
    "              metrics=['accuracy'])\n",
    "\n",
    "model.fit(X_train, y_train, epochs=50,\n",
    "         validation_data=(X_test, y_test))"
   ]
  },
  {
   "cell_type": "code",
   "execution_count": 20,
   "metadata": {},
   "outputs": [],
   "source": [
    "probability_model = tf.keras.Sequential([model, \n",
    "                                         tf.keras.layers.Softmax()])\n",
    "\n",
    "predictions = probability_model.predict(X_train)"
   ]
  },
  {
   "cell_type": "code",
   "execution_count": 27,
   "metadata": {},
   "outputs": [
    {
     "data": {
      "text/plain": [
       "array([0.07750326, 0.92002517, 0.00247163], dtype=float32)"
      ]
     },
     "execution_count": 27,
     "metadata": {},
     "output_type": "execute_result"
    }
   ],
   "source": [
    "predictions[4]"
   ]
  },
  {
   "cell_type": "code",
   "execution_count": 22,
   "metadata": {},
   "outputs": [
    {
     "data": {
      "text/plain": [
       "13971"
      ]
     },
     "execution_count": 22,
     "metadata": {},
     "output_type": "execute_result"
    }
   ],
   "source": [
    "np.argmax(predictions)"
   ]
  },
  {
   "cell_type": "code",
   "execution_count": 60,
   "metadata": {},
   "outputs": [],
   "source": [
    "predictions = probability_model.predict(X_test)"
   ]
  },
  {
   "cell_type": "code",
   "execution_count": 61,
   "metadata": {},
   "outputs": [
    {
     "data": {
      "text/plain": [
       "0"
      ]
     },
     "execution_count": 61,
     "metadata": {},
     "output_type": "execute_result"
    }
   ],
   "source": [
    "np.argmax(predictions[0])"
   ]
  },
  {
   "cell_type": "code",
   "execution_count": 62,
   "metadata": {},
   "outputs": [
    {
     "data": {
      "text/plain": [
       "array([9.8680556e-01, 1.2953308e-02, 2.4112873e-04], dtype=float32)"
      ]
     },
     "execution_count": 62,
     "metadata": {},
     "output_type": "execute_result"
    }
   ],
   "source": [
    "predictions[0]"
   ]
  },
  {
   "cell_type": "markdown",
   "metadata": {},
   "source": [
    "### implement data augmentation and dropout "
   ]
  },
  {
   "cell_type": "code",
   "execution_count": null,
   "metadata": {},
   "outputs": [],
   "source": []
  }
 ],
 "metadata": {
  "kernelspec": {
   "display_name": "Python 3",
   "language": "python",
   "name": "python3"
  },
  "language_info": {
   "codemirror_mode": {
    "name": "ipython",
    "version": 3
   },
   "file_extension": ".py",
   "mimetype": "text/x-python",
   "name": "python",
   "nbconvert_exporter": "python",
   "pygments_lexer": "ipython3",
   "version": "3.7.6"
  }
 },
 "nbformat": 4,
 "nbformat_minor": 4
}
