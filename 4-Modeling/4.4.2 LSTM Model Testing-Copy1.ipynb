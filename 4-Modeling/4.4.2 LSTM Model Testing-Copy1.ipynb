{
 "cells": [
  {
   "cell_type": "markdown",
   "metadata": {},
   "source": [
    "# 4.5 LSTM Model Testing\n",
    "Reverse train and test sets to ensure data accuracy. "
   ]
  },
  {
   "cell_type": "code",
   "execution_count": 1,
   "metadata": {},
   "outputs": [],
   "source": [
    "import tensorflow as tf\n",
    "from tensorflow import keras\n",
    "from tensorflow.keras import datasets, layers, models\n",
    "import matplotlib.pyplot as plt\n",
    "import numpy as np"
   ]
  },
  {
   "cell_type": "code",
   "execution_count": 2,
   "metadata": {},
   "outputs": [],
   "source": [
    "y = np.load('./data/prepared/august25screenfixed/numpy_matrices/y_f.npy')"
   ]
  },
  {
   "cell_type": "code",
   "execution_count": 3,
   "metadata": {},
   "outputs": [
    {
     "data": {
      "text/plain": [
       "(30, 4000)"
      ]
     },
     "execution_count": 3,
     "metadata": {},
     "output_type": "execute_result"
    }
   ],
   "source": [
    "y.shape"
   ]
  },
  {
   "cell_type": "code",
   "execution_count": 4,
   "metadata": {},
   "outputs": [
    {
     "data": {
      "text/plain": [
       "((30, 2000), (30, 2000))"
      ]
     },
     "execution_count": 4,
     "metadata": {},
     "output_type": "execute_result"
    }
   ],
   "source": [
    "y_train = y[:, :2000]\n",
    "y_test = y[:, 2000:]\n",
    "\n",
    "y_train.shape, y_test.shape"
   ]
  },
  {
   "cell_type": "code",
   "execution_count": 5,
   "metadata": {},
   "outputs": [
    {
     "data": {
      "text/plain": [
       "((60000, 1), (60000, 1))"
      ]
     },
     "execution_count": 5,
     "metadata": {},
     "output_type": "execute_result"
    }
   ],
   "source": [
    "y_train = y_train.reshape([60000, 1])\n",
    "y_test = y_test.reshape([60000, 1])\n",
    "y_train.shape, y_test.shape"
   ]
  },
  {
   "cell_type": "code",
   "execution_count": 6,
   "metadata": {},
   "outputs": [
    {
     "data": {
      "text/plain": [
       "array([[-1.41743444e-03],\n",
       "       [-7.08215297e-04],\n",
       "       [-3.53982301e-04],\n",
       "       ...,\n",
       "       [-1.98333994e-04],\n",
       "       [ 5.29170525e-04],\n",
       "       [-1.98435009e-05]])"
      ]
     },
     "execution_count": 6,
     "metadata": {},
     "output_type": "execute_result"
    }
   ],
   "source": [
    "y_train"
   ]
  },
  {
   "cell_type": "code",
   "execution_count": 7,
   "metadata": {},
   "outputs": [],
   "source": [
    "# X_train = np.load('./data/prepared/august25screenfixed/numpy_matrices/X_train.npy')\n",
    "# X_test = np.load('./data/prepared/august25screenfixed/numpy_matrices/X_test.npy')\n",
    "X = np.load('./data/prepared/august25screenfixed/numpy_matrices/X_f.npy')"
   ]
  },
  {
   "cell_type": "code",
   "execution_count": 8,
   "metadata": {},
   "outputs": [
    {
     "data": {
      "text/plain": [
       "(30, 4000, 116, 60)"
      ]
     },
     "execution_count": 8,
     "metadata": {},
     "output_type": "execute_result"
    }
   ],
   "source": [
    "X.shape"
   ]
  },
  {
   "cell_type": "code",
   "execution_count": 9,
   "metadata": {},
   "outputs": [],
   "source": [
    "X_train = X[:, 2000:, :, :10]\n",
    "X_test = X[:, :2000, :, :10]"
   ]
  },
  {
   "cell_type": "code",
   "execution_count": 20,
   "metadata": {},
   "outputs": [
    {
     "data": {
      "text/plain": [
       "((30, 2000, 116, 10), (30, 2000, 116, 10))"
      ]
     },
     "execution_count": 20,
     "metadata": {},
     "output_type": "execute_result"
    }
   ],
   "source": [
    "X_train.shape, X_test.shape"
   ]
  },
  {
   "cell_type": "code",
   "execution_count": 21,
   "metadata": {},
   "outputs": [],
   "source": [
    "X_train = X_train.reshape([60000, 116, 10])\n",
    "X_test = X_test.reshape([60000, 116, 10])"
   ]
  },
  {
   "cell_type": "code",
   "execution_count": 22,
   "metadata": {},
   "outputs": [
    {
     "data": {
      "text/plain": [
       "((60000, 116, 10), (60000, 116, 10))"
      ]
     },
     "execution_count": 22,
     "metadata": {},
     "output_type": "execute_result"
    }
   ],
   "source": [
    "X_train.shape, X_test.shape"
   ]
  },
  {
   "cell_type": "code",
   "execution_count": 23,
   "metadata": {},
   "outputs": [
    {
     "data": {
      "text/plain": [
       "(60000, 10, 116)"
      ]
     },
     "execution_count": 23,
     "metadata": {},
     "output_type": "execute_result"
    }
   ],
   "source": [
    "Xr_tp = np.transpose(X_train, axes=(0,2,1))\n",
    "Xr_tp.shape"
   ]
  },
  {
   "cell_type": "code",
   "execution_count": 24,
   "metadata": {},
   "outputs": [
    {
     "data": {
      "text/plain": [
       "(60000, 10, 116)"
      ]
     },
     "execution_count": 24,
     "metadata": {},
     "output_type": "execute_result"
    }
   ],
   "source": [
    "Xe_tp = np.transpose(X_test, axes=(0,2,1))\n",
    "Xe_tp.shape"
   ]
  },
  {
   "cell_type": "code",
   "execution_count": 25,
   "metadata": {},
   "outputs": [
    {
     "data": {
      "text/plain": [
       "(array([0., 1.]), array([32837, 27163]))"
      ]
     },
     "execution_count": 25,
     "metadata": {},
     "output_type": "execute_result"
    }
   ],
   "source": [
    "yr_d = y_train.copy()\n",
    "yr_d[np.where(yr_d > 0)] = 1\n",
    "yr_d[np.where(yr_d < 0)] = 0\n",
    "np.unique(yr_d, return_counts=True)"
   ]
  },
  {
   "cell_type": "code",
   "execution_count": 26,
   "metadata": {},
   "outputs": [
    {
     "data": {
      "text/plain": [
       "(array([0., 1.]), array([33391, 26609]))"
      ]
     },
     "execution_count": 26,
     "metadata": {},
     "output_type": "execute_result"
    }
   ],
   "source": [
    "ye_d = y_test.copy()\n",
    "ye_d[np.where(ye_d > 0)] = 1\n",
    "ye_d[np.where(ye_d < 0)] = 0\n",
    "np.unique(ye_d, return_counts=True)"
   ]
  },
  {
   "cell_type": "code",
   "execution_count": 27,
   "metadata": {},
   "outputs": [],
   "source": [
    "#Xe_tp == Xr_tp"
   ]
  },
  {
   "cell_type": "markdown",
   "metadata": {},
   "source": [
    "#### LSTM Testing"
   ]
  },
  {
   "cell_type": "code",
   "execution_count": 27,
   "metadata": {},
   "outputs": [
    {
     "name": "stdout",
     "output_type": "stream",
     "text": [
      "Train on 60000 samples, validate on 60000 samples\n",
      "Epoch 1/100\n",
      "60000/60000 [==============================] - 14s 237us/sample - loss: 0.6882 - accuracy: 0.5463 - val_loss: 0.6850 - val_accuracy: 0.5562\n",
      "Epoch 2/100\n",
      "60000/60000 [==============================] - 13s 211us/sample - loss: 0.6861 - accuracy: 0.5469 - val_loss: 0.6830 - val_accuracy: 0.5565\n",
      "Epoch 3/100\n",
      "60000/60000 [==============================] - 13s 211us/sample - loss: 0.6843 - accuracy: 0.5454 - val_loss: 0.6886 - val_accuracy: 0.5565\n",
      "Epoch 4/100\n",
      "60000/60000 [==============================] - 13s 212us/sample - loss: 0.6840 - accuracy: 0.5479 - val_loss: 0.6856 - val_accuracy: 0.5310\n",
      "Epoch 5/100\n",
      "60000/60000 [==============================] - 13s 211us/sample - loss: 0.6838 - accuracy: 0.5453 - val_loss: 0.6840 - val_accuracy: 0.5462\n",
      "Epoch 6/100\n",
      "60000/60000 [==============================] - 13s 218us/sample - loss: 0.6836 - accuracy: 0.5463 - val_loss: 0.6820 - val_accuracy: 0.5562\n",
      "Epoch 7/100\n",
      "60000/60000 [==============================] - 13s 215us/sample - loss: 0.6835 - accuracy: 0.5460 - val_loss: 0.6844 - val_accuracy: 0.5384\n",
      "Epoch 8/100\n",
      "60000/60000 [==============================] - 13s 213us/sample - loss: 0.6833 - accuracy: 0.5493 - val_loss: 0.6842 - val_accuracy: 0.5394\n",
      "Epoch 9/100\n",
      "60000/60000 [==============================] - 14s 235us/sample - loss: 0.6834 - accuracy: 0.5464 - val_loss: 0.6829 - val_accuracy: 0.5520\n",
      "Epoch 10/100\n",
      "60000/60000 [==============================] - 13s 217us/sample - loss: 0.6833 - accuracy: 0.5471 - val_loss: 0.6848 - val_accuracy: 0.5390\n",
      "Epoch 11/100\n",
      "60000/60000 [==============================] - 15s 250us/sample - loss: 0.6830 - accuracy: 0.5470 - val_loss: 0.6843 - val_accuracy: 0.5407\n",
      "Epoch 12/100\n",
      "60000/60000 [==============================] - 15s 256us/sample - loss: 0.6831 - accuracy: 0.5485 - val_loss: 0.6829 - val_accuracy: 0.5531\n",
      "Epoch 13/100\n",
      "60000/60000 [==============================] - 14s 227us/sample - loss: 0.6830 - accuracy: 0.5473 - val_loss: 0.6845 - val_accuracy: 0.5365\n",
      "Epoch 14/100\n",
      "60000/60000 [==============================] - 14s 236us/sample - loss: 0.6829 - accuracy: 0.5479 - val_loss: 0.6844 - val_accuracy: 0.5312\n",
      "Epoch 15/100\n",
      "60000/60000 [==============================] - 13s 224us/sample - loss: 0.6829 - accuracy: 0.5482 - val_loss: 0.6837 - val_accuracy: 0.5397\n",
      "Epoch 16/100\n",
      "60000/60000 [==============================] - 14s 227us/sample - loss: 0.6827 - accuracy: 0.5482 - val_loss: 0.6847 - val_accuracy: 0.5384\n",
      "Epoch 17/100\n",
      "60000/60000 [==============================] - 14s 226us/sample - loss: 0.6826 - accuracy: 0.5502 - val_loss: 0.6831 - val_accuracy: 0.5438\n",
      "Epoch 18/100\n",
      "60000/60000 [==============================] - 14s 229us/sample - loss: 0.6826 - accuracy: 0.5491 - val_loss: 0.6840 - val_accuracy: 0.5501\n",
      "Epoch 19/100\n",
      "60000/60000 [==============================] - 14s 242us/sample - loss: 0.6826 - accuracy: 0.5486 - val_loss: 0.6827 - val_accuracy: 0.5538\n",
      "Epoch 20/100\n",
      "60000/60000 [==============================] - 14s 230us/sample - loss: 0.6824 - accuracy: 0.5495 - val_loss: 0.6844 - val_accuracy: 0.5407\n",
      "Epoch 21/100\n",
      "60000/60000 [==============================] - 14s 234us/sample - loss: 0.6825 - accuracy: 0.5496 - val_loss: 0.6838 - val_accuracy: 0.5432\n",
      "Epoch 22/100\n",
      "60000/60000 [==============================] - 14s 228us/sample - loss: 0.6823 - accuracy: 0.5495 - val_loss: 0.6831 - val_accuracy: 0.5495\n",
      "Epoch 23/100\n",
      "60000/60000 [==============================] - 14s 234us/sample - loss: 0.6822 - accuracy: 0.5506 - val_loss: 0.6835 - val_accuracy: 0.5441\n",
      "Epoch 24/100\n",
      "60000/60000 [==============================] - 14s 230us/sample - loss: 0.6822 - accuracy: 0.5516 - val_loss: 0.6866 - val_accuracy: 0.5222\n",
      "Epoch 25/100\n",
      "60000/60000 [==============================] - 14s 230us/sample - loss: 0.6821 - accuracy: 0.5499 - val_loss: 0.6829 - val_accuracy: 0.5500\n",
      "Epoch 26/100\n",
      "60000/60000 [==============================] - 14s 232us/sample - loss: 0.6821 - accuracy: 0.5517 - val_loss: 0.6841 - val_accuracy: 0.5427\n",
      "Epoch 27/100\n",
      "60000/60000 [==============================] - 15s 243us/sample - loss: 0.6818 - accuracy: 0.5523 - val_loss: 0.6824 - val_accuracy: 0.5481\n",
      "Epoch 28/100\n",
      "60000/60000 [==============================] - 14s 232us/sample - loss: 0.6818 - accuracy: 0.5514 - val_loss: 0.6852 - val_accuracy: 0.5361\n",
      "Epoch 29/100\n",
      "60000/60000 [==============================] - 14s 236us/sample - loss: 0.6816 - accuracy: 0.5537 - val_loss: 0.6834 - val_accuracy: 0.5463\n",
      "Epoch 30/100\n",
      "60000/60000 [==============================] - 14s 229us/sample - loss: 0.6816 - accuracy: 0.5528 - val_loss: 0.6839 - val_accuracy: 0.5416\n",
      "Epoch 31/100\n",
      "60000/60000 [==============================] - 14s 230us/sample - loss: 0.6815 - accuracy: 0.5508 - val_loss: 0.6826 - val_accuracy: 0.5536\n",
      "Epoch 32/100\n",
      "60000/60000 [==============================] - 14s 234us/sample - loss: 0.6815 - accuracy: 0.5520 - val_loss: 0.6835 - val_accuracy: 0.5478\n",
      "Epoch 33/100\n",
      "60000/60000 [==============================] - 14s 231us/sample - loss: 0.6811 - accuracy: 0.5544 - val_loss: 0.6852 - val_accuracy: 0.5416\n",
      "Epoch 34/100\n",
      "60000/60000 [==============================] - 14s 232us/sample - loss: 0.6812 - accuracy: 0.5528 - val_loss: 0.6850 - val_accuracy: 0.5348\n",
      "Epoch 35/100\n",
      "60000/60000 [==============================] - 14s 229us/sample - loss: 0.6811 - accuracy: 0.5544 - val_loss: 0.6847 - val_accuracy: 0.5402\n",
      "Epoch 36/100\n",
      "60000/60000 [==============================] - 13s 217us/sample - loss: 0.6810 - accuracy: 0.5551 - val_loss: 0.6841 - val_accuracy: 0.5437\n",
      "Epoch 37/100\n",
      "60000/60000 [==============================] - 13s 213us/sample - loss: 0.6808 - accuracy: 0.5547 - val_loss: 0.6852 - val_accuracy: 0.5363\n",
      "Epoch 38/100\n",
      "60000/60000 [==============================] - 13s 214us/sample - loss: 0.6806 - accuracy: 0.5562 - val_loss: 0.6897 - val_accuracy: 0.5144\n",
      "Epoch 39/100\n",
      "60000/60000 [==============================] - 13s 220us/sample - loss: 0.6806 - accuracy: 0.5553 - val_loss: 0.6879 - val_accuracy: 0.5311\n",
      "Epoch 40/100\n",
      "60000/60000 [==============================] - 13s 221us/sample - loss: 0.6805 - accuracy: 0.5572 - val_loss: 0.6846 - val_accuracy: 0.5405\n",
      "Epoch 41/100\n",
      "60000/60000 [==============================] - 13s 220us/sample - loss: 0.6801 - accuracy: 0.5562 - val_loss: 0.6842 - val_accuracy: 0.5455\n",
      "Epoch 42/100\n",
      "60000/60000 [==============================] - 13s 219us/sample - loss: 0.6802 - accuracy: 0.5583 - val_loss: 0.6859 - val_accuracy: 0.5340\n",
      "Epoch 43/100\n",
      "60000/60000 [==============================] - 13s 217us/sample - loss: 0.6799 - accuracy: 0.5580 - val_loss: 0.6860 - val_accuracy: 0.5366\n",
      "Epoch 44/100\n",
      "60000/60000 [==============================] - 17s 279us/sample - loss: 0.6799 - accuracy: 0.5579 - val_loss: 0.6848 - val_accuracy: 0.5410\n",
      "Epoch 45/100\n",
      " 9600/60000 [===>..........................] - ETA: 10s - loss: 0.6807 - accuracy: 0.5603"
     ]
    },
    {
     "ename": "KeyboardInterrupt",
     "evalue": "",
     "output_type": "error",
     "traceback": [
      "\u001b[0;31m\u001b[0m",
      "\u001b[0;31mKeyboardInterrupt\u001b[0mTraceback (most recent call last)",
      "\u001b[0;32m<ipython-input-27-6ac043359449>\u001b[0m in \u001b[0;36m<module>\u001b[0;34m\u001b[0m\n\u001b[1;32m     10\u001b[0m \u001b[0;34m\u001b[0m\u001b[0m\n\u001b[1;32m     11\u001b[0m model.fit(Xr_tp, yr_d, epochs=100,\n\u001b[0;32m---> 12\u001b[0;31m          validation_data=(Xe_tp, ye_d))\n\u001b[0m",
      "\u001b[0;32m/opt/conda/lib/python3.7/site-packages/tensorflow_core/python/keras/engine/training.py\u001b[0m in \u001b[0;36mfit\u001b[0;34m(self, x, y, batch_size, epochs, verbose, callbacks, validation_split, validation_data, shuffle, class_weight, sample_weight, initial_epoch, steps_per_epoch, validation_steps, validation_freq, max_queue_size, workers, use_multiprocessing, **kwargs)\u001b[0m\n\u001b[1;32m    817\u001b[0m         \u001b[0mmax_queue_size\u001b[0m\u001b[0;34m=\u001b[0m\u001b[0mmax_queue_size\u001b[0m\u001b[0;34m,\u001b[0m\u001b[0;34m\u001b[0m\u001b[0;34m\u001b[0m\u001b[0m\n\u001b[1;32m    818\u001b[0m         \u001b[0mworkers\u001b[0m\u001b[0;34m=\u001b[0m\u001b[0mworkers\u001b[0m\u001b[0;34m,\u001b[0m\u001b[0;34m\u001b[0m\u001b[0;34m\u001b[0m\u001b[0m\n\u001b[0;32m--> 819\u001b[0;31m         use_multiprocessing=use_multiprocessing)\n\u001b[0m\u001b[1;32m    820\u001b[0m \u001b[0;34m\u001b[0m\u001b[0m\n\u001b[1;32m    821\u001b[0m   def evaluate(self,\n",
      "\u001b[0;32m/opt/conda/lib/python3.7/site-packages/tensorflow_core/python/keras/engine/training_v2.py\u001b[0m in \u001b[0;36mfit\u001b[0;34m(self, model, x, y, batch_size, epochs, verbose, callbacks, validation_split, validation_data, shuffle, class_weight, sample_weight, initial_epoch, steps_per_epoch, validation_steps, validation_freq, max_queue_size, workers, use_multiprocessing, **kwargs)\u001b[0m\n\u001b[1;32m    340\u001b[0m                 \u001b[0mmode\u001b[0m\u001b[0;34m=\u001b[0m\u001b[0mModeKeys\u001b[0m\u001b[0;34m.\u001b[0m\u001b[0mTRAIN\u001b[0m\u001b[0;34m,\u001b[0m\u001b[0;34m\u001b[0m\u001b[0;34m\u001b[0m\u001b[0m\n\u001b[1;32m    341\u001b[0m                 \u001b[0mtraining_context\u001b[0m\u001b[0;34m=\u001b[0m\u001b[0mtraining_context\u001b[0m\u001b[0;34m,\u001b[0m\u001b[0;34m\u001b[0m\u001b[0;34m\u001b[0m\u001b[0m\n\u001b[0;32m--> 342\u001b[0;31m                 total_epochs=epochs)\n\u001b[0m\u001b[1;32m    343\u001b[0m             \u001b[0mcbks\u001b[0m\u001b[0;34m.\u001b[0m\u001b[0mmake_logs\u001b[0m\u001b[0;34m(\u001b[0m\u001b[0mmodel\u001b[0m\u001b[0;34m,\u001b[0m \u001b[0mepoch_logs\u001b[0m\u001b[0;34m,\u001b[0m \u001b[0mtraining_result\u001b[0m\u001b[0;34m,\u001b[0m \u001b[0mModeKeys\u001b[0m\u001b[0;34m.\u001b[0m\u001b[0mTRAIN\u001b[0m\u001b[0;34m)\u001b[0m\u001b[0;34m\u001b[0m\u001b[0;34m\u001b[0m\u001b[0m\n\u001b[1;32m    344\u001b[0m \u001b[0;34m\u001b[0m\u001b[0m\n",
      "\u001b[0;32m/opt/conda/lib/python3.7/site-packages/tensorflow_core/python/keras/engine/training_v2.py\u001b[0m in \u001b[0;36mrun_one_epoch\u001b[0;34m(model, iterator, execution_function, dataset_size, batch_size, strategy, steps_per_epoch, num_samples, mode, training_context, total_epochs)\u001b[0m\n\u001b[1;32m    126\u001b[0m         step=step, mode=mode, size=current_batch_size) as batch_logs:\n\u001b[1;32m    127\u001b[0m       \u001b[0;32mtry\u001b[0m\u001b[0;34m:\u001b[0m\u001b[0;34m\u001b[0m\u001b[0;34m\u001b[0m\u001b[0m\n\u001b[0;32m--> 128\u001b[0;31m         \u001b[0mbatch_outs\u001b[0m \u001b[0;34m=\u001b[0m \u001b[0mexecution_function\u001b[0m\u001b[0;34m(\u001b[0m\u001b[0miterator\u001b[0m\u001b[0;34m)\u001b[0m\u001b[0;34m\u001b[0m\u001b[0;34m\u001b[0m\u001b[0m\n\u001b[0m\u001b[1;32m    129\u001b[0m       \u001b[0;32mexcept\u001b[0m \u001b[0;34m(\u001b[0m\u001b[0mStopIteration\u001b[0m\u001b[0;34m,\u001b[0m \u001b[0merrors\u001b[0m\u001b[0;34m.\u001b[0m\u001b[0mOutOfRangeError\u001b[0m\u001b[0;34m)\u001b[0m\u001b[0;34m:\u001b[0m\u001b[0;34m\u001b[0m\u001b[0;34m\u001b[0m\u001b[0m\n\u001b[1;32m    130\u001b[0m         \u001b[0;31m# TODO(kaftan): File bug about tf function and errors.OutOfRangeError?\u001b[0m\u001b[0;34m\u001b[0m\u001b[0;34m\u001b[0m\u001b[0;34m\u001b[0m\u001b[0m\n",
      "\u001b[0;32m/opt/conda/lib/python3.7/site-packages/tensorflow_core/python/keras/engine/training_v2_utils.py\u001b[0m in \u001b[0;36mexecution_function\u001b[0;34m(input_fn)\u001b[0m\n\u001b[1;32m     96\u001b[0m     \u001b[0;31m# `numpy` translates Tensors to values in Eager mode.\u001b[0m\u001b[0;34m\u001b[0m\u001b[0;34m\u001b[0m\u001b[0;34m\u001b[0m\u001b[0m\n\u001b[1;32m     97\u001b[0m     return nest.map_structure(_non_none_constant_value,\n\u001b[0;32m---> 98\u001b[0;31m                               distributed_function(input_fn))\n\u001b[0m\u001b[1;32m     99\u001b[0m \u001b[0;34m\u001b[0m\u001b[0m\n\u001b[1;32m    100\u001b[0m   \u001b[0;32mreturn\u001b[0m \u001b[0mexecution_function\u001b[0m\u001b[0;34m\u001b[0m\u001b[0;34m\u001b[0m\u001b[0m\n",
      "\u001b[0;32m/opt/conda/lib/python3.7/site-packages/tensorflow_core/python/eager/def_function.py\u001b[0m in \u001b[0;36m__call__\u001b[0;34m(self, *args, **kwds)\u001b[0m\n\u001b[1;32m    566\u001b[0m         \u001b[0mxla_context\u001b[0m\u001b[0;34m.\u001b[0m\u001b[0mExit\u001b[0m\u001b[0;34m(\u001b[0m\u001b[0;34m)\u001b[0m\u001b[0;34m\u001b[0m\u001b[0;34m\u001b[0m\u001b[0m\n\u001b[1;32m    567\u001b[0m     \u001b[0;32melse\u001b[0m\u001b[0;34m:\u001b[0m\u001b[0;34m\u001b[0m\u001b[0;34m\u001b[0m\u001b[0m\n\u001b[0;32m--> 568\u001b[0;31m       \u001b[0mresult\u001b[0m \u001b[0;34m=\u001b[0m \u001b[0mself\u001b[0m\u001b[0;34m.\u001b[0m\u001b[0m_call\u001b[0m\u001b[0;34m(\u001b[0m\u001b[0;34m*\u001b[0m\u001b[0margs\u001b[0m\u001b[0;34m,\u001b[0m \u001b[0;34m**\u001b[0m\u001b[0mkwds\u001b[0m\u001b[0;34m)\u001b[0m\u001b[0;34m\u001b[0m\u001b[0;34m\u001b[0m\u001b[0m\n\u001b[0m\u001b[1;32m    569\u001b[0m \u001b[0;34m\u001b[0m\u001b[0m\n\u001b[1;32m    570\u001b[0m     \u001b[0;32mif\u001b[0m \u001b[0mtracing_count\u001b[0m \u001b[0;34m==\u001b[0m \u001b[0mself\u001b[0m\u001b[0;34m.\u001b[0m\u001b[0m_get_tracing_count\u001b[0m\u001b[0;34m(\u001b[0m\u001b[0;34m)\u001b[0m\u001b[0;34m:\u001b[0m\u001b[0;34m\u001b[0m\u001b[0;34m\u001b[0m\u001b[0m\n",
      "\u001b[0;32m/opt/conda/lib/python3.7/site-packages/tensorflow_core/python/eager/def_function.py\u001b[0m in \u001b[0;36m_call\u001b[0;34m(self, *args, **kwds)\u001b[0m\n\u001b[1;32m    597\u001b[0m       \u001b[0;31m# In this case we have created variables on the first call, so we run the\u001b[0m\u001b[0;34m\u001b[0m\u001b[0;34m\u001b[0m\u001b[0;34m\u001b[0m\u001b[0m\n\u001b[1;32m    598\u001b[0m       \u001b[0;31m# defunned version which is guaranteed to never create variables.\u001b[0m\u001b[0;34m\u001b[0m\u001b[0;34m\u001b[0m\u001b[0;34m\u001b[0m\u001b[0m\n\u001b[0;32m--> 599\u001b[0;31m       \u001b[0;32mreturn\u001b[0m \u001b[0mself\u001b[0m\u001b[0;34m.\u001b[0m\u001b[0m_stateless_fn\u001b[0m\u001b[0;34m(\u001b[0m\u001b[0;34m*\u001b[0m\u001b[0margs\u001b[0m\u001b[0;34m,\u001b[0m \u001b[0;34m**\u001b[0m\u001b[0mkwds\u001b[0m\u001b[0;34m)\u001b[0m  \u001b[0;31m# pylint: disable=not-callable\u001b[0m\u001b[0;34m\u001b[0m\u001b[0;34m\u001b[0m\u001b[0m\n\u001b[0m\u001b[1;32m    600\u001b[0m     \u001b[0;32melif\u001b[0m \u001b[0mself\u001b[0m\u001b[0;34m.\u001b[0m\u001b[0m_stateful_fn\u001b[0m \u001b[0;32mis\u001b[0m \u001b[0;32mnot\u001b[0m \u001b[0;32mNone\u001b[0m\u001b[0;34m:\u001b[0m\u001b[0;34m\u001b[0m\u001b[0;34m\u001b[0m\u001b[0m\n\u001b[1;32m    601\u001b[0m       \u001b[0;31m# Release the lock early so that multiple threads can perform the call\u001b[0m\u001b[0;34m\u001b[0m\u001b[0;34m\u001b[0m\u001b[0;34m\u001b[0m\u001b[0m\n",
      "\u001b[0;32m/opt/conda/lib/python3.7/site-packages/tensorflow_core/python/eager/function.py\u001b[0m in \u001b[0;36m__call__\u001b[0;34m(self, *args, **kwargs)\u001b[0m\n\u001b[1;32m   2361\u001b[0m     \u001b[0;32mwith\u001b[0m \u001b[0mself\u001b[0m\u001b[0;34m.\u001b[0m\u001b[0m_lock\u001b[0m\u001b[0;34m:\u001b[0m\u001b[0;34m\u001b[0m\u001b[0;34m\u001b[0m\u001b[0m\n\u001b[1;32m   2362\u001b[0m       \u001b[0mgraph_function\u001b[0m\u001b[0;34m,\u001b[0m \u001b[0margs\u001b[0m\u001b[0;34m,\u001b[0m \u001b[0mkwargs\u001b[0m \u001b[0;34m=\u001b[0m \u001b[0mself\u001b[0m\u001b[0;34m.\u001b[0m\u001b[0m_maybe_define_function\u001b[0m\u001b[0;34m(\u001b[0m\u001b[0margs\u001b[0m\u001b[0;34m,\u001b[0m \u001b[0mkwargs\u001b[0m\u001b[0;34m)\u001b[0m\u001b[0;34m\u001b[0m\u001b[0;34m\u001b[0m\u001b[0m\n\u001b[0;32m-> 2363\u001b[0;31m     \u001b[0;32mreturn\u001b[0m \u001b[0mgraph_function\u001b[0m\u001b[0;34m.\u001b[0m\u001b[0m_filtered_call\u001b[0m\u001b[0;34m(\u001b[0m\u001b[0margs\u001b[0m\u001b[0;34m,\u001b[0m \u001b[0mkwargs\u001b[0m\u001b[0;34m)\u001b[0m  \u001b[0;31m# pylint: disable=protected-access\u001b[0m\u001b[0;34m\u001b[0m\u001b[0;34m\u001b[0m\u001b[0m\n\u001b[0m\u001b[1;32m   2364\u001b[0m \u001b[0;34m\u001b[0m\u001b[0m\n\u001b[1;32m   2365\u001b[0m   \u001b[0;34m@\u001b[0m\u001b[0mproperty\u001b[0m\u001b[0;34m\u001b[0m\u001b[0;34m\u001b[0m\u001b[0m\n",
      "\u001b[0;32m/opt/conda/lib/python3.7/site-packages/tensorflow_core/python/eager/function.py\u001b[0m in \u001b[0;36m_filtered_call\u001b[0;34m(self, args, kwargs)\u001b[0m\n\u001b[1;32m   1609\u001b[0m          if isinstance(t, (ops.Tensor,\n\u001b[1;32m   1610\u001b[0m                            resource_variable_ops.BaseResourceVariable))),\n\u001b[0;32m-> 1611\u001b[0;31m         self.captured_inputs)\n\u001b[0m\u001b[1;32m   1612\u001b[0m \u001b[0;34m\u001b[0m\u001b[0m\n\u001b[1;32m   1613\u001b[0m   \u001b[0;32mdef\u001b[0m \u001b[0m_call_flat\u001b[0m\u001b[0;34m(\u001b[0m\u001b[0mself\u001b[0m\u001b[0;34m,\u001b[0m \u001b[0margs\u001b[0m\u001b[0;34m,\u001b[0m \u001b[0mcaptured_inputs\u001b[0m\u001b[0;34m,\u001b[0m \u001b[0mcancellation_manager\u001b[0m\u001b[0;34m=\u001b[0m\u001b[0;32mNone\u001b[0m\u001b[0;34m)\u001b[0m\u001b[0;34m:\u001b[0m\u001b[0;34m\u001b[0m\u001b[0;34m\u001b[0m\u001b[0m\n",
      "\u001b[0;32m/opt/conda/lib/python3.7/site-packages/tensorflow_core/python/eager/function.py\u001b[0m in \u001b[0;36m_call_flat\u001b[0;34m(self, args, captured_inputs, cancellation_manager)\u001b[0m\n\u001b[1;32m   1690\u001b[0m       \u001b[0;31m# No tape is watching; skip to running the function.\u001b[0m\u001b[0;34m\u001b[0m\u001b[0;34m\u001b[0m\u001b[0;34m\u001b[0m\u001b[0m\n\u001b[1;32m   1691\u001b[0m       return self._build_call_outputs(self._inference_function.call(\n\u001b[0;32m-> 1692\u001b[0;31m           ctx, args, cancellation_manager=cancellation_manager))\n\u001b[0m\u001b[1;32m   1693\u001b[0m     forward_backward = self._select_forward_and_backward_functions(\n\u001b[1;32m   1694\u001b[0m         \u001b[0margs\u001b[0m\u001b[0;34m,\u001b[0m\u001b[0;34m\u001b[0m\u001b[0;34m\u001b[0m\u001b[0m\n",
      "\u001b[0;32m/opt/conda/lib/python3.7/site-packages/tensorflow_core/python/eager/function.py\u001b[0m in \u001b[0;36mcall\u001b[0;34m(self, ctx, args, cancellation_manager)\u001b[0m\n\u001b[1;32m    543\u001b[0m               \u001b[0minputs\u001b[0m\u001b[0;34m=\u001b[0m\u001b[0margs\u001b[0m\u001b[0;34m,\u001b[0m\u001b[0;34m\u001b[0m\u001b[0;34m\u001b[0m\u001b[0m\n\u001b[1;32m    544\u001b[0m               \u001b[0mattrs\u001b[0m\u001b[0;34m=\u001b[0m\u001b[0;34m(\u001b[0m\u001b[0;34m\"executor_type\"\u001b[0m\u001b[0;34m,\u001b[0m \u001b[0mexecutor_type\u001b[0m\u001b[0;34m,\u001b[0m \u001b[0;34m\"config_proto\"\u001b[0m\u001b[0;34m,\u001b[0m \u001b[0mconfig\u001b[0m\u001b[0;34m)\u001b[0m\u001b[0;34m,\u001b[0m\u001b[0;34m\u001b[0m\u001b[0;34m\u001b[0m\u001b[0m\n\u001b[0;32m--> 545\u001b[0;31m               ctx=ctx)\n\u001b[0m\u001b[1;32m    546\u001b[0m         \u001b[0;32melse\u001b[0m\u001b[0;34m:\u001b[0m\u001b[0;34m\u001b[0m\u001b[0;34m\u001b[0m\u001b[0m\n\u001b[1;32m    547\u001b[0m           outputs = execute.execute_with_cancellation(\n",
      "\u001b[0;32m/opt/conda/lib/python3.7/site-packages/tensorflow_core/python/eager/execute.py\u001b[0m in \u001b[0;36mquick_execute\u001b[0;34m(op_name, num_outputs, inputs, attrs, ctx, name)\u001b[0m\n\u001b[1;32m     59\u001b[0m     tensors = pywrap_tensorflow.TFE_Py_Execute(ctx._handle, device_name,\n\u001b[1;32m     60\u001b[0m                                                \u001b[0mop_name\u001b[0m\u001b[0;34m,\u001b[0m \u001b[0minputs\u001b[0m\u001b[0;34m,\u001b[0m \u001b[0mattrs\u001b[0m\u001b[0;34m,\u001b[0m\u001b[0;34m\u001b[0m\u001b[0;34m\u001b[0m\u001b[0m\n\u001b[0;32m---> 61\u001b[0;31m                                                num_outputs)\n\u001b[0m\u001b[1;32m     62\u001b[0m   \u001b[0;32mexcept\u001b[0m \u001b[0mcore\u001b[0m\u001b[0;34m.\u001b[0m\u001b[0m_NotOkStatusException\u001b[0m \u001b[0;32mas\u001b[0m \u001b[0me\u001b[0m\u001b[0;34m:\u001b[0m\u001b[0;34m\u001b[0m\u001b[0;34m\u001b[0m\u001b[0m\n\u001b[1;32m     63\u001b[0m     \u001b[0;32mif\u001b[0m \u001b[0mname\u001b[0m \u001b[0;32mis\u001b[0m \u001b[0;32mnot\u001b[0m \u001b[0;32mNone\u001b[0m\u001b[0;34m:\u001b[0m\u001b[0;34m\u001b[0m\u001b[0;34m\u001b[0m\u001b[0m\n",
      "\u001b[0;31mKeyboardInterrupt\u001b[0m: "
     ]
    }
   ],
   "source": [
    "model = keras.Sequential([\n",
    "    keras.layers.LSTM(10),\n",
    "    keras.layers.Dense(2, activation='softmax')\n",
    "    \n",
    "])\n",
    "\n",
    "model.compile(optimizer='adam',\n",
    "              loss=tf.keras.losses.SparseCategoricalCrossentropy(from_logits=True),\n",
    "              metrics=['accuracy'])\n",
    "\n",
    "model.fit(Xr_tp, yr_d, epochs=100,\n",
    "         validation_data=(Xe_tp, ye_d))"
   ]
  },
  {
   "cell_type": "code",
   "execution_count": 16,
   "metadata": {},
   "outputs": [],
   "source": [
    "#model.save_weights('./data/Models/1min91acc_010920')"
   ]
  },
  {
   "cell_type": "code",
   "execution_count": 17,
   "metadata": {},
   "outputs": [],
   "source": [
    "#model.save('./data/Models/1min91acc_010920') "
   ]
  },
  {
   "cell_type": "code",
   "execution_count": 18,
   "metadata": {},
   "outputs": [
    {
     "name": "stdout",
     "output_type": "stream",
     "text": [
      "Train on 60000 samples, validate on 60000 samples\n",
      "Epoch 1/20\n",
      "60000/60000 [==============================] - 26s 426us/sample - loss: 0.3747 - accuracy: 0.9351 - val_loss: 0.3595 - val_accuracy: 0.9529\n",
      "Epoch 2/20\n",
      "60000/60000 [==============================] - 21s 353us/sample - loss: 0.3706 - accuracy: 0.9402 - val_loss: 0.3584 - val_accuracy: 0.9543\n",
      "Epoch 3/20\n",
      "60000/60000 [==============================] - 21s 343us/sample - loss: 0.3691 - accuracy: 0.9418 - val_loss: 0.3600 - val_accuracy: 0.9522\n",
      "Epoch 4/20\n",
      "60000/60000 [==============================] - 24s 399us/sample - loss: 0.3678 - accuracy: 0.9439 - val_loss: 0.3625 - val_accuracy: 0.9488\n",
      "Epoch 5/20\n",
      "60000/60000 [==============================] - 20s 335us/sample - loss: 0.3671 - accuracy: 0.9438 - val_loss: 0.3589 - val_accuracy: 0.9533\n",
      "Epoch 6/20\n",
      "60000/60000 [==============================] - 21s 345us/sample - loss: 0.3666 - accuracy: 0.9447 - val_loss: 0.3592 - val_accuracy: 0.9531\n",
      "Epoch 7/20\n",
      "60000/60000 [==============================] - 21s 343us/sample - loss: 0.3662 - accuracy: 0.9452 - val_loss: 0.3620 - val_accuracy: 0.9495\n",
      "Epoch 8/20\n",
      "60000/60000 [==============================] - 21s 345us/sample - loss: 0.3653 - accuracy: 0.9466 - val_loss: 0.3571 - val_accuracy: 0.9555\n",
      "Epoch 9/20\n",
      "60000/60000 [==============================] - 21s 348us/sample - loss: 0.3650 - accuracy: 0.9469 - val_loss: 0.3590 - val_accuracy: 0.9540\n",
      "Epoch 10/20\n",
      "60000/60000 [==============================] - 21s 348us/sample - loss: 0.3648 - accuracy: 0.9474 - val_loss: 0.3576 - val_accuracy: 0.9553\n",
      "Epoch 11/20\n",
      "60000/60000 [==============================] - 23s 382us/sample - loss: 0.3646 - accuracy: 0.9468 - val_loss: 0.3597 - val_accuracy: 0.9525\n",
      "Epoch 12/20\n",
      "60000/60000 [==============================] - 21s 350us/sample - loss: 0.3640 - accuracy: 0.9481 - val_loss: 0.3569 - val_accuracy: 0.9559\n",
      "Epoch 13/20\n",
      "60000/60000 [==============================] - 20s 329us/sample - loss: 0.3638 - accuracy: 0.9484 - val_loss: 0.3563 - val_accuracy: 0.9563\n",
      "Epoch 14/20\n",
      "60000/60000 [==============================] - 20s 332us/sample - loss: 0.3631 - accuracy: 0.9493 - val_loss: 0.3569 - val_accuracy: 0.9560\n",
      "Epoch 15/20\n",
      "60000/60000 [==============================] - 20s 334us/sample - loss: 0.3632 - accuracy: 0.9488 - val_loss: 0.3574 - val_accuracy: 0.9547\n",
      "Epoch 16/20\n",
      "60000/60000 [==============================] - 20s 339us/sample - loss: 0.3629 - accuracy: 0.9492 - val_loss: 0.3573 - val_accuracy: 0.9551\n",
      "Epoch 17/20\n",
      "60000/60000 [==============================] - 21s 346us/sample - loss: 0.3626 - accuracy: 0.9492 - val_loss: 0.3571 - val_accuracy: 0.9552\n",
      "Epoch 18/20\n",
      "60000/60000 [==============================] - 16s 265us/sample - loss: 0.3622 - accuracy: 0.9500 - val_loss: 0.3569 - val_accuracy: 0.9555\n",
      "Epoch 19/20\n",
      "60000/60000 [==============================] - 16s 271us/sample - loss: 0.3618 - accuracy: 0.9505 - val_loss: 0.3582 - val_accuracy: 0.9543\n",
      "Epoch 20/20\n",
      "60000/60000 [==============================] - 17s 283us/sample - loss: 0.3619 - accuracy: 0.9504 - val_loss: 0.3564 - val_accuracy: 0.9562\n"
     ]
    },
    {
     "data": {
      "text/plain": [
       "<tensorflow.python.keras.callbacks.History at 0x7f9050114e10>"
      ]
     },
     "execution_count": 18,
     "metadata": {},
     "output_type": "execute_result"
    }
   ],
   "source": [
    "model.compile(optimizer=tf.keras.optimizers.Adam(learning_rate=0.0001),\n",
    "              loss=tf.keras.losses.SparseCategoricalCrossentropy(from_logits=True),\n",
    "              metrics=['accuracy'])\n",
    "\n",
    "model.fit(Xr_tp, yr_d, epochs=20,\n",
    "         validation_data=(Xe_tp, ye_d))"
   ]
  },
  {
   "cell_type": "code",
   "execution_count": 19,
   "metadata": {},
   "outputs": [
    {
     "name": "stdout",
     "output_type": "stream",
     "text": [
      "Train on 60000 samples, validate on 60000 samples\n",
      "Epoch 1/20\n",
      "60000/60000 [==============================] - 24s 403us/sample - loss: 0.3593 - accuracy: 0.9536 - val_loss: 0.3561 - val_accuracy: 0.9569\n",
      "Epoch 2/20\n",
      "60000/60000 [==============================] - 22s 360us/sample - loss: 0.3591 - accuracy: 0.9542 - val_loss: 0.3566 - val_accuracy: 0.9562\n",
      "Epoch 3/20\n",
      "60000/60000 [==============================] - 21s 346us/sample - loss: 0.3590 - accuracy: 0.9542 - val_loss: 0.3560 - val_accuracy: 0.9571\n",
      "Epoch 4/20\n",
      "60000/60000 [==============================] - 22s 360us/sample - loss: 0.3590 - accuracy: 0.9542 - val_loss: 0.3561 - val_accuracy: 0.9569\n",
      "Epoch 5/20\n",
      "60000/60000 [==============================] - 21s 350us/sample - loss: 0.3589 - accuracy: 0.9542 - val_loss: 0.3562 - val_accuracy: 0.9567\n",
      "Epoch 6/20\n",
      "60000/60000 [==============================] - 20s 333us/sample - loss: 0.3589 - accuracy: 0.9548 - val_loss: 0.3563 - val_accuracy: 0.9567\n",
      "Epoch 7/20\n",
      "60000/60000 [==============================] - 20s 326us/sample - loss: 0.3589 - accuracy: 0.9546 - val_loss: 0.3561 - val_accuracy: 0.9572\n",
      "Epoch 8/20\n",
      "60000/60000 [==============================] - 22s 363us/sample - loss: 0.3588 - accuracy: 0.9546 - val_loss: 0.3561 - val_accuracy: 0.9566\n",
      "Epoch 9/20\n",
      "60000/60000 [==============================] - 20s 327us/sample - loss: 0.3588 - accuracy: 0.9545 - val_loss: 0.3563 - val_accuracy: 0.9566\n",
      "Epoch 10/20\n",
      "60000/60000 [==============================] - 20s 331us/sample - loss: 0.3588 - accuracy: 0.9545 - val_loss: 0.3566 - val_accuracy: 0.9558\n",
      "Epoch 11/20\n",
      "60000/60000 [==============================] - 20s 338us/sample - loss: 0.3587 - accuracy: 0.9547 - val_loss: 0.3562 - val_accuracy: 0.9567\n",
      "Epoch 12/20\n",
      "60000/60000 [==============================] - 21s 343us/sample - loss: 0.3586 - accuracy: 0.9549 - val_loss: 0.3559 - val_accuracy: 0.9570\n",
      "Epoch 13/20\n",
      "60000/60000 [==============================] - 20s 328us/sample - loss: 0.3586 - accuracy: 0.9546 - val_loss: 0.3563 - val_accuracy: 0.9563\n",
      "Epoch 14/20\n",
      "60000/60000 [==============================] - 20s 326us/sample - loss: 0.3586 - accuracy: 0.9549 - val_loss: 0.3565 - val_accuracy: 0.9560\n",
      "Epoch 15/20\n",
      "60000/60000 [==============================] - 20s 328us/sample - loss: 0.3586 - accuracy: 0.9550 - val_loss: 0.3563 - val_accuracy: 0.9564\n",
      "Epoch 16/20\n",
      "60000/60000 [==============================] - 20s 328us/sample - loss: 0.3586 - accuracy: 0.9548 - val_loss: 0.3564 - val_accuracy: 0.9561\n",
      "Epoch 17/20\n",
      "60000/60000 [==============================] - 20s 338us/sample - loss: 0.3586 - accuracy: 0.9549 - val_loss: 0.3560 - val_accuracy: 0.9569\n",
      "Epoch 18/20\n",
      "60000/60000 [==============================] - 20s 338us/sample - loss: 0.3585 - accuracy: 0.9553 - val_loss: 0.3562 - val_accuracy: 0.9567\n",
      "Epoch 19/20\n",
      "60000/60000 [==============================] - 21s 355us/sample - loss: 0.3585 - accuracy: 0.9551 - val_loss: 0.3560 - val_accuracy: 0.9570\n",
      "Epoch 20/20\n",
      "60000/60000 [==============================] - 20s 340us/sample - loss: 0.3584 - accuracy: 0.9553 - val_loss: 0.3562 - val_accuracy: 0.9566\n"
     ]
    },
    {
     "data": {
      "text/plain": [
       "<tensorflow.python.keras.callbacks.History at 0x7f90407dabd0>"
      ]
     },
     "execution_count": 19,
     "metadata": {},
     "output_type": "execute_result"
    }
   ],
   "source": [
    "model.compile(optimizer=tf.keras.optimizers.Adam(learning_rate=0.00001),\n",
    "              loss=tf.keras.losses.SparseCategoricalCrossentropy(from_logits=True),\n",
    "              metrics=['accuracy'])\n",
    "\n",
    "model.fit(Xr_tp, yr_d, epochs=20,\n",
    "         validation_data=(Xe_tp, ye_d))"
   ]
  },
  {
   "cell_type": "code",
   "execution_count": 20,
   "metadata": {},
   "outputs": [
    {
     "name": "stdout",
     "output_type": "stream",
     "text": [
      "Train on 60000 samples, validate on 60000 samples\n",
      "Epoch 1/20\n",
      "60000/60000 [==============================] - 19s 311us/sample - loss: 0.3581 - accuracy: 0.9556 - val_loss: 0.3560 - val_accuracy: 0.9570\n",
      "Epoch 2/20\n",
      "60000/60000 [==============================] - 17s 282us/sample - loss: 0.3581 - accuracy: 0.9556 - val_loss: 0.3560 - val_accuracy: 0.9567\n",
      "Epoch 3/20\n",
      "60000/60000 [==============================] - 18s 295us/sample - loss: 0.3581 - accuracy: 0.9558 - val_loss: 0.3560 - val_accuracy: 0.9568\n",
      "Epoch 4/20\n",
      "60000/60000 [==============================] - 18s 292us/sample - loss: 0.3581 - accuracy: 0.9557 - val_loss: 0.3561 - val_accuracy: 0.9567\n",
      "Epoch 5/20\n",
      "60000/60000 [==============================] - 20s 341us/sample - loss: 0.3581 - accuracy: 0.9557 - val_loss: 0.3560 - val_accuracy: 0.9568\n",
      "Epoch 6/20\n",
      "60000/60000 [==============================] - 22s 372us/sample - loss: 0.3581 - accuracy: 0.9557 - val_loss: 0.3561 - val_accuracy: 0.9568\n",
      "Epoch 7/20\n",
      "60000/60000 [==============================] - 20s 341us/sample - loss: 0.3581 - accuracy: 0.9558 - val_loss: 0.3560 - val_accuracy: 0.9569\n",
      "Epoch 8/20\n",
      "60000/60000 [==============================] - 19s 324us/sample - loss: 0.3581 - accuracy: 0.9557 - val_loss: 0.3560 - val_accuracy: 0.9569\n",
      "Epoch 9/20\n",
      "60000/60000 [==============================] - 20s 325us/sample - loss: 0.3581 - accuracy: 0.9559 - val_loss: 0.3561 - val_accuracy: 0.9568\n",
      "Epoch 10/20\n",
      "60000/60000 [==============================] - 21s 354us/sample - loss: 0.3581 - accuracy: 0.9558 - val_loss: 0.3561 - val_accuracy: 0.9568\n",
      "Epoch 11/20\n",
      "60000/60000 [==============================] - 21s 349us/sample - loss: 0.3581 - accuracy: 0.9558 - val_loss: 0.3560 - val_accuracy: 0.9569\n",
      "Epoch 12/20\n",
      "60000/60000 [==============================] - 19s 318us/sample - loss: 0.3581 - accuracy: 0.9559 - val_loss: 0.3560 - val_accuracy: 0.9569\n",
      "Epoch 13/20\n",
      "60000/60000 [==============================] - 20s 331us/sample - loss: 0.3581 - accuracy: 0.9558 - val_loss: 0.3560 - val_accuracy: 0.9569\n",
      "Epoch 14/20\n",
      "60000/60000 [==============================] - 22s 366us/sample - loss: 0.3581 - accuracy: 0.9557 - val_loss: 0.3561 - val_accuracy: 0.9568\n",
      "Epoch 15/20\n",
      "60000/60000 [==============================] - 20s 332us/sample - loss: 0.3581 - accuracy: 0.9559 - val_loss: 0.3561 - val_accuracy: 0.9567\n",
      "Epoch 16/20\n",
      "60000/60000 [==============================] - 20s 337us/sample - loss: 0.3581 - accuracy: 0.9558 - val_loss: 0.3560 - val_accuracy: 0.9570\n",
      "Epoch 17/20\n",
      "60000/60000 [==============================] - 20s 340us/sample - loss: 0.3581 - accuracy: 0.9557 - val_loss: 0.3560 - val_accuracy: 0.9569\n",
      "Epoch 18/20\n",
      "60000/60000 [==============================] - 22s 366us/sample - loss: 0.3581 - accuracy: 0.9557 - val_loss: 0.3561 - val_accuracy: 0.9567\n",
      "Epoch 19/20\n",
      "60000/60000 [==============================] - 21s 358us/sample - loss: 0.3581 - accuracy: 0.9559 - val_loss: 0.3561 - val_accuracy: 0.9568\n",
      "Epoch 20/20\n",
      "60000/60000 [==============================] - 20s 332us/sample - loss: 0.3581 - accuracy: 0.9558 - val_loss: 0.3561 - val_accuracy: 0.9568\n"
     ]
    },
    {
     "data": {
      "text/plain": [
       "<tensorflow.python.keras.callbacks.History at 0x7f9018def350>"
      ]
     },
     "execution_count": 20,
     "metadata": {},
     "output_type": "execute_result"
    }
   ],
   "source": [
    "model.compile(optimizer=tf.keras.optimizers.Adam(learning_rate=0.000001),\n",
    "              loss=tf.keras.losses.SparseCategoricalCrossentropy(from_logits=True),\n",
    "              metrics=['accuracy'])\n",
    "\n",
    "model.fit(Xr_tp, yr_d, epochs=20,\n",
    "         validation_data=(Xe_tp, ye_d))"
   ]
  },
  {
   "cell_type": "code",
   "execution_count": 21,
   "metadata": {},
   "outputs": [
    {
     "name": "stdout",
     "output_type": "stream",
     "text": [
      "WARNING:tensorflow:From /opt/conda/lib/python3.7/site-packages/tensorflow_core/python/ops/resource_variable_ops.py:1786: calling BaseResourceVariable.__init__ (from tensorflow.python.ops.resource_variable_ops) with constraint is deprecated and will be removed in a future version.\n",
      "Instructions for updating:\n",
      "If using Keras pass *_constraint arguments to layers.\n",
      "INFO:tensorflow:Assets written to: ./data/Models/1min95acc_030920/assets\n"
     ]
    }
   ],
   "source": [
    "model.save('./data/Models/1min95acc_030920') "
   ]
  },
  {
   "cell_type": "code",
   "execution_count": 36,
   "metadata": {},
   "outputs": [],
   "source": [
    "model.save_weights('./data/Models/1min95acc_030920_weights')"
   ]
  },
  {
   "cell_type": "code",
   "execution_count": 35,
   "metadata": {},
   "outputs": [
    {
     "name": "stdout",
     "output_type": "stream",
     "text": [
      "Model: \"sequential\"\n",
      "_________________________________________________________________\n",
      "Layer (type)                 Output Shape              Param #   \n",
      "=================================================================\n",
      "lstm (LSTM)                  multiple                  5080      \n",
      "_________________________________________________________________\n",
      "dense (Dense)                multiple                  22        \n",
      "=================================================================\n",
      "Total params: 5,102\n",
      "Trainable params: 5,102\n",
      "Non-trainable params: 0\n",
      "_________________________________________________________________\n"
     ]
    }
   ],
   "source": [
    "model.summary()"
   ]
  },
  {
   "cell_type": "code",
   "execution_count": 38,
   "metadata": {},
   "outputs": [],
   "source": [
    "model = keras.models.load_model('./data/Models/1min95acc_030920')"
   ]
  },
  {
   "cell_type": "code",
   "execution_count": 39,
   "metadata": {},
   "outputs": [],
   "source": [
    "preds = model.predict(Xr_tp)\n",
    "y_preds = np.argmax(preds, axis=1)\n",
    "\n",
    "y_true = yr_d.reshape(60000)"
   ]
  },
  {
   "cell_type": "code",
   "execution_count": 40,
   "metadata": {},
   "outputs": [
    {
     "data": {
      "text/plain": [
       "0.95575"
      ]
     },
     "execution_count": 40,
     "metadata": {},
     "output_type": "execute_result"
    }
   ],
   "source": [
    "from sklearn.metrics import accuracy_score\n",
    "\n",
    "accuracy_score(y_true, y_preds)"
   ]
  },
  {
   "cell_type": "code",
   "execution_count": 41,
   "metadata": {},
   "outputs": [
    {
     "data": {
      "text/plain": [
       "0.9567666666666667"
      ]
     },
     "execution_count": 41,
     "metadata": {},
     "output_type": "execute_result"
    }
   ],
   "source": [
    "preds = model.predict(Xe_tp)\n",
    "y_preds = np.argmax(preds, axis=1)\n",
    "\n",
    "y_true = ye_d.reshape(60000)\n",
    "\n",
    "accuracy_score(y_true, y_preds)"
   ]
  },
  {
   "cell_type": "code",
   "execution_count": 42,
   "metadata": {},
   "outputs": [
    {
     "data": {
      "text/plain": [
       "(60000, 10, 116)"
      ]
     },
     "execution_count": 42,
     "metadata": {},
     "output_type": "execute_result"
    }
   ],
   "source": [
    "Xr_tp.shape"
   ]
  },
  {
   "cell_type": "code",
   "execution_count": null,
   "metadata": {},
   "outputs": [],
   "source": []
  }
 ],
 "metadata": {
  "kernelspec": {
   "display_name": "Python 3",
   "language": "python",
   "name": "python3"
  },
  "language_info": {
   "codemirror_mode": {
    "name": "ipython",
    "version": 3
   },
   "file_extension": ".py",
   "mimetype": "text/x-python",
   "name": "python",
   "nbconvert_exporter": "python",
   "pygments_lexer": "ipython3",
   "version": "3.7.6"
  }
 },
 "nbformat": 4,
 "nbformat_minor": 4
}
