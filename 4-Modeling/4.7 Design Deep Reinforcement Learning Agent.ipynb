{
  "nbformat": 4,
  "nbformat_minor": 0,
  "metadata": {
    "kernelspec": {
      "display_name": "Python 3",
      "language": "python",
      "name": "python3"
    },
    "language_info": {
      "codemirror_mode": {
        "name": "ipython",
        "version": 3
      },
      "file_extension": ".py",
      "mimetype": "text/x-python",
      "name": "python",
      "nbconvert_exporter": "python",
      "pygments_lexer": "ipython3",
      "version": "3.7.6"
    },
    "colab": {
      "name": "4.7 Design Deep Reinforcement Learning Agent.ipynb",
      "provenance": [],
      "toc_visible": true
    }
  },
  "cells": [
    {
      "cell_type": "markdown",
      "metadata": {
        "id": "hm6b5yaR6OH-",
        "colab_type": "text"
      },
      "source": [
        "# 4.7 Design Deep Reinforcement Learning Agent\n",
        "## Data Considerations \n",
        "\n",
        "In this notebook we will implement some of the considerations necessary to train this model on larger datasets in the scope of > gb. \n",
        "\n",
        "In order to do so, we will take the following steps:\n",
        "\n",
        "1) Save datasets as TFDatasets   \n",
        "2) Implement iteration on the TFDataset as most models prefer. This is important for distributed learning.   \n",
        "3) Checkpoint and save models accordingly so they can be loaded again.  \n",
        "4) Predict on evaluation data.  "
      ]
    },
    {
      "cell_type": "markdown",
      "metadata": {
        "id": "J1kAIK7f6OIA",
        "colab_type": "text"
      },
      "source": [
        "#### Download datasets for all the stocks in the S&P 500."
      ]
    },
    {
      "cell_type": "code",
      "metadata": {
        "id": "u1xW-_jbiS1v",
        "colab_type": "code",
        "colab": {}
      },
      "source": [
        "from IPython import display\n",
        "!pip install gcsfs\n",
        "!pip install tf-agents[reverb]\n",
        "display.clear_output()"
      ],
      "execution_count": 3,
      "outputs": []
    },
    {
      "cell_type": "code",
      "metadata": {
        "id": "eZ_5JnXK1vQk",
        "colab_type": "code",
        "colab": {}
      },
      "source": [
        "from google.colab import drive\n",
        "from google.cloud import storage\n",
        "import pandas as pd\n",
        "import time\n",
        "import pandas as pd \n",
        "import matplotlib.pyplot as plt\n",
        "from __future__ import absolute_import, division, print_function\n",
        "\n",
        "import abc\n",
        "import tensorflow as tf\n",
        "import numpy as np\n",
        "import base64\n",
        "import IPython\n",
        "import matplotlib.pyplot as plt\n",
        "import numpy as np\n",
        "import os\n",
        "import tempfile\n",
        "\n",
        "from tf_agents.environments import py_environment\n",
        "from tf_agents.environments import tf_environment\n",
        "from tf_agents.environments import tf_py_environment\n",
        "from tf_agents.environments import utils\n",
        "from tf_agents.specs import array_spec\n",
        "from tf_agents.environments import wrappers\n",
        "from tf_agents.trajectories import time_step as ts\n",
        "from tf_agents.agents.dqn import dqn_agent\n",
        "from tf_agents.drivers import dynamic_step_driver\n",
        "from tf_agents.eval import metric_utils\n",
        "from tf_agents.metrics import tf_metrics\n",
        "from tf_agents.networks import q_network\n",
        "from tf_agents.policies import random_tf_policy\n",
        "from tf_agents.replay_buffers import tf_uniform_replay_buffer\n",
        "from tf_agents.trajectories import trajectory\n",
        "from tf_agents.utils import common\n",
        "\n",
        "from tf_agents.agents.ddpg import critic_network\n",
        "from tf_agents.agents.sac import sac_agent\n",
        "from tf_agents.agents.sac import tanh_normal_projection_network\n",
        "from tf_agents.experimental.train import actor\n",
        "from tf_agents.experimental.train import learner\n",
        "from tf_agents.experimental.train import triggers\n",
        "from tf_agents.experimental.train.utils import spec_utils\n",
        "from tf_agents.experimental.train.utils import strategy_utils\n",
        "from tf_agents.experimental.train.utils import train_utils\n",
        "from tf_agents.metrics import py_metrics\n",
        "from tf_agents.networks import actor_distribution_network\n",
        "from tf_agents.policies import greedy_policy\n",
        "from tf_agents.policies import py_tf_eager_policy\n",
        "from tf_agents.policies import random_py_policy\n",
        "from tf_agents.replay_buffers import reverb_replay_buffer\n",
        "from tf_agents.replay_buffers import reverb_utils\n",
        "import reverb\n",
        "\n",
        "tf.compat.v1.enable_v2_behavior()"
      ],
      "execution_count": 4,
      "outputs": []
    },
    {
      "cell_type": "code",
      "metadata": {
        "id": "zs_lLrRTasCG",
        "colab_type": "code",
        "colab": {}
      },
      "source": [
        "# drive.mount('/content/drive')\n",
        "\n",
        "# os.environ['GOOGLE_APPLICATION_CREDENTIALS'] = \"/content/drive/My Drive/fin-aml/fin-aml-gcskeys-337dfd8d8867.json\"\n",
        "\n",
        "# storage_client = storage.Client()\n",
        "# display.clear_output()"
      ],
      "execution_count": 10,
      "outputs": []
    },
    {
      "cell_type": "code",
      "metadata": {
        "id": "2GhPWMKn1vQu",
        "colab_type": "code",
        "colab": {}
      },
      "source": [
        "pd.set_option('display.max_rows', 100)\n",
        "pd.set_option('display.max_columns', 100)\n",
        "\n",
        "tempdir = tempfile.gettempdir()"
      ],
      "execution_count": 11,
      "outputs": []
    },
    {
      "cell_type": "code",
      "metadata": {
        "id": "eQTvbiXI65JW",
        "colab_type": "code",
        "colab": {}
      },
      "source": [
        "# df = pd.read_csv('gs://fin-datasets-aml/data/sp500/spdfm.csv')\n",
        "# df.set_index('datetime', inplace=True)\n",
        "# df.head()"
      ],
      "execution_count": 12,
      "outputs": []
    },
    {
      "cell_type": "code",
      "metadata": {
        "id": "UVPJeAq3Fv59",
        "colab_type": "code",
        "colab": {
          "base_uri": "https://localhost:8080/",
          "height": 33
        },
        "outputId": "7d84e703-68e1-4231-b037-4d1e3ae79e82"
      },
      "source": [
        "# create toy data to test whether the model works\n",
        "# 311 time steps of a sine wave, X = 0:310, y = 311\n",
        "# linspace 0 311 as columns\n",
        "# rows of different unique waves in A, B, C, D\n",
        "# maybe something like 5000 rows to start with\n",
        "import numpy as np\n",
        "feature_space = np.linspace(0, 311, 311).reshape(1, 311)\n",
        "\n",
        "A = np.random.normal(0, .1, size=5000).reshape(5000,1)\n",
        "B = np.random.normal(0, .1, size=5000).reshape(5000, 1)\n",
        "C = np.random.normal(0, 3, size=5000).reshape(5000, 1)\n",
        "D = np.random.normal(0, 100, size=5000).reshape(5000, 1)\n",
        "\n",
        "\n",
        "Xy = np.sin(np.matmul(C, feature_space)*(2*np.pi) - D) * A + B\n",
        "# X = np.matmul(, A) + B\n",
        "# X.shape\n",
        "Xy.shape"
      ],
      "execution_count": 13,
      "outputs": [
        {
          "output_type": "execute_result",
          "data": {
            "text/plain": [
              "(5000, 311)"
            ]
          },
          "metadata": {
            "tags": []
          },
          "execution_count": 13
        }
      ]
    },
    {
      "cell_type": "code",
      "metadata": {
        "id": "IFOZL-WuUti2",
        "colab_type": "code",
        "colab": {
          "base_uri": "https://localhost:8080/",
          "height": 267
        },
        "outputId": "37ea4547-9af9-4c4a-b763-77a964fbdcb6"
      },
      "source": [
        "import matplotlib.pyplot as plt\n",
        "\n",
        "plt.plot(Xy[3]);"
      ],
      "execution_count": 14,
      "outputs": [
        {
          "output_type": "display_data",
          "data": {
            "image/png": "[encoded data removed]",
            "text/plain": [
              "<Figure size 432x288 with 1 Axes>"
            ]
          },
          "metadata": {
            "tags": [],
            "needs_background": "light"
          }
        }
      ]
    },
    {
      "cell_type": "code",
      "metadata": {
        "id": "uK98aSZKN_Ss",
        "colab_type": "code",
        "colab": {
          "base_uri": "https://localhost:8080/",
          "height": 238
        },
        "outputId": "97d8dbf3-e26e-4250-e3c6-65a564398349"
      },
      "source": [
        "import pandas as pd \n",
        "\n",
        "Xdf = pd.DataFrame(Xy)\n",
        "Xdf.head()"
      ],
      "execution_count": 15,
      "outputs": [
        {
          "output_type": "execute_result",
          "data": {
            "text/html": [
              "<div>\n",
              "<style scoped>\n",
              "    .dataframe tbody tr th:only-of-type {\n",
              "        vertical-align: middle;\n",
              "    }\n",
              "\n",
              "    .dataframe tbody tr th {\n",
              "        vertical-align: top;\n",
              "    }\n",
              "\n",
              "    .dataframe thead th {\n",
              "        text-align: right;\n",
              "    }\n",
              "</style>\n",
              "<table border=\"1\" class=\"dataframe\">\n",
              "  <thead>\n",
              "    <tr style=\"text-align: right;\">\n",
              "      <th></th>\n",
              "      <th>0</th>\n",
              "      <th>1</th>\n",
              "      <th>2</th>\n",
              "      <th>3</th>\n",
              "      <th>4</th>\n",
              "      <th>5</th>\n",
              "      <th>6</th>\n",
              "      <th>7</th>\n",
              "      <th>8</th>\n",
              "      <th>9</th>\n",
              "      <th>10</th>\n",
              "      <th>11</th>\n",
              "      <th>12</th>\n",
              "      <th>13</th>\n",
              "      <th>14</th>\n",
              "      <th>15</th>\n",
              "      <th>16</th>\n",
              "      <th>17</th>\n",
              "      <th>18</th>\n",
              "      <th>19</th>\n",
              "      <th>20</th>\n",
              "      <th>21</th>\n",
              "      <th>22</th>\n",
              "      <th>23</th>\n",
              "      <th>24</th>\n",
              "      <th>25</th>\n",
              "      <th>26</th>\n",
              "      <th>27</th>\n",
              "      <th>28</th>\n",
              "      <th>29</th>\n",
              "      <th>30</th>\n",
              "      <th>31</th>\n",
              "      <th>32</th>\n",
              "      <th>33</th>\n",
              "      <th>34</th>\n",
              "      <th>35</th>\n",
              "      <th>36</th>\n",
              "      <th>37</th>\n",
              "      <th>38</th>\n",
              "      <th>39</th>\n",
              "      <th>40</th>\n",
              "      <th>41</th>\n",
              "      <th>42</th>\n",
              "      <th>43</th>\n",
              "      <th>44</th>\n",
              "      <th>45</th>\n",
              "      <th>46</th>\n",
              "      <th>47</th>\n",
              "      <th>48</th>\n",
              "      <th>49</th>\n",
              "      <th>...</th>\n",
              "      <th>261</th>\n",
              "      <th>262</th>\n",
              "      <th>263</th>\n",
              "      <th>264</th>\n",
              "      <th>265</th>\n",
              "      <th>266</th>\n",
              "      <th>267</th>\n",
              "      <th>268</th>\n",
              "      <th>269</th>\n",
              "      <th>270</th>\n",
              "      <th>271</th>\n",
              "      <th>272</th>\n",
              "      <th>273</th>\n",
              "      <th>274</th>\n",
              "      <th>275</th>\n",
              "      <th>276</th>\n",
              "      <th>277</th>\n",
              "      <th>278</th>\n",
              "      <th>279</th>\n",
              "      <th>280</th>\n",
              "      <th>281</th>\n",
              "      <th>282</th>\n",
              "      <th>283</th>\n",
              "      <th>284</th>\n",
              "      <th>285</th>\n",
              "      <th>286</th>\n",
              "      <th>287</th>\n",
              "      <th>288</th>\n",
              "      <th>289</th>\n",
              "      <th>290</th>\n",
              "      <th>291</th>\n",
              "      <th>292</th>\n",
              "      <th>293</th>\n",
              "      <th>294</th>\n",
              "      <th>295</th>\n",
              "      <th>296</th>\n",
              "      <th>297</th>\n",
              "      <th>298</th>\n",
              "      <th>299</th>\n",
              "      <th>300</th>\n",
              "      <th>301</th>\n",
              "      <th>302</th>\n",
              "      <th>303</th>\n",
              "      <th>304</th>\n",
              "      <th>305</th>\n",
              "      <th>306</th>\n",
              "      <th>307</th>\n",
              "      <th>308</th>\n",
              "      <th>309</th>\n",
              "      <th>310</th>\n",
              "    </tr>\n",
              "  </thead>\n",
              "  <tbody>\n",
              "    <tr>\n",
              "      <th>0</th>\n",
              "      <td>-0.022668</td>\n",
              "      <td>-0.082719</td>\n",
              "      <td>0.003856</td>\n",
              "      <td>0.018789</td>\n",
              "      <td>-0.075568</td>\n",
              "      <td>-0.041327</td>\n",
              "      <td>0.035185</td>\n",
              "      <td>-0.038930</td>\n",
              "      <td>-0.076817</td>\n",
              "      <td>0.017043</td>\n",
              "      <td>0.006015</td>\n",
              "      <td>-0.082098</td>\n",
              "      <td>-0.025150</td>\n",
              "      <td>0.033285</td>\n",
              "      <td>-0.054117</td>\n",
              "      <td>-0.067002</td>\n",
              "      <td>0.027114</td>\n",
              "      <td>-0.009049</td>\n",
              "      <td>-0.084319</td>\n",
              "      <td>-0.008929</td>\n",
              "      <td>0.027052</td>\n",
              "      <td>-0.067090</td>\n",
              "      <td>-0.054009</td>\n",
              "      <td>0.033316</td>\n",
              "      <td>-0.025274</td>\n",
              "      <td>-0.082065</td>\n",
              "      <td>0.006122</td>\n",
              "      <td>0.016954</td>\n",
              "      <td>-0.076878</td>\n",
              "      <td>-0.038810</td>\n",
              "      <td>0.035183</td>\n",
              "      <td>-0.041446</td>\n",
              "      <td>-0.075503</td>\n",
              "      <td>0.018874</td>\n",
              "      <td>0.003746</td>\n",
              "      <td>-0.082747</td>\n",
              "      <td>-0.022543</td>\n",
              "      <td>0.032575</td>\n",
              "      <td>-0.056354</td>\n",
              "      <td>-0.065127</td>\n",
              "      <td>0.028374</td>\n",
              "      <td>-0.011581</td>\n",
              "      <td>-0.084260</td>\n",
              "      <td>-0.006428</td>\n",
              "      <td>0.025689</td>\n",
              "      <td>-0.068880</td>\n",
              "      <td>-0.051713</td>\n",
              "      <td>0.033910</td>\n",
              "      <td>-0.027880</td>\n",
              "      <td>-0.081301</td>\n",
              "      <td>...</td>\n",
              "      <td>-0.080845</td>\n",
              "      <td>-0.029279</td>\n",
              "      <td>0.034183</td>\n",
              "      <td>-0.050456</td>\n",
              "      <td>-0.069808</td>\n",
              "      <td>0.024916</td>\n",
              "      <td>-0.005097</td>\n",
              "      <td>-0.084181</td>\n",
              "      <td>-0.012953</td>\n",
              "      <td>0.029010</td>\n",
              "      <td>-0.064087</td>\n",
              "      <td>-0.057532</td>\n",
              "      <td>0.032149</td>\n",
              "      <td>-0.021143</td>\n",
              "      <td>-0.083051</td>\n",
              "      <td>0.002504</td>\n",
              "      <td>0.019825</td>\n",
              "      <td>-0.074756</td>\n",
              "      <td>-0.042787</td>\n",
              "      <td>0.035134</td>\n",
              "      <td>-0.037444</td>\n",
              "      <td>-0.077541</td>\n",
              "      <td>0.015934</td>\n",
              "      <td>0.007316</td>\n",
              "      <td>-0.081667</td>\n",
              "      <td>-0.026676</td>\n",
              "      <td>0.033649</td>\n",
              "      <td>-0.052780</td>\n",
              "      <td>-0.068063</td>\n",
              "      <td>0.026331</td>\n",
              "      <td>-0.007580</td>\n",
              "      <td>-0.084301</td>\n",
              "      <td>-0.010407</td>\n",
              "      <td>0.027804</td>\n",
              "      <td>-0.066004</td>\n",
              "      <td>-0.055327</td>\n",
              "      <td>0.032917</td>\n",
              "      <td>-0.023748</td>\n",
              "      <td>-0.082461</td>\n",
              "      <td>0.004802</td>\n",
              "      <td>0.018038</td>\n",
              "      <td>-0.076123</td>\n",
              "      <td>-0.040287</td>\n",
              "      <td>0.035198</td>\n",
              "      <td>-0.039977</td>\n",
              "      <td>-0.076285</td>\n",
              "      <td>0.017812</td>\n",
              "      <td>0.005082</td>\n",
              "      <td>-0.082381</td>\n",
              "      <td>-0.024070</td>\n",
              "    </tr>\n",
              "    <tr>\n",
              "      <th>1</th>\n",
              "      <td>-0.321897</td>\n",
              "      <td>-0.322885</td>\n",
              "      <td>-0.319117</td>\n",
              "      <td>-0.310858</td>\n",
              "      <td>-0.298696</td>\n",
              "      <td>-0.283494</td>\n",
              "      <td>-0.266332</td>\n",
              "      <td>-0.248428</td>\n",
              "      <td>-0.231054</td>\n",
              "      <td>-0.215442</td>\n",
              "      <td>-0.202703</td>\n",
              "      <td>-0.193740</td>\n",
              "      <td>-0.189190</td>\n",
              "      <td>-0.189376</td>\n",
              "      <td>-0.194284</td>\n",
              "      <td>-0.203567</td>\n",
              "      <td>-0.216565</td>\n",
              "      <td>-0.232355</td>\n",
              "      <td>-0.249816</td>\n",
              "      <td>-0.267708</td>\n",
              "      <td>-0.284760</td>\n",
              "      <td>-0.299762</td>\n",
              "      <td>-0.311649</td>\n",
              "      <td>-0.319576</td>\n",
              "      <td>-0.322980</td>\n",
              "      <td>-0.321621</td>\n",
              "      <td>-0.315593</td>\n",
              "      <td>-0.305326</td>\n",
              "      <td>-0.291549</td>\n",
              "      <td>-0.275239</td>\n",
              "      <td>-0.257555</td>\n",
              "      <td>-0.239752</td>\n",
              "      <td>-0.223095</td>\n",
              "      <td>-0.208766</td>\n",
              "      <td>-0.197784</td>\n",
              "      <td>-0.190927</td>\n",
              "      <td>-0.188682</td>\n",
              "      <td>-0.191210</td>\n",
              "      <td>-0.198330</td>\n",
              "      <td>-0.209537</td>\n",
              "      <td>-0.224035</td>\n",
              "      <td>-0.240795</td>\n",
              "      <td>-0.258627</td>\n",
              "      <td>-0.276263</td>\n",
              "      <td>-0.292453</td>\n",
              "      <td>-0.306046</td>\n",
              "      <td>-0.316078</td>\n",
              "      <td>-0.321835</td>\n",
              "      <td>-0.322910</td>\n",
              "      <td>-0.319225</td>\n",
              "      <td>...</td>\n",
              "      <td>-0.316316</td>\n",
              "      <td>-0.306403</td>\n",
              "      <td>-0.292904</td>\n",
              "      <td>-0.276776</td>\n",
              "      <td>-0.259164</td>\n",
              "      <td>-0.241320</td>\n",
              "      <td>-0.224510</td>\n",
              "      <td>-0.209929</td>\n",
              "      <td>-0.198610</td>\n",
              "      <td>-0.191358</td>\n",
              "      <td>-0.188689</td>\n",
              "      <td>-0.190791</td>\n",
              "      <td>-0.197515</td>\n",
              "      <td>-0.208384</td>\n",
              "      <td>-0.222626</td>\n",
              "      <td>-0.239230</td>\n",
              "      <td>-0.257016</td>\n",
              "      <td>-0.274722</td>\n",
              "      <td>-0.291091</td>\n",
              "      <td>-0.304960</td>\n",
              "      <td>-0.315344</td>\n",
              "      <td>-0.321506</td>\n",
              "      <td>-0.323009</td>\n",
              "      <td>-0.319746</td>\n",
              "      <td>-0.311947</td>\n",
              "      <td>-0.300169</td>\n",
              "      <td>-0.285245</td>\n",
              "      <td>-0.268237</td>\n",
              "      <td>-0.250352</td>\n",
              "      <td>-0.232860</td>\n",
              "      <td>-0.217003</td>\n",
              "      <td>-0.203907</td>\n",
              "      <td>-0.194502</td>\n",
              "      <td>-0.189455</td>\n",
              "      <td>-0.189126</td>\n",
              "      <td>-0.193537</td>\n",
              "      <td>-0.202376</td>\n",
              "      <td>-0.215014</td>\n",
              "      <td>-0.230554</td>\n",
              "      <td>-0.247893</td>\n",
              "      <td>-0.265800</td>\n",
              "      <td>-0.283003</td>\n",
              "      <td>-0.298280</td>\n",
              "      <td>-0.310547</td>\n",
              "      <td>-0.318932</td>\n",
              "      <td>-0.322841</td>\n",
              "      <td>-0.321996</td>\n",
              "      <td>-0.316456</td>\n",
              "      <td>-0.306615</td>\n",
              "      <td>-0.293172</td>\n",
              "    </tr>\n",
              "    <tr>\n",
              "      <th>2</th>\n",
              "      <td>0.002131</td>\n",
              "      <td>-0.002983</td>\n",
              "      <td>-0.001442</td>\n",
              "      <td>0.003385</td>\n",
              "      <td>0.000944</td>\n",
              "      <td>-0.003428</td>\n",
              "      <td>-0.000172</td>\n",
              "      <td>0.003593</td>\n",
              "      <td>-0.000365</td>\n",
              "      <td>-0.003392</td>\n",
              "      <td>0.001129</td>\n",
              "      <td>0.003314</td>\n",
              "      <td>-0.001615</td>\n",
              "      <td>-0.002881</td>\n",
              "      <td>0.002284</td>\n",
              "      <td>0.002588</td>\n",
              "      <td>-0.002634</td>\n",
              "      <td>-0.001964</td>\n",
              "      <td>0.003133</td>\n",
              "      <td>0.001513</td>\n",
              "      <td>-0.003282</td>\n",
              "      <td>-0.000769</td>\n",
              "      <td>0.003558</td>\n",
              "      <td>0.000238</td>\n",
              "      <td>-0.003470</td>\n",
              "      <td>0.000541</td>\n",
              "      <td>0.003501</td>\n",
              "      <td>-0.001061</td>\n",
              "      <td>-0.003171</td>\n",
              "      <td>0.001785</td>\n",
              "      <td>0.002971</td>\n",
              "      <td>-0.002206</td>\n",
              "      <td>-0.002427</td>\n",
              "      <td>0.002791</td>\n",
              "      <td>0.002039</td>\n",
              "      <td>-0.003039</td>\n",
              "      <td>-0.001341</td>\n",
              "      <td>0.003421</td>\n",
              "      <td>0.000835</td>\n",
              "      <td>-0.003444</td>\n",
              "      <td>-0.000061</td>\n",
              "      <td>0.003588</td>\n",
              "      <td>-0.000475</td>\n",
              "      <td>-0.003367</td>\n",
              "      <td>0.001235</td>\n",
              "      <td>0.003269</td>\n",
              "      <td>-0.001712</td>\n",
              "      <td>-0.002818</td>\n",
              "      <td>0.002370</td>\n",
              "      <td>0.002508</td>\n",
              "      <td>...</td>\n",
              "      <td>-0.000540</td>\n",
              "      <td>-0.003350</td>\n",
              "      <td>0.001297</td>\n",
              "      <td>0.003241</td>\n",
              "      <td>-0.001769</td>\n",
              "      <td>-0.002779</td>\n",
              "      <td>0.002419</td>\n",
              "      <td>0.002460</td>\n",
              "      <td>-0.002745</td>\n",
              "      <td>-0.001816</td>\n",
              "      <td>0.003216</td>\n",
              "      <td>0.001349</td>\n",
              "      <td>-0.003335</td>\n",
              "      <td>-0.000595</td>\n",
              "      <td>0.003579</td>\n",
              "      <td>0.000061</td>\n",
              "      <td>-0.003458</td>\n",
              "      <td>0.000716</td>\n",
              "      <td>0.003457</td>\n",
              "      <td>-0.001228</td>\n",
              "      <td>-0.003095</td>\n",
              "      <td>0.001937</td>\n",
              "      <td>0.002867</td>\n",
              "      <td>-0.002339</td>\n",
              "      <td>-0.002298</td>\n",
              "      <td>0.002900</td>\n",
              "      <td>0.001890</td>\n",
              "      <td>-0.003120</td>\n",
              "      <td>-0.001176</td>\n",
              "      <td>0.003472</td>\n",
              "      <td>0.000661</td>\n",
              "      <td>-0.003462</td>\n",
              "      <td>0.000116</td>\n",
              "      <td>0.003573</td>\n",
              "      <td>-0.000650</td>\n",
              "      <td>-0.003320</td>\n",
              "      <td>0.001401</td>\n",
              "      <td>0.003191</td>\n",
              "      <td>-0.001863</td>\n",
              "      <td>-0.002711</td>\n",
              "      <td>0.002501</td>\n",
              "      <td>0.002377</td>\n",
              "      <td>-0.002812</td>\n",
              "      <td>-0.001721</td>\n",
              "      <td>0.003265</td>\n",
              "      <td>0.001245</td>\n",
              "      <td>-0.003364</td>\n",
              "      <td>-0.000485</td>\n",
              "      <td>0.003587</td>\n",
              "      <td>-0.000051</td>\n",
              "    </tr>\n",
              "    <tr>\n",
              "      <th>3</th>\n",
              "      <td>0.053352</td>\n",
              "      <td>0.027877</td>\n",
              "      <td>0.004184</td>\n",
              "      <td>0.055269</td>\n",
              "      <td>0.023742</td>\n",
              "      <td>0.006736</td>\n",
              "      <td>0.056646</td>\n",
              "      <td>0.019702</td>\n",
              "      <td>0.009726</td>\n",
              "      <td>0.057453</td>\n",
              "      <td>0.015839</td>\n",
              "      <td>0.013094</td>\n",
              "      <td>0.057676</td>\n",
              "      <td>0.012231</td>\n",
              "      <td>0.016773</td>\n",
              "      <td>0.057308</td>\n",
              "      <td>0.008950</td>\n",
              "      <td>0.020687</td>\n",
              "      <td>0.056358</td>\n",
              "      <td>0.006063</td>\n",
              "      <td>0.024758</td>\n",
              "      <td>0.054845</td>\n",
              "      <td>0.003627</td>\n",
              "      <td>0.028903</td>\n",
              "      <td>0.052799</td>\n",
              "      <td>0.001693</td>\n",
              "      <td>0.033040</td>\n",
              "      <td>0.050262</td>\n",
              "      <td>0.000299</td>\n",
              "      <td>0.037084</td>\n",
              "      <td>0.047284</td>\n",
              "      <td>-0.000526</td>\n",
              "      <td>0.040954</td>\n",
              "      <td>0.043927</td>\n",
              "      <td>-0.000767</td>\n",
              "      <td>0.044571</td>\n",
              "      <td>0.040257</td>\n",
              "      <td>-0.000418</td>\n",
              "      <td>0.047864</td>\n",
              "      <td>0.036349</td>\n",
              "      <td>0.000514</td>\n",
              "      <td>0.050764</td>\n",
              "      <td>0.032282</td>\n",
              "      <td>0.002010</td>\n",
              "      <td>0.053214</td>\n",
              "      <td>0.028137</td>\n",
              "      <td>0.004040</td>\n",
              "      <td>0.055165</td>\n",
              "      <td>0.023999</td>\n",
              "      <td>0.006563</td>\n",
              "      <td>...</td>\n",
              "      <td>0.049902</td>\n",
              "      <td>0.033567</td>\n",
              "      <td>0.001483</td>\n",
              "      <td>0.052499</td>\n",
              "      <td>0.029438</td>\n",
              "      <td>0.003350</td>\n",
              "      <td>0.054611</td>\n",
              "      <td>0.025288</td>\n",
              "      <td>0.005723</td>\n",
              "      <td>0.056194</td>\n",
              "      <td>0.021203</td>\n",
              "      <td>0.008555</td>\n",
              "      <td>0.057218</td>\n",
              "      <td>0.017264</td>\n",
              "      <td>0.011789</td>\n",
              "      <td>0.057661</td>\n",
              "      <td>0.013551</td>\n",
              "      <td>0.015359</td>\n",
              "      <td>0.057515</td>\n",
              "      <td>0.010139</td>\n",
              "      <td>0.019194</td>\n",
              "      <td>0.056782</td>\n",
              "      <td>0.007097</td>\n",
              "      <td>0.023216</td>\n",
              "      <td>0.055477</td>\n",
              "      <td>0.004486</td>\n",
              "      <td>0.027343</td>\n",
              "      <td>0.053627</td>\n",
              "      <td>0.002358</td>\n",
              "      <td>0.031493</td>\n",
              "      <td>0.051269</td>\n",
              "      <td>0.000757</td>\n",
              "      <td>0.035581</td>\n",
              "      <td>0.048450</td>\n",
              "      <td>-0.000284</td>\n",
              "      <td>0.039526</td>\n",
              "      <td>0.045228</td>\n",
              "      <td>-0.000746</td>\n",
              "      <td>0.043247</td>\n",
              "      <td>0.041667</td>\n",
              "      <td>-0.000618</td>\n",
              "      <td>0.046670</td>\n",
              "      <td>0.037840</td>\n",
              "      <td>0.000097</td>\n",
              "      <td>0.049725</td>\n",
              "      <td>0.033823</td>\n",
              "      <td>0.001384</td>\n",
              "      <td>0.052350</td>\n",
              "      <td>0.029698</td>\n",
              "      <td>0.003217</td>\n",
              "    </tr>\n",
              "    <tr>\n",
              "      <th>4</th>\n",
              "      <td>-0.053973</td>\n",
              "      <td>-0.202946</td>\n",
              "      <td>-0.024247</td>\n",
              "      <td>0.068082</td>\n",
              "      <td>-0.139884</td>\n",
              "      <td>-0.166291</td>\n",
              "      <td>0.050046</td>\n",
              "      <td>0.007877</td>\n",
              "      <td>-0.195093</td>\n",
              "      <td>-0.088586</td>\n",
              "      <td>0.080623</td>\n",
              "      <td>-0.079520</td>\n",
              "      <td>-0.197966</td>\n",
              "      <td>-0.000278</td>\n",
              "      <td>0.055504</td>\n",
              "      <td>-0.159866</td>\n",
              "      <td>-0.147379</td>\n",
              "      <td>0.064033</td>\n",
              "      <td>-0.015468</td>\n",
              "      <td>-0.201680</td>\n",
              "      <td>-0.063152</td>\n",
              "      <td>0.079148</td>\n",
              "      <td>-0.104486</td>\n",
              "      <td>-0.188578</td>\n",
              "      <td>0.021712</td>\n",
              "      <td>0.039146</td>\n",
              "      <td>-0.176671</td>\n",
              "      <td>-0.125694</td>\n",
              "      <td>0.073964</td>\n",
              "      <td>-0.040302</td>\n",
              "      <td>-0.203739</td>\n",
              "      <td>-0.037666</td>\n",
              "      <td>0.073128</td>\n",
              "      <td>-0.128064</td>\n",
              "      <td>-0.175084</td>\n",
              "      <td>0.041013</td>\n",
              "      <td>0.019534</td>\n",
              "      <td>-0.189755</td>\n",
              "      <td>-0.101934</td>\n",
              "      <td>0.079516</td>\n",
              "      <td>-0.065821</td>\n",
              "      <td>-0.201202</td>\n",
              "      <td>-0.012951</td>\n",
              "      <td>0.062758</td>\n",
              "      <td>-0.149492</td>\n",
              "      <td>-0.157921</td>\n",
              "      <td>0.057000</td>\n",
              "      <td>-0.002697</td>\n",
              "      <td>-0.198695</td>\n",
              "      <td>-0.076869</td>\n",
              "      <td>...</td>\n",
              "      <td>0.051890</td>\n",
              "      <td>-0.164229</td>\n",
              "      <td>-0.142382</td>\n",
              "      <td>0.066812</td>\n",
              "      <td>-0.021347</td>\n",
              "      <td>-0.202595</td>\n",
              "      <td>-0.056984</td>\n",
              "      <td>0.078108</td>\n",
              "      <td>-0.110325</td>\n",
              "      <td>-0.185687</td>\n",
              "      <td>0.026635</td>\n",
              "      <td>0.034694</td>\n",
              "      <td>-0.180182</td>\n",
              "      <td>-0.120129</td>\n",
              "      <td>0.075712</td>\n",
              "      <td>-0.046420</td>\n",
              "      <td>-0.203547</td>\n",
              "      <td>-0.031609</td>\n",
              "      <td>0.071017</td>\n",
              "      <td>-0.133452</td>\n",
              "      <td>-0.171264</td>\n",
              "      <td>0.045190</td>\n",
              "      <td>0.014390</td>\n",
              "      <td>-0.192302</td>\n",
              "      <td>-0.095983</td>\n",
              "      <td>0.080177</td>\n",
              "      <td>-0.071982</td>\n",
              "      <td>-0.199910</td>\n",
              "      <td>-0.007200</td>\n",
              "      <td>0.059642</td>\n",
              "      <td>-0.154255</td>\n",
              "      <td>-0.153296</td>\n",
              "      <td>0.060298</td>\n",
              "      <td>-0.008368</td>\n",
              "      <td>-0.200195</td>\n",
              "      <td>-0.070724</td>\n",
              "      <td>0.080064</td>\n",
              "      <td>-0.097205</td>\n",
              "      <td>-0.191801</td>\n",
              "      <td>0.015453</td>\n",
              "      <td>0.044353</td>\n",
              "      <td>-0.172062</td>\n",
              "      <td>-0.132362</td>\n",
              "      <td>0.071469</td>\n",
              "      <td>-0.032843</td>\n",
              "      <td>-0.203608</td>\n",
              "      <td>-0.045167</td>\n",
              "      <td>0.075375</td>\n",
              "      <td>-0.121276</td>\n",
              "      <td>-0.179483</td>\n",
              "    </tr>\n",
              "  </tbody>\n",
              "</table>\n",
              "<p>5 rows × 311 columns</p>\n",
              "</div>"
            ],
            "text/plain": [
              "        0         1         2         3         4         5         6    \\\n",
              "0 -0.022668 -0.082719  0.003856  0.018789 -0.075568 -0.041327  0.035185   \n",
              "1 -0.321897 -0.322885 -0.319117 -0.310858 -0.298696 -0.283494 -0.266332   \n",
              "2  0.002131 -0.002983 -0.001442  0.003385  0.000944 -0.003428 -0.000172   \n",
              "3  0.053352  0.027877  0.004184  0.055269  0.023742  0.006736  0.056646   \n",
              "4 -0.053973 -0.202946 -0.024247  0.068082 -0.139884 -0.166291  0.050046   \n",
              "\n",
              "        7         8         9         10        11        12        13   \\\n",
              "0 -0.038930 -0.076817  0.017043  0.006015 -0.082098 -0.025150  0.033285   \n",
              "1 -0.248428 -0.231054 -0.215442 -0.202703 -0.193740 -0.189190 -0.189376   \n",
              "2  0.003593 -0.000365 -0.003392  0.001129  0.003314 -0.001615 -0.002881   \n",
              "3  0.019702  0.009726  0.057453  0.015839  0.013094  0.057676  0.012231   \n",
              "4  0.007877 -0.195093 -0.088586  0.080623 -0.079520 -0.197966 -0.000278   \n",
              "\n",
              "        14        15        16        17        18        19        20   \\\n",
              "0 -0.054117 -0.067002  0.027114 -0.009049 -0.084319 -0.008929  0.027052   \n",
              "1 -0.194284 -0.203567 -0.216565 -0.232355 -0.249816 -0.267708 -0.284760   \n",
              "2  0.002284  0.002588 -0.002634 -0.001964  0.003133  0.001513 -0.003282   \n",
              "3  0.016773  0.057308  0.008950  0.020687  0.056358  0.006063  0.024758   \n",
              "4  0.055504 -0.159866 -0.147379  0.064033 -0.015468 -0.201680 -0.063152   \n",
              "\n",
              "        21        22        23        24        25        26        27   \\\n",
              "0 -0.067090 -0.054009  0.033316 -0.025274 -0.082065  0.006122  0.016954   \n",
              "1 -0.299762 -0.311649 -0.319576 -0.322980 -0.321621 -0.315593 -0.305326   \n",
              "2 -0.000769  0.003558  0.000238 -0.003470  0.000541  0.003501 -0.001061   \n",
              "3  0.054845  0.003627  0.028903  0.052799  0.001693  0.033040  0.050262   \n",
              "4  0.079148 -0.104486 -0.188578  0.021712  0.039146 -0.176671 -0.125694   \n",
              "\n",
              "        28        29        30        31        32        33        34   \\\n",
              "0 -0.076878 -0.038810  0.035183 -0.041446 -0.075503  0.018874  0.003746   \n",
              "1 -0.291549 -0.275239 -0.257555 -0.239752 -0.223095 -0.208766 -0.197784   \n",
              "2 -0.003171  0.001785  0.002971 -0.002206 -0.002427  0.002791  0.002039   \n",
              "3  0.000299  0.037084  0.047284 -0.000526  0.040954  0.043927 -0.000767   \n",
              "4  0.073964 -0.040302 -0.203739 -0.037666  0.073128 -0.128064 -0.175084   \n",
              "\n",
              "        35        36        37        38        39        40        41   \\\n",
              "0 -0.082747 -0.022543  0.032575 -0.056354 -0.065127  0.028374 -0.011581   \n",
              "1 -0.190927 -0.188682 -0.191210 -0.198330 -0.209537 -0.224035 -0.240795   \n",
              "2 -0.003039 -0.001341  0.003421  0.000835 -0.003444 -0.000061  0.003588   \n",
              "3  0.044571  0.040257 -0.000418  0.047864  0.036349  0.000514  0.050764   \n",
              "4  0.041013  0.019534 -0.189755 -0.101934  0.079516 -0.065821 -0.201202   \n",
              "\n",
              "        42        43        44        45        46        47        48   \\\n",
              "0 -0.084260 -0.006428  0.025689 -0.068880 -0.051713  0.033910 -0.027880   \n",
              "1 -0.258627 -0.276263 -0.292453 -0.306046 -0.316078 -0.321835 -0.322910   \n",
              "2 -0.000475 -0.003367  0.001235  0.003269 -0.001712 -0.002818  0.002370   \n",
              "3  0.032282  0.002010  0.053214  0.028137  0.004040  0.055165  0.023999   \n",
              "4 -0.012951  0.062758 -0.149492 -0.157921  0.057000 -0.002697 -0.198695   \n",
              "\n",
              "        49   ...       261       262       263       264       265       266  \\\n",
              "0 -0.081301  ... -0.080845 -0.029279  0.034183 -0.050456 -0.069808  0.024916   \n",
              "1 -0.319225  ... -0.316316 -0.306403 -0.292904 -0.276776 -0.259164 -0.241320   \n",
              "2  0.002508  ... -0.000540 -0.003350  0.001297  0.003241 -0.001769 -0.002779   \n",
              "3  0.006563  ...  0.049902  0.033567  0.001483  0.052499  0.029438  0.003350   \n",
              "4 -0.076869  ...  0.051890 -0.164229 -0.142382  0.066812 -0.021347 -0.202595   \n",
              "\n",
              "        267       268       269       270       271       272       273  \\\n",
              "0 -0.005097 -0.084181 -0.012953  0.029010 -0.064087 -0.057532  0.032149   \n",
              "1 -0.224510 -0.209929 -0.198610 -0.191358 -0.188689 -0.190791 -0.197515   \n",
              "2  0.002419  0.002460 -0.002745 -0.001816  0.003216  0.001349 -0.003335   \n",
              "3  0.054611  0.025288  0.005723  0.056194  0.021203  0.008555  0.057218   \n",
              "4 -0.056984  0.078108 -0.110325 -0.185687  0.026635  0.034694 -0.180182   \n",
              "\n",
              "        274       275       276       277       278       279       280  \\\n",
              "0 -0.021143 -0.083051  0.002504  0.019825 -0.074756 -0.042787  0.035134   \n",
              "1 -0.208384 -0.222626 -0.239230 -0.257016 -0.274722 -0.291091 -0.304960   \n",
              "2 -0.000595  0.003579  0.000061 -0.003458  0.000716  0.003457 -0.001228   \n",
              "3  0.017264  0.011789  0.057661  0.013551  0.015359  0.057515  0.010139   \n",
              "4 -0.120129  0.075712 -0.046420 -0.203547 -0.031609  0.071017 -0.133452   \n",
              "\n",
              "        281       282       283       284       285       286       287  \\\n",
              "0 -0.037444 -0.077541  0.015934  0.007316 -0.081667 -0.026676  0.033649   \n",
              "1 -0.315344 -0.321506 -0.323009 -0.319746 -0.311947 -0.300169 -0.285245   \n",
              "2 -0.003095  0.001937  0.002867 -0.002339 -0.002298  0.002900  0.001890   \n",
              "3  0.019194  0.056782  0.007097  0.023216  0.055477  0.004486  0.027343   \n",
              "4 -0.171264  0.045190  0.014390 -0.192302 -0.095983  0.080177 -0.071982   \n",
              "\n",
              "        288       289       290       291       292       293       294  \\\n",
              "0 -0.052780 -0.068063  0.026331 -0.007580 -0.084301 -0.010407  0.027804   \n",
              "1 -0.268237 -0.250352 -0.232860 -0.217003 -0.203907 -0.194502 -0.189455   \n",
              "2 -0.003120 -0.001176  0.003472  0.000661 -0.003462  0.000116  0.003573   \n",
              "3  0.053627  0.002358  0.031493  0.051269  0.000757  0.035581  0.048450   \n",
              "4 -0.199910 -0.007200  0.059642 -0.154255 -0.153296  0.060298 -0.008368   \n",
              "\n",
              "        295       296       297       298       299       300       301  \\\n",
              "0 -0.066004 -0.055327  0.032917 -0.023748 -0.082461  0.004802  0.018038   \n",
              "1 -0.189126 -0.193537 -0.202376 -0.215014 -0.230554 -0.247893 -0.265800   \n",
              "2 -0.000650 -0.003320  0.001401  0.003191 -0.001863 -0.002711  0.002501   \n",
              "3 -0.000284  0.039526  0.045228 -0.000746  0.043247  0.041667 -0.000618   \n",
              "4 -0.200195 -0.070724  0.080064 -0.097205 -0.191801  0.015453  0.044353   \n",
              "\n",
              "        302       303       304       305       306       307       308  \\\n",
              "0 -0.076123 -0.040287  0.035198 -0.039977 -0.076285  0.017812  0.005082   \n",
              "1 -0.283003 -0.298280 -0.310547 -0.318932 -0.322841 -0.321996 -0.316456   \n",
              "2  0.002377 -0.002812 -0.001721  0.003265  0.001245 -0.003364 -0.000485   \n",
              "3  0.046670  0.037840  0.000097  0.049725  0.033823  0.001384  0.052350   \n",
              "4 -0.172062 -0.132362  0.071469 -0.032843 -0.203608 -0.045167  0.075375   \n",
              "\n",
              "        309       310  \n",
              "0 -0.082381 -0.024070  \n",
              "1 -0.306615 -0.293172  \n",
              "2  0.003587 -0.000051  \n",
              "3  0.029698  0.003217  \n",
              "4 -0.121276 -0.179483  \n",
              "\n",
              "[5 rows x 311 columns]"
            ]
          },
          "metadata": {
            "tags": []
          },
          "execution_count": 15
        }
      ]
    },
    {
      "cell_type": "code",
      "metadata": {
        "id": "_eqjq1q-Iszy",
        "colab_type": "code",
        "colab": {
          "base_uri": "https://localhost:8080/",
          "height": 33
        },
        "outputId": "3528a1b5-9157-450d-9af4-0d56663da226"
      },
      "source": [
        "X = np.array(Xy[:, :310], dtype=np.float32)\n",
        "y = np.array(Xy[:, 310], dtype=np.float32)\n",
        "X.shape, y.shape"
      ],
      "execution_count": 16,
      "outputs": [
        {
          "output_type": "execute_result",
          "data": {
            "text/plain": [
              "((5000, 310), (5000,))"
            ]
          },
          "metadata": {
            "tags": []
          },
          "execution_count": 16
        }
      ]
    },
    {
      "cell_type": "markdown",
      "metadata": {
        "id": "cDr8A0L0WIkl",
        "colab_type": "text"
      },
      "source": [
        "#### Transform the numpy array into TF Dataset "
      ]
    },
    {
      "cell_type": "code",
      "metadata": {
        "id": "jz9nxtroWH2g",
        "colab_type": "code",
        "colab": {
          "base_uri": "https://localhost:8080/",
          "height": 33
        },
        "outputId": "49305e60-5755-46b5-a2c6-87da4a1a271e"
      },
      "source": [
        "tf.data.Dataset.from_tensor_slices((X, y))"
      ],
      "execution_count": 17,
      "outputs": [
        {
          "output_type": "execute_result",
          "data": {
            "text/plain": [
              "<TensorSliceDataset shapes: ((310,), ()), types: (tf.float32, tf.float32)>"
            ]
          },
          "metadata": {
            "tags": []
          },
          "execution_count": 17
        }
      ]
    },
    {
      "cell_type": "code",
      "metadata": {
        "id": "lTwf_JVSWjqo",
        "colab_type": "code",
        "colab": {}
      },
      "source": [
        "Xy_dataset = tf.data.Dataset.from_tensor_slices((X, y))"
      ],
      "execution_count": 18,
      "outputs": []
    },
    {
      "cell_type": "code",
      "metadata": {
        "id": "QBIxZkm2Wjj0",
        "colab_type": "code",
        "colab": {
          "base_uri": "https://localhost:8080/",
          "height": 895
        },
        "outputId": "8f3ab285-0371-4bc6-a51d-26d66bf81673"
      },
      "source": [
        "for a,b in Xy_dataset.take(1):\n",
        "  print(a)\n",
        "  print(b)"
      ],
      "execution_count": 19,
      "outputs": [
        {
          "output_type": "stream",
          "text": [
            "tf.Tensor(\n",
            "[-0.02266786 -0.08271895  0.00385607  0.0187887  -0.07556845 -0.04132697\n",
            "  0.03518527 -0.03893046 -0.07681738  0.01704307  0.00601473 -0.08209832\n",
            " -0.02514997  0.03328452 -0.05411689 -0.06700224  0.02711435 -0.00904904\n",
            " -0.08431913 -0.00892882  0.0270517  -0.06708981 -0.0540086   0.03331565\n",
            " -0.02527449 -0.08206456  0.00612166  0.01695359 -0.07687768 -0.03880956\n",
            "  0.03518256 -0.04144646 -0.07550346  0.01887432  0.00374646 -0.08274745\n",
            " -0.0225434   0.03257525 -0.05635382 -0.06512719  0.02837411 -0.01158061\n",
            " -0.08425955 -0.0064283   0.02568899 -0.06888016 -0.05171285  0.03390957\n",
            " -0.02787976 -0.08130074  0.00832887  0.01503949 -0.07808735 -0.03626504\n",
            "  0.03506616 -0.04393032 -0.0740926   0.02062291  0.00142432 -0.08328587\n",
            " -0.01994066  0.03175725 -0.05853026 -0.06317495  0.02953313 -0.01413688\n",
            " -0.08408639 -0.00396228  0.02423065 -0.07058617 -0.04936543  0.03439223\n",
            " -0.03047871 -0.08042896  0.01047349  0.01305004 -0.07919518 -0.03369824\n",
            "  0.0348363  -0.04637732 -0.07258749  0.02228553 -0.00094726 -0.08371254\n",
            " -0.01734672  0.03083209 -0.06064206 -0.06114923  0.03058923 -0.01671298\n",
            " -0.08379996 -0.00153545  0.02267948 -0.0722046  -0.04697081  0.03476271\n",
            " -0.03306641 -0.07945087  0.01255146  0.01098902 -0.08019904 -0.03111406\n",
            "  0.03449343 -0.04878282 -0.07099099  0.02385901 -0.00336377 -0.08402666\n",
            " -0.01476651  0.02980153 -0.0626852  -0.05905389  0.03154039 -0.01930401\n",
            " -0.0834008   0.00084756  0.02103842 -0.07373238 -0.04453355  0.03502031\n",
            " -0.03563792 -0.07836833  0.0145588   0.00886036 -0.08109704 -0.02851741\n",
            "  0.03403818 -0.05114222 -0.06930615  0.02534036 -0.00582062 -0.08422762\n",
            " -0.01220493  0.02866753 -0.0646558  -0.05689292  0.03238479 -0.02190505\n",
            " -0.08288968  0.00318223  0.01931059 -0.07516659 -0.04205829  0.03516454\n",
            " -0.03818835 -0.07718341  0.01649171  0.0066681  -0.08188745 -0.02591323\n",
            "  0.03347143 -0.05345104 -0.06753616  0.02672675 -0.00831313 -0.08431505\n",
            " -0.00966686  0.02743225 -0.06655009 -0.05467042  0.03312084 -0.02451114\n",
            " -0.08226757  0.00546411  0.01749928 -0.07650451 -0.03954972  0.03519513\n",
            " -0.04071284 -0.07589835  0.0183465   0.00441642 -0.08256879 -0.02330647\n",
            "  0.03279426 -0.05570488 -0.06568439  0.02801555 -0.01083655 -0.08428877\n",
            " -0.00715713  0.02609803 -0.06836449 -0.05239063  0.03374714 -0.02711732\n",
            " -0.08153565  0.00768885  0.01560794 -0.07774358 -0.03701264  0.035112\n",
            " -0.04320661 -0.0745156   0.02011965  0.0021096  -0.08313974 -0.0207021\n",
            "  0.03200794 -0.05789947 -0.06375438  0.02920431 -0.01338609 -0.08414885\n",
            " -0.00468052  0.02466742 -0.07009555 -0.05005788  0.03426248 -0.02971864\n",
            " -0.08069532  0.00985223  0.01364017 -0.07888146 -0.03445186  0.03491534\n",
            " -0.04566489 -0.0730378   0.02180778 -0.00024796 -0.08359922 -0.01810507\n",
            "  0.03111399 -0.06003062 -0.06174978  0.03029077 -0.01595689 -0.08389553\n",
            " -0.00224174  0.02314313 -0.07173995 -0.04767662  0.03466589 -0.03231014\n",
            " -0.07974818  0.01195013  0.01159971 -0.07991597 -0.03187227  0.0346055\n",
            " -0.04808301 -0.07146776  0.02340768 -0.00265179 -0.08394637 -0.01552033\n",
            "  0.0301141  -0.06209427 -0.05967442  0.03127285 -0.01854406 -0.08352931\n",
            "  0.00015458  0.02152808 -0.07329458 -0.04525137  0.0349566  -0.0348869\n",
            " -0.07869601  0.01397855  0.00949044 -0.08084515 -0.02927876  0.03418307\n",
            " -0.05045638 -0.06980846  0.0249163  -0.00509731 -0.08418052 -0.01295279\n",
            "  0.02901018 -0.0640865  -0.05753225  0.03214869 -0.02114267 -0.08305088\n",
            "  0.00250387  0.01982532 -0.07475648 -0.04278675  0.03513407 -0.037444\n",
            " -0.07754084  0.01593365  0.00731637 -0.08166724 -0.02667627  0.03364887\n",
            " -0.05278047 -0.06806307  0.02633078 -0.00757986 -0.08430122 -0.01040733\n",
            "  0.02780431 -0.06600352 -0.05532733  0.03291662 -0.0237478  -0.08246116\n",
            "  0.00480166  0.01803811 -0.07612287 -0.04028744  0.03519795 -0.03997659\n",
            " -0.07628486  0.01781169  0.00508165 -0.08238065], shape=(310,), dtype=float32)\n",
            "tf.Tensor(-0.024069749, shape=(), dtype=float32)\n"
          ],
          "name": "stdout"
        }
      ]
    },
    {
      "cell_type": "code",
      "metadata": {
        "id": "YdcWfXU5jNIU",
        "colab_type": "code",
        "colab": {}
      },
      "source": [
        "def _floatlist_feature(value):\n",
        "  return tf.train.Feature(float_list=tf.train.FloatList(value=value))\n",
        "\n",
        "def _float_feature(value):\n",
        "  return tf.train.Feature(float_list=tf.train.FloatList(value=[value]))"
      ],
      "execution_count": 20,
      "outputs": []
    },
    {
      "cell_type": "code",
      "metadata": {
        "id": "fOLvJSJRhdmU",
        "colab_type": "code",
        "colab": {
          "base_uri": "https://localhost:8080/",
          "height": 1000
        },
        "outputId": "a3397946-6a8d-485c-82d4-39f51ac14f6c"
      },
      "source": [
        "_floatlist_feature(a)"
      ],
      "execution_count": 21,
      "outputs": [
        {
          "output_type": "execute_result",
          "data": {
            "text/plain": [
              "float_list {\n",
              "  value: -0.02266785502433777\n",
              "  value: -0.08271895349025726\n",
              "  value: 0.0038560654502362013\n",
              "  value: 0.01878870092332363\n",
              "  value: -0.07556844502687454\n",
              "  value: -0.04132696986198425\n",
              "  value: 0.03518527373671532\n",
              "  value: -0.038930464535951614\n",
              "  value: -0.07681737840175629\n",
              "  value: 0.01704307459294796\n",
              "  value: 0.006014732643961906\n",
              "  value: -0.08209832012653351\n",
              "  value: -0.025149967521429062\n",
              "  value: 0.033284518867731094\n",
              "  value: -0.05411688983440399\n",
              "  value: -0.06700224429368973\n",
              "  value: 0.027114354074001312\n",
              "  value: -0.00904904305934906\n",
              "  value: -0.08431912958621979\n",
              "  value: -0.008928819559514523\n",
              "  value: 0.02705170027911663\n",
              "  value: -0.06708981096744537\n",
              "  value: -0.054008599370718\n",
              "  value: 0.03331565484404564\n",
              "  value: -0.02527448534965515\n",
              "  value: -0.08206456154584885\n",
              "  value: 0.0061216577887535095\n",
              "  value: 0.016953593119978905\n",
              "  value: -0.07687767595052719\n",
              "  value: -0.03880956023931503\n",
              "  value: 0.03518255800008774\n",
              "  value: -0.04144645854830742\n",
              "  value: -0.07550346106290817\n",
              "  value: 0.01887431927025318\n",
              "  value: 0.003746458562090993\n",
              "  value: -0.0827474519610405\n",
              "  value: -0.022543396800756454\n",
              "  value: 0.03257524594664574\n",
              "  value: -0.056353822350502014\n",
              "  value: -0.06512719392776489\n",
              "  value: 0.02837410755455494\n",
              "  value: -0.01158061157912016\n",
              "  value: -0.08425955474376678\n",
              "  value: -0.006428296212106943\n",
              "  value: 0.025688985362648964\n",
              "  value: -0.06888015568256378\n",
              "  value: -0.051712848246097565\n",
              "  value: 0.033909574151039124\n",
              "  value: -0.027879755944013596\n",
              "  value: -0.08130074292421341\n",
              "  value: 0.008328867144882679\n",
              "  value: 0.015039493329823017\n",
              "  value: -0.07808735221624374\n",
              "  value: -0.03626503795385361\n",
              "  value: 0.035066161304712296\n",
              "  value: -0.04393031820654869\n",
              "  value: -0.07409259676933289\n",
              "  value: 0.020622914656996727\n",
              "  value: 0.0014243213227018714\n",
              "  value: -0.0832858681678772\n",
              "  value: -0.019940664991736412\n",
              "  value: 0.03175725042819977\n",
              "  value: -0.058530259877443314\n",
              "  value: -0.06317494809627533\n",
              "  value: 0.029533134773373604\n",
              "  value: -0.014136877842247486\n",
              "  value: -0.08408638834953308\n",
              "  value: -0.003962275106459856\n",
              "  value: 0.024230653420090675\n",
              "  value: -0.0705861747264862\n",
              "  value: -0.04936542734503746\n",
              "  value: 0.034392233937978745\n",
              "  value: -0.030478712171316147\n",
              "  value: -0.08042895793914795\n",
              "  value: 0.010473493486642838\n",
              "  value: 0.013050040230154991\n",
              "  value: -0.07919517904520035\n",
              "  value: -0.03369824215769768\n",
              "  value: 0.0348363034427166\n",
              "  value: -0.04637732356786728\n",
              "  value: -0.07258749008178711\n",
              "  value: 0.02228553406894207\n",
              "  value: -0.0009472605306655169\n",
              "  value: -0.08371254056692123\n",
              "  value: -0.01734672300517559\n",
              "  value: 0.030832093209028244\n",
              "  value: -0.0606420561671257\n",
              "  value: -0.0611492320895195\n",
              "  value: 0.030589232221245766\n",
              "  value: -0.0167129784822464\n",
              "  value: -0.08379995822906494\n",
              "  value: -0.0015354492934420705\n",
              "  value: 0.022679481655359268\n",
              "  value: -0.0722046047449112\n",
              "  value: -0.04697081074118614\n",
              "  value: 0.03476271405816078\n",
              "  value: -0.03306640684604645\n",
              "  value: -0.07945086807012558\n",
              "  value: 0.012551456689834595\n",
              "  value: 0.010989021509885788\n",
              "  value: -0.08019904047250748\n",
              "  value: -0.031114060431718826\n",
              "  value: 0.034493427723646164\n",
              "  value: -0.048782818019390106\n",
              "  value: -0.07099099457263947\n",
              "  value: 0.023859014734625816\n",
              "  value: -0.0033637741580605507\n",
              "  value: -0.08402665704488754\n",
              "  value: -0.014766507782042027\n",
              "  value: 0.029801534488797188\n",
              "  value: -0.06268519908189774\n",
              "  value: -0.05905389413237572\n",
              "  value: 0.031540390104055405\n",
              "  value: -0.01930401287972927\n",
              "  value: -0.08340080082416534\n",
              "  value: 0.0008475639624521136\n",
              "  value: 0.021038418635725975\n",
              "  value: -0.07373238354921341\n",
              "  value: -0.04453355073928833\n",
              "  value: 0.035020314157009125\n",
              "  value: -0.03563791513442993\n",
              "  value: -0.07836832851171494\n",
              "  value: 0.014558802358806133\n",
              "  value: 0.008860358037054539\n",
              "  value: -0.08109703660011292\n",
              "  value: -0.028517408296465874\n",
              "  value: 0.034038178622722626\n",
              "  value: -0.051142219454050064\n",
              "  value: -0.0693061500787735\n",
              "  value: 0.025340359658002853\n",
              "  value: -0.005820621736347675\n",
              "  value: -0.08422762155532837\n",
              "  value: -0.012204929254949093\n",
              "  value: 0.02866753377020359\n",
              "  value: -0.06465579569339752\n",
              "  value: -0.05689292028546333\n",
              "  value: 0.03238479420542717\n",
              "  value: -0.021905047819018364\n",
              "  value: -0.08288967609405518\n",
              "  value: 0.0031822300516068935\n",
              "  value: 0.019310589879751205\n",
              "  value: -0.07516659051179886\n",
              "  value: -0.04205828532576561\n",
              "  value: 0.035164542496204376\n",
              "  value: -0.03818834573030472\n",
              "  value: -0.07718341052532196\n",
              "  value: 0.016491711139678955\n",
              "  value: 0.006668101064860821\n",
              "  value: -0.08188745379447937\n",
              "  value: -0.02591322734951973\n",
              "  value: 0.033471427857875824\n",
              "  value: -0.053451038897037506\n",
              "  value: -0.06753616034984589\n",
              "  value: 0.026726752519607544\n",
              "  value: -0.008313127793371677\n",
              "  value: -0.08431504666805267\n",
              "  value: -0.009666861034929752\n",
              "  value: 0.02743224799633026\n",
              "  value: -0.06655009090900421\n",
              "  value: -0.05467042326927185\n",
              "  value: 0.03312084451317787\n",
              "  value: -0.02451113797724247\n",
              "  value: -0.08226756751537323\n",
              "  value: 0.005464106798171997\n",
              "  value: 0.017499282956123352\n",
              "  value: -0.07650450617074966\n",
              "  value: -0.03954972326755524\n",
              "  value: 0.03519512712955475\n",
              "  value: -0.04071284458041191\n",
              "  value: -0.07589834928512573\n",
              "  value: 0.018346503376960754\n",
              "  value: 0.004416421055793762\n",
              "  value: -0.08256878703832626\n",
              "  value: -0.0233064703643322\n",
              "  value: 0.03279425576329231\n",
              "  value: -0.055704884231090546\n",
              "  value: -0.06568439304828644\n",
              "  value: 0.028015553951263428\n",
              "  value: -0.010836550034582615\n",
              "  value: -0.08428876847028732\n",
              "  value: -0.0071571324951946735\n",
              "  value: 0.026098031550645828\n",
              "  value: -0.06836449354887009\n",
              "  value: -0.052390631288290024\n",
              "  value: 0.03374713659286499\n",
              "  value: -0.027117319405078888\n",
              "  value: -0.08153565227985382\n",
              "  value: 0.007688851561397314\n",
              "  value: 0.015607942827045918\n",
              "  value: -0.07774358242750168\n",
              "  value: -0.03701264038681984\n",
              "  value: 0.03511200472712517\n",
              "  value: -0.043206606060266495\n",
              "  value: -0.07451560348272324\n",
              "  value: 0.020119652152061462\n",
              "  value: 0.002109602792188525\n",
              "  value: -0.08313973993062973\n",
              "  value: -0.020702101290225983\n",
              "  value: 0.03200794383883476\n",
              "  value: -0.05789947137236595\n",
              "  value: -0.0637543797492981\n",
              "  value: 0.029204312711954117\n",
              "  value: -0.01338608656078577\n",
              "  value: -0.0841488465666771\n",
              "  value: -0.004680519923567772\n",
              "  value: 0.024667417630553246\n",
              "  value: -0.07009554654359818\n",
              "  value: -0.05005788430571556\n",
              "  value: 0.03426247835159302\n",
              "  value: -0.029718637466430664\n",
              "  value: -0.08069531619548798\n",
              "  value: 0.009852231480181217\n",
              "  value: 0.01364016905426979\n",
              "  value: -0.07888145744800568\n",
              "  value: -0.034451864659786224\n",
              "  value: 0.03491533547639847\n",
              "  value: -0.045664891600608826\n",
              "  value: -0.07303780317306519\n",
              "  value: 0.021807780489325523\n",
              "  value: -0.00024796402431093156\n",
              "  value: -0.08359922468662262\n",
              "  value: -0.018105072900652885\n",
              "  value: 0.031113991513848305\n",
              "  value: -0.06003061681985855\n",
              "  value: -0.06174978241324425\n",
              "  value: 0.030290767550468445\n",
              "  value: -0.015956886112689972\n",
              "  value: -0.08389552682638168\n",
              "  value: -0.0022417353466153145\n",
              "  value: 0.023143133148550987\n",
              "  value: -0.07173994928598404\n",
              "  value: -0.04767661914229393\n",
              "  value: 0.03466589003801346\n",
              "  value: -0.03231013938784599\n",
              "  value: -0.07974817603826523\n",
              "  value: 0.011950129643082619\n",
              "  value: 0.0115997064858675\n",
              "  value: -0.07991597056388855\n",
              "  value: -0.03187226504087448\n",
              "  value: 0.034605495631694794\n",
              "  value: -0.04808301478624344\n",
              "  value: -0.07146776467561722\n",
              "  value: 0.02340768091380596\n",
              "  value: -0.0026517934165894985\n",
              "  value: -0.08394636958837509\n",
              "  value: -0.015520329587161541\n",
              "  value: 0.030114101245999336\n",
              "  value: -0.06209426745772362\n",
              "  value: -0.059674423187971115\n",
              "  value: 0.03127284720540047\n",
              "  value: -0.01854405552148819\n",
              "  value: -0.08352930843830109\n",
              "  value: 0.00015458045527338982\n",
              "  value: 0.021528078243136406\n",
              "  value: -0.07329457998275757\n",
              "  value: -0.04525136947631836\n",
              "  value: 0.03495660424232483\n",
              "  value: -0.03488689661026001\n",
              "  value: -0.07869601249694824\n",
              "  value: 0.013978554867208004\n",
              "  value: 0.00949043594300747\n",
              "  value: -0.08084515482187271\n",
              "  value: -0.02927875518798828\n",
              "  value: 0.034183070063591\n",
              "  value: -0.05045638233423233\n",
              "  value: -0.0698084607720375\n",
              "  value: 0.024916304275393486\n",
              "  value: -0.0050973109900951385\n",
              "  value: -0.08418051898479462\n",
              "  value: -0.012952787801623344\n",
              "  value: 0.02901017665863037\n",
              "  value: -0.06408650428056717\n",
              "  value: -0.05753224715590477\n",
              "  value: 0.03214868903160095\n",
              "  value: -0.02114267461001873\n",
              "  value: -0.08305088430643082\n",
              "  value: 0.0025038677267730236\n",
              "  value: 0.019825322553515434\n",
              "  value: -0.07475648075342178\n",
              "  value: -0.042786747217178345\n",
              "  value: 0.03513406962156296\n",
              "  value: -0.03744400292634964\n",
              "  value: -0.07754084467887878\n",
              "  value: 0.015933647751808167\n",
              "  value: 0.0073163737542927265\n",
              "  value: -0.08166723698377609\n",
              "  value: -0.02667626552283764\n",
              "  value: 0.03364886716008186\n",
              "  value: -0.05278047174215317\n",
              "  value: -0.06806306540966034\n",
              "  value: 0.02633078210055828\n",
              "  value: -0.007579864002764225\n",
              "  value: -0.08430121839046478\n",
              "  value: -0.010407332330942154\n",
              "  value: 0.027804313227534294\n",
              "  value: -0.06600352376699448\n",
              "  value: -0.05532732978463173\n",
              "  value: 0.03291662037372589\n",
              "  value: -0.023747798055410385\n",
              "  value: -0.0824611559510231\n",
              "  value: 0.004801656119525433\n",
              "  value: 0.018038108944892883\n",
              "  value: -0.07612286508083344\n",
              "  value: -0.04028744250535965\n",
              "  value: 0.035197947174310684\n",
              "  value: -0.03997659310698509\n",
              "  value: -0.07628486305475235\n",
              "  value: 0.017811685800552368\n",
              "  value: 0.005081654991954565\n",
              "  value: -0.08238065242767334\n",
              "}"
            ]
          },
          "metadata": {
            "tags": []
          },
          "execution_count": 21
        }
      ]
    },
    {
      "cell_type": "code",
      "metadata": {
        "id": "nSPvZcSRlZuL",
        "colab_type": "code",
        "colab": {
          "base_uri": "https://localhost:8080/",
          "height": 66
        },
        "outputId": "820cc960-f432-44db-8ce3-26fb2e607331"
      },
      "source": [
        "_float_feature(b)"
      ],
      "execution_count": 22,
      "outputs": [
        {
          "output_type": "execute_result",
          "data": {
            "text/plain": [
              "float_list {\n",
              "  value: -0.02406974881887436\n",
              "}"
            ]
          },
          "metadata": {
            "tags": []
          },
          "execution_count": 22
        }
      ]
    },
    {
      "cell_type": "code",
      "metadata": {
        "id": "zLJrn_X4YK4l",
        "colab_type": "code",
        "colab": {}
      },
      "source": [
        "def serialize_example(x,y):\n",
        "  \"\"\"\n",
        "  Creates a tf.train.Example message ready to be written to a file.\n",
        "  \"\"\"\n",
        "  # Create a dictionary mapping the feature name to the tf.train.Example-compatible\n",
        "  # data type.\n",
        "  feature = {\n",
        "      'x': _floatlist_feature(x),\n",
        "      'y': _float_feature(y)\n",
        "  }\n",
        "\n",
        "  # Create a Features message using tf.train.Example.\n",
        "\n",
        "  example_proto = tf.train.Example(features=tf.train.Features(feature=feature))\n",
        "  return example_proto.SerializeToString()"
      ],
      "execution_count": 23,
      "outputs": []
    },
    {
      "cell_type": "code",
      "metadata": {
        "id": "Yh35x67qqrt1",
        "colab_type": "code",
        "colab": {
          "base_uri": "https://localhost:8080/",
          "height": 33
        },
        "outputId": "73868644-dd33-4e0e-e993-4f5b326ef8bc"
      },
      "source": [
        "X.shape, y.shape"
      ],
      "execution_count": 24,
      "outputs": [
        {
          "output_type": "execute_result",
          "data": {
            "text/plain": [
              "((5000, 310), (5000,))"
            ]
          },
          "metadata": {
            "tags": []
          },
          "execution_count": 24
        }
      ]
    },
    {
      "cell_type": "code",
      "metadata": {
        "id": "PUBmO51Xq00g",
        "colab_type": "code",
        "colab": {
          "base_uri": "https://localhost:8080/",
          "height": 33
        },
        "outputId": "41062fa2-d12d-4093-b746-aeca1feee99c"
      },
      "source": [
        "X[0].shape, y[0].shape"
      ],
      "execution_count": 25,
      "outputs": [
        {
          "output_type": "execute_result",
          "data": {
            "text/plain": [
              "((310,), ())"
            ]
          },
          "metadata": {
            "tags": []
          },
          "execution_count": 25
        }
      ]
    },
    {
      "cell_type": "code",
      "metadata": {
        "id": "RQbLRsKoqdf5",
        "colab_type": "code",
        "colab": {}
      },
      "source": [
        "filename = 'test2.tfrecord'\n",
        "with tf.io.TFRecordWriter(filename) as writer:\n",
        "  for i in range(X.shape[0]):\n",
        "    example = serialize_example(X[i],y[i])\n",
        "    writer.write(example)"
      ],
      "execution_count": 26,
      "outputs": []
    },
    {
      "cell_type": "code",
      "metadata": {
        "id": "Rh8dWu29sN4Y",
        "colab_type": "code",
        "colab": {
          "base_uri": "https://localhost:8080/",
          "height": 1000
        },
        "outputId": "e3e4fb7f-9667-47f6-bd55-4cdf1815f1ca"
      },
      "source": [
        "raw_dataset = tf.data.TFRecordDataset([filename])\n",
        "\n",
        "for raw_record in raw_dataset.take(1):\n",
        "  example = tf.train.Example()\n",
        "  example.ParseFromString(raw_record.numpy())\n",
        "  print(example)"
      ],
      "execution_count": 27,
      "outputs": [
        {
          "output_type": "stream",
          "text": [
            "features {\n",
            "  feature {\n",
            "    key: \"x\"\n",
            "    value {\n",
            "      float_list {\n",
            "        value: -0.02266785502433777\n",
            "        value: -0.08271895349025726\n",
            "        value: 0.0038560654502362013\n",
            "        value: 0.01878870092332363\n",
            "        value: -0.07556844502687454\n",
            "        value: -0.04132696986198425\n",
            "        value: 0.03518527373671532\n",
            "        value: -0.038930464535951614\n",
            "        value: -0.07681737840175629\n",
            "        value: 0.01704307459294796\n",
            "        value: 0.006014732643961906\n",
            "        value: -0.08209832012653351\n",
            "        value: -0.025149967521429062\n",
            "        value: 0.033284518867731094\n",
            "        value: -0.05411688983440399\n",
            "        value: -0.06700224429368973\n",
            "        value: 0.027114354074001312\n",
            "        value: -0.00904904305934906\n",
            "        value: -0.08431912958621979\n",
            "        value: -0.008928819559514523\n",
            "        value: 0.02705170027911663\n",
            "        value: -0.06708981096744537\n",
            "        value: -0.054008599370718\n",
            "        value: 0.03331565484404564\n",
            "        value: -0.02527448534965515\n",
            "        value: -0.08206456154584885\n",
            "        value: 0.0061216577887535095\n",
            "        value: 0.016953593119978905\n",
            "        value: -0.07687767595052719\n",
            "        value: -0.03880956023931503\n",
            "        value: 0.03518255800008774\n",
            "        value: -0.04144645854830742\n",
            "        value: -0.07550346106290817\n",
            "        value: 0.01887431927025318\n",
            "        value: 0.003746458562090993\n",
            "        value: -0.0827474519610405\n",
            "        value: -0.022543396800756454\n",
            "        value: 0.03257524594664574\n",
            "        value: -0.056353822350502014\n",
            "        value: -0.06512719392776489\n",
            "        value: 0.02837410755455494\n",
            "        value: -0.01158061157912016\n",
            "        value: -0.08425955474376678\n",
            "        value: -0.006428296212106943\n",
            "        value: 0.025688985362648964\n",
            "        value: -0.06888015568256378\n",
            "        value: -0.051712848246097565\n",
            "        value: 0.033909574151039124\n",
            "        value: -0.027879755944013596\n",
            "        value: -0.08130074292421341\n",
            "        value: 0.008328867144882679\n",
            "        value: 0.015039493329823017\n",
            "        value: -0.07808735221624374\n",
            "        value: -0.03626503795385361\n",
            "        value: 0.035066161304712296\n",
            "        value: -0.04393031820654869\n",
            "        value: -0.07409259676933289\n",
            "        value: 0.020622914656996727\n",
            "        value: 0.0014243213227018714\n",
            "        value: -0.0832858681678772\n",
            "        value: -0.019940664991736412\n",
            "        value: 0.03175725042819977\n",
            "        value: -0.058530259877443314\n",
            "        value: -0.06317494809627533\n",
            "        value: 0.029533134773373604\n",
            "        value: -0.014136877842247486\n",
            "        value: -0.08408638834953308\n",
            "        value: -0.003962275106459856\n",
            "        value: 0.024230653420090675\n",
            "        value: -0.0705861747264862\n",
            "        value: -0.04936542734503746\n",
            "        value: 0.034392233937978745\n",
            "        value: -0.030478712171316147\n",
            "        value: -0.08042895793914795\n",
            "        value: 0.010473493486642838\n",
            "        value: 0.013050040230154991\n",
            "        value: -0.07919517904520035\n",
            "        value: -0.03369824215769768\n",
            "        value: 0.0348363034427166\n",
            "        value: -0.04637732356786728\n",
            "        value: -0.07258749008178711\n",
            "        value: 0.02228553406894207\n",
            "        value: -0.0009472605306655169\n",
            "        value: -0.08371254056692123\n",
            "        value: -0.01734672300517559\n",
            "        value: 0.030832093209028244\n",
            "        value: -0.0606420561671257\n",
            "        value: -0.0611492320895195\n",
            "        value: 0.030589232221245766\n",
            "        value: -0.0167129784822464\n",
            "        value: -0.08379995822906494\n",
            "        value: -0.0015354492934420705\n",
            "        value: 0.022679481655359268\n",
            "        value: -0.0722046047449112\n",
            "        value: -0.04697081074118614\n",
            "        value: 0.03476271405816078\n",
            "        value: -0.03306640684604645\n",
            "        value: -0.07945086807012558\n",
            "        value: 0.012551456689834595\n",
            "        value: 0.010989021509885788\n",
            "        value: -0.08019904047250748\n",
            "        value: -0.031114060431718826\n",
            "        value: 0.034493427723646164\n",
            "        value: -0.048782818019390106\n",
            "        value: -0.07099099457263947\n",
            "        value: 0.023859014734625816\n",
            "        value: -0.0033637741580605507\n",
            "        value: -0.08402665704488754\n",
            "        value: -0.014766507782042027\n",
            "        value: 0.029801534488797188\n",
            "        value: -0.06268519908189774\n",
            "        value: -0.05905389413237572\n",
            "        value: 0.031540390104055405\n",
            "        value: -0.01930401287972927\n",
            "        value: -0.08340080082416534\n",
            "        value: 0.0008475639624521136\n",
            "        value: 0.021038418635725975\n",
            "        value: -0.07373238354921341\n",
            "        value: -0.04453355073928833\n",
            "        value: 0.035020314157009125\n",
            "        value: -0.03563791513442993\n",
            "        value: -0.07836832851171494\n",
            "        value: 0.014558802358806133\n",
            "        value: 0.008860358037054539\n",
            "        value: -0.08109703660011292\n",
            "        value: -0.028517408296465874\n",
            "        value: 0.034038178622722626\n",
            "        value: -0.051142219454050064\n",
            "        value: -0.0693061500787735\n",
            "        value: 0.025340359658002853\n",
            "        value: -0.005820621736347675\n",
            "        value: -0.08422762155532837\n",
            "        value: -0.012204929254949093\n",
            "        value: 0.02866753377020359\n",
            "        value: -0.06465579569339752\n",
            "        value: -0.05689292028546333\n",
            "        value: 0.03238479420542717\n",
            "        value: -0.021905047819018364\n",
            "        value: -0.08288967609405518\n",
            "        value: 0.0031822300516068935\n",
            "        value: 0.019310589879751205\n",
            "        value: -0.07516659051179886\n",
            "        value: -0.04205828532576561\n",
            "        value: 0.035164542496204376\n",
            "        value: -0.03818834573030472\n",
            "        value: -0.07718341052532196\n",
            "        value: 0.016491711139678955\n",
            "        value: 0.006668101064860821\n",
            "        value: -0.08188745379447937\n",
            "        value: -0.02591322734951973\n",
            "        value: 0.033471427857875824\n",
            "        value: -0.053451038897037506\n",
            "        value: -0.06753616034984589\n",
            "        value: 0.026726752519607544\n",
            "        value: -0.008313127793371677\n",
            "        value: -0.08431504666805267\n",
            "        value: -0.009666861034929752\n",
            "        value: 0.02743224799633026\n",
            "        value: -0.06655009090900421\n",
            "        value: -0.05467042326927185\n",
            "        value: 0.03312084451317787\n",
            "        value: -0.02451113797724247\n",
            "        value: -0.08226756751537323\n",
            "        value: 0.005464106798171997\n",
            "        value: 0.017499282956123352\n",
            "        value: -0.07650450617074966\n",
            "        value: -0.03954972326755524\n",
            "        value: 0.03519512712955475\n",
            "        value: -0.04071284458041191\n",
            "        value: -0.07589834928512573\n",
            "        value: 0.018346503376960754\n",
            "        value: 0.004416421055793762\n",
            "        value: -0.08256878703832626\n",
            "        value: -0.0233064703643322\n",
            "        value: 0.03279425576329231\n",
            "        value: -0.055704884231090546\n",
            "        value: -0.06568439304828644\n",
            "        value: 0.028015553951263428\n",
            "        value: -0.010836550034582615\n",
            "        value: -0.08428876847028732\n",
            "        value: -0.0071571324951946735\n",
            "        value: 0.026098031550645828\n",
            "        value: -0.06836449354887009\n",
            "        value: -0.052390631288290024\n",
            "        value: 0.03374713659286499\n",
            "        value: -0.027117319405078888\n",
            "        value: -0.08153565227985382\n",
            "        value: 0.007688851561397314\n",
            "        value: 0.015607942827045918\n",
            "        value: -0.07774358242750168\n",
            "        value: -0.03701264038681984\n",
            "        value: 0.03511200472712517\n",
            "        value: -0.043206606060266495\n",
            "        value: -0.07451560348272324\n",
            "        value: 0.020119652152061462\n",
            "        value: 0.002109602792188525\n",
            "        value: -0.08313973993062973\n",
            "        value: -0.020702101290225983\n",
            "        value: 0.03200794383883476\n",
            "        value: -0.05789947137236595\n",
            "        value: -0.0637543797492981\n",
            "        value: 0.029204312711954117\n",
            "        value: -0.01338608656078577\n",
            "        value: -0.0841488465666771\n",
            "        value: -0.004680519923567772\n",
            "        value: 0.024667417630553246\n",
            "        value: -0.07009554654359818\n",
            "        value: -0.05005788430571556\n",
            "        value: 0.03426247835159302\n",
            "        value: -0.029718637466430664\n",
            "        value: -0.08069531619548798\n",
            "        value: 0.009852231480181217\n",
            "        value: 0.01364016905426979\n",
            "        value: -0.07888145744800568\n",
            "        value: -0.034451864659786224\n",
            "        value: 0.03491533547639847\n",
            "        value: -0.045664891600608826\n",
            "        value: -0.07303780317306519\n",
            "        value: 0.021807780489325523\n",
            "        value: -0.00024796402431093156\n",
            "        value: -0.08359922468662262\n",
            "        value: -0.018105072900652885\n",
            "        value: 0.031113991513848305\n",
            "        value: -0.06003061681985855\n",
            "        value: -0.06174978241324425\n",
            "        value: 0.030290767550468445\n",
            "        value: -0.015956886112689972\n",
            "        value: -0.08389552682638168\n",
            "        value: -0.0022417353466153145\n",
            "        value: 0.023143133148550987\n",
            "        value: -0.07173994928598404\n",
            "        value: -0.04767661914229393\n",
            "        value: 0.03466589003801346\n",
            "        value: -0.03231013938784599\n",
            "        value: -0.07974817603826523\n",
            "        value: 0.011950129643082619\n",
            "        value: 0.0115997064858675\n",
            "        value: -0.07991597056388855\n",
            "        value: -0.03187226504087448\n",
            "        value: 0.034605495631694794\n",
            "        value: -0.04808301478624344\n",
            "        value: -0.07146776467561722\n",
            "        value: 0.02340768091380596\n",
            "        value: -0.0026517934165894985\n",
            "        value: -0.08394636958837509\n",
            "        value: -0.015520329587161541\n",
            "        value: 0.030114101245999336\n",
            "        value: -0.06209426745772362\n",
            "        value: -0.059674423187971115\n",
            "        value: 0.03127284720540047\n",
            "        value: -0.01854405552148819\n",
            "        value: -0.08352930843830109\n",
            "        value: 0.00015458045527338982\n",
            "        value: 0.021528078243136406\n",
            "        value: -0.07329457998275757\n",
            "        value: -0.04525136947631836\n",
            "        value: 0.03495660424232483\n",
            "        value: -0.03488689661026001\n",
            "        value: -0.07869601249694824\n",
            "        value: 0.013978554867208004\n",
            "        value: 0.00949043594300747\n",
            "        value: -0.08084515482187271\n",
            "        value: -0.02927875518798828\n",
            "        value: 0.034183070063591\n",
            "        value: -0.05045638233423233\n",
            "        value: -0.0698084607720375\n",
            "        value: 0.024916304275393486\n",
            "        value: -0.0050973109900951385\n",
            "        value: -0.08418051898479462\n",
            "        value: -0.012952787801623344\n",
            "        value: 0.02901017665863037\n",
            "        value: -0.06408650428056717\n",
            "        value: -0.05753224715590477\n",
            "        value: 0.03214868903160095\n",
            "        value: -0.02114267461001873\n",
            "        value: -0.08305088430643082\n",
            "        value: 0.0025038677267730236\n",
            "        value: 0.019825322553515434\n",
            "        value: -0.07475648075342178\n",
            "        value: -0.042786747217178345\n",
            "        value: 0.03513406962156296\n",
            "        value: -0.03744400292634964\n",
            "        value: -0.07754084467887878\n",
            "        value: 0.015933647751808167\n",
            "        value: 0.0073163737542927265\n",
            "        value: -0.08166723698377609\n",
            "        value: -0.02667626552283764\n",
            "        value: 0.03364886716008186\n",
            "        value: -0.05278047174215317\n",
            "        value: -0.06806306540966034\n",
            "        value: 0.02633078210055828\n",
            "        value: -0.007579864002764225\n",
            "        value: -0.08430121839046478\n",
            "        value: -0.010407332330942154\n",
            "        value: 0.027804313227534294\n",
            "        value: -0.06600352376699448\n",
            "        value: -0.05532732978463173\n",
            "        value: 0.03291662037372589\n",
            "        value: -0.023747798055410385\n",
            "        value: -0.0824611559510231\n",
            "        value: 0.004801656119525433\n",
            "        value: 0.018038108944892883\n",
            "        value: -0.07612286508083344\n",
            "        value: -0.04028744250535965\n",
            "        value: 0.035197947174310684\n",
            "        value: -0.03997659310698509\n",
            "        value: -0.07628486305475235\n",
            "        value: 0.017811685800552368\n",
            "        value: 0.005081654991954565\n",
            "        value: -0.08238065242767334\n",
            "      }\n",
            "    }\n",
            "  }\n",
            "  feature {\n",
            "    key: \"y\"\n",
            "    value {\n",
            "      float_list {\n",
            "        value: -0.02406974881887436\n",
            "      }\n",
            "    }\n",
            "  }\n",
            "}\n",
            "\n"
          ],
          "name": "stdout"
        }
      ]
    },
    {
      "cell_type": "code",
      "metadata": {
        "id": "ohIHUmJkspov",
        "colab_type": "code",
        "colab": {
          "base_uri": "https://localhost:8080/",
          "height": 33
        },
        "outputId": "52ee0756-7d44-4baf-aaa3-62db5c997057"
      },
      "source": [
        "## Recreate the dataset from test2.tfrecord\n",
        "\n",
        "raw_xy_dataset = tf.data.TFRecordDataset('test2.tfrecord')\n",
        "\n",
        "dataset_key = {\n",
        "    'x': tf.io.FixedLenFeature([310,], tf.float32),\n",
        "    'y': tf.io.FixedLenFeature([], tf.float32)\n",
        "}\n",
        "\n",
        "def _parse_xy_function(example_proto):\n",
        "  return tf.io.parse_single_example(example_proto, dataset_key)\n",
        "\n",
        "parsed_xy_dataset = raw_xy_dataset.map(_parse_xy_function)\n",
        "parsed_xy_dataset"
      ],
      "execution_count": 6,
      "outputs": [
        {
          "output_type": "execute_result",
          "data": {
            "text/plain": [
              "<MapDataset shapes: {x: (310,), y: ()}, types: {x: tf.float32, y: tf.float32}>"
            ]
          },
          "metadata": {
            "tags": []
          },
          "execution_count": 6
        }
      ]
    },
    {
      "cell_type": "code",
      "metadata": {
        "id": "eqE3ZPjUZSwo",
        "colab_type": "code",
        "colab": {
          "base_uri": "https://localhost:8080/",
          "height": 33
        },
        "outputId": "c59f4fa3-22e1-4f7e-ca73-16271632b37e"
      },
      "source": [
        "for i in range(5002):\n",
        "  for xy in parsed_xy_dataset.take(1):\n",
        "    if i == 5001:\n",
        "      print(xy['y'])"
      ],
      "execution_count": 29,
      "outputs": [
        {
          "output_type": "stream",
          "text": [
            "tf.Tensor(-0.024069749, shape=(), dtype=float32)\n"
          ],
          "name": "stdout"
        }
      ]
    },
    {
      "cell_type": "markdown",
      "metadata": {
        "id": "BGT3crudwbdf",
        "colab_type": "text"
      },
      "source": [
        "I have successfully saved hte data in TFRecord format as required for TPU training. Now, in order to use it to train I have to make some changes to my modelling. Namely, I have to ensure the TFRecord is what is being read in the environment, and furthermore ensure that it is able to be distributed for training. "
      ]
    },
    {
      "cell_type": "code",
      "metadata": {
        "id": "9ILql10ywX67",
        "colab_type": "code",
        "colab": {}
      },
      "source": [
        "iterator = iter(parsed_xy_dataset)\n"
      ],
      "execution_count": 31,
      "outputs": []
    },
    {
      "cell_type": "code",
      "metadata": {
        "id": "V9ArG94ugz_d",
        "colab_type": "code",
        "colab": {
          "base_uri": "https://localhost:8080/",
          "height": 1000
        },
        "outputId": "7a71a834-bd4a-4937-8b9d-5d734dc1b537"
      },
      "source": [
        "for i in range(4999):\n",
        "  xy = iterator.get_next()\n",
        "\n",
        "for i in range(3):\n",
        "  xy = iterator.get_next()\n",
        "  print(xy)"
      ],
      "execution_count": 33,
      "outputs": [
        {
          "output_type": "error",
          "ename": "OutOfRangeError",
          "evalue": "ignored",
          "traceback": [
            "\u001b[0;31m---------------------------------------------------------------------------\u001b[0m",
            "\u001b[0;31mOutOfRangeError\u001b[0m                           Traceback (most recent call last)",
            "\u001b[0;32m/usr/local/lib/python3.6/dist-packages/tensorflow/python/eager/context.py\u001b[0m in \u001b[0;36mexecution_mode\u001b[0;34m(mode)\u001b[0m\n\u001b[1;32m   2101\u001b[0m       \u001b[0mctx\u001b[0m\u001b[0;34m.\u001b[0m\u001b[0mexecutor\u001b[0m \u001b[0;34m=\u001b[0m \u001b[0mexecutor_new\u001b[0m\u001b[0;34m\u001b[0m\u001b[0;34m\u001b[0m\u001b[0m\n\u001b[0;32m-> 2102\u001b[0;31m       \u001b[0;32myield\u001b[0m\u001b[0;34m\u001b[0m\u001b[0;34m\u001b[0m\u001b[0m\n\u001b[0m\u001b[1;32m   2103\u001b[0m     \u001b[0;32mfinally\u001b[0m\u001b[0;34m:\u001b[0m\u001b[0;34m\u001b[0m\u001b[0;34m\u001b[0m\u001b[0m\n",
            "\u001b[0;32m/usr/local/lib/python3.6/dist-packages/tensorflow/python/data/ops/iterator_ops.py\u001b[0m in \u001b[0;36m_next_internal\u001b[0;34m(self)\u001b[0m\n\u001b[1;32m    757\u001b[0m             \u001b[0moutput_types\u001b[0m\u001b[0;34m=\u001b[0m\u001b[0mself\u001b[0m\u001b[0;34m.\u001b[0m\u001b[0m_flat_output_types\u001b[0m\u001b[0;34m,\u001b[0m\u001b[0;34m\u001b[0m\u001b[0;34m\u001b[0m\u001b[0m\n\u001b[0;32m--> 758\u001b[0;31m             output_shapes=self._flat_output_shapes)\n\u001b[0m\u001b[1;32m    759\u001b[0m \u001b[0;34m\u001b[0m\u001b[0m\n",
            "\u001b[0;32m/usr/local/lib/python3.6/dist-packages/tensorflow/python/ops/gen_dataset_ops.py\u001b[0m in \u001b[0;36miterator_get_next\u001b[0;34m(iterator, output_types, output_shapes, name)\u001b[0m\n\u001b[1;32m   2609\u001b[0m     \u001b[0;32mexcept\u001b[0m \u001b[0m_core\u001b[0m\u001b[0;34m.\u001b[0m\u001b[0m_NotOkStatusException\u001b[0m \u001b[0;32mas\u001b[0m \u001b[0me\u001b[0m\u001b[0;34m:\u001b[0m\u001b[0;34m\u001b[0m\u001b[0;34m\u001b[0m\u001b[0m\n\u001b[0;32m-> 2610\u001b[0;31m       \u001b[0m_ops\u001b[0m\u001b[0;34m.\u001b[0m\u001b[0mraise_from_not_ok_status\u001b[0m\u001b[0;34m(\u001b[0m\u001b[0me\u001b[0m\u001b[0;34m,\u001b[0m \u001b[0mname\u001b[0m\u001b[0;34m)\u001b[0m\u001b[0;34m\u001b[0m\u001b[0;34m\u001b[0m\u001b[0m\n\u001b[0m\u001b[1;32m   2611\u001b[0m     \u001b[0;32mexcept\u001b[0m \u001b[0m_core\u001b[0m\u001b[0;34m.\u001b[0m\u001b[0m_FallbackException\u001b[0m\u001b[0;34m:\u001b[0m\u001b[0;34m\u001b[0m\u001b[0;34m\u001b[0m\u001b[0m\n",
            "\u001b[0;32m/usr/local/lib/python3.6/dist-packages/tensorflow/python/framework/ops.py\u001b[0m in \u001b[0;36mraise_from_not_ok_status\u001b[0;34m(e, name)\u001b[0m\n\u001b[1;32m   6842\u001b[0m   \u001b[0;31m# pylint: disable=protected-access\u001b[0m\u001b[0;34m\u001b[0m\u001b[0;34m\u001b[0m\u001b[0;34m\u001b[0m\u001b[0m\n\u001b[0;32m-> 6843\u001b[0;31m   \u001b[0msix\u001b[0m\u001b[0;34m.\u001b[0m\u001b[0mraise_from\u001b[0m\u001b[0;34m(\u001b[0m\u001b[0mcore\u001b[0m\u001b[0;34m.\u001b[0m\u001b[0m_status_to_exception\u001b[0m\u001b[0;34m(\u001b[0m\u001b[0me\u001b[0m\u001b[0;34m.\u001b[0m\u001b[0mcode\u001b[0m\u001b[0;34m,\u001b[0m \u001b[0mmessage\u001b[0m\u001b[0;34m)\u001b[0m\u001b[0;34m,\u001b[0m \u001b[0;32mNone\u001b[0m\u001b[0;34m)\u001b[0m\u001b[0;34m\u001b[0m\u001b[0;34m\u001b[0m\u001b[0m\n\u001b[0m\u001b[1;32m   6844\u001b[0m   \u001b[0;31m# pylint: enable=protected-access\u001b[0m\u001b[0;34m\u001b[0m\u001b[0;34m\u001b[0m\u001b[0;34m\u001b[0m\u001b[0m\n",
            "\u001b[0;32m/usr/local/lib/python3.6/dist-packages/six.py\u001b[0m in \u001b[0;36mraise_from\u001b[0;34m(value, from_value)\u001b[0m\n",
            "\u001b[0;31mOutOfRangeError\u001b[0m: End of sequence [Op:IteratorGetNext]",
            "\nDuring handling of the above exception, another exception occurred:\n",
            "\u001b[0;31mOutOfRangeError\u001b[0m                           Traceback (most recent call last)",
            "\u001b[0;32m<ipython-input-33-3a9c62d484cc>\u001b[0m in \u001b[0;36m<module>\u001b[0;34m()\u001b[0m\n\u001b[1;32m      3\u001b[0m \u001b[0;34m\u001b[0m\u001b[0m\n\u001b[1;32m      4\u001b[0m \u001b[0;32mfor\u001b[0m \u001b[0mi\u001b[0m \u001b[0;32min\u001b[0m \u001b[0mrange\u001b[0m\u001b[0;34m(\u001b[0m\u001b[0;36m3\u001b[0m\u001b[0;34m)\u001b[0m\u001b[0;34m:\u001b[0m\u001b[0;34m\u001b[0m\u001b[0;34m\u001b[0m\u001b[0m\n\u001b[0;32m----> 5\u001b[0;31m   \u001b[0mxy\u001b[0m \u001b[0;34m=\u001b[0m \u001b[0miterator\u001b[0m\u001b[0;34m.\u001b[0m\u001b[0mget_next\u001b[0m\u001b[0;34m(\u001b[0m\u001b[0;34m)\u001b[0m\u001b[0;34m\u001b[0m\u001b[0;34m\u001b[0m\u001b[0m\n\u001b[0m\u001b[1;32m      6\u001b[0m   \u001b[0mprint\u001b[0m\u001b[0;34m(\u001b[0m\u001b[0mxy\u001b[0m\u001b[0;34m)\u001b[0m\u001b[0;34m\u001b[0m\u001b[0;34m\u001b[0m\u001b[0m\n",
            "\u001b[0;32m/usr/local/lib/python3.6/dist-packages/tensorflow/python/data/ops/iterator_ops.py\u001b[0m in \u001b[0;36mget_next\u001b[0;34m(self)\u001b[0m\n\u001b[1;32m    823\u001b[0m \u001b[0;34m\u001b[0m\u001b[0m\n\u001b[1;32m    824\u001b[0m   \u001b[0;32mdef\u001b[0m \u001b[0mget_next\u001b[0m\u001b[0;34m(\u001b[0m\u001b[0mself\u001b[0m\u001b[0;34m)\u001b[0m\u001b[0;34m:\u001b[0m\u001b[0;34m\u001b[0m\u001b[0;34m\u001b[0m\u001b[0m\n\u001b[0;32m--> 825\u001b[0;31m     \u001b[0;32mreturn\u001b[0m \u001b[0mself\u001b[0m\u001b[0;34m.\u001b[0m\u001b[0m_next_internal\u001b[0m\u001b[0;34m(\u001b[0m\u001b[0;34m)\u001b[0m\u001b[0;34m\u001b[0m\u001b[0;34m\u001b[0m\u001b[0m\n\u001b[0m\u001b[1;32m    826\u001b[0m \u001b[0;34m\u001b[0m\u001b[0m\n\u001b[1;32m    827\u001b[0m   \u001b[0;32mdef\u001b[0m \u001b[0mget_next_as_optional\u001b[0m\u001b[0;34m(\u001b[0m\u001b[0mself\u001b[0m\u001b[0;34m)\u001b[0m\u001b[0;34m:\u001b[0m\u001b[0;34m\u001b[0m\u001b[0;34m\u001b[0m\u001b[0m\n",
            "\u001b[0;32m/usr/local/lib/python3.6/dist-packages/tensorflow/python/data/ops/iterator_ops.py\u001b[0m in \u001b[0;36m_next_internal\u001b[0;34m(self)\u001b[0m\n\u001b[1;32m    762\u001b[0m         \u001b[0;32mreturn\u001b[0m \u001b[0mself\u001b[0m\u001b[0;34m.\u001b[0m\u001b[0m_element_spec\u001b[0m\u001b[0;34m.\u001b[0m\u001b[0m_from_compatible_tensor_list\u001b[0m\u001b[0;34m(\u001b[0m\u001b[0mret\u001b[0m\u001b[0;34m)\u001b[0m  \u001b[0;31m# pylint: disable=protected-access\u001b[0m\u001b[0;34m\u001b[0m\u001b[0;34m\u001b[0m\u001b[0m\n\u001b[1;32m    763\u001b[0m       \u001b[0;32mexcept\u001b[0m \u001b[0mAttributeError\u001b[0m\u001b[0;34m:\u001b[0m\u001b[0;34m\u001b[0m\u001b[0;34m\u001b[0m\u001b[0m\n\u001b[0;32m--> 764\u001b[0;31m         \u001b[0;32mreturn\u001b[0m \u001b[0mstructure\u001b[0m\u001b[0;34m.\u001b[0m\u001b[0mfrom_compatible_tensor_list\u001b[0m\u001b[0;34m(\u001b[0m\u001b[0mself\u001b[0m\u001b[0;34m.\u001b[0m\u001b[0m_element_spec\u001b[0m\u001b[0;34m,\u001b[0m \u001b[0mret\u001b[0m\u001b[0;34m)\u001b[0m\u001b[0;34m\u001b[0m\u001b[0;34m\u001b[0m\u001b[0m\n\u001b[0m\u001b[1;32m    765\u001b[0m \u001b[0;34m\u001b[0m\u001b[0m\n\u001b[1;32m    766\u001b[0m   \u001b[0;34m@\u001b[0m\u001b[0mproperty\u001b[0m\u001b[0;34m\u001b[0m\u001b[0;34m\u001b[0m\u001b[0m\n",
            "\u001b[0;32m/usr/lib/python3.6/contextlib.py\u001b[0m in \u001b[0;36m__exit__\u001b[0;34m(self, type, value, traceback)\u001b[0m\n\u001b[1;32m     97\u001b[0m                 \u001b[0mvalue\u001b[0m \u001b[0;34m=\u001b[0m \u001b[0mtype\u001b[0m\u001b[0;34m(\u001b[0m\u001b[0;34m)\u001b[0m\u001b[0;34m\u001b[0m\u001b[0;34m\u001b[0m\u001b[0m\n\u001b[1;32m     98\u001b[0m             \u001b[0;32mtry\u001b[0m\u001b[0;34m:\u001b[0m\u001b[0;34m\u001b[0m\u001b[0;34m\u001b[0m\u001b[0m\n\u001b[0;32m---> 99\u001b[0;31m                 \u001b[0mself\u001b[0m\u001b[0;34m.\u001b[0m\u001b[0mgen\u001b[0m\u001b[0;34m.\u001b[0m\u001b[0mthrow\u001b[0m\u001b[0;34m(\u001b[0m\u001b[0mtype\u001b[0m\u001b[0;34m,\u001b[0m \u001b[0mvalue\u001b[0m\u001b[0;34m,\u001b[0m \u001b[0mtraceback\u001b[0m\u001b[0;34m)\u001b[0m\u001b[0;34m\u001b[0m\u001b[0;34m\u001b[0m\u001b[0m\n\u001b[0m\u001b[1;32m    100\u001b[0m             \u001b[0;32mexcept\u001b[0m \u001b[0mStopIteration\u001b[0m \u001b[0;32mas\u001b[0m \u001b[0mexc\u001b[0m\u001b[0;34m:\u001b[0m\u001b[0;34m\u001b[0m\u001b[0;34m\u001b[0m\u001b[0m\n\u001b[1;32m    101\u001b[0m                 \u001b[0;31m# Suppress StopIteration *unless* it's the same exception that\u001b[0m\u001b[0;34m\u001b[0m\u001b[0;34m\u001b[0m\u001b[0;34m\u001b[0m\u001b[0m\n",
            "\u001b[0;32m/usr/local/lib/python3.6/dist-packages/tensorflow/python/eager/context.py\u001b[0m in \u001b[0;36mexecution_mode\u001b[0;34m(mode)\u001b[0m\n\u001b[1;32m   2103\u001b[0m     \u001b[0;32mfinally\u001b[0m\u001b[0;34m:\u001b[0m\u001b[0;34m\u001b[0m\u001b[0;34m\u001b[0m\u001b[0m\n\u001b[1;32m   2104\u001b[0m       \u001b[0mctx\u001b[0m\u001b[0;34m.\u001b[0m\u001b[0mexecutor\u001b[0m \u001b[0;34m=\u001b[0m \u001b[0mexecutor_old\u001b[0m\u001b[0;34m\u001b[0m\u001b[0;34m\u001b[0m\u001b[0m\n\u001b[0;32m-> 2105\u001b[0;31m       \u001b[0mexecutor_new\u001b[0m\u001b[0;34m.\u001b[0m\u001b[0mwait\u001b[0m\u001b[0;34m(\u001b[0m\u001b[0;34m)\u001b[0m\u001b[0;34m\u001b[0m\u001b[0;34m\u001b[0m\u001b[0m\n\u001b[0m\u001b[1;32m   2106\u001b[0m \u001b[0;34m\u001b[0m\u001b[0m\n\u001b[1;32m   2107\u001b[0m \u001b[0;34m\u001b[0m\u001b[0m\n",
            "\u001b[0;32m/usr/local/lib/python3.6/dist-packages/tensorflow/python/eager/executor.py\u001b[0m in \u001b[0;36mwait\u001b[0;34m(self)\u001b[0m\n\u001b[1;32m     65\u001b[0m   \u001b[0;32mdef\u001b[0m \u001b[0mwait\u001b[0m\u001b[0;34m(\u001b[0m\u001b[0mself\u001b[0m\u001b[0;34m)\u001b[0m\u001b[0;34m:\u001b[0m\u001b[0;34m\u001b[0m\u001b[0;34m\u001b[0m\u001b[0m\n\u001b[1;32m     66\u001b[0m     \u001b[0;34m\"\"\"Waits for ops dispatched in this executor to finish.\"\"\"\u001b[0m\u001b[0;34m\u001b[0m\u001b[0;34m\u001b[0m\u001b[0m\n\u001b[0;32m---> 67\u001b[0;31m     \u001b[0mpywrap_tfe\u001b[0m\u001b[0;34m.\u001b[0m\u001b[0mTFE_ExecutorWaitForAllPendingNodes\u001b[0m\u001b[0;34m(\u001b[0m\u001b[0mself\u001b[0m\u001b[0;34m.\u001b[0m\u001b[0m_handle\u001b[0m\u001b[0;34m)\u001b[0m\u001b[0;34m\u001b[0m\u001b[0;34m\u001b[0m\u001b[0m\n\u001b[0m\u001b[1;32m     68\u001b[0m \u001b[0;34m\u001b[0m\u001b[0m\n\u001b[1;32m     69\u001b[0m   \u001b[0;32mdef\u001b[0m \u001b[0mclear_error\u001b[0m\u001b[0;34m(\u001b[0m\u001b[0mself\u001b[0m\u001b[0;34m)\u001b[0m\u001b[0;34m:\u001b[0m\u001b[0;34m\u001b[0m\u001b[0;34m\u001b[0m\u001b[0m\n",
            "\u001b[0;31mOutOfRangeError\u001b[0m: End of sequence"
          ]
        }
      ]
    },
    {
      "cell_type": "code",
      "metadata": {
        "id": "2ToR1mDtg7Xo",
        "colab_type": "code",
        "colab": {}
      },
      "source": [
        ""
      ],
      "execution_count": null,
      "outputs": []
    },
    {
      "cell_type": "markdown",
      "metadata": {
        "id": "jnUuXl1V6OIe",
        "colab_type": "text"
      },
      "source": [
        "#### Build an environment to represent this movement"
      ]
    },
    {
      "cell_type": "code",
      "metadata": {
        "id": "C8mpjibBNZ76",
        "colab_type": "code",
        "colab": {
          "base_uri": "https://localhost:8080/",
          "height": 33
        },
        "outputId": "8c2e8c50-8302-4534-8936-0883ec81ecee"
      },
      "source": [
        "X[0].shape"
      ],
      "execution_count": null,
      "outputs": [
        {
          "output_type": "execute_result",
          "data": {
            "text/plain": [
              "(310,)"
            ]
          },
          "metadata": {
            "tags": []
          },
          "execution_count": 10
        }
      ]
    },
    {
      "cell_type": "code",
      "metadata": {
        "id": "3oeGuXNq6OIe",
        "colab_type": "code",
        "colab": {}
      },
      "source": [
        "class StockMarketEnv(py_environment.PyEnvironment):\n",
        "    '''\n",
        "    To do:\n",
        "\n",
        "    replace X, y with filename of TFRecord to be loaded\n",
        "    rewrite _reset to load the TFRecord and set it up for iteration \n",
        "\n",
        "    Will that work ? Is that really all ?\n",
        "    '''\n",
        "    def __init__(self, filename):\n",
        "        # self._action_spec = array_spec.BoundedArraySpec(\n",
        "        #                             shape=(1,), dtype='float32', minimum=0, maximum=1, name='action')\n",
        "        # self._observation_spec = array_spec.BoundedArraySpec(\n",
        "        #                             shape=(310,), dtype='float32', minimum=-2, maximum=2 ,name='observation')\n",
        "        self._action_spec = tf.TensorArraySpec(element_shape=(1,), dtype=tf.dtypes.float32)\n",
        "        self._observation_spec = tf.TensorArraySpec(element_shape=(310,), dtype=tf.dtypes.float32)\n",
        "        self._reward\n",
        "        self._filename = filename\n",
        "        self._dataset = self.get_dataset()\n",
        "        ## From the dataset, set the state as the first x and the target as the first y \n",
        "        self._set_iterator()\n",
        "        self._get_next()\n",
        "        self._episode_ended = False\n",
        "\n",
        "    def get_dataset(self):\n",
        "\n",
        "        dataset = tf.data.TFRecordDataset(self._filename)\n",
        "\n",
        "        dataset_key = {\n",
        "                    'x': tf.io.FixedLenFeature([310,], tf.float32),\n",
        "                    'y': tf.io.FixedLenFeature([], tf.float32)\n",
        "                    }\n",
        "\n",
        "        def _parse_xy_function(example_proto):\n",
        "            return tf.io.parse_single_example(example_proto, dataset_key)\n",
        "\n",
        "        return dataset.map(_parse_xy_function)\n",
        "\n",
        "    def _get_next(self):\n",
        "        try:\n",
        "            xy = self._iterator.get_next()\n",
        "        except:\n",
        "            self._episode_ended = True\n",
        "            return\n",
        "        self._state = xy['x']\n",
        "        self._target = xy['y']\n",
        "\n",
        "    def action_spec(self):\n",
        "        return self._action_spec\n",
        "\n",
        "    def observation_spec(self):\n",
        "        return self._observation_spec\n",
        "\n",
        "    def _set_iterator(self):\n",
        "        self._iterator = iter(self._dataset)\n",
        "\n",
        "    def _reset(self):\n",
        "        '''\n",
        "        Reset the iterator using the same dataset, get the next entries for x,y\n",
        "        '''\n",
        "        self._set_iterator()\n",
        "        self._get_next()\n",
        "        self._episode_ended = False\n",
        "        return ts.restart(self._state)\n",
        "\n",
        "    def _step(self, action):\n",
        "        if self._episode_ended:\n",
        "            return self.reset()\n",
        "      \n",
        "        reward = -(action[0] - self._target)**2\n",
        "        \n",
        "        self._get_next()\n",
        "        \n",
        "        if self._episode_ended:\n",
        "            return ts.termination(self._state, reward=reward)\n",
        "        else:\n",
        "            return ts.transition(self._state, reward=reward, discount=1.0)"
      ],
      "execution_count": 51,
      "outputs": []
    },
    {
      "cell_type": "code",
      "metadata": {
        "id": "xsgZ02dQnN_A",
        "colab_type": "code",
        "colab": {
          "base_uri": "https://localhost:8080/",
          "height": 33
        },
        "outputId": "2bcacea1-4e01-4474-8a6f-ae849b140e6d"
      },
      "source": [
        "environment.reward_spec()"
      ],
      "execution_count": 56,
      "outputs": [
        {
          "output_type": "execute_result",
          "data": {
            "text/plain": [
              "ArraySpec(shape=(), dtype=dtype('float32'), name='reward')"
            ]
          },
          "metadata": {
            "tags": []
          },
          "execution_count": 56
        }
      ]
    },
    {
      "cell_type": "code",
      "metadata": {
        "id": "b3GEo5XA6OIg",
        "colab_type": "code",
        "colab": {
          "base_uri": "https://localhost:8080/",
          "height": 345
        },
        "outputId": "6ca35515-7198-4f99-c1f8-1e6406d1fb33"
      },
      "source": [
        "filename = 'test2.tfrecord'\n",
        "environment = StockMarketEnv(filename)\n",
        "utils.validate_py_environment(environment, episodes=5)"
      ],
      "execution_count": 52,
      "outputs": [
        {
          "output_type": "error",
          "ename": "TypeError",
          "evalue": "ignored",
          "traceback": [
            "\u001b[0;31m---------------------------------------------------------------------------\u001b[0m",
            "\u001b[0;31mTypeError\u001b[0m                                 Traceback (most recent call last)",
            "\u001b[0;32m<ipython-input-52-9ce02db94e46>\u001b[0m in \u001b[0;36m<module>\u001b[0;34m()\u001b[0m\n\u001b[1;32m      1\u001b[0m \u001b[0mfilename\u001b[0m \u001b[0;34m=\u001b[0m \u001b[0;34m'test2.tfrecord'\u001b[0m\u001b[0;34m\u001b[0m\u001b[0;34m\u001b[0m\u001b[0m\n\u001b[1;32m      2\u001b[0m \u001b[0menvironment\u001b[0m \u001b[0;34m=\u001b[0m \u001b[0mStockMarketEnv\u001b[0m\u001b[0;34m(\u001b[0m\u001b[0mfilename\u001b[0m\u001b[0;34m)\u001b[0m\u001b[0;34m\u001b[0m\u001b[0;34m\u001b[0m\u001b[0m\n\u001b[0;32m----> 3\u001b[0;31m \u001b[0mutils\u001b[0m\u001b[0;34m.\u001b[0m\u001b[0mvalidate_py_environment\u001b[0m\u001b[0;34m(\u001b[0m\u001b[0menvironment\u001b[0m\u001b[0;34m,\u001b[0m \u001b[0mepisodes\u001b[0m\u001b[0;34m=\u001b[0m\u001b[0;36m5\u001b[0m\u001b[0;34m)\u001b[0m\u001b[0;34m\u001b[0m\u001b[0;34m\u001b[0m\u001b[0m\n\u001b[0m",
            "\u001b[0;32m/usr/local/lib/python3.6/dist-packages/tf_agents/environments/utils.py\u001b[0m in \u001b[0;36mvalidate_py_environment\u001b[0;34m(environment, episodes)\u001b[0m\n\u001b[1;32m     52\u001b[0m                             episodes: int = 5):\n\u001b[1;32m     53\u001b[0m   \u001b[0;34m\"\"\"Validates the environment follows the defined specs.\"\"\"\u001b[0m\u001b[0;34m\u001b[0m\u001b[0;34m\u001b[0m\u001b[0m\n\u001b[0;32m---> 54\u001b[0;31m   \u001b[0mtime_step_spec\u001b[0m \u001b[0;34m=\u001b[0m \u001b[0menvironment\u001b[0m\u001b[0;34m.\u001b[0m\u001b[0mtime_step_spec\u001b[0m\u001b[0;34m(\u001b[0m\u001b[0;34m)\u001b[0m\u001b[0;34m\u001b[0m\u001b[0;34m\u001b[0m\u001b[0m\n\u001b[0m\u001b[1;32m     55\u001b[0m   \u001b[0maction_spec\u001b[0m \u001b[0;34m=\u001b[0m \u001b[0menvironment\u001b[0m\u001b[0;34m.\u001b[0m\u001b[0maction_spec\u001b[0m\u001b[0;34m(\u001b[0m\u001b[0;34m)\u001b[0m\u001b[0;34m\u001b[0m\u001b[0;34m\u001b[0m\u001b[0m\n\u001b[1;32m     56\u001b[0m \u001b[0;34m\u001b[0m\u001b[0m\n",
            "\u001b[0;32m/usr/local/lib/python3.6/dist-packages/tf_agents/environments/py_environment.py\u001b[0m in \u001b[0;36mtime_step_spec\u001b[0;34m(self)\u001b[0m\n\u001b[1;32m    147\u001b[0m       \u001b[0mthe\u001b[0m \u001b[0mstep_type\u001b[0m\u001b[0;34m,\u001b[0m \u001b[0mreward\u001b[0m\u001b[0;34m,\u001b[0m \u001b[0mdiscount\u001b[0m\u001b[0;34m,\u001b[0m \u001b[0;32mand\u001b[0m \u001b[0mobservation\u001b[0m \u001b[0mstructure\u001b[0m\u001b[0;34m.\u001b[0m\u001b[0;34m\u001b[0m\u001b[0;34m\u001b[0m\u001b[0m\n\u001b[1;32m    148\u001b[0m     \"\"\"\n\u001b[0;32m--> 149\u001b[0;31m     \u001b[0;32mreturn\u001b[0m \u001b[0mts\u001b[0m\u001b[0;34m.\u001b[0m\u001b[0mtime_step_spec\u001b[0m\u001b[0;34m(\u001b[0m\u001b[0mself\u001b[0m\u001b[0;34m.\u001b[0m\u001b[0mobservation_spec\u001b[0m\u001b[0;34m(\u001b[0m\u001b[0;34m)\u001b[0m\u001b[0;34m,\u001b[0m \u001b[0mself\u001b[0m\u001b[0;34m.\u001b[0m\u001b[0mreward_spec\u001b[0m\u001b[0;34m(\u001b[0m\u001b[0;34m)\u001b[0m\u001b[0;34m)\u001b[0m\u001b[0;34m\u001b[0m\u001b[0;34m\u001b[0m\u001b[0m\n\u001b[0m\u001b[1;32m    150\u001b[0m \u001b[0;34m\u001b[0m\u001b[0m\n\u001b[1;32m    151\u001b[0m   \u001b[0;32mdef\u001b[0m \u001b[0mcurrent_time_step\u001b[0m\u001b[0;34m(\u001b[0m\u001b[0mself\u001b[0m\u001b[0;34m)\u001b[0m \u001b[0;34m->\u001b[0m \u001b[0mts\u001b[0m\u001b[0;34m.\u001b[0m\u001b[0mTimeStep\u001b[0m\u001b[0;34m:\u001b[0m\u001b[0;34m\u001b[0m\u001b[0;34m\u001b[0m\u001b[0m\n",
            "\u001b[0;32m/usr/local/lib/python3.6/dist-packages/tf_agents/trajectories/time_step.py\u001b[0m in \u001b[0;36mtime_step_spec\u001b[0;34m(observation_spec, reward_spec)\u001b[0m\n\u001b[1;32m    388\u001b[0m           \u001b[0;34m'Expected observation and reward specs to both be either tensor or '\u001b[0m\u001b[0;34m\u001b[0m\u001b[0;34m\u001b[0m\u001b[0m\n\u001b[1;32m    389\u001b[0m           \u001b[0;34m'array specs, but saw spec values {} vs. {}'\u001b[0m\u001b[0;34m\u001b[0m\u001b[0;34m\u001b[0m\u001b[0m\n\u001b[0;32m--> 390\u001b[0;31m           .format(first_observation_spec, first_reward_spec))\n\u001b[0m\u001b[1;32m    391\u001b[0m   \u001b[0;32mif\u001b[0m \u001b[0misinstance\u001b[0m\u001b[0;34m(\u001b[0m\u001b[0mfirst_observation_spec\u001b[0m\u001b[0;34m,\u001b[0m \u001b[0mtf\u001b[0m\u001b[0;34m.\u001b[0m\u001b[0mTypeSpec\u001b[0m\u001b[0;34m)\u001b[0m\u001b[0;34m:\u001b[0m\u001b[0;34m\u001b[0m\u001b[0;34m\u001b[0m\u001b[0m\n\u001b[1;32m    392\u001b[0m     return TimeStep(\n",
            "\u001b[0;31mTypeError\u001b[0m: Expected observation and reward specs to both be either tensor or array specs, but saw spec values TensorArraySpec(TensorShape([310]), tf.float32, False, True) vs. ArraySpec(shape=(), dtype=dtype('float32'), name='reward')"
          ]
        }
      ]
    },
    {
      "cell_type": "code",
      "metadata": {
        "id": "BiN89m_Ak7S0",
        "colab_type": "code",
        "colab": {
          "base_uri": "https://localhost:8080/",
          "height": 1000
        },
        "outputId": "d70e8c10-7da3-40ab-985e-7163d00c7e93"
      },
      "source": [
        "environment._state"
      ],
      "execution_count": 46,
      "outputs": [
        {
          "output_type": "execute_result",
          "data": {
            "text/plain": [
              "<tf.Tensor: shape=(310,), dtype=float32, numpy=\n",
              "array([-0.02266786, -0.08271895,  0.00385607,  0.0187887 , -0.07556845,\n",
              "       -0.04132697,  0.03518527, -0.03893046, -0.07681738,  0.01704307,\n",
              "        0.00601473, -0.08209832, -0.02514997,  0.03328452, -0.05411689,\n",
              "       -0.06700224,  0.02711435, -0.00904904, -0.08431913, -0.00892882,\n",
              "        0.0270517 , -0.06708981, -0.0540086 ,  0.03331565, -0.02527449,\n",
              "       -0.08206456,  0.00612166,  0.01695359, -0.07687768, -0.03880956,\n",
              "        0.03518256, -0.04144646, -0.07550346,  0.01887432,  0.00374646,\n",
              "       -0.08274745, -0.0225434 ,  0.03257525, -0.05635382, -0.06512719,\n",
              "        0.02837411, -0.01158061, -0.08425955, -0.0064283 ,  0.02568899,\n",
              "       -0.06888016, -0.05171285,  0.03390957, -0.02787976, -0.08130074,\n",
              "        0.00832887,  0.01503949, -0.07808735, -0.03626504,  0.03506616,\n",
              "       -0.04393032, -0.0740926 ,  0.02062291,  0.00142432, -0.08328587,\n",
              "       -0.01994066,  0.03175725, -0.05853026, -0.06317495,  0.02953313,\n",
              "       -0.01413688, -0.08408639, -0.00396228,  0.02423065, -0.07058617,\n",
              "       -0.04936543,  0.03439223, -0.03047871, -0.08042896,  0.01047349,\n",
              "        0.01305004, -0.07919518, -0.03369824,  0.0348363 , -0.04637732,\n",
              "       -0.07258749,  0.02228553, -0.00094726, -0.08371254, -0.01734672,\n",
              "        0.03083209, -0.06064206, -0.06114923,  0.03058923, -0.01671298,\n",
              "       -0.08379996, -0.00153545,  0.02267948, -0.0722046 , -0.04697081,\n",
              "        0.03476271, -0.03306641, -0.07945087,  0.01255146,  0.01098902,\n",
              "       -0.08019904, -0.03111406,  0.03449343, -0.04878282, -0.07099099,\n",
              "        0.02385901, -0.00336377, -0.08402666, -0.01476651,  0.02980153,\n",
              "       -0.0626852 , -0.05905389,  0.03154039, -0.01930401, -0.0834008 ,\n",
              "        0.00084756,  0.02103842, -0.07373238, -0.04453355,  0.03502031,\n",
              "       -0.03563792, -0.07836833,  0.0145588 ,  0.00886036, -0.08109704,\n",
              "       -0.02851741,  0.03403818, -0.05114222, -0.06930615,  0.02534036,\n",
              "       -0.00582062, -0.08422762, -0.01220493,  0.02866753, -0.0646558 ,\n",
              "       -0.05689292,  0.03238479, -0.02190505, -0.08288968,  0.00318223,\n",
              "        0.01931059, -0.07516659, -0.04205829,  0.03516454, -0.03818835,\n",
              "       -0.07718341,  0.01649171,  0.0066681 , -0.08188745, -0.02591323,\n",
              "        0.03347143, -0.05345104, -0.06753616,  0.02672675, -0.00831313,\n",
              "       -0.08431505, -0.00966686,  0.02743225, -0.06655009, -0.05467042,\n",
              "        0.03312084, -0.02451114, -0.08226757,  0.00546411,  0.01749928,\n",
              "       -0.07650451, -0.03954972,  0.03519513, -0.04071284, -0.07589835,\n",
              "        0.0183465 ,  0.00441642, -0.08256879, -0.02330647,  0.03279426,\n",
              "       -0.05570488, -0.06568439,  0.02801555, -0.01083655, -0.08428877,\n",
              "       -0.00715713,  0.02609803, -0.06836449, -0.05239063,  0.03374714,\n",
              "       -0.02711732, -0.08153565,  0.00768885,  0.01560794, -0.07774358,\n",
              "       -0.03701264,  0.035112  , -0.04320661, -0.0745156 ,  0.02011965,\n",
              "        0.0021096 , -0.08313974, -0.0207021 ,  0.03200794, -0.05789947,\n",
              "       -0.06375438,  0.02920431, -0.01338609, -0.08414885, -0.00468052,\n",
              "        0.02466742, -0.07009555, -0.05005788,  0.03426248, -0.02971864,\n",
              "       -0.08069532,  0.00985223,  0.01364017, -0.07888146, -0.03445186,\n",
              "        0.03491534, -0.04566489, -0.0730378 ,  0.02180778, -0.00024796,\n",
              "       -0.08359922, -0.01810507,  0.03111399, -0.06003062, -0.06174978,\n",
              "        0.03029077, -0.01595689, -0.08389553, -0.00224174,  0.02314313,\n",
              "       -0.07173995, -0.04767662,  0.03466589, -0.03231014, -0.07974818,\n",
              "        0.01195013,  0.01159971, -0.07991597, -0.03187227,  0.0346055 ,\n",
              "       -0.04808301, -0.07146776,  0.02340768, -0.00265179, -0.08394637,\n",
              "       -0.01552033,  0.0301141 , -0.06209427, -0.05967442,  0.03127285,\n",
              "       -0.01854406, -0.08352931,  0.00015458,  0.02152808, -0.07329458,\n",
              "       -0.04525137,  0.0349566 , -0.0348869 , -0.07869601,  0.01397855,\n",
              "        0.00949044, -0.08084515, -0.02927876,  0.03418307, -0.05045638,\n",
              "       -0.06980846,  0.0249163 , -0.00509731, -0.08418052, -0.01295279,\n",
              "        0.02901018, -0.0640865 , -0.05753225,  0.03214869, -0.02114267,\n",
              "       -0.08305088,  0.00250387,  0.01982532, -0.07475648, -0.04278675,\n",
              "        0.03513407, -0.037444  , -0.07754084,  0.01593365,  0.00731637,\n",
              "       -0.08166724, -0.02667627,  0.03364887, -0.05278047, -0.06806307,\n",
              "        0.02633078, -0.00757986, -0.08430122, -0.01040733,  0.02780431,\n",
              "       -0.06600352, -0.05532733,  0.03291662, -0.0237478 , -0.08246116,\n",
              "        0.00480166,  0.01803811, -0.07612287, -0.04028744,  0.03519795,\n",
              "       -0.03997659, -0.07628486,  0.01781169,  0.00508165, -0.08238065],\n",
              "      dtype=float32)>"
            ]
          },
          "metadata": {
            "tags": []
          },
          "execution_count": 46
        }
      ]
    },
    {
      "cell_type": "code",
      "metadata": {
        "id": "MpUsLwBjjY_L",
        "colab_type": "code",
        "colab": {}
      },
      "source": [
        " Given `time_step`: \n",
        " TimeStep(step_type=<tf.Tensor: shape=(), dtype=int32, numpy=0>, \n",
        "          reward=<tf.Tensor: shape=(), dtype=float32, numpy=0.0>, \n",
        "          discount=<tf.Tensor: shape=(), dtype=float32, numpy=1.0>, \n",
        "          observation=<tf.Tensor: shape=(310,), dtype=float32, numpy=\n",
        "                  array([-0.02266786, -0.08271895,  0.00385607,  0.0187887 , -0.07556845,\n",
        "                        -0.04132697,  0.03518527, -0.03893046, -0.07681738,  0.01704307,\n",
        "                        -0.03997659, -0.07628486,  0.01781169,  0.00508165, -0.08238065],\n",
        "                    dtype=float32)>)\n",
        " \n",
        "  does not match expected `time_step_spec`: \n",
        "  \n",
        "TimeStep(step_type=ArraySpec(shape=(), dtype=dtype('int32'), name='step_type'), \n",
        "         reward=ArraySpec(shape=(), dtype=dtype('float32'), name='reward'), \n",
        "         discount=BoundedArraySpec(shape=(), dtype=dtype('float32'), name='discount', minimum=0.0, maximum=1.0), \n",
        "         observation=BoundedArraySpec(shape=(310,), dtype=dtype('float32'), name='observation', minimum=-1.0, maximum=1.0))"
      ],
      "execution_count": null,
      "outputs": []
    },
    {
      "cell_type": "markdown",
      "metadata": {
        "id": "FiQVPe-w6OIi",
        "colab_type": "text"
      },
      "source": [
        "##### Train a DQN to learn on it"
      ]
    },
    {
      "cell_type": "code",
      "metadata": {
        "id": "vKhQj07I8-MX",
        "colab_type": "code",
        "colab": {}
      },
      "source": [
        "# Important interval values for training speed\n",
        "# Set lower to increase speed of training \n",
        "\n",
        "num_iterations = 10 # @param {type:\"integer\"}\n",
        "log_interval = 100 # @param {type:\"integer\"}=\n",
        "num_eval_episodes = 1 # @param {type:\"integer\"}\n",
        "eval_interval = 1 # @param {type:\"integer\"}"
      ],
      "execution_count": null,
      "outputs": []
    },
    {
      "cell_type": "code",
      "metadata": {
        "id": "aI8CjCKP6OIj",
        "colab_type": "code",
        "colab": {}
      },
      "source": [
        "initial_collect_steps = 10000 # @param {type:\"integer\"}\n",
        "collect_steps_per_iteration = 1 # @param {type:\"integer\"}\n",
        "replay_buffer_capacity = 10000 # @param {type:\"integer\"}\n",
        "\n",
        "batch_size = 256 # @param {type:\"integer\"}\n",
        "\n",
        "critic_learning_rate = 3e-4 # @param {type:\"number\"}\n",
        "actor_learning_rate = 3e-4 # @param {type:\"number\"}\n",
        "alpha_learning_rate = 3e-4 # @param {type:\"number\"}\n",
        "target_update_tau = 0.005 # @param {type:\"number\"}\n",
        "target_update_period = 1 # @param {type:\"number\"}\n",
        "gamma = 0.99 # @param {type:\"number\"}\n",
        "reward_scale_factor = 1.0 # @param {type:\"number\"}\n",
        "\n",
        "actor_fc_layer_params = (310,)\n",
        "critic_joint_fc_layer_params = (310,)\n",
        "\n",
        "\n",
        "\n",
        "policy_save_interval = 5000 # @param {type:\"integer\"}"
      ],
      "execution_count": null,
      "outputs": []
    },
    {
      "cell_type": "code",
      "metadata": {
        "id": "IbxnI01V6OIl",
        "colab_type": "code",
        "colab": {
          "base_uri": "https://localhost:8080/",
          "height": 33
        },
        "outputId": "5bf433be-b68b-4521-cef8-aede31dda95a"
      },
      "source": [
        "X.shape[0], X.shape[0]//2"
      ],
      "execution_count": null,
      "outputs": [
        {
          "output_type": "execute_result",
          "data": {
            "text/plain": [
              "(5000, 2500)"
            ]
          },
          "metadata": {
            "tags": []
          },
          "execution_count": 15
        }
      ]
    },
    {
      "cell_type": "code",
      "metadata": {
        "id": "E8_6roAdK9Cx",
        "colab_type": "code",
        "colab": {
          "base_uri": "https://localhost:8080/",
          "height": 33
        },
        "outputId": "22a47c3c-67a5-4804-cbac-9908d6a88617"
      },
      "source": [
        "y.shape[0],  y.shape[0]//2"
      ],
      "execution_count": null,
      "outputs": [
        {
          "output_type": "execute_result",
          "data": {
            "text/plain": [
              "(5000, 2500)"
            ]
          },
          "metadata": {
            "tags": []
          },
          "execution_count": 16
        }
      ]
    },
    {
      "cell_type": "code",
      "metadata": {
        "id": "C41tw48g6OIn",
        "colab_type": "code",
        "colab": {}
      },
      "source": [
        "# Code to produce tf environments\n",
        "# train_py_env = StockMarketEnv(X[:X.shape[0]//2])\n",
        "# eval_py_env = StockMarketEnv(X[X.shape[0]//2:])\n",
        "# train_env = tf_py_environment.TFPyEnvironment(train_py_env)\n",
        "# eval_env = tf_py_environment.TFPyEnvironment(eval_py_env)\n",
        "\n",
        "# Code to produce py environments \n",
        "train_env = StockMarketEnv(X[:X.shape[0]//2], y[:y.shape[0]//2])\n",
        "eval_env = StockMarketEnv(X[X.shape[0]//2:], y[y.shape[0]//2:])"
      ],
      "execution_count": null,
      "outputs": []
    },
    {
      "cell_type": "code",
      "metadata": {
        "id": "JI3GGwdjLzRn",
        "colab_type": "code",
        "colab": {
          "base_uri": "https://localhost:8080/",
          "height": 82
        },
        "outputId": "cffe5b8a-c437-433d-86b2-5ccf25fbf1e6"
      },
      "source": [
        "train_env._y, eval_env._y"
      ],
      "execution_count": null,
      "outputs": [
        {
          "output_type": "execute_result",
          "data": {
            "text/plain": [
              "(array([ 0.02279128, -0.04242661,  0.08742822, ..., -0.22473535,\n",
              "        -0.00361564, -0.16828975], dtype=float32),\n",
              " array([-0.06380255, -0.00887402, -0.1040407 , ...,  0.01091622,\n",
              "        -0.07825399,  0.1870721 ], dtype=float32))"
            ]
          },
          "metadata": {
            "tags": []
          },
          "execution_count": 18
        }
      ]
    },
    {
      "cell_type": "code",
      "metadata": {
        "id": "fCygvxH_6OIs",
        "colab_type": "code",
        "colab": {
          "base_uri": "https://localhost:8080/",
          "height": 82
        },
        "outputId": "53924bcd-a31e-4fbb-b64e-ce6faf2f9914"
      },
      "source": [
        "print('Observation Spec:')\n",
        "print(train_env.time_step_spec().observation)\n",
        "print('Action Spec:')\n",
        "print(train_env.action_spec())"
      ],
      "execution_count": null,
      "outputs": [
        {
          "output_type": "stream",
          "text": [
            "Observation Spec:\n",
            "BoundedArraySpec(shape=(310,), dtype=dtype('float32'), name='observation', minimum=-1.0, maximum=1.0)\n",
            "Action Spec:\n",
            "BoundedArraySpec(shape=(1,), dtype=dtype('float32'), name='action', minimum=0.0, maximum=1.0)\n"
          ],
          "name": "stdout"
        }
      ]
    },
    {
      "cell_type": "code",
      "metadata": {
        "id": "YcyFz4H46OIw",
        "colab_type": "code",
        "colab": {}
      },
      "source": [
        "use_gpu = False \n",
        "\n",
        "strategy = strategy_utils.get_strategy(tpu=False, use_gpu=use_gpu)"
      ],
      "execution_count": null,
      "outputs": []
    },
    {
      "cell_type": "code",
      "metadata": {
        "id": "26HrgAyp6OIy",
        "colab_type": "code",
        "colab": {}
      },
      "source": [
        "observation_spec, action_spec, time_step_spec = (spec_utils.get_tensor_specs(train_env))\n",
        "\n",
        "with strategy.scope():\n",
        "    critic_net = critic_network.CriticNetwork((observation_spec, action_spec),\n",
        "                                            observation_fc_layer_params=None,\n",
        "                                            action_fc_layer_params=None,\n",
        "                                            joint_fc_layer_params=critic_joint_fc_layer_params,\n",
        "                                            kernel_initializer='glorot_uniform',\n",
        "                                            last_kernel_initializer='glorot_uniform')"
      ],
      "execution_count": null,
      "outputs": []
    },
    {
      "cell_type": "code",
      "metadata": {
        "id": "n1BSlzeq6OI0",
        "colab_type": "code",
        "colab": {
          "base_uri": "https://localhost:8080/",
          "height": 33
        },
        "outputId": "37c8836e-0327-4c67-954a-f0089d0397bc"
      },
      "source": [
        "action_spec"
      ],
      "execution_count": null,
      "outputs": [
        {
          "output_type": "execute_result",
          "data": {
            "text/plain": [
              "BoundedTensorSpec(shape=(1,), dtype=tf.float32, name='action', minimum=array(0., dtype=float32), maximum=array(1., dtype=float32))"
            ]
          },
          "metadata": {
            "tags": []
          },
          "execution_count": 22
        }
      ]
    },
    {
      "cell_type": "code",
      "metadata": {
        "id": "iox-BtBq6OI2",
        "colab_type": "code",
        "colab": {
          "base_uri": "https://localhost:8080/",
          "height": 33
        },
        "outputId": "a4399b5f-df95-494c-f200-75923cb3f119"
      },
      "source": [
        "observation_spec"
      ],
      "execution_count": null,
      "outputs": [
        {
          "output_type": "execute_result",
          "data": {
            "text/plain": [
              "BoundedTensorSpec(shape=(310,), dtype=tf.float32, name='observation', minimum=array(-1., dtype=float32), maximum=array(1., dtype=float32))"
            ]
          },
          "metadata": {
            "tags": []
          },
          "execution_count": 23
        }
      ]
    },
    {
      "cell_type": "code",
      "metadata": {
        "id": "xdFSU2mg6OI4",
        "colab_type": "code",
        "colab": {
          "base_uri": "https://localhost:8080/",
          "height": 33
        },
        "outputId": "75066138-0048-47f9-b045-29e62b71de71"
      },
      "source": [
        "actor_fc_layer_params"
      ],
      "execution_count": null,
      "outputs": [
        {
          "output_type": "execute_result",
          "data": {
            "text/plain": [
              "(310,)"
            ]
          },
          "metadata": {
            "tags": []
          },
          "execution_count": 24
        }
      ]
    },
    {
      "cell_type": "code",
      "metadata": {
        "id": "k9hmG_ih6OI6",
        "colab_type": "code",
        "colab": {}
      },
      "source": [
        "with strategy.scope():\n",
        "    actor_net = actor_distribution_network.ActorDistributionNetwork(observation_spec,\n",
        "                                                                    action_spec,\n",
        "                                                                    fc_layer_params=actor_fc_layer_params,\n",
        "                                                                    continuous_projection_net=(\n",
        "                                              tanh_normal_projection_network.TanhNormalProjectionNetwork))"
      ],
      "execution_count": null,
      "outputs": []
    },
    {
      "cell_type": "code",
      "metadata": {
        "id": "4ZNrQfK16OI8",
        "colab_type": "code",
        "colab": {
          "base_uri": "https://localhost:8080/",
          "height": 53
        },
        "outputId": "c3339288-fe7b-4323-d55d-c09991f34061"
      },
      "source": [
        "time_step_spec"
      ],
      "execution_count": null,
      "outputs": [
        {
          "output_type": "execute_result",
          "data": {
            "text/plain": [
              "TimeStep(step_type=TensorSpec(shape=(), dtype=tf.int32, name='step_type'), reward=TensorSpec(shape=(), dtype=tf.float32, name='reward'), discount=BoundedTensorSpec(shape=(), dtype=tf.float32, name='discount', minimum=array(0., dtype=float32), maximum=array(1., dtype=float32)), observation=BoundedTensorSpec(shape=(310,), dtype=tf.float32, name='observation', minimum=array(-1., dtype=float32), maximum=array(1., dtype=float32)))"
            ]
          },
          "metadata": {
            "tags": []
          },
          "execution_count": 26
        }
      ]
    },
    {
      "cell_type": "code",
      "metadata": {
        "id": "VGkzecjK6OI_",
        "colab_type": "code",
        "colab": {}
      },
      "source": [
        "with strategy.scope():\n",
        "    train_step = train_utils.create_train_step()\n",
        "\n",
        "    tf_agent = sac_agent.SacAgent(\n",
        "                                time_step_spec,\n",
        "                                action_spec,\n",
        "                                actor_network=actor_net,\n",
        "                                critic_network=critic_net,\n",
        "                                actor_optimizer=tf.compat.v1.train.AdamOptimizer(\n",
        "                                                                learning_rate=actor_learning_rate),\n",
        "                                critic_optimizer=tf.compat.v1.train.AdamOptimizer(\n",
        "                                                                learning_rate=critic_learning_rate),\n",
        "                                alpha_optimizer=tf.compat.v1.train.AdamOptimizer(\n",
        "                                                                learning_rate=alpha_learning_rate),\n",
        "                                target_update_tau=target_update_tau,\n",
        "                                target_update_period=target_update_period,\n",
        "                                td_errors_loss_fn=tf.math.squared_difference,\n",
        "                                gamma=gamma,\n",
        "                                reward_scale_factor=reward_scale_factor,\n",
        "                                train_step_counter=train_step)\n",
        "\n",
        "    tf_agent.initialize()"
      ],
      "execution_count": null,
      "outputs": []
    },
    {
      "cell_type": "code",
      "metadata": {
        "id": "8gM1JEUN6OJB",
        "colab_type": "code",
        "colab": {}
      },
      "source": [
        "table_name = 'uniform_table'\n",
        "table = reverb.Table(\n",
        "    table_name,\n",
        "    max_size=replay_buffer_capacity,\n",
        "    sampler=reverb.selectors.Uniform(),\n",
        "    remover=reverb.selectors.Fifo(),\n",
        "    rate_limiter=reverb.rate_limiters.MinSize(1))\n",
        "\n",
        "reverb_server = reverb.Server([table])"
      ],
      "execution_count": null,
      "outputs": []
    },
    {
      "cell_type": "code",
      "metadata": {
        "id": "O-qcDPy36OJC",
        "colab_type": "code",
        "colab": {}
      },
      "source": [
        "reverb_replay = reverb_replay_buffer.ReverbReplayBuffer(\n",
        "    tf_agent.collect_data_spec,\n",
        "    sequence_length=2,\n",
        "    table_name=table_name,\n",
        "    local_server=reverb_server)"
      ],
      "execution_count": null,
      "outputs": []
    },
    {
      "cell_type": "code",
      "metadata": {
        "id": "aEVBb3Vy6OJF",
        "colab_type": "code",
        "colab": {}
      },
      "source": [
        "dataset = reverb_replay.as_dataset(\n",
        "      sample_batch_size=batch_size, num_steps=2).prefetch(50)\n",
        "experience_dataset_fn = lambda: dataset"
      ],
      "execution_count": null,
      "outputs": []
    },
    {
      "cell_type": "code",
      "metadata": {
        "id": "v4Nx9XuX6OJG",
        "colab_type": "code",
        "colab": {}
      },
      "source": [
        "tf_eval_policy = tf_agent.policy\n",
        "eval_policy = py_tf_eager_policy.PyTFEagerPolicy(\n",
        "  tf_eval_policy, use_tf_function=True)"
      ],
      "execution_count": null,
      "outputs": []
    },
    {
      "cell_type": "code",
      "metadata": {
        "id": "oNMwXs166OJI",
        "colab_type": "code",
        "colab": {}
      },
      "source": [
        "tf_collect_policy = tf_agent.collect_policy\n",
        "collect_policy = py_tf_eager_policy.PyTFEagerPolicy(\n",
        "  tf_collect_policy, use_tf_function=True)"
      ],
      "execution_count": null,
      "outputs": []
    },
    {
      "cell_type": "code",
      "metadata": {
        "id": "8DVAbbe56OJK",
        "colab_type": "code",
        "colab": {}
      },
      "source": [
        "rb_observer = reverb_utils.ReverbAddTrajectoryObserver(\n",
        "  reverb_replay.py_client,\n",
        "  table_name,\n",
        "  sequence_length=2,\n",
        "  stride_length=1)"
      ],
      "execution_count": null,
      "outputs": []
    },
    {
      "cell_type": "code",
      "metadata": {
        "id": "v74jTE1x6OJM",
        "colab_type": "code",
        "colab": {}
      },
      "source": [
        "random_policy = random_py_policy.RandomPyPolicy(\n",
        "  train_env.time_step_spec(), train_env.action_spec())"
      ],
      "execution_count": null,
      "outputs": []
    },
    {
      "cell_type": "code",
      "metadata": {
        "id": "Ssnyf2ZI6OJO",
        "colab_type": "code",
        "colab": {}
      },
      "source": [
        "initial_collect_actor = actor.Actor(\n",
        "              train_env,\n",
        "              random_policy,\n",
        "              train_step,\n",
        "              steps_per_run=initial_collect_steps,\n",
        "              observers=[rb_observer])\n",
        "initial_collect_actor.run()"
      ],
      "execution_count": null,
      "outputs": []
    },
    {
      "cell_type": "code",
      "metadata": {
        "id": "78nkhZQb6OJQ",
        "colab_type": "code",
        "colab": {}
      },
      "source": [
        "env_step_metric = py_metrics.EnvironmentSteps()\n",
        "collect_actor = actor.Actor(\n",
        "                  train_env,\n",
        "                  collect_policy,\n",
        "                  train_step,\n",
        "                  steps_per_run=1,\n",
        "                  metrics=actor.collect_metrics(10),\n",
        "                  summary_dir=os.path.join(tempdir, learner.TRAIN_DIR),\n",
        "                  observers=[rb_observer, env_step_metric])"
      ],
      "execution_count": null,
      "outputs": []
    },
    {
      "cell_type": "code",
      "metadata": {
        "id": "yodc_CfJ6OJR",
        "colab_type": "code",
        "colab": {}
      },
      "source": [
        "eval_actor = actor.Actor(\n",
        "  eval_env,\n",
        "  eval_policy,\n",
        "  train_step,\n",
        "  episodes_per_run=num_eval_episodes,\n",
        "  metrics=actor.eval_metrics(num_eval_episodes),\n",
        "  summary_dir=os.path.join(tempdir, 'eval'),\n",
        ")"
      ],
      "execution_count": null,
      "outputs": []
    },
    {
      "cell_type": "code",
      "metadata": {
        "id": "HcF7aCzv6OJT",
        "colab_type": "code",
        "colab": {
          "base_uri": "https://localhost:8080/",
          "height": 330
        },
        "outputId": "e1df0b3a-4fd1-4f36-caff-d23714888448"
      },
      "source": [
        "saved_model_dir = os.path.join(tempdir, learner.POLICY_SAVED_MODEL_DIR)\n",
        "\n",
        "# Triggers to save the agent's policy checkpoints.\n",
        "learning_triggers = [\n",
        "    triggers.PolicySavedModelTrigger(\n",
        "        saved_model_dir,\n",
        "        tf_agent,\n",
        "        train_step,\n",
        "        interval=policy_save_interval),\n",
        "    triggers.StepPerSecondLogTrigger(train_step, interval=1000),\n",
        "]\n",
        "\n",
        "agent_learner = learner.Learner(\n",
        "  tempdir,\n",
        "  train_step,\n",
        "  tf_agent,\n",
        "  experience_dataset_fn,\n",
        "  triggers=learning_triggers)"
      ],
      "execution_count": null,
      "outputs": [
        {
          "output_type": "stream",
          "text": [
            "WARNING:tensorflow:From /usr/local/lib/python3.6/dist-packages/tensorflow/python/ops/linalg/linear_operator_diag.py:166: calling LinearOperator.__init__ (from tensorflow.python.ops.linalg.linear_operator) with graph_parents is deprecated and will be removed in a future version.\n",
            "Instructions for updating:\n",
            "Do not pass `graph_parents`.  They will  no longer be used.\n"
          ],
          "name": "stdout"
        },
        {
          "output_type": "stream",
          "text": [
            "WARNING:absl:WARNING: Could not serialize policy.distribution() for policy \"<tf_agents.policies.actor_policy.ActorPolicy object at 0x7f2e22490240>\". Calling saved_model.distribution() will raise the following assertion error: Unable to make a CompositeTensor for \"tfp.distributions.SquashToSpecNormal(\"ActorDistributionNetwork_TanhNormalProjectionNetwork_SquashToSpecNormal\", dtype=float32)\" of type `<class 'tf_agents.distributions.utils.SquashToSpecNormal'>`. Email `tfprobability@tensorflow.org` or file an issue on github if you would benefit from this working. (Unable to convert dependent entry 'scale' of object 'tfp.distributions.SquashToSpecNormal(\"ActorDistributionNetwork_TanhNormalProjectionNetwork_SquashToSpecNormal\", dtype=float32)': Failed to convert object of type <class 'tensorflow.python.ops.linalg.linear_operator_diag.LinearOperatorDiag'> to Tensor. Contents: <tensorflow.python.ops.linalg.linear_operator_diag.LinearOperatorDiag object at 0x7f2e10036eb8>. Consider casting elements to a supported type.)\n",
            "WARNING:absl:WARNING: Could not serialize policy.distribution() for policy \"<tf_agents.policies.actor_policy.ActorPolicy object at 0x7f2e22490240>\". Calling saved_model.distribution() will raise the following assertion error: Unable to make a CompositeTensor for \"tfp.distributions.SquashToSpecNormal(\"ActorDistributionNetwork_TanhNormalProjectionNetwork_SquashToSpecNormal\", dtype=float32)\" of type `<class 'tf_agents.distributions.utils.SquashToSpecNormal'>`. Email `tfprobability@tensorflow.org` or file an issue on github if you would benefit from this working. (Unable to convert dependent entry 'scale' of object 'tfp.distributions.SquashToSpecNormal(\"ActorDistributionNetwork_TanhNormalProjectionNetwork_SquashToSpecNormal\", dtype=float32)': Failed to convert object of type <class 'tensorflow.python.ops.linalg.linear_operator_diag.LinearOperatorDiag'> to Tensor. Contents: <tensorflow.python.ops.linalg.linear_operator_diag.LinearOperatorDiag object at 0x7f2e10021e80>. Consider casting elements to a supported type.)\n",
            "WARNING:absl:WARNING: Could not serialize policy.distribution() for policy \"<tf_agents.policies.actor_policy.ActorPolicy object at 0x7f2e22490240>\". Calling saved_model.distribution() will raise the following assertion error: Unable to make a CompositeTensor for \"tfp.distributions.SquashToSpecNormal(\"ActorDistributionNetwork_TanhNormalProjectionNetwork_SquashToSpecNormal\", dtype=float32)\" of type `<class 'tf_agents.distributions.utils.SquashToSpecNormal'>`. Email `tfprobability@tensorflow.org` or file an issue on github if you would benefit from this working. (Unable to convert dependent entry 'scale' of object 'tfp.distributions.SquashToSpecNormal(\"ActorDistributionNetwork_TanhNormalProjectionNetwork_SquashToSpecNormal\", dtype=float32)': Failed to convert object of type <class 'tensorflow.python.ops.linalg.linear_operator_diag.LinearOperatorDiag'> to Tensor. Contents: <tensorflow.python.ops.linalg.linear_operator_diag.LinearOperatorDiag object at 0x7f2db6704e10>. Consider casting elements to a supported type.)\n"
          ],
          "name": "stderr"
        },
        {
          "output_type": "stream",
          "text": [
            "WARNING:tensorflow:From /usr/local/lib/python3.6/dist-packages/tensorflow/python/training/tracking/tracking.py:111: Layer.updates (from tensorflow.python.keras.engine.base_layer) is deprecated and will be removed in a future version.\n",
            "Instructions for updating:\n",
            "This property should not be used in TensorFlow 2.0, as updates are applied automatically.\n"
          ],
          "name": "stdout"
        },
        {
          "output_type": "stream",
          "text": [
            "WARNING:tensorflow:From /usr/local/lib/python3.6/dist-packages/tensorflow/python/training/tracking/tracking.py:111: Layer.updates (from tensorflow.python.keras.engine.base_layer) is deprecated and will be removed in a future version.\n",
            "Instructions for updating:\n",
            "This property should not be used in TensorFlow 2.0, as updates are applied automatically.\n"
          ],
          "name": "stderr"
        },
        {
          "output_type": "stream",
          "text": [
            "INFO:tensorflow:Assets written to: /tmp/policies/collect_policy/assets\n"
          ],
          "name": "stdout"
        },
        {
          "output_type": "stream",
          "text": [
            "INFO:tensorflow:Assets written to: /tmp/policies/collect_policy/assets\n"
          ],
          "name": "stderr"
        },
        {
          "output_type": "stream",
          "text": [
            "INFO:tensorflow:Assets written to: /tmp/policies/greedy_policy/assets\n"
          ],
          "name": "stdout"
        },
        {
          "output_type": "stream",
          "text": [
            "INFO:tensorflow:Assets written to: /tmp/policies/greedy_policy/assets\n"
          ],
          "name": "stderr"
        },
        {
          "output_type": "stream",
          "text": [
            "INFO:tensorflow:Assets written to: /tmp/policies/policy/assets\n"
          ],
          "name": "stdout"
        },
        {
          "output_type": "stream",
          "text": [
            "INFO:tensorflow:Assets written to: /tmp/policies/policy/assets\n"
          ],
          "name": "stderr"
        }
      ]
    },
    {
      "cell_type": "code",
      "metadata": {
        "id": "8p0RFzeQ6OJV",
        "colab_type": "code",
        "colab": {
          "base_uri": "https://localhost:8080/",
          "height": 50
        },
        "outputId": "7c527e0e-1436-479e-daf5-40ab740d6d3b"
      },
      "source": [
        "%%time\n",
        "def get_eval_metrics():\n",
        "    eval_actor.run()\n",
        "    results = {}\n",
        "    for metric in eval_actor.metrics:\n",
        "        results[metric.name] = metric.result()\n",
        "    return results\n",
        "\n",
        "metrics = get_eval_metrics()"
      ],
      "execution_count": null,
      "outputs": [
        {
          "output_type": "stream",
          "text": [
            "CPU times: user 3.45 s, sys: 275 ms, total: 3.72 s\n",
            "Wall time: 3.29 s\n"
          ],
          "name": "stdout"
        }
      ]
    },
    {
      "cell_type": "code",
      "metadata": {
        "id": "gj7kzMcAMWxH",
        "colab_type": "code",
        "colab": {
          "base_uri": "https://localhost:8080/",
          "height": 50
        },
        "outputId": "b5543de3-00e1-4d20-f323-558d29df92de"
      },
      "source": [
        "eval_env._y"
      ],
      "execution_count": null,
      "outputs": [
        {
          "output_type": "execute_result",
          "data": {
            "text/plain": [
              "array([-0.06380255, -0.00887402, -0.1040407 , ...,  0.01091622,\n",
              "       -0.07825399,  0.1870721 ], dtype=float32)"
            ]
          },
          "metadata": {
            "tags": []
          },
          "execution_count": 40
        }
      ]
    },
    {
      "cell_type": "code",
      "metadata": {
        "id": "6zI3plJX6OJY",
        "colab_type": "code",
        "colab": {
          "base_uri": "https://localhost:8080/",
          "height": 66
        },
        "outputId": "0ac8ac9c-9c7e-443a-f9a1-9d8bde31c507"
      },
      "source": [
        "%%time\n",
        "def log_eval_metrics(step, metrics):\n",
        "    eval_results = (', ').join(\n",
        "              '{} = {:.6f}'.format(name, result) for name, result in metrics.items())\n",
        "    print('step = {0}: {1}'.format(step, eval_results))\n",
        "\n",
        "log_eval_metrics(0, metrics)"
      ],
      "execution_count": null,
      "outputs": [
        {
          "output_type": "stream",
          "text": [
            "step = 0: AverageReturn = -843.354919, AverageEpisodeLength = 2499.000000\n",
            "CPU times: user 462 µs, sys: 0 ns, total: 462 µs\n",
            "Wall time: 471 µs\n"
          ],
          "name": "stdout"
        }
      ]
    },
    {
      "cell_type": "code",
      "metadata": {
        "id": "lHcfpMpTBROF",
        "colab_type": "code",
        "colab": {
          "base_uri": "https://localhost:8080/",
          "height": 33
        },
        "outputId": "f8c508de-97a3-4c50-a16c-2a2096bfab90"
      },
      "source": [
        "training_params = [num_iterations,\n",
        "                    log_interval,\n",
        "                    num_eval_episodes,\n",
        "                    eval_interval]\n",
        "          \n",
        "print(training_params)"
      ],
      "execution_count": null,
      "outputs": [
        {
          "output_type": "stream",
          "text": [
            "[10, 100, 1, 1]\n"
          ],
          "name": "stdout"
        }
      ]
    },
    {
      "cell_type": "code",
      "metadata": {
        "id": "DrUeXAbq6OJa",
        "colab_type": "code",
        "colab": {
          "base_uri": "https://localhost:8080/",
          "height": 212
        },
        "outputId": "a628efd9-2077-4071-cb99-83cf0f6cd89d"
      },
      "source": [
        "#@test {\"skip\": true}\n",
        "try:\n",
        "    %%time\n",
        "except:\n",
        "    pass\n",
        "\n",
        "start = time.time()\n",
        "# Reset the train step\n",
        "tf_agent.train_step_counter.assign(0)\n",
        "\n",
        "# Evaluate the agent's policy once before training.\n",
        "avg_return = metrics[\"AverageReturn\"]\n",
        "returns = [avg_return]\n",
        "\n",
        "for _ in range(num_iterations):\n",
        "    # Training.\n",
        "    collect_actor.run()\n",
        "    loss_info = agent_learner.run(iterations=1)\n",
        "\n",
        "    # Evaluating.\n",
        "    step = agent_learner.train_step_numpy\n",
        "\n",
        "    if eval_interval and step % eval_interval == 0:\n",
        "        metrics = get_eval_metrics()\n",
        "        log_eval_metrics(step, metrics)\n",
        "        returns.append(metrics[\"AverageReturn\"])\n",
        "\n",
        "    if log_interval and step % log_interval == 0:\n",
        "        print('step = {0}: loss = {1}'.format(step, loss_info.loss.numpy()))\n",
        "        minsec = divmod((time.time() - start), 60)\n",
        "        hourmin = divmod(minsec[0], 60)\n",
        "        print(f\"Time elasped: {int(hourmin[0])}:{int(hourmin[1])}:{minsec[1]}\")\n",
        "\n",
        "rb_observer.close()\n",
        "reverb_server.stop()"
      ],
      "execution_count": null,
      "outputs": [
        {
          "output_type": "stream",
          "text": [
            "CPU times: user 2 µs, sys: 0 ns, total: 2 µs\n",
            "Wall time: 4.29 µs\n",
            "step = 1: AverageReturn = -841.190735, AverageEpisodeLength = 2499.000000\n",
            "step = 2: AverageReturn = -858.180542, AverageEpisodeLength = 2499.000000\n",
            "step = 3: AverageReturn = -866.887695, AverageEpisodeLength = 2499.000000\n",
            "step = 4: AverageReturn = -883.350037, AverageEpisodeLength = 2499.000000\n",
            "step = 5: AverageReturn = -880.205139, AverageEpisodeLength = 2499.000000\n",
            "step = 6: AverageReturn = -908.121765, AverageEpisodeLength = 2499.000000\n",
            "step = 7: AverageReturn = -864.832520, AverageEpisodeLength = 2499.000000\n",
            "step = 8: AverageReturn = -870.467529, AverageEpisodeLength = 2499.000000\n",
            "step = 9: AverageReturn = -873.192322, AverageEpisodeLength = 2499.000000\n",
            "step = 10: AverageReturn = -837.118347, AverageEpisodeLength = 2499.000000\n"
          ],
          "name": "stdout"
        }
      ]
    },
    {
      "cell_type": "code",
      "metadata": {
        "id": "GmtrxGbo6OJb",
        "colab_type": "code",
        "colab": {
          "base_uri": "https://localhost:8080/",
          "height": 295
        },
        "outputId": "34fbcf3d-ad37-4270-d866-66fb9b853128"
      },
      "source": [
        "#@test {\"skip\": true}\n",
        "\n",
        "steps = range(0, 11, eval_interval)\n",
        "plt.plot(steps, returns)\n",
        "plt.ylabel('Average Return')\n",
        "plt.xlabel('Step')\n",
        "plt.ylim()"
      ],
      "execution_count": null,
      "outputs": [
        {
          "output_type": "execute_result",
          "data": {
            "text/plain": [
              "(-911.6719360351562, -833.5681762695312)"
            ]
          },
          "metadata": {
            "tags": []
          },
          "execution_count": 46
        },
        {
          "output_type": "display_data",
          "data": {
            "image/png": "[encoded data removed]",
            "text/plain": [
              "<Figure size 432x288 with 1 Axes>"
            ]
          },
          "metadata": {
            "tags": [],
            "needs_background": "light"
          }
        }
      ]
    },
    {
      "cell_type": "code",
      "metadata": {
        "id": "MYWwI0o_CD9c",
        "colab_type": "code",
        "colab": {
          "base_uri": "https://localhost:8080/",
          "height": 82
        },
        "outputId": "397ed57d-284f-422c-b95e-c89e132149a8"
      },
      "source": [
        "for metric in collect_actor.metrics:\n",
        "  print(f\"{metric.name} = {metric.result()}\")"
      ],
      "execution_count": null,
      "outputs": [
        {
          "output_type": "stream",
          "text": [
            "NumberOfEpisodes = 0\n",
            "EnvironmentSteps = 10\n",
            "AverageReturn = 0.0\n",
            "AverageEpisodeLength = 0.0\n"
          ],
          "name": "stdout"
        }
      ]
    },
    {
      "cell_type": "code",
      "metadata": {
        "id": "M2fSUEvIYKvK",
        "colab_type": "code",
        "colab": {
          "base_uri": "https://localhost:8080/",
          "height": 33
        },
        "outputId": "f0ced462-b291-4efb-f50d-632a4a210c2d"
      },
      "source": [
        "collect_actor.metrics[2].result()"
      ],
      "execution_count": null,
      "outputs": [
        {
          "output_type": "execute_result",
          "data": {
            "text/plain": [
              "array(0., dtype=float32)"
            ]
          },
          "metadata": {
            "tags": []
          },
          "execution_count": 48
        }
      ]
    }
  ]
}