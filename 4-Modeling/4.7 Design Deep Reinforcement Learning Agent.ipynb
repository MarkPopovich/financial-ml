{
  "nbformat": 4,
  "nbformat_minor": 0,
  "metadata": {
    "kernelspec": {
      "display_name": "Python 3",
      "language": "python",
      "name": "python3"
    },
    "language_info": {
      "codemirror_mode": {
        "name": "ipython",
        "version": 3
      },
      "file_extension": ".py",
      "mimetype": "text/x-python",
      "name": "python",
      "nbconvert_exporter": "python",
      "pygments_lexer": "ipython3",
      "version": "3.7.6"
    },
    "colab": {
      "name": "4.7 Design Deep Reinforcement Learning Agent.ipynb",
      "provenance": [],
      "toc_visible": true
    }
  },
  "cells": [
    {
      "cell_type": "markdown",
      "metadata": {
        "id": "hm6b5yaR6OH-",
        "colab_type": "text"
      },
      "source": [
        "# 4.7 Design Deep Reinforcement Learning Agent\n",
        "## Data Considerations \n",
        "\n",
        "In this notebook we will implement some of the considerations necessary to train this model on larger datasets in the scope of > gb. \n",
        "\n",
        "In order to do so, we will take the following steps:\n",
        "\n",
        "1) Save datasets as TFDatasets   \n",
        "2) Implement iteration on the TFDataset as most models prefer. This is important for distributed learning.   \n",
        "3) Checkpoint and save models accordingly so they can be loaded again.  \n",
        "4) Predict on evaluation data.  "
      ]
    },
    {
      "cell_type": "markdown",
      "metadata": {
        "id": "J1kAIK7f6OIA",
        "colab_type": "text"
      },
      "source": [
        "#### Download datasets for all the stocks in the S&P 500."
      ]
    },
    {
      "cell_type": "code",
      "metadata": {
        "id": "u1xW-_jbiS1v",
        "colab_type": "code",
        "colab": {}
      },
      "source": [
        "from IPython import display\n",
        "!pip install gcsfs\n",
        "!pip install tf-agents[reverb]\n",
        "display.clear_output()"
      ],
      "execution_count": 1,
      "outputs": []
    },
    {
      "cell_type": "code",
      "metadata": {
        "id": "eZ_5JnXK1vQk",
        "colab_type": "code",
        "colab": {}
      },
      "source": [
        "from google.colab import drive\n",
        "from google.cloud import storage\n",
        "import pandas as pd\n",
        "import time\n",
        "import pandas as pd \n",
        "import matplotlib.pyplot as plt\n",
        "from __future__ import absolute_import, division, print_function\n",
        "\n",
        "import abc\n",
        "import tensorflow as tf\n",
        "import numpy as np\n",
        "import base64\n",
        "import IPython\n",
        "import matplotlib.pyplot as plt\n",
        "import numpy as np\n",
        "import os\n",
        "import tempfile\n",
        "\n",
        "from tf_agents.environments import py_environment\n",
        "from tf_agents.environments import tf_environment\n",
        "from tf_agents.environments import tf_py_environment\n",
        "from tf_agents.environments import utils\n",
        "from tf_agents.specs import array_spec\n",
        "from tf_agents.environments import wrappers\n",
        "from tf_agents.trajectories import time_step as ts\n",
        "from tf_agents.agents.dqn import dqn_agent\n",
        "from tf_agents.drivers import dynamic_step_driver\n",
        "from tf_agents.eval import metric_utils\n",
        "from tf_agents.metrics import tf_metrics\n",
        "from tf_agents.networks import q_network\n",
        "from tf_agents.policies import random_tf_policy\n",
        "from tf_agents.replay_buffers import tf_uniform_replay_buffer\n",
        "from tf_agents.trajectories import trajectory\n",
        "from tf_agents.utils import common\n",
        "\n",
        "from tf_agents.agents.ddpg import critic_network\n",
        "from tf_agents.agents.sac import sac_agent\n",
        "from tf_agents.agents.sac import tanh_normal_projection_network\n",
        "from tf_agents.experimental.train import actor\n",
        "from tf_agents.experimental.train import learner\n",
        "from tf_agents.experimental.train import triggers\n",
        "from tf_agents.experimental.train.utils import spec_utils\n",
        "from tf_agents.experimental.train.utils import strategy_utils\n",
        "from tf_agents.experimental.train.utils import train_utils\n",
        "from tf_agents.metrics import py_metrics\n",
        "from tf_agents.networks import actor_distribution_network\n",
        "from tf_agents.policies import greedy_policy\n",
        "from tf_agents.policies import py_tf_eager_policy\n",
        "from tf_agents.policies import random_py_policy\n",
        "from tf_agents.replay_buffers import reverb_replay_buffer\n",
        "from tf_agents.replay_buffers import reverb_utils\n",
        "import reverb\n",
        "\n",
        "tf.compat.v1.enable_v2_behavior()"
      ],
      "execution_count": 2,
      "outputs": []
    },
    {
      "cell_type": "code",
      "metadata": {
        "id": "zs_lLrRTasCG",
        "colab_type": "code",
        "colab": {}
      },
      "source": [
        "# drive.mount('/content/drive')\n",
        "\n",
        "# os.environ['GOOGLE_APPLICATION_CREDENTIALS'] = \"/content/drive/My Drive/fin-aml/fin-aml-gcskeys-337dfd8d8867.json\"\n",
        "\n",
        "# storage_client = storage.Client()\n",
        "# display.clear_output()"
      ],
      "execution_count": 3,
      "outputs": []
    },
    {
      "cell_type": "code",
      "metadata": {
        "id": "2GhPWMKn1vQu",
        "colab_type": "code",
        "colab": {}
      },
      "source": [
        "pd.set_option('display.max_rows', 100)\n",
        "pd.set_option('display.max_columns', 100)\n",
        "\n",
        "tempdir = tempfile.gettempdir()"
      ],
      "execution_count": 4,
      "outputs": []
    },
    {
      "cell_type": "code",
      "metadata": {
        "id": "eQTvbiXI65JW",
        "colab_type": "code",
        "colab": {}
      },
      "source": [
        "# df = pd.read_csv('gs://fin-datasets-aml/data/sp500/spdfm.csv')\n",
        "# df.set_index('datetime', inplace=True)\n",
        "# df.head()"
      ],
      "execution_count": 5,
      "outputs": []
    },
    {
      "cell_type": "code",
      "metadata": {
        "id": "UVPJeAq3Fv59",
        "colab_type": "code",
        "colab": {
          "base_uri": "https://localhost:8080/",
          "height": 33
        },
        "outputId": "e10e3ff1-5878-4579-e42c-241beaee4783"
      },
      "source": [
        "# create toy data to test whether the model works\n",
        "# 311 time steps of a sine wave, X = 0:310, y = 311\n",
        "# linspace 0 311 as columns\n",
        "# rows of different unique waves in A, B, C, D\n",
        "# maybe something like 5000 rows to start with\n",
        "import numpy as np\n",
        "feature_space = np.linspace(0, 311, 311).reshape(1, 311)\n",
        "\n",
        "A = np.random.normal(0, .1, size=5000).reshape(5000,1)\n",
        "B = np.random.normal(0, .1, size=5000).reshape(5000, 1)\n",
        "C = np.random.normal(0, 3, size=5000).reshape(5000, 1)\n",
        "D = np.random.normal(0, 100, size=5000).reshape(5000, 1)\n",
        "\n",
        "\n",
        "Xy = np.sin(np.matmul(C, feature_space)*(2*np.pi) - D) * A + B\n",
        "# X = np.matmul(, A) + B\n",
        "# X.shape\n",
        "Xy.shape"
      ],
      "execution_count": 6,
      "outputs": [
        {
          "output_type": "execute_result",
          "data": {
            "text/plain": [
              "(5000, 311)"
            ]
          },
          "metadata": {
            "tags": []
          },
          "execution_count": 6
        }
      ]
    },
    {
      "cell_type": "code",
      "metadata": {
        "id": "IFOZL-WuUti2",
        "colab_type": "code",
        "colab": {
          "base_uri": "https://localhost:8080/",
          "height": 265
        },
        "outputId": "3e44424e-a89b-49bc-e09f-979edf7818d4"
      },
      "source": [
        "import matplotlib.pyplot as plt\n",
        "\n",
        "plt.plot(Xy[3]);"
      ],
      "execution_count": 7,
      "outputs": [
        {
          "output_type": "display_data",
          "data": {
            "image/png": "[encoded data removed]",
            "text/plain": [
              "<Figure size 432x288 with 1 Axes>"
            ]
          },
          "metadata": {
            "tags": [],
            "needs_background": "light"
          }
        }
      ]
    },
    {
      "cell_type": "code",
      "metadata": {
        "id": "uK98aSZKN_Ss",
        "colab_type": "code",
        "colab": {
          "base_uri": "https://localhost:8080/",
          "height": 238
        },
        "outputId": "5c77f406-6324-4cc4-9bcd-4ce8b212f1a6"
      },
      "source": [
        "import pandas as pd \n",
        "\n",
        "Xdf = pd.DataFrame(Xy)\n",
        "Xdf.head()"
      ],
      "execution_count": 8,
      "outputs": [
        {
          "output_type": "execute_result",
          "data": {
            "text/html": [
              "<div>\n",
              "<style scoped>\n",
              "    .dataframe tbody tr th:only-of-type {\n",
              "        vertical-align: middle;\n",
              "    }\n",
              "\n",
              "    .dataframe tbody tr th {\n",
              "        vertical-align: top;\n",
              "    }\n",
              "\n",
              "    .dataframe thead th {\n",
              "        text-align: right;\n",
              "    }\n",
              "</style>\n",
              "<table border=\"1\" class=\"dataframe\">\n",
              "  <thead>\n",
              "    <tr style=\"text-align: right;\">\n",
              "      <th></th>\n",
              "      <th>0</th>\n",
              "      <th>1</th>\n",
              "      <th>2</th>\n",
              "      <th>3</th>\n",
              "      <th>4</th>\n",
              "      <th>5</th>\n",
              "      <th>6</th>\n",
              "      <th>7</th>\n",
              "      <th>8</th>\n",
              "      <th>9</th>\n",
              "      <th>10</th>\n",
              "      <th>11</th>\n",
              "      <th>12</th>\n",
              "      <th>13</th>\n",
              "      <th>14</th>\n",
              "      <th>15</th>\n",
              "      <th>16</th>\n",
              "      <th>17</th>\n",
              "      <th>18</th>\n",
              "      <th>19</th>\n",
              "      <th>20</th>\n",
              "      <th>21</th>\n",
              "      <th>22</th>\n",
              "      <th>23</th>\n",
              "      <th>24</th>\n",
              "      <th>25</th>\n",
              "      <th>26</th>\n",
              "      <th>27</th>\n",
              "      <th>28</th>\n",
              "      <th>29</th>\n",
              "      <th>30</th>\n",
              "      <th>31</th>\n",
              "      <th>32</th>\n",
              "      <th>33</th>\n",
              "      <th>34</th>\n",
              "      <th>35</th>\n",
              "      <th>36</th>\n",
              "      <th>37</th>\n",
              "      <th>38</th>\n",
              "      <th>39</th>\n",
              "      <th>40</th>\n",
              "      <th>41</th>\n",
              "      <th>42</th>\n",
              "      <th>43</th>\n",
              "      <th>44</th>\n",
              "      <th>45</th>\n",
              "      <th>46</th>\n",
              "      <th>47</th>\n",
              "      <th>48</th>\n",
              "      <th>49</th>\n",
              "      <th>...</th>\n",
              "      <th>261</th>\n",
              "      <th>262</th>\n",
              "      <th>263</th>\n",
              "      <th>264</th>\n",
              "      <th>265</th>\n",
              "      <th>266</th>\n",
              "      <th>267</th>\n",
              "      <th>268</th>\n",
              "      <th>269</th>\n",
              "      <th>270</th>\n",
              "      <th>271</th>\n",
              "      <th>272</th>\n",
              "      <th>273</th>\n",
              "      <th>274</th>\n",
              "      <th>275</th>\n",
              "      <th>276</th>\n",
              "      <th>277</th>\n",
              "      <th>278</th>\n",
              "      <th>279</th>\n",
              "      <th>280</th>\n",
              "      <th>281</th>\n",
              "      <th>282</th>\n",
              "      <th>283</th>\n",
              "      <th>284</th>\n",
              "      <th>285</th>\n",
              "      <th>286</th>\n",
              "      <th>287</th>\n",
              "      <th>288</th>\n",
              "      <th>289</th>\n",
              "      <th>290</th>\n",
              "      <th>291</th>\n",
              "      <th>292</th>\n",
              "      <th>293</th>\n",
              "      <th>294</th>\n",
              "      <th>295</th>\n",
              "      <th>296</th>\n",
              "      <th>297</th>\n",
              "      <th>298</th>\n",
              "      <th>299</th>\n",
              "      <th>300</th>\n",
              "      <th>301</th>\n",
              "      <th>302</th>\n",
              "      <th>303</th>\n",
              "      <th>304</th>\n",
              "      <th>305</th>\n",
              "      <th>306</th>\n",
              "      <th>307</th>\n",
              "      <th>308</th>\n",
              "      <th>309</th>\n",
              "      <th>310</th>\n",
              "    </tr>\n",
              "  </thead>\n",
              "  <tbody>\n",
              "    <tr>\n",
              "      <th>0</th>\n",
              "      <td>-0.159343</td>\n",
              "      <td>-0.188872</td>\n",
              "      <td>0.009300</td>\n",
              "      <td>0.146388</td>\n",
              "      <td>0.022622</td>\n",
              "      <td>-0.181641</td>\n",
              "      <td>-0.168741</td>\n",
              "      <td>0.042524</td>\n",
              "      <td>0.144290</td>\n",
              "      <td>-0.011741</td>\n",
              "      <td>-0.198194</td>\n",
              "      <td>-0.143362</td>\n",
              "      <td>0.072852</td>\n",
              "      <td>0.135371</td>\n",
              "      <td>-0.046909</td>\n",
              "      <td>-0.208363</td>\n",
              "      <td>-0.113713</td>\n",
              "      <td>0.099113</td>\n",
              "      <td>0.119976</td>\n",
              "      <td>-0.081526</td>\n",
              "      <td>-0.211757</td>\n",
              "      <td>-0.080938</td>\n",
              "      <td>0.120295</td>\n",
              "      <td>0.098698</td>\n",
              "      <td>-0.114258</td>\n",
              "      <td>-0.208244</td>\n",
              "      <td>-0.046300</td>\n",
              "      <td>0.135583</td>\n",
              "      <td>0.072357</td>\n",
              "      <td>-0.143842</td>\n",
              "      <td>-0.197960</td>\n",
              "      <td>-0.011134</td>\n",
              "      <td>0.144385</td>\n",
              "      <td>0.041969</td>\n",
              "      <td>-0.169138</td>\n",
              "      <td>-0.181301</td>\n",
              "      <td>0.023203</td>\n",
              "      <td>0.146363</td>\n",
              "      <td>0.008705</td>\n",
              "      <td>-0.189170</td>\n",
              "      <td>-0.158910</td>\n",
              "      <td>0.055389</td>\n",
              "      <td>0.141442</td>\n",
              "      <td>-0.026152</td>\n",
              "      <td>-0.203167</td>\n",
              "      <td>-0.131651</td>\n",
              "      <td>0.084181</td>\n",
              "      <td>0.129809</td>\n",
              "      <td>-0.061258</td>\n",
              "      <td>-0.210589</td>\n",
              "      <td>...</td>\n",
              "      <td>0.013067</td>\n",
              "      <td>-0.186935</td>\n",
              "      <td>-0.162059</td>\n",
              "      <td>0.051445</td>\n",
              "      <td>0.142450</td>\n",
              "      <td>-0.021661</td>\n",
              "      <td>-0.201738</td>\n",
              "      <td>-0.135366</td>\n",
              "      <td>0.080735</td>\n",
              "      <td>0.131654</td>\n",
              "      <td>-0.056810</td>\n",
              "      <td>-0.210020</td>\n",
              "      <td>-0.104711</td>\n",
              "      <td>0.105656</td>\n",
              "      <td>0.114525</td>\n",
              "      <td>-0.091028</td>\n",
              "      <td>-0.211463</td>\n",
              "      <td>-0.071277</td>\n",
              "      <td>0.125245</td>\n",
              "      <td>0.091723</td>\n",
              "      <td>-0.122993</td>\n",
              "      <td>-0.206010</td>\n",
              "      <td>-0.036353</td>\n",
              "      <td>0.138748</td>\n",
              "      <td>0.064128</td>\n",
              "      <td>-0.151474</td>\n",
              "      <td>-0.193873</td>\n",
              "      <td>-0.001284</td>\n",
              "      <td>0.145645</td>\n",
              "      <td>0.032802</td>\n",
              "      <td>-0.175372</td>\n",
              "      <td>-0.175519</td>\n",
              "      <td>0.032576</td>\n",
              "      <td>0.145668</td>\n",
              "      <td>-0.001045</td>\n",
              "      <td>-0.193767</td>\n",
              "      <td>-0.151655</td>\n",
              "      <td>0.063924</td>\n",
              "      <td>0.138819</td>\n",
              "      <td>-0.036110</td>\n",
              "      <td>-0.205949</td>\n",
              "      <td>-0.123202</td>\n",
              "      <td>0.091549</td>\n",
              "      <td>0.125359</td>\n",
              "      <td>-0.071040</td>\n",
              "      <td>-0.211449</td>\n",
              "      <td>-0.091257</td>\n",
              "      <td>0.114387</td>\n",
              "      <td>0.105810</td>\n",
              "      <td>-0.104489</td>\n",
              "    </tr>\n",
              "    <tr>\n",
              "      <th>1</th>\n",
              "      <td>-0.011388</td>\n",
              "      <td>-0.008898</td>\n",
              "      <td>-0.007982</td>\n",
              "      <td>-0.008678</td>\n",
              "      <td>-0.010957</td>\n",
              "      <td>-0.014722</td>\n",
              "      <td>-0.019810</td>\n",
              "      <td>-0.026004</td>\n",
              "      <td>-0.033039</td>\n",
              "      <td>-0.040612</td>\n",
              "      <td>-0.048399</td>\n",
              "      <td>-0.056067</td>\n",
              "      <td>-0.063286</td>\n",
              "      <td>-0.069747</td>\n",
              "      <td>-0.075174</td>\n",
              "      <td>-0.079333</td>\n",
              "      <td>-0.082047</td>\n",
              "      <td>-0.083199</td>\n",
              "      <td>-0.082739</td>\n",
              "      <td>-0.080688</td>\n",
              "      <td>-0.077133</td>\n",
              "      <td>-0.072227</td>\n",
              "      <td>-0.066180</td>\n",
              "      <td>-0.059251</td>\n",
              "      <td>-0.051737</td>\n",
              "      <td>-0.043960</td>\n",
              "      <td>-0.036254</td>\n",
              "      <td>-0.028949</td>\n",
              "      <td>-0.022358</td>\n",
              "      <td>-0.016763</td>\n",
              "      <td>-0.012405</td>\n",
              "      <td>-0.009470</td>\n",
              "      <td>-0.008084</td>\n",
              "      <td>-0.008306</td>\n",
              "      <td>-0.010128</td>\n",
              "      <td>-0.013470</td>\n",
              "      <td>-0.018189</td>\n",
              "      <td>-0.024084</td>\n",
              "      <td>-0.030901</td>\n",
              "      <td>-0.038349</td>\n",
              "      <td>-0.046108</td>\n",
              "      <td>-0.053845</td>\n",
              "      <td>-0.061229</td>\n",
              "      <td>-0.067944</td>\n",
              "      <td>-0.073701</td>\n",
              "      <td>-0.078254</td>\n",
              "      <td>-0.081408</td>\n",
              "      <td>-0.083027</td>\n",
              "      <td>-0.083042</td>\n",
              "      <td>-0.081452</td>\n",
              "      <td>...</td>\n",
              "      <td>-0.081586</td>\n",
              "      <td>-0.078545</td>\n",
              "      <td>-0.074092</td>\n",
              "      <td>-0.068418</td>\n",
              "      <td>-0.061766</td>\n",
              "      <td>-0.054422</td>\n",
              "      <td>-0.046700</td>\n",
              "      <td>-0.038931</td>\n",
              "      <td>-0.031448</td>\n",
              "      <td>-0.024572</td>\n",
              "      <td>-0.018598</td>\n",
              "      <td>-0.013782</td>\n",
              "      <td>-0.010329</td>\n",
              "      <td>-0.008389</td>\n",
              "      <td>-0.008044</td>\n",
              "      <td>-0.009310</td>\n",
              "      <td>-0.012131</td>\n",
              "      <td>-0.016387</td>\n",
              "      <td>-0.021895</td>\n",
              "      <td>-0.028420</td>\n",
              "      <td>-0.035682</td>\n",
              "      <td>-0.043369</td>\n",
              "      <td>-0.051152</td>\n",
              "      <td>-0.058697</td>\n",
              "      <td>-0.065682</td>\n",
              "      <td>-0.071805</td>\n",
              "      <td>-0.076806</td>\n",
              "      <td>-0.080470</td>\n",
              "      <td>-0.082639</td>\n",
              "      <td>-0.083221</td>\n",
              "      <td>-0.082190</td>\n",
              "      <td>-0.079592</td>\n",
              "      <td>-0.075537</td>\n",
              "      <td>-0.070198</td>\n",
              "      <td>-0.063806</td>\n",
              "      <td>-0.056634</td>\n",
              "      <td>-0.048989</td>\n",
              "      <td>-0.041199</td>\n",
              "      <td>-0.033598</td>\n",
              "      <td>-0.026512</td>\n",
              "      <td>-0.020244</td>\n",
              "      <td>-0.015064</td>\n",
              "      <td>-0.011192</td>\n",
              "      <td>-0.008796</td>\n",
              "      <td>-0.007978</td>\n",
              "      <td>-0.008773</td>\n",
              "      <td>-0.011146</td>\n",
              "      <td>-0.014997</td>\n",
              "      <td>-0.020160</td>\n",
              "      <td>-0.026413</td>\n",
              "    </tr>\n",
              "    <tr>\n",
              "      <th>2</th>\n",
              "      <td>-0.112250</td>\n",
              "      <td>-0.068814</td>\n",
              "      <td>-0.054659</td>\n",
              "      <td>-0.101011</td>\n",
              "      <td>-0.105615</td>\n",
              "      <td>-0.058315</td>\n",
              "      <td>-0.063457</td>\n",
              "      <td>-0.109698</td>\n",
              "      <td>-0.095028</td>\n",
              "      <td>-0.051809</td>\n",
              "      <td>-0.075385</td>\n",
              "      <td>-0.113746</td>\n",
              "      <td>-0.082265</td>\n",
              "      <td>-0.050392</td>\n",
              "      <td>-0.088440</td>\n",
              "      <td>-0.112473</td>\n",
              "      <td>-0.069473</td>\n",
              "      <td>-0.054300</td>\n",
              "      <td>-0.100426</td>\n",
              "      <td>-0.106095</td>\n",
              "      <td>-0.058801</td>\n",
              "      <td>-0.062877</td>\n",
              "      <td>-0.109332</td>\n",
              "      <td>-0.095683</td>\n",
              "      <td>-0.052041</td>\n",
              "      <td>-0.074682</td>\n",
              "      <td>-0.113659</td>\n",
              "      <td>-0.082987</td>\n",
              "      <td>-0.050329</td>\n",
              "      <td>-0.087731</td>\n",
              "      <td>-0.112682</td>\n",
              "      <td>-0.070139</td>\n",
              "      <td>-0.053954</td>\n",
              "      <td>-0.099832</td>\n",
              "      <td>-0.106563</td>\n",
              "      <td>-0.059299</td>\n",
              "      <td>-0.062307</td>\n",
              "      <td>-0.108951</td>\n",
              "      <td>-0.096332</td>\n",
              "      <td>-0.052287</td>\n",
              "      <td>-0.073982</td>\n",
              "      <td>-0.113557</td>\n",
              "      <td>-0.083707</td>\n",
              "      <td>-0.050284</td>\n",
              "      <td>-0.087020</td>\n",
              "      <td>-0.112874</td>\n",
              "      <td>-0.070810</td>\n",
              "      <td>-0.053624</td>\n",
              "      <td>-0.099229</td>\n",
              "      <td>-0.107018</td>\n",
              "      <td>...</td>\n",
              "      <td>-0.055120</td>\n",
              "      <td>-0.101716</td>\n",
              "      <td>-0.105010</td>\n",
              "      <td>-0.057735</td>\n",
              "      <td>-0.064182</td>\n",
              "      <td>-0.110129</td>\n",
              "      <td>-0.094214</td>\n",
              "      <td>-0.051547</td>\n",
              "      <td>-0.076253</td>\n",
              "      <td>-0.113829</td>\n",
              "      <td>-0.081380</td>\n",
              "      <td>-0.050490</td>\n",
              "      <td>-0.089304</td>\n",
              "      <td>-0.112197</td>\n",
              "      <td>-0.068665</td>\n",
              "      <td>-0.054743</td>\n",
              "      <td>-0.101143</td>\n",
              "      <td>-0.105505</td>\n",
              "      <td>-0.058206</td>\n",
              "      <td>-0.063590</td>\n",
              "      <td>-0.109780</td>\n",
              "      <td>-0.094878</td>\n",
              "      <td>-0.051759</td>\n",
              "      <td>-0.075545</td>\n",
              "      <td>-0.113763</td>\n",
              "      <td>-0.082102</td>\n",
              "      <td>-0.050408</td>\n",
              "      <td>-0.088600</td>\n",
              "      <td>-0.112424</td>\n",
              "      <td>-0.069323</td>\n",
              "      <td>-0.054380</td>\n",
              "      <td>-0.100560</td>\n",
              "      <td>-0.105987</td>\n",
              "      <td>-0.058689</td>\n",
              "      <td>-0.063008</td>\n",
              "      <td>-0.109416</td>\n",
              "      <td>-0.095535</td>\n",
              "      <td>-0.051987</td>\n",
              "      <td>-0.074841</td>\n",
              "      <td>-0.113680</td>\n",
              "      <td>-0.082823</td>\n",
              "      <td>-0.050342</td>\n",
              "      <td>-0.087892</td>\n",
              "      <td>-0.112636</td>\n",
              "      <td>-0.069987</td>\n",
              "      <td>-0.054032</td>\n",
              "      <td>-0.099968</td>\n",
              "      <td>-0.106458</td>\n",
              "      <td>-0.059184</td>\n",
              "      <td>-0.062435</td>\n",
              "    </tr>\n",
              "    <tr>\n",
              "      <th>3</th>\n",
              "      <td>0.172258</td>\n",
              "      <td>0.114236</td>\n",
              "      <td>-0.001528</td>\n",
              "      <td>-0.015686</td>\n",
              "      <td>0.091250</td>\n",
              "      <td>0.172084</td>\n",
              "      <td>0.115548</td>\n",
              "      <td>-0.000536</td>\n",
              "      <td>-0.016379</td>\n",
              "      <td>0.089827</td>\n",
              "      <td>0.171890</td>\n",
              "      <td>0.116850</td>\n",
              "      <td>0.000470</td>\n",
              "      <td>-0.017054</td>\n",
              "      <td>0.088400</td>\n",
              "      <td>0.171675</td>\n",
              "      <td>0.118144</td>\n",
              "      <td>0.001491</td>\n",
              "      <td>-0.017711</td>\n",
              "      <td>0.086969</td>\n",
              "      <td>0.171439</td>\n",
              "      <td>0.119427</td>\n",
              "      <td>0.002527</td>\n",
              "      <td>-0.018349</td>\n",
              "      <td>0.085535</td>\n",
              "      <td>0.171183</td>\n",
              "      <td>0.120701</td>\n",
              "      <td>0.003577</td>\n",
              "      <td>-0.018968</td>\n",
              "      <td>0.084099</td>\n",
              "      <td>0.170907</td>\n",
              "      <td>0.121965</td>\n",
              "      <td>0.004642</td>\n",
              "      <td>-0.019568</td>\n",
              "      <td>0.082660</td>\n",
              "      <td>0.170610</td>\n",
              "      <td>0.123219</td>\n",
              "      <td>0.005721</td>\n",
              "      <td>-0.020149</td>\n",
              "      <td>0.081219</td>\n",
              "      <td>0.170293</td>\n",
              "      <td>0.124462</td>\n",
              "      <td>0.006813</td>\n",
              "      <td>-0.020711</td>\n",
              "      <td>0.079777</td>\n",
              "      <td>0.169955</td>\n",
              "      <td>0.125694</td>\n",
              "      <td>0.007919</td>\n",
              "      <td>-0.021254</td>\n",
              "      <td>0.078332</td>\n",
              "      <td>...</td>\n",
              "      <td>0.165247</td>\n",
              "      <td>0.064698</td>\n",
              "      <td>-0.025405</td>\n",
              "      <td>0.018965</td>\n",
              "      <td>0.136733</td>\n",
              "      <td>0.165791</td>\n",
              "      <td>0.066142</td>\n",
              "      <td>-0.025048</td>\n",
              "      <td>0.017743</td>\n",
              "      <td>0.135614</td>\n",
              "      <td>0.166316</td>\n",
              "      <td>0.067588</td>\n",
              "      <td>-0.024672</td>\n",
              "      <td>0.016532</td>\n",
              "      <td>0.134483</td>\n",
              "      <td>0.166821</td>\n",
              "      <td>0.069034</td>\n",
              "      <td>-0.024275</td>\n",
              "      <td>0.015333</td>\n",
              "      <td>0.133339</td>\n",
              "      <td>0.167307</td>\n",
              "      <td>0.070481</td>\n",
              "      <td>-0.023859</td>\n",
              "      <td>0.014146</td>\n",
              "      <td>0.132182</td>\n",
              "      <td>0.167773</td>\n",
              "      <td>0.071929</td>\n",
              "      <td>-0.023422</td>\n",
              "      <td>0.012970</td>\n",
              "      <td>0.131012</td>\n",
              "      <td>0.168220</td>\n",
              "      <td>0.073376</td>\n",
              "      <td>-0.022966</td>\n",
              "      <td>0.011807</td>\n",
              "      <td>0.129831</td>\n",
              "      <td>0.168646</td>\n",
              "      <td>0.074824</td>\n",
              "      <td>-0.022490</td>\n",
              "      <td>0.010657</td>\n",
              "      <td>0.128638</td>\n",
              "      <td>0.169052</td>\n",
              "      <td>0.076271</td>\n",
              "      <td>-0.021994</td>\n",
              "      <td>0.009519</td>\n",
              "      <td>0.127432</td>\n",
              "      <td>0.169439</td>\n",
              "      <td>0.077717</td>\n",
              "      <td>-0.021479</td>\n",
              "      <td>0.008394</td>\n",
              "      <td>0.126216</td>\n",
              "    </tr>\n",
              "    <tr>\n",
              "      <th>4</th>\n",
              "      <td>-0.076168</td>\n",
              "      <td>-0.084403</td>\n",
              "      <td>-0.092366</td>\n",
              "      <td>-0.099973</td>\n",
              "      <td>-0.107139</td>\n",
              "      <td>-0.113787</td>\n",
              "      <td>-0.119843</td>\n",
              "      <td>-0.125243</td>\n",
              "      <td>-0.129926</td>\n",
              "      <td>-0.133843</td>\n",
              "      <td>-0.136949</td>\n",
              "      <td>-0.139212</td>\n",
              "      <td>-0.140607</td>\n",
              "      <td>-0.141117</td>\n",
              "      <td>-0.140739</td>\n",
              "      <td>-0.139475</td>\n",
              "      <td>-0.137341</td>\n",
              "      <td>-0.134358</td>\n",
              "      <td>-0.130560</td>\n",
              "      <td>-0.125987</td>\n",
              "      <td>-0.120691</td>\n",
              "      <td>-0.114728</td>\n",
              "      <td>-0.108164</td>\n",
              "      <td>-0.101070</td>\n",
              "      <td>-0.093524</td>\n",
              "      <td>-0.085608</td>\n",
              "      <td>-0.077409</td>\n",
              "      <td>-0.069015</td>\n",
              "      <td>-0.060518</td>\n",
              "      <td>-0.052012</td>\n",
              "      <td>-0.043588</td>\n",
              "      <td>-0.035340</td>\n",
              "      <td>-0.027356</td>\n",
              "      <td>-0.019724</td>\n",
              "      <td>-0.012527</td>\n",
              "      <td>-0.005844</td>\n",
              "      <td>0.000253</td>\n",
              "      <td>0.005697</td>\n",
              "      <td>0.010428</td>\n",
              "      <td>0.014395</td>\n",
              "      <td>0.017555</td>\n",
              "      <td>0.019873</td>\n",
              "      <td>0.021323</td>\n",
              "      <td>0.021891</td>\n",
              "      <td>0.021570</td>\n",
              "      <td>0.020363</td>\n",
              "      <td>0.018284</td>\n",
              "      <td>0.015355</td>\n",
              "      <td>0.011608</td>\n",
              "      <td>0.007084</td>\n",
              "      <td>...</td>\n",
              "      <td>-0.117875</td>\n",
              "      <td>-0.111612</td>\n",
              "      <td>-0.104781</td>\n",
              "      <td>-0.097458</td>\n",
              "      <td>-0.089721</td>\n",
              "      <td>-0.081657</td>\n",
              "      <td>-0.073351</td>\n",
              "      <td>-0.064896</td>\n",
              "      <td>-0.056383</td>\n",
              "      <td>-0.047906</td>\n",
              "      <td>-0.039556</td>\n",
              "      <td>-0.031424</td>\n",
              "      <td>-0.023601</td>\n",
              "      <td>-0.016170</td>\n",
              "      <td>-0.009213</td>\n",
              "      <td>-0.002806</td>\n",
              "      <td>0.002982</td>\n",
              "      <td>0.008086</td>\n",
              "      <td>0.012453</td>\n",
              "      <td>0.016032</td>\n",
              "      <td>0.018787</td>\n",
              "      <td>0.020687</td>\n",
              "      <td>0.021710</td>\n",
              "      <td>0.021846</td>\n",
              "      <td>0.021094</td>\n",
              "      <td>0.019461</td>\n",
              "      <td>0.016966</td>\n",
              "      <td>0.013635</td>\n",
              "      <td>0.009505</td>\n",
              "      <td>0.004621</td>\n",
              "      <td>-0.000963</td>\n",
              "      <td>-0.007188</td>\n",
              "      <td>-0.013984</td>\n",
              "      <td>-0.021278</td>\n",
              "      <td>-0.028990</td>\n",
              "      <td>-0.037036</td>\n",
              "      <td>-0.045329</td>\n",
              "      <td>-0.053777</td>\n",
              "      <td>-0.062289</td>\n",
              "      <td>-0.070772</td>\n",
              "      <td>-0.079133</td>\n",
              "      <td>-0.087281</td>\n",
              "      <td>-0.095127</td>\n",
              "      <td>-0.102586</td>\n",
              "      <td>-0.109575</td>\n",
              "      <td>-0.116020</td>\n",
              "      <td>-0.121849</td>\n",
              "      <td>-0.127000</td>\n",
              "      <td>-0.131415</td>\n",
              "      <td>-0.135047</td>\n",
              "    </tr>\n",
              "  </tbody>\n",
              "</table>\n",
              "<p>5 rows × 311 columns</p>\n",
              "</div>"
            ],
            "text/plain": [
              "        0         1         2         3         4         5         6    \\\n",
              "0 -0.159343 -0.188872  0.009300  0.146388  0.022622 -0.181641 -0.168741   \n",
              "1 -0.011388 -0.008898 -0.007982 -0.008678 -0.010957 -0.014722 -0.019810   \n",
              "2 -0.112250 -0.068814 -0.054659 -0.101011 -0.105615 -0.058315 -0.063457   \n",
              "3  0.172258  0.114236 -0.001528 -0.015686  0.091250  0.172084  0.115548   \n",
              "4 -0.076168 -0.084403 -0.092366 -0.099973 -0.107139 -0.113787 -0.119843   \n",
              "\n",
              "        7         8         9         10        11        12        13   \\\n",
              "0  0.042524  0.144290 -0.011741 -0.198194 -0.143362  0.072852  0.135371   \n",
              "1 -0.026004 -0.033039 -0.040612 -0.048399 -0.056067 -0.063286 -0.069747   \n",
              "2 -0.109698 -0.095028 -0.051809 -0.075385 -0.113746 -0.082265 -0.050392   \n",
              "3 -0.000536 -0.016379  0.089827  0.171890  0.116850  0.000470 -0.017054   \n",
              "4 -0.125243 -0.129926 -0.133843 -0.136949 -0.139212 -0.140607 -0.141117   \n",
              "\n",
              "        14        15        16        17        18        19        20   \\\n",
              "0 -0.046909 -0.208363 -0.113713  0.099113  0.119976 -0.081526 -0.211757   \n",
              "1 -0.075174 -0.079333 -0.082047 -0.083199 -0.082739 -0.080688 -0.077133   \n",
              "2 -0.088440 -0.112473 -0.069473 -0.054300 -0.100426 -0.106095 -0.058801   \n",
              "3  0.088400  0.171675  0.118144  0.001491 -0.017711  0.086969  0.171439   \n",
              "4 -0.140739 -0.139475 -0.137341 -0.134358 -0.130560 -0.125987 -0.120691   \n",
              "\n",
              "        21        22        23        24        25        26        27   \\\n",
              "0 -0.080938  0.120295  0.098698 -0.114258 -0.208244 -0.046300  0.135583   \n",
              "1 -0.072227 -0.066180 -0.059251 -0.051737 -0.043960 -0.036254 -0.028949   \n",
              "2 -0.062877 -0.109332 -0.095683 -0.052041 -0.074682 -0.113659 -0.082987   \n",
              "3  0.119427  0.002527 -0.018349  0.085535  0.171183  0.120701  0.003577   \n",
              "4 -0.114728 -0.108164 -0.101070 -0.093524 -0.085608 -0.077409 -0.069015   \n",
              "\n",
              "        28        29        30        31        32        33        34   \\\n",
              "0  0.072357 -0.143842 -0.197960 -0.011134  0.144385  0.041969 -0.169138   \n",
              "1 -0.022358 -0.016763 -0.012405 -0.009470 -0.008084 -0.008306 -0.010128   \n",
              "2 -0.050329 -0.087731 -0.112682 -0.070139 -0.053954 -0.099832 -0.106563   \n",
              "3 -0.018968  0.084099  0.170907  0.121965  0.004642 -0.019568  0.082660   \n",
              "4 -0.060518 -0.052012 -0.043588 -0.035340 -0.027356 -0.019724 -0.012527   \n",
              "\n",
              "        35        36        37        38        39        40        41   \\\n",
              "0 -0.181301  0.023203  0.146363  0.008705 -0.189170 -0.158910  0.055389   \n",
              "1 -0.013470 -0.018189 -0.024084 -0.030901 -0.038349 -0.046108 -0.053845   \n",
              "2 -0.059299 -0.062307 -0.108951 -0.096332 -0.052287 -0.073982 -0.113557   \n",
              "3  0.170610  0.123219  0.005721 -0.020149  0.081219  0.170293  0.124462   \n",
              "4 -0.005844  0.000253  0.005697  0.010428  0.014395  0.017555  0.019873   \n",
              "\n",
              "        42        43        44        45        46        47        48   \\\n",
              "0  0.141442 -0.026152 -0.203167 -0.131651  0.084181  0.129809 -0.061258   \n",
              "1 -0.061229 -0.067944 -0.073701 -0.078254 -0.081408 -0.083027 -0.083042   \n",
              "2 -0.083707 -0.050284 -0.087020 -0.112874 -0.070810 -0.053624 -0.099229   \n",
              "3  0.006813 -0.020711  0.079777  0.169955  0.125694  0.007919 -0.021254   \n",
              "4  0.021323  0.021891  0.021570  0.020363  0.018284  0.015355  0.011608   \n",
              "\n",
              "        49   ...       261       262       263       264       265       266  \\\n",
              "0 -0.210589  ...  0.013067 -0.186935 -0.162059  0.051445  0.142450 -0.021661   \n",
              "1 -0.081452  ... -0.081586 -0.078545 -0.074092 -0.068418 -0.061766 -0.054422   \n",
              "2 -0.107018  ... -0.055120 -0.101716 -0.105010 -0.057735 -0.064182 -0.110129   \n",
              "3  0.078332  ...  0.165247  0.064698 -0.025405  0.018965  0.136733  0.165791   \n",
              "4  0.007084  ... -0.117875 -0.111612 -0.104781 -0.097458 -0.089721 -0.081657   \n",
              "\n",
              "        267       268       269       270       271       272       273  \\\n",
              "0 -0.201738 -0.135366  0.080735  0.131654 -0.056810 -0.210020 -0.104711   \n",
              "1 -0.046700 -0.038931 -0.031448 -0.024572 -0.018598 -0.013782 -0.010329   \n",
              "2 -0.094214 -0.051547 -0.076253 -0.113829 -0.081380 -0.050490 -0.089304   \n",
              "3  0.066142 -0.025048  0.017743  0.135614  0.166316  0.067588 -0.024672   \n",
              "4 -0.073351 -0.064896 -0.056383 -0.047906 -0.039556 -0.031424 -0.023601   \n",
              "\n",
              "        274       275       276       277       278       279       280  \\\n",
              "0  0.105656  0.114525 -0.091028 -0.211463 -0.071277  0.125245  0.091723   \n",
              "1 -0.008389 -0.008044 -0.009310 -0.012131 -0.016387 -0.021895 -0.028420   \n",
              "2 -0.112197 -0.068665 -0.054743 -0.101143 -0.105505 -0.058206 -0.063590   \n",
              "3  0.016532  0.134483  0.166821  0.069034 -0.024275  0.015333  0.133339   \n",
              "4 -0.016170 -0.009213 -0.002806  0.002982  0.008086  0.012453  0.016032   \n",
              "\n",
              "        281       282       283       284       285       286       287  \\\n",
              "0 -0.122993 -0.206010 -0.036353  0.138748  0.064128 -0.151474 -0.193873   \n",
              "1 -0.035682 -0.043369 -0.051152 -0.058697 -0.065682 -0.071805 -0.076806   \n",
              "2 -0.109780 -0.094878 -0.051759 -0.075545 -0.113763 -0.082102 -0.050408   \n",
              "3  0.167307  0.070481 -0.023859  0.014146  0.132182  0.167773  0.071929   \n",
              "4  0.018787  0.020687  0.021710  0.021846  0.021094  0.019461  0.016966   \n",
              "\n",
              "        288       289       290       291       292       293       294  \\\n",
              "0 -0.001284  0.145645  0.032802 -0.175372 -0.175519  0.032576  0.145668   \n",
              "1 -0.080470 -0.082639 -0.083221 -0.082190 -0.079592 -0.075537 -0.070198   \n",
              "2 -0.088600 -0.112424 -0.069323 -0.054380 -0.100560 -0.105987 -0.058689   \n",
              "3 -0.023422  0.012970  0.131012  0.168220  0.073376 -0.022966  0.011807   \n",
              "4  0.013635  0.009505  0.004621 -0.000963 -0.007188 -0.013984 -0.021278   \n",
              "\n",
              "        295       296       297       298       299       300       301  \\\n",
              "0 -0.001045 -0.193767 -0.151655  0.063924  0.138819 -0.036110 -0.205949   \n",
              "1 -0.063806 -0.056634 -0.048989 -0.041199 -0.033598 -0.026512 -0.020244   \n",
              "2 -0.063008 -0.109416 -0.095535 -0.051987 -0.074841 -0.113680 -0.082823   \n",
              "3  0.129831  0.168646  0.074824 -0.022490  0.010657  0.128638  0.169052   \n",
              "4 -0.028990 -0.037036 -0.045329 -0.053777 -0.062289 -0.070772 -0.079133   \n",
              "\n",
              "        302       303       304       305       306       307       308  \\\n",
              "0 -0.123202  0.091549  0.125359 -0.071040 -0.211449 -0.091257  0.114387   \n",
              "1 -0.015064 -0.011192 -0.008796 -0.007978 -0.008773 -0.011146 -0.014997   \n",
              "2 -0.050342 -0.087892 -0.112636 -0.069987 -0.054032 -0.099968 -0.106458   \n",
              "3  0.076271 -0.021994  0.009519  0.127432  0.169439  0.077717 -0.021479   \n",
              "4 -0.087281 -0.095127 -0.102586 -0.109575 -0.116020 -0.121849 -0.127000   \n",
              "\n",
              "        309       310  \n",
              "0  0.105810 -0.104489  \n",
              "1 -0.020160 -0.026413  \n",
              "2 -0.059184 -0.062435  \n",
              "3  0.008394  0.126216  \n",
              "4 -0.131415 -0.135047  \n",
              "\n",
              "[5 rows x 311 columns]"
            ]
          },
          "metadata": {
            "tags": []
          },
          "execution_count": 8
        }
      ]
    },
    {
      "cell_type": "code",
      "metadata": {
        "id": "_eqjq1q-Iszy",
        "colab_type": "code",
        "colab": {
          "base_uri": "https://localhost:8080/",
          "height": 33
        },
        "outputId": "c5b7842c-0804-4569-da17-bc4d56b7c841"
      },
      "source": [
        "X = np.array(Xy[:, :310], dtype=np.float32)\n",
        "y = np.array(Xy[:, 310], dtype=np.float32)\n",
        "X.shape, y.shape"
      ],
      "execution_count": 9,
      "outputs": [
        {
          "output_type": "execute_result",
          "data": {
            "text/plain": [
              "((5000, 310), (5000,))"
            ]
          },
          "metadata": {
            "tags": []
          },
          "execution_count": 9
        }
      ]
    },
    {
      "cell_type": "markdown",
      "metadata": {
        "id": "cDr8A0L0WIkl",
        "colab_type": "text"
      },
      "source": [
        "#### Transform the numpy array into TF Dataset "
      ]
    },
    {
      "cell_type": "code",
      "metadata": {
        "id": "jz9nxtroWH2g",
        "colab_type": "code",
        "colab": {
          "base_uri": "https://localhost:8080/",
          "height": 33
        },
        "outputId": "e2bf8938-f21a-4b10-e26a-c6cf730b7ba5"
      },
      "source": [
        "tf.data.Dataset.from_tensor_slices((X, y))"
      ],
      "execution_count": 12,
      "outputs": [
        {
          "output_type": "execute_result",
          "data": {
            "text/plain": [
              "<TensorSliceDataset shapes: ((310,), ()), types: (tf.float32, tf.float32)>"
            ]
          },
          "metadata": {
            "tags": []
          },
          "execution_count": 12
        }
      ]
    },
    {
      "cell_type": "code",
      "metadata": {
        "id": "lTwf_JVSWjqo",
        "colab_type": "code",
        "colab": {}
      },
      "source": [
        "Xy_dataset = tf.data.Dataset.from_tensor_slices((X, y))"
      ],
      "execution_count": 13,
      "outputs": []
    },
    {
      "cell_type": "code",
      "metadata": {
        "id": "QBIxZkm2Wjj0",
        "colab_type": "code",
        "colab": {
          "base_uri": "https://localhost:8080/",
          "height": 895
        },
        "outputId": "521385a9-07a3-4dfe-e318-07c02cd48e74"
      },
      "source": [
        "for a,b in Xy_dataset.take(1):\n",
        "  print(a)\n",
        "  print(b)"
      ],
      "execution_count": 14,
      "outputs": [
        {
          "output_type": "stream",
          "text": [
            "tf.Tensor(\n",
            "[-0.15934335 -0.18887204  0.00929992  0.14638816  0.022622   -0.18164137\n",
            " -0.16874091  0.04252429  0.14428984 -0.01174124 -0.198194   -0.14336176\n",
            "  0.07285167  0.13537113 -0.04690933 -0.20836307 -0.11371302  0.09911285\n",
            "  0.11997586 -0.08152642 -0.21175654 -0.08093777  0.12029537  0.0986976\n",
            " -0.11425789 -0.20824356 -0.04629959  0.13558257  0.07235669 -0.14384185\n",
            " -0.19795959 -0.01113392  0.14438505  0.04196865 -0.16913772 -0.1813011\n",
            "  0.02320348  0.14636348  0.00870505 -0.18917024 -0.15891033  0.05538879\n",
            "  0.14144157 -0.02615167 -0.20316711 -0.13165054  0.08418116  0.12980908\n",
            " -0.06125767 -0.21058871 -0.10057266  0.10847052  0.11191447 -0.09525949\n",
            " -0.21114887 -0.06687488  0.12732045  0.08844765 -0.12684624 -0.20482604\n",
            " -0.03185636  0.14000422  0.06031335 -0.15480013 -0.19186395  0.00313282\n",
            "  0.14603283  0.02859624 -0.17804347 -0.17276236  0.0367437   0.14517383\n",
            " -0.00548087 -0.19568011 -0.1482577   0.06768047  0.13746035 -0.04060419\n",
            " -0.20703013 -0.1192947   0.0947504   0.12318979 -0.07541959 -0.21165593\n",
            " -0.08698998  0.11690986  0.10291231 -0.10858482 -0.20937917 -0.05258902\n",
            "  0.13330452  0.07740969 -0.13882124 -0.20028761 -0.01741808  0.1433023\n",
            "  0.04766513 -0.16496314 -0.1847318   0.01716687  0.14651775  0.0148254\n",
            " -0.18600264 -0.16331144  0.04983246  0.14282693 -0.01984341 -0.20112862\n",
            " -0.13685237  0.07931931  0.13237211 -0.05500472 -0.2097579  -0.10637469\n",
            "  0.10449062  0.11555637 -0.08930291 -0.21155779 -0.0730534   0.12437592\n",
            "  0.093028   -0.12141568 -0.20645891 -0.03817317  0.1382086   0.06565557\n",
            " -0.15010497 -0.19465783 -0.00307874  0.14545532  0.03449436 -0.17426471\n",
            " -0.17660953  0.03087687  0.14583671  0.00074576 -0.19296345 -0.15300983\n",
            "  0.06238454  0.13933808 -0.03428911 -0.20548029 -0.12476858  0.09022956\n",
            "  0.12620996 -0.06925953 -0.21133266 -0.09297459  0.1133384   0.10695848\n",
            " -0.10281727 -0.21029493 -0.05885362  0.13082013  0.08232586 -0.13366856\n",
            " -0.20240712 -0.02372115  0.14200076  0.05326178 -0.16062398 -0.18797334\n",
            "  0.01106834  0.14644927  0.02088675 -0.1826443  -0.16755003  0.04417358\n",
            "  0.14399411 -0.01355105 -0.19888055 -0.14192459  0.07431827  0.13472997\n",
            " -0.04872392 -0.2087068  -0.11208498  0.1003402   0.11901399 -0.08327584\n",
            " -0.21174417 -0.07918163  0.12123615  0.0974521  -0.1158747  -0.20787558\n",
            " -0.04448307  0.13620052  0.07087556 -0.1452637  -0.19725019 -0.00932704\n",
            "  0.14465636  0.04030901 -0.1703098  -0.18027762  0.02493106  0.14627767\n",
            "  0.00693089 -0.19004737 -0.15761223  0.05697047  0.14100194 -0.02797195\n",
            " -0.20371546 -0.13012786  0.08555594  0.12903258 -0.0630539  -0.21078713\n",
            " -0.09888414  0.10958542  0.11083106 -0.09696241 -0.21098974 -0.06508558\n",
            "  0.12813248  0.08709909 -0.12839021 -0.20431548 -0.03003528  0.14048207\n",
            "  0.05875163 -0.15612562 -0.19102165  0.00491548  0.14615807  0.02688157\n",
            " -0.17909937 -0.17162079  0.03841921  0.14494164 -0.00728239 -0.19642572\n",
            " -0.14686087  0.06918423  0.1368797  -0.0424231  -0.2074367  -0.11769646\n",
            "  0.09602443  0.12228304 -0.07718576 -0.21170779 -0.08525195  0.11790505\n",
            "  0.10171442 -0.11023017 -0.2090743  -0.05077821  0.1339825   0.07596685\n",
            " -0.14028233 -0.1996378  -0.0156043   0.14363693  0.04603297 -0.16618364\n",
            " -0.18376207  0.01891369  0.14649613  0.01306684 -0.1869355  -0.16205919\n",
            "  0.05144498  0.1424499  -0.02166058 -0.20173787 -0.13536589  0.08073536\n",
            "  0.13165419 -0.05681042 -0.21002004 -0.10471126  0.1056556   0.11452524\n",
            " -0.09102754 -0.21146272 -0.07127718  0.12524493  0.09172343 -0.12299275\n",
            " -0.20601031 -0.03635262  0.13874811  0.06412784 -0.15147367 -0.19387299\n",
            " -0.00128406  0.14564455  0.03280238 -0.17537227 -0.17551869  0.03257649\n",
            "  0.14566836 -0.00104524 -0.19376718 -0.15165506  0.06392358  0.13881864\n",
            " -0.03611008 -0.2059492  -0.12320212  0.09154868  0.12535945 -0.07104027\n",
            " -0.21144867 -0.09125682  0.11438674  0.1058097 ], shape=(310,), dtype=float32)\n",
            "tf.Tensor(-0.104489125, shape=(), dtype=float32)\n"
          ],
          "name": "stdout"
        }
      ]
    },
    {
      "cell_type": "code",
      "metadata": {
        "id": "YdcWfXU5jNIU",
        "colab_type": "code",
        "colab": {}
      },
      "source": [
        "def _floatlist_feature(value):\n",
        "  return tf.train.Feature(float_list=tf.train.FloatList(value=value))\n",
        "\n",
        "def _float_feature(value):\n",
        "  return tf.train.Feature(float_list=tf.train.FloatList(value=[value]))"
      ],
      "execution_count": 34,
      "outputs": []
    },
    {
      "cell_type": "code",
      "metadata": {
        "id": "fOLvJSJRhdmU",
        "colab_type": "code",
        "colab": {
          "base_uri": "https://localhost:8080/",
          "height": 1000
        },
        "outputId": "6a88b5f1-04c4-415d-dcf7-cfe6777cff7a"
      },
      "source": [
        "_floatlist_feature(a)"
      ],
      "execution_count": 35,
      "outputs": [
        {
          "output_type": "execute_result",
          "data": {
            "text/plain": [
              "float_list {\n",
              "  value: -0.15934334695339203\n",
              "  value: -0.18887203931808472\n",
              "  value: 0.009299922734498978\n",
              "  value: 0.14638815820217133\n",
              "  value: 0.02262200228869915\n",
              "  value: -0.1816413700580597\n",
              "  value: -0.168740913271904\n",
              "  value: 0.04252428561449051\n",
              "  value: 0.14428983628749847\n",
              "  value: -0.011741237714886665\n",
              "  value: -0.1981939971446991\n",
              "  value: -0.14336176216602325\n",
              "  value: 0.07285166531801224\n",
              "  value: 0.135371133685112\n",
              "  value: -0.04690932855010033\n",
              "  value: -0.20836307108402252\n",
              "  value: -0.11371301859617233\n",
              "  value: 0.0991128459572792\n",
              "  value: 0.11997586488723755\n",
              "  value: -0.08152642101049423\n",
              "  value: -0.21175654232501984\n",
              "  value: -0.08093776553869247\n",
              "  value: 0.12029536813497543\n",
              "  value: 0.09869760274887085\n",
              "  value: -0.11425789445638657\n",
              "  value: -0.20824356377124786\n",
              "  value: -0.046299587935209274\n",
              "  value: 0.1355825662612915\n",
              "  value: 0.0723566859960556\n",
              "  value: -0.14384184777736664\n",
              "  value: -0.19795958697795868\n",
              "  value: -0.011133921332657337\n",
              "  value: 0.14438505470752716\n",
              "  value: 0.04196864739060402\n",
              "  value: -0.16913771629333496\n",
              "  value: -0.18130110204219818\n",
              "  value: 0.02320348285138607\n",
              "  value: 0.14636348187923431\n",
              "  value: 0.00870505254715681\n",
              "  value: -0.189170241355896\n",
              "  value: -0.15891033411026\n",
              "  value: 0.05538879334926605\n",
              "  value: 0.14144156873226166\n",
              "  value: -0.026151668280363083\n",
              "  value: -0.2031671106815338\n",
              "  value: -0.13165053725242615\n",
              "  value: 0.08418115973472595\n",
              "  value: 0.12980908155441284\n",
              "  value: -0.06125766783952713\n",
              "  value: -0.2105887085199356\n",
              "  value: -0.10057266056537628\n",
              "  value: 0.10847052186727524\n",
              "  value: 0.11191447079181671\n",
              "  value: -0.09525948762893677\n",
              "  value: -0.21114887297153473\n",
              "  value: -0.06687488406896591\n",
              "  value: 0.12732045352458954\n",
              "  value: 0.08844765275716782\n",
              "  value: -0.12684623897075653\n",
              "  value: -0.20482604205608368\n",
              "  value: -0.03185635805130005\n",
              "  value: 0.1400042176246643\n",
              "  value: 0.060313351452350616\n",
              "  value: -0.15480013191699982\n",
              "  value: -0.19186395406723022\n",
              "  value: 0.0031328212935477495\n",
              "  value: 0.14603282511234283\n",
              "  value: 0.028596244752407074\n",
              "  value: -0.17804346978664398\n",
              "  value: -0.17276236414909363\n",
              "  value: 0.03674370422959328\n",
              "  value: 0.1451738327741623\n",
              "  value: -0.005480865016579628\n",
              "  value: -0.19568011164665222\n",
              "  value: -0.14825770258903503\n",
              "  value: 0.0676804706454277\n",
              "  value: 0.1374603509902954\n",
              "  value: -0.040604185312986374\n",
              "  value: -0.20703013241291046\n",
              "  value: -0.11929470300674438\n",
              "  value: 0.09475040435791016\n",
              "  value: 0.12318979203701019\n",
              "  value: -0.0754195898771286\n",
              "  value: -0.21165592968463898\n",
              "  value: -0.08698998391628265\n",
              "  value: 0.11690986156463623\n",
              "  value: 0.10291231423616409\n",
              "  value: -0.10858482122421265\n",
              "  value: -0.2093791663646698\n",
              "  value: -0.05258902162313461\n",
              "  value: 0.13330452144145966\n",
              "  value: 0.07740969210863113\n",
              "  value: -0.13882124423980713\n",
              "  value: -0.2002876102924347\n",
              "  value: -0.017418084666132927\n",
              "  value: 0.1433023065328598\n",
              "  value: 0.04766513407230377\n",
              "  value: -0.16496314108371735\n",
              "  value: -0.18473179638385773\n",
              "  value: 0.01716686598956585\n",
              "  value: 0.14651775360107422\n",
              "  value: 0.01482540462166071\n",
              "  value: -0.18600264191627502\n",
              "  value: -0.1633114367723465\n",
              "  value: 0.049832455813884735\n",
              "  value: 0.14282692968845367\n",
              "  value: -0.019843414425849915\n",
              "  value: -0.20112861692905426\n",
              "  value: -0.13685236871242523\n",
              "  value: 0.0793193131685257\n",
              "  value: 0.13237211108207703\n",
              "  value: -0.05500471591949463\n",
              "  value: -0.20975789427757263\n",
              "  value: -0.10637468844652176\n",
              "  value: 0.10449061542749405\n",
              "  value: 0.11555636674165726\n",
              "  value: -0.0893029123544693\n",
              "  value: -0.2115577906370163\n",
              "  value: -0.07305340468883514\n",
              "  value: 0.12437592446804047\n",
              "  value: 0.0930280014872551\n",
              "  value: -0.12141568213701248\n",
              "  value: -0.2064589112997055\n",
              "  value: -0.038173165172338486\n",
              "  value: 0.13820859789848328\n",
              "  value: 0.06565556675195694\n",
              "  value: -0.15010496973991394\n",
              "  value: -0.1946578323841095\n",
              "  value: -0.0030787403229624033\n",
              "  value: 0.14545531570911407\n",
              "  value: 0.03449435904622078\n",
              "  value: -0.17426471412181854\n",
              "  value: -0.17660953104496002\n",
              "  value: 0.03087686561048031\n",
              "  value: 0.1458367109298706\n",
              "  value: 0.0007457599276676774\n",
              "  value: -0.19296345114707947\n",
              "  value: -0.153009831905365\n",
              "  value: 0.06238454207777977\n",
              "  value: 0.13933807611465454\n",
              "  value: -0.03428910672664642\n",
              "  value: -0.20548029243946075\n",
              "  value: -0.12476858496665955\n",
              "  value: 0.0902295634150505\n",
              "  value: 0.12620995938777924\n",
              "  value: -0.06925953179597855\n",
              "  value: -0.21133266389369965\n",
              "  value: -0.09297458827495575\n",
              "  value: 0.1133383959531784\n",
              "  value: 0.10695847868919373\n",
              "  value: -0.10281726717948914\n",
              "  value: -0.2102949321269989\n",
              "  value: -0.058853618800640106\n",
              "  value: 0.1308201253414154\n",
              "  value: 0.08232586085796356\n",
              "  value: -0.13366855680942535\n",
              "  value: -0.2024071216583252\n",
              "  value: -0.023721149191260338\n",
              "  value: 0.14200076460838318\n",
              "  value: 0.053261782974004745\n",
              "  value: -0.16062398254871368\n",
              "  value: -0.18797333538532257\n",
              "  value: 0.01106833666563034\n",
              "  value: 0.1464492678642273\n",
              "  value: 0.020886754617094994\n",
              "  value: -0.1826442927122116\n",
              "  value: -0.16755002737045288\n",
              "  value: 0.04417358338832855\n",
              "  value: 0.14399410784244537\n",
              "  value: -0.013551045209169388\n",
              "  value: -0.19888055324554443\n",
              "  value: -0.14192458987236023\n",
              "  value: 0.07431826740503311\n",
              "  value: 0.13472996652126312\n",
              "  value: -0.04872392117977142\n",
              "  value: -0.208706796169281\n",
              "  value: -0.11208498477935791\n",
              "  value: 0.10034020245075226\n",
              "  value: 0.11901398748159409\n",
              "  value: -0.08327583968639374\n",
              "  value: -0.21174417436122894\n",
              "  value: -0.07918163388967514\n",
              "  value: 0.121236152946949\n",
              "  value: 0.09745209664106369\n",
              "  value: -0.11587470024824142\n",
              "  value: -0.2078755795955658\n",
              "  value: -0.044483065605163574\n",
              "  value: 0.13620051741600037\n",
              "  value: 0.07087556272745132\n",
              "  value: -0.1452637016773224\n",
              "  value: -0.19725018739700317\n",
              "  value: -0.009327037259936333\n",
              "  value: 0.14465636014938354\n",
              "  value: 0.040309011936187744\n",
              "  value: -0.17030979692935944\n",
              "  value: -0.18027761578559875\n",
              "  value: 0.024931063875555992\n",
              "  value: 0.14627766609191895\n",
              "  value: 0.006930893287062645\n",
              "  value: -0.19004736840724945\n",
              "  value: -0.15761223435401917\n",
              "  value: 0.056970465928316116\n",
              "  value: 0.14100193977355957\n",
              "  value: -0.02797195315361023\n",
              "  value: -0.2037154585123062\n",
              "  value: -0.13012786209583282\n",
              "  value: 0.08555594086647034\n",
              "  value: 0.12903258204460144\n",
              "  value: -0.06305389851331711\n",
              "  value: -0.21078713238239288\n",
              "  value: -0.09888413548469543\n",
              "  value: 0.10958541929721832\n",
              "  value: 0.11083105951547623\n",
              "  value: -0.09696241468191147\n",
              "  value: -0.21098974347114563\n",
              "  value: -0.06508558243513107\n",
              "  value: 0.12813247740268707\n",
              "  value: 0.087099090218544\n",
              "  value: -0.12839020788669586\n",
              "  value: -0.20431548357009888\n",
              "  value: -0.03003527782857418\n",
              "  value: 0.1404820680618286\n",
              "  value: 0.058751627802848816\n",
              "  value: -0.15612562000751495\n",
              "  value: -0.1910216510295868\n",
              "  value: 0.004915477707982063\n",
              "  value: 0.14615806937217712\n",
              "  value: 0.026881566271185875\n",
              "  value: -0.17909936606884003\n",
              "  value: -0.17162078619003296\n",
              "  value: 0.038419209420681\n",
              "  value: 0.14494164288043976\n",
              "  value: -0.007282388396561146\n",
              "  value: -0.19642572104930878\n",
              "  value: -0.14686086773872375\n",
              "  value: 0.06918422877788544\n",
              "  value: 0.13687969744205475\n",
              "  value: -0.042423099279403687\n",
              "  value: -0.2074366956949234\n",
              "  value: -0.11769645661115646\n",
              "  value: 0.09602443128824234\n",
              "  value: 0.12228304147720337\n",
              "  value: -0.07718576490879059\n",
              "  value: -0.21170778572559357\n",
              "  value: -0.08525194972753525\n",
              "  value: 0.11790505051612854\n",
              "  value: 0.10171442478895187\n",
              "  value: -0.11023017019033432\n",
              "  value: -0.20907430350780487\n",
              "  value: -0.05077820643782616\n",
              "  value: 0.13398249447345734\n",
              "  value: 0.07596684992313385\n",
              "  value: -0.14028233289718628\n",
              "  value: -0.19963780045509338\n",
              "  value: -0.015604299493134022\n",
              "  value: 0.14363692700862885\n",
              "  value: 0.046032972633838654\n",
              "  value: -0.16618363559246063\n",
              "  value: -0.1837620735168457\n",
              "  value: 0.018913691863417625\n",
              "  value: 0.14649613201618195\n",
              "  value: 0.013066843152046204\n",
              "  value: -0.18693549931049347\n",
              "  value: -0.16205918788909912\n",
              "  value: 0.05144497752189636\n",
              "  value: 0.14244990050792694\n",
              "  value: -0.0216605756431818\n",
              "  value: -0.20173786580562592\n",
              "  value: -0.13536588847637177\n",
              "  value: 0.08073536306619644\n",
              "  value: 0.13165418803691864\n",
              "  value: -0.056810420006513596\n",
              "  value: -0.2100200355052948\n",
              "  value: -0.10471126437187195\n",
              "  value: 0.10565559566020966\n",
              "  value: 0.11452524363994598\n",
              "  value: -0.09102754294872284\n",
              "  value: -0.21146272122859955\n",
              "  value: -0.0712771788239479\n",
              "  value: 0.12524493038654327\n",
              "  value: 0.09172343462705612\n",
              "  value: -0.12299274653196335\n",
              "  value: -0.20601031184196472\n",
              "  value: -0.03635261952877045\n",
              "  value: 0.13874810934066772\n",
              "  value: 0.0641278401017189\n",
              "  value: -0.15147367119789124\n",
              "  value: -0.19387298822402954\n",
              "  value: -0.0012840580893680453\n",
              "  value: 0.14564454555511475\n",
              "  value: 0.032802384346723557\n",
              "  value: -0.17537227272987366\n",
              "  value: -0.1755186915397644\n",
              "  value: 0.03257649019360542\n",
              "  value: 0.14566835761070251\n",
              "  value: -0.0010452386923134327\n",
              "  value: -0.19376717507839203\n",
              "  value: -0.15165506303310394\n",
              "  value: 0.06392358243465424\n",
              "  value: 0.1388186365365982\n",
              "  value: -0.036110080778598785\n",
              "  value: -0.20594920217990875\n",
              "  value: -0.1232021152973175\n",
              "  value: 0.09154868125915527\n",
              "  value: 0.125359445810318\n",
              "  value: -0.07104026526212692\n",
              "  value: -0.21144866943359375\n",
              "  value: -0.09125681966543198\n",
              "  value: 0.11438674479722977\n",
              "  value: 0.10580970346927643\n",
              "}"
            ]
          },
          "metadata": {
            "tags": []
          },
          "execution_count": 35
        }
      ]
    },
    {
      "cell_type": "code",
      "metadata": {
        "id": "nSPvZcSRlZuL",
        "colab_type": "code",
        "colab": {
          "base_uri": "https://localhost:8080/",
          "height": 66
        },
        "outputId": "06f0c422-9db4-404b-fe72-2ce55ab7eaf6"
      },
      "source": [
        "_float_feature(b)"
      ],
      "execution_count": 36,
      "outputs": [
        {
          "output_type": "execute_result",
          "data": {
            "text/plain": [
              "float_list {\n",
              "  value: -0.10448912531137466\n",
              "}"
            ]
          },
          "metadata": {
            "tags": []
          },
          "execution_count": 36
        }
      ]
    },
    {
      "cell_type": "code",
      "metadata": {
        "id": "zLJrn_X4YK4l",
        "colab_type": "code",
        "colab": {}
      },
      "source": [
        "def serialize_example(x,y):\n",
        "  \"\"\"\n",
        "  Creates a tf.train.Example message ready to be written to a file.\n",
        "  \"\"\"\n",
        "  # Create a dictionary mapping the feature name to the tf.train.Example-compatible\n",
        "  # data type.\n",
        "  feature = {\n",
        "      'x': _floatlist_feature(x),\n",
        "      'y': _float_feature(y)\n",
        "  }\n",
        "\n",
        "  # Create a Features message using tf.train.Example.\n",
        "\n",
        "  example_proto = tf.train.Example(features=tf.train.Features(feature=feature))\n",
        "  return example_proto.SerializeToString()"
      ],
      "execution_count": 37,
      "outputs": []
    },
    {
      "cell_type": "code",
      "metadata": {
        "id": "Yh35x67qqrt1",
        "colab_type": "code",
        "colab": {
          "base_uri": "https://localhost:8080/",
          "height": 33
        },
        "outputId": "b48a57ec-df43-435b-f53a-cc4bd9d8e97c"
      },
      "source": [
        "X.shape, y.shape"
      ],
      "execution_count": 51,
      "outputs": [
        {
          "output_type": "execute_result",
          "data": {
            "text/plain": [
              "((5000, 310), (5000,))"
            ]
          },
          "metadata": {
            "tags": []
          },
          "execution_count": 51
        }
      ]
    },
    {
      "cell_type": "code",
      "metadata": {
        "id": "PUBmO51Xq00g",
        "colab_type": "code",
        "colab": {
          "base_uri": "https://localhost:8080/",
          "height": 33
        },
        "outputId": "35b7cdf9-e111-4eef-e41e-6fcc50a8a1bf"
      },
      "source": [
        "X[0].shape, y[0].shape"
      ],
      "execution_count": 53,
      "outputs": [
        {
          "output_type": "execute_result",
          "data": {
            "text/plain": [
              "((310,), ())"
            ]
          },
          "metadata": {
            "tags": []
          },
          "execution_count": 53
        }
      ]
    },
    {
      "cell_type": "code",
      "metadata": {
        "id": "RQbLRsKoqdf5",
        "colab_type": "code",
        "colab": {}
      },
      "source": [
        "filename = 'test2.tfrecord'\n",
        "with tf.io.TFRecordWriter(filename) as writer:\n",
        "  for i in range(X.shape[0]):\n",
        "    example = serialize_example(X[i],y[i])\n",
        "    writer.write(example)"
      ],
      "execution_count": 55,
      "outputs": []
    },
    {
      "cell_type": "code",
      "metadata": {
        "id": "Rh8dWu29sN4Y",
        "colab_type": "code",
        "colab": {
          "base_uri": "https://localhost:8080/",
          "height": 1000
        },
        "outputId": "bd7a2ad0-57a0-4ff8-d823-efa2ffce2c74"
      },
      "source": [
        "raw_dataset = tf.data.TFRecordDataset([filename])\n",
        "\n",
        "for raw_record in raw_dataset.take(1):\n",
        "  example = tf.train.Example()\n",
        "  example.ParseFromString(raw_record.numpy())\n",
        "  print(example)"
      ],
      "execution_count": 56,
      "outputs": [
        {
          "output_type": "stream",
          "text": [
            "features {\n",
            "  feature {\n",
            "    key: \"x\"\n",
            "    value {\n",
            "      float_list {\n",
            "        value: -0.15934334695339203\n",
            "        value: -0.18887203931808472\n",
            "        value: 0.009299922734498978\n",
            "        value: 0.14638815820217133\n",
            "        value: 0.02262200228869915\n",
            "        value: -0.1816413700580597\n",
            "        value: -0.168740913271904\n",
            "        value: 0.04252428561449051\n",
            "        value: 0.14428983628749847\n",
            "        value: -0.011741237714886665\n",
            "        value: -0.1981939971446991\n",
            "        value: -0.14336176216602325\n",
            "        value: 0.07285166531801224\n",
            "        value: 0.135371133685112\n",
            "        value: -0.04690932855010033\n",
            "        value: -0.20836307108402252\n",
            "        value: -0.11371301859617233\n",
            "        value: 0.0991128459572792\n",
            "        value: 0.11997586488723755\n",
            "        value: -0.08152642101049423\n",
            "        value: -0.21175654232501984\n",
            "        value: -0.08093776553869247\n",
            "        value: 0.12029536813497543\n",
            "        value: 0.09869760274887085\n",
            "        value: -0.11425789445638657\n",
            "        value: -0.20824356377124786\n",
            "        value: -0.046299587935209274\n",
            "        value: 0.1355825662612915\n",
            "        value: 0.0723566859960556\n",
            "        value: -0.14384184777736664\n",
            "        value: -0.19795958697795868\n",
            "        value: -0.011133921332657337\n",
            "        value: 0.14438505470752716\n",
            "        value: 0.04196864739060402\n",
            "        value: -0.16913771629333496\n",
            "        value: -0.18130110204219818\n",
            "        value: 0.02320348285138607\n",
            "        value: 0.14636348187923431\n",
            "        value: 0.00870505254715681\n",
            "        value: -0.189170241355896\n",
            "        value: -0.15891033411026\n",
            "        value: 0.05538879334926605\n",
            "        value: 0.14144156873226166\n",
            "        value: -0.026151668280363083\n",
            "        value: -0.2031671106815338\n",
            "        value: -0.13165053725242615\n",
            "        value: 0.08418115973472595\n",
            "        value: 0.12980908155441284\n",
            "        value: -0.06125766783952713\n",
            "        value: -0.2105887085199356\n",
            "        value: -0.10057266056537628\n",
            "        value: 0.10847052186727524\n",
            "        value: 0.11191447079181671\n",
            "        value: -0.09525948762893677\n",
            "        value: -0.21114887297153473\n",
            "        value: -0.06687488406896591\n",
            "        value: 0.12732045352458954\n",
            "        value: 0.08844765275716782\n",
            "        value: -0.12684623897075653\n",
            "        value: -0.20482604205608368\n",
            "        value: -0.03185635805130005\n",
            "        value: 0.1400042176246643\n",
            "        value: 0.060313351452350616\n",
            "        value: -0.15480013191699982\n",
            "        value: -0.19186395406723022\n",
            "        value: 0.0031328212935477495\n",
            "        value: 0.14603282511234283\n",
            "        value: 0.028596244752407074\n",
            "        value: -0.17804346978664398\n",
            "        value: -0.17276236414909363\n",
            "        value: 0.03674370422959328\n",
            "        value: 0.1451738327741623\n",
            "        value: -0.005480865016579628\n",
            "        value: -0.19568011164665222\n",
            "        value: -0.14825770258903503\n",
            "        value: 0.0676804706454277\n",
            "        value: 0.1374603509902954\n",
            "        value: -0.040604185312986374\n",
            "        value: -0.20703013241291046\n",
            "        value: -0.11929470300674438\n",
            "        value: 0.09475040435791016\n",
            "        value: 0.12318979203701019\n",
            "        value: -0.0754195898771286\n",
            "        value: -0.21165592968463898\n",
            "        value: -0.08698998391628265\n",
            "        value: 0.11690986156463623\n",
            "        value: 0.10291231423616409\n",
            "        value: -0.10858482122421265\n",
            "        value: -0.2093791663646698\n",
            "        value: -0.05258902162313461\n",
            "        value: 0.13330452144145966\n",
            "        value: 0.07740969210863113\n",
            "        value: -0.13882124423980713\n",
            "        value: -0.2002876102924347\n",
            "        value: -0.017418084666132927\n",
            "        value: 0.1433023065328598\n",
            "        value: 0.04766513407230377\n",
            "        value: -0.16496314108371735\n",
            "        value: -0.18473179638385773\n",
            "        value: 0.01716686598956585\n",
            "        value: 0.14651775360107422\n",
            "        value: 0.01482540462166071\n",
            "        value: -0.18600264191627502\n",
            "        value: -0.1633114367723465\n",
            "        value: 0.049832455813884735\n",
            "        value: 0.14282692968845367\n",
            "        value: -0.019843414425849915\n",
            "        value: -0.20112861692905426\n",
            "        value: -0.13685236871242523\n",
            "        value: 0.0793193131685257\n",
            "        value: 0.13237211108207703\n",
            "        value: -0.05500471591949463\n",
            "        value: -0.20975789427757263\n",
            "        value: -0.10637468844652176\n",
            "        value: 0.10449061542749405\n",
            "        value: 0.11555636674165726\n",
            "        value: -0.0893029123544693\n",
            "        value: -0.2115577906370163\n",
            "        value: -0.07305340468883514\n",
            "        value: 0.12437592446804047\n",
            "        value: 0.0930280014872551\n",
            "        value: -0.12141568213701248\n",
            "        value: -0.2064589112997055\n",
            "        value: -0.038173165172338486\n",
            "        value: 0.13820859789848328\n",
            "        value: 0.06565556675195694\n",
            "        value: -0.15010496973991394\n",
            "        value: -0.1946578323841095\n",
            "        value: -0.0030787403229624033\n",
            "        value: 0.14545531570911407\n",
            "        value: 0.03449435904622078\n",
            "        value: -0.17426471412181854\n",
            "        value: -0.17660953104496002\n",
            "        value: 0.03087686561048031\n",
            "        value: 0.1458367109298706\n",
            "        value: 0.0007457599276676774\n",
            "        value: -0.19296345114707947\n",
            "        value: -0.153009831905365\n",
            "        value: 0.06238454207777977\n",
            "        value: 0.13933807611465454\n",
            "        value: -0.03428910672664642\n",
            "        value: -0.20548029243946075\n",
            "        value: -0.12476858496665955\n",
            "        value: 0.0902295634150505\n",
            "        value: 0.12620995938777924\n",
            "        value: -0.06925953179597855\n",
            "        value: -0.21133266389369965\n",
            "        value: -0.09297458827495575\n",
            "        value: 0.1133383959531784\n",
            "        value: 0.10695847868919373\n",
            "        value: -0.10281726717948914\n",
            "        value: -0.2102949321269989\n",
            "        value: -0.058853618800640106\n",
            "        value: 0.1308201253414154\n",
            "        value: 0.08232586085796356\n",
            "        value: -0.13366855680942535\n",
            "        value: -0.2024071216583252\n",
            "        value: -0.023721149191260338\n",
            "        value: 0.14200076460838318\n",
            "        value: 0.053261782974004745\n",
            "        value: -0.16062398254871368\n",
            "        value: -0.18797333538532257\n",
            "        value: 0.01106833666563034\n",
            "        value: 0.1464492678642273\n",
            "        value: 0.020886754617094994\n",
            "        value: -0.1826442927122116\n",
            "        value: -0.16755002737045288\n",
            "        value: 0.04417358338832855\n",
            "        value: 0.14399410784244537\n",
            "        value: -0.013551045209169388\n",
            "        value: -0.19888055324554443\n",
            "        value: -0.14192458987236023\n",
            "        value: 0.07431826740503311\n",
            "        value: 0.13472996652126312\n",
            "        value: -0.04872392117977142\n",
            "        value: -0.208706796169281\n",
            "        value: -0.11208498477935791\n",
            "        value: 0.10034020245075226\n",
            "        value: 0.11901398748159409\n",
            "        value: -0.08327583968639374\n",
            "        value: -0.21174417436122894\n",
            "        value: -0.07918163388967514\n",
            "        value: 0.121236152946949\n",
            "        value: 0.09745209664106369\n",
            "        value: -0.11587470024824142\n",
            "        value: -0.2078755795955658\n",
            "        value: -0.044483065605163574\n",
            "        value: 0.13620051741600037\n",
            "        value: 0.07087556272745132\n",
            "        value: -0.1452637016773224\n",
            "        value: -0.19725018739700317\n",
            "        value: -0.009327037259936333\n",
            "        value: 0.14465636014938354\n",
            "        value: 0.040309011936187744\n",
            "        value: -0.17030979692935944\n",
            "        value: -0.18027761578559875\n",
            "        value: 0.024931063875555992\n",
            "        value: 0.14627766609191895\n",
            "        value: 0.006930893287062645\n",
            "        value: -0.19004736840724945\n",
            "        value: -0.15761223435401917\n",
            "        value: 0.056970465928316116\n",
            "        value: 0.14100193977355957\n",
            "        value: -0.02797195315361023\n",
            "        value: -0.2037154585123062\n",
            "        value: -0.13012786209583282\n",
            "        value: 0.08555594086647034\n",
            "        value: 0.12903258204460144\n",
            "        value: -0.06305389851331711\n",
            "        value: -0.21078713238239288\n",
            "        value: -0.09888413548469543\n",
            "        value: 0.10958541929721832\n",
            "        value: 0.11083105951547623\n",
            "        value: -0.09696241468191147\n",
            "        value: -0.21098974347114563\n",
            "        value: -0.06508558243513107\n",
            "        value: 0.12813247740268707\n",
            "        value: 0.087099090218544\n",
            "        value: -0.12839020788669586\n",
            "        value: -0.20431548357009888\n",
            "        value: -0.03003527782857418\n",
            "        value: 0.1404820680618286\n",
            "        value: 0.058751627802848816\n",
            "        value: -0.15612562000751495\n",
            "        value: -0.1910216510295868\n",
            "        value: 0.004915477707982063\n",
            "        value: 0.14615806937217712\n",
            "        value: 0.026881566271185875\n",
            "        value: -0.17909936606884003\n",
            "        value: -0.17162078619003296\n",
            "        value: 0.038419209420681\n",
            "        value: 0.14494164288043976\n",
            "        value: -0.007282388396561146\n",
            "        value: -0.19642572104930878\n",
            "        value: -0.14686086773872375\n",
            "        value: 0.06918422877788544\n",
            "        value: 0.13687969744205475\n",
            "        value: -0.042423099279403687\n",
            "        value: -0.2074366956949234\n",
            "        value: -0.11769645661115646\n",
            "        value: 0.09602443128824234\n",
            "        value: 0.12228304147720337\n",
            "        value: -0.07718576490879059\n",
            "        value: -0.21170778572559357\n",
            "        value: -0.08525194972753525\n",
            "        value: 0.11790505051612854\n",
            "        value: 0.10171442478895187\n",
            "        value: -0.11023017019033432\n",
            "        value: -0.20907430350780487\n",
            "        value: -0.05077820643782616\n",
            "        value: 0.13398249447345734\n",
            "        value: 0.07596684992313385\n",
            "        value: -0.14028233289718628\n",
            "        value: -0.19963780045509338\n",
            "        value: -0.015604299493134022\n",
            "        value: 0.14363692700862885\n",
            "        value: 0.046032972633838654\n",
            "        value: -0.16618363559246063\n",
            "        value: -0.1837620735168457\n",
            "        value: 0.018913691863417625\n",
            "        value: 0.14649613201618195\n",
            "        value: 0.013066843152046204\n",
            "        value: -0.18693549931049347\n",
            "        value: -0.16205918788909912\n",
            "        value: 0.05144497752189636\n",
            "        value: 0.14244990050792694\n",
            "        value: -0.0216605756431818\n",
            "        value: -0.20173786580562592\n",
            "        value: -0.13536588847637177\n",
            "        value: 0.08073536306619644\n",
            "        value: 0.13165418803691864\n",
            "        value: -0.056810420006513596\n",
            "        value: -0.2100200355052948\n",
            "        value: -0.10471126437187195\n",
            "        value: 0.10565559566020966\n",
            "        value: 0.11452524363994598\n",
            "        value: -0.09102754294872284\n",
            "        value: -0.21146272122859955\n",
            "        value: -0.0712771788239479\n",
            "        value: 0.12524493038654327\n",
            "        value: 0.09172343462705612\n",
            "        value: -0.12299274653196335\n",
            "        value: -0.20601031184196472\n",
            "        value: -0.03635261952877045\n",
            "        value: 0.13874810934066772\n",
            "        value: 0.0641278401017189\n",
            "        value: -0.15147367119789124\n",
            "        value: -0.19387298822402954\n",
            "        value: -0.0012840580893680453\n",
            "        value: 0.14564454555511475\n",
            "        value: 0.032802384346723557\n",
            "        value: -0.17537227272987366\n",
            "        value: -0.1755186915397644\n",
            "        value: 0.03257649019360542\n",
            "        value: 0.14566835761070251\n",
            "        value: -0.0010452386923134327\n",
            "        value: -0.19376717507839203\n",
            "        value: -0.15165506303310394\n",
            "        value: 0.06392358243465424\n",
            "        value: 0.1388186365365982\n",
            "        value: -0.036110080778598785\n",
            "        value: -0.20594920217990875\n",
            "        value: -0.1232021152973175\n",
            "        value: 0.09154868125915527\n",
            "        value: 0.125359445810318\n",
            "        value: -0.07104026526212692\n",
            "        value: -0.21144866943359375\n",
            "        value: -0.09125681966543198\n",
            "        value: 0.11438674479722977\n",
            "        value: 0.10580970346927643\n",
            "      }\n",
            "    }\n",
            "  }\n",
            "  feature {\n",
            "    key: \"y\"\n",
            "    value {\n",
            "      float_list {\n",
            "        value: -0.10448912531137466\n",
            "      }\n",
            "    }\n",
            "  }\n",
            "}\n",
            "\n"
          ],
          "name": "stdout"
        }
      ]
    },
    {
      "cell_type": "code",
      "metadata": {
        "id": "ohIHUmJkspov",
        "colab_type": "code",
        "colab": {
          "base_uri": "https://localhost:8080/",
          "height": 33
        },
        "outputId": "ed2f5b0c-5762-489a-c38e-464266399d11"
      },
      "source": [
        "## Recreate the dataset from test2.tfrecord\n",
        "\n",
        "raw_xy_dataset = tf.data.TFRecordDataset('test2.tfrecord')\n",
        "\n",
        "dataset_key = {\n",
        "    'x': tf.io.FixedLenFeature([310,], tf.float32),\n",
        "    'y': tf.io.FixedLenFeature([], tf.float32)\n",
        "}\n",
        "\n",
        "def _parse_xy_function(example_proto):\n",
        "  return tf.io.parse_single_example(example_proto, dataset_key)\n",
        "\n",
        "parsed_xy_dataset = raw_xy_dataset.map(_parse_xy_function)\n",
        "parsed_xy_dataset"
      ],
      "execution_count": 62,
      "outputs": [
        {
          "output_type": "execute_result",
          "data": {
            "text/plain": [
              "<MapDataset shapes: {x: (310,), y: ()}, types: {x: tf.float32, y: tf.float32}>"
            ]
          },
          "metadata": {
            "tags": []
          },
          "execution_count": 62
        }
      ]
    },
    {
      "cell_type": "code",
      "metadata": {
        "id": "qwJLEcnsvK4l",
        "colab_type": "code",
        "colab": {
          "base_uri": "https://localhost:8080/",
          "height": 895
        },
        "outputId": "c5c9b9cf-99c5-4616-cacd-64bf1d28520c"
      },
      "source": [
        "for xy in parsed_xy_dataset.take(1):\n",
        "  print(xy['x'])\n",
        "  print(xy['y'])"
      ],
      "execution_count": 64,
      "outputs": [
        {
          "output_type": "stream",
          "text": [
            "tf.Tensor(\n",
            "[-0.15934335 -0.18887204  0.00929992  0.14638816  0.022622   -0.18164137\n",
            " -0.16874091  0.04252429  0.14428984 -0.01174124 -0.198194   -0.14336176\n",
            "  0.07285167  0.13537113 -0.04690933 -0.20836307 -0.11371302  0.09911285\n",
            "  0.11997586 -0.08152642 -0.21175654 -0.08093777  0.12029537  0.0986976\n",
            " -0.11425789 -0.20824356 -0.04629959  0.13558257  0.07235669 -0.14384185\n",
            " -0.19795959 -0.01113392  0.14438505  0.04196865 -0.16913772 -0.1813011\n",
            "  0.02320348  0.14636348  0.00870505 -0.18917024 -0.15891033  0.05538879\n",
            "  0.14144157 -0.02615167 -0.20316711 -0.13165054  0.08418116  0.12980908\n",
            " -0.06125767 -0.21058871 -0.10057266  0.10847052  0.11191447 -0.09525949\n",
            " -0.21114887 -0.06687488  0.12732045  0.08844765 -0.12684624 -0.20482604\n",
            " -0.03185636  0.14000422  0.06031335 -0.15480013 -0.19186395  0.00313282\n",
            "  0.14603283  0.02859624 -0.17804347 -0.17276236  0.0367437   0.14517383\n",
            " -0.00548087 -0.19568011 -0.1482577   0.06768047  0.13746035 -0.04060419\n",
            " -0.20703013 -0.1192947   0.0947504   0.12318979 -0.07541959 -0.21165593\n",
            " -0.08698998  0.11690986  0.10291231 -0.10858482 -0.20937917 -0.05258902\n",
            "  0.13330452  0.07740969 -0.13882124 -0.20028761 -0.01741808  0.1433023\n",
            "  0.04766513 -0.16496314 -0.1847318   0.01716687  0.14651775  0.0148254\n",
            " -0.18600264 -0.16331144  0.04983246  0.14282693 -0.01984341 -0.20112862\n",
            " -0.13685237  0.07931931  0.13237211 -0.05500472 -0.2097579  -0.10637469\n",
            "  0.10449062  0.11555637 -0.08930291 -0.21155779 -0.0730534   0.12437592\n",
            "  0.093028   -0.12141568 -0.20645891 -0.03817317  0.1382086   0.06565557\n",
            " -0.15010497 -0.19465783 -0.00307874  0.14545532  0.03449436 -0.17426471\n",
            " -0.17660953  0.03087687  0.14583671  0.00074576 -0.19296345 -0.15300983\n",
            "  0.06238454  0.13933808 -0.03428911 -0.20548029 -0.12476858  0.09022956\n",
            "  0.12620996 -0.06925953 -0.21133266 -0.09297459  0.1133384   0.10695848\n",
            " -0.10281727 -0.21029493 -0.05885362  0.13082013  0.08232586 -0.13366856\n",
            " -0.20240712 -0.02372115  0.14200076  0.05326178 -0.16062398 -0.18797334\n",
            "  0.01106834  0.14644927  0.02088675 -0.1826443  -0.16755003  0.04417358\n",
            "  0.14399411 -0.01355105 -0.19888055 -0.14192459  0.07431827  0.13472997\n",
            " -0.04872392 -0.2087068  -0.11208498  0.1003402   0.11901399 -0.08327584\n",
            " -0.21174417 -0.07918163  0.12123615  0.0974521  -0.1158747  -0.20787558\n",
            " -0.04448307  0.13620052  0.07087556 -0.1452637  -0.19725019 -0.00932704\n",
            "  0.14465636  0.04030901 -0.1703098  -0.18027762  0.02493106  0.14627767\n",
            "  0.00693089 -0.19004737 -0.15761223  0.05697047  0.14100194 -0.02797195\n",
            " -0.20371546 -0.13012786  0.08555594  0.12903258 -0.0630539  -0.21078713\n",
            " -0.09888414  0.10958542  0.11083106 -0.09696241 -0.21098974 -0.06508558\n",
            "  0.12813248  0.08709909 -0.12839021 -0.20431548 -0.03003528  0.14048207\n",
            "  0.05875163 -0.15612562 -0.19102165  0.00491548  0.14615807  0.02688157\n",
            " -0.17909937 -0.17162079  0.03841921  0.14494164 -0.00728239 -0.19642572\n",
            " -0.14686087  0.06918423  0.1368797  -0.0424231  -0.2074367  -0.11769646\n",
            "  0.09602443  0.12228304 -0.07718576 -0.21170779 -0.08525195  0.11790505\n",
            "  0.10171442 -0.11023017 -0.2090743  -0.05077821  0.1339825   0.07596685\n",
            " -0.14028233 -0.1996378  -0.0156043   0.14363693  0.04603297 -0.16618364\n",
            " -0.18376207  0.01891369  0.14649613  0.01306684 -0.1869355  -0.16205919\n",
            "  0.05144498  0.1424499  -0.02166058 -0.20173787 -0.13536589  0.08073536\n",
            "  0.13165419 -0.05681042 -0.21002004 -0.10471126  0.1056556   0.11452524\n",
            " -0.09102754 -0.21146272 -0.07127718  0.12524493  0.09172343 -0.12299275\n",
            " -0.20601031 -0.03635262  0.13874811  0.06412784 -0.15147367 -0.19387299\n",
            " -0.00128406  0.14564455  0.03280238 -0.17537227 -0.17551869  0.03257649\n",
            "  0.14566836 -0.00104524 -0.19376718 -0.15165506  0.06392358  0.13881864\n",
            " -0.03611008 -0.2059492  -0.12320212  0.09154868  0.12535945 -0.07104027\n",
            " -0.21144867 -0.09125682  0.11438674  0.1058097 ], shape=(310,), dtype=float32)\n",
            "tf.Tensor(-0.104489125, shape=(), dtype=float32)\n"
          ],
          "name": "stdout"
        }
      ]
    },
    {
      "cell_type": "markdown",
      "metadata": {
        "id": "BGT3crudwbdf",
        "colab_type": "text"
      },
      "source": [
        "I have successfully saved hte data in TFRecord format as required for TPU training. Now, in order to use it to train I have to make some changes to my modelling. Namely, I have to ensure the TFRecord is what is being read in the environment, and furthermore ensure that it is able to be distributed for training. "
      ]
    },
    {
      "cell_type": "code",
      "metadata": {
        "id": "9ILql10ywX67",
        "colab_type": "code",
        "colab": {}
      },
      "source": [
        ""
      ],
      "execution_count": null,
      "outputs": []
    },
    {
      "cell_type": "markdown",
      "metadata": {
        "id": "jnUuXl1V6OIe",
        "colab_type": "text"
      },
      "source": [
        "#### Build an environment to represent this movement"
      ]
    },
    {
      "cell_type": "code",
      "metadata": {
        "id": "C8mpjibBNZ76",
        "colab_type": "code",
        "colab": {
          "base_uri": "https://localhost:8080/",
          "height": 33
        },
        "outputId": "8c2e8c50-8302-4534-8936-0883ec81ecee"
      },
      "source": [
        "X[0].shape"
      ],
      "execution_count": null,
      "outputs": [
        {
          "output_type": "execute_result",
          "data": {
            "text/plain": [
              "(310,)"
            ]
          },
          "metadata": {
            "tags": []
          },
          "execution_count": 10
        }
      ]
    },
    {
      "cell_type": "code",
      "metadata": {
        "id": "3oeGuXNq6OIe",
        "colab_type": "code",
        "colab": {}
      },
      "source": [
        "class StockMarketEnv(py_environment.PyEnvironment):\n",
        "    '''\n",
        "    Observation: The observation should be a (90,505) matrix\n",
        "    Action: A (505) vector with probabilties from 0 1, max 10 are encoded as 1, all others are 0\n",
        "    Reward: dot product of the (505,1) top 10 choices with the next (1,505) returns\n",
        "    '''\n",
        "    def __init__(self, X, y):\n",
        "        self._action_spec = array_spec.BoundedArraySpec(\n",
        "                                    shape=(1,), dtype=np.float32, minimum=0, maximum=1, name='action')\n",
        "        self._observation_spec = array_spec.BoundedArraySpec(\n",
        "                                    shape=(310,), dtype=np.float32, minimum=-1, maximum=1 ,name='observation')\n",
        "        self._X = X\n",
        "        self._y = y\n",
        "        self._i = 0\n",
        "        self._state = np.array(self._X[self._i], dtype=np.float32)\n",
        "        self._episode_ended = False\n",
        "\n",
        "    def action_spec(self):\n",
        "        return self._action_spec\n",
        "\n",
        "    def observation_spec(self):\n",
        "        return self._observation_spec\n",
        "\n",
        "    def _reset(self):\n",
        "        self._i = 0\n",
        "        self._state = np.array(self._X[self._i], dtype=np.float32) ## input array\n",
        "        self._episode_ended = False\n",
        "        return ts.restart(self._state)\n",
        "\n",
        "    def _step(self, action):\n",
        "        if self._episode_ended:\n",
        "            return self.reset()\n",
        "\n",
        "        self._i += 1\n",
        "\n",
        "        if self._i + 1 >= self._y.shape[0]:\n",
        "            self._episode_ended = True\n",
        "        \n",
        "        reward_state = np.array(self._y[self._i], dtype=np.float32)\n",
        "        reward = -(action[0] - reward_state)**2\n",
        "        \n",
        "        self._state = np.array(self._X[self._i], dtype=np.float32)\n",
        "        \n",
        "        if self._episode_ended:\n",
        "            return ts.termination(np.array(self._state, dtype=np.float32), reward=np.array(reward, dtype=np.float32))\n",
        "        else:\n",
        "            return ts.transition(np.array(self._state, dtype=np.float32), reward=np.array(reward, dtype=np.float32), discount=1.0)"
      ],
      "execution_count": null,
      "outputs": []
    },
    {
      "cell_type": "code",
      "metadata": {
        "id": "b3GEo5XA6OIg",
        "colab_type": "code",
        "colab": {}
      },
      "source": [
        "environment = StockMarketEnv(X, y)\n",
        "utils.validate_py_environment(environment, episodes=5)"
      ],
      "execution_count": null,
      "outputs": []
    },
    {
      "cell_type": "markdown",
      "metadata": {
        "id": "FiQVPe-w6OIi",
        "colab_type": "text"
      },
      "source": [
        "##### Train a DQN to learn on it"
      ]
    },
    {
      "cell_type": "code",
      "metadata": {
        "id": "vKhQj07I8-MX",
        "colab_type": "code",
        "colab": {}
      },
      "source": [
        "# Important interval values for training speed\n",
        "# Set lower to increase speed of training \n",
        "\n",
        "num_iterations = 10 # @param {type:\"integer\"}\n",
        "log_interval = 100 # @param {type:\"integer\"}=\n",
        "num_eval_episodes = 1 # @param {type:\"integer\"}\n",
        "eval_interval = 1 # @param {type:\"integer\"}"
      ],
      "execution_count": null,
      "outputs": []
    },
    {
      "cell_type": "code",
      "metadata": {
        "id": "aI8CjCKP6OIj",
        "colab_type": "code",
        "colab": {}
      },
      "source": [
        "initial_collect_steps = 10000 # @param {type:\"integer\"}\n",
        "collect_steps_per_iteration = 1 # @param {type:\"integer\"}\n",
        "replay_buffer_capacity = 10000 # @param {type:\"integer\"}\n",
        "\n",
        "batch_size = 256 # @param {type:\"integer\"}\n",
        "\n",
        "critic_learning_rate = 3e-4 # @param {type:\"number\"}\n",
        "actor_learning_rate = 3e-4 # @param {type:\"number\"}\n",
        "alpha_learning_rate = 3e-4 # @param {type:\"number\"}\n",
        "target_update_tau = 0.005 # @param {type:\"number\"}\n",
        "target_update_period = 1 # @param {type:\"number\"}\n",
        "gamma = 0.99 # @param {type:\"number\"}\n",
        "reward_scale_factor = 1.0 # @param {type:\"number\"}\n",
        "\n",
        "actor_fc_layer_params = (310,)\n",
        "critic_joint_fc_layer_params = (310,)\n",
        "\n",
        "\n",
        "\n",
        "policy_save_interval = 5000 # @param {type:\"integer\"}"
      ],
      "execution_count": null,
      "outputs": []
    },
    {
      "cell_type": "code",
      "metadata": {
        "id": "IbxnI01V6OIl",
        "colab_type": "code",
        "colab": {
          "base_uri": "https://localhost:8080/",
          "height": 33
        },
        "outputId": "5bf433be-b68b-4521-cef8-aede31dda95a"
      },
      "source": [
        "X.shape[0], X.shape[0]//2"
      ],
      "execution_count": null,
      "outputs": [
        {
          "output_type": "execute_result",
          "data": {
            "text/plain": [
              "(5000, 2500)"
            ]
          },
          "metadata": {
            "tags": []
          },
          "execution_count": 15
        }
      ]
    },
    {
      "cell_type": "code",
      "metadata": {
        "id": "E8_6roAdK9Cx",
        "colab_type": "code",
        "colab": {
          "base_uri": "https://localhost:8080/",
          "height": 33
        },
        "outputId": "22a47c3c-67a5-4804-cbac-9908d6a88617"
      },
      "source": [
        "y.shape[0],  y.shape[0]//2"
      ],
      "execution_count": null,
      "outputs": [
        {
          "output_type": "execute_result",
          "data": {
            "text/plain": [
              "(5000, 2500)"
            ]
          },
          "metadata": {
            "tags": []
          },
          "execution_count": 16
        }
      ]
    },
    {
      "cell_type": "code",
      "metadata": {
        "id": "C41tw48g6OIn",
        "colab_type": "code",
        "colab": {}
      },
      "source": [
        "# Code to produce tf environments\n",
        "# train_py_env = StockMarketEnv(X[:X.shape[0]//2])\n",
        "# eval_py_env = StockMarketEnv(X[X.shape[0]//2:])\n",
        "# train_env = tf_py_environment.TFPyEnvironment(train_py_env)\n",
        "# eval_env = tf_py_environment.TFPyEnvironment(eval_py_env)\n",
        "\n",
        "# Code to produce py environments \n",
        "train_env = StockMarketEnv(X[:X.shape[0]//2], y[:y.shape[0]//2])\n",
        "eval_env = StockMarketEnv(X[X.shape[0]//2:], y[y.shape[0]//2:])"
      ],
      "execution_count": null,
      "outputs": []
    },
    {
      "cell_type": "code",
      "metadata": {
        "id": "JI3GGwdjLzRn",
        "colab_type": "code",
        "colab": {
          "base_uri": "https://localhost:8080/",
          "height": 82
        },
        "outputId": "cffe5b8a-c437-433d-86b2-5ccf25fbf1e6"
      },
      "source": [
        "train_env._y, eval_env._y"
      ],
      "execution_count": null,
      "outputs": [
        {
          "output_type": "execute_result",
          "data": {
            "text/plain": [
              "(array([ 0.02279128, -0.04242661,  0.08742822, ..., -0.22473535,\n",
              "        -0.00361564, -0.16828975], dtype=float32),\n",
              " array([-0.06380255, -0.00887402, -0.1040407 , ...,  0.01091622,\n",
              "        -0.07825399,  0.1870721 ], dtype=float32))"
            ]
          },
          "metadata": {
            "tags": []
          },
          "execution_count": 18
        }
      ]
    },
    {
      "cell_type": "code",
      "metadata": {
        "id": "fCygvxH_6OIs",
        "colab_type": "code",
        "colab": {
          "base_uri": "https://localhost:8080/",
          "height": 82
        },
        "outputId": "53924bcd-a31e-4fbb-b64e-ce6faf2f9914"
      },
      "source": [
        "print('Observation Spec:')\n",
        "print(train_env.time_step_spec().observation)\n",
        "print('Action Spec:')\n",
        "print(train_env.action_spec())"
      ],
      "execution_count": null,
      "outputs": [
        {
          "output_type": "stream",
          "text": [
            "Observation Spec:\n",
            "BoundedArraySpec(shape=(310,), dtype=dtype('float32'), name='observation', minimum=-1.0, maximum=1.0)\n",
            "Action Spec:\n",
            "BoundedArraySpec(shape=(1,), dtype=dtype('float32'), name='action', minimum=0.0, maximum=1.0)\n"
          ],
          "name": "stdout"
        }
      ]
    },
    {
      "cell_type": "code",
      "metadata": {
        "id": "YcyFz4H46OIw",
        "colab_type": "code",
        "colab": {}
      },
      "source": [
        "use_gpu = False \n",
        "\n",
        "strategy = strategy_utils.get_strategy(tpu=False, use_gpu=use_gpu)"
      ],
      "execution_count": null,
      "outputs": []
    },
    {
      "cell_type": "code",
      "metadata": {
        "id": "26HrgAyp6OIy",
        "colab_type": "code",
        "colab": {}
      },
      "source": [
        "observation_spec, action_spec, time_step_spec = (spec_utils.get_tensor_specs(train_env))\n",
        "\n",
        "with strategy.scope():\n",
        "    critic_net = critic_network.CriticNetwork((observation_spec, action_spec),\n",
        "                                            observation_fc_layer_params=None,\n",
        "                                            action_fc_layer_params=None,\n",
        "                                            joint_fc_layer_params=critic_joint_fc_layer_params,\n",
        "                                            kernel_initializer='glorot_uniform',\n",
        "                                            last_kernel_initializer='glorot_uniform')"
      ],
      "execution_count": null,
      "outputs": []
    },
    {
      "cell_type": "code",
      "metadata": {
        "id": "n1BSlzeq6OI0",
        "colab_type": "code",
        "colab": {
          "base_uri": "https://localhost:8080/",
          "height": 33
        },
        "outputId": "37c8836e-0327-4c67-954a-f0089d0397bc"
      },
      "source": [
        "action_spec"
      ],
      "execution_count": null,
      "outputs": [
        {
          "output_type": "execute_result",
          "data": {
            "text/plain": [
              "BoundedTensorSpec(shape=(1,), dtype=tf.float32, name='action', minimum=array(0., dtype=float32), maximum=array(1., dtype=float32))"
            ]
          },
          "metadata": {
            "tags": []
          },
          "execution_count": 22
        }
      ]
    },
    {
      "cell_type": "code",
      "metadata": {
        "id": "iox-BtBq6OI2",
        "colab_type": "code",
        "colab": {
          "base_uri": "https://localhost:8080/",
          "height": 33
        },
        "outputId": "a4399b5f-df95-494c-f200-75923cb3f119"
      },
      "source": [
        "observation_spec"
      ],
      "execution_count": null,
      "outputs": [
        {
          "output_type": "execute_result",
          "data": {
            "text/plain": [
              "BoundedTensorSpec(shape=(310,), dtype=tf.float32, name='observation', minimum=array(-1., dtype=float32), maximum=array(1., dtype=float32))"
            ]
          },
          "metadata": {
            "tags": []
          },
          "execution_count": 23
        }
      ]
    },
    {
      "cell_type": "code",
      "metadata": {
        "id": "xdFSU2mg6OI4",
        "colab_type": "code",
        "colab": {
          "base_uri": "https://localhost:8080/",
          "height": 33
        },
        "outputId": "75066138-0048-47f9-b045-29e62b71de71"
      },
      "source": [
        "actor_fc_layer_params"
      ],
      "execution_count": null,
      "outputs": [
        {
          "output_type": "execute_result",
          "data": {
            "text/plain": [
              "(310,)"
            ]
          },
          "metadata": {
            "tags": []
          },
          "execution_count": 24
        }
      ]
    },
    {
      "cell_type": "code",
      "metadata": {
        "id": "k9hmG_ih6OI6",
        "colab_type": "code",
        "colab": {}
      },
      "source": [
        "with strategy.scope():\n",
        "    actor_net = actor_distribution_network.ActorDistributionNetwork(observation_spec,\n",
        "                                                                    action_spec,\n",
        "                                                                    fc_layer_params=actor_fc_layer_params,\n",
        "                                                                    continuous_projection_net=(\n",
        "                                              tanh_normal_projection_network.TanhNormalProjectionNetwork))"
      ],
      "execution_count": null,
      "outputs": []
    },
    {
      "cell_type": "code",
      "metadata": {
        "id": "4ZNrQfK16OI8",
        "colab_type": "code",
        "colab": {
          "base_uri": "https://localhost:8080/",
          "height": 53
        },
        "outputId": "c3339288-fe7b-4323-d55d-c09991f34061"
      },
      "source": [
        "time_step_spec"
      ],
      "execution_count": null,
      "outputs": [
        {
          "output_type": "execute_result",
          "data": {
            "text/plain": [
              "TimeStep(step_type=TensorSpec(shape=(), dtype=tf.int32, name='step_type'), reward=TensorSpec(shape=(), dtype=tf.float32, name='reward'), discount=BoundedTensorSpec(shape=(), dtype=tf.float32, name='discount', minimum=array(0., dtype=float32), maximum=array(1., dtype=float32)), observation=BoundedTensorSpec(shape=(310,), dtype=tf.float32, name='observation', minimum=array(-1., dtype=float32), maximum=array(1., dtype=float32)))"
            ]
          },
          "metadata": {
            "tags": []
          },
          "execution_count": 26
        }
      ]
    },
    {
      "cell_type": "code",
      "metadata": {
        "id": "VGkzecjK6OI_",
        "colab_type": "code",
        "colab": {}
      },
      "source": [
        "with strategy.scope():\n",
        "    train_step = train_utils.create_train_step()\n",
        "\n",
        "    tf_agent = sac_agent.SacAgent(\n",
        "                                time_step_spec,\n",
        "                                action_spec,\n",
        "                                actor_network=actor_net,\n",
        "                                critic_network=critic_net,\n",
        "                                actor_optimizer=tf.compat.v1.train.AdamOptimizer(\n",
        "                                                                learning_rate=actor_learning_rate),\n",
        "                                critic_optimizer=tf.compat.v1.train.AdamOptimizer(\n",
        "                                                                learning_rate=critic_learning_rate),\n",
        "                                alpha_optimizer=tf.compat.v1.train.AdamOptimizer(\n",
        "                                                                learning_rate=alpha_learning_rate),\n",
        "                                target_update_tau=target_update_tau,\n",
        "                                target_update_period=target_update_period,\n",
        "                                td_errors_loss_fn=tf.math.squared_difference,\n",
        "                                gamma=gamma,\n",
        "                                reward_scale_factor=reward_scale_factor,\n",
        "                                train_step_counter=train_step)\n",
        "\n",
        "    tf_agent.initialize()"
      ],
      "execution_count": null,
      "outputs": []
    },
    {
      "cell_type": "code",
      "metadata": {
        "id": "8gM1JEUN6OJB",
        "colab_type": "code",
        "colab": {}
      },
      "source": [
        "table_name = 'uniform_table'\n",
        "table = reverb.Table(\n",
        "    table_name,\n",
        "    max_size=replay_buffer_capacity,\n",
        "    sampler=reverb.selectors.Uniform(),\n",
        "    remover=reverb.selectors.Fifo(),\n",
        "    rate_limiter=reverb.rate_limiters.MinSize(1))\n",
        "\n",
        "reverb_server = reverb.Server([table])"
      ],
      "execution_count": null,
      "outputs": []
    },
    {
      "cell_type": "code",
      "metadata": {
        "id": "O-qcDPy36OJC",
        "colab_type": "code",
        "colab": {}
      },
      "source": [
        "reverb_replay = reverb_replay_buffer.ReverbReplayBuffer(\n",
        "    tf_agent.collect_data_spec,\n",
        "    sequence_length=2,\n",
        "    table_name=table_name,\n",
        "    local_server=reverb_server)"
      ],
      "execution_count": null,
      "outputs": []
    },
    {
      "cell_type": "code",
      "metadata": {
        "id": "aEVBb3Vy6OJF",
        "colab_type": "code",
        "colab": {}
      },
      "source": [
        "dataset = reverb_replay.as_dataset(\n",
        "      sample_batch_size=batch_size, num_steps=2).prefetch(50)\n",
        "experience_dataset_fn = lambda: dataset"
      ],
      "execution_count": null,
      "outputs": []
    },
    {
      "cell_type": "code",
      "metadata": {
        "id": "v4Nx9XuX6OJG",
        "colab_type": "code",
        "colab": {}
      },
      "source": [
        "tf_eval_policy = tf_agent.policy\n",
        "eval_policy = py_tf_eager_policy.PyTFEagerPolicy(\n",
        "  tf_eval_policy, use_tf_function=True)"
      ],
      "execution_count": null,
      "outputs": []
    },
    {
      "cell_type": "code",
      "metadata": {
        "id": "oNMwXs166OJI",
        "colab_type": "code",
        "colab": {}
      },
      "source": [
        "tf_collect_policy = tf_agent.collect_policy\n",
        "collect_policy = py_tf_eager_policy.PyTFEagerPolicy(\n",
        "  tf_collect_policy, use_tf_function=True)"
      ],
      "execution_count": null,
      "outputs": []
    },
    {
      "cell_type": "code",
      "metadata": {
        "id": "8DVAbbe56OJK",
        "colab_type": "code",
        "colab": {}
      },
      "source": [
        "rb_observer = reverb_utils.ReverbAddTrajectoryObserver(\n",
        "  reverb_replay.py_client,\n",
        "  table_name,\n",
        "  sequence_length=2,\n",
        "  stride_length=1)"
      ],
      "execution_count": null,
      "outputs": []
    },
    {
      "cell_type": "code",
      "metadata": {
        "id": "v74jTE1x6OJM",
        "colab_type": "code",
        "colab": {}
      },
      "source": [
        "random_policy = random_py_policy.RandomPyPolicy(\n",
        "  train_env.time_step_spec(), train_env.action_spec())"
      ],
      "execution_count": null,
      "outputs": []
    },
    {
      "cell_type": "code",
      "metadata": {
        "id": "Ssnyf2ZI6OJO",
        "colab_type": "code",
        "colab": {}
      },
      "source": [
        "initial_collect_actor = actor.Actor(\n",
        "              train_env,\n",
        "              random_policy,\n",
        "              train_step,\n",
        "              steps_per_run=initial_collect_steps,\n",
        "              observers=[rb_observer])\n",
        "initial_collect_actor.run()"
      ],
      "execution_count": null,
      "outputs": []
    },
    {
      "cell_type": "code",
      "metadata": {
        "id": "78nkhZQb6OJQ",
        "colab_type": "code",
        "colab": {}
      },
      "source": [
        "env_step_metric = py_metrics.EnvironmentSteps()\n",
        "collect_actor = actor.Actor(\n",
        "                  train_env,\n",
        "                  collect_policy,\n",
        "                  train_step,\n",
        "                  steps_per_run=1,\n",
        "                  metrics=actor.collect_metrics(10),\n",
        "                  summary_dir=os.path.join(tempdir, learner.TRAIN_DIR),\n",
        "                  observers=[rb_observer, env_step_metric])"
      ],
      "execution_count": null,
      "outputs": []
    },
    {
      "cell_type": "code",
      "metadata": {
        "id": "yodc_CfJ6OJR",
        "colab_type": "code",
        "colab": {}
      },
      "source": [
        "eval_actor = actor.Actor(\n",
        "  eval_env,\n",
        "  eval_policy,\n",
        "  train_step,\n",
        "  episodes_per_run=num_eval_episodes,\n",
        "  metrics=actor.eval_metrics(num_eval_episodes),\n",
        "  summary_dir=os.path.join(tempdir, 'eval'),\n",
        ")"
      ],
      "execution_count": null,
      "outputs": []
    },
    {
      "cell_type": "code",
      "metadata": {
        "id": "HcF7aCzv6OJT",
        "colab_type": "code",
        "colab": {
          "base_uri": "https://localhost:8080/",
          "height": 330
        },
        "outputId": "e1df0b3a-4fd1-4f36-caff-d23714888448"
      },
      "source": [
        "saved_model_dir = os.path.join(tempdir, learner.POLICY_SAVED_MODEL_DIR)\n",
        "\n",
        "# Triggers to save the agent's policy checkpoints.\n",
        "learning_triggers = [\n",
        "    triggers.PolicySavedModelTrigger(\n",
        "        saved_model_dir,\n",
        "        tf_agent,\n",
        "        train_step,\n",
        "        interval=policy_save_interval),\n",
        "    triggers.StepPerSecondLogTrigger(train_step, interval=1000),\n",
        "]\n",
        "\n",
        "agent_learner = learner.Learner(\n",
        "  tempdir,\n",
        "  train_step,\n",
        "  tf_agent,\n",
        "  experience_dataset_fn,\n",
        "  triggers=learning_triggers)"
      ],
      "execution_count": null,
      "outputs": [
        {
          "output_type": "stream",
          "text": [
            "WARNING:tensorflow:From /usr/local/lib/python3.6/dist-packages/tensorflow/python/ops/linalg/linear_operator_diag.py:166: calling LinearOperator.__init__ (from tensorflow.python.ops.linalg.linear_operator) with graph_parents is deprecated and will be removed in a future version.\n",
            "Instructions for updating:\n",
            "Do not pass `graph_parents`.  They will  no longer be used.\n"
          ],
          "name": "stdout"
        },
        {
          "output_type": "stream",
          "text": [
            "WARNING:absl:WARNING: Could not serialize policy.distribution() for policy \"<tf_agents.policies.actor_policy.ActorPolicy object at 0x7f2e22490240>\". Calling saved_model.distribution() will raise the following assertion error: Unable to make a CompositeTensor for \"tfp.distributions.SquashToSpecNormal(\"ActorDistributionNetwork_TanhNormalProjectionNetwork_SquashToSpecNormal\", dtype=float32)\" of type `<class 'tf_agents.distributions.utils.SquashToSpecNormal'>`. Email `tfprobability@tensorflow.org` or file an issue on github if you would benefit from this working. (Unable to convert dependent entry 'scale' of object 'tfp.distributions.SquashToSpecNormal(\"ActorDistributionNetwork_TanhNormalProjectionNetwork_SquashToSpecNormal\", dtype=float32)': Failed to convert object of type <class 'tensorflow.python.ops.linalg.linear_operator_diag.LinearOperatorDiag'> to Tensor. Contents: <tensorflow.python.ops.linalg.linear_operator_diag.LinearOperatorDiag object at 0x7f2e10036eb8>. Consider casting elements to a supported type.)\n",
            "WARNING:absl:WARNING: Could not serialize policy.distribution() for policy \"<tf_agents.policies.actor_policy.ActorPolicy object at 0x7f2e22490240>\". Calling saved_model.distribution() will raise the following assertion error: Unable to make a CompositeTensor for \"tfp.distributions.SquashToSpecNormal(\"ActorDistributionNetwork_TanhNormalProjectionNetwork_SquashToSpecNormal\", dtype=float32)\" of type `<class 'tf_agents.distributions.utils.SquashToSpecNormal'>`. Email `tfprobability@tensorflow.org` or file an issue on github if you would benefit from this working. (Unable to convert dependent entry 'scale' of object 'tfp.distributions.SquashToSpecNormal(\"ActorDistributionNetwork_TanhNormalProjectionNetwork_SquashToSpecNormal\", dtype=float32)': Failed to convert object of type <class 'tensorflow.python.ops.linalg.linear_operator_diag.LinearOperatorDiag'> to Tensor. Contents: <tensorflow.python.ops.linalg.linear_operator_diag.LinearOperatorDiag object at 0x7f2e10021e80>. Consider casting elements to a supported type.)\n",
            "WARNING:absl:WARNING: Could not serialize policy.distribution() for policy \"<tf_agents.policies.actor_policy.ActorPolicy object at 0x7f2e22490240>\". Calling saved_model.distribution() will raise the following assertion error: Unable to make a CompositeTensor for \"tfp.distributions.SquashToSpecNormal(\"ActorDistributionNetwork_TanhNormalProjectionNetwork_SquashToSpecNormal\", dtype=float32)\" of type `<class 'tf_agents.distributions.utils.SquashToSpecNormal'>`. Email `tfprobability@tensorflow.org` or file an issue on github if you would benefit from this working. (Unable to convert dependent entry 'scale' of object 'tfp.distributions.SquashToSpecNormal(\"ActorDistributionNetwork_TanhNormalProjectionNetwork_SquashToSpecNormal\", dtype=float32)': Failed to convert object of type <class 'tensorflow.python.ops.linalg.linear_operator_diag.LinearOperatorDiag'> to Tensor. Contents: <tensorflow.python.ops.linalg.linear_operator_diag.LinearOperatorDiag object at 0x7f2db6704e10>. Consider casting elements to a supported type.)\n"
          ],
          "name": "stderr"
        },
        {
          "output_type": "stream",
          "text": [
            "WARNING:tensorflow:From /usr/local/lib/python3.6/dist-packages/tensorflow/python/training/tracking/tracking.py:111: Layer.updates (from tensorflow.python.keras.engine.base_layer) is deprecated and will be removed in a future version.\n",
            "Instructions for updating:\n",
            "This property should not be used in TensorFlow 2.0, as updates are applied automatically.\n"
          ],
          "name": "stdout"
        },
        {
          "output_type": "stream",
          "text": [
            "WARNING:tensorflow:From /usr/local/lib/python3.6/dist-packages/tensorflow/python/training/tracking/tracking.py:111: Layer.updates (from tensorflow.python.keras.engine.base_layer) is deprecated and will be removed in a future version.\n",
            "Instructions for updating:\n",
            "This property should not be used in TensorFlow 2.0, as updates are applied automatically.\n"
          ],
          "name": "stderr"
        },
        {
          "output_type": "stream",
          "text": [
            "INFO:tensorflow:Assets written to: /tmp/policies/collect_policy/assets\n"
          ],
          "name": "stdout"
        },
        {
          "output_type": "stream",
          "text": [
            "INFO:tensorflow:Assets written to: /tmp/policies/collect_policy/assets\n"
          ],
          "name": "stderr"
        },
        {
          "output_type": "stream",
          "text": [
            "INFO:tensorflow:Assets written to: /tmp/policies/greedy_policy/assets\n"
          ],
          "name": "stdout"
        },
        {
          "output_type": "stream",
          "text": [
            "INFO:tensorflow:Assets written to: /tmp/policies/greedy_policy/assets\n"
          ],
          "name": "stderr"
        },
        {
          "output_type": "stream",
          "text": [
            "INFO:tensorflow:Assets written to: /tmp/policies/policy/assets\n"
          ],
          "name": "stdout"
        },
        {
          "output_type": "stream",
          "text": [
            "INFO:tensorflow:Assets written to: /tmp/policies/policy/assets\n"
          ],
          "name": "stderr"
        }
      ]
    },
    {
      "cell_type": "code",
      "metadata": {
        "id": "8p0RFzeQ6OJV",
        "colab_type": "code",
        "colab": {
          "base_uri": "https://localhost:8080/",
          "height": 50
        },
        "outputId": "7c527e0e-1436-479e-daf5-40ab740d6d3b"
      },
      "source": [
        "%%time\n",
        "def get_eval_metrics():\n",
        "    eval_actor.run()\n",
        "    results = {}\n",
        "    for metric in eval_actor.metrics:\n",
        "        results[metric.name] = metric.result()\n",
        "    return results\n",
        "\n",
        "metrics = get_eval_metrics()"
      ],
      "execution_count": null,
      "outputs": [
        {
          "output_type": "stream",
          "text": [
            "CPU times: user 3.45 s, sys: 275 ms, total: 3.72 s\n",
            "Wall time: 3.29 s\n"
          ],
          "name": "stdout"
        }
      ]
    },
    {
      "cell_type": "code",
      "metadata": {
        "id": "gj7kzMcAMWxH",
        "colab_type": "code",
        "colab": {
          "base_uri": "https://localhost:8080/",
          "height": 50
        },
        "outputId": "b5543de3-00e1-4d20-f323-558d29df92de"
      },
      "source": [
        "eval_env._y"
      ],
      "execution_count": null,
      "outputs": [
        {
          "output_type": "execute_result",
          "data": {
            "text/plain": [
              "array([-0.06380255, -0.00887402, -0.1040407 , ...,  0.01091622,\n",
              "       -0.07825399,  0.1870721 ], dtype=float32)"
            ]
          },
          "metadata": {
            "tags": []
          },
          "execution_count": 40
        }
      ]
    },
    {
      "cell_type": "code",
      "metadata": {
        "id": "6zI3plJX6OJY",
        "colab_type": "code",
        "colab": {
          "base_uri": "https://localhost:8080/",
          "height": 66
        },
        "outputId": "0ac8ac9c-9c7e-443a-f9a1-9d8bde31c507"
      },
      "source": [
        "%%time\n",
        "def log_eval_metrics(step, metrics):\n",
        "    eval_results = (', ').join(\n",
        "              '{} = {:.6f}'.format(name, result) for name, result in metrics.items())\n",
        "    print('step = {0}: {1}'.format(step, eval_results))\n",
        "\n",
        "log_eval_metrics(0, metrics)"
      ],
      "execution_count": null,
      "outputs": [
        {
          "output_type": "stream",
          "text": [
            "step = 0: AverageReturn = -843.354919, AverageEpisodeLength = 2499.000000\n",
            "CPU times: user 462 µs, sys: 0 ns, total: 462 µs\n",
            "Wall time: 471 µs\n"
          ],
          "name": "stdout"
        }
      ]
    },
    {
      "cell_type": "code",
      "metadata": {
        "id": "lHcfpMpTBROF",
        "colab_type": "code",
        "colab": {
          "base_uri": "https://localhost:8080/",
          "height": 33
        },
        "outputId": "f8c508de-97a3-4c50-a16c-2a2096bfab90"
      },
      "source": [
        "training_params = [num_iterations,\n",
        "                    log_interval,\n",
        "                    num_eval_episodes,\n",
        "                    eval_interval]\n",
        "          \n",
        "print(training_params)"
      ],
      "execution_count": null,
      "outputs": [
        {
          "output_type": "stream",
          "text": [
            "[10, 100, 1, 1]\n"
          ],
          "name": "stdout"
        }
      ]
    },
    {
      "cell_type": "code",
      "metadata": {
        "id": "DrUeXAbq6OJa",
        "colab_type": "code",
        "colab": {
          "base_uri": "https://localhost:8080/",
          "height": 212
        },
        "outputId": "a628efd9-2077-4071-cb99-83cf0f6cd89d"
      },
      "source": [
        "#@test {\"skip\": true}\n",
        "try:\n",
        "    %%time\n",
        "except:\n",
        "    pass\n",
        "\n",
        "start = time.time()\n",
        "# Reset the train step\n",
        "tf_agent.train_step_counter.assign(0)\n",
        "\n",
        "# Evaluate the agent's policy once before training.\n",
        "avg_return = metrics[\"AverageReturn\"]\n",
        "returns = [avg_return]\n",
        "\n",
        "for _ in range(num_iterations):\n",
        "    # Training.\n",
        "    collect_actor.run()\n",
        "    loss_info = agent_learner.run(iterations=1)\n",
        "\n",
        "    # Evaluating.\n",
        "    step = agent_learner.train_step_numpy\n",
        "\n",
        "    if eval_interval and step % eval_interval == 0:\n",
        "        metrics = get_eval_metrics()\n",
        "        log_eval_metrics(step, metrics)\n",
        "        returns.append(metrics[\"AverageReturn\"])\n",
        "\n",
        "    if log_interval and step % log_interval == 0:\n",
        "        print('step = {0}: loss = {1}'.format(step, loss_info.loss.numpy()))\n",
        "        minsec = divmod((time.time() - start), 60)\n",
        "        hourmin = divmod(minsec[0], 60)\n",
        "        print(f\"Time elasped: {int(hourmin[0])}:{int(hourmin[1])}:{minsec[1]}\")\n",
        "\n",
        "rb_observer.close()\n",
        "reverb_server.stop()"
      ],
      "execution_count": null,
      "outputs": [
        {
          "output_type": "stream",
          "text": [
            "CPU times: user 2 µs, sys: 0 ns, total: 2 µs\n",
            "Wall time: 4.29 µs\n",
            "step = 1: AverageReturn = -841.190735, AverageEpisodeLength = 2499.000000\n",
            "step = 2: AverageReturn = -858.180542, AverageEpisodeLength = 2499.000000\n",
            "step = 3: AverageReturn = -866.887695, AverageEpisodeLength = 2499.000000\n",
            "step = 4: AverageReturn = -883.350037, AverageEpisodeLength = 2499.000000\n",
            "step = 5: AverageReturn = -880.205139, AverageEpisodeLength = 2499.000000\n",
            "step = 6: AverageReturn = -908.121765, AverageEpisodeLength = 2499.000000\n",
            "step = 7: AverageReturn = -864.832520, AverageEpisodeLength = 2499.000000\n",
            "step = 8: AverageReturn = -870.467529, AverageEpisodeLength = 2499.000000\n",
            "step = 9: AverageReturn = -873.192322, AverageEpisodeLength = 2499.000000\n",
            "step = 10: AverageReturn = -837.118347, AverageEpisodeLength = 2499.000000\n"
          ],
          "name": "stdout"
        }
      ]
    },
    {
      "cell_type": "code",
      "metadata": {
        "id": "GmtrxGbo6OJb",
        "colab_type": "code",
        "colab": {
          "base_uri": "https://localhost:8080/",
          "height": 295
        },
        "outputId": "34fbcf3d-ad37-4270-d866-66fb9b853128"
      },
      "source": [
        "#@test {\"skip\": true}\n",
        "\n",
        "steps = range(0, 11, eval_interval)\n",
        "plt.plot(steps, returns)\n",
        "plt.ylabel('Average Return')\n",
        "plt.xlabel('Step')\n",
        "plt.ylim()"
      ],
      "execution_count": null,
      "outputs": [
        {
          "output_type": "execute_result",
          "data": {
            "text/plain": [
              "(-911.6719360351562, -833.5681762695312)"
            ]
          },
          "metadata": {
            "tags": []
          },
          "execution_count": 46
        },
        {
          "output_type": "display_data",
          "data": {
            "image/png": "[encoded data removed]",
            "text/plain": [
              "<Figure size 432x288 with 1 Axes>"
            ]
          },
          "metadata": {
            "tags": [],
            "needs_background": "light"
          }
        }
      ]
    },
    {
      "cell_type": "code",
      "metadata": {
        "id": "MYWwI0o_CD9c",
        "colab_type": "code",
        "colab": {
          "base_uri": "https://localhost:8080/",
          "height": 82
        },
        "outputId": "397ed57d-284f-422c-b95e-c89e132149a8"
      },
      "source": [
        "for metric in collect_actor.metrics:\n",
        "  print(f\"{metric.name} = {metric.result()}\")"
      ],
      "execution_count": null,
      "outputs": [
        {
          "output_type": "stream",
          "text": [
            "NumberOfEpisodes = 0\n",
            "EnvironmentSteps = 10\n",
            "AverageReturn = 0.0\n",
            "AverageEpisodeLength = 0.0\n"
          ],
          "name": "stdout"
        }
      ]
    },
    {
      "cell_type": "code",
      "metadata": {
        "id": "M2fSUEvIYKvK",
        "colab_type": "code",
        "colab": {
          "base_uri": "https://localhost:8080/",
          "height": 33
        },
        "outputId": "f0ced462-b291-4efb-f50d-632a4a210c2d"
      },
      "source": [
        "collect_actor.metrics[2].result()"
      ],
      "execution_count": null,
      "outputs": [
        {
          "output_type": "execute_result",
          "data": {
            "text/plain": [
              "array(0., dtype=float32)"
            ]
          },
          "metadata": {
            "tags": []
          },
          "execution_count": 48
        }
      ]
    }
  ]
}