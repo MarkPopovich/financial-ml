{
  "nbformat": 4,
  "nbformat_minor": 0,
  "metadata": {
    "kernelspec": {
      "display_name": "Python 3",
      "language": "python",
      "name": "python3"
    },
    "language_info": {
      "codemirror_mode": {
        "name": "ipython",
        "version": 3
      },
      "file_extension": ".py",
      "mimetype": "text/x-python",
      "name": "python",
      "nbconvert_exporter": "python",
      "pygments_lexer": "ipython3",
      "version": "3.7.6"
    },
    "colab": {
      "name": "4.7 Design Deep Reinforcement Learning Agent.ipynb",
      "provenance": [],
      "toc_visible": true
    }
  },
  "cells": [
    {
      "cell_type": "markdown",
      "metadata": {
        "id": "hm6b5yaR6OH-",
        "colab_type": "text"
      },
      "source": [
        "# 4.7 Design Deep Reinforcement Learning Agent\n",
        "## Data Considerations \n",
        "\n",
        "In this notebook we will implement some of the considerations necessary to train this model on larger datasets in the scope of > gb. \n",
        "\n",
        "In order to do so, we will take the following steps:\n",
        "\n",
        "1) Save datasets as TFDatasets   \n",
        "2) Implement iteration on the TFDataset as most models prefer. This is important for distributed learning.   \n",
        "3) Checkpoint and save models accordingly so they can be loaded again.  \n",
        "4) Predict on evaluation data.  "
      ]
    },
    {
      "cell_type": "markdown",
      "metadata": {
        "id": "J1kAIK7f6OIA",
        "colab_type": "text"
      },
      "source": [
        "#### Download datasets for all the stocks in the S&P 500."
      ]
    },
    {
      "cell_type": "code",
      "metadata": {
        "id": "u1xW-_jbiS1v",
        "colab_type": "code",
        "colab": {}
      },
      "source": [
        "from IPython import display\n",
        "!pip install gcsfs\n",
        "!pip install tf-agents[reverb]\n",
        "display.clear_output()"
      ],
      "execution_count": 2,
      "outputs": []
    },
    {
      "cell_type": "code",
      "metadata": {
        "id": "eZ_5JnXK1vQk",
        "colab_type": "code",
        "colab": {}
      },
      "source": [
        "from google.colab import drive\n",
        "from google.cloud import storage\n",
        "import pandas as pd\n",
        "import time\n",
        "import pandas as pd \n",
        "import matplotlib.pyplot as plt\n",
        "from __future__ import absolute_import, division, print_function\n",
        "\n",
        "import abc\n",
        "import tensorflow as tf\n",
        "import numpy as np\n",
        "import base64\n",
        "import IPython\n",
        "import matplotlib.pyplot as plt\n",
        "import numpy as np\n",
        "import os\n",
        "import tempfile\n",
        "\n",
        "from tf_agents.environments import py_environment\n",
        "from tf_agents.environments import tf_environment\n",
        "from tf_agents.environments import tf_py_environment\n",
        "from tf_agents.environments import utils\n",
        "from tf_agents.specs import array_spec\n",
        "from tf_agents.environments import wrappers\n",
        "from tf_agents.trajectories import time_step as ts\n",
        "from tf_agents.agents.dqn import dqn_agent\n",
        "from tf_agents.drivers import dynamic_step_driver\n",
        "from tf_agents.eval import metric_utils\n",
        "from tf_agents.metrics import tf_metrics\n",
        "from tf_agents.networks import q_network\n",
        "from tf_agents.policies import random_tf_policy\n",
        "from tf_agents.replay_buffers import tf_uniform_replay_buffer\n",
        "from tf_agents.trajectories import trajectory\n",
        "from tf_agents.utils import common\n",
        "\n",
        "from tf_agents.agents.ddpg import critic_network\n",
        "from tf_agents.agents.sac import sac_agent\n",
        "from tf_agents.agents.sac import tanh_normal_projection_network\n",
        "from tf_agents.experimental.train import actor\n",
        "from tf_agents.experimental.train import learner\n",
        "from tf_agents.experimental.train import triggers\n",
        "from tf_agents.experimental.train.utils import spec_utils\n",
        "from tf_agents.experimental.train.utils import strategy_utils\n",
        "from tf_agents.experimental.train.utils import train_utils\n",
        "from tf_agents.metrics import py_metrics\n",
        "from tf_agents.networks import actor_distribution_network\n",
        "from tf_agents.policies import greedy_policy\n",
        "from tf_agents.policies import py_tf_eager_policy\n",
        "from tf_agents.policies import random_py_policy\n",
        "from tf_agents.replay_buffers import reverb_replay_buffer\n",
        "from tf_agents.replay_buffers import reverb_utils\n",
        "import reverb\n",
        "\n",
        "tf.compat.v1.enable_v2_behavior()"
      ],
      "execution_count": 3,
      "outputs": []
    },
    {
      "cell_type": "code",
      "metadata": {
        "id": "zs_lLrRTasCG",
        "colab_type": "code",
        "colab": {}
      },
      "source": [
        "# drive.mount('/content/drive')\n",
        "\n",
        "# os.environ['GOOGLE_APPLICATION_CREDENTIALS'] = \"/content/drive/My Drive/fin-aml/fin-aml-gcskeys-337dfd8d8867.json\"\n",
        "\n",
        "# storage_client = storage.Client()\n",
        "# display.clear_output()"
      ],
      "execution_count": 4,
      "outputs": []
    },
    {
      "cell_type": "code",
      "metadata": {
        "id": "2GhPWMKn1vQu",
        "colab_type": "code",
        "colab": {}
      },
      "source": [
        "pd.set_option('display.max_rows', 100)\n",
        "pd.set_option('display.max_columns', 100)\n",
        "\n",
        "tempdir = tempfile.gettempdir()"
      ],
      "execution_count": 5,
      "outputs": []
    },
    {
      "cell_type": "code",
      "metadata": {
        "id": "eQTvbiXI65JW",
        "colab_type": "code",
        "colab": {}
      },
      "source": [
        "# df = pd.read_csv('gs://fin-datasets-aml/data/sp500/spdfm.csv')\n",
        "# df.set_index('datetime', inplace=True)\n",
        "# df.head()"
      ],
      "execution_count": 6,
      "outputs": []
    },
    {
      "cell_type": "code",
      "metadata": {
        "id": "UVPJeAq3Fv59",
        "colab_type": "code",
        "colab": {
          "base_uri": "https://localhost:8080/",
          "height": 33
        },
        "outputId": "085d269f-a0e7-4ae6-cdbd-a66f9b05401d"
      },
      "source": [
        "# create toy data to test whether the model works\n",
        "# 311 time steps of a sine wave, X = 0:310, y = 311\n",
        "# linspace 0 311 as columns\n",
        "# rows of different unique waves in A, B, C, D\n",
        "# maybe something like 5000 rows to start with\n",
        "import numpy as np\n",
        "feature_space = np.linspace(0, 311, 311).reshape(1, 311)\n",
        "\n",
        "A = np.random.normal(0, .1, size=5000).reshape(5000,1)\n",
        "B = np.random.normal(0, .1, size=5000).reshape(5000, 1)\n",
        "C = np.random.normal(0, 3, size=5000).reshape(5000, 1)\n",
        "D = np.random.normal(0, 100, size=5000).reshape(5000, 1)\n",
        "\n",
        "\n",
        "Xy = np.sin(np.matmul(C, feature_space)*(2*np.pi) - D) * A + B\n",
        "# X = np.matmul(, A) + B\n",
        "# X.shape\n",
        "Xy.shape"
      ],
      "execution_count": 7,
      "outputs": [
        {
          "output_type": "execute_result",
          "data": {
            "text/plain": [
              "(5000, 311)"
            ]
          },
          "metadata": {
            "tags": []
          },
          "execution_count": 7
        }
      ]
    },
    {
      "cell_type": "code",
      "metadata": {
        "id": "IFOZL-WuUti2",
        "colab_type": "code",
        "colab": {
          "base_uri": "https://localhost:8080/",
          "height": 265
        },
        "outputId": "febb243d-6567-4b05-c29b-d5178ceb737b"
      },
      "source": [
        "import matplotlib.pyplot as plt\n",
        "\n",
        "plt.plot(Xy[3]);"
      ],
      "execution_count": 8,
      "outputs": [
        {
          "output_type": "display_data",
          "data": {
            "image/png": "[encoded data removed]",
            "text/plain": [
              "<Figure size 432x288 with 1 Axes>"
            ]
          },
          "metadata": {
            "tags": [],
            "needs_background": "light"
          }
        }
      ]
    },
    {
      "cell_type": "code",
      "metadata": {
        "id": "uK98aSZKN_Ss",
        "colab_type": "code",
        "colab": {
          "base_uri": "https://localhost:8080/",
          "height": 238
        },
        "outputId": "8b7a5147-19d5-425b-9116-56b2ac220d19"
      },
      "source": [
        "import pandas as pd \n",
        "\n",
        "Xdf = pd.DataFrame(Xy)\n",
        "Xdf.head()"
      ],
      "execution_count": 9,
      "outputs": [
        {
          "output_type": "execute_result",
          "data": {
            "text/html": [
              "<div>\n",
              "<style scoped>\n",
              "    .dataframe tbody tr th:only-of-type {\n",
              "        vertical-align: middle;\n",
              "    }\n",
              "\n",
              "    .dataframe tbody tr th {\n",
              "        vertical-align: top;\n",
              "    }\n",
              "\n",
              "    .dataframe thead th {\n",
              "        text-align: right;\n",
              "    }\n",
              "</style>\n",
              "<table border=\"1\" class=\"dataframe\">\n",
              "  <thead>\n",
              "    <tr style=\"text-align: right;\">\n",
              "      <th></th>\n",
              "      <th>0</th>\n",
              "      <th>1</th>\n",
              "      <th>2</th>\n",
              "      <th>3</th>\n",
              "      <th>4</th>\n",
              "      <th>5</th>\n",
              "      <th>6</th>\n",
              "      <th>7</th>\n",
              "      <th>8</th>\n",
              "      <th>9</th>\n",
              "      <th>10</th>\n",
              "      <th>11</th>\n",
              "      <th>12</th>\n",
              "      <th>13</th>\n",
              "      <th>14</th>\n",
              "      <th>15</th>\n",
              "      <th>16</th>\n",
              "      <th>17</th>\n",
              "      <th>18</th>\n",
              "      <th>19</th>\n",
              "      <th>20</th>\n",
              "      <th>21</th>\n",
              "      <th>22</th>\n",
              "      <th>23</th>\n",
              "      <th>24</th>\n",
              "      <th>25</th>\n",
              "      <th>26</th>\n",
              "      <th>27</th>\n",
              "      <th>28</th>\n",
              "      <th>29</th>\n",
              "      <th>30</th>\n",
              "      <th>31</th>\n",
              "      <th>32</th>\n",
              "      <th>33</th>\n",
              "      <th>34</th>\n",
              "      <th>35</th>\n",
              "      <th>36</th>\n",
              "      <th>37</th>\n",
              "      <th>38</th>\n",
              "      <th>39</th>\n",
              "      <th>40</th>\n",
              "      <th>41</th>\n",
              "      <th>42</th>\n",
              "      <th>43</th>\n",
              "      <th>44</th>\n",
              "      <th>45</th>\n",
              "      <th>46</th>\n",
              "      <th>47</th>\n",
              "      <th>48</th>\n",
              "      <th>49</th>\n",
              "      <th>...</th>\n",
              "      <th>261</th>\n",
              "      <th>262</th>\n",
              "      <th>263</th>\n",
              "      <th>264</th>\n",
              "      <th>265</th>\n",
              "      <th>266</th>\n",
              "      <th>267</th>\n",
              "      <th>268</th>\n",
              "      <th>269</th>\n",
              "      <th>270</th>\n",
              "      <th>271</th>\n",
              "      <th>272</th>\n",
              "      <th>273</th>\n",
              "      <th>274</th>\n",
              "      <th>275</th>\n",
              "      <th>276</th>\n",
              "      <th>277</th>\n",
              "      <th>278</th>\n",
              "      <th>279</th>\n",
              "      <th>280</th>\n",
              "      <th>281</th>\n",
              "      <th>282</th>\n",
              "      <th>283</th>\n",
              "      <th>284</th>\n",
              "      <th>285</th>\n",
              "      <th>286</th>\n",
              "      <th>287</th>\n",
              "      <th>288</th>\n",
              "      <th>289</th>\n",
              "      <th>290</th>\n",
              "      <th>291</th>\n",
              "      <th>292</th>\n",
              "      <th>293</th>\n",
              "      <th>294</th>\n",
              "      <th>295</th>\n",
              "      <th>296</th>\n",
              "      <th>297</th>\n",
              "      <th>298</th>\n",
              "      <th>299</th>\n",
              "      <th>300</th>\n",
              "      <th>301</th>\n",
              "      <th>302</th>\n",
              "      <th>303</th>\n",
              "      <th>304</th>\n",
              "      <th>305</th>\n",
              "      <th>306</th>\n",
              "      <th>307</th>\n",
              "      <th>308</th>\n",
              "      <th>309</th>\n",
              "      <th>310</th>\n",
              "    </tr>\n",
              "  </thead>\n",
              "  <tbody>\n",
              "    <tr>\n",
              "      <th>0</th>\n",
              "      <td>0.090452</td>\n",
              "      <td>0.100844</td>\n",
              "      <td>0.084061</td>\n",
              "      <td>0.090256</td>\n",
              "      <td>0.100917</td>\n",
              "      <td>0.084186</td>\n",
              "      <td>0.090061</td>\n",
              "      <td>0.100985</td>\n",
              "      <td>0.084313</td>\n",
              "      <td>0.089866</td>\n",
              "      <td>0.101050</td>\n",
              "      <td>0.084444</td>\n",
              "      <td>0.089672</td>\n",
              "      <td>0.101111</td>\n",
              "      <td>0.084578</td>\n",
              "      <td>0.089479</td>\n",
              "      <td>0.101168</td>\n",
              "      <td>0.084714</td>\n",
              "      <td>0.089287</td>\n",
              "      <td>0.101222</td>\n",
              "      <td>0.084854</td>\n",
              "      <td>0.089096</td>\n",
              "      <td>0.101271</td>\n",
              "      <td>0.084996</td>\n",
              "      <td>0.088905</td>\n",
              "      <td>0.101317</td>\n",
              "      <td>0.085141</td>\n",
              "      <td>0.088717</td>\n",
              "      <td>0.101359</td>\n",
              "      <td>0.085289</td>\n",
              "      <td>0.088529</td>\n",
              "      <td>0.101397</td>\n",
              "      <td>0.085439</td>\n",
              "      <td>0.088342</td>\n",
              "      <td>0.101431</td>\n",
              "      <td>0.085592</td>\n",
              "      <td>0.088157</td>\n",
              "      <td>0.101461</td>\n",
              "      <td>0.085747</td>\n",
              "      <td>0.087974</td>\n",
              "      <td>0.101487</td>\n",
              "      <td>0.085905</td>\n",
              "      <td>0.087792</td>\n",
              "      <td>0.101509</td>\n",
              "      <td>0.086065</td>\n",
              "      <td>0.087611</td>\n",
              "      <td>0.101527</td>\n",
              "      <td>0.086228</td>\n",
              "      <td>0.087433</td>\n",
              "      <td>0.101541</td>\n",
              "      <td>...</td>\n",
              "      <td>0.082436</td>\n",
              "      <td>0.093680</td>\n",
              "      <td>0.099157</td>\n",
              "      <td>0.082500</td>\n",
              "      <td>0.093486</td>\n",
              "      <td>0.099286</td>\n",
              "      <td>0.082568</td>\n",
              "      <td>0.093290</td>\n",
              "      <td>0.099411</td>\n",
              "      <td>0.082640</td>\n",
              "      <td>0.093095</td>\n",
              "      <td>0.099533</td>\n",
              "      <td>0.082715</td>\n",
              "      <td>0.092898</td>\n",
              "      <td>0.099652</td>\n",
              "      <td>0.082794</td>\n",
              "      <td>0.092701</td>\n",
              "      <td>0.099768</td>\n",
              "      <td>0.082876</td>\n",
              "      <td>0.092504</td>\n",
              "      <td>0.099880</td>\n",
              "      <td>0.082962</td>\n",
              "      <td>0.092306</td>\n",
              "      <td>0.099989</td>\n",
              "      <td>0.083052</td>\n",
              "      <td>0.092108</td>\n",
              "      <td>0.100095</td>\n",
              "      <td>0.083146</td>\n",
              "      <td>0.091910</td>\n",
              "      <td>0.100198</td>\n",
              "      <td>0.083242</td>\n",
              "      <td>0.091712</td>\n",
              "      <td>0.100297</td>\n",
              "      <td>0.083343</td>\n",
              "      <td>0.091514</td>\n",
              "      <td>0.100392</td>\n",
              "      <td>0.083446</td>\n",
              "      <td>0.091316</td>\n",
              "      <td>0.100484</td>\n",
              "      <td>0.083553</td>\n",
              "      <td>0.091118</td>\n",
              "      <td>0.100572</td>\n",
              "      <td>0.083664</td>\n",
              "      <td>0.090921</td>\n",
              "      <td>0.100657</td>\n",
              "      <td>0.083778</td>\n",
              "      <td>0.090724</td>\n",
              "      <td>0.100738</td>\n",
              "      <td>0.083895</td>\n",
              "      <td>0.090527</td>\n",
              "    </tr>\n",
              "    <tr>\n",
              "      <th>1</th>\n",
              "      <td>-0.111816</td>\n",
              "      <td>-0.115425</td>\n",
              "      <td>-0.155707</td>\n",
              "      <td>-0.079578</td>\n",
              "      <td>-0.176353</td>\n",
              "      <td>-0.078254</td>\n",
              "      <td>-0.158090</td>\n",
              "      <td>-0.112459</td>\n",
              "      <td>-0.114774</td>\n",
              "      <td>-0.156237</td>\n",
              "      <td>-0.079275</td>\n",
              "      <td>-0.176369</td>\n",
              "      <td>-0.078530</td>\n",
              "      <td>-0.157579</td>\n",
              "      <td>-0.113103</td>\n",
              "      <td>-0.114125</td>\n",
              "      <td>-0.156761</td>\n",
              "      <td>-0.078980</td>\n",
              "      <td>-0.176376</td>\n",
              "      <td>-0.078813</td>\n",
              "      <td>-0.157063</td>\n",
              "      <td>-0.113750</td>\n",
              "      <td>-0.113477</td>\n",
              "      <td>-0.157281</td>\n",
              "      <td>-0.078692</td>\n",
              "      <td>-0.176374</td>\n",
              "      <td>-0.079103</td>\n",
              "      <td>-0.156541</td>\n",
              "      <td>-0.114398</td>\n",
              "      <td>-0.112832</td>\n",
              "      <td>-0.157795</td>\n",
              "      <td>-0.078413</td>\n",
              "      <td>-0.176363</td>\n",
              "      <td>-0.079402</td>\n",
              "      <td>-0.156014</td>\n",
              "      <td>-0.115048</td>\n",
              "      <td>-0.112188</td>\n",
              "      <td>-0.158303</td>\n",
              "      <td>-0.078141</td>\n",
              "      <td>-0.176344</td>\n",
              "      <td>-0.079708</td>\n",
              "      <td>-0.155482</td>\n",
              "      <td>-0.115700</td>\n",
              "      <td>-0.111547</td>\n",
              "      <td>-0.158806</td>\n",
              "      <td>-0.077877</td>\n",
              "      <td>-0.176317</td>\n",
              "      <td>-0.080022</td>\n",
              "      <td>-0.154945</td>\n",
              "      <td>-0.116353</td>\n",
              "      <td>...</td>\n",
              "      <td>-0.171221</td>\n",
              "      <td>-0.073774</td>\n",
              "      <td>-0.171288</td>\n",
              "      <td>-0.093178</td>\n",
              "      <td>-0.136289</td>\n",
              "      <td>-0.136785</td>\n",
              "      <td>-0.092780</td>\n",
              "      <td>-0.171507</td>\n",
              "      <td>-0.073778</td>\n",
              "      <td>-0.170996</td>\n",
              "      <td>-0.093700</td>\n",
              "      <td>-0.135640</td>\n",
              "      <td>-0.137430</td>\n",
              "      <td>-0.092267</td>\n",
              "      <td>-0.171785</td>\n",
              "      <td>-0.073790</td>\n",
              "      <td>-0.170696</td>\n",
              "      <td>-0.094228</td>\n",
              "      <td>-0.134989</td>\n",
              "      <td>-0.138073</td>\n",
              "      <td>-0.091760</td>\n",
              "      <td>-0.172056</td>\n",
              "      <td>-0.073810</td>\n",
              "      <td>-0.170389</td>\n",
              "      <td>-0.094761</td>\n",
              "      <td>-0.134337</td>\n",
              "      <td>-0.138714</td>\n",
              "      <td>-0.091258</td>\n",
              "      <td>-0.172318</td>\n",
              "      <td>-0.073839</td>\n",
              "      <td>-0.170074</td>\n",
              "      <td>-0.095299</td>\n",
              "      <td>-0.133684</td>\n",
              "      <td>-0.139353</td>\n",
              "      <td>-0.090761</td>\n",
              "      <td>-0.172573</td>\n",
              "      <td>-0.073877</td>\n",
              "      <td>-0.169751</td>\n",
              "      <td>-0.095842</td>\n",
              "      <td>-0.133029</td>\n",
              "      <td>-0.139989</td>\n",
              "      <td>-0.090271</td>\n",
              "      <td>-0.172820</td>\n",
              "      <td>-0.073923</td>\n",
              "      <td>-0.169421</td>\n",
              "      <td>-0.096390</td>\n",
              "      <td>-0.132372</td>\n",
              "      <td>-0.140623</td>\n",
              "      <td>-0.089786</td>\n",
              "      <td>-0.173059</td>\n",
              "    </tr>\n",
              "    <tr>\n",
              "      <th>2</th>\n",
              "      <td>-0.129826</td>\n",
              "      <td>-0.107974</td>\n",
              "      <td>-0.102031</td>\n",
              "      <td>-0.131281</td>\n",
              "      <td>-0.100812</td>\n",
              "      <td>-0.109491</td>\n",
              "      <td>-0.129156</td>\n",
              "      <td>-0.095998</td>\n",
              "      <td>-0.117609</td>\n",
              "      <td>-0.123865</td>\n",
              "      <td>-0.094466</td>\n",
              "      <td>-0.124807</td>\n",
              "      <td>-0.116437</td>\n",
              "      <td>-0.096515</td>\n",
              "      <td>-0.129684</td>\n",
              "      <td>-0.108316</td>\n",
              "      <td>-0.101747</td>\n",
              "      <td>-0.131292</td>\n",
              "      <td>-0.101082</td>\n",
              "      <td>-0.109143</td>\n",
              "      <td>-0.129319</td>\n",
              "      <td>-0.096143</td>\n",
              "      <td>-0.117266</td>\n",
              "      <td>-0.124147</td>\n",
              "      <td>-0.094458</td>\n",
              "      <td>-0.124535</td>\n",
              "      <td>-0.116783</td>\n",
              "      <td>-0.096356</td>\n",
              "      <td>-0.129536</td>\n",
              "      <td>-0.108660</td>\n",
              "      <td>-0.101467</td>\n",
              "      <td>-0.131297</td>\n",
              "      <td>-0.101356</td>\n",
              "      <td>-0.108797</td>\n",
              "      <td>-0.129475</td>\n",
              "      <td>-0.096294</td>\n",
              "      <td>-0.116921</td>\n",
              "      <td>-0.124425</td>\n",
              "      <td>-0.094457</td>\n",
              "      <td>-0.124258</td>\n",
              "      <td>-0.117128</td>\n",
              "      <td>-0.096202</td>\n",
              "      <td>-0.129382</td>\n",
              "      <td>-0.109005</td>\n",
              "      <td>-0.101191</td>\n",
              "      <td>-0.131295</td>\n",
              "      <td>-0.101635</td>\n",
              "      <td>-0.108453</td>\n",
              "      <td>-0.129626</td>\n",
              "      <td>-0.096451</td>\n",
              "      <td>...</td>\n",
              "      <td>-0.128227</td>\n",
              "      <td>-0.095353</td>\n",
              "      <td>-0.119341</td>\n",
              "      <td>-0.122354</td>\n",
              "      <td>-0.094615</td>\n",
              "      <td>-0.126132</td>\n",
              "      <td>-0.114638</td>\n",
              "      <td>-0.097429</td>\n",
              "      <td>-0.130345</td>\n",
              "      <td>-0.106579</td>\n",
              "      <td>-0.103248</td>\n",
              "      <td>-0.131161</td>\n",
              "      <td>-0.099745</td>\n",
              "      <td>-0.110940</td>\n",
              "      <td>-0.128420</td>\n",
              "      <td>-0.095465</td>\n",
              "      <td>-0.119008</td>\n",
              "      <td>-0.122656</td>\n",
              "      <td>-0.094572</td>\n",
              "      <td>-0.125884</td>\n",
              "      <td>-0.114990</td>\n",
              "      <td>-0.097239</td>\n",
              "      <td>-0.130230</td>\n",
              "      <td>-0.106913</td>\n",
              "      <td>-0.102948</td>\n",
              "      <td>-0.131200</td>\n",
              "      <td>-0.099995</td>\n",
              "      <td>-0.110588</td>\n",
              "      <td>-0.128607</td>\n",
              "      <td>-0.095584</td>\n",
              "      <td>-0.118673</td>\n",
              "      <td>-0.122954</td>\n",
              "      <td>-0.094536</td>\n",
              "      <td>-0.125631</td>\n",
              "      <td>-0.115341</td>\n",
              "      <td>-0.097055</td>\n",
              "      <td>-0.130108</td>\n",
              "      <td>-0.107249</td>\n",
              "      <td>-0.102652</td>\n",
              "      <td>-0.131233</td>\n",
              "      <td>-0.100251</td>\n",
              "      <td>-0.110237</td>\n",
              "      <td>-0.128788</td>\n",
              "      <td>-0.095709</td>\n",
              "      <td>-0.118336</td>\n",
              "      <td>-0.123248</td>\n",
              "      <td>-0.094506</td>\n",
              "      <td>-0.125373</td>\n",
              "      <td>-0.115691</td>\n",
              "      <td>-0.096877</td>\n",
              "    </tr>\n",
              "    <tr>\n",
              "      <th>3</th>\n",
              "      <td>0.000682</td>\n",
              "      <td>0.058993</td>\n",
              "      <td>-0.002032</td>\n",
              "      <td>-0.041219</td>\n",
              "      <td>0.032086</td>\n",
              "      <td>0.048301</td>\n",
              "      <td>-0.030085</td>\n",
              "      <td>-0.021736</td>\n",
              "      <td>0.054034</td>\n",
              "      <td>0.021941</td>\n",
              "      <td>-0.043772</td>\n",
              "      <td>0.008913</td>\n",
              "      <td>0.058116</td>\n",
              "      <td>-0.009988</td>\n",
              "      <td>-0.037849</td>\n",
              "      <td>0.038986</td>\n",
              "      <td>0.042769</td>\n",
              "      <td>-0.035252</td>\n",
              "      <td>-0.014585</td>\n",
              "      <td>0.056959</td>\n",
              "      <td>0.013873</td>\n",
              "      <td>-0.044170</td>\n",
              "      <td>0.017106</td>\n",
              "      <td>0.055946</td>\n",
              "      <td>-0.017501</td>\n",
              "      <td>-0.033325</td>\n",
              "      <td>0.045081</td>\n",
              "      <td>0.036335</td>\n",
              "      <td>-0.039330</td>\n",
              "      <td>-0.006873</td>\n",
              "      <td>0.058621</td>\n",
              "      <td>0.005640</td>\n",
              "      <td>-0.043251</td>\n",
              "      <td>0.025051</td>\n",
              "      <td>0.052538</td>\n",
              "      <td>-0.024378</td>\n",
              "      <td>-0.027762</td>\n",
              "      <td>0.050215</td>\n",
              "      <td>0.029163</td>\n",
              "      <td>-0.042216</td>\n",
              "      <td>0.001204</td>\n",
              "      <td>0.058976</td>\n",
              "      <td>-0.002548</td>\n",
              "      <td>-0.041041</td>\n",
              "      <td>0.032546</td>\n",
              "      <td>0.047979</td>\n",
              "      <td>-0.030444</td>\n",
              "      <td>-0.021301</td>\n",
              "      <td>0.054257</td>\n",
              "      <td>0.021436</td>\n",
              "      <td>...</td>\n",
              "      <td>-0.043974</td>\n",
              "      <td>0.020182</td>\n",
              "      <td>0.054786</td>\n",
              "      <td>-0.020213</td>\n",
              "      <td>-0.031315</td>\n",
              "      <td>0.047163</td>\n",
              "      <td>0.033672</td>\n",
              "      <td>-0.040578</td>\n",
              "      <td>-0.003819</td>\n",
              "      <td>0.058912</td>\n",
              "      <td>0.002495</td>\n",
              "      <td>-0.042557</td>\n",
              "      <td>0.027978</td>\n",
              "      <td>0.050926</td>\n",
              "      <td>-0.026800</td>\n",
              "      <td>-0.025391</td>\n",
              "      <td>0.051894</td>\n",
              "      <td>0.026266</td>\n",
              "      <td>-0.042988</td>\n",
              "      <td>0.004342</td>\n",
              "      <td>0.058764</td>\n",
              "      <td>-0.005620</td>\n",
              "      <td>-0.039866</td>\n",
              "      <td>0.035250</td>\n",
              "      <td>0.045957</td>\n",
              "      <td>-0.032515</td>\n",
              "      <td>-0.018630</td>\n",
              "      <td>0.055490</td>\n",
              "      <td>0.018378</td>\n",
              "      <td>-0.044112</td>\n",
              "      <td>0.012582</td>\n",
              "      <td>0.057306</td>\n",
              "      <td>-0.013403</td>\n",
              "      <td>-0.035969</td>\n",
              "      <td>0.041812</td>\n",
              "      <td>0.040003</td>\n",
              "      <td>-0.037211</td>\n",
              "      <td>-0.011206</td>\n",
              "      <td>0.057859</td>\n",
              "      <td>0.010211</td>\n",
              "      <td>-0.043922</td>\n",
              "      <td>0.020690</td>\n",
              "      <td>0.054576</td>\n",
              "      <td>-0.020655</td>\n",
              "      <td>-0.030966</td>\n",
              "      <td>0.047496</td>\n",
              "      <td>0.033219</td>\n",
              "      <td>-0.040769</td>\n",
              "      <td>-0.003306</td>\n",
              "      <td>0.058942</td>\n",
              "    </tr>\n",
              "    <tr>\n",
              "      <th>4</th>\n",
              "      <td>-0.005488</td>\n",
              "      <td>-0.000325</td>\n",
              "      <td>0.007077</td>\n",
              "      <td>0.012682</td>\n",
              "      <td>0.013434</td>\n",
              "      <td>0.008923</td>\n",
              "      <td>0.001608</td>\n",
              "      <td>-0.004522</td>\n",
              "      <td>-0.006125</td>\n",
              "      <td>-0.002327</td>\n",
              "      <td>0.004801</td>\n",
              "      <td>0.011373</td>\n",
              "      <td>0.013805</td>\n",
              "      <td>0.010772</td>\n",
              "      <td>0.003927</td>\n",
              "      <td>-0.002998</td>\n",
              "      <td>-0.006226</td>\n",
              "      <td>-0.003999</td>\n",
              "      <td>0.002471</td>\n",
              "      <td>0.009655</td>\n",
              "      <td>0.013636</td>\n",
              "      <td>0.012244</td>\n",
              "      <td>0.006238</td>\n",
              "      <td>-0.001108</td>\n",
              "      <td>-0.005788</td>\n",
              "      <td>-0.005251</td>\n",
              "      <td>0.000211</td>\n",
              "      <td>0.007619</td>\n",
              "      <td>0.012935</td>\n",
              "      <td>0.013259</td>\n",
              "      <td>0.008416</td>\n",
              "      <td>0.001045</td>\n",
              "      <td>-0.004834</td>\n",
              "      <td>-0.006016</td>\n",
              "      <td>-0.001856</td>\n",
              "      <td>0.005377</td>\n",
              "      <td>0.011740</td>\n",
              "      <td>0.013763</td>\n",
              "      <td>0.010344</td>\n",
              "      <td>0.003347</td>\n",
              "      <td>-0.003414</td>\n",
              "      <td>-0.006252</td>\n",
              "      <td>-0.003619</td>\n",
              "      <td>0.003048</td>\n",
              "      <td>0.010115</td>\n",
              "      <td>0.013729</td>\n",
              "      <td>0.011918</td>\n",
              "      <td>0.005671</td>\n",
              "      <td>-0.001607</td>\n",
              "      <td>-0.005947</td>\n",
              "      <td>...</td>\n",
              "      <td>0.013725</td>\n",
              "      <td>0.011934</td>\n",
              "      <td>0.005698</td>\n",
              "      <td>-0.001583</td>\n",
              "      <td>-0.005940</td>\n",
              "      <td>-0.004996</td>\n",
              "      <td>0.000733</td>\n",
              "      <td>0.008124</td>\n",
              "      <td>0.013147</td>\n",
              "      <td>0.013063</td>\n",
              "      <td>0.007919</td>\n",
              "      <td>0.000518</td>\n",
              "      <td>-0.005104</td>\n",
              "      <td>-0.005881</td>\n",
              "      <td>-0.001390</td>\n",
              "      <td>0.005920</td>\n",
              "      <td>0.012064</td>\n",
              "      <td>0.013692</td>\n",
              "      <td>0.009916</td>\n",
              "      <td>0.002795</td>\n",
              "      <td>-0.003789</td>\n",
              "      <td>-0.006245</td>\n",
              "      <td>-0.003235</td>\n",
              "      <td>0.003601</td>\n",
              "      <td>0.010534</td>\n",
              "      <td>0.013786</td>\n",
              "      <td>0.011582</td>\n",
              "      <td>0.005125</td>\n",
              "      <td>-0.002065</td>\n",
              "      <td>-0.006067</td>\n",
              "      <td>-0.004700</td>\n",
              "      <td>0.001291</td>\n",
              "      <td>0.008640</td>\n",
              "      <td>0.013340</td>\n",
              "      <td>0.012828</td>\n",
              "      <td>0.007383</td>\n",
              "      <td>-0.000026</td>\n",
              "      <td>-0.005359</td>\n",
              "      <td>-0.005708</td>\n",
              "      <td>-0.000884</td>\n",
              "      <td>0.006484</td>\n",
              "      <td>0.012378</td>\n",
              "      <td>0.013585</td>\n",
              "      <td>0.009446</td>\n",
              "      <td>0.002219</td>\n",
              "      <td>-0.004157</td>\n",
              "      <td>-0.006205</td>\n",
              "      <td>-0.002808</td>\n",
              "      <td>0.004181</td>\n",
              "      <td>0.010952</td>\n",
              "    </tr>\n",
              "  </tbody>\n",
              "</table>\n",
              "<p>5 rows × 311 columns</p>\n",
              "</div>"
            ],
            "text/plain": [
              "        0         1         2         3         4         5         6    \\\n",
              "0  0.090452  0.100844  0.084061  0.090256  0.100917  0.084186  0.090061   \n",
              "1 -0.111816 -0.115425 -0.155707 -0.079578 -0.176353 -0.078254 -0.158090   \n",
              "2 -0.129826 -0.107974 -0.102031 -0.131281 -0.100812 -0.109491 -0.129156   \n",
              "3  0.000682  0.058993 -0.002032 -0.041219  0.032086  0.048301 -0.030085   \n",
              "4 -0.005488 -0.000325  0.007077  0.012682  0.013434  0.008923  0.001608   \n",
              "\n",
              "        7         8         9         10        11        12        13   \\\n",
              "0  0.100985  0.084313  0.089866  0.101050  0.084444  0.089672  0.101111   \n",
              "1 -0.112459 -0.114774 -0.156237 -0.079275 -0.176369 -0.078530 -0.157579   \n",
              "2 -0.095998 -0.117609 -0.123865 -0.094466 -0.124807 -0.116437 -0.096515   \n",
              "3 -0.021736  0.054034  0.021941 -0.043772  0.008913  0.058116 -0.009988   \n",
              "4 -0.004522 -0.006125 -0.002327  0.004801  0.011373  0.013805  0.010772   \n",
              "\n",
              "        14        15        16        17        18        19        20   \\\n",
              "0  0.084578  0.089479  0.101168  0.084714  0.089287  0.101222  0.084854   \n",
              "1 -0.113103 -0.114125 -0.156761 -0.078980 -0.176376 -0.078813 -0.157063   \n",
              "2 -0.129684 -0.108316 -0.101747 -0.131292 -0.101082 -0.109143 -0.129319   \n",
              "3 -0.037849  0.038986  0.042769 -0.035252 -0.014585  0.056959  0.013873   \n",
              "4  0.003927 -0.002998 -0.006226 -0.003999  0.002471  0.009655  0.013636   \n",
              "\n",
              "        21        22        23        24        25        26        27   \\\n",
              "0  0.089096  0.101271  0.084996  0.088905  0.101317  0.085141  0.088717   \n",
              "1 -0.113750 -0.113477 -0.157281 -0.078692 -0.176374 -0.079103 -0.156541   \n",
              "2 -0.096143 -0.117266 -0.124147 -0.094458 -0.124535 -0.116783 -0.096356   \n",
              "3 -0.044170  0.017106  0.055946 -0.017501 -0.033325  0.045081  0.036335   \n",
              "4  0.012244  0.006238 -0.001108 -0.005788 -0.005251  0.000211  0.007619   \n",
              "\n",
              "        28        29        30        31        32        33        34   \\\n",
              "0  0.101359  0.085289  0.088529  0.101397  0.085439  0.088342  0.101431   \n",
              "1 -0.114398 -0.112832 -0.157795 -0.078413 -0.176363 -0.079402 -0.156014   \n",
              "2 -0.129536 -0.108660 -0.101467 -0.131297 -0.101356 -0.108797 -0.129475   \n",
              "3 -0.039330 -0.006873  0.058621  0.005640 -0.043251  0.025051  0.052538   \n",
              "4  0.012935  0.013259  0.008416  0.001045 -0.004834 -0.006016 -0.001856   \n",
              "\n",
              "        35        36        37        38        39        40        41   \\\n",
              "0  0.085592  0.088157  0.101461  0.085747  0.087974  0.101487  0.085905   \n",
              "1 -0.115048 -0.112188 -0.158303 -0.078141 -0.176344 -0.079708 -0.155482   \n",
              "2 -0.096294 -0.116921 -0.124425 -0.094457 -0.124258 -0.117128 -0.096202   \n",
              "3 -0.024378 -0.027762  0.050215  0.029163 -0.042216  0.001204  0.058976   \n",
              "4  0.005377  0.011740  0.013763  0.010344  0.003347 -0.003414 -0.006252   \n",
              "\n",
              "        42        43        44        45        46        47        48   \\\n",
              "0  0.087792  0.101509  0.086065  0.087611  0.101527  0.086228  0.087433   \n",
              "1 -0.115700 -0.111547 -0.158806 -0.077877 -0.176317 -0.080022 -0.154945   \n",
              "2 -0.129382 -0.109005 -0.101191 -0.131295 -0.101635 -0.108453 -0.129626   \n",
              "3 -0.002548 -0.041041  0.032546  0.047979 -0.030444 -0.021301  0.054257   \n",
              "4 -0.003619  0.003048  0.010115  0.013729  0.011918  0.005671 -0.001607   \n",
              "\n",
              "        49   ...       261       262       263       264       265       266  \\\n",
              "0  0.101541  ...  0.082436  0.093680  0.099157  0.082500  0.093486  0.099286   \n",
              "1 -0.116353  ... -0.171221 -0.073774 -0.171288 -0.093178 -0.136289 -0.136785   \n",
              "2 -0.096451  ... -0.128227 -0.095353 -0.119341 -0.122354 -0.094615 -0.126132   \n",
              "3  0.021436  ... -0.043974  0.020182  0.054786 -0.020213 -0.031315  0.047163   \n",
              "4 -0.005947  ...  0.013725  0.011934  0.005698 -0.001583 -0.005940 -0.004996   \n",
              "\n",
              "        267       268       269       270       271       272       273  \\\n",
              "0  0.082568  0.093290  0.099411  0.082640  0.093095  0.099533  0.082715   \n",
              "1 -0.092780 -0.171507 -0.073778 -0.170996 -0.093700 -0.135640 -0.137430   \n",
              "2 -0.114638 -0.097429 -0.130345 -0.106579 -0.103248 -0.131161 -0.099745   \n",
              "3  0.033672 -0.040578 -0.003819  0.058912  0.002495 -0.042557  0.027978   \n",
              "4  0.000733  0.008124  0.013147  0.013063  0.007919  0.000518 -0.005104   \n",
              "\n",
              "        274       275       276       277       278       279       280  \\\n",
              "0  0.092898  0.099652  0.082794  0.092701  0.099768  0.082876  0.092504   \n",
              "1 -0.092267 -0.171785 -0.073790 -0.170696 -0.094228 -0.134989 -0.138073   \n",
              "2 -0.110940 -0.128420 -0.095465 -0.119008 -0.122656 -0.094572 -0.125884   \n",
              "3  0.050926 -0.026800 -0.025391  0.051894  0.026266 -0.042988  0.004342   \n",
              "4 -0.005881 -0.001390  0.005920  0.012064  0.013692  0.009916  0.002795   \n",
              "\n",
              "        281       282       283       284       285       286       287  \\\n",
              "0  0.099880  0.082962  0.092306  0.099989  0.083052  0.092108  0.100095   \n",
              "1 -0.091760 -0.172056 -0.073810 -0.170389 -0.094761 -0.134337 -0.138714   \n",
              "2 -0.114990 -0.097239 -0.130230 -0.106913 -0.102948 -0.131200 -0.099995   \n",
              "3  0.058764 -0.005620 -0.039866  0.035250  0.045957 -0.032515 -0.018630   \n",
              "4 -0.003789 -0.006245 -0.003235  0.003601  0.010534  0.013786  0.011582   \n",
              "\n",
              "        288       289       290       291       292       293       294  \\\n",
              "0  0.083146  0.091910  0.100198  0.083242  0.091712  0.100297  0.083343   \n",
              "1 -0.091258 -0.172318 -0.073839 -0.170074 -0.095299 -0.133684 -0.139353   \n",
              "2 -0.110588 -0.128607 -0.095584 -0.118673 -0.122954 -0.094536 -0.125631   \n",
              "3  0.055490  0.018378 -0.044112  0.012582  0.057306 -0.013403 -0.035969   \n",
              "4  0.005125 -0.002065 -0.006067 -0.004700  0.001291  0.008640  0.013340   \n",
              "\n",
              "        295       296       297       298       299       300       301  \\\n",
              "0  0.091514  0.100392  0.083446  0.091316  0.100484  0.083553  0.091118   \n",
              "1 -0.090761 -0.172573 -0.073877 -0.169751 -0.095842 -0.133029 -0.139989   \n",
              "2 -0.115341 -0.097055 -0.130108 -0.107249 -0.102652 -0.131233 -0.100251   \n",
              "3  0.041812  0.040003 -0.037211 -0.011206  0.057859  0.010211 -0.043922   \n",
              "4  0.012828  0.007383 -0.000026 -0.005359 -0.005708 -0.000884  0.006484   \n",
              "\n",
              "        302       303       304       305       306       307       308  \\\n",
              "0  0.100572  0.083664  0.090921  0.100657  0.083778  0.090724  0.100738   \n",
              "1 -0.090271 -0.172820 -0.073923 -0.169421 -0.096390 -0.132372 -0.140623   \n",
              "2 -0.110237 -0.128788 -0.095709 -0.118336 -0.123248 -0.094506 -0.125373   \n",
              "3  0.020690  0.054576 -0.020655 -0.030966  0.047496  0.033219 -0.040769   \n",
              "4  0.012378  0.013585  0.009446  0.002219 -0.004157 -0.006205 -0.002808   \n",
              "\n",
              "        309       310  \n",
              "0  0.083895  0.090527  \n",
              "1 -0.089786 -0.173059  \n",
              "2 -0.115691 -0.096877  \n",
              "3 -0.003306  0.058942  \n",
              "4  0.004181  0.010952  \n",
              "\n",
              "[5 rows x 311 columns]"
            ]
          },
          "metadata": {
            "tags": []
          },
          "execution_count": 9
        }
      ]
    },
    {
      "cell_type": "code",
      "metadata": {
        "id": "_eqjq1q-Iszy",
        "colab_type": "code",
        "colab": {
          "base_uri": "https://localhost:8080/",
          "height": 33
        },
        "outputId": "badb9b2a-b734-4f9b-bafc-a5d427db65dd"
      },
      "source": [
        "X = np.array(Xy[:, :310], dtype=np.float32)\n",
        "y = np.array(Xy[:, 310], dtype=np.float32)\n",
        "X.shape, y.shape"
      ],
      "execution_count": 18,
      "outputs": [
        {
          "output_type": "execute_result",
          "data": {
            "text/plain": [
              "((5000, 310), (5000,))"
            ]
          },
          "metadata": {
            "tags": []
          },
          "execution_count": 18
        }
      ]
    },
    {
      "cell_type": "markdown",
      "metadata": {
        "id": "cDr8A0L0WIkl",
        "colab_type": "text"
      },
      "source": [
        "#### Transform the numpy array into TF Dataset "
      ]
    },
    {
      "cell_type": "code",
      "metadata": {
        "id": "jz9nxtroWH2g",
        "colab_type": "code",
        "colab": {
          "base_uri": "https://localhost:8080/",
          "height": 33
        },
        "outputId": "a8d381b9-5ae1-4ab6-8161-ee0fb66917ee"
      },
      "source": [
        "tf.data.Dataset.from_tensor_slices((X, y))"
      ],
      "execution_count": 14,
      "outputs": [
        {
          "output_type": "execute_result",
          "data": {
            "text/plain": [
              "<TensorSliceDataset shapes: ((310,), ()), types: (tf.float32, tf.float32)>"
            ]
          },
          "metadata": {
            "tags": []
          },
          "execution_count": 14
        }
      ]
    },
    {
      "cell_type": "code",
      "metadata": {
        "id": "lTwf_JVSWjqo",
        "colab_type": "code",
        "colab": {}
      },
      "source": [
        "Xy_dataset = tf.data.Dataset.from_tensor_slices((X, y))"
      ],
      "execution_count": 15,
      "outputs": []
    },
    {
      "cell_type": "code",
      "metadata": {
        "id": "QBIxZkm2Wjj0",
        "colab_type": "code",
        "colab": {
          "base_uri": "https://localhost:8080/",
          "height": 895
        },
        "outputId": "1d2da60a-8271-4400-cf83-ee58489e65d2"
      },
      "source": [
        "for a,b in Xy_dataset.take(1):\n",
        "  print(a)\n",
        "  print(b)"
      ],
      "execution_count": 16,
      "outputs": [
        {
          "output_type": "stream",
          "text": [
            "tf.Tensor(\n",
            "[0.0904524  0.10084422 0.08406127 0.09025635 0.10091659 0.0841858\n",
            " 0.0900609  0.10098522 0.08431341 0.08986615 0.10105009 0.08444406\n",
            " 0.08967216 0.10111116 0.08457769 0.08947902 0.10116841 0.08471423\n",
            " 0.08928681 0.10122183 0.08485366 0.08909561 0.10127138 0.08499589\n",
            " 0.08890548 0.10131705 0.08514088 0.08871651 0.10135882 0.08528856\n",
            " 0.08852879 0.10139667 0.08543888 0.08834238 0.10143059 0.08559177\n",
            " 0.08815736 0.10146056 0.08574717 0.0879738  0.10148657 0.08590502\n",
            " 0.08779178 0.10150861 0.08606526 0.08761137 0.10152667 0.08622781\n",
            " 0.08743266 0.10154074 0.08639262 0.0872557  0.10155082 0.08655961\n",
            " 0.08708058 0.10155691 0.08672871 0.08690736 0.101559   0.08689988\n",
            " 0.08673612 0.10155708 0.08707301 0.08656693 0.10155118 0.08724805\n",
            " 0.08639984 0.10154127 0.08742493 0.08623493 0.10152736 0.08760356\n",
            " 0.08607228 0.10150947 0.0877839  0.08591194 0.10148761 0.08796585\n",
            " 0.08575399 0.10146178 0.08814934 0.08559848 0.10143197 0.0883343\n",
            " 0.08544548 0.10139823 0.08852065 0.08529504 0.10136054 0.08870833\n",
            " 0.08514725 0.10131895 0.08889724 0.08500214 0.10127345 0.08908731\n",
            " 0.08485979 0.10122406 0.08927847 0.08472024 0.10117082 0.08947065\n",
            " 0.08458357 0.10111373 0.08966374 0.08444981 0.10105282 0.0898577\n",
            " 0.08431903 0.10098812 0.09005242 0.08419129 0.10091965 0.09024783\n",
            " 0.08406662 0.10084745 0.09044386 0.08394509 0.10077152 0.09064042\n",
            " 0.08382674 0.10069193 0.09083743 0.08371162 0.10060869 0.09103481\n",
            " 0.08359978 0.10052184 0.09123249 0.08349127 0.10043141 0.09143038\n",
            " 0.08338612 0.10033744 0.0916284  0.08328439 0.10023996 0.09182647\n",
            " 0.0831861  0.10013903 0.09202451 0.08309132 0.10003468 0.09222244\n",
            " 0.08300006 0.09992695 0.09242017 0.08291236 0.09981588 0.09261763\n",
            " 0.08282828 0.09970152 0.09281474 0.08274782 0.09958392 0.09301141\n",
            " 0.08267105 0.09946314 0.09320757 0.08259797 0.09933919 0.09340314\n",
            " 0.08252863 0.09921216 0.09359802 0.08246305 0.09908209 0.09379216\n",
            " 0.08240125 0.09894902 0.09398547 0.08234327 0.09881302 0.09417786\n",
            " 0.08228912 0.09867414 0.09436927 0.08223884 0.09853244 0.0945596\n",
            " 0.08219243 0.09838797 0.0947488  0.08214992 0.09824079 0.09493676\n",
            " 0.08211132 0.09809098 0.09512343 0.08207665 0.09793857 0.09530872\n",
            " 0.08204594 0.09778363 0.09549256 0.08201917 0.09762625 0.09567488\n",
            " 0.08199637 0.09746645 0.09585559 0.08197756 0.09730434 0.09603464\n",
            " 0.08196273 0.09713995 0.09621193 0.08195189 0.09697337 0.09638741\n",
            " 0.08194504 0.09680466 0.09656099 0.08194219 0.09663389 0.09673262\n",
            " 0.08194335 0.09646112 0.09690221 0.0819485  0.09628645 0.0970697\n",
            " 0.08195765 0.09610991 0.09723502 0.08197079 0.0959316  0.09739811\n",
            " 0.08198792 0.09575158 0.09755889 0.08200903 0.09556994 0.0977173\n",
            " 0.08203412 0.09538673 0.09787329 0.08206317 0.09520204 0.09802677\n",
            " 0.08209617 0.09501594 0.09817769 0.0821331  0.09482852 0.098326\n",
            " 0.08217396 0.09463984 0.09847162 0.08221871 0.09444997 0.0986145\n",
            " 0.08226737 0.09425902 0.09875458 0.08231988 0.09406703 0.0988918\n",
            " 0.08237624 0.0938741  0.09902612 0.08243643 0.09368031 0.09915747\n",
            " 0.08250041 0.09348573 0.0992858  0.08256816 0.09329043 0.09941105\n",
            " 0.08263966 0.09309452 0.09953318 0.08271488 0.09289806 0.09965213\n",
            " 0.08279377 0.09270112 0.09976786 0.08287632 0.0925038  0.09988033\n",
            " 0.0829625  0.09230617 0.09998948 0.08305225 0.09210832 0.10009527\n",
            " 0.08314555 0.09191032 0.10019766 0.08324236 0.09171225 0.1002966\n",
            " 0.08334264 0.0915142  0.10039206 0.08344635 0.09131625 0.10048399\n",
            " 0.08355344 0.09111847 0.10057236 0.08366388 0.09092095 0.10065714\n",
            " 0.08377761 0.09072377 0.10073828 0.0838946 ], shape=(310,), dtype=float32)\n",
            "tf.Tensor(0.090527005, shape=(), dtype=float32)\n"
          ],
          "name": "stdout"
        }
      ]
    },
    {
      "cell_type": "code",
      "metadata": {
        "id": "lL7bT5wBYejt",
        "colab_type": "code",
        "colab": {}
      },
      "source": [
        "def _float_feature(value):\n",
        "  \"\"\"Returns a float_list from a float / double.\"\"\"\n",
        "  return tf.train.Feature(float_list=tf.train.FloatList(value=[value]))"
      ],
      "execution_count": 21,
      "outputs": []
    },
    {
      "cell_type": "code",
      "metadata": {
        "id": "zLJrn_X4YK4l",
        "colab_type": "code",
        "colab": {}
      },
      "source": [
        "def serialize_example(x,y):\n",
        "  \"\"\"\n",
        "  Creates a tf.train.Example message ready to be written to a file.\n",
        "  \"\"\"\n",
        "  # Create a dictionary mapping the feature name to the tf.train.Example-compatible\n",
        "  # data type.\n",
        "  feature = {\n",
        "      'x': _float_feature(x),\n",
        "      'y': _float_feature(y)\n",
        "  }\n",
        "\n",
        "  # Create a Features message using tf.train.Example.\n",
        "\n",
        "  example_proto = tf.train.Example(features=tf.train.Features(feature=feature))\n",
        "  return example_proto.SerializeToString()"
      ],
      "execution_count": 22,
      "outputs": []
    },
    {
      "cell_type": "code",
      "metadata": {
        "id": "HJx0awW-XITv",
        "colab_type": "code",
        "colab": {}
      },
      "source": [
        "def tf_serialize_example(x,y):\n",
        "  tf_string = tf.py_function(\n",
        "    serialize_example,\n",
        "    (x,y),  # pass these args to the above function.\n",
        "    tf.string)      # the return type is `tf.string`.\n",
        "    \n",
        "  return tf.reshape(tf_string, ()) # The result is a scalar"
      ],
      "execution_count": 23,
      "outputs": []
    },
    {
      "cell_type": "code",
      "metadata": {
        "id": "hMGz_9nvX20Q",
        "colab_type": "code",
        "colab": {
          "base_uri": "https://localhost:8080/",
          "height": 572
        },
        "outputId": "c0f08508-d101-45d2-afcb-45394b6afab7"
      },
      "source": [
        "tf_serialize_example(a,b)"
      ],
      "execution_count": 24,
      "outputs": [
        {
          "output_type": "error",
          "ename": "InvalidArgumentError",
          "evalue": "ignored",
          "traceback": [
            "\u001b[0;31m---------------------------------------------------------------------------\u001b[0m",
            "\u001b[0;31mInvalidArgumentError\u001b[0m                      Traceback (most recent call last)",
            "\u001b[0;32m<ipython-input-24-a10e493113ad>\u001b[0m in \u001b[0;36m<module>\u001b[0;34m()\u001b[0m\n\u001b[0;32m----> 1\u001b[0;31m \u001b[0mtf_serialize_example\u001b[0m\u001b[0;34m(\u001b[0m\u001b[0ma\u001b[0m\u001b[0;34m,\u001b[0m\u001b[0mb\u001b[0m\u001b[0;34m)\u001b[0m\u001b[0;34m\u001b[0m\u001b[0;34m\u001b[0m\u001b[0m\n\u001b[0m",
            "\u001b[0;32m<ipython-input-23-4c19651e307d>\u001b[0m in \u001b[0;36mtf_serialize_example\u001b[0;34m(x, y)\u001b[0m\n\u001b[1;32m      3\u001b[0m     \u001b[0mserialize_example\u001b[0m\u001b[0;34m,\u001b[0m\u001b[0;34m\u001b[0m\u001b[0;34m\u001b[0m\u001b[0m\n\u001b[1;32m      4\u001b[0m     \u001b[0;34m(\u001b[0m\u001b[0mx\u001b[0m\u001b[0;34m,\u001b[0m\u001b[0my\u001b[0m\u001b[0;34m)\u001b[0m\u001b[0;34m,\u001b[0m  \u001b[0;31m# pass these args to the above function.\u001b[0m\u001b[0;34m\u001b[0m\u001b[0;34m\u001b[0m\u001b[0m\n\u001b[0;32m----> 5\u001b[0;31m     tf.string)      # the return type is `tf.string`.\n\u001b[0m\u001b[1;32m      6\u001b[0m \u001b[0;34m\u001b[0m\u001b[0m\n\u001b[1;32m      7\u001b[0m   \u001b[0;32mreturn\u001b[0m \u001b[0mtf\u001b[0m\u001b[0;34m.\u001b[0m\u001b[0mreshape\u001b[0m\u001b[0;34m(\u001b[0m\u001b[0mtf_string\u001b[0m\u001b[0;34m,\u001b[0m \u001b[0;34m(\u001b[0m\u001b[0;34m)\u001b[0m\u001b[0;34m)\u001b[0m \u001b[0;31m# The result is a scalar\u001b[0m\u001b[0;34m\u001b[0m\u001b[0;34m\u001b[0m\u001b[0m\n",
            "\u001b[0;32m/usr/local/lib/python3.6/dist-packages/tensorflow/python/util/dispatch.py\u001b[0m in \u001b[0;36mwrapper\u001b[0;34m(*args, **kwargs)\u001b[0m\n\u001b[1;32m    199\u001b[0m     \u001b[0;34m\"\"\"Call target, and fall back on dispatchers if there is a TypeError.\"\"\"\u001b[0m\u001b[0;34m\u001b[0m\u001b[0;34m\u001b[0m\u001b[0m\n\u001b[1;32m    200\u001b[0m     \u001b[0;32mtry\u001b[0m\u001b[0;34m:\u001b[0m\u001b[0;34m\u001b[0m\u001b[0;34m\u001b[0m\u001b[0m\n\u001b[0;32m--> 201\u001b[0;31m       \u001b[0;32mreturn\u001b[0m \u001b[0mtarget\u001b[0m\u001b[0;34m(\u001b[0m\u001b[0;34m*\u001b[0m\u001b[0margs\u001b[0m\u001b[0;34m,\u001b[0m \u001b[0;34m**\u001b[0m\u001b[0mkwargs\u001b[0m\u001b[0;34m)\u001b[0m\u001b[0;34m\u001b[0m\u001b[0;34m\u001b[0m\u001b[0m\n\u001b[0m\u001b[1;32m    202\u001b[0m     \u001b[0;32mexcept\u001b[0m \u001b[0;34m(\u001b[0m\u001b[0mTypeError\u001b[0m\u001b[0;34m,\u001b[0m \u001b[0mValueError\u001b[0m\u001b[0;34m)\u001b[0m\u001b[0;34m:\u001b[0m\u001b[0;34m\u001b[0m\u001b[0;34m\u001b[0m\u001b[0m\n\u001b[1;32m    203\u001b[0m       \u001b[0;31m# Note: convert_to_eager_tensor currently raises a ValueError, not a\u001b[0m\u001b[0;34m\u001b[0m\u001b[0;34m\u001b[0m\u001b[0;34m\u001b[0m\u001b[0m\n",
            "\u001b[0;32m/usr/local/lib/python3.6/dist-packages/tensorflow/python/ops/script_ops.py\u001b[0m in \u001b[0;36meager_py_func\u001b[0;34m(func, inp, Tout, name)\u001b[0m\n\u001b[1;32m    455\u001b[0m     \u001b[0;32mwith\u001b[0m \u001b[0mops\u001b[0m\u001b[0;34m.\u001b[0m\u001b[0mdevice\u001b[0m\u001b[0;34m(\u001b[0m\u001b[0mcontext\u001b[0m\u001b[0;34m.\u001b[0m\u001b[0mcontext\u001b[0m\u001b[0;34m(\u001b[0m\u001b[0;34m)\u001b[0m\u001b[0;34m.\u001b[0m\u001b[0mhost_address_space\u001b[0m\u001b[0;34m(\u001b[0m\u001b[0;34m)\u001b[0m\u001b[0;34m)\u001b[0m\u001b[0;34m:\u001b[0m\u001b[0;34m\u001b[0m\u001b[0;34m\u001b[0m\u001b[0m\n\u001b[1;32m    456\u001b[0m       return _internal_py_func(\n\u001b[0;32m--> 457\u001b[0;31m           func=func, inp=inp, Tout=Tout, eager=True, name=name)\n\u001b[0m\u001b[1;32m    458\u001b[0m \u001b[0;34m\u001b[0m\u001b[0m\n\u001b[1;32m    459\u001b[0m   \u001b[0;32mreturn\u001b[0m \u001b[0m_internal_py_func\u001b[0m\u001b[0;34m(\u001b[0m\u001b[0mfunc\u001b[0m\u001b[0;34m=\u001b[0m\u001b[0mfunc\u001b[0m\u001b[0;34m,\u001b[0m \u001b[0minp\u001b[0m\u001b[0;34m=\u001b[0m\u001b[0minp\u001b[0m\u001b[0;34m,\u001b[0m \u001b[0mTout\u001b[0m\u001b[0;34m=\u001b[0m\u001b[0mTout\u001b[0m\u001b[0;34m,\u001b[0m \u001b[0meager\u001b[0m\u001b[0;34m=\u001b[0m\u001b[0;32mTrue\u001b[0m\u001b[0;34m,\u001b[0m \u001b[0mname\u001b[0m\u001b[0;34m=\u001b[0m\u001b[0mname\u001b[0m\u001b[0;34m)\u001b[0m\u001b[0;34m\u001b[0m\u001b[0;34m\u001b[0m\u001b[0m\n",
            "\u001b[0;32m/usr/local/lib/python3.6/dist-packages/tensorflow/python/ops/script_ops.py\u001b[0m in \u001b[0;36m_internal_py_func\u001b[0;34m(func, inp, Tout, stateful, eager, is_grad_func, name)\u001b[0m\n\u001b[1;32m    340\u001b[0m         \u001b[0mis_async\u001b[0m\u001b[0;34m=\u001b[0m\u001b[0mcontext\u001b[0m\u001b[0;34m.\u001b[0m\u001b[0mis_async\u001b[0m\u001b[0;34m(\u001b[0m\u001b[0;34m)\u001b[0m\u001b[0;34m,\u001b[0m\u001b[0;34m\u001b[0m\u001b[0;34m\u001b[0m\u001b[0m\n\u001b[1;32m    341\u001b[0m         \u001b[0mTout\u001b[0m\u001b[0;34m=\u001b[0m\u001b[0mTout\u001b[0m\u001b[0;34m,\u001b[0m\u001b[0;34m\u001b[0m\u001b[0;34m\u001b[0m\u001b[0m\n\u001b[0;32m--> 342\u001b[0;31m         name=name)\n\u001b[0m\u001b[1;32m    343\u001b[0m   \u001b[0;32melse\u001b[0m\u001b[0;34m:\u001b[0m\u001b[0;34m\u001b[0m\u001b[0;34m\u001b[0m\u001b[0m\n\u001b[1;32m    344\u001b[0m     \u001b[0;32mif\u001b[0m \u001b[0mstateful\u001b[0m\u001b[0;34m:\u001b[0m\u001b[0;34m\u001b[0m\u001b[0;34m\u001b[0m\u001b[0m\n",
            "\u001b[0;32m/usr/local/lib/python3.6/dist-packages/tensorflow/python/ops/gen_script_ops.py\u001b[0m in \u001b[0;36meager_py_func\u001b[0;34m(input, token, Tout, is_async, name)\u001b[0m\n\u001b[1;32m     47\u001b[0m       \u001b[0;32mreturn\u001b[0m \u001b[0m_result\u001b[0m\u001b[0;34m\u001b[0m\u001b[0;34m\u001b[0m\u001b[0m\n\u001b[1;32m     48\u001b[0m     \u001b[0;32mexcept\u001b[0m \u001b[0m_core\u001b[0m\u001b[0;34m.\u001b[0m\u001b[0m_NotOkStatusException\u001b[0m \u001b[0;32mas\u001b[0m \u001b[0me\u001b[0m\u001b[0;34m:\u001b[0m\u001b[0;34m\u001b[0m\u001b[0;34m\u001b[0m\u001b[0m\n\u001b[0;32m---> 49\u001b[0;31m       \u001b[0m_ops\u001b[0m\u001b[0;34m.\u001b[0m\u001b[0mraise_from_not_ok_status\u001b[0m\u001b[0;34m(\u001b[0m\u001b[0me\u001b[0m\u001b[0;34m,\u001b[0m \u001b[0mname\u001b[0m\u001b[0;34m)\u001b[0m\u001b[0;34m\u001b[0m\u001b[0;34m\u001b[0m\u001b[0m\n\u001b[0m\u001b[1;32m     50\u001b[0m     \u001b[0;32mexcept\u001b[0m \u001b[0m_core\u001b[0m\u001b[0;34m.\u001b[0m\u001b[0m_FallbackException\u001b[0m\u001b[0;34m:\u001b[0m\u001b[0;34m\u001b[0m\u001b[0;34m\u001b[0m\u001b[0m\n\u001b[1;32m     51\u001b[0m       \u001b[0;32mpass\u001b[0m\u001b[0;34m\u001b[0m\u001b[0;34m\u001b[0m\u001b[0m\n",
            "\u001b[0;32m/usr/local/lib/python3.6/dist-packages/tensorflow/python/framework/ops.py\u001b[0m in \u001b[0;36mraise_from_not_ok_status\u001b[0;34m(e, name)\u001b[0m\n\u001b[1;32m   6841\u001b[0m   \u001b[0mmessage\u001b[0m \u001b[0;34m=\u001b[0m \u001b[0me\u001b[0m\u001b[0;34m.\u001b[0m\u001b[0mmessage\u001b[0m \u001b[0;34m+\u001b[0m \u001b[0;34m(\u001b[0m\u001b[0;34m\" name: \"\u001b[0m \u001b[0;34m+\u001b[0m \u001b[0mname\u001b[0m \u001b[0;32mif\u001b[0m \u001b[0mname\u001b[0m \u001b[0;32mis\u001b[0m \u001b[0;32mnot\u001b[0m \u001b[0;32mNone\u001b[0m \u001b[0;32melse\u001b[0m \u001b[0;34m\"\"\u001b[0m\u001b[0;34m)\u001b[0m\u001b[0;34m\u001b[0m\u001b[0;34m\u001b[0m\u001b[0m\n\u001b[1;32m   6842\u001b[0m   \u001b[0;31m# pylint: disable=protected-access\u001b[0m\u001b[0;34m\u001b[0m\u001b[0;34m\u001b[0m\u001b[0;34m\u001b[0m\u001b[0m\n\u001b[0;32m-> 6843\u001b[0;31m   \u001b[0msix\u001b[0m\u001b[0;34m.\u001b[0m\u001b[0mraise_from\u001b[0m\u001b[0;34m(\u001b[0m\u001b[0mcore\u001b[0m\u001b[0;34m.\u001b[0m\u001b[0m_status_to_exception\u001b[0m\u001b[0;34m(\u001b[0m\u001b[0me\u001b[0m\u001b[0;34m.\u001b[0m\u001b[0mcode\u001b[0m\u001b[0;34m,\u001b[0m \u001b[0mmessage\u001b[0m\u001b[0;34m)\u001b[0m\u001b[0;34m,\u001b[0m \u001b[0;32mNone\u001b[0m\u001b[0;34m)\u001b[0m\u001b[0;34m\u001b[0m\u001b[0;34m\u001b[0m\u001b[0m\n\u001b[0m\u001b[1;32m   6844\u001b[0m   \u001b[0;31m# pylint: enable=protected-access\u001b[0m\u001b[0;34m\u001b[0m\u001b[0;34m\u001b[0m\u001b[0;34m\u001b[0m\u001b[0m\n\u001b[1;32m   6845\u001b[0m \u001b[0;34m\u001b[0m\u001b[0m\n",
            "\u001b[0;32m/usr/local/lib/python3.6/dist-packages/six.py\u001b[0m in \u001b[0;36mraise_from\u001b[0;34m(value, from_value)\u001b[0m\n",
            "\u001b[0;31mInvalidArgumentError\u001b[0m: TypeError: <tf.Tensor: shape=(310,), dtype=float32, numpy=\narray([0.0904524 , 0.10084422, 0.08406127, 0.0902563 has type tensorflow.python.framework.ops.EagerTensor, but expected one of: int, long, float\nTraceback (most recent call last):\n\n  File \"/usr/local/lib/python3.6/dist-packages/tensorflow/python/ops/script_ops.py\", line 242, in __call__\n    return func(device, token, args)\n\n  File \"/usr/local/lib/python3.6/dist-packages/tensorflow/python/ops/script_ops.py\", line 131, in __call__\n    ret = self._func(*args)\n\n  File \"/usr/local/lib/python3.6/dist-packages/tensorflow/python/autograph/impl/api.py\", line 302, in wrapper\n    return func(*args, **kwargs)\n\n  File \"<ipython-input-22-33bd04e8e41a>\", line 8, in serialize_example\n    'x': _float_feature(x),\n\n  File \"<ipython-input-21-913b59301e0c>\", line 3, in _float_feature\n    return tf.train.Feature(float_list=tf.train.FloatList(value=[value]))\n\nTypeError: <tf.Tensor: shape=(310,), dtype=float32, numpy=\narray([0.0904524 , 0.10084422, 0.08406127, 0.0902563 has type tensorflow.python.framework.ops.EagerTensor, but expected one of: int, long, float\n\n [Op:EagerPyFunc]"
          ]
        }
      ]
    },
    {
      "cell_type": "code",
      "metadata": {
        "id": "VZdyxdV9XwGV",
        "colab_type": "code",
        "colab": {}
      },
      "source": [
        "def generator():\n",
        "  for features in features_dataset:\n",
        "    yield serialize_example(*features)"
      ],
      "execution_count": null,
      "outputs": []
    },
    {
      "cell_type": "markdown",
      "metadata": {
        "id": "jnUuXl1V6OIe",
        "colab_type": "text"
      },
      "source": [
        "#### Build an environment to represent this movement"
      ]
    },
    {
      "cell_type": "code",
      "metadata": {
        "id": "C8mpjibBNZ76",
        "colab_type": "code",
        "colab": {
          "base_uri": "https://localhost:8080/",
          "height": 33
        },
        "outputId": "8c2e8c50-8302-4534-8936-0883ec81ecee"
      },
      "source": [
        "X[0].shape"
      ],
      "execution_count": 10,
      "outputs": [
        {
          "output_type": "execute_result",
          "data": {
            "text/plain": [
              "(310,)"
            ]
          },
          "metadata": {
            "tags": []
          },
          "execution_count": 10
        }
      ]
    },
    {
      "cell_type": "code",
      "metadata": {
        "id": "3oeGuXNq6OIe",
        "colab_type": "code",
        "colab": {}
      },
      "source": [
        "class StockMarketEnv(py_environment.PyEnvironment):\n",
        "    '''\n",
        "    Observation: The observation should be a (90,505) matrix\n",
        "    Action: A (505) vector with probabilties from 0 1, max 10 are encoded as 1, all others are 0\n",
        "    Reward: dot product of the (505,1) top 10 choices with the next (1,505) returns\n",
        "    '''\n",
        "    def __init__(self, X, y):\n",
        "        self._action_spec = array_spec.BoundedArraySpec(\n",
        "                                    shape=(1,), dtype=np.float32, minimum=0, maximum=1, name='action')\n",
        "        self._observation_spec = array_spec.BoundedArraySpec(\n",
        "                                    shape=(310,), dtype=np.float32, minimum=-1, maximum=1 ,name='observation')\n",
        "        self._X = X\n",
        "        self._y = y\n",
        "        self._i = 0\n",
        "        self._state = np.array(self._X[self._i], dtype=np.float32)\n",
        "        self._episode_ended = False\n",
        "\n",
        "    def action_spec(self):\n",
        "        return self._action_spec\n",
        "\n",
        "    def observation_spec(self):\n",
        "        return self._observation_spec\n",
        "\n",
        "    def _reset(self):\n",
        "        self._i = 0\n",
        "        self._state = np.array(self._X[self._i], dtype=np.float32) ## input array\n",
        "        self._episode_ended = False\n",
        "        return ts.restart(self._state)\n",
        "\n",
        "    def _step(self, action):\n",
        "        if self._episode_ended:\n",
        "            return self.reset()\n",
        "\n",
        "        self._i += 1\n",
        "\n",
        "        if self._i + 1 >= self._y.shape[0]:\n",
        "            self._episode_ended = True\n",
        "        \n",
        "        reward_state = np.array(self._y[self._i], dtype=np.float32)\n",
        "        reward = -(action[0] - reward_state)**2\n",
        "        \n",
        "        self._state = np.array(self._X[self._i], dtype=np.float32)\n",
        "        \n",
        "        if self._episode_ended:\n",
        "            return ts.termination(np.array(self._state, dtype=np.float32), reward=np.array(reward, dtype=np.float32))\n",
        "        else:\n",
        "            return ts.transition(np.array(self._state, dtype=np.float32), reward=np.array(reward, dtype=np.float32), discount=1.0)"
      ],
      "execution_count": 11,
      "outputs": []
    },
    {
      "cell_type": "code",
      "metadata": {
        "id": "b3GEo5XA6OIg",
        "colab_type": "code",
        "colab": {}
      },
      "source": [
        "environment = StockMarketEnv(X, y)\n",
        "utils.validate_py_environment(environment, episodes=5)"
      ],
      "execution_count": 12,
      "outputs": []
    },
    {
      "cell_type": "markdown",
      "metadata": {
        "id": "FiQVPe-w6OIi",
        "colab_type": "text"
      },
      "source": [
        "##### Train a DQN to learn on it"
      ]
    },
    {
      "cell_type": "code",
      "metadata": {
        "id": "vKhQj07I8-MX",
        "colab_type": "code",
        "colab": {}
      },
      "source": [
        "# Important interval values for training speed\n",
        "# Set lower to increase speed of training \n",
        "\n",
        "num_iterations = 10 # @param {type:\"integer\"}\n",
        "log_interval = 100 # @param {type:\"integer\"}=\n",
        "num_eval_episodes = 1 # @param {type:\"integer\"}\n",
        "eval_interval = 1 # @param {type:\"integer\"}"
      ],
      "execution_count": 13,
      "outputs": []
    },
    {
      "cell_type": "code",
      "metadata": {
        "id": "aI8CjCKP6OIj",
        "colab_type": "code",
        "colab": {}
      },
      "source": [
        "initial_collect_steps = 10000 # @param {type:\"integer\"}\n",
        "collect_steps_per_iteration = 1 # @param {type:\"integer\"}\n",
        "replay_buffer_capacity = 10000 # @param {type:\"integer\"}\n",
        "\n",
        "batch_size = 256 # @param {type:\"integer\"}\n",
        "\n",
        "critic_learning_rate = 3e-4 # @param {type:\"number\"}\n",
        "actor_learning_rate = 3e-4 # @param {type:\"number\"}\n",
        "alpha_learning_rate = 3e-4 # @param {type:\"number\"}\n",
        "target_update_tau = 0.005 # @param {type:\"number\"}\n",
        "target_update_period = 1 # @param {type:\"number\"}\n",
        "gamma = 0.99 # @param {type:\"number\"}\n",
        "reward_scale_factor = 1.0 # @param {type:\"number\"}\n",
        "\n",
        "actor_fc_layer_params = (310,)\n",
        "critic_joint_fc_layer_params = (310,)\n",
        "\n",
        "\n",
        "\n",
        "policy_save_interval = 5000 # @param {type:\"integer\"}"
      ],
      "execution_count": 14,
      "outputs": []
    },
    {
      "cell_type": "code",
      "metadata": {
        "id": "IbxnI01V6OIl",
        "colab_type": "code",
        "colab": {
          "base_uri": "https://localhost:8080/",
          "height": 33
        },
        "outputId": "5bf433be-b68b-4521-cef8-aede31dda95a"
      },
      "source": [
        "X.shape[0], X.shape[0]//2"
      ],
      "execution_count": 15,
      "outputs": [
        {
          "output_type": "execute_result",
          "data": {
            "text/plain": [
              "(5000, 2500)"
            ]
          },
          "metadata": {
            "tags": []
          },
          "execution_count": 15
        }
      ]
    },
    {
      "cell_type": "code",
      "metadata": {
        "id": "E8_6roAdK9Cx",
        "colab_type": "code",
        "colab": {
          "base_uri": "https://localhost:8080/",
          "height": 33
        },
        "outputId": "22a47c3c-67a5-4804-cbac-9908d6a88617"
      },
      "source": [
        "y.shape[0],  y.shape[0]//2"
      ],
      "execution_count": 16,
      "outputs": [
        {
          "output_type": "execute_result",
          "data": {
            "text/plain": [
              "(5000, 2500)"
            ]
          },
          "metadata": {
            "tags": []
          },
          "execution_count": 16
        }
      ]
    },
    {
      "cell_type": "code",
      "metadata": {
        "id": "C41tw48g6OIn",
        "colab_type": "code",
        "colab": {}
      },
      "source": [
        "# Code to produce tf environments\n",
        "# train_py_env = StockMarketEnv(X[:X.shape[0]//2])\n",
        "# eval_py_env = StockMarketEnv(X[X.shape[0]//2:])\n",
        "# train_env = tf_py_environment.TFPyEnvironment(train_py_env)\n",
        "# eval_env = tf_py_environment.TFPyEnvironment(eval_py_env)\n",
        "\n",
        "# Code to produce py environments \n",
        "train_env = StockMarketEnv(X[:X.shape[0]//2], y[:y.shape[0]//2])\n",
        "eval_env = StockMarketEnv(X[X.shape[0]//2:], y[y.shape[0]//2:])"
      ],
      "execution_count": 17,
      "outputs": []
    },
    {
      "cell_type": "code",
      "metadata": {
        "id": "JI3GGwdjLzRn",
        "colab_type": "code",
        "colab": {
          "base_uri": "https://localhost:8080/",
          "height": 82
        },
        "outputId": "cffe5b8a-c437-433d-86b2-5ccf25fbf1e6"
      },
      "source": [
        "train_env._y, eval_env._y"
      ],
      "execution_count": 18,
      "outputs": [
        {
          "output_type": "execute_result",
          "data": {
            "text/plain": [
              "(array([ 0.02279128, -0.04242661,  0.08742822, ..., -0.22473535,\n",
              "        -0.00361564, -0.16828975], dtype=float32),\n",
              " array([-0.06380255, -0.00887402, -0.1040407 , ...,  0.01091622,\n",
              "        -0.07825399,  0.1870721 ], dtype=float32))"
            ]
          },
          "metadata": {
            "tags": []
          },
          "execution_count": 18
        }
      ]
    },
    {
      "cell_type": "code",
      "metadata": {
        "id": "fCygvxH_6OIs",
        "colab_type": "code",
        "colab": {
          "base_uri": "https://localhost:8080/",
          "height": 82
        },
        "outputId": "53924bcd-a31e-4fbb-b64e-ce6faf2f9914"
      },
      "source": [
        "print('Observation Spec:')\n",
        "print(train_env.time_step_spec().observation)\n",
        "print('Action Spec:')\n",
        "print(train_env.action_spec())"
      ],
      "execution_count": 19,
      "outputs": [
        {
          "output_type": "stream",
          "text": [
            "Observation Spec:\n",
            "BoundedArraySpec(shape=(310,), dtype=dtype('float32'), name='observation', minimum=-1.0, maximum=1.0)\n",
            "Action Spec:\n",
            "BoundedArraySpec(shape=(1,), dtype=dtype('float32'), name='action', minimum=0.0, maximum=1.0)\n"
          ],
          "name": "stdout"
        }
      ]
    },
    {
      "cell_type": "code",
      "metadata": {
        "id": "YcyFz4H46OIw",
        "colab_type": "code",
        "colab": {}
      },
      "source": [
        "use_gpu = False \n",
        "\n",
        "strategy = strategy_utils.get_strategy(tpu=False, use_gpu=use_gpu)"
      ],
      "execution_count": 20,
      "outputs": []
    },
    {
      "cell_type": "code",
      "metadata": {
        "id": "26HrgAyp6OIy",
        "colab_type": "code",
        "colab": {}
      },
      "source": [
        "observation_spec, action_spec, time_step_spec = (spec_utils.get_tensor_specs(train_env))\n",
        "\n",
        "with strategy.scope():\n",
        "    critic_net = critic_network.CriticNetwork((observation_spec, action_spec),\n",
        "                                            observation_fc_layer_params=None,\n",
        "                                            action_fc_layer_params=None,\n",
        "                                            joint_fc_layer_params=critic_joint_fc_layer_params,\n",
        "                                            kernel_initializer='glorot_uniform',\n",
        "                                            last_kernel_initializer='glorot_uniform')"
      ],
      "execution_count": 21,
      "outputs": []
    },
    {
      "cell_type": "code",
      "metadata": {
        "id": "n1BSlzeq6OI0",
        "colab_type": "code",
        "colab": {
          "base_uri": "https://localhost:8080/",
          "height": 33
        },
        "outputId": "37c8836e-0327-4c67-954a-f0089d0397bc"
      },
      "source": [
        "action_spec"
      ],
      "execution_count": 22,
      "outputs": [
        {
          "output_type": "execute_result",
          "data": {
            "text/plain": [
              "BoundedTensorSpec(shape=(1,), dtype=tf.float32, name='action', minimum=array(0., dtype=float32), maximum=array(1., dtype=float32))"
            ]
          },
          "metadata": {
            "tags": []
          },
          "execution_count": 22
        }
      ]
    },
    {
      "cell_type": "code",
      "metadata": {
        "id": "iox-BtBq6OI2",
        "colab_type": "code",
        "colab": {
          "base_uri": "https://localhost:8080/",
          "height": 33
        },
        "outputId": "a4399b5f-df95-494c-f200-75923cb3f119"
      },
      "source": [
        "observation_spec"
      ],
      "execution_count": 23,
      "outputs": [
        {
          "output_type": "execute_result",
          "data": {
            "text/plain": [
              "BoundedTensorSpec(shape=(310,), dtype=tf.float32, name='observation', minimum=array(-1., dtype=float32), maximum=array(1., dtype=float32))"
            ]
          },
          "metadata": {
            "tags": []
          },
          "execution_count": 23
        }
      ]
    },
    {
      "cell_type": "code",
      "metadata": {
        "id": "xdFSU2mg6OI4",
        "colab_type": "code",
        "colab": {
          "base_uri": "https://localhost:8080/",
          "height": 33
        },
        "outputId": "75066138-0048-47f9-b045-29e62b71de71"
      },
      "source": [
        "actor_fc_layer_params"
      ],
      "execution_count": 24,
      "outputs": [
        {
          "output_type": "execute_result",
          "data": {
            "text/plain": [
              "(310,)"
            ]
          },
          "metadata": {
            "tags": []
          },
          "execution_count": 24
        }
      ]
    },
    {
      "cell_type": "code",
      "metadata": {
        "id": "k9hmG_ih6OI6",
        "colab_type": "code",
        "colab": {}
      },
      "source": [
        "with strategy.scope():\n",
        "    actor_net = actor_distribution_network.ActorDistributionNetwork(observation_spec,\n",
        "                                                                    action_spec,\n",
        "                                                                    fc_layer_params=actor_fc_layer_params,\n",
        "                                                                    continuous_projection_net=(\n",
        "                                              tanh_normal_projection_network.TanhNormalProjectionNetwork))"
      ],
      "execution_count": 25,
      "outputs": []
    },
    {
      "cell_type": "code",
      "metadata": {
        "id": "4ZNrQfK16OI8",
        "colab_type": "code",
        "colab": {
          "base_uri": "https://localhost:8080/",
          "height": 53
        },
        "outputId": "c3339288-fe7b-4323-d55d-c09991f34061"
      },
      "source": [
        "time_step_spec"
      ],
      "execution_count": 26,
      "outputs": [
        {
          "output_type": "execute_result",
          "data": {
            "text/plain": [
              "TimeStep(step_type=TensorSpec(shape=(), dtype=tf.int32, name='step_type'), reward=TensorSpec(shape=(), dtype=tf.float32, name='reward'), discount=BoundedTensorSpec(shape=(), dtype=tf.float32, name='discount', minimum=array(0., dtype=float32), maximum=array(1., dtype=float32)), observation=BoundedTensorSpec(shape=(310,), dtype=tf.float32, name='observation', minimum=array(-1., dtype=float32), maximum=array(1., dtype=float32)))"
            ]
          },
          "metadata": {
            "tags": []
          },
          "execution_count": 26
        }
      ]
    },
    {
      "cell_type": "code",
      "metadata": {
        "id": "VGkzecjK6OI_",
        "colab_type": "code",
        "colab": {}
      },
      "source": [
        "with strategy.scope():\n",
        "    train_step = train_utils.create_train_step()\n",
        "\n",
        "    tf_agent = sac_agent.SacAgent(\n",
        "                                time_step_spec,\n",
        "                                action_spec,\n",
        "                                actor_network=actor_net,\n",
        "                                critic_network=critic_net,\n",
        "                                actor_optimizer=tf.compat.v1.train.AdamOptimizer(\n",
        "                                                                learning_rate=actor_learning_rate),\n",
        "                                critic_optimizer=tf.compat.v1.train.AdamOptimizer(\n",
        "                                                                learning_rate=critic_learning_rate),\n",
        "                                alpha_optimizer=tf.compat.v1.train.AdamOptimizer(\n",
        "                                                                learning_rate=alpha_learning_rate),\n",
        "                                target_update_tau=target_update_tau,\n",
        "                                target_update_period=target_update_period,\n",
        "                                td_errors_loss_fn=tf.math.squared_difference,\n",
        "                                gamma=gamma,\n",
        "                                reward_scale_factor=reward_scale_factor,\n",
        "                                train_step_counter=train_step)\n",
        "\n",
        "    tf_agent.initialize()"
      ],
      "execution_count": 27,
      "outputs": []
    },
    {
      "cell_type": "code",
      "metadata": {
        "id": "8gM1JEUN6OJB",
        "colab_type": "code",
        "colab": {}
      },
      "source": [
        "table_name = 'uniform_table'\n",
        "table = reverb.Table(\n",
        "    table_name,\n",
        "    max_size=replay_buffer_capacity,\n",
        "    sampler=reverb.selectors.Uniform(),\n",
        "    remover=reverb.selectors.Fifo(),\n",
        "    rate_limiter=reverb.rate_limiters.MinSize(1))\n",
        "\n",
        "reverb_server = reverb.Server([table])"
      ],
      "execution_count": 28,
      "outputs": []
    },
    {
      "cell_type": "code",
      "metadata": {
        "id": "O-qcDPy36OJC",
        "colab_type": "code",
        "colab": {}
      },
      "source": [
        "reverb_replay = reverb_replay_buffer.ReverbReplayBuffer(\n",
        "    tf_agent.collect_data_spec,\n",
        "    sequence_length=2,\n",
        "    table_name=table_name,\n",
        "    local_server=reverb_server)"
      ],
      "execution_count": 29,
      "outputs": []
    },
    {
      "cell_type": "code",
      "metadata": {
        "id": "aEVBb3Vy6OJF",
        "colab_type": "code",
        "colab": {}
      },
      "source": [
        "dataset = reverb_replay.as_dataset(\n",
        "      sample_batch_size=batch_size, num_steps=2).prefetch(50)\n",
        "experience_dataset_fn = lambda: dataset"
      ],
      "execution_count": 30,
      "outputs": []
    },
    {
      "cell_type": "code",
      "metadata": {
        "id": "v4Nx9XuX6OJG",
        "colab_type": "code",
        "colab": {}
      },
      "source": [
        "tf_eval_policy = tf_agent.policy\n",
        "eval_policy = py_tf_eager_policy.PyTFEagerPolicy(\n",
        "  tf_eval_policy, use_tf_function=True)"
      ],
      "execution_count": 31,
      "outputs": []
    },
    {
      "cell_type": "code",
      "metadata": {
        "id": "oNMwXs166OJI",
        "colab_type": "code",
        "colab": {}
      },
      "source": [
        "tf_collect_policy = tf_agent.collect_policy\n",
        "collect_policy = py_tf_eager_policy.PyTFEagerPolicy(\n",
        "  tf_collect_policy, use_tf_function=True)"
      ],
      "execution_count": 32,
      "outputs": []
    },
    {
      "cell_type": "code",
      "metadata": {
        "id": "8DVAbbe56OJK",
        "colab_type": "code",
        "colab": {}
      },
      "source": [
        "rb_observer = reverb_utils.ReverbAddTrajectoryObserver(\n",
        "  reverb_replay.py_client,\n",
        "  table_name,\n",
        "  sequence_length=2,\n",
        "  stride_length=1)"
      ],
      "execution_count": 33,
      "outputs": []
    },
    {
      "cell_type": "code",
      "metadata": {
        "id": "v74jTE1x6OJM",
        "colab_type": "code",
        "colab": {}
      },
      "source": [
        "random_policy = random_py_policy.RandomPyPolicy(\n",
        "  train_env.time_step_spec(), train_env.action_spec())"
      ],
      "execution_count": 34,
      "outputs": []
    },
    {
      "cell_type": "code",
      "metadata": {
        "id": "Ssnyf2ZI6OJO",
        "colab_type": "code",
        "colab": {}
      },
      "source": [
        "initial_collect_actor = actor.Actor(\n",
        "              train_env,\n",
        "              random_policy,\n",
        "              train_step,\n",
        "              steps_per_run=initial_collect_steps,\n",
        "              observers=[rb_observer])\n",
        "initial_collect_actor.run()"
      ],
      "execution_count": 35,
      "outputs": []
    },
    {
      "cell_type": "code",
      "metadata": {
        "id": "78nkhZQb6OJQ",
        "colab_type": "code",
        "colab": {}
      },
      "source": [
        "env_step_metric = py_metrics.EnvironmentSteps()\n",
        "collect_actor = actor.Actor(\n",
        "                  train_env,\n",
        "                  collect_policy,\n",
        "                  train_step,\n",
        "                  steps_per_run=1,\n",
        "                  metrics=actor.collect_metrics(10),\n",
        "                  summary_dir=os.path.join(tempdir, learner.TRAIN_DIR),\n",
        "                  observers=[rb_observer, env_step_metric])"
      ],
      "execution_count": 36,
      "outputs": []
    },
    {
      "cell_type": "code",
      "metadata": {
        "id": "yodc_CfJ6OJR",
        "colab_type": "code",
        "colab": {}
      },
      "source": [
        "eval_actor = actor.Actor(\n",
        "  eval_env,\n",
        "  eval_policy,\n",
        "  train_step,\n",
        "  episodes_per_run=num_eval_episodes,\n",
        "  metrics=actor.eval_metrics(num_eval_episodes),\n",
        "  summary_dir=os.path.join(tempdir, 'eval'),\n",
        ")"
      ],
      "execution_count": 37,
      "outputs": []
    },
    {
      "cell_type": "code",
      "metadata": {
        "id": "HcF7aCzv6OJT",
        "colab_type": "code",
        "colab": {
          "base_uri": "https://localhost:8080/",
          "height": 330
        },
        "outputId": "e1df0b3a-4fd1-4f36-caff-d23714888448"
      },
      "source": [
        "saved_model_dir = os.path.join(tempdir, learner.POLICY_SAVED_MODEL_DIR)\n",
        "\n",
        "# Triggers to save the agent's policy checkpoints.\n",
        "learning_triggers = [\n",
        "    triggers.PolicySavedModelTrigger(\n",
        "        saved_model_dir,\n",
        "        tf_agent,\n",
        "        train_step,\n",
        "        interval=policy_save_interval),\n",
        "    triggers.StepPerSecondLogTrigger(train_step, interval=1000),\n",
        "]\n",
        "\n",
        "agent_learner = learner.Learner(\n",
        "  tempdir,\n",
        "  train_step,\n",
        "  tf_agent,\n",
        "  experience_dataset_fn,\n",
        "  triggers=learning_triggers)"
      ],
      "execution_count": 38,
      "outputs": [
        {
          "output_type": "stream",
          "text": [
            "WARNING:tensorflow:From /usr/local/lib/python3.6/dist-packages/tensorflow/python/ops/linalg/linear_operator_diag.py:166: calling LinearOperator.__init__ (from tensorflow.python.ops.linalg.linear_operator) with graph_parents is deprecated and will be removed in a future version.\n",
            "Instructions for updating:\n",
            "Do not pass `graph_parents`.  They will  no longer be used.\n"
          ],
          "name": "stdout"
        },
        {
          "output_type": "stream",
          "text": [
            "WARNING:absl:WARNING: Could not serialize policy.distribution() for policy \"<tf_agents.policies.actor_policy.ActorPolicy object at 0x7f2e22490240>\". Calling saved_model.distribution() will raise the following assertion error: Unable to make a CompositeTensor for \"tfp.distributions.SquashToSpecNormal(\"ActorDistributionNetwork_TanhNormalProjectionNetwork_SquashToSpecNormal\", dtype=float32)\" of type `<class 'tf_agents.distributions.utils.SquashToSpecNormal'>`. Email `tfprobability@tensorflow.org` or file an issue on github if you would benefit from this working. (Unable to convert dependent entry 'scale' of object 'tfp.distributions.SquashToSpecNormal(\"ActorDistributionNetwork_TanhNormalProjectionNetwork_SquashToSpecNormal\", dtype=float32)': Failed to convert object of type <class 'tensorflow.python.ops.linalg.linear_operator_diag.LinearOperatorDiag'> to Tensor. Contents: <tensorflow.python.ops.linalg.linear_operator_diag.LinearOperatorDiag object at 0x7f2e10036eb8>. Consider casting elements to a supported type.)\n",
            "WARNING:absl:WARNING: Could not serialize policy.distribution() for policy \"<tf_agents.policies.actor_policy.ActorPolicy object at 0x7f2e22490240>\". Calling saved_model.distribution() will raise the following assertion error: Unable to make a CompositeTensor for \"tfp.distributions.SquashToSpecNormal(\"ActorDistributionNetwork_TanhNormalProjectionNetwork_SquashToSpecNormal\", dtype=float32)\" of type `<class 'tf_agents.distributions.utils.SquashToSpecNormal'>`. Email `tfprobability@tensorflow.org` or file an issue on github if you would benefit from this working. (Unable to convert dependent entry 'scale' of object 'tfp.distributions.SquashToSpecNormal(\"ActorDistributionNetwork_TanhNormalProjectionNetwork_SquashToSpecNormal\", dtype=float32)': Failed to convert object of type <class 'tensorflow.python.ops.linalg.linear_operator_diag.LinearOperatorDiag'> to Tensor. Contents: <tensorflow.python.ops.linalg.linear_operator_diag.LinearOperatorDiag object at 0x7f2e10021e80>. Consider casting elements to a supported type.)\n",
            "WARNING:absl:WARNING: Could not serialize policy.distribution() for policy \"<tf_agents.policies.actor_policy.ActorPolicy object at 0x7f2e22490240>\". Calling saved_model.distribution() will raise the following assertion error: Unable to make a CompositeTensor for \"tfp.distributions.SquashToSpecNormal(\"ActorDistributionNetwork_TanhNormalProjectionNetwork_SquashToSpecNormal\", dtype=float32)\" of type `<class 'tf_agents.distributions.utils.SquashToSpecNormal'>`. Email `tfprobability@tensorflow.org` or file an issue on github if you would benefit from this working. (Unable to convert dependent entry 'scale' of object 'tfp.distributions.SquashToSpecNormal(\"ActorDistributionNetwork_TanhNormalProjectionNetwork_SquashToSpecNormal\", dtype=float32)': Failed to convert object of type <class 'tensorflow.python.ops.linalg.linear_operator_diag.LinearOperatorDiag'> to Tensor. Contents: <tensorflow.python.ops.linalg.linear_operator_diag.LinearOperatorDiag object at 0x7f2db6704e10>. Consider casting elements to a supported type.)\n"
          ],
          "name": "stderr"
        },
        {
          "output_type": "stream",
          "text": [
            "WARNING:tensorflow:From /usr/local/lib/python3.6/dist-packages/tensorflow/python/training/tracking/tracking.py:111: Layer.updates (from tensorflow.python.keras.engine.base_layer) is deprecated and will be removed in a future version.\n",
            "Instructions for updating:\n",
            "This property should not be used in TensorFlow 2.0, as updates are applied automatically.\n"
          ],
          "name": "stdout"
        },
        {
          "output_type": "stream",
          "text": [
            "WARNING:tensorflow:From /usr/local/lib/python3.6/dist-packages/tensorflow/python/training/tracking/tracking.py:111: Layer.updates (from tensorflow.python.keras.engine.base_layer) is deprecated and will be removed in a future version.\n",
            "Instructions for updating:\n",
            "This property should not be used in TensorFlow 2.0, as updates are applied automatically.\n"
          ],
          "name": "stderr"
        },
        {
          "output_type": "stream",
          "text": [
            "INFO:tensorflow:Assets written to: /tmp/policies/collect_policy/assets\n"
          ],
          "name": "stdout"
        },
        {
          "output_type": "stream",
          "text": [
            "INFO:tensorflow:Assets written to: /tmp/policies/collect_policy/assets\n"
          ],
          "name": "stderr"
        },
        {
          "output_type": "stream",
          "text": [
            "INFO:tensorflow:Assets written to: /tmp/policies/greedy_policy/assets\n"
          ],
          "name": "stdout"
        },
        {
          "output_type": "stream",
          "text": [
            "INFO:tensorflow:Assets written to: /tmp/policies/greedy_policy/assets\n"
          ],
          "name": "stderr"
        },
        {
          "output_type": "stream",
          "text": [
            "INFO:tensorflow:Assets written to: /tmp/policies/policy/assets\n"
          ],
          "name": "stdout"
        },
        {
          "output_type": "stream",
          "text": [
            "INFO:tensorflow:Assets written to: /tmp/policies/policy/assets\n"
          ],
          "name": "stderr"
        }
      ]
    },
    {
      "cell_type": "code",
      "metadata": {
        "id": "8p0RFzeQ6OJV",
        "colab_type": "code",
        "colab": {
          "base_uri": "https://localhost:8080/",
          "height": 50
        },
        "outputId": "7c527e0e-1436-479e-daf5-40ab740d6d3b"
      },
      "source": [
        "%%time\n",
        "def get_eval_metrics():\n",
        "    eval_actor.run()\n",
        "    results = {}\n",
        "    for metric in eval_actor.metrics:\n",
        "        results[metric.name] = metric.result()\n",
        "    return results\n",
        "\n",
        "metrics = get_eval_metrics()"
      ],
      "execution_count": 39,
      "outputs": [
        {
          "output_type": "stream",
          "text": [
            "CPU times: user 3.45 s, sys: 275 ms, total: 3.72 s\n",
            "Wall time: 3.29 s\n"
          ],
          "name": "stdout"
        }
      ]
    },
    {
      "cell_type": "code",
      "metadata": {
        "id": "gj7kzMcAMWxH",
        "colab_type": "code",
        "colab": {
          "base_uri": "https://localhost:8080/",
          "height": 50
        },
        "outputId": "b5543de3-00e1-4d20-f323-558d29df92de"
      },
      "source": [
        "eval_env._y"
      ],
      "execution_count": 40,
      "outputs": [
        {
          "output_type": "execute_result",
          "data": {
            "text/plain": [
              "array([-0.06380255, -0.00887402, -0.1040407 , ...,  0.01091622,\n",
              "       -0.07825399,  0.1870721 ], dtype=float32)"
            ]
          },
          "metadata": {
            "tags": []
          },
          "execution_count": 40
        }
      ]
    },
    {
      "cell_type": "code",
      "metadata": {
        "id": "6zI3plJX6OJY",
        "colab_type": "code",
        "colab": {
          "base_uri": "https://localhost:8080/",
          "height": 66
        },
        "outputId": "0ac8ac9c-9c7e-443a-f9a1-9d8bde31c507"
      },
      "source": [
        "%%time\n",
        "def log_eval_metrics(step, metrics):\n",
        "    eval_results = (', ').join(\n",
        "              '{} = {:.6f}'.format(name, result) for name, result in metrics.items())\n",
        "    print('step = {0}: {1}'.format(step, eval_results))\n",
        "\n",
        "log_eval_metrics(0, metrics)"
      ],
      "execution_count": 41,
      "outputs": [
        {
          "output_type": "stream",
          "text": [
            "step = 0: AverageReturn = -843.354919, AverageEpisodeLength = 2499.000000\n",
            "CPU times: user 462 µs, sys: 0 ns, total: 462 µs\n",
            "Wall time: 471 µs\n"
          ],
          "name": "stdout"
        }
      ]
    },
    {
      "cell_type": "code",
      "metadata": {
        "id": "lHcfpMpTBROF",
        "colab_type": "code",
        "colab": {
          "base_uri": "https://localhost:8080/",
          "height": 33
        },
        "outputId": "f8c508de-97a3-4c50-a16c-2a2096bfab90"
      },
      "source": [
        "training_params = [num_iterations,\n",
        "                    log_interval,\n",
        "                    num_eval_episodes,\n",
        "                    eval_interval]\n",
        "          \n",
        "print(training_params)"
      ],
      "execution_count": 42,
      "outputs": [
        {
          "output_type": "stream",
          "text": [
            "[10, 100, 1, 1]\n"
          ],
          "name": "stdout"
        }
      ]
    },
    {
      "cell_type": "code",
      "metadata": {
        "id": "DrUeXAbq6OJa",
        "colab_type": "code",
        "colab": {
          "base_uri": "https://localhost:8080/",
          "height": 212
        },
        "outputId": "a628efd9-2077-4071-cb99-83cf0f6cd89d"
      },
      "source": [
        "#@test {\"skip\": true}\n",
        "try:\n",
        "    %%time\n",
        "except:\n",
        "    pass\n",
        "\n",
        "start = time.time()\n",
        "# Reset the train step\n",
        "tf_agent.train_step_counter.assign(0)\n",
        "\n",
        "# Evaluate the agent's policy once before training.\n",
        "avg_return = metrics[\"AverageReturn\"]\n",
        "returns = [avg_return]\n",
        "\n",
        "for _ in range(num_iterations):\n",
        "    # Training.\n",
        "    collect_actor.run()\n",
        "    loss_info = agent_learner.run(iterations=1)\n",
        "\n",
        "    # Evaluating.\n",
        "    step = agent_learner.train_step_numpy\n",
        "\n",
        "    if eval_interval and step % eval_interval == 0:\n",
        "        metrics = get_eval_metrics()\n",
        "        log_eval_metrics(step, metrics)\n",
        "        returns.append(metrics[\"AverageReturn\"])\n",
        "\n",
        "    if log_interval and step % log_interval == 0:\n",
        "        print('step = {0}: loss = {1}'.format(step, loss_info.loss.numpy()))\n",
        "        minsec = divmod((time.time() - start), 60)\n",
        "        hourmin = divmod(minsec[0], 60)\n",
        "        print(f\"Time elasped: {int(hourmin[0])}:{int(hourmin[1])}:{minsec[1]}\")\n",
        "\n",
        "rb_observer.close()\n",
        "reverb_server.stop()"
      ],
      "execution_count": 43,
      "outputs": [
        {
          "output_type": "stream",
          "text": [
            "CPU times: user 2 µs, sys: 0 ns, total: 2 µs\n",
            "Wall time: 4.29 µs\n",
            "step = 1: AverageReturn = -841.190735, AverageEpisodeLength = 2499.000000\n",
            "step = 2: AverageReturn = -858.180542, AverageEpisodeLength = 2499.000000\n",
            "step = 3: AverageReturn = -866.887695, AverageEpisodeLength = 2499.000000\n",
            "step = 4: AverageReturn = -883.350037, AverageEpisodeLength = 2499.000000\n",
            "step = 5: AverageReturn = -880.205139, AverageEpisodeLength = 2499.000000\n",
            "step = 6: AverageReturn = -908.121765, AverageEpisodeLength = 2499.000000\n",
            "step = 7: AverageReturn = -864.832520, AverageEpisodeLength = 2499.000000\n",
            "step = 8: AverageReturn = -870.467529, AverageEpisodeLength = 2499.000000\n",
            "step = 9: AverageReturn = -873.192322, AverageEpisodeLength = 2499.000000\n",
            "step = 10: AverageReturn = -837.118347, AverageEpisodeLength = 2499.000000\n"
          ],
          "name": "stdout"
        }
      ]
    },
    {
      "cell_type": "code",
      "metadata": {
        "id": "GmtrxGbo6OJb",
        "colab_type": "code",
        "colab": {
          "base_uri": "https://localhost:8080/",
          "height": 295
        },
        "outputId": "34fbcf3d-ad37-4270-d866-66fb9b853128"
      },
      "source": [
        "#@test {\"skip\": true}\n",
        "\n",
        "steps = range(0, 11, eval_interval)\n",
        "plt.plot(steps, returns)\n",
        "plt.ylabel('Average Return')\n",
        "plt.xlabel('Step')\n",
        "plt.ylim()"
      ],
      "execution_count": 46,
      "outputs": [
        {
          "output_type": "execute_result",
          "data": {
            "text/plain": [
              "(-911.6719360351562, -833.5681762695312)"
            ]
          },
          "metadata": {
            "tags": []
          },
          "execution_count": 46
        },
        {
          "output_type": "display_data",
          "data": {
            "image/png": "[encoded data removed]",
            "text/plain": [
              "<Figure size 432x288 with 1 Axes>"
            ]
          },
          "metadata": {
            "tags": [],
            "needs_background": "light"
          }
        }
      ]
    },
    {
      "cell_type": "code",
      "metadata": {
        "id": "MYWwI0o_CD9c",
        "colab_type": "code",
        "colab": {
          "base_uri": "https://localhost:8080/",
          "height": 82
        },
        "outputId": "397ed57d-284f-422c-b95e-c89e132149a8"
      },
      "source": [
        "for metric in collect_actor.metrics:\n",
        "  print(f\"{metric.name} = {metric.result()}\")"
      ],
      "execution_count": 47,
      "outputs": [
        {
          "output_type": "stream",
          "text": [
            "NumberOfEpisodes = 0\n",
            "EnvironmentSteps = 10\n",
            "AverageReturn = 0.0\n",
            "AverageEpisodeLength = 0.0\n"
          ],
          "name": "stdout"
        }
      ]
    },
    {
      "cell_type": "code",
      "metadata": {
        "id": "M2fSUEvIYKvK",
        "colab_type": "code",
        "colab": {
          "base_uri": "https://localhost:8080/",
          "height": 33
        },
        "outputId": "f0ced462-b291-4efb-f50d-632a4a210c2d"
      },
      "source": [
        "collect_actor.metrics[2].result()"
      ],
      "execution_count": 48,
      "outputs": [
        {
          "output_type": "execute_result",
          "data": {
            "text/plain": [
              "array(0., dtype=float32)"
            ]
          },
          "metadata": {
            "tags": []
          },
          "execution_count": 48
        }
      ]
    },
    {
      "cell_type": "code",
      "metadata": {
        "id": "7fDdoelycp4w",
        "colab_type": "code",
        "colab": {}
      },
      "source": [
        ""
      ],
      "execution_count": null,
      "outputs": []
    }
  ]
}