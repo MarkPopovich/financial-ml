{
  "nbformat": 4,
  "nbformat_minor": 0,
  "metadata": {
    "kernelspec": {
      "display_name": "Python 3",
      "language": "python",
      "name": "python3"
    },
    "language_info": {
      "codemirror_mode": {
        "name": "ipython",
        "version": 3
      },
      "file_extension": ".py",
      "mimetype": "text/x-python",
      "name": "python",
      "nbconvert_exporter": "python",
      "pygments_lexer": "ipython3",
      "version": "3.7.6"
    },
    "colab": {
      "name": "4.7 Design Deep Reinforcement Learning Agent.ipynb",
      "provenance": [],
      "toc_visible": true
    },
    "accelerator": "GPU"
  },
  "cells": [
    {
      "cell_type": "markdown",
      "metadata": {
        "id": "hm6b5yaR6OH-",
        "colab_type": "text"
      },
      "source": [
        "# 4.7 Design Deep Reinforcement Learning Agent\n",
        "\n",
        "In this notebook we will consider an alternative question. Instead of asking how we can maximize profit on a single asset, we will ask whether a machine can pick the best assets given many selections. \n",
        "\n",
        "We will consider only price history data. We will provide 90 differenced timesteps on the minute interval period. We will choose the 500 stocks of the S&P 500. \n",
        "\n",
        "If our network can outperform the S&P 500 over the given time, we will consider it successful. \n",
        "\n",
        "In order to do this, we will need to perform the following steps:\n",
        "\n",
        "- download datasets for all the stocks in the S&P 500. \n",
        "- format the data to represent the simulataneous movement of 500 stocks\n",
        "- Build an environment to represent this movement\n",
        "- Train a DQN to learn on it"
      ]
    },
    {
      "cell_type": "markdown",
      "metadata": {
        "id": "J1kAIK7f6OIA",
        "colab_type": "text"
      },
      "source": [
        "#### Download datasets for all the stocks in the S&P 500."
      ]
    },
    {
      "cell_type": "code",
      "metadata": {
        "id": "u1xW-_jbiS1v",
        "colab_type": "code",
        "colab": {}
      },
      "source": [
        "from IPython import display\n",
        "!pip install gcsfs\n",
        "!pip install tf-agents[reverb]\n",
        "display.clear_output()"
      ],
      "execution_count": 1,
      "outputs": []
    },
    {
      "cell_type": "code",
      "metadata": {
        "id": "eZ_5JnXK1vQk",
        "colab_type": "code",
        "colab": {}
      },
      "source": [
        "from google.colab import drive\n",
        "from google.cloud import storage\n",
        "import pandas as pd\n",
        "import time\n",
        "import pandas as pd \n",
        "import matplotlib.pyplot as plt\n",
        "from __future__ import absolute_import, division, print_function\n",
        "\n",
        "import abc\n",
        "import tensorflow as tf\n",
        "import numpy as np\n",
        "import base64\n",
        "import IPython\n",
        "import matplotlib.pyplot as plt\n",
        "import numpy as np\n",
        "import os\n",
        "import tempfile\n",
        "\n",
        "from tf_agents.environments import py_environment\n",
        "from tf_agents.environments import tf_environment\n",
        "from tf_agents.environments import tf_py_environment\n",
        "from tf_agents.environments import utils\n",
        "from tf_agents.specs import array_spec\n",
        "from tf_agents.environments import wrappers\n",
        "from tf_agents.trajectories import time_step as ts\n",
        "from tf_agents.agents.dqn import dqn_agent\n",
        "from tf_agents.drivers import dynamic_step_driver\n",
        "from tf_agents.eval import metric_utils\n",
        "from tf_agents.metrics import tf_metrics\n",
        "from tf_agents.networks import q_network\n",
        "from tf_agents.policies import random_tf_policy\n",
        "from tf_agents.replay_buffers import tf_uniform_replay_buffer\n",
        "from tf_agents.trajectories import trajectory\n",
        "from tf_agents.utils import common\n",
        "\n",
        "from tf_agents.agents.ddpg import critic_network\n",
        "from tf_agents.agents.sac import sac_agent\n",
        "from tf_agents.agents.sac import tanh_normal_projection_network\n",
        "from tf_agents.experimental.train import actor\n",
        "from tf_agents.experimental.train import learner\n",
        "from tf_agents.experimental.train import triggers\n",
        "from tf_agents.experimental.train.utils import spec_utils\n",
        "from tf_agents.experimental.train.utils import strategy_utils\n",
        "from tf_agents.experimental.train.utils import train_utils\n",
        "from tf_agents.metrics import py_metrics\n",
        "from tf_agents.networks import actor_distribution_network\n",
        "from tf_agents.policies import greedy_policy\n",
        "from tf_agents.policies import py_tf_eager_policy\n",
        "from tf_agents.policies import random_py_policy\n",
        "from tf_agents.replay_buffers import reverb_replay_buffer\n",
        "from tf_agents.replay_buffers import reverb_utils\n",
        "import reverb\n",
        "\n",
        "tf.compat.v1.enable_v2_behavior()"
      ],
      "execution_count": 2,
      "outputs": []
    },
    {
      "cell_type": "code",
      "metadata": {
        "id": "zs_lLrRTasCG",
        "colab_type": "code",
        "colab": {}
      },
      "source": [
        "drive.mount('/content/drive')\n",
        "\n",
        "os.environ['GOOGLE_APPLICATION_CREDENTIALS'] = \"/content/drive/My Drive/fin-aml/fin-aml-gcskeys-337dfd8d8867.json\"\n",
        "\n",
        "storage_client = storage.Client()\n",
        "display.clear_output()"
      ],
      "execution_count": 3,
      "outputs": []
    },
    {
      "cell_type": "code",
      "metadata": {
        "id": "2GhPWMKn1vQu",
        "colab_type": "code",
        "colab": {}
      },
      "source": [
        "pd.set_option('display.max_rows', 100)\n",
        "pd.set_option('display.max_columns', 100)\n",
        "\n",
        "tempdir = tempfile.gettempdir()"
      ],
      "execution_count": 4,
      "outputs": []
    },
    {
      "cell_type": "code",
      "metadata": {
        "id": "eQTvbiXI65JW",
        "colab_type": "code",
        "colab": {
          "base_uri": "https://localhost:8080/",
          "height": 430
        },
        "outputId": "9ec16bb4-e0a2-4d76-96af-e4339ea36752"
      },
      "source": [
        "df = pd.read_csv('gs://fin-datasets-aml/data/sp500/spdfm.csv')\n",
        "df.set_index('datetime', inplace=True)\n",
        "df.head()"
      ],
      "execution_count": 5,
      "outputs": [
        {
          "output_type": "execute_result",
          "data": {
            "text/html": [
              "<div>\n",
              "<style scoped>\n",
              "    .dataframe tbody tr th:only-of-type {\n",
              "        vertical-align: middle;\n",
              "    }\n",
              "\n",
              "    .dataframe tbody tr th {\n",
              "        vertical-align: top;\n",
              "    }\n",
              "\n",
              "    .dataframe thead th {\n",
              "        text-align: right;\n",
              "    }\n",
              "</style>\n",
              "<table border=\"1\" class=\"dataframe\">\n",
              "  <thead>\n",
              "    <tr style=\"text-align: right;\">\n",
              "      <th></th>\n",
              "      <th>MMM</th>\n",
              "      <th>ABT</th>\n",
              "      <th>ABBV</th>\n",
              "      <th>ABMD</th>\n",
              "      <th>ACN</th>\n",
              "      <th>ATVI</th>\n",
              "      <th>ADBE</th>\n",
              "      <th>AMD</th>\n",
              "      <th>AAP</th>\n",
              "      <th>AES</th>\n",
              "      <th>AFL</th>\n",
              "      <th>A</th>\n",
              "      <th>APD</th>\n",
              "      <th>AKAM</th>\n",
              "      <th>ALK</th>\n",
              "      <th>ALB</th>\n",
              "      <th>ARE</th>\n",
              "      <th>ALXN</th>\n",
              "      <th>ALGN</th>\n",
              "      <th>ALLE</th>\n",
              "      <th>LNT</th>\n",
              "      <th>ALL</th>\n",
              "      <th>GOOGL</th>\n",
              "      <th>GOOG</th>\n",
              "      <th>MO</th>\n",
              "      <th>AMZN</th>\n",
              "      <th>AMCR</th>\n",
              "      <th>AEE</th>\n",
              "      <th>AAL</th>\n",
              "      <th>AEP</th>\n",
              "      <th>AXP</th>\n",
              "      <th>AIG</th>\n",
              "      <th>AMT</th>\n",
              "      <th>AWK</th>\n",
              "      <th>AMP</th>\n",
              "      <th>ABC</th>\n",
              "      <th>AME</th>\n",
              "      <th>AMGN</th>\n",
              "      <th>APH</th>\n",
              "      <th>ADI</th>\n",
              "      <th>ANSS</th>\n",
              "      <th>ANTM</th>\n",
              "      <th>AON</th>\n",
              "      <th>AOS</th>\n",
              "      <th>APA</th>\n",
              "      <th>AIV</th>\n",
              "      <th>AAPL</th>\n",
              "      <th>AMAT</th>\n",
              "      <th>APTV</th>\n",
              "      <th>ADM</th>\n",
              "      <th>...</th>\n",
              "      <th>USB</th>\n",
              "      <th>UAA</th>\n",
              "      <th>UA</th>\n",
              "      <th>UNP</th>\n",
              "      <th>UAL</th>\n",
              "      <th>UNH</th>\n",
              "      <th>UPS</th>\n",
              "      <th>URI</th>\n",
              "      <th>UHS</th>\n",
              "      <th>UNM</th>\n",
              "      <th>VFC</th>\n",
              "      <th>VLO</th>\n",
              "      <th>VAR</th>\n",
              "      <th>VTR</th>\n",
              "      <th>VRSN</th>\n",
              "      <th>VRSK</th>\n",
              "      <th>VZ</th>\n",
              "      <th>VRTX</th>\n",
              "      <th>VIAC</th>\n",
              "      <th>V</th>\n",
              "      <th>VNO</th>\n",
              "      <th>VMC</th>\n",
              "      <th>WRB</th>\n",
              "      <th>WAB</th>\n",
              "      <th>WMT</th>\n",
              "      <th>WBA</th>\n",
              "      <th>DIS</th>\n",
              "      <th>WM</th>\n",
              "      <th>WAT</th>\n",
              "      <th>WEC</th>\n",
              "      <th>WFC</th>\n",
              "      <th>WELL</th>\n",
              "      <th>WST</th>\n",
              "      <th>WDC</th>\n",
              "      <th>WU</th>\n",
              "      <th>WRK</th>\n",
              "      <th>WY</th>\n",
              "      <th>WHR</th>\n",
              "      <th>WMB</th>\n",
              "      <th>WLTW</th>\n",
              "      <th>WYNN</th>\n",
              "      <th>XEL</th>\n",
              "      <th>XRX</th>\n",
              "      <th>XLNX</th>\n",
              "      <th>XYL</th>\n",
              "      <th>YUM</th>\n",
              "      <th>ZBRA</th>\n",
              "      <th>ZBH</th>\n",
              "      <th>ZION</th>\n",
              "      <th>ZTS</th>\n",
              "    </tr>\n",
              "    <tr>\n",
              "      <th>datetime</th>\n",
              "      <th></th>\n",
              "      <th></th>\n",
              "      <th></th>\n",
              "      <th></th>\n",
              "      <th></th>\n",
              "      <th></th>\n",
              "      <th></th>\n",
              "      <th></th>\n",
              "      <th></th>\n",
              "      <th></th>\n",
              "      <th></th>\n",
              "      <th></th>\n",
              "      <th></th>\n",
              "      <th></th>\n",
              "      <th></th>\n",
              "      <th></th>\n",
              "      <th></th>\n",
              "      <th></th>\n",
              "      <th></th>\n",
              "      <th></th>\n",
              "      <th></th>\n",
              "      <th></th>\n",
              "      <th></th>\n",
              "      <th></th>\n",
              "      <th></th>\n",
              "      <th></th>\n",
              "      <th></th>\n",
              "      <th></th>\n",
              "      <th></th>\n",
              "      <th></th>\n",
              "      <th></th>\n",
              "      <th></th>\n",
              "      <th></th>\n",
              "      <th></th>\n",
              "      <th></th>\n",
              "      <th></th>\n",
              "      <th></th>\n",
              "      <th></th>\n",
              "      <th></th>\n",
              "      <th></th>\n",
              "      <th></th>\n",
              "      <th></th>\n",
              "      <th></th>\n",
              "      <th></th>\n",
              "      <th></th>\n",
              "      <th></th>\n",
              "      <th></th>\n",
              "      <th></th>\n",
              "      <th></th>\n",
              "      <th></th>\n",
              "      <th></th>\n",
              "      <th></th>\n",
              "      <th></th>\n",
              "      <th></th>\n",
              "      <th></th>\n",
              "      <th></th>\n",
              "      <th></th>\n",
              "      <th></th>\n",
              "      <th></th>\n",
              "      <th></th>\n",
              "      <th></th>\n",
              "      <th></th>\n",
              "      <th></th>\n",
              "      <th></th>\n",
              "      <th></th>\n",
              "      <th></th>\n",
              "      <th></th>\n",
              "      <th></th>\n",
              "      <th></th>\n",
              "      <th></th>\n",
              "      <th></th>\n",
              "      <th></th>\n",
              "      <th></th>\n",
              "      <th></th>\n",
              "      <th></th>\n",
              "      <th></th>\n",
              "      <th></th>\n",
              "      <th></th>\n",
              "      <th></th>\n",
              "      <th></th>\n",
              "      <th></th>\n",
              "      <th></th>\n",
              "      <th></th>\n",
              "      <th></th>\n",
              "      <th></th>\n",
              "      <th></th>\n",
              "      <th></th>\n",
              "      <th></th>\n",
              "      <th></th>\n",
              "      <th></th>\n",
              "      <th></th>\n",
              "      <th></th>\n",
              "      <th></th>\n",
              "      <th></th>\n",
              "      <th></th>\n",
              "      <th></th>\n",
              "      <th></th>\n",
              "      <th></th>\n",
              "      <th></th>\n",
              "      <th></th>\n",
              "      <th></th>\n",
              "    </tr>\n",
              "  </thead>\n",
              "  <tbody>\n",
              "    <tr>\n",
              "      <th>2020-09-04 19:59:00</th>\n",
              "      <td>0.000724</td>\n",
              "      <td>-0.000096</td>\n",
              "      <td>0.000871</td>\n",
              "      <td>-0.000834</td>\n",
              "      <td>-0.001144</td>\n",
              "      <td>-0.001139</td>\n",
              "      <td>-0.001586</td>\n",
              "      <td>-0.001829</td>\n",
              "      <td>0.000325</td>\n",
              "      <td>-0.001139</td>\n",
              "      <td>0.001189</td>\n",
              "      <td>-0.000103</td>\n",
              "      <td>0.000101</td>\n",
              "      <td>-0.000623</td>\n",
              "      <td>-0.002205</td>\n",
              "      <td>-0.000634</td>\n",
              "      <td>-0.000962</td>\n",
              "      <td>-0.000443</td>\n",
              "      <td>-0.000939</td>\n",
              "      <td>-0.001104</td>\n",
              "      <td>-0.000375</td>\n",
              "      <td>-0.000426</td>\n",
              "      <td>0.000013</td>\n",
              "      <td>-0.000811</td>\n",
              "      <td>-0.000115</td>\n",
              "      <td>-0.000401</td>\n",
              "      <td>0.002269</td>\n",
              "      <td>-0.000507</td>\n",
              "      <td>-0.001395</td>\n",
              "      <td>-0.000380</td>\n",
              "      <td>0.000568</td>\n",
              "      <td>0.001174</td>\n",
              "      <td>-0.000960</td>\n",
              "      <td>-0.000070</td>\n",
              "      <td>-0.000447</td>\n",
              "      <td>-0.000518</td>\n",
              "      <td>-0.000302</td>\n",
              "      <td>-0.000805</td>\n",
              "      <td>-0.000830</td>\n",
              "      <td>0.000681</td>\n",
              "      <td>-0.000405</td>\n",
              "      <td>0.000253</td>\n",
              "      <td>-0.001036</td>\n",
              "      <td>0.000309</td>\n",
              "      <td>0.000342</td>\n",
              "      <td>-0.000534</td>\n",
              "      <td>-0.001861</td>\n",
              "      <td>-0.001148</td>\n",
              "      <td>0.000232</td>\n",
              "      <td>0.000538</td>\n",
              "      <td>...</td>\n",
              "      <td>0.000522</td>\n",
              "      <td>0.001437</td>\n",
              "      <td>0.000000</td>\n",
              "      <td>-0.000105</td>\n",
              "      <td>-0.001701</td>\n",
              "      <td>-0.001090</td>\n",
              "      <td>-0.000156</td>\n",
              "      <td>-0.000397</td>\n",
              "      <td>-0.000528</td>\n",
              "      <td>-0.001257</td>\n",
              "      <td>-0.000147</td>\n",
              "      <td>-0.000293</td>\n",
              "      <td>-0.000748</td>\n",
              "      <td>-0.001122</td>\n",
              "      <td>-0.000737</td>\n",
              "      <td>-0.000109</td>\n",
              "      <td>0.000909</td>\n",
              "      <td>-0.000413</td>\n",
              "      <td>-0.000347</td>\n",
              "      <td>-0.000244</td>\n",
              "      <td>-0.000544</td>\n",
              "      <td>-0.000320</td>\n",
              "      <td>0.000000</td>\n",
              "      <td>0.000435</td>\n",
              "      <td>-0.000420</td>\n",
              "      <td>-0.001084</td>\n",
              "      <td>0.000303</td>\n",
              "      <td>0.000450</td>\n",
              "      <td>-0.000874</td>\n",
              "      <td>0.000207</td>\n",
              "      <td>0.001614</td>\n",
              "      <td>0.001226</td>\n",
              "      <td>-0.001214</td>\n",
              "      <td>-0.000524</td>\n",
              "      <td>-0.002171</td>\n",
              "      <td>-0.001844</td>\n",
              "      <td>-0.001377</td>\n",
              "      <td>-0.000476</td>\n",
              "      <td>-0.001209</td>\n",
              "      <td>-0.000624</td>\n",
              "      <td>0.000684</td>\n",
              "      <td>-0.000571</td>\n",
              "      <td>0.000268</td>\n",
              "      <td>-0.000689</td>\n",
              "      <td>-0.000733</td>\n",
              "      <td>0.001155</td>\n",
              "      <td>0.000902</td>\n",
              "      <td>-0.002040</td>\n",
              "      <td>0.000148</td>\n",
              "      <td>-0.000636</td>\n",
              "    </tr>\n",
              "    <tr>\n",
              "      <th>2020-09-04 19:58:00</th>\n",
              "      <td>-0.000664</td>\n",
              "      <td>-0.000576</td>\n",
              "      <td>-0.000763</td>\n",
              "      <td>-0.000435</td>\n",
              "      <td>-0.000719</td>\n",
              "      <td>-0.001201</td>\n",
              "      <td>-0.001157</td>\n",
              "      <td>-0.000974</td>\n",
              "      <td>-0.000065</td>\n",
              "      <td>0.000284</td>\n",
              "      <td>-0.000529</td>\n",
              "      <td>-0.000516</td>\n",
              "      <td>0.000034</td>\n",
              "      <td>-0.000024</td>\n",
              "      <td>0.000367</td>\n",
              "      <td>-0.001584</td>\n",
              "      <td>-0.000901</td>\n",
              "      <td>-0.000265</td>\n",
              "      <td>0.000097</td>\n",
              "      <td>-0.000401</td>\n",
              "      <td>-0.000563</td>\n",
              "      <td>-0.000959</td>\n",
              "      <td>-0.000835</td>\n",
              "      <td>-0.001093</td>\n",
              "      <td>-0.001150</td>\n",
              "      <td>-0.000488</td>\n",
              "      <td>-0.001819</td>\n",
              "      <td>-0.000759</td>\n",
              "      <td>0.000293</td>\n",
              "      <td>-0.000759</td>\n",
              "      <td>-0.001515</td>\n",
              "      <td>-0.000672</td>\n",
              "      <td>-0.001159</td>\n",
              "      <td>-0.000140</td>\n",
              "      <td>-0.000830</td>\n",
              "      <td>-0.000724</td>\n",
              "      <td>-0.000402</td>\n",
              "      <td>-0.000724</td>\n",
              "      <td>-0.001013</td>\n",
              "      <td>-0.000341</td>\n",
              "      <td>-0.000467</td>\n",
              "      <td>-0.000652</td>\n",
              "      <td>-0.000690</td>\n",
              "      <td>-0.001132</td>\n",
              "      <td>-0.000685</td>\n",
              "      <td>-0.000534</td>\n",
              "      <td>-0.002931</td>\n",
              "      <td>-0.000819</td>\n",
              "      <td>-0.001160</td>\n",
              "      <td>-0.000215</td>\n",
              "      <td>...</td>\n",
              "      <td>-0.000783</td>\n",
              "      <td>-0.000480</td>\n",
              "      <td>0.000000</td>\n",
              "      <td>-0.001098</td>\n",
              "      <td>0.000131</td>\n",
              "      <td>-0.001793</td>\n",
              "      <td>-0.001089</td>\n",
              "      <td>-0.001360</td>\n",
              "      <td>-0.001760</td>\n",
              "      <td>-0.001506</td>\n",
              "      <td>-0.001612</td>\n",
              "      <td>0.000390</td>\n",
              "      <td>0.000000</td>\n",
              "      <td>-0.001569</td>\n",
              "      <td>0.000000</td>\n",
              "      <td>-0.000985</td>\n",
              "      <td>-0.001489</td>\n",
              "      <td>-0.000188</td>\n",
              "      <td>0.000000</td>\n",
              "      <td>-0.001026</td>\n",
              "      <td>-0.000815</td>\n",
              "      <td>-0.002159</td>\n",
              "      <td>-0.001335</td>\n",
              "      <td>0.000145</td>\n",
              "      <td>-0.000385</td>\n",
              "      <td>-0.000271</td>\n",
              "      <td>-0.001516</td>\n",
              "      <td>-0.000720</td>\n",
              "      <td>0.000340</td>\n",
              "      <td>-0.000726</td>\n",
              "      <td>-0.000808</td>\n",
              "      <td>-0.002374</td>\n",
              "      <td>-0.001818</td>\n",
              "      <td>-0.001834</td>\n",
              "      <td>0.000000</td>\n",
              "      <td>-0.001688</td>\n",
              "      <td>-0.000860</td>\n",
              "      <td>-0.001637</td>\n",
              "      <td>0.000241</td>\n",
              "      <td>-0.001007</td>\n",
              "      <td>-0.000114</td>\n",
              "      <td>-0.000856</td>\n",
              "      <td>-0.000536</td>\n",
              "      <td>-0.000393</td>\n",
              "      <td>-0.000305</td>\n",
              "      <td>-0.001104</td>\n",
              "      <td>-0.000691</td>\n",
              "      <td>-0.000750</td>\n",
              "      <td>-0.000594</td>\n",
              "      <td>-0.000381</td>\n",
              "    </tr>\n",
              "    <tr>\n",
              "      <th>2020-09-04 19:57:00</th>\n",
              "      <td>-0.000664</td>\n",
              "      <td>0.000192</td>\n",
              "      <td>-0.000327</td>\n",
              "      <td>0.000036</td>\n",
              "      <td>0.000085</td>\n",
              "      <td>0.000379</td>\n",
              "      <td>0.001014</td>\n",
              "      <td>0.000730</td>\n",
              "      <td>0.000650</td>\n",
              "      <td>0.000000</td>\n",
              "      <td>0.000529</td>\n",
              "      <td>-0.000323</td>\n",
              "      <td>-0.000168</td>\n",
              "      <td>-0.001013</td>\n",
              "      <td>-0.000245</td>\n",
              "      <td>0.000053</td>\n",
              "      <td>0.000480</td>\n",
              "      <td>0.000000</td>\n",
              "      <td>0.000000</td>\n",
              "      <td>-0.000902</td>\n",
              "      <td>-0.000469</td>\n",
              "      <td>0.000000</td>\n",
              "      <td>0.000246</td>\n",
              "      <td>0.000737</td>\n",
              "      <td>0.000115</td>\n",
              "      <td>0.000773</td>\n",
              "      <td>0.000000</td>\n",
              "      <td>0.000443</td>\n",
              "      <td>-0.000733</td>\n",
              "      <td>-0.000632</td>\n",
              "      <td>-0.000095</td>\n",
              "      <td>0.000000</td>\n",
              "      <td>0.000479</td>\n",
              "      <td>-0.000384</td>\n",
              "      <td>-0.001148</td>\n",
              "      <td>-0.000931</td>\n",
              "      <td>0.000000</td>\n",
              "      <td>-0.000161</td>\n",
              "      <td>-0.000276</td>\n",
              "      <td>-0.000170</td>\n",
              "      <td>0.000684</td>\n",
              "      <td>0.000290</td>\n",
              "      <td>0.000788</td>\n",
              "      <td>-0.000822</td>\n",
              "      <td>0.000685</td>\n",
              "      <td>-0.000133</td>\n",
              "      <td>-0.001152</td>\n",
              "      <td>-0.000164</td>\n",
              "      <td>0.000348</td>\n",
              "      <td>-0.000323</td>\n",
              "      <td>...</td>\n",
              "      <td>0.000261</td>\n",
              "      <td>-0.000479</td>\n",
              "      <td>0.000000</td>\n",
              "      <td>0.000026</td>\n",
              "      <td>0.000431</td>\n",
              "      <td>0.000735</td>\n",
              "      <td>0.000000</td>\n",
              "      <td>-0.000226</td>\n",
              "      <td>0.001054</td>\n",
              "      <td>0.001003</td>\n",
              "      <td>0.000000</td>\n",
              "      <td>-0.000293</td>\n",
              "      <td>0.000057</td>\n",
              "      <td>-0.000224</td>\n",
              "      <td>0.000295</td>\n",
              "      <td>-0.000383</td>\n",
              "      <td>0.000000</td>\n",
              "      <td>-0.000712</td>\n",
              "      <td>0.000000</td>\n",
              "      <td>0.000098</td>\n",
              "      <td>-0.000272</td>\n",
              "      <td>-0.000479</td>\n",
              "      <td>-0.000254</td>\n",
              "      <td>-0.000290</td>\n",
              "      <td>-0.000385</td>\n",
              "      <td>-0.000541</td>\n",
              "      <td>0.000378</td>\n",
              "      <td>0.000405</td>\n",
              "      <td>-0.000777</td>\n",
              "      <td>-0.000207</td>\n",
              "      <td>0.000606</td>\n",
              "      <td>0.000490</td>\n",
              "      <td>0.000038</td>\n",
              "      <td>0.000262</td>\n",
              "      <td>-0.000433</td>\n",
              "      <td>-0.000919</td>\n",
              "      <td>0.000344</td>\n",
              "      <td>0.000208</td>\n",
              "      <td>-0.000483</td>\n",
              "      <td>0.000479</td>\n",
              "      <td>0.001482</td>\n",
              "      <td>-0.000071</td>\n",
              "      <td>0.000804</td>\n",
              "      <td>0.000393</td>\n",
              "      <td>-0.000671</td>\n",
              "      <td>-0.000263</td>\n",
              "      <td>0.000000</td>\n",
              "      <td>0.000357</td>\n",
              "      <td>-0.000297</td>\n",
              "      <td>0.000064</td>\n",
              "    </tr>\n",
              "    <tr>\n",
              "      <th>2020-09-04 19:56:00</th>\n",
              "      <td>-0.000241</td>\n",
              "      <td>0.000192</td>\n",
              "      <td>0.000000</td>\n",
              "      <td>0.000054</td>\n",
              "      <td>-0.000127</td>\n",
              "      <td>-0.000190</td>\n",
              "      <td>0.000548</td>\n",
              "      <td>-0.002799</td>\n",
              "      <td>-0.000488</td>\n",
              "      <td>0.000853</td>\n",
              "      <td>-0.000529</td>\n",
              "      <td>-0.000554</td>\n",
              "      <td>0.000201</td>\n",
              "      <td>-0.001290</td>\n",
              "      <td>-0.000611</td>\n",
              "      <td>0.000369</td>\n",
              "      <td>-0.000600</td>\n",
              "      <td>0.000177</td>\n",
              "      <td>0.000776</td>\n",
              "      <td>0.000100</td>\n",
              "      <td>0.000092</td>\n",
              "      <td>0.000106</td>\n",
              "      <td>0.000003</td>\n",
              "      <td>-0.000555</td>\n",
              "      <td>0.000574</td>\n",
              "      <td>-0.001423</td>\n",
              "      <td>0.000000</td>\n",
              "      <td>-0.000569</td>\n",
              "      <td>0.001099</td>\n",
              "      <td>-0.000253</td>\n",
              "      <td>0.000000</td>\n",
              "      <td>-0.000168</td>\n",
              "      <td>-0.000958</td>\n",
              "      <td>-0.000244</td>\n",
              "      <td>0.000446</td>\n",
              "      <td>0.000000</td>\n",
              "      <td>-0.000402</td>\n",
              "      <td>0.000141</td>\n",
              "      <td>0.000460</td>\n",
              "      <td>-0.000936</td>\n",
              "      <td>-0.001082</td>\n",
              "      <td>-0.000907</td>\n",
              "      <td>-0.000690</td>\n",
              "      <td>0.000205</td>\n",
              "      <td>0.000000</td>\n",
              "      <td>0.000133</td>\n",
              "      <td>0.000247</td>\n",
              "      <td>-0.001064</td>\n",
              "      <td>-0.000580</td>\n",
              "      <td>0.000108</td>\n",
              "      <td>...</td>\n",
              "      <td>0.000653</td>\n",
              "      <td>0.000479</td>\n",
              "      <td>0.000536</td>\n",
              "      <td>0.000575</td>\n",
              "      <td>0.000254</td>\n",
              "      <td>-0.000256</td>\n",
              "      <td>0.000062</td>\n",
              "      <td>0.000792</td>\n",
              "      <td>-0.000264</td>\n",
              "      <td>-0.001004</td>\n",
              "      <td>0.000878</td>\n",
              "      <td>0.000390</td>\n",
              "      <td>-0.000029</td>\n",
              "      <td>0.000783</td>\n",
              "      <td>-0.001031</td>\n",
              "      <td>-0.000219</td>\n",
              "      <td>0.000165</td>\n",
              "      <td>-0.000487</td>\n",
              "      <td>0.001510</td>\n",
              "      <td>-0.000049</td>\n",
              "      <td>0.000543</td>\n",
              "      <td>0.000479</td>\n",
              "      <td>-0.000476</td>\n",
              "      <td>0.000724</td>\n",
              "      <td>-0.000140</td>\n",
              "      <td>0.000541</td>\n",
              "      <td>-0.000151</td>\n",
              "      <td>-0.000315</td>\n",
              "      <td>0.000727</td>\n",
              "      <td>0.000000</td>\n",
              "      <td>-0.000404</td>\n",
              "      <td>0.000000</td>\n",
              "      <td>-0.000681</td>\n",
              "      <td>-0.001046</td>\n",
              "      <td>0.000217</td>\n",
              "      <td>0.000459</td>\n",
              "      <td>-0.000172</td>\n",
              "      <td>-0.000565</td>\n",
              "      <td>0.001449</td>\n",
              "      <td>0.000096</td>\n",
              "      <td>0.000000</td>\n",
              "      <td>-0.000285</td>\n",
              "      <td>-0.000268</td>\n",
              "      <td>-0.001278</td>\n",
              "      <td>-0.000488</td>\n",
              "      <td>-0.000210</td>\n",
              "      <td>-0.000460</td>\n",
              "      <td>-0.000928</td>\n",
              "      <td>-0.000445</td>\n",
              "      <td>-0.000032</td>\n",
              "    </tr>\n",
              "    <tr>\n",
              "      <th>2020-09-04 19:55:00</th>\n",
              "      <td>-0.000362</td>\n",
              "      <td>0.000000</td>\n",
              "      <td>-0.000326</td>\n",
              "      <td>-0.000054</td>\n",
              "      <td>0.001057</td>\n",
              "      <td>0.000253</td>\n",
              "      <td>-0.000183</td>\n",
              "      <td>0.001335</td>\n",
              "      <td>-0.000553</td>\n",
              "      <td>0.000569</td>\n",
              "      <td>-0.000793</td>\n",
              "      <td>0.000180</td>\n",
              "      <td>0.000469</td>\n",
              "      <td>0.000736</td>\n",
              "      <td>0.000489</td>\n",
              "      <td>0.000357</td>\n",
              "      <td>0.000540</td>\n",
              "      <td>0.000796</td>\n",
              "      <td>-0.000453</td>\n",
              "      <td>0.000200</td>\n",
              "      <td>0.000377</td>\n",
              "      <td>0.000852</td>\n",
              "      <td>-0.002481</td>\n",
              "      <td>-0.001005</td>\n",
              "      <td>0.002414</td>\n",
              "      <td>0.000671</td>\n",
              "      <td>0.001362</td>\n",
              "      <td>0.000822</td>\n",
              "      <td>0.000367</td>\n",
              "      <td>0.000694</td>\n",
              "      <td>0.001135</td>\n",
              "      <td>-0.000504</td>\n",
              "      <td>0.000080</td>\n",
              "      <td>0.000035</td>\n",
              "      <td>-0.000191</td>\n",
              "      <td>0.000000</td>\n",
              "      <td>0.000351</td>\n",
              "      <td>0.001226</td>\n",
              "      <td>-0.000184</td>\n",
              "      <td>0.000000</td>\n",
              "      <td>0.000661</td>\n",
              "      <td>0.000327</td>\n",
              "      <td>0.000788</td>\n",
              "      <td>-0.000411</td>\n",
              "      <td>0.000343</td>\n",
              "      <td>0.000000</td>\n",
              "      <td>-0.001152</td>\n",
              "      <td>0.001227</td>\n",
              "      <td>-0.001043</td>\n",
              "      <td>0.000753</td>\n",
              "      <td>...</td>\n",
              "      <td>-0.000653</td>\n",
              "      <td>-0.001918</td>\n",
              "      <td>-0.001610</td>\n",
              "      <td>0.000209</td>\n",
              "      <td>-0.001077</td>\n",
              "      <td>0.001215</td>\n",
              "      <td>-0.000590</td>\n",
              "      <td>-0.000679</td>\n",
              "      <td>-0.000308</td>\n",
              "      <td>0.000501</td>\n",
              "      <td>0.000000</td>\n",
              "      <td>-0.000488</td>\n",
              "      <td>0.000891</td>\n",
              "      <td>-0.000336</td>\n",
              "      <td>-0.000932</td>\n",
              "      <td>0.000000</td>\n",
              "      <td>0.000587</td>\n",
              "      <td>0.001461</td>\n",
              "      <td>0.000748</td>\n",
              "      <td>0.000293</td>\n",
              "      <td>-0.000407</td>\n",
              "      <td>-0.000399</td>\n",
              "      <td>0.000634</td>\n",
              "      <td>-0.000797</td>\n",
              "      <td>0.001258</td>\n",
              "      <td>-0.000135</td>\n",
              "      <td>0.000008</td>\n",
              "      <td>0.000180</td>\n",
              "      <td>-0.000194</td>\n",
              "      <td>0.000829</td>\n",
              "      <td>0.000404</td>\n",
              "      <td>0.000082</td>\n",
              "      <td>0.000453</td>\n",
              "      <td>-0.001254</td>\n",
              "      <td>-0.000217</td>\n",
              "      <td>0.000612</td>\n",
              "      <td>-0.000515</td>\n",
              "      <td>-0.000505</td>\n",
              "      <td>-0.000484</td>\n",
              "      <td>0.001174</td>\n",
              "      <td>0.000228</td>\n",
              "      <td>0.000784</td>\n",
              "      <td>0.000000</td>\n",
              "      <td>-0.000295</td>\n",
              "      <td>0.000000</td>\n",
              "      <td>0.000000</td>\n",
              "      <td>0.000153</td>\n",
              "      <td>-0.000285</td>\n",
              "      <td>0.000148</td>\n",
              "      <td>0.000477</td>\n",
              "    </tr>\n",
              "  </tbody>\n",
              "</table>\n",
              "<p>5 rows × 505 columns</p>\n",
              "</div>"
            ],
            "text/plain": [
              "                          MMM       ABT      ABBV      ABMD       ACN  \\\n",
              "datetime                                                                \n",
              "2020-09-04 19:59:00  0.000724 -0.000096  0.000871 -0.000834 -0.001144   \n",
              "2020-09-04 19:58:00 -0.000664 -0.000576 -0.000763 -0.000435 -0.000719   \n",
              "2020-09-04 19:57:00 -0.000664  0.000192 -0.000327  0.000036  0.000085   \n",
              "2020-09-04 19:56:00 -0.000241  0.000192  0.000000  0.000054 -0.000127   \n",
              "2020-09-04 19:55:00 -0.000362  0.000000 -0.000326 -0.000054  0.001057   \n",
              "\n",
              "                         ATVI      ADBE       AMD       AAP       AES  \\\n",
              "datetime                                                                \n",
              "2020-09-04 19:59:00 -0.001139 -0.001586 -0.001829  0.000325 -0.001139   \n",
              "2020-09-04 19:58:00 -0.001201 -0.001157 -0.000974 -0.000065  0.000284   \n",
              "2020-09-04 19:57:00  0.000379  0.001014  0.000730  0.000650  0.000000   \n",
              "2020-09-04 19:56:00 -0.000190  0.000548 -0.002799 -0.000488  0.000853   \n",
              "2020-09-04 19:55:00  0.000253 -0.000183  0.001335 -0.000553  0.000569   \n",
              "\n",
              "                          AFL         A       APD      AKAM       ALK  \\\n",
              "datetime                                                                \n",
              "2020-09-04 19:59:00  0.001189 -0.000103  0.000101 -0.000623 -0.002205   \n",
              "2020-09-04 19:58:00 -0.000529 -0.000516  0.000034 -0.000024  0.000367   \n",
              "2020-09-04 19:57:00  0.000529 -0.000323 -0.000168 -0.001013 -0.000245   \n",
              "2020-09-04 19:56:00 -0.000529 -0.000554  0.000201 -0.001290 -0.000611   \n",
              "2020-09-04 19:55:00 -0.000793  0.000180  0.000469  0.000736  0.000489   \n",
              "\n",
              "                          ALB       ARE      ALXN      ALGN      ALLE  \\\n",
              "datetime                                                                \n",
              "2020-09-04 19:59:00 -0.000634 -0.000962 -0.000443 -0.000939 -0.001104   \n",
              "2020-09-04 19:58:00 -0.001584 -0.000901 -0.000265  0.000097 -0.000401   \n",
              "2020-09-04 19:57:00  0.000053  0.000480  0.000000  0.000000 -0.000902   \n",
              "2020-09-04 19:56:00  0.000369 -0.000600  0.000177  0.000776  0.000100   \n",
              "2020-09-04 19:55:00  0.000357  0.000540  0.000796 -0.000453  0.000200   \n",
              "\n",
              "                          LNT       ALL     GOOGL      GOOG        MO  \\\n",
              "datetime                                                                \n",
              "2020-09-04 19:59:00 -0.000375 -0.000426  0.000013 -0.000811 -0.000115   \n",
              "2020-09-04 19:58:00 -0.000563 -0.000959 -0.000835 -0.001093 -0.001150   \n",
              "2020-09-04 19:57:00 -0.000469  0.000000  0.000246  0.000737  0.000115   \n",
              "2020-09-04 19:56:00  0.000092  0.000106  0.000003 -0.000555  0.000574   \n",
              "2020-09-04 19:55:00  0.000377  0.000852 -0.002481 -0.001005  0.002414   \n",
              "\n",
              "                         AMZN      AMCR       AEE       AAL       AEP  \\\n",
              "datetime                                                                \n",
              "2020-09-04 19:59:00 -0.000401  0.002269 -0.000507 -0.001395 -0.000380   \n",
              "2020-09-04 19:58:00 -0.000488 -0.001819 -0.000759  0.000293 -0.000759   \n",
              "2020-09-04 19:57:00  0.000773  0.000000  0.000443 -0.000733 -0.000632   \n",
              "2020-09-04 19:56:00 -0.001423  0.000000 -0.000569  0.001099 -0.000253   \n",
              "2020-09-04 19:55:00  0.000671  0.001362  0.000822  0.000367  0.000694   \n",
              "\n",
              "                          AXP       AIG       AMT       AWK       AMP  \\\n",
              "datetime                                                                \n",
              "2020-09-04 19:59:00  0.000568  0.001174 -0.000960 -0.000070 -0.000447   \n",
              "2020-09-04 19:58:00 -0.001515 -0.000672 -0.001159 -0.000140 -0.000830   \n",
              "2020-09-04 19:57:00 -0.000095  0.000000  0.000479 -0.000384 -0.001148   \n",
              "2020-09-04 19:56:00  0.000000 -0.000168 -0.000958 -0.000244  0.000446   \n",
              "2020-09-04 19:55:00  0.001135 -0.000504  0.000080  0.000035 -0.000191   \n",
              "\n",
              "                          ABC       AME      AMGN       APH       ADI  \\\n",
              "datetime                                                                \n",
              "2020-09-04 19:59:00 -0.000518 -0.000302 -0.000805 -0.000830  0.000681   \n",
              "2020-09-04 19:58:00 -0.000724 -0.000402 -0.000724 -0.001013 -0.000341   \n",
              "2020-09-04 19:57:00 -0.000931  0.000000 -0.000161 -0.000276 -0.000170   \n",
              "2020-09-04 19:56:00  0.000000 -0.000402  0.000141  0.000460 -0.000936   \n",
              "2020-09-04 19:55:00  0.000000  0.000351  0.001226 -0.000184  0.000000   \n",
              "\n",
              "                         ANSS      ANTM       AON       AOS       APA  \\\n",
              "datetime                                                                \n",
              "2020-09-04 19:59:00 -0.000405  0.000253 -0.001036  0.000309  0.000342   \n",
              "2020-09-04 19:58:00 -0.000467 -0.000652 -0.000690 -0.001132 -0.000685   \n",
              "2020-09-04 19:57:00  0.000684  0.000290  0.000788 -0.000822  0.000685   \n",
              "2020-09-04 19:56:00 -0.001082 -0.000907 -0.000690  0.000205  0.000000   \n",
              "2020-09-04 19:55:00  0.000661  0.000327  0.000788 -0.000411  0.000343   \n",
              "\n",
              "                          AIV      AAPL      AMAT      APTV       ADM  ...  \\\n",
              "datetime                                                               ...   \n",
              "2020-09-04 19:59:00 -0.000534 -0.001861 -0.001148  0.000232  0.000538  ...   \n",
              "2020-09-04 19:58:00 -0.000534 -0.002931 -0.000819 -0.001160 -0.000215  ...   \n",
              "2020-09-04 19:57:00 -0.000133 -0.001152 -0.000164  0.000348 -0.000323  ...   \n",
              "2020-09-04 19:56:00  0.000133  0.000247 -0.001064 -0.000580  0.000108  ...   \n",
              "2020-09-04 19:55:00  0.000000 -0.001152  0.001227 -0.001043  0.000753  ...   \n",
              "\n",
              "                          USB       UAA        UA       UNP       UAL  \\\n",
              "datetime                                                                \n",
              "2020-09-04 19:59:00  0.000522  0.001437  0.000000 -0.000105 -0.001701   \n",
              "2020-09-04 19:58:00 -0.000783 -0.000480  0.000000 -0.001098  0.000131   \n",
              "2020-09-04 19:57:00  0.000261 -0.000479  0.000000  0.000026  0.000431   \n",
              "2020-09-04 19:56:00  0.000653  0.000479  0.000536  0.000575  0.000254   \n",
              "2020-09-04 19:55:00 -0.000653 -0.001918 -0.001610  0.000209 -0.001077   \n",
              "\n",
              "                          UNH       UPS       URI       UHS       UNM  \\\n",
              "datetime                                                                \n",
              "2020-09-04 19:59:00 -0.001090 -0.000156 -0.000397 -0.000528 -0.001257   \n",
              "2020-09-04 19:58:00 -0.001793 -0.001089 -0.001360 -0.001760 -0.001506   \n",
              "2020-09-04 19:57:00  0.000735  0.000000 -0.000226  0.001054  0.001003   \n",
              "2020-09-04 19:56:00 -0.000256  0.000062  0.000792 -0.000264 -0.001004   \n",
              "2020-09-04 19:55:00  0.001215 -0.000590 -0.000679 -0.000308  0.000501   \n",
              "\n",
              "                          VFC       VLO       VAR       VTR      VRSN  \\\n",
              "datetime                                                                \n",
              "2020-09-04 19:59:00 -0.000147 -0.000293 -0.000748 -0.001122 -0.000737   \n",
              "2020-09-04 19:58:00 -0.001612  0.000390  0.000000 -0.001569  0.000000   \n",
              "2020-09-04 19:57:00  0.000000 -0.000293  0.000057 -0.000224  0.000295   \n",
              "2020-09-04 19:56:00  0.000878  0.000390 -0.000029  0.000783 -0.001031   \n",
              "2020-09-04 19:55:00  0.000000 -0.000488  0.000891 -0.000336 -0.000932   \n",
              "\n",
              "                         VRSK        VZ      VRTX      VIAC         V  \\\n",
              "datetime                                                                \n",
              "2020-09-04 19:59:00 -0.000109  0.000909 -0.000413 -0.000347 -0.000244   \n",
              "2020-09-04 19:58:00 -0.000985 -0.001489 -0.000188  0.000000 -0.001026   \n",
              "2020-09-04 19:57:00 -0.000383  0.000000 -0.000712  0.000000  0.000098   \n",
              "2020-09-04 19:56:00 -0.000219  0.000165 -0.000487  0.001510 -0.000049   \n",
              "2020-09-04 19:55:00  0.000000  0.000587  0.001461  0.000748  0.000293   \n",
              "\n",
              "                          VNO       VMC       WRB       WAB       WMT  \\\n",
              "datetime                                                                \n",
              "2020-09-04 19:59:00 -0.000544 -0.000320  0.000000  0.000435 -0.000420   \n",
              "2020-09-04 19:58:00 -0.000815 -0.002159 -0.001335  0.000145 -0.000385   \n",
              "2020-09-04 19:57:00 -0.000272 -0.000479 -0.000254 -0.000290 -0.000385   \n",
              "2020-09-04 19:56:00  0.000543  0.000479 -0.000476  0.000724 -0.000140   \n",
              "2020-09-04 19:55:00 -0.000407 -0.000399  0.000634 -0.000797  0.001258   \n",
              "\n",
              "                          WBA       DIS        WM       WAT       WEC  \\\n",
              "datetime                                                                \n",
              "2020-09-04 19:59:00 -0.001084  0.000303  0.000450 -0.000874  0.000207   \n",
              "2020-09-04 19:58:00 -0.000271 -0.001516 -0.000720  0.000340 -0.000726   \n",
              "2020-09-04 19:57:00 -0.000541  0.000378  0.000405 -0.000777 -0.000207   \n",
              "2020-09-04 19:56:00  0.000541 -0.000151 -0.000315  0.000727  0.000000   \n",
              "2020-09-04 19:55:00 -0.000135  0.000008  0.000180 -0.000194  0.000829   \n",
              "\n",
              "                          WFC      WELL       WST       WDC        WU  \\\n",
              "datetime                                                                \n",
              "2020-09-04 19:59:00  0.001614  0.001226 -0.001214 -0.000524 -0.002171   \n",
              "2020-09-04 19:58:00 -0.000808 -0.002374 -0.001818 -0.001834  0.000000   \n",
              "2020-09-04 19:57:00  0.000606  0.000490  0.000038  0.000262 -0.000433   \n",
              "2020-09-04 19:56:00 -0.000404  0.000000 -0.000681 -0.001046  0.000217   \n",
              "2020-09-04 19:55:00  0.000404  0.000082  0.000453 -0.001254 -0.000217   \n",
              "\n",
              "                          WRK        WY       WHR       WMB      WLTW  \\\n",
              "datetime                                                                \n",
              "2020-09-04 19:59:00 -0.001844 -0.001377 -0.000476 -0.001209 -0.000624   \n",
              "2020-09-04 19:58:00 -0.001688 -0.000860 -0.001637  0.000241 -0.001007   \n",
              "2020-09-04 19:57:00 -0.000919  0.000344  0.000208 -0.000483  0.000479   \n",
              "2020-09-04 19:56:00  0.000459 -0.000172 -0.000565  0.001449  0.000096   \n",
              "2020-09-04 19:55:00  0.000612 -0.000515 -0.000505 -0.000484  0.001174   \n",
              "\n",
              "                         WYNN       XEL       XRX      XLNX       XYL  \\\n",
              "datetime                                                                \n",
              "2020-09-04 19:59:00  0.000684 -0.000571  0.000268 -0.000689 -0.000733   \n",
              "2020-09-04 19:58:00 -0.000114 -0.000856 -0.000536 -0.000393 -0.000305   \n",
              "2020-09-04 19:57:00  0.001482 -0.000071  0.000804  0.000393 -0.000671   \n",
              "2020-09-04 19:56:00  0.000000 -0.000285 -0.000268 -0.001278 -0.000488   \n",
              "2020-09-04 19:55:00  0.000228  0.000784  0.000000 -0.000295  0.000000   \n",
              "\n",
              "                          YUM      ZBRA       ZBH      ZION       ZTS  \n",
              "datetime                                                               \n",
              "2020-09-04 19:59:00  0.001155  0.000902 -0.002040  0.000148 -0.000636  \n",
              "2020-09-04 19:58:00 -0.001104 -0.000691 -0.000750 -0.000594 -0.000381  \n",
              "2020-09-04 19:57:00 -0.000263  0.000000  0.000357 -0.000297  0.000064  \n",
              "2020-09-04 19:56:00 -0.000210 -0.000460 -0.000928 -0.000445 -0.000032  \n",
              "2020-09-04 19:55:00  0.000000  0.000153 -0.000285  0.000148  0.000477  \n",
              "\n",
              "[5 rows x 505 columns]"
            ]
          },
          "metadata": {
            "tags": []
          },
          "execution_count": 5
        }
      ]
    },
    {
      "cell_type": "code",
      "metadata": {
        "id": "JpjoSIIf6OIZ",
        "colab_type": "code",
        "colab": {}
      },
      "source": [
        "X = df[::-1].to_numpy()"
      ],
      "execution_count": 6,
      "outputs": []
    },
    {
      "cell_type": "code",
      "metadata": {
        "id": "4QrwFBPi6OIb",
        "colab_type": "code",
        "colab": {
          "base_uri": "https://localhost:8080/",
          "height": 33
        },
        "outputId": "15aa3673-742c-433c-ae71-224131aa4ac5"
      },
      "source": [
        "X.shape"
      ],
      "execution_count": 7,
      "outputs": [
        {
          "output_type": "execute_result",
          "data": {
            "text/plain": [
              "(7792, 505)"
            ]
          },
          "metadata": {
            "tags": []
          },
          "execution_count": 7
        }
      ]
    },
    {
      "cell_type": "markdown",
      "metadata": {
        "id": "jnUuXl1V6OIe",
        "colab_type": "text"
      },
      "source": [
        "#### Build an environment to represent this movement"
      ]
    },
    {
      "cell_type": "code",
      "metadata": {
        "id": "3oeGuXNq6OIe",
        "colab_type": "code",
        "colab": {}
      },
      "source": [
        "class StockMarketEnv(py_environment.PyEnvironment):\n",
        "    '''\n",
        "    Observation: The observation should be a (90,505) matrix\n",
        "    Action: A (505) vector with probabilties from 0 1, max 10 are encoded as 1, all others are 0\n",
        "    Reward: dot product of the (505,1) top 10 choices with the next (1,505) returns\n",
        "    '''\n",
        "    def __init__(self, X):\n",
        "        self._action_spec = array_spec.BoundedArraySpec(\n",
        "                                    shape=(1020,), dtype=np.float32, minimum=0, maximum=1, name='action')\n",
        "        self._observation_spec = array_spec.BoundedArraySpec(\n",
        "                                    shape=(90,505), dtype=np.float32, minimum=-10, maximum=10 ,name='observation')\n",
        "        self._X = X\n",
        "        self._state = np.array(self._X[:90], dtype=np.float32)\n",
        "        self._i = 0\n",
        "        self._episode_ended = False\n",
        "\n",
        "    def action_spec(self):\n",
        "        return self._action_spec\n",
        "\n",
        "    def observation_spec(self):\n",
        "        return self._observation_spec\n",
        "\n",
        "    def _reset(self):\n",
        "        self._state = np.array(self._X[:90], dtype=np.float32) ## input array\n",
        "        self._i = 0\n",
        "        self._episode_ended = False\n",
        "        return ts.restart(self._state)\n",
        "\n",
        "    def _step(self, action):\n",
        "        '''\n",
        "        Given a state array:\n",
        "            - Choose the top ten stocks\n",
        "            - Compute the reward by taking the dot product\n",
        "            - Update the new state by taking the next timestep\n",
        "            - Return the ts.transition(new_state, reward, discount=1)\n",
        "        '''\n",
        "        if self._episode_ended:\n",
        "            return self.reset()\n",
        "        \n",
        "        action_state = action.copy()\n",
        "        # action_state[action_state.argsort()[-10:]] = 1\n",
        "        \n",
        "        # mask = np.ones(action_state.shape, bool)\n",
        "        # mask[action_state.argsort()[-10:]] = False\n",
        "        # action_state[mask] = 0\n",
        "        \n",
        "        reward_state = np.array(self._X[91+self._i], dtype=np.float64)\n",
        "        \n",
        "        ## modify for hold and sell\n",
        "        # reward = np.dot(reward_state, action_state)[0]\n",
        "        reward_pos = np.dot(reward_state, action_state[:505])\n",
        "        reward_neg = np.dot(-reward_state, action_state[515:])\n",
        "        reward = reward_pos + reward_neg\n",
        "        # 10 possible action states for holding cash, idx [505:515] -> zero reward\n",
        "        \n",
        "        self._i += 1\n",
        "        \n",
        "        if self._i + 91 >= self._X.shape[0]:\n",
        "            self._episode_ended = True\n",
        "        \n",
        "        self._state = np.array(self._X[self._i:90+self._i], dtype=np.float64)\n",
        "        \n",
        "        if self._episode_ended:\n",
        "            return ts.termination(np.array(self._state, dtype=np.float32), reward=np.array(reward, dtype=np.float32))\n",
        "        else:\n",
        "            return ts.transition(np.array(self._state, dtype=np.float32), reward=np.array(reward, dtype=np.float32), discount=1.0)"
      ],
      "execution_count": 8,
      "outputs": []
    },
    {
      "cell_type": "code",
      "metadata": {
        "id": "b3GEo5XA6OIg",
        "colab_type": "code",
        "colab": {}
      },
      "source": [
        "environment = StockMarketEnv(X)\n",
        "utils.validate_py_environment(environment, episodes=5)"
      ],
      "execution_count": 9,
      "outputs": []
    },
    {
      "cell_type": "markdown",
      "metadata": {
        "id": "FiQVPe-w6OIi",
        "colab_type": "text"
      },
      "source": [
        "##### Train a DQN to learn on it"
      ]
    },
    {
      "cell_type": "code",
      "metadata": {
        "id": "vKhQj07I8-MX",
        "colab_type": "code",
        "colab": {}
      },
      "source": [
        "# Important interval values for training speed\n",
        "# Set lower to increase speed of training \n",
        "\n",
        "num_iterations = 10000 # @param {type:\"integer\"}\n",
        "log_interval = 500 # @param {type:\"integer\"}=\n",
        "num_eval_episodes = 1 # @param {type:\"integer\"}\n",
        "eval_interval = 1000 # @param {type:\"integer\"}"
      ],
      "execution_count": 10,
      "outputs": []
    },
    {
      "cell_type": "code",
      "metadata": {
        "id": "aI8CjCKP6OIj",
        "colab_type": "code",
        "colab": {}
      },
      "source": [
        "initial_collect_steps = 10000 # @param {type:\"integer\"}\n",
        "collect_steps_per_iteration = 1 # @param {type:\"integer\"}\n",
        "replay_buffer_capacity = 10000 # @param {type:\"integer\"}\n",
        "\n",
        "batch_size = 256 # @param {type:\"integer\"}\n",
        "\n",
        "critic_learning_rate = 3e-4 # @param {type:\"number\"}\n",
        "actor_learning_rate = 3e-4 # @param {type:\"number\"}\n",
        "alpha_learning_rate = 3e-4 # @param {type:\"number\"}\n",
        "target_update_tau = 0.005 # @param {type:\"number\"}\n",
        "target_update_period = 1 # @param {type:\"number\"}\n",
        "gamma = 0.99 # @param {type:\"number\"}\n",
        "reward_scale_factor = 1.0 # @param {type:\"number\"}\n",
        "\n",
        "actor_fc_layer_params = (505, 1020)\n",
        "critic_joint_fc_layer_params = (505, 1020)\n",
        "\n",
        "\n",
        "\n",
        "policy_save_interval = 5000 # @param {type:\"integer\"}"
      ],
      "execution_count": 11,
      "outputs": []
    },
    {
      "cell_type": "code",
      "metadata": {
        "id": "IbxnI01V6OIl",
        "colab_type": "code",
        "colab": {
          "base_uri": "https://localhost:8080/",
          "height": 33
        },
        "outputId": "063de22b-a6b9-4c40-be00-40d60e562e53"
      },
      "source": [
        "X.shape[0], X.shape[0]//2"
      ],
      "execution_count": 12,
      "outputs": [
        {
          "output_type": "execute_result",
          "data": {
            "text/plain": [
              "(7792, 3896)"
            ]
          },
          "metadata": {
            "tags": []
          },
          "execution_count": 12
        }
      ]
    },
    {
      "cell_type": "code",
      "metadata": {
        "id": "C41tw48g6OIn",
        "colab_type": "code",
        "colab": {}
      },
      "source": [
        "# Code to produce tf environments\n",
        "# train_py_env = StockMarketEnv(X[:X.shape[0]//2])\n",
        "# eval_py_env = StockMarketEnv(X[X.shape[0]//2:])\n",
        "# train_env = tf_py_environment.TFPyEnvironment(train_py_env)\n",
        "# eval_env = tf_py_environment.TFPyEnvironment(eval_py_env)\n",
        "\n",
        "# Code to produce py environments \n",
        "train_env = StockMarketEnv(X[:X.shape[0]//2])\n",
        "eval_env = StockMarketEnv(X[X.shape[0]//2:])"
      ],
      "execution_count": 13,
      "outputs": []
    },
    {
      "cell_type": "code",
      "metadata": {
        "id": "fCygvxH_6OIs",
        "colab_type": "code",
        "colab": {
          "base_uri": "https://localhost:8080/",
          "height": 82
        },
        "outputId": "0813b453-3df6-45e9-9da1-8e8ed4b365f1"
      },
      "source": [
        "print('Observation Spec:')\n",
        "print(train_env.time_step_spec().observation)\n",
        "print('Action Spec:')\n",
        "print(train_env.action_spec())"
      ],
      "execution_count": 14,
      "outputs": [
        {
          "output_type": "stream",
          "text": [
            "Observation Spec:\n",
            "BoundedArraySpec(shape=(90, 505), dtype=dtype('float32'), name='observation', minimum=-10.0, maximum=10.0)\n",
            "Action Spec:\n",
            "BoundedArraySpec(shape=(1020,), dtype=dtype('float32'), name='action', minimum=0.0, maximum=1.0)\n"
          ],
          "name": "stdout"
        }
      ]
    },
    {
      "cell_type": "code",
      "metadata": {
        "id": "YcyFz4H46OIw",
        "colab_type": "code",
        "colab": {}
      },
      "source": [
        "use_gpu = False \n",
        "\n",
        "strategy = strategy_utils.get_strategy(tpu=False, use_gpu=use_gpu)"
      ],
      "execution_count": 15,
      "outputs": []
    },
    {
      "cell_type": "code",
      "metadata": {
        "id": "26HrgAyp6OIy",
        "colab_type": "code",
        "colab": {}
      },
      "source": [
        "observation_spec, action_spec, time_step_spec = (spec_utils.get_tensor_specs(train_env))\n",
        "\n",
        "with strategy.scope():\n",
        "    critic_net = critic_network.CriticNetwork((observation_spec, action_spec),\n",
        "                                            observation_fc_layer_params=None,\n",
        "                                            action_fc_layer_params=None,\n",
        "                                            joint_fc_layer_params=critic_joint_fc_layer_params,\n",
        "                                            kernel_initializer='glorot_uniform',\n",
        "                                            last_kernel_initializer='glorot_uniform')"
      ],
      "execution_count": 16,
      "outputs": []
    },
    {
      "cell_type": "code",
      "metadata": {
        "id": "n1BSlzeq6OI0",
        "colab_type": "code",
        "colab": {
          "base_uri": "https://localhost:8080/",
          "height": 33
        },
        "outputId": "7723472f-1a7e-4c99-c5cf-29b8af5f60f3"
      },
      "source": [
        "action_spec"
      ],
      "execution_count": 17,
      "outputs": [
        {
          "output_type": "execute_result",
          "data": {
            "text/plain": [
              "BoundedTensorSpec(shape=(1020,), dtype=tf.float32, name='action', minimum=array(0., dtype=float32), maximum=array(1., dtype=float32))"
            ]
          },
          "metadata": {
            "tags": []
          },
          "execution_count": 17
        }
      ]
    },
    {
      "cell_type": "code",
      "metadata": {
        "id": "iox-BtBq6OI2",
        "colab_type": "code",
        "colab": {
          "base_uri": "https://localhost:8080/",
          "height": 33
        },
        "outputId": "3dc12d89-e744-4c48-d161-f79fdacbaa08"
      },
      "source": [
        "observation_spec"
      ],
      "execution_count": 18,
      "outputs": [
        {
          "output_type": "execute_result",
          "data": {
            "text/plain": [
              "BoundedTensorSpec(shape=(90, 505), dtype=tf.float32, name='observation', minimum=array(-10., dtype=float32), maximum=array(10., dtype=float32))"
            ]
          },
          "metadata": {
            "tags": []
          },
          "execution_count": 18
        }
      ]
    },
    {
      "cell_type": "code",
      "metadata": {
        "id": "xdFSU2mg6OI4",
        "colab_type": "code",
        "colab": {
          "base_uri": "https://localhost:8080/",
          "height": 33
        },
        "outputId": "f903b8f6-1d07-44d0-eedb-06fbdd482b87"
      },
      "source": [
        "actor_fc_layer_params"
      ],
      "execution_count": 19,
      "outputs": [
        {
          "output_type": "execute_result",
          "data": {
            "text/plain": [
              "(505, 1020)"
            ]
          },
          "metadata": {
            "tags": []
          },
          "execution_count": 19
        }
      ]
    },
    {
      "cell_type": "code",
      "metadata": {
        "id": "k9hmG_ih6OI6",
        "colab_type": "code",
        "colab": {}
      },
      "source": [
        "with strategy.scope():\n",
        "    actor_net = actor_distribution_network.ActorDistributionNetwork(observation_spec,\n",
        "                                                                    action_spec,\n",
        "                                                                    fc_layer_params=actor_fc_layer_params,\n",
        "                                                                    continuous_projection_net=(\n",
        "                                              tanh_normal_projection_network.TanhNormalProjectionNetwork))"
      ],
      "execution_count": 20,
      "outputs": []
    },
    {
      "cell_type": "code",
      "metadata": {
        "id": "4ZNrQfK16OI8",
        "colab_type": "code",
        "colab": {
          "base_uri": "https://localhost:8080/",
          "height": 53
        },
        "outputId": "6f04de9f-03b7-42f6-f0ce-204a418d3ea7"
      },
      "source": [
        "time_step_spec"
      ],
      "execution_count": 21,
      "outputs": [
        {
          "output_type": "execute_result",
          "data": {
            "text/plain": [
              "TimeStep(step_type=TensorSpec(shape=(), dtype=tf.int32, name='step_type'), reward=TensorSpec(shape=(), dtype=tf.float32, name='reward'), discount=BoundedTensorSpec(shape=(), dtype=tf.float32, name='discount', minimum=array(0., dtype=float32), maximum=array(1., dtype=float32)), observation=BoundedTensorSpec(shape=(90, 505), dtype=tf.float32, name='observation', minimum=array(-10., dtype=float32), maximum=array(10., dtype=float32)))"
            ]
          },
          "metadata": {
            "tags": []
          },
          "execution_count": 21
        }
      ]
    },
    {
      "cell_type": "code",
      "metadata": {
        "id": "VGkzecjK6OI_",
        "colab_type": "code",
        "colab": {}
      },
      "source": [
        "with strategy.scope():\n",
        "    train_step = train_utils.create_train_step()\n",
        "\n",
        "    tf_agent = sac_agent.SacAgent(\n",
        "                                time_step_spec,\n",
        "                                action_spec,\n",
        "                                actor_network=actor_net,\n",
        "                                critic_network=critic_net,\n",
        "                                actor_optimizer=tf.compat.v1.train.AdamOptimizer(\n",
        "                                                                learning_rate=actor_learning_rate),\n",
        "                                critic_optimizer=tf.compat.v1.train.AdamOptimizer(\n",
        "                                                                learning_rate=critic_learning_rate),\n",
        "                                alpha_optimizer=tf.compat.v1.train.AdamOptimizer(\n",
        "                                                                learning_rate=alpha_learning_rate),\n",
        "                                target_update_tau=target_update_tau,\n",
        "                                target_update_period=target_update_period,\n",
        "                                td_errors_loss_fn=tf.math.squared_difference,\n",
        "                                gamma=gamma,\n",
        "                                reward_scale_factor=reward_scale_factor,\n",
        "                                train_step_counter=train_step)\n",
        "\n",
        "    tf_agent.initialize()"
      ],
      "execution_count": 22,
      "outputs": []
    },
    {
      "cell_type": "code",
      "metadata": {
        "id": "8gM1JEUN6OJB",
        "colab_type": "code",
        "colab": {}
      },
      "source": [
        "table_name = 'uniform_table'\n",
        "table = reverb.Table(\n",
        "    table_name,\n",
        "    max_size=replay_buffer_capacity,\n",
        "    sampler=reverb.selectors.Uniform(),\n",
        "    remover=reverb.selectors.Fifo(),\n",
        "    rate_limiter=reverb.rate_limiters.MinSize(1))\n",
        "\n",
        "reverb_server = reverb.Server([table])"
      ],
      "execution_count": 23,
      "outputs": []
    },
    {
      "cell_type": "code",
      "metadata": {
        "id": "O-qcDPy36OJC",
        "colab_type": "code",
        "colab": {}
      },
      "source": [
        "reverb_replay = reverb_replay_buffer.ReverbReplayBuffer(\n",
        "    tf_agent.collect_data_spec,\n",
        "    sequence_length=2,\n",
        "    table_name=table_name,\n",
        "    local_server=reverb_server)"
      ],
      "execution_count": 24,
      "outputs": []
    },
    {
      "cell_type": "code",
      "metadata": {
        "id": "aEVBb3Vy6OJF",
        "colab_type": "code",
        "colab": {}
      },
      "source": [
        "dataset = reverb_replay.as_dataset(\n",
        "      sample_batch_size=batch_size, num_steps=2).prefetch(50)\n",
        "experience_dataset_fn = lambda: dataset"
      ],
      "execution_count": 25,
      "outputs": []
    },
    {
      "cell_type": "code",
      "metadata": {
        "id": "v4Nx9XuX6OJG",
        "colab_type": "code",
        "colab": {}
      },
      "source": [
        "tf_eval_policy = tf_agent.policy\n",
        "eval_policy = py_tf_eager_policy.PyTFEagerPolicy(\n",
        "  tf_eval_policy, use_tf_function=True)"
      ],
      "execution_count": 26,
      "outputs": []
    },
    {
      "cell_type": "code",
      "metadata": {
        "id": "oNMwXs166OJI",
        "colab_type": "code",
        "colab": {}
      },
      "source": [
        "tf_collect_policy = tf_agent.collect_policy\n",
        "collect_policy = py_tf_eager_policy.PyTFEagerPolicy(\n",
        "  tf_collect_policy, use_tf_function=True)"
      ],
      "execution_count": 27,
      "outputs": []
    },
    {
      "cell_type": "code",
      "metadata": {
        "id": "8DVAbbe56OJK",
        "colab_type": "code",
        "colab": {}
      },
      "source": [
        "rb_observer = reverb_utils.ReverbAddTrajectoryObserver(\n",
        "  reverb_replay.py_client,\n",
        "  table_name,\n",
        "  sequence_length=2,\n",
        "  stride_length=1)"
      ],
      "execution_count": 28,
      "outputs": []
    },
    {
      "cell_type": "code",
      "metadata": {
        "id": "v74jTE1x6OJM",
        "colab_type": "code",
        "colab": {}
      },
      "source": [
        "random_policy = random_py_policy.RandomPyPolicy(\n",
        "  train_env.time_step_spec(), train_env.action_spec())"
      ],
      "execution_count": 29,
      "outputs": []
    },
    {
      "cell_type": "code",
      "metadata": {
        "id": "Ssnyf2ZI6OJO",
        "colab_type": "code",
        "colab": {}
      },
      "source": [
        "initial_collect_actor = actor.Actor(\n",
        "              train_env,\n",
        "              random_policy,\n",
        "              train_step,\n",
        "              steps_per_run=initial_collect_steps,\n",
        "              observers=[rb_observer])\n",
        "initial_collect_actor.run()"
      ],
      "execution_count": 30,
      "outputs": []
    },
    {
      "cell_type": "code",
      "metadata": {
        "id": "78nkhZQb6OJQ",
        "colab_type": "code",
        "colab": {}
      },
      "source": [
        "env_step_metric = py_metrics.EnvironmentSteps()\n",
        "collect_actor = actor.Actor(\n",
        "                  train_env,\n",
        "                  collect_policy,\n",
        "                  train_step,\n",
        "                  steps_per_run=1,\n",
        "                  metrics=actor.collect_metrics(10),\n",
        "                  summary_dir=os.path.join(tempdir, learner.TRAIN_DIR),\n",
        "                  observers=[rb_observer, env_step_metric])"
      ],
      "execution_count": 31,
      "outputs": []
    },
    {
      "cell_type": "code",
      "metadata": {
        "id": "yodc_CfJ6OJR",
        "colab_type": "code",
        "colab": {}
      },
      "source": [
        "eval_actor = actor.Actor(\n",
        "  eval_env,\n",
        "  eval_policy,\n",
        "  train_step,\n",
        "  episodes_per_run=num_eval_episodes,\n",
        "  metrics=actor.eval_metrics(num_eval_episodes),\n",
        "  summary_dir=os.path.join(tempdir, 'eval'),\n",
        ")"
      ],
      "execution_count": 32,
      "outputs": []
    },
    {
      "cell_type": "code",
      "metadata": {
        "id": "HcF7aCzv6OJT",
        "colab_type": "code",
        "colab": {
          "base_uri": "https://localhost:8080/",
          "height": 330
        },
        "outputId": "d35343e7-c60d-493a-b60f-162cef7ffd8f"
      },
      "source": [
        "saved_model_dir = os.path.join(tempdir, learner.POLICY_SAVED_MODEL_DIR)\n",
        "\n",
        "# Triggers to save the agent's policy checkpoints.\n",
        "learning_triggers = [\n",
        "    triggers.PolicySavedModelTrigger(\n",
        "        saved_model_dir,\n",
        "        tf_agent,\n",
        "        train_step,\n",
        "        interval=policy_save_interval),\n",
        "    triggers.StepPerSecondLogTrigger(train_step, interval=1000),\n",
        "]\n",
        "\n",
        "agent_learner = learner.Learner(\n",
        "  tempdir,\n",
        "  train_step,\n",
        "  tf_agent,\n",
        "  experience_dataset_fn,\n",
        "  triggers=learning_triggers)"
      ],
      "execution_count": 33,
      "outputs": [
        {
          "output_type": "stream",
          "text": [
            "WARNING:tensorflow:From /usr/local/lib/python3.6/dist-packages/tensorflow/python/ops/linalg/linear_operator_diag.py:166: calling LinearOperator.__init__ (from tensorflow.python.ops.linalg.linear_operator) with graph_parents is deprecated and will be removed in a future version.\n",
            "Instructions for updating:\n",
            "Do not pass `graph_parents`.  They will  no longer be used.\n"
          ],
          "name": "stdout"
        },
        {
          "output_type": "stream",
          "text": [
            "WARNING:absl:WARNING: Could not serialize policy.distribution() for policy \"<tf_agents.policies.actor_policy.ActorPolicy object at 0x7fb27ceedb38>\". Calling saved_model.distribution() will raise the following assertion error: Unable to make a CompositeTensor for \"tfp.distributions.SquashToSpecNormal(\"ActorDistributionNetwork_TanhNormalProjectionNetwork_SquashToSpecNormal\", dtype=float32)\" of type `<class 'tf_agents.distributions.utils.SquashToSpecNormal'>`. Email `tfprobability@tensorflow.org` or file an issue on github if you would benefit from this working. (Unable to convert dependent entry 'scale' of object 'tfp.distributions.SquashToSpecNormal(\"ActorDistributionNetwork_TanhNormalProjectionNetwork_SquashToSpecNormal\", dtype=float32)': Failed to convert object of type <class 'tensorflow.python.ops.linalg.linear_operator_diag.LinearOperatorDiag'> to Tensor. Contents: <tensorflow.python.ops.linalg.linear_operator_diag.LinearOperatorDiag object at 0x7fb27013d0f0>. Consider casting elements to a supported type.)\n",
            "WARNING:absl:WARNING: Could not serialize policy.distribution() for policy \"<tf_agents.policies.actor_policy.ActorPolicy object at 0x7fb27ceedb38>\". Calling saved_model.distribution() will raise the following assertion error: Unable to make a CompositeTensor for \"tfp.distributions.SquashToSpecNormal(\"ActorDistributionNetwork_TanhNormalProjectionNetwork_SquashToSpecNormal\", dtype=float32)\" of type `<class 'tf_agents.distributions.utils.SquashToSpecNormal'>`. Email `tfprobability@tensorflow.org` or file an issue on github if you would benefit from this working. (Unable to convert dependent entry 'scale' of object 'tfp.distributions.SquashToSpecNormal(\"ActorDistributionNetwork_TanhNormalProjectionNetwork_SquashToSpecNormal\", dtype=float32)': Failed to convert object of type <class 'tensorflow.python.ops.linalg.linear_operator_diag.LinearOperatorDiag'> to Tensor. Contents: <tensorflow.python.ops.linalg.linear_operator_diag.LinearOperatorDiag object at 0x7fb2700b1438>. Consider casting elements to a supported type.)\n",
            "WARNING:absl:WARNING: Could not serialize policy.distribution() for policy \"<tf_agents.policies.actor_policy.ActorPolicy object at 0x7fb27ceedb38>\". Calling saved_model.distribution() will raise the following assertion error: Unable to make a CompositeTensor for \"tfp.distributions.SquashToSpecNormal(\"ActorDistributionNetwork_TanhNormalProjectionNetwork_SquashToSpecNormal\", dtype=float32)\" of type `<class 'tf_agents.distributions.utils.SquashToSpecNormal'>`. Email `tfprobability@tensorflow.org` or file an issue on github if you would benefit from this working. (Unable to convert dependent entry 'scale' of object 'tfp.distributions.SquashToSpecNormal(\"ActorDistributionNetwork_TanhNormalProjectionNetwork_SquashToSpecNormal\", dtype=float32)': Failed to convert object of type <class 'tensorflow.python.ops.linalg.linear_operator_diag.LinearOperatorDiag'> to Tensor. Contents: <tensorflow.python.ops.linalg.linear_operator_diag.LinearOperatorDiag object at 0x7fb220124048>. Consider casting elements to a supported type.)\n"
          ],
          "name": "stderr"
        },
        {
          "output_type": "stream",
          "text": [
            "WARNING:tensorflow:From /usr/local/lib/python3.6/dist-packages/tensorflow/python/training/tracking/tracking.py:111: Layer.updates (from tensorflow.python.keras.engine.base_layer) is deprecated and will be removed in a future version.\n",
            "Instructions for updating:\n",
            "This property should not be used in TensorFlow 2.0, as updates are applied automatically.\n"
          ],
          "name": "stdout"
        },
        {
          "output_type": "stream",
          "text": [
            "WARNING:tensorflow:From /usr/local/lib/python3.6/dist-packages/tensorflow/python/training/tracking/tracking.py:111: Layer.updates (from tensorflow.python.keras.engine.base_layer) is deprecated and will be removed in a future version.\n",
            "Instructions for updating:\n",
            "This property should not be used in TensorFlow 2.0, as updates are applied automatically.\n"
          ],
          "name": "stderr"
        },
        {
          "output_type": "stream",
          "text": [
            "INFO:tensorflow:Assets written to: /tmp/policies/collect_policy/assets\n"
          ],
          "name": "stdout"
        },
        {
          "output_type": "stream",
          "text": [
            "INFO:tensorflow:Assets written to: /tmp/policies/collect_policy/assets\n"
          ],
          "name": "stderr"
        },
        {
          "output_type": "stream",
          "text": [
            "INFO:tensorflow:Assets written to: /tmp/policies/greedy_policy/assets\n"
          ],
          "name": "stdout"
        },
        {
          "output_type": "stream",
          "text": [
            "INFO:tensorflow:Assets written to: /tmp/policies/greedy_policy/assets\n"
          ],
          "name": "stderr"
        },
        {
          "output_type": "stream",
          "text": [
            "INFO:tensorflow:Assets written to: /tmp/policies/policy/assets\n"
          ],
          "name": "stdout"
        },
        {
          "output_type": "stream",
          "text": [
            "INFO:tensorflow:Assets written to: /tmp/policies/policy/assets\n"
          ],
          "name": "stderr"
        }
      ]
    },
    {
      "cell_type": "code",
      "metadata": {
        "id": "8p0RFzeQ6OJV",
        "colab_type": "code",
        "colab": {
          "base_uri": "https://localhost:8080/",
          "height": 50
        },
        "outputId": "97ee18ce-4167-4ca0-a5c6-99513c3f5ee2"
      },
      "source": [
        "%%time\n",
        "def get_eval_metrics():\n",
        "    eval_actor.run()\n",
        "    results = {}\n",
        "    for metric in eval_actor.metrics:\n",
        "        results[metric.name] = metric.result()\n",
        "    return results\n",
        "\n",
        "metrics = get_eval_metrics()"
      ],
      "execution_count": 34,
      "outputs": [
        {
          "output_type": "stream",
          "text": [
            "CPU times: user 7.19 s, sys: 763 ms, total: 7.95 s\n",
            "Wall time: 7.26 s\n"
          ],
          "name": "stdout"
        }
      ]
    },
    {
      "cell_type": "code",
      "metadata": {
        "id": "6zI3plJX6OJY",
        "colab_type": "code",
        "colab": {
          "base_uri": "https://localhost:8080/",
          "height": 66
        },
        "outputId": "1368e809-25ad-4c1e-e70e-2f048d29d807"
      },
      "source": [
        "%%time\n",
        "def log_eval_metrics(step, metrics):\n",
        "    eval_results = (', ').join(\n",
        "              '{} = {:.6f}'.format(name, result) for name, result in metrics.items())\n",
        "    print('step = {0}: {1}'.format(step, eval_results))\n",
        "\n",
        "log_eval_metrics(0, metrics)"
      ],
      "execution_count": 35,
      "outputs": [
        {
          "output_type": "stream",
          "text": [
            "step = 0: AverageReturn = 0.206583, AverageEpisodeLength = 3805.000000\n",
            "CPU times: user 104 µs, sys: 0 ns, total: 104 µs\n",
            "Wall time: 83 µs\n"
          ],
          "name": "stdout"
        }
      ]
    },
    {
      "cell_type": "code",
      "metadata": {
        "id": "lHcfpMpTBROF",
        "colab_type": "code",
        "colab": {
          "base_uri": "https://localhost:8080/",
          "height": 33
        },
        "outputId": "0184f184-a4a5-419e-d24e-46d533079f1d"
      },
      "source": [
        "training_params = [num_iterations,\n",
        "                    log_interval,\n",
        "                    num_eval_episodes,\n",
        "                    eval_interval]\n",
        "          \n",
        "print(training_params)"
      ],
      "execution_count": 36,
      "outputs": [
        {
          "output_type": "stream",
          "text": [
            "[10000, 500, 1, 1000]\n"
          ],
          "name": "stdout"
        }
      ]
    },
    {
      "cell_type": "code",
      "metadata": {
        "id": "DrUeXAbq6OJa",
        "colab_type": "code",
        "colab": {
          "base_uri": "https://localhost:8080/",
          "height": 862
        },
        "outputId": "dc9284da-7d59-4515-c719-b994d5ffee76"
      },
      "source": [
        "#@test {\"skip\": true}\n",
        "try:\n",
        "    %%time\n",
        "except:\n",
        "    pass\n",
        "\n",
        "start = time.time()\n",
        "# Reset the train step\n",
        "tf_agent.train_step_counter.assign(0)\n",
        "\n",
        "# Evaluate the agent's policy once before training.\n",
        "avg_return = metrics[\"AverageReturn\"]\n",
        "returns = [avg_return]\n",
        "\n",
        "for _ in range(num_iterations):\n",
        "    # Training.\n",
        "    collect_actor.run()\n",
        "    loss_info = agent_learner.run(iterations=1)\n",
        "\n",
        "    # Evaluating.\n",
        "    step = agent_learner.train_step_numpy\n",
        "\n",
        "    if eval_interval and step % eval_interval == 0:\n",
        "        metrics = get_eval_metrics()\n",
        "        log_eval_metrics(step, metrics)\n",
        "        returns.append(metrics[\"AverageReturn\"])\n",
        "\n",
        "    if log_interval and step % log_interval == 0:\n",
        "        print('step = {0}: loss = {1}'.format(step, loss_info.loss.numpy()))\n",
        "        minsec = divmod((time.time() - start), 60)\n",
        "        hourmin = divmod(minsec[0], 60)\n",
        "        print(f\"Time elasped: {int(hourmin[0])}:{int(hourmin[1])}:{minsec[1]}\")\n",
        "\n",
        "rb_observer.close()\n",
        "reverb_server.stop()"
      ],
      "execution_count": 37,
      "outputs": [
        {
          "output_type": "stream",
          "text": [
            "CPU times: user 2 µs, sys: 0 ns, total: 2 µs\n",
            "Wall time: 4.53 µs\n",
            "step = 500: loss = -29.44894027709961\n",
            "Time elasped: 0:2:34.26920986175537\n",
            "step = 1000: AverageReturn = -0.364483, AverageEpisodeLength = 3805.000000\n",
            "step = 1000: loss = -92.14077758789062\n",
            "Time elasped: 0:5:25.11727285385132\n",
            "step = 1500: loss = -157.8721160888672\n",
            "Time elasped: 0:7:42.90941262245178\n",
            "step = 2000: AverageReturn = 0.438228, AverageEpisodeLength = 3805.000000\n",
            "step = 2000: loss = -223.85740661621094\n",
            "Time elasped: 0:10:33.263901233673096\n",
            "step = 2500: loss = -292.36541748046875\n",
            "Time elasped: 0:12:51.088082790374756\n",
            "step = 3000: AverageReturn = -0.088640, AverageEpisodeLength = 3805.000000\n",
            "step = 3000: loss = -361.20361328125\n",
            "Time elasped: 0:15:39.91335844993591\n",
            "step = 3500: loss = -430.1346740722656\n",
            "Time elasped: 0:17:55.12560772895813\n",
            "step = 4000: AverageReturn = -0.377370, AverageEpisodeLength = 3805.000000\n",
            "step = 4000: loss = -500.90252685546875\n",
            "Time elasped: 0:20:42.597071170806885\n",
            "step = 4500: loss = -572.7539672851562\n",
            "Time elasped: 0:22:57.649070262908936\n",
            "step = 5000: AverageReturn = 0.612615, AverageEpisodeLength = 3805.000000\n",
            "step = 5000: loss = -640.4857177734375\n",
            "Time elasped: 0:25:45.229533195495605\n",
            "step = 5500: loss = -708.0704345703125\n",
            "Time elasped: 0:28:0.8213343620300293\n",
            "step = 6000: AverageReturn = -0.515563, AverageEpisodeLength = 3805.000000\n",
            "step = 6000: loss = -772.2386474609375\n",
            "Time elasped: 0:30:48.20230579376221\n",
            "step = 6500: loss = -841.2243041992188\n",
            "Time elasped: 0:33:3.9334940910339355\n",
            "step = 7000: AverageReturn = -0.502941, AverageEpisodeLength = 3805.000000\n",
            "step = 7000: loss = -902.29443359375\n",
            "Time elasped: 0:35:53.14023804664612\n",
            "step = 7500: loss = -960.0877685546875\n",
            "Time elasped: 0:38:8.711616039276123\n",
            "step = 8000: AverageReturn = -0.139147, AverageEpisodeLength = 3805.000000\n",
            "step = 8000: loss = -1019.1304931640625\n",
            "Time elasped: 0:40:57.38163661956787\n",
            "step = 8500: loss = -1083.420654296875\n",
            "Time elasped: 0:43:11.244409561157227\n",
            "step = 9000: AverageReturn = 0.200000, AverageEpisodeLength = 3805.000000\n",
            "step = 9000: loss = -1139.720947265625\n",
            "Time elasped: 0:45:57.02364945411682\n",
            "step = 9500: loss = -1124.57666015625\n",
            "Time elasped: 0:48:14.133395910263062\n",
            "step = 10000: AverageReturn = 0.811406, AverageEpisodeLength = 3805.000000\n",
            "step = 10000: loss = -1252.142822265625\n",
            "Time elasped: 0:51:1.8700995445251465\n"
          ],
          "name": "stdout"
        }
      ]
    },
    {
      "cell_type": "code",
      "metadata": {
        "id": "GmtrxGbo6OJb",
        "colab_type": "code",
        "colab": {
          "base_uri": "https://localhost:8080/",
          "height": 295
        },
        "outputId": "bee5e4fb-faf0-4a51-c845-6f853ebf36b7"
      },
      "source": [
        "#@test {\"skip\": true}\n",
        "\n",
        "steps = range(0, num_iterations + 1, eval_interval)\n",
        "plt.plot(steps, returns)\n",
        "plt.ylabel('Average Return')\n",
        "plt.xlabel('Step')\n",
        "plt.ylim()"
      ],
      "execution_count": 38,
      "outputs": [
        {
          "output_type": "execute_result",
          "data": {
            "text/plain": [
              "(-0.5819117248058319, 0.8777547299861908)"
            ]
          },
          "metadata": {
            "tags": []
          },
          "execution_count": 38
        },
        {
          "output_type": "display_data",
          "data": {
            "image/png": "[encoded data removed]",
            "text/plain": [
              "<Figure size 432x288 with 1 Axes>"
            ]
          },
          "metadata": {
            "tags": [],
            "needs_background": "light"
          }
        }
      ]
    },
    {
      "cell_type": "code",
      "metadata": {
        "id": "MYWwI0o_CD9c",
        "colab_type": "code",
        "colab": {}
      },
      "source": [
        "for metric in collect_actor.metrics:\n",
        "  print(f\"{metric.name} = {metric.result()}\")"
      ],
      "execution_count": 38,
      "outputs": []
    },
    {
      "cell_type": "code",
      "metadata": {
        "id": "M2fSUEvIYKvK",
        "colab_type": "code",
        "colab": {
          "base_uri": "https://localhost:8080/",
          "height": 33
        },
        "outputId": "b8020665-5068-4344-9301-1b4fa3e618d3"
      },
      "source": [
        "collect_actor.metrics[2].result()"
      ],
      "execution_count": 43,
      "outputs": [
        {
          "output_type": "execute_result",
          "data": {
            "text/plain": [
              "0.09385725"
            ]
          },
          "metadata": {
            "tags": []
          },
          "execution_count": 43
        }
      ]
    },
    {
      "cell_type": "code",
      "metadata": {
        "id": "7fDdoelycp4w",
        "colab_type": "code",
        "colab": {}
      },
      "source": [
        ""
      ],
      "execution_count": null,
      "outputs": []
    }
  ]
}