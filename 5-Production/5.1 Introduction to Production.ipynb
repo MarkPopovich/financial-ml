{
 "cells": [
  {
   "cell_type": "markdown",
   "metadata": {},
   "source": [
    "# 5.1 Introduction to Production\n",
    "\n",
    "In this section I will productionize the model I built in the proceeding sections. In order to do so I will need to functionalize almost everything I built, where it is essential to the process of making predictions. This will run the full gamut of the data science process. \n",
    "\n",
    "It will need to include the following aspects:  \n",
    "1)  Connect to the Ameritrade API   \n",
    "2)  Search for the top stocks for analysis  \n",
    "3)  Download the data for the top stocks   \n",
    "4)  Perform basic regression on top stock data to narrow the dataset further   \n",
    "5)  Generate png of top 30 stocks   \n",
    "6)  Perform ETL on stockset, including waveform fitting, transformations, finalize X and y matrices according to previous work  \n",
    "7)  Fit model ensuring 93% accuracy   \n",
    "8)  Generate predictions:    \n",
    "&emsp;&emsp;    8a)  Setup streaming API     \n",
    "&emsp;&emsp;    8b)  Feed live data to the model  \n",
    "&emsp;&emsp;    8c)  Act on the data by making predictions  \n",
    "&emsp;&emsp;    8d)  Send buy/sell transactions to the broker  "
   ]
  },
  {
   "cell_type": "code",
   "execution_count": null,
   "metadata": {},
   "outputs": [],
   "source": []
  }
 ],
 "metadata": {
  "kernelspec": {
   "display_name": "Python 3",
   "language": "python",
   "name": "python3"
  },
  "language_info": {
   "codemirror_mode": {
    "name": "ipython",
    "version": 3
   },
   "file_extension": ".py",
   "mimetype": "text/x-python",
   "name": "python",
   "nbconvert_exporter": "python",
   "pygments_lexer": "ipython3",
   "version": "3.8.5"
  }
 },
 "nbformat": 4,
 "nbformat_minor": 4
}
