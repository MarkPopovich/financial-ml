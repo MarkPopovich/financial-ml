{
 "cells": [
  {
   "cell_type": "markdown",
   "metadata": {},
   "source": [
    "# Feature Engineering \n",
    "\n",
    "In this notebook I will create new featurers and investigate for significant relationships with the target, tomorrow's percentage return. \n",
    "\n",
    "Features currently proposed for investigation include:\n",
    "\n",
    "- Winning / Losing Streaks in # of days\n",
    "- Polynomial Features, or multiplicative features as they seem appropriate\n",
    "- Sin(x) and other trigonometry features\n",
    "- Volume * Sin(return)\n",
    "- Potentially narrow the distribution, although on significance testing many of the distribution features appeared significant\n"
   ]
  },
  {
   "cell_type": "code",
   "execution_count": null,
   "metadata": {},
   "outputs": [],
   "source": [
    "import pandas as pd\n",
    "import numpy as np\n",
    "\n",
    "pd.set_option('display.max_columns', 500)"
   ]
  },
  {
   "cell_type": "code",
   "execution_count": null,
   "metadata": {},
   "outputs": [],
   "source": [
    "df = pd.read_pickle('./data/GOOG081320.pickle')"
   ]
  },
  {
   "cell_type": "code",
   "execution_count": null,
   "metadata": {},
   "outputs": [],
   "source": [
    "df.head()"
   ]
  },
  {
   "cell_type": "markdown",
   "metadata": {},
   "source": [
    "#### Extend basic features using base data\n",
    "\n",
    "So far I ignored open, high, low and focused only on close. \n",
    "\n",
    "Work done so far showed that most previous days returns were not correlated to tomorrows return, with the exception of yesterday and 30 days prior. This shows there may actually be periodicity in the 1 month interval. Options for feature engineering here are using sine wave. Another option is to investigate an ARIMA model. Let's leave the ARIMA model for later, prehaps even as an input for another model. \n",
    "\n",
    "##### Open, High, Low \n",
    "\n",
    "- Diffed OHL features\n",
    "- expression of % in min / max 30 day range, 0 - 100% "
   ]
  },
  {
   "cell_type": "code",
   "execution_count": null,
   "metadata": {},
   "outputs": [],
   "source": [
    "df['open_diff'] = df.loc[::-1, 'open'].diff(1)[::-1]"
   ]
  },
  {
   "cell_type": "code",
   "execution_count": null,
   "metadata": {},
   "outputs": [],
   "source": [
    "df['high_diff'] = df.loc[::-1, 'high'].diff(1)[::-1]\n",
    "df['low_diff'] = df.loc[::-1, 'low'].diff(1)[::-1]"
   ]
  },
  {
   "cell_type": "code",
   "execution_count": null,
   "metadata": {},
   "outputs": [],
   "source": [
    "df['volume_diff'] = df.loc[::-1, 'volume'].diff(1)[::-1]"
   ]
  },
  {
   "cell_type": "code",
   "execution_count": null,
   "metadata": {},
   "outputs": [],
   "source": [
    "df['close_diff'] = df.loc[::-1, 'close'].diff(1)[::-1]"
   ]
  },
  {
   "cell_type": "code",
   "execution_count": null,
   "metadata": {},
   "outputs": [],
   "source": [
    "df.head()"
   ]
  },
  {
   "cell_type": "code",
   "execution_count": null,
   "metadata": {},
   "outputs": [],
   "source": [
    "df[['volume','volume_diff']]"
   ]
  },
  {
   "cell_type": "code",
   "execution_count": null,
   "metadata": {},
   "outputs": [],
   "source": [
    "df.loc[::-1, 'close'].rolling(30).mean()[::-1]"
   ]
  },
  {
   "cell_type": "code",
   "execution_count": null,
   "metadata": {},
   "outputs": [],
   "source": [
    "df.loc[::-1, 'close'].rolling(30).std()[::-1]"
   ]
  },
  {
   "cell_type": "code",
   "execution_count": null,
   "metadata": {},
   "outputs": [],
   "source": [
    "df['close']"
   ]
  },
  {
   "cell_type": "code",
   "execution_count": null,
   "metadata": {},
   "outputs": [],
   "source": [
    "df['stds_from_mean_close'] = (df['close'] - df.loc[::-1, 'close'].rolling(30).mean()[::-1]) / df.loc[::-1, 'close'].rolling(30).std()[::-1]"
   ]
  },
  {
   "cell_type": "code",
   "execution_count": null,
   "metadata": {},
   "outputs": [],
   "source": [
    "df.head()"
   ]
  },
  {
   "cell_type": "code",
   "execution_count": null,
   "metadata": {},
   "outputs": [],
   "source": [
    "cols = ['open','high','low','close','volume']\n",
    "\n",
    "def calc_stds_from_mean(col):\n",
    "    return (col - col[::-1].rolling(30).mean()[::-1]) / col[::-1].rolling(30).std()[::-1]\n",
    "    \n",
    "calc_stds_from_mean(df['open'])"
   ]
  },
  {
   "cell_type": "code",
   "execution_count": null,
   "metadata": {},
   "outputs": [],
   "source": [
    "for col in cols:\n",
    "    df['stds_from_mean_'+col] = calc_stds_from_mean(df[col])\n",
    "df.head()"
   ]
  },
  {
   "cell_type": "markdown",
   "metadata": {},
   "source": [
    "#### Sine Wave and Multi-Features"
   ]
  },
  {
   "cell_type": "code",
   "execution_count": null,
   "metadata": {},
   "outputs": [],
   "source": [
    "df['pct_return_0'].shift()"
   ]
  },
  {
   "cell_type": "code",
   "execution_count": null,
   "metadata": {},
   "outputs": [],
   "source": [
    "df['pct_return_0'].values"
   ]
  },
  {
   "cell_type": "code",
   "execution_count": null,
   "metadata": {},
   "outputs": [],
   "source": [
    "np.sin(df['pct_return_0'].values)"
   ]
  },
  {
   "cell_type": "code",
   "execution_count": null,
   "metadata": {},
   "outputs": [],
   "source": [
    "import numpy as np \n",
    "import math \n",
    "  \n",
    "in_array = np.linspace(0, 2 * np.pi)\n",
    "print (\"Input array : \\n\", in_array) \n",
    "  \n",
    "Sin_Values = np.sin(in_array) \n",
    "print (\"\\nSine values : \\n\", Sin_Values) "
   ]
  },
  {
   "cell_type": "code",
   "execution_count": null,
   "metadata": {},
   "outputs": [],
   "source": [
    "import matplotlib.pyplot as plt \n",
    "\n",
    "plt.plot(in_array, Sin_Values)"
   ]
  },
  {
   "cell_type": "code",
   "execution_count": null,
   "metadata": {},
   "outputs": [],
   "source": [
    "np.sin([0.017])"
   ]
  },
  {
   "cell_type": "code",
   "execution_count": null,
   "metadata": {},
   "outputs": [],
   "source": [
    "in_array = df['pct_return_0'].values * 25\n",
    "print (\"Input array : \\n\", in_array) \n",
    "  \n",
    "Sin_Values = np.sin(in_array) \n",
    "print (\"\\nSine values : \\n\", Sin_Values) \n",
    "\n",
    "plt.scatter(in_array, Sin_Values)"
   ]
  },
  {
   "cell_type": "code",
   "execution_count": null,
   "metadata": {},
   "outputs": [],
   "source": [
    "df['pct_return_0'].describe()"
   ]
  },
  {
   "cell_type": "code",
   "execution_count": null,
   "metadata": {},
   "outputs": [],
   "source": [
    "df['pct_return_0']"
   ]
  },
  {
   "cell_type": "code",
   "execution_count": null,
   "metadata": {},
   "outputs": [],
   "source": [
    "plt.figure(figsize=(160,10)) ## figsize x, y // horizontal, vertical\n",
    "plt.plot(df.index[start_point:], df['pct_return_0'][start_point:])"
   ]
  },
  {
   "cell_type": "code",
   "execution_count": null,
   "metadata": {},
   "outputs": [],
   "source": [
    "time_sine = np.sin((df.index-4)/2)"
   ]
  },
  {
   "cell_type": "code",
   "execution_count": null,
   "metadata": {},
   "outputs": [],
   "source": [
    "time_sine = np.sin((df.index-4)/2) / 20\n",
    "start_point = int(len(df.index) - len(df.index)/64)\n",
    "print(start_point)\n",
    "\n",
    "plt.figure(figsize=(160,10)) ## figsize x, y // horizontal, vertical\n",
    "plt.plot(df.index[start_point:], df['pct_return_0'][start_point:], lw=2)\n",
    "plt.plot(df.index[start_point:], df['log_return'][start_point:], lw=2)\n",
    "plt.plot(df.index[start_point:], time_sine[start_point:], c='y', lw=2)"
   ]
  },
  {
   "cell_type": "code",
   "execution_count": null,
   "metadata": {},
   "outputs": [],
   "source": [
    "int(len(df.index) - len(df.index)/64)"
   ]
  },
  {
   "cell_type": "markdown",
   "metadata": {},
   "source": [
    "#### Thoughts on curvature of return\n",
    "\n",
    "From a visual perspective, I notice several features to this curve. \n",
    "\n",
    "1) It is very easy to fit a sine wave to the curve, to some degree.   \n",
    "2) The magnitude does fluctuate  \n",
    "3) The frequency seems to either change over time or not be completely accurate   \n",
    "\n",
    "##### Hypotheses:\n",
    "\n",
    "<u>1) Basic idea for a sine curve:</u>\n",
    "\n",
    "$$y = sin((x - b_1) / period) * magnitude$$\n",
    "\n",
    "$$return = sin((time - b_1) / period) * b_2 *magnitude$$\n",
    "\n",
    "Unknowns are magnitude and period\n",
    "\n",
    "<u>2) Magnitude may be related to volume</u>\n",
    "\n",
    "<u>3) Period can be inferred by fitting the most recent returns</u>\n",
    "   \n",
    "Solve for period:\n",
    "\n",
    "\n",
    "$$period = \\frac{(time - b_1)}{\\sin^-1(return / (b_2 * volume))}$$"
   ]
  },
  {
   "cell_type": "code",
   "execution_count": null,
   "metadata": {},
   "outputs": [],
   "source": [
    "df.head()"
   ]
  },
  {
   "cell_type": "code",
   "execution_count": null,
   "metadata": {},
   "outputs": [],
   "source": [
    "plt.plot(np.log(df['close'] / df['close'].shift(-1)))"
   ]
  },
  {
   "cell_type": "code",
   "execution_count": null,
   "metadata": {},
   "outputs": [],
   "source": [
    "df['zscaled_volume'] = (df['volume'] - df['volume'].mean()) / df['volume'].std() "
   ]
  },
  {
   "cell_type": "code",
   "execution_count": null,
   "metadata": {},
   "outputs": [],
   "source": [
    "volume_sine = np.sin((df.index-4)/2) / 30 * df['zscaled_volume']\n",
    "time_sine = np.sin((df.index-4)/2) / 20\n",
    "start_point = int(len(df.index) - len(df.index)/64)\n",
    "\n",
    "\n",
    "plt.figure(figsize=(160,10)) ## figsize x, y // horizontal, vertical\n",
    "plt.plot(df.index[start_point:], df['pct_return_0'][start_point:], lw=2)\n",
    "plt.plot(df.index[start_point:], time_sine[start_point:], c='y', lw=2)\n",
    "plt.title('Naive Sine Wave against returns of GOOG')\n",
    "\n",
    "\n",
    "plt.figure(figsize=(160,10)) ## figsize x, y // horizontal, vertical\n",
    "plt.plot(df.index[start_point:], df['pct_return_0'][start_point:], lw=2)\n",
    "plt.plot(df.index[start_point:], -volume_sine[start_point:], c='y', lw=2)\n",
    "plt.title('Naive Sine Wave multiplied by z_scaled Volume vs. returns of GOOG')"
   ]
  },
  {
   "cell_type": "code",
   "execution_count": null,
   "metadata": {},
   "outputs": [],
   "source": [
    "df.rename({'pct_change':'return'}, inplace=True, axis=1)"
   ]
  },
  {
   "cell_type": "code",
   "execution_count": null,
   "metadata": {},
   "outputs": [],
   "source": [
    "df.head()"
   ]
  },
  {
   "cell_type": "code",
   "execution_count": null,
   "metadata": {},
   "outputs": [],
   "source": [
    "df['return_mult_volume'] = df['return'] * df['zscaled_volume']"
   ]
  },
  {
   "cell_type": "code",
   "execution_count": null,
   "metadata": {},
   "outputs": [],
   "source": [
    "df['arcsin_return_mult_volume'] = np.arcsin(df['return_mult_volume'])"
   ]
  },
  {
   "cell_type": "code",
   "execution_count": null,
   "metadata": {},
   "outputs": [],
   "source": [
    "df['arcsin_return_mult_volume']"
   ]
  },
  {
   "cell_type": "code",
   "execution_count": null,
   "metadata": {},
   "outputs": [],
   "source": [
    "target = df.index.values"
   ]
  },
  {
   "cell_type": "code",
   "execution_count": null,
   "metadata": {},
   "outputs": [],
   "source": [
    "X = df['arcsin_return_mult_volume']"
   ]
  },
  {
   "cell_type": "code",
   "execution_count": null,
   "metadata": {},
   "outputs": [],
   "source": [
    "import statsmodels.api as sm\n",
    "\n",
    "X = sm.add_constant(X)\n",
    "X"
   ]
  },
  {
   "cell_type": "code",
   "execution_count": null,
   "metadata": {},
   "outputs": [],
   "source": [
    "X.dropna(inplace=True)"
   ]
  },
  {
   "cell_type": "code",
   "execution_count": null,
   "metadata": {},
   "outputs": [],
   "source": [
    "target[X.index].shape, X.shape"
   ]
  },
  {
   "cell_type": "code",
   "execution_count": null,
   "metadata": {},
   "outputs": [],
   "source": [
    "target = target[X.index]"
   ]
  },
  {
   "cell_type": "code",
   "execution_count": null,
   "metadata": {},
   "outputs": [],
   "source": [
    "model = sm.OLS(target, X)\n",
    "results = model.fit()\n",
    "print(results.summary())"
   ]
  },
  {
   "cell_type": "code",
   "execution_count": null,
   "metadata": {},
   "outputs": [],
   "source": [
    "from sklearn.linear_model import LinearRegression\n",
    "\n",
    "lr = LinearRegression()\n",
    "\n",
    "lr.fit(X, target)\n",
    "lr.score(X, target)"
   ]
  },
  {
   "cell_type": "code",
   "execution_count": null,
   "metadata": {},
   "outputs": [],
   "source": [
    "X.head()"
   ]
  },
  {
   "cell_type": "code",
   "execution_count": null,
   "metadata": {},
   "outputs": [],
   "source": [
    "lr.coef_"
   ]
  },
  {
   "cell_type": "code",
   "execution_count": null,
   "metadata": {},
   "outputs": [],
   "source": [
    "preds = lr.predict(X)"
   ]
  },
  {
   "cell_type": "code",
   "execution_count": null,
   "metadata": {},
   "outputs": [],
   "source": [
    "preds"
   ]
  },
  {
   "cell_type": "code",
   "execution_count": null,
   "metadata": {},
   "outputs": [],
   "source": [
    "plt.figure(figsize=(100,100))\n",
    "plt.scatter(y=X['arcsin_return_mult_volume'], x=X.index)\n",
    "plt.scatter(y=preds, x=X.index, c='r')"
   ]
  },
  {
   "cell_type": "code",
   "execution_count": null,
   "metadata": {},
   "outputs": [],
   "source": [
    "volume_sine = np.sin((df.index-4)/2) / 30 * df['zscaled_volume']\n",
    "\n",
    "return = np.sin((time - phase_shift) / period) / b_1 * volume\n",
    "\n",
    "time = ?? \n",
    "\n",
    "return * volume = np.sin((time - b_1) / b_2) / b_3\n",
    "b_3 * return * volume = np.sin((time - b_1) / b_2)\n",
    "arcsin(b_3 * return * volume) = (time - b_1) / b_2\n",
    "b_2 * arcsin(b_3 * return * volume) = (time - b_1)\n",
    "b_2 * arcsin(b_3 * return * volume) + b_1 = time\n",
    "time = b_1 * const + b_2 * arcsin(b_3 * return * volume) "
   ]
  },
  {
   "cell_type": "code",
   "execution_count": null,
   "metadata": {},
   "outputs": [],
   "source": [
    "return = np.sin((time - phase_shift) / period) / (const * volume)\n",
    "\n",
    "return * const * volume = np.sin((time - phase_shift) / period)\n",
    "arcsin(return * const * volume) = (time - phase_shift) / period\n",
    "period = (time - phase_shift) / arcsin(return * const * volume)\n",
    "\n"
   ]
  },
  {
   "cell_type": "code",
   "execution_count": null,
   "metadata": {},
   "outputs": [],
   "source": [
    "df['time'] = df.index\n",
    "df.head()"
   ]
  },
  {
   "cell_type": "code",
   "execution_count": null,
   "metadata": {},
   "outputs": [],
   "source": [
    "df[['time', 'return', 'volume', 'arcsin_return_mult_volume']]\n",
    "\n",
    "# period = (time - phase_shift) / arcsin(return * const * volume)\n",
    "# period = (time - b_1) / arcsin(return * b_2 * volume)"
   ]
  },
  {
   "cell_type": "code",
   "execution_count": null,
   "metadata": {},
   "outputs": [],
   "source": []
  }
 ],
 "metadata": {
  "kernelspec": {
   "display_name": "Python 3",
   "language": "python",
   "name": "python3"
  },
  "language_info": {
   "codemirror_mode": {
    "name": "ipython",
    "version": 3
   },
   "file_extension": ".py",
   "mimetype": "text/x-python",
   "name": "python",
   "nbconvert_exporter": "python",
   "pygments_lexer": "ipython3",
   "version": "3.8.5"
  }
 },
 "nbformat": 4,
 "nbformat_minor": 4
}
